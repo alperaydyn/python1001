{
 "cells": [
  {
   "cell_type": "code",
   "execution_count": null,
   "metadata": {
    "ExecuteTime": {
     "end_time": "2022-12-13T10:48:09.660213Z",
     "start_time": "2022-12-13T10:48:09.402908Z"
    }
   },
   "outputs": [],
   "source": [
    "import sys\n",
    "sys.path.append('/data/ECS/PythonTutorial/')\n",
    "import log\n",
    "log.topic_id = '20_VeriAnalizi-numpy-2'"
   ]
  },
  {
   "cell_type": "markdown",
   "metadata": {
    "id": "Ufz67HNUjPIU"
   },
   "source": [
    "## numpy\n",
    "\n",
    "* Numpy bilimsel çalışmalar için çok boyutlu diziler ile çalışmak üzere tasarlanan Python'un en temel paketlerinden birisidir.\n",
    "\n",
    "* Python liste veri tiplerinin aksine bir dizi içerisinde farklı türden veri tiplerini değil aynı türden veri tiplerinin tutulmasını sağlayarak 50 kata kadar hız artışı sağlar\n"
   ]
  },
  {
   "cell_type": "code",
   "execution_count": null,
   "metadata": {
    "ExecuteTime": {
     "end_time": "2022-12-13T10:48:11.901938Z",
     "start_time": "2022-12-13T10:48:11.899646Z"
    }
   },
   "outputs": [],
   "source": [
    "import numpy as np"
   ]
  },
  {
   "cell_type": "markdown",
   "metadata": {
    "id": "7EPovk1cWMCZ"
   },
   "source": [
    "### dizi birleştirme"
   ]
  },
  {
   "cell_type": "code",
   "execution_count": null,
   "metadata": {
    "ExecuteTime": {
     "end_time": "2022-11-28T08:14:59.254218Z",
     "start_time": "2022-11-28T08:14:59.250683Z"
    }
   },
   "outputs": [],
   "source": [
    "[1,2,3] + [4,5,6] # iki list değişkeni \"+\" ile birleştirilirken iki dizi tek eleman bazında birleştirilir"
   ]
  },
  {
   "cell_type": "code",
   "execution_count": null,
   "metadata": {
    "ExecuteTime": {
     "end_time": "2022-12-13T10:49:11.498159Z",
     "start_time": "2022-12-13T10:49:11.495197Z"
    },
    "colab": {
     "base_uri": "https://localhost:8080/"
    },
    "executionInfo": {
     "elapsed": 271,
     "status": "ok",
     "timestamp": 1653685723990,
     "user": {
      "displayName": "Alper Aydın",
      "userId": "16424421511940582464"
     },
     "user_tz": -180
    },
    "id": "4CQqCoXRWQuJ",
    "outputId": "d103926a-2315-4ed2-98ee-eb10564e4b35"
   },
   "outputs": [],
   "source": [
    "a1 = np.array([1,2,3,4,5])\n",
    "a2 = np.array([6,7,8,9,0])"
   ]
  },
  {
   "cell_type": "code",
   "execution_count": null,
   "metadata": {
    "ExecuteTime": {
     "end_time": "2022-12-13T10:49:12.388547Z",
     "start_time": "2022-12-13T10:49:12.384951Z"
    }
   },
   "outputs": [],
   "source": [
    "a1 + a2 # numpy dizileri ise elemanların birbirleriyle toplanmasını sağlar"
   ]
  },
  {
   "cell_type": "code",
   "execution_count": null,
   "metadata": {
    "ExecuteTime": {
     "end_time": "2022-11-28T08:16:01.013162Z",
     "start_time": "2022-11-28T08:16:01.010359Z"
    }
   },
   "outputs": [],
   "source": [
    "an = np.concatenate([a1, a2])\n",
    "print(an)"
   ]
  },
  {
   "cell_type": "markdown",
   "metadata": {
    "id": "du9Bc7TYW-8P"
   },
   "source": [
    "### dizi birleştirme, axis"
   ]
  },
  {
   "cell_type": "code",
   "execution_count": null,
   "metadata": {
    "ExecuteTime": {
     "end_time": "2022-12-13T10:51:23.873556Z",
     "start_time": "2022-12-13T10:51:23.867826Z"
    }
   },
   "outputs": [],
   "source": [
    "a1 = np.array([[1,2,3],[4,5,6]])\n",
    "a2 = np.array([[6,7,8],[9,0,8]])\n",
    "print(a1)\n",
    "print('-'*10)\n",
    "print(a2)"
   ]
  },
  {
   "cell_type": "code",
   "execution_count": null,
   "metadata": {
    "ExecuteTime": {
     "end_time": "2022-11-28T08:17:46.543421Z",
     "start_time": "2022-11-28T08:17:46.540623Z"
    },
    "colab": {
     "base_uri": "https://localhost:8080/"
    },
    "executionInfo": {
     "elapsed": 321,
     "status": "ok",
     "timestamp": 1653685815995,
     "user": {
      "displayName": "Alper Aydın",
      "userId": "16424421511940582464"
     },
     "user_tz": -180
    },
    "id": "xhhNfXDSWvwM",
    "outputId": "4970dc73-4247-4348-a985-64b4912aa9c0"
   },
   "outputs": [],
   "source": [
    "an = np.concatenate([a1, a2], axis=0) # alt-alta birleştirir\n",
    "print(an) "
   ]
  },
  {
   "cell_type": "code",
   "execution_count": null,
   "metadata": {
    "ExecuteTime": {
     "end_time": "2022-11-28T08:17:48.863882Z",
     "start_time": "2022-11-28T08:17:48.861361Z"
    },
    "colab": {
     "base_uri": "https://localhost:8080/"
    },
    "executionInfo": {
     "elapsed": 269,
     "status": "ok",
     "timestamp": 1653685801719,
     "user": {
      "displayName": "Alper Aydın",
      "userId": "16424421511940582464"
     },
     "user_tz": -180
    },
    "id": "af60zODrWdB2",
    "outputId": "6fe23311-9897-4eb2-a56d-90615782d80d"
   },
   "outputs": [],
   "source": [
    "an = np.concatenate([a1, a2], axis=1) # yan yana birleştirir\n",
    "print(an)"
   ]
  },
  {
   "cell_type": "markdown",
   "metadata": {
    "id": "qGujgvSJXCFs"
   },
   "source": [
    "### dizi birleştirme, stack"
   ]
  },
  {
   "cell_type": "code",
   "execution_count": null,
   "metadata": {
    "ExecuteTime": {
     "end_time": "2022-12-13T10:52:49.494495Z",
     "start_time": "2022-12-13T10:52:49.490511Z"
    },
    "colab": {
     "base_uri": "https://localhost:8080/"
    },
    "executionInfo": {
     "elapsed": 298,
     "status": "ok",
     "timestamp": 1653685936208,
     "user": {
      "displayName": "Alper Aydın",
      "userId": "16424421511940582464"
     },
     "user_tz": -180
    },
    "id": "dh05QIqFXFqM",
    "outputId": "d2e00416-48b9-436b-9574-b1321e60794a"
   },
   "outputs": [],
   "source": [
    "a1 = np.array([[1,2,3],[4,5,6]])\n",
    "a2 = np.array([[6,7,8],[9,0,8]])\n",
    "an = np.stack([a1, a2], axis=1)\n",
    "print(an)"
   ]
  },
  {
   "cell_type": "code",
   "execution_count": null,
   "metadata": {
    "ExecuteTime": {
     "end_time": "2022-11-28T08:21:06.191077Z",
     "start_time": "2022-11-28T08:21:06.187523Z"
    },
    "colab": {
     "base_uri": "https://localhost:8080/"
    },
    "executionInfo": {
     "elapsed": 275,
     "status": "ok",
     "timestamp": 1653686024354,
     "user": {
      "displayName": "Alper Aydın",
      "userId": "16424421511940582464"
     },
     "user_tz": -180
    },
    "id": "U-WcQrZuXNx2",
    "outputId": "a48d16ef-c678-4a36-f094-32a874f114b1"
   },
   "outputs": [],
   "source": [
    "a1 = np.array([[1,2,3],[4,5,6]])\n",
    "a2 = np.array([[6,7,8],[9,0,8]])\n",
    "an = np.stack([a1, a2], axis=0)\n",
    "print(an)"
   ]
  },
  {
   "cell_type": "markdown",
   "metadata": {
    "id": "zaJMLJBkXtWH"
   },
   "source": [
    "### dizi birleştirme, vstack, hstack"
   ]
  },
  {
   "cell_type": "code",
   "execution_count": null,
   "metadata": {
    "ExecuteTime": {
     "end_time": "2022-12-13T10:54:00.769148Z",
     "start_time": "2022-12-13T10:54:00.765200Z"
    },
    "colab": {
     "base_uri": "https://localhost:8080/"
    },
    "executionInfo": {
     "elapsed": 288,
     "status": "ok",
     "timestamp": 1653686126347,
     "user": {
      "displayName": "Alper Aydın",
      "userId": "16424421511940582464"
     },
     "user_tz": -180
    },
    "id": "9dqWd5aCXwkD",
    "outputId": "5a7151ff-2969-4f70-9217-023c9e6d37c1"
   },
   "outputs": [],
   "source": [
    "a1 = np.array([1,2,3])\n",
    "a2 = np.array([4,5,6])\n",
    "an = np.vstack([a1, a2])\n",
    "print(an)"
   ]
  },
  {
   "cell_type": "code",
   "execution_count": null,
   "metadata": {
    "ExecuteTime": {
     "end_time": "2022-12-13T10:54:10.253383Z",
     "start_time": "2022-12-13T10:54:10.249679Z"
    },
    "colab": {
     "base_uri": "https://localhost:8080/"
    },
    "executionInfo": {
     "elapsed": 287,
     "status": "ok",
     "timestamp": 1653686174987,
     "user": {
      "displayName": "Alper Aydın",
      "userId": "16424421511940582464"
     },
     "user_tz": -180
    },
    "id": "sesAFxe7X5r3",
    "outputId": "dcb60e7f-64fb-4994-996e-47f85c8ea1f0"
   },
   "outputs": [],
   "source": [
    "a1 = np.array([1,2,3])\n",
    "a2 = np.array([4,5,6])\n",
    "an = np.hstack([a1, a2])\n",
    "print(an)"
   ]
  },
  {
   "cell_type": "code",
   "execution_count": null,
   "metadata": {
    "ExecuteTime": {
     "end_time": "2022-11-28T08:22:58.555233Z",
     "start_time": "2022-11-28T08:22:58.552394Z"
    },
    "colab": {
     "base_uri": "https://localhost:8080/"
    },
    "executionInfo": {
     "elapsed": 4,
     "status": "ok",
     "timestamp": 1653686169642,
     "user": {
      "displayName": "Alper Aydın",
      "userId": "16424421511940582464"
     },
     "user_tz": -180
    },
    "id": "ywzfmj_CYA24",
    "outputId": "9a16bd14-8e8a-4627-d5f7-326f96c591d5"
   },
   "outputs": [],
   "source": [
    "print(np.stack([a1,a2], axis=0))"
   ]
  },
  {
   "cell_type": "code",
   "execution_count": null,
   "metadata": {
    "ExecuteTime": {
     "end_time": "2022-11-28T08:23:10.799635Z",
     "start_time": "2022-11-28T08:23:10.796698Z"
    },
    "colab": {
     "base_uri": "https://localhost:8080/"
    },
    "executionInfo": {
     "elapsed": 290,
     "status": "ok",
     "timestamp": 1653686181205,
     "user": {
      "displayName": "Alper Aydın",
      "userId": "16424421511940582464"
     },
     "user_tz": -180
    },
    "id": "cO1feJBkYIEW",
    "outputId": "642f4b1d-947e-4842-f3ae-aea59b005add"
   },
   "outputs": [],
   "source": [
    "print(np.stack([a1,a2], axis=1))"
   ]
  },
  {
   "cell_type": "markdown",
   "metadata": {
    "id": "VUQUYfveZ39y"
   },
   "source": [
    "### sıralama"
   ]
  },
  {
   "cell_type": "code",
   "execution_count": null,
   "metadata": {
    "ExecuteTime": {
     "end_time": "2022-12-13T10:55:43.446642Z",
     "start_time": "2022-12-13T10:55:43.443117Z"
    },
    "colab": {
     "base_uri": "https://localhost:8080/"
    },
    "executionInfo": {
     "elapsed": 261,
     "status": "ok",
     "timestamp": 1653686651770,
     "user": {
      "displayName": "Alper Aydın",
      "userId": "16424421511940582464"
     },
     "user_tz": -180
    },
    "id": "ruhdg_BdZ5l-",
    "outputId": "274d2ad2-9211-4fcc-8bee-d66738d5113e"
   },
   "outputs": [],
   "source": [
    "a = [1,5,6,9,8,4,2]\n",
    "print(a)\n",
    "print(np.sort(a))\n"
   ]
  },
  {
   "cell_type": "code",
   "execution_count": null,
   "metadata": {
    "ExecuteTime": {
     "end_time": "2022-12-13T10:55:43.743589Z",
     "start_time": "2022-12-13T10:55:43.739297Z"
    },
    "executionInfo": {
     "elapsed": 350,
     "status": "ok",
     "timestamp": 1653687145438,
     "user": {
      "displayName": "Alper Aydın",
      "userId": "16424421511940582464"
     },
     "user_tz": -180
    },
    "id": "fJ72wd7iZ8fY"
   },
   "outputs": [],
   "source": [
    "dtype = [('sube_adi', 'U10'), ('sube_kodu', int)]\n",
    "values = [('Antalya', 56), ('Burdur', 123), ('Kadıköy', 12)]\n",
    "a = np.array(values, dtype=dtype)       # create a structured array\n",
    "display(a)"
   ]
  },
  {
   "cell_type": "code",
   "execution_count": null,
   "metadata": {
    "ExecuteTime": {
     "end_time": "2022-12-13T10:55:44.167843Z",
     "start_time": "2022-12-13T10:55:44.164298Z"
    },
    "colab": {
     "base_uri": "https://localhost:8080/"
    },
    "executionInfo": {
     "elapsed": 389,
     "status": "ok",
     "timestamp": 1653687152704,
     "user": {
      "displayName": "Alper Aydın",
      "userId": "16424421511940582464"
     },
     "user_tz": -180
    },
    "id": "fyW2zhEzb0_l",
    "outputId": "907af06d-3b99-476a-f4db-055ebc7fdeab"
   },
   "outputs": [],
   "source": [
    "np.sort(a, order='sube_kodu')"
   ]
  },
  {
   "cell_type": "code",
   "execution_count": null,
   "metadata": {
    "ExecuteTime": {
     "end_time": "2022-12-13T10:55:45.341849Z",
     "start_time": "2022-12-13T10:55:45.338357Z"
    },
    "colab": {
     "base_uri": "https://localhost:8080/"
    },
    "executionInfo": {
     "elapsed": 251,
     "status": "ok",
     "timestamp": 1653687156599,
     "user": {
      "displayName": "Alper Aydın",
      "userId": "16424421511940582464"
     },
     "user_tz": -180
    },
    "id": "Kkq9_ZDMb2tK",
    "outputId": "b5816e30-4273-4e94-b6f1-8d91b73fca09"
   },
   "outputs": [],
   "source": [
    "np.sort(a, order='sube_adi')"
   ]
  },
  {
   "cell_type": "markdown",
   "metadata": {},
   "source": [
    "### axis:"
   ]
  },
  {
   "cell_type": "code",
   "execution_count": null,
   "metadata": {
    "ExecuteTime": {
     "end_time": "2022-11-28T08:28:18.588605Z",
     "start_time": "2022-11-28T08:28:18.584934Z"
    }
   },
   "outputs": [],
   "source": [
    "a = [[6,5,4],[1,2,3],[8,7,9]]\n",
    "np.array(a)"
   ]
  },
  {
   "cell_type": "code",
   "execution_count": null,
   "metadata": {
    "ExecuteTime": {
     "end_time": "2022-11-28T08:28:27.627658Z",
     "start_time": "2022-11-28T08:28:27.624406Z"
    }
   },
   "outputs": [],
   "source": [
    "np.sort(a, axis=0)"
   ]
  },
  {
   "cell_type": "code",
   "execution_count": null,
   "metadata": {
    "ExecuteTime": {
     "end_time": "2022-11-28T08:28:31.818375Z",
     "start_time": "2022-11-28T08:28:31.815184Z"
    }
   },
   "outputs": [],
   "source": [
    "np.sort(a, axis=1)"
   ]
  },
  {
   "cell_type": "markdown",
   "metadata": {
    "id": "2Z3GCDIFY7cq"
   },
   "source": [
    "### arama\n",
    "\n",
    "arama kriterine uyan dizi elemanlarının index değerlerine ulaşılır."
   ]
  },
  {
   "cell_type": "code",
   "execution_count": null,
   "metadata": {
    "ExecuteTime": {
     "end_time": "2022-12-13T10:58:04.898542Z",
     "start_time": "2022-12-13T10:58:04.893929Z"
    },
    "colab": {
     "base_uri": "https://localhost:8080/"
    },
    "executionInfo": {
     "elapsed": 285,
     "status": "ok",
     "timestamp": 1653686535782,
     "user": {
      "displayName": "Alper Aydın",
      "userId": "16424421511940582464"
     },
     "user_tz": -180
    },
    "id": "2LXb47-fY8qR",
    "outputId": "ef96244b-5708-491b-f17f-39ad5006ff64"
   },
   "outputs": [],
   "source": [
    "a = np.array([1,2,4,5,4,3,5,4,5])\n",
    "np.where(a <= 4) # bulduğu değerlerin indexlerini verir"
   ]
  },
  {
   "cell_type": "code",
   "execution_count": null,
   "metadata": {
    "ExecuteTime": {
     "end_time": "2022-12-13T10:59:43.224783Z",
     "start_time": "2022-12-13T10:59:43.220685Z"
    }
   },
   "outputs": [],
   "source": [
    "a[(np.array([0, 1, 2, 4, 5, 7]),)]"
   ]
  },
  {
   "cell_type": "code",
   "execution_count": null,
   "metadata": {
    "ExecuteTime": {
     "end_time": "2022-12-13T10:59:06.178277Z",
     "start_time": "2022-12-13T10:59:06.174547Z"
    }
   },
   "outputs": [],
   "source": [
    "a[np.where(a <= 4)]"
   ]
  },
  {
   "cell_type": "code",
   "execution_count": null,
   "metadata": {
    "ExecuteTime": {
     "end_time": "2022-12-13T11:00:09.448163Z",
     "start_time": "2022-12-13T11:00:09.444551Z"
    }
   },
   "outputs": [],
   "source": [
    "a<=4"
   ]
  },
  {
   "cell_type": "code",
   "execution_count": null,
   "metadata": {
    "ExecuteTime": {
     "end_time": "2022-12-13T11:00:31.472429Z",
     "start_time": "2022-12-13T11:00:31.468888Z"
    }
   },
   "outputs": [],
   "source": [
    "a[a<=4]"
   ]
  },
  {
   "cell_type": "code",
   "execution_count": null,
   "metadata": {
    "ExecuteTime": {
     "end_time": "2022-12-13T11:00:42.292459Z",
     "start_time": "2022-12-13T11:00:42.284253Z"
    }
   },
   "outputs": [],
   "source": [
    "la = [1,2,4,5,3,5,4,5]\n",
    "la<=4"
   ]
  },
  {
   "cell_type": "markdown",
   "metadata": {
    "id": "7r_Mh4RNeWSZ"
   },
   "source": [
    "### filtreleme"
   ]
  },
  {
   "cell_type": "code",
   "execution_count": null,
   "metadata": {
    "ExecuteTime": {
     "end_time": "2022-11-28T08:35:35.046829Z",
     "start_time": "2022-11-28T08:35:35.043135Z"
    },
    "colab": {
     "base_uri": "https://localhost:8080/"
    },
    "executionInfo": {
     "elapsed": 7,
     "status": "ok",
     "timestamp": 1653687880378,
     "user": {
      "displayName": "Alper Aydın",
      "userId": "16424421511940582464"
     },
     "user_tz": -180
    },
    "id": "b_Z8bovLeXZB",
    "outputId": "8cde7aaa-9a17-4ee6-fb23-f99811220fa6"
   },
   "outputs": [],
   "source": [
    "a = np.array([0,1,2,3,4,5])\n",
    "f = [True, False, True, True, False, False]\n",
    "a[f]"
   ]
  },
  {
   "cell_type": "code",
   "execution_count": null,
   "metadata": {
    "ExecuteTime": {
     "end_time": "2022-11-28T08:35:44.495049Z",
     "start_time": "2022-11-28T08:35:44.491783Z"
    }
   },
   "outputs": [],
   "source": [
    "np.array([1,2,3])<3"
   ]
  },
  {
   "cell_type": "code",
   "execution_count": null,
   "metadata": {
    "ExecuteTime": {
     "end_time": "2022-11-28T08:35:52.285969Z",
     "start_time": "2022-11-28T08:35:52.281977Z"
    },
    "colab": {
     "base_uri": "https://localhost:8080/"
    },
    "executionInfo": {
     "elapsed": 262,
     "status": "ok",
     "timestamp": 1653687934387,
     "user": {
      "displayName": "Alper Aydın",
      "userId": "16424421511940582464"
     },
     "user_tz": -180
    },
    "id": "pR4loKdKepgG",
    "outputId": "710a9a10-d09a-44d1-c018-ae0181bda070"
   },
   "outputs": [],
   "source": [
    "a = np.array([0,1,2,3,4,5])\n",
    "f = a<3\n",
    "a[f]"
   ]
  },
  {
   "cell_type": "code",
   "execution_count": null,
   "metadata": {
    "ExecuteTime": {
     "end_time": "2022-11-28T08:35:53.259662Z",
     "start_time": "2022-11-28T08:35:53.256263Z"
    },
    "colab": {
     "base_uri": "https://localhost:8080/"
    },
    "executionInfo": {
     "elapsed": 8,
     "status": "ok",
     "timestamp": 1653687938750,
     "user": {
      "displayName": "Alper Aydın",
      "userId": "16424421511940582464"
     },
     "user_tz": -180
    },
    "id": "AK9i-sK3e1nx",
    "outputId": "90a5ad53-b9e1-4aa8-f1b4-6e8383460619"
   },
   "outputs": [],
   "source": [
    "a = np.array([0,1,2,3,4,5])\n",
    "f = a>3\n",
    "print(f)\n",
    "a[f]"
   ]
  },
  {
   "cell_type": "code",
   "execution_count": null,
   "metadata": {
    "ExecuteTime": {
     "end_time": "2022-12-13T12:10:18.749296Z",
     "start_time": "2022-12-13T12:10:18.745314Z"
    }
   },
   "outputs": [],
   "source": [
    "a = np.array([0,1,2,3,4,5])\n",
    "a[(a<3) | (a>4)]"
   ]
  },
  {
   "cell_type": "code",
   "execution_count": null,
   "metadata": {
    "ExecuteTime": {
     "end_time": "2022-12-13T12:10:21.283549Z",
     "start_time": "2022-12-13T12:10:21.278417Z"
    }
   },
   "outputs": [],
   "source": [
    "a<3"
   ]
  },
  {
   "cell_type": "code",
   "execution_count": null,
   "metadata": {
    "ExecuteTime": {
     "end_time": "2022-12-13T12:10:27.563730Z",
     "start_time": "2022-12-13T12:10:27.560515Z"
    }
   },
   "outputs": [],
   "source": [
    "a>4"
   ]
  },
  {
   "cell_type": "code",
   "execution_count": null,
   "metadata": {
    "ExecuteTime": {
     "end_time": "2022-12-13T12:10:44.512335Z",
     "start_time": "2022-12-13T12:10:44.508991Z"
    }
   },
   "outputs": [],
   "source": [
    "(a<3) | (a>4)"
   ]
  },
  {
   "cell_type": "code",
   "execution_count": null,
   "metadata": {
    "ExecuteTime": {
     "end_time": "2022-12-13T12:11:29.965163Z",
     "start_time": "2022-12-13T12:11:29.955985Z"
    }
   },
   "outputs": [],
   "source": [
    "a[(a<3) | (a>4)]"
   ]
  },
  {
   "cell_type": "code",
   "execution_count": null,
   "metadata": {},
   "outputs": [],
   "source": []
  },
  {
   "cell_type": "markdown",
   "metadata": {},
   "source": [
    "**list comprehension ile filtre oluşturma**"
   ]
  },
  {
   "cell_type": "code",
   "execution_count": null,
   "metadata": {
    "ExecuteTime": {
     "end_time": "2022-12-13T12:12:48.861754Z",
     "start_time": "2022-12-13T12:12:35.804982Z"
    },
    "colab": {
     "base_uri": "https://localhost:8080/"
    },
    "executionInfo": {
     "elapsed": 267,
     "status": "ok",
     "timestamp": 1653688092263,
     "user": {
      "displayName": "Alper Aydın",
      "userId": "16424421511940582464"
     },
     "user_tz": -180
    },
    "id": "SsfkLHNle-bw",
    "outputId": "4f0e5d8a-0d46-4bac-904e-ffaeac10bf05"
   },
   "outputs": [],
   "source": [
    "%%timeit\n",
    "a = np.arange(200000)\n",
    "f = [ ((x>10) and (x<=20)) or (x % 5 == 0)\n",
    "     for x in a\n",
    "    ]"
   ]
  },
  {
   "cell_type": "markdown",
   "metadata": {},
   "source": [
    "**numpy array ile filtre oluşturma**"
   ]
  },
  {
   "cell_type": "code",
   "execution_count": null,
   "metadata": {
    "ExecuteTime": {
     "end_time": "2022-12-13T12:13:21.360199Z",
     "start_time": "2022-12-13T12:13:17.148878Z"
    }
   },
   "outputs": [],
   "source": [
    "%%timeit\n",
    "na = np.array(a)\n",
    "f = ((na>10) & (na<=20)) | (na % 5 == 0)"
   ]
  },
  {
   "cell_type": "code",
   "execution_count": null,
   "metadata": {
    "ExecuteTime": {
     "end_time": "2022-12-13T12:13:47.228260Z",
     "start_time": "2022-12-13T12:13:47.223984Z"
    }
   },
   "outputs": [],
   "source": [
    "na = np.array(a)\n",
    "f = ((na>10) & (na<=20)) | (na % 5 == 0)\n",
    "na[f][:50]"
   ]
  },
  {
   "cell_type": "markdown",
   "metadata": {},
   "source": [
    "### Pickle Örnek"
   ]
  },
  {
   "cell_type": "code",
   "execution_count": null,
   "metadata": {
    "ExecuteTime": {
     "end_time": "2022-12-13T12:20:20.459223Z",
     "start_time": "2022-12-13T12:20:20.456074Z"
    }
   },
   "outputs": [],
   "source": [
    "import pickle as pkl\n",
    "\n",
    "a = {\n",
    "    'calisma1': na,\n",
    "    'calisma2': a,\n",
    "    'calisma3': f\n",
    "}\n",
    "pkl.dump(a, open(\"/data/ECS/data/denem123.pkl\",\"wb\"))"
   ]
  },
  {
   "cell_type": "code",
   "execution_count": null,
   "metadata": {
    "ExecuteTime": {
     "end_time": "2022-12-13T12:20:20.810342Z",
     "start_time": "2022-12-13T12:20:20.745524Z"
    }
   },
   "outputs": [],
   "source": [
    "a"
   ]
  },
  {
   "cell_type": "code",
   "execution_count": null,
   "metadata": {
    "ExecuteTime": {
     "end_time": "2022-12-13T12:20:21.392659Z",
     "start_time": "2022-12-13T12:20:21.384809Z"
    }
   },
   "outputs": [],
   "source": [
    "import pickle as pkl\n",
    "a = pkl.load(open(\"/data/ECS/data/denem123.pkl\",\"rb\"))\n",
    "calisma1 = a['calisma1']\n",
    "calisma1"
   ]
  },
  {
   "cell_type": "code",
   "execution_count": null,
   "metadata": {
    "ExecuteTime": {
     "end_time": "2022-12-13T12:20:22.101193Z",
     "start_time": "2022-12-13T12:20:22.069532Z"
    }
   },
   "outputs": [],
   "source": [
    "import pickle as pkl\n",
    "a = pkl.load(open(\"/data/ECS/data/denem123.pkl\",\"rb\"))\n",
    "calisma2 = a['calisma2']\n",
    "calisma2"
   ]
  },
  {
   "cell_type": "code",
   "execution_count": null,
   "metadata": {
    "ExecuteTime": {
     "end_time": "2022-12-13T12:20:22.468886Z",
     "start_time": "2022-12-13T12:20:22.464262Z"
    }
   },
   "outputs": [],
   "source": [
    "import pickle as pkl\n",
    "a = pkl.load(open(\"/data/ECS/data/denem123.pkl\",\"rb\"))\n",
    "calisma3 = a['calisma3']\n",
    "calisma3"
   ]
  },
  {
   "cell_type": "markdown",
   "metadata": {},
   "source": [
    "### Numpy filtre örnek"
   ]
  },
  {
   "cell_type": "code",
   "execution_count": null,
   "metadata": {
    "ExecuteTime": {
     "end_time": "2022-12-13T12:21:19.294711Z",
     "start_time": "2022-12-13T12:21:19.279987Z"
    }
   },
   "outputs": [],
   "source": [
    "import pandas as pd\n",
    "df = pd.DataFrame(pkl.load(open('/data/ECS/data/PK_mahalleler.pkl','rb')))\n",
    "posta_kodlari = np.array(df.Posta_Kodu.astype(int))\n",
    "posta_kodlari"
   ]
  },
  {
   "cell_type": "code",
   "execution_count": null,
   "metadata": {
    "ExecuteTime": {
     "end_time": "2022-12-13T12:21:38.105334Z",
     "start_time": "2022-12-13T12:21:38.097291Z"
    }
   },
   "outputs": [],
   "source": [
    "posta_kodlari[(posta_kodlari>1700) & (posta_kodlari<1900)]"
   ]
  },
  {
   "cell_type": "markdown",
   "metadata": {
    "id": "nY2WHSMNfpyK"
   },
   "source": [
    "### vektörleştirme (!önemli)\n",
    "\n",
    "Numpy dizilerinin verimli çalışmasını sağlayan özelliklerden birisi de UFunc (Universal Functions) adı verilen fonksiyonlardır.\n",
    "\n",
    "Vektörizasyon ise diziler ile yapılan döngüsel işlemlerin (for loop, while loop, vs) CPU üzerinde daha optimize çalışacak şekilde dönüştürülmesi işlemidir."
   ]
  },
  {
   "cell_type": "code",
   "execution_count": null,
   "metadata": {
    "ExecuteTime": {
     "end_time": "2022-11-28T09:15:19.656694Z",
     "start_time": "2022-11-28T09:15:15.928914Z"
    },
    "colab": {
     "base_uri": "https://localhost:8080/"
    },
    "executionInfo": {
     "elapsed": 5245,
     "status": "ok",
     "timestamp": 1653688601279,
     "user": {
      "displayName": "Alper Aydın",
      "userId": "16424421511940582464"
     },
     "user_tz": -180
    },
    "id": "r1d--y-UfrSP",
    "outputId": "7eb71924-8bd4-468d-a722-d3aea47ad8de"
   },
   "outputs": [],
   "source": [
    "%%time\n",
    "k = 10000000\n",
    "a1 = np.arange(k)\n",
    "a2 = np.arange(k)\n",
    "an = []\n",
    "for i in range(k):\n",
    "    an.append(a1[i] + a2[i])"
   ]
  },
  {
   "cell_type": "code",
   "execution_count": null,
   "metadata": {
    "ExecuteTime": {
     "end_time": "2022-11-28T09:15:33.873698Z",
     "start_time": "2022-11-28T09:15:30.278268Z"
    },
    "colab": {
     "base_uri": "https://localhost:8080/"
    },
    "executionInfo": {
     "elapsed": 3623,
     "status": "ok",
     "timestamp": 1653688683020,
     "user": {
      "displayName": "Alper Aydın",
      "userId": "16424421511940582464"
     },
     "user_tz": -180
    },
    "id": "IzT-Rknlhil-",
    "outputId": "41e172b5-d113-4483-c6bc-6382b390a605"
   },
   "outputs": [],
   "source": [
    "%%time\n",
    "an = []\n",
    "for i, j in zip(a1, a2):\n",
    "    an.append(i + j)"
   ]
  },
  {
   "cell_type": "code",
   "execution_count": null,
   "metadata": {
    "ExecuteTime": {
     "end_time": "2022-11-28T09:15:47.979704Z",
     "start_time": "2022-11-28T09:15:44.301081Z"
    }
   },
   "outputs": [],
   "source": [
    "list(zip(a1, a2))[:10]"
   ]
  },
  {
   "cell_type": "code",
   "execution_count": null,
   "metadata": {
    "ExecuteTime": {
     "end_time": "2022-11-28T09:15:58.014295Z",
     "start_time": "2022-11-28T09:15:58.010682Z"
    },
    "colab": {
     "base_uri": "https://localhost:8080/"
    },
    "executionInfo": {
     "elapsed": 6,
     "status": "ok",
     "timestamp": 1653688620044,
     "user": {
      "displayName": "Alper Aydın",
      "userId": "16424421511940582464"
     },
     "user_tz": -180
    },
    "id": "DsJDoEfmhaIR",
    "outputId": "2ef1eafd-c9e6-4fb7-83f6-fcfa2b2c69e2"
   },
   "outputs": [],
   "source": [
    "%%time\n",
    "type(np.add)"
   ]
  },
  {
   "cell_type": "code",
   "execution_count": null,
   "metadata": {
    "ExecuteTime": {
     "end_time": "2022-11-28T09:16:08.069030Z",
     "start_time": "2022-11-28T09:16:08.066207Z"
    }
   },
   "outputs": [],
   "source": [
    "def padd(a,b):\n",
    "    return a+b\n",
    "type(padd)"
   ]
  },
  {
   "cell_type": "markdown",
   "metadata": {
    "id": "kjmjU-zWh26g"
   },
   "source": [
    "### kendi ufunc'ımızı oluşturma"
   ]
  },
  {
   "cell_type": "code",
   "execution_count": null,
   "metadata": {
    "ExecuteTime": {
     "end_time": "2022-11-28T09:16:51.031719Z",
     "start_time": "2022-11-28T09:16:50.351330Z"
    }
   },
   "outputs": [],
   "source": [
    "k = 5000000\n",
    "a1 = np.arange(1,k)\n",
    "a2 = np.arange(1,k)\n",
    "an = np.stack([a1,a2], axis=1)\n",
    "\n",
    "def myfunc(a, b):\n",
    "    return np.log(a) + b"
   ]
  },
  {
   "cell_type": "code",
   "execution_count": null,
   "metadata": {
    "ExecuteTime": {
     "end_time": "2022-11-28T09:17:02.182774Z",
     "start_time": "2022-11-28T09:16:51.199330Z"
    },
    "colab": {
     "base_uri": "https://localhost:8080/"
    },
    "executionInfo": {
     "elapsed": 19007,
     "status": "ok",
     "timestamp": 1653689326308,
     "user": {
      "displayName": "Alper Aydın",
      "userId": "16424421511940582464"
     },
     "user_tz": -180
    },
    "id": "UccjjNchh8BD",
    "outputId": "acadbd4d-74db-409a-9cbe-bbf9a25272b4"
   },
   "outputs": [],
   "source": [
    "%%time\n",
    "[myfunc(a,b) for a,b in an]"
   ]
  },
  {
   "cell_type": "code",
   "execution_count": null,
   "metadata": {
    "ExecuteTime": {
     "end_time": "2022-11-28T09:17:02.212223Z",
     "start_time": "2022-11-28T09:17:02.209821Z"
    },
    "colab": {
     "base_uri": "https://localhost:8080/"
    },
    "executionInfo": {
     "elapsed": 2,
     "status": "ok",
     "timestamp": 1653689385404,
     "user": {
      "displayName": "Alper Aydın",
      "userId": "16424421511940582464"
     },
     "user_tz": -180
    },
    "id": "KQipflksjx4h",
    "outputId": "7d1c0602-22b6-49c8-d580-4fabd16868a5"
   },
   "outputs": [],
   "source": [
    "myfunc_v = np.frompyfunc(myfunc, 2, 1) # vektörize edilecek fonksiyon, girdi sayısı, çıktı sayısı\n",
    "print(type(myfunc))\n",
    "print(type(myfunc_v))"
   ]
  },
  {
   "cell_type": "code",
   "execution_count": null,
   "metadata": {
    "ExecuteTime": {
     "end_time": "2022-11-28T09:17:25.604612Z",
     "start_time": "2022-11-28T09:17:19.312672Z"
    },
    "colab": {
     "base_uri": "https://localhost:8080/"
    },
    "executionInfo": {
     "elapsed": 7923,
     "status": "ok",
     "timestamp": 1653689334227,
     "user": {
      "displayName": "Alper Aydın",
      "userId": "16424421511940582464"
     },
     "user_tz": -180
    },
    "id": "ZY5iXnPijLg2",
    "outputId": "6f4b86f9-6b50-4202-8fa6-4cc29a81bff4"
   },
   "outputs": [],
   "source": [
    "%%time\n",
    "myfunc_v(a1, a2)"
   ]
  },
  {
   "cell_type": "code",
   "execution_count": null,
   "metadata": {
    "ExecuteTime": {
     "end_time": "2022-11-28T09:25:43.745779Z",
     "start_time": "2022-11-28T09:25:42.021660Z"
    }
   },
   "outputs": [],
   "source": [
    "import cx_Oracle \n",
    "\n",
    "def get_data():\n",
    "    os.environ['ORACLE_HOME'] = \"/data/app/oracle/product/12.2.0/client_1/\"\n",
    "    conn = cx_Oracle.connect('alperayd', sifre, 'pgarsnb1rw.fw.garanti.com.tr:4520/pgarsnb1b')\n",
    "    return conn\n",
    "\n",
    "myfunc_v = np.frompyfunc(get_data, 0, 1)\n",
    "myfunc_v(a1[:10])"
   ]
  },
  {
   "cell_type": "markdown",
   "metadata": {
    "id": "RSzqzzgIkhRP"
   },
   "source": [
    "### temel numpy fonksiyonlar"
   ]
  },
  {
   "cell_type": "code",
   "execution_count": null,
   "metadata": {
    "ExecuteTime": {
     "end_time": "2022-12-13T12:23:47.213117Z",
     "start_time": "2022-12-13T12:23:47.209912Z"
    }
   },
   "outputs": [],
   "source": [
    "print(a1)\n",
    "print('-------')\n",
    "print(a2)"
   ]
  },
  {
   "cell_type": "code",
   "execution_count": null,
   "metadata": {
    "ExecuteTime": {
     "end_time": "2022-12-13T12:25:51.606155Z",
     "start_time": "2022-12-13T12:25:51.595269Z"
    },
    "colab": {
     "base_uri": "https://localhost:8080/"
    },
    "executionInfo": {
     "elapsed": 1349,
     "status": "ok",
     "timestamp": 1653690002408,
     "user": {
      "displayName": "Alper Aydın",
      "userId": "16424421511940582464"
     },
     "user_tz": -180
    },
    "id": "-FZ8iodfkjxH",
    "outputId": "e52b099f-0b38-4081-cb6e-1b4e5152bb70"
   },
   "outputs": [],
   "source": [
    "np.add(a1, a2)\n",
    "np.subtract(a1, a2)\n",
    "np.multiply(a1, a2)\n",
    "np.divide(a1, a2)\n",
    "np.power(a1, a2)\n",
    "np.mod(a1, a2)\n",
    "np.round(np.divide(a1, a2))\n",
    "np.log(a1)\n",
    "np.log2(a1)\n",
    "np.log10(a1)\n",
    "np.sum([1,2,3,4,5]) # 15\n",
    "np.cumsum([1,2,3,4,5]) # array([ 1,  3,  6, 10, 15])\n",
    "np.prod([1,2,3,4,5]) # 120\n",
    "np.prod([[1,2,3,4,5], [2,4,6,8,10]], axis=0) # array([ 2,  8, 18, 32, 50])\n",
    "np.prod([[1,2,3,4,5], [2,4,6,8,10]], axis=1) # array([ 120, 3840])\n",
    "np.cumprod([1,2,3,4,5])                      # array([  1,   2,   6,  24, 120])\n",
    "np.diff([[1,2,3,4,5], [2,4,6,8,10]], axis=0) # array([[1, 2, 3, 4, 5]])\n",
    "np.diff([[1,2,3,4,5], [2,4,6,8,10]], axis=1) # array([[1, 1, 1, 1], [2, 2, 2, 2]])"
   ]
  },
  {
   "cell_type": "markdown",
   "metadata": {
    "id": "QKwB3iuVnVRK"
   },
   "source": [
    "### numpy ile doğrusal denklem çözme"
   ]
  },
  {
   "cell_type": "code",
   "execution_count": null,
   "metadata": {
    "ExecuteTime": {
     "end_time": "2022-12-13T12:27:32.759033Z",
     "start_time": "2022-12-13T12:27:32.755929Z"
    },
    "executionInfo": {
     "elapsed": 6,
     "status": "ok",
     "timestamp": 1653690822003,
     "user": {
      "displayName": "Alper Aydın",
      "userId": "16424421511940582464"
     },
     "user_tz": -180
    },
    "id": "ejIux6yenXK1"
   },
   "outputs": [],
   "source": [
    "#  x + 3y  = 10\n",
    "#  x - 2y -  z = -6\n",
    "# 2x +  y + 2z = 10\n",
    "\n",
    "a = [\n",
    "     [1,  3,  0],\n",
    "     [1, -2, -1],\n",
    "     [2,  1,  2]\n",
    "    ]\n",
    "b = [10, -6, 10]"
   ]
  },
  {
   "cell_type": "code",
   "execution_count": null,
   "metadata": {
    "ExecuteTime": {
     "end_time": "2022-12-13T12:27:33.206206Z",
     "start_time": "2022-12-13T12:27:33.202886Z"
    },
    "colab": {
     "base_uri": "https://localhost:8080/"
    },
    "executionInfo": {
     "elapsed": 7,
     "status": "ok",
     "timestamp": 1653690921866,
     "user": {
      "displayName": "Alper Aydın",
      "userId": "16424421511940582464"
     },
     "user_tz": -180
    },
    "id": "MdP3kIJNn-Hq",
    "outputId": "957cf289-a0f7-41ad-ea2f-1c4f6f074734"
   },
   "outputs": [],
   "source": [
    "A = np.array(a)\n",
    "B = np.array(b)\n",
    "x = np.linalg.solve(A,B)\n",
    "print(x)"
   ]
  },
  {
   "cell_type": "code",
   "execution_count": null,
   "metadata": {},
   "outputs": [],
   "source": []
  },
  {
   "cell_type": "code",
   "execution_count": null,
   "metadata": {
    "ExecuteTime": {
     "end_time": "2022-11-28T09:32:12.106104Z",
     "start_time": "2022-11-28T09:32:12.102585Z"
    },
    "colab": {
     "base_uri": "https://localhost:8080/"
    },
    "executionInfo": {
     "elapsed": 8,
     "status": "ok",
     "timestamp": 1653690072651,
     "user": {
      "displayName": "Alper Aydın",
      "userId": "16424421511940582464"
     },
     "user_tz": -180
    },
    "id": "kJrILuyhmuPt",
    "outputId": "c04c5ba0-72d6-4483-ec22-d46bc893f023"
   },
   "outputs": [],
   "source": [
    "np.lcm.reduce([3,6,9]) # EKOK: 18\n",
    "np.gcd.reduce([3,6,9]) # EBOB: 3"
   ]
  }
 ],
 "metadata": {
  "kernelspec": {
   "display_name": "Python 3",
   "language": "python",
   "name": "python3"
  },
  "language_info": {
   "codemirror_mode": {
    "name": "ipython",
    "version": 3
   },
   "file_extension": ".py",
   "mimetype": "text/x-python",
   "name": "python",
   "nbconvert_exporter": "python",
   "pygments_lexer": "ipython3",
   "version": "3.7.6"
  },
  "toc": {
   "base_numbering": 1,
   "nav_menu": {},
   "number_sections": true,
   "sideBar": true,
   "skip_h1_title": false,
   "title_cell": "Table of Contents",
   "title_sidebar": "Contents",
   "toc_cell": false,
   "toc_position": {
    "height": "calc(100% - 180px)",
    "left": "10px",
    "top": "150px",
    "width": "322.594px"
   },
   "toc_section_display": true,
   "toc_window_display": true
  },
  "varInspector": {
   "cols": {
    "lenName": 16,
    "lenType": 16,
    "lenVar": 40
   },
   "kernels_config": {
    "python": {
     "delete_cmd_postfix": "",
     "delete_cmd_prefix": "del ",
     "library": "var_list.py",
     "varRefreshCmd": "print(var_dic_list())"
    },
    "r": {
     "delete_cmd_postfix": ") ",
     "delete_cmd_prefix": "rm(",
     "library": "var_list.r",
     "varRefreshCmd": "cat(var_dic_list()) "
    }
   },
   "position": {
    "height": "181.844px",
    "left": "1564.66px",
    "right": "20px",
    "top": "115px",
    "width": "342.766px"
   },
   "types_to_exclude": [
    "module",
    "function",
    "builtin_function_or_method",
    "instance",
    "_Feature"
   ],
   "window_display": true
  }
 },
 "nbformat": 4,
 "nbformat_minor": 4
}
