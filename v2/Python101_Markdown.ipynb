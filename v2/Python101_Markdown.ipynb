{
 "cells": [
  {
   "cell_type": "markdown",
   "metadata": {},
   "source": [
    "<div class='alert alert-info h1'>Başlıklar</div>"
   ]
  },
  {
   "cell_type": "markdown",
   "metadata": {},
   "source": [
    "\\# Birinci Seviye Başlık\n",
    "\n",
    "# Birinci Seviye"
   ]
  },
  {
   "cell_type": "markdown",
   "metadata": {
    "ExecuteTime": {
     "end_time": "2022-11-15T13:53:39.803273Z",
     "start_time": "2022-11-15T13:53:39.765261Z"
    }
   },
   "source": [
    "\\## İkinci Seviye Başlık\n",
    "## İkinci Seviye\n"
   ]
  },
  {
   "cell_type": "markdown",
   "metadata": {},
   "source": [
    "\\### Üçüncü Seviye Başlık\n",
    "### Üçüncü Seviye"
   ]
  },
  {
   "cell_type": "markdown",
   "metadata": {},
   "source": [
    "\\#### Dördüncü Seviye\n",
    "#### Dördüncü Seviye"
   ]
  },
  {
   "cell_type": "markdown",
   "metadata": {},
   "source": [
    "\\##### Beşinci Seviye\n",
    "##### Beşinci Seviye"
   ]
  },
  {
   "cell_type": "markdown",
   "metadata": {},
   "source": [
    "\\###### Altıncı Seviye\n",
    "###### Altıncı Seviye"
   ]
  },
  {
   "cell_type": "markdown",
   "metadata": {},
   "source": [
    "<div class='alert alert-info h1'>Metin Formatlama</div>"
   ]
  },
  {
   "cell_type": "markdown",
   "metadata": {},
   "source": [
    "**\\*italik***\n",
    "\n",
    "*italik*"
   ]
  },
  {
   "cell_type": "markdown",
   "metadata": {},
   "source": [
    "**\\_italik_**\n",
    "\n",
    "_italik_"
   ]
  },
  {
   "cell_type": "markdown",
   "metadata": {},
   "source": [
    "**\\*\\*bold****\n",
    "\n",
    "**bold**"
   ]
  },
  {
   "cell_type": "markdown",
   "metadata": {},
   "source": [
    "**\\_\\_bold\\_\\_**\n",
    "\n",
    "__bold__"
   ]
  },
  {
   "cell_type": "markdown",
   "metadata": {},
   "source": [
    "<div class='alert alert-info h1'>Listeler</div>"
   ]
  },
  {
   "cell_type": "markdown",
   "metadata": {},
   "source": [
    "<span class='h2'>Örnek 1</span><hr/>"
   ]
  },
  {
   "cell_type": "markdown",
   "metadata": {},
   "source": [
    "* Liste 1\n",
    "* Liste 2"
   ]
  },
  {
   "cell_type": "markdown",
   "metadata": {},
   "source": [
    "* Liste 1\n",
    "* Liste 2"
   ]
  },
  {
   "cell_type": "markdown",
   "metadata": {},
   "source": [
    "<span class='h2'>Örnek 2</span><hr/>"
   ]
  },
  {
   "cell_type": "markdown",
   "metadata": {},
   "source": [
    "* Liste 1\n",
    "    - Alt başlık 1\n",
    "    - Alt başlık 2\n",
    "* Liste 2\n",
    "    - Alt başlık 3\n",
    "    - Alt başlık 4"
   ]
  },
  {
   "cell_type": "markdown",
   "metadata": {},
   "source": [
    "* Liste 1\n",
    "    - Alt başlık 1\n",
    "    - Alt başlık 2\n",
    "* Liste 2\n",
    "    - Alt başlık 3\n",
    "    - Alt başlık 4"
   ]
  },
  {
   "cell_type": "markdown",
   "metadata": {},
   "source": [
    "<span class='h2'>Örnek 3</span><hr/>"
   ]
  },
  {
   "cell_type": "markdown",
   "metadata": {},
   "source": [
    "1. Liste 1\n",
    "2. Liste 2\n",
    "3. Liste 3"
   ]
  },
  {
   "cell_type": "markdown",
   "metadata": {
    "ExecuteTime": {
     "end_time": "2022-11-15T16:28:35.505628Z",
     "start_time": "2022-11-15T16:28:35.502581Z"
    }
   },
   "source": [
    "1. Liste 1\n",
    "2. Liste 2\n",
    "3. Liste 3"
   ]
  },
  {
   "cell_type": "markdown",
   "metadata": {},
   "source": [
    "<div class='alert alert-info h1'>Linkler ve Resimler</div>"
   ]
  },
  {
   "cell_type": "markdown",
   "metadata": {},
   "source": [
    "<span class='h2'>Örnek 1 - Resim Ekleme</span>"
   ]
  },
  {
   "cell_type": "markdown",
   "metadata": {
    "ExecuteTime": {
     "end_time": "2022-11-15T16:27:57.961306Z",
     "start_time": "2022-11-15T16:27:57.825959Z"
    }
   },
   "source": [
    "![Resim 1](https://upload.wikimedia.org/wikipedia/tr/7/75/Garanti_BBVA.png)"
   ]
  },
  {
   "cell_type": "markdown",
   "metadata": {},
   "source": [
    "![Resim 1](https://upload.wikimedia.org/wikipedia/tr/7/75/Garanti_BBVA.png)"
   ]
  },
  {
   "cell_type": "markdown",
   "metadata": {},
   "source": [
    "<span class='h2'>Örnek 2 - Link Ekleme</span>"
   ]
  },
  {
   "cell_type": "code",
   "execution_count": null,
   "metadata": {},
   "outputs": [],
   "source": [
    "[Tıklayın](https://garantibbva.com.tr/)"
   ]
  },
  {
   "cell_type": "markdown",
   "metadata": {
    "ExecuteTime": {
     "end_time": "2022-11-15T16:31:48.707708Z",
     "start_time": "2022-11-15T16:31:48.704772Z"
    }
   },
   "source": [
    "[Tıklayın](https://garantibbva.com.tr/)"
   ]
  },
  {
   "cell_type": "markdown",
   "metadata": {},
   "source": [
    "<div class='alert alert-info h1'>Alıntılar</div>"
   ]
  },
  {
   "cell_type": "markdown",
   "metadata": {},
   "source": [
    "<span class='h2'>Örnek 1</span>"
   ]
  },
  {
   "cell_type": "markdown",
   "metadata": {},
   "source": [
    "> Bu bir alıntıdır"
   ]
  },
  {
   "cell_type": "markdown",
   "metadata": {},
   "source": [
    "> Bu bir alıntıdır"
   ]
  },
  {
   "cell_type": "markdown",
   "metadata": {},
   "source": [
    "<div class='alert alert-info h1'>Onay Kutuları</div>"
   ]
  },
  {
   "cell_type": "markdown",
   "metadata": {},
   "source": [
    "- [x] Görev 1\n",
    "- [ ] Görev 2\n",
    "- [ ] Görev 3"
   ]
  },
  {
   "cell_type": "markdown",
   "metadata": {},
   "source": [
    "- [x] Görev 1\n",
    "- [ ] Görev 2\n",
    "- [ ] Görev 3"
   ]
  },
  {
   "cell_type": "markdown",
   "metadata": {},
   "source": [
    "<div class='alert alert-info h1'>Kod Parçacıkları</div>"
   ]
  },
  {
   "cell_type": "markdown",
   "metadata": {
    "ExecuteTime": {
     "end_time": "2022-11-15T16:37:51.752320Z",
     "start_time": "2022-11-15T16:37:51.749088Z"
    }
   },
   "source": [
    "```python\n",
    "import sys\n",
    "sys.path.append('/data/ECS/PythonTutorial/')\n",
    "import log\n",
    "import imp\n",
    "imp.reload(log)\n",
    "```"
   ]
  },
  {
   "cell_type": "markdown",
   "metadata": {},
   "source": [
    "```python\n",
    "import sys\n",
    "sys.path.append('/data/ECS/PythonTutorial/')\n",
    "import log\n",
    "import imp\n",
    "imp.reload(log)\n",
    "```"
   ]
  },
  {
   "cell_type": "markdown",
   "metadata": {},
   "source": [
    "<div class='alert alert-info h1'>Görsel Eklentiler</div>"
   ]
  },
  {
   "cell_type": "markdown",
   "metadata": {},
   "source": [
    "<span class='h3'>Yatay Çizgi</span>"
   ]
  },
  {
   "cell_type": "markdown",
   "metadata": {},
   "source": [
    "* * *"
   ]
  },
  {
   "cell_type": "markdown",
   "metadata": {
    "ExecuteTime": {
     "end_time": "2022-11-15T16:49:11.749389Z",
     "start_time": "2022-11-15T16:49:11.746203Z"
    }
   },
   "source": [
    "* * *"
   ]
  },
  {
   "cell_type": "markdown",
   "metadata": {
    "ExecuteTime": {
     "end_time": "2022-11-15T16:50:17.605149Z",
     "start_time": "2022-11-15T16:50:17.601888Z"
    }
   },
   "source": [
    "<span class='h3'>Yatay Çizgi</span>"
   ]
  },
  {
   "cell_type": "code",
   "execution_count": null,
   "metadata": {},
   "outputs": [],
   "source": [
    "---"
   ]
  },
  {
   "cell_type": "markdown",
   "metadata": {},
   "source": [
    "---"
   ]
  },
  {
   "cell_type": "markdown",
   "metadata": {
    "ExecuteTime": {
     "end_time": "2022-11-15T16:50:30.244164Z",
     "start_time": "2022-11-15T16:50:30.241306Z"
    }
   },
   "source": [
    "<span class='h3'>Tablo</span>"
   ]
  },
  {
   "cell_type": "markdown",
   "metadata": {},
   "source": [
    "Sütun 1|Sütun 2|Sütun 3\n",
    "----|----|---\n",
    "abc | 123| xy\n",
    "def | 456| zw\n",
    "ghj | 789| qa"
   ]
  },
  {
   "cell_type": "markdown",
   "metadata": {},
   "source": [
    "Sütun 1|Sütun 2|Sütun 3\n",
    "----|----|---\n",
    "abc | 123| xy\n",
    "def | 456| zw\n",
    "ghj | 789| qa"
   ]
  },
  {
   "cell_type": "markdown",
   "metadata": {},
   "source": [
    "<div class='alert alert-info h1'>HTML</div>"
   ]
  },
  {
   "cell_type": "markdown",
   "metadata": {},
   "source": [
    "<div style='width:180px; height:30px; background-color:#dab; padding:50px 0; text-align:center'>renkli kutu</div>"
   ]
  },
  {
   "cell_type": "markdown",
   "metadata": {},
   "source": [
    "<div style='width:180px; height:30px; background-color:#dab; padding:50px 0; text-align:center'>renkli kutu</div>"
   ]
  },
  {
   "cell_type": "code",
   "execution_count": null,
   "metadata": {},
   "outputs": [],
   "source": []
  }
 ],
 "metadata": {
  "kernelspec": {
   "display_name": "ECS4",
   "language": "python",
   "name": "ecs4"
  },
  "language_info": {
   "codemirror_mode": {
    "name": "ipython",
    "version": 3
   },
   "file_extension": ".py",
   "mimetype": "text/x-python",
   "name": "python",
   "nbconvert_exporter": "python",
   "pygments_lexer": "ipython3",
   "version": "3.7.6"
  },
  "toc": {
   "base_numbering": 1,
   "nav_menu": {},
   "number_sections": true,
   "sideBar": true,
   "skip_h1_title": false,
   "title_cell": "Table of Contents",
   "title_sidebar": "Contents",
   "toc_cell": false,
   "toc_position": {},
   "toc_section_display": true,
   "toc_window_display": false
  },
  "varInspector": {
   "cols": {
    "lenName": 16,
    "lenType": 16,
    "lenVar": 40
   },
   "kernels_config": {
    "python": {
     "delete_cmd_postfix": "",
     "delete_cmd_prefix": "del ",
     "library": "var_list.py",
     "varRefreshCmd": "print(var_dic_list())"
    },
    "r": {
     "delete_cmd_postfix": ") ",
     "delete_cmd_prefix": "rm(",
     "library": "var_list.r",
     "varRefreshCmd": "cat(var_dic_list()) "
    }
   },
   "types_to_exclude": [
    "module",
    "function",
    "builtin_function_or_method",
    "instance",
    "_Feature"
   ],
   "window_display": true
  }
 },
 "nbformat": 4,
 "nbformat_minor": 4
}
