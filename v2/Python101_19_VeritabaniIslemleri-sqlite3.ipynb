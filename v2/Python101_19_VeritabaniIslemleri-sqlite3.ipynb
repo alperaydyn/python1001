{
 "cells": [
  {
   "cell_type": "code",
   "execution_count": null,
   "metadata": {
    "ExecuteTime": {
     "end_time": "2022-12-13T07:40:57.660366Z",
     "start_time": "2022-12-13T07:40:57.436724Z"
    }
   },
   "outputs": [],
   "source": [
    "import sys\n",
    "sys.path.append('/data/ECS/PythonTutorial/')\n",
    "import log\n",
    "log.topic_id = '19_VeritabaniIslemleri-sqlite3'"
   ]
  },
  {
   "cell_type": "markdown",
   "metadata": {
    "id": "3zBT1pdyRZAc"
   },
   "source": [
    "## Veritabanı İşlemleri (sqlite3)\n",
    "\n",
    "Kaynak: https://www.tutorialspoint.com/sqlite/index.htm"
   ]
  },
  {
   "cell_type": "markdown",
   "metadata": {
    "id": "MUIi6JhNRa-U"
   },
   "source": [
    "### connect"
   ]
  },
  {
   "cell_type": "code",
   "execution_count": null,
   "metadata": {
    "ExecuteTime": {
     "end_time": "2022-12-13T07:43:59.697377Z",
     "start_time": "2022-12-13T07:43:59.694065Z"
    },
    "executionInfo": {
     "elapsed": 341,
     "status": "ok",
     "timestamp": 1653602420242,
     "user": {
      "displayName": "Alper Aydın",
      "userId": "16424421511940582464"
     },
     "user_tz": -180
    },
    "id": "ZLIkueNaSOH7"
   },
   "outputs": [],
   "source": [
    "import sqlite3\n",
    "\n",
    "def create_db(db_name):\n",
    "    try:\n",
    "        conn = sqlite3.connect(db_name)\n",
    "        print(f\"`{db_name}` adında veritabanı oluşturuldu/bağlandı\")\n",
    "    except Exception as ex:\n",
    "        print(f\"{db_name} veritabanı oluşturulamadı, \\nHata: {ex}\")\n",
    "        \n",
    "    return conn"
   ]
  },
  {
   "cell_type": "code",
   "execution_count": null,
   "metadata": {
    "ExecuteTime": {
     "end_time": "2022-12-13T07:44:21.149760Z",
     "start_time": "2022-12-13T07:44:21.145741Z"
    },
    "colab": {
     "base_uri": "https://localhost:8080/"
    },
    "executionInfo": {
     "elapsed": 360,
     "status": "ok",
     "timestamp": 1653602437178,
     "user": {
      "displayName": "Alper Aydın",
      "userId": "16424421511940582464"
     },
     "user_tz": -180
    },
    "id": "J-Rd1yHlYoLZ",
    "outputId": "2a17e0ca-9634-421a-d1a9-4b9f5f09fe04"
   },
   "outputs": [],
   "source": [
    "create_db(db_name='test')"
   ]
  },
  {
   "cell_type": "code",
   "execution_count": null,
   "metadata": {
    "ExecuteTime": {
     "end_time": "2022-12-13T07:45:27.484310Z",
     "start_time": "2022-12-13T07:45:27.480597Z"
    }
   },
   "outputs": [],
   "source": [
    "import os\n",
    "os.getcwd()"
   ]
  },
  {
   "cell_type": "markdown",
   "metadata": {
    "id": "Hs8ptEtgSlSZ"
   },
   "source": [
    "### create table"
   ]
  },
  {
   "cell_type": "code",
   "execution_count": null,
   "metadata": {
    "ExecuteTime": {
     "end_time": "2022-12-13T07:46:19.286097Z",
     "start_time": "2022-12-13T07:46:19.282768Z"
    },
    "executionInfo": {
     "elapsed": 544,
     "status": "ok",
     "timestamp": 1653602547586,
     "user": {
      "displayName": "Alper Aydın",
      "userId": "16424421511940582464"
     },
     "user_tz": -180
    },
    "id": "UbZX-kWrSiYg"
   },
   "outputs": [],
   "source": [
    "def create_table(conn, sql):\n",
    "    try:\n",
    "        conn.execute(sql)\n",
    "        print('tablo oluşturuldu')\n",
    "    except Exception as ex:\n",
    "        print(f\"tablo oluşturulamadı, \\nHata: {ex}\")"
   ]
  },
  {
   "cell_type": "code",
   "execution_count": null,
   "metadata": {
    "ExecuteTime": {
     "end_time": "2022-12-13T07:47:13.268188Z",
     "start_time": "2022-12-13T07:47:13.258906Z"
    },
    "colab": {
     "base_uri": "https://localhost:8080/"
    },
    "executionInfo": {
     "elapsed": 346,
     "status": "ok",
     "timestamp": 1653602592594,
     "user": {
      "displayName": "Alper Aydın",
      "userId": "16424421511940582464"
     },
     "user_tz": -180
    },
    "id": "ynOw7HPuYFex",
    "outputId": "e9aaabea-fe47-4a8c-f8a2-a7bb8e2e5ad3"
   },
   "outputs": [],
   "source": [
    "sql = \"\"\"\n",
    "  create table musteri (\n",
    "    ip_id int,\n",
    "    musteri_adi text,\n",
    "    sube_kodu int,\n",
    "    portfoy_id text\n",
    "  )\n",
    "\"\"\"\n",
    "conn = create_db(db_name='test')\n",
    "create_table(conn, sql)"
   ]
  },
  {
   "cell_type": "markdown",
   "metadata": {
    "id": "XRKY3fjfZqgc"
   },
   "source": [
    "### insert"
   ]
  },
  {
   "cell_type": "code",
   "execution_count": null,
   "metadata": {
    "ExecuteTime": {
     "end_time": "2022-12-13T07:49:01.544862Z",
     "start_time": "2022-12-13T07:49:01.541359Z"
    },
    "executionInfo": {
     "elapsed": 420,
     "status": "ok",
     "timestamp": 1653603196634,
     "user": {
      "displayName": "Alper Aydın",
      "userId": "16424421511940582464"
     },
     "user_tz": -180
    },
    "id": "ZPNjdb30ZSP4"
   },
   "outputs": [],
   "source": [
    "def execute_sql(conn, sql):\n",
    "    try:\n",
    "        conn.execute(sql)\n",
    "        conn.commit()\n",
    "        print('sorgu başarıyla çalıştırıldı')\n",
    "    except Exception as ex:\n",
    "        print(f\"sorgu çalıştırılamadı, \\nHata: {ex}\")"
   ]
  },
  {
   "cell_type": "code",
   "execution_count": null,
   "metadata": {
    "ExecuteTime": {
     "end_time": "2022-12-13T07:49:03.382456Z",
     "start_time": "2022-12-13T07:49:03.340014Z"
    },
    "colab": {
     "base_uri": "https://localhost:8080/"
    },
    "executionInfo": {
     "elapsed": 414,
     "status": "ok",
     "timestamp": 1653603380958,
     "user": {
      "displayName": "Alper Aydın",
      "userId": "16424421511940582464"
     },
     "user_tz": -180
    },
    "id": "pX9GWl8uZ--V",
    "outputId": "f8c43c38-0711-44d1-e7b2-b2d35a02f6d7"
   },
   "outputs": [],
   "source": [
    "sql = \"\"\"\n",
    "  INSERT INTO musteri \n",
    "  values\n",
    "    (1, 'alper aydın', 123, '0012301'),\n",
    "    (2, 'gozde tastan', 123, '0012302'),\n",
    "    (3, 'hanife uzun', 123, '0012303')\n",
    "\"\"\"\n",
    "execute_sql(conn, sql)"
   ]
  },
  {
   "cell_type": "markdown",
   "metadata": {
    "id": "mRHz9UiKbqNy"
   },
   "source": [
    "### select"
   ]
  },
  {
   "cell_type": "code",
   "execution_count": null,
   "metadata": {
    "ExecuteTime": {
     "end_time": "2022-12-13T07:50:19.277333Z",
     "start_time": "2022-12-13T07:50:19.274489Z"
    },
    "executionInfo": {
     "elapsed": 400,
     "status": "ok",
     "timestamp": 1653603383103,
     "user": {
      "displayName": "Alper Aydın",
      "userId": "16424421511940582464"
     },
     "user_tz": -180
    },
    "id": "krKiuPfMbrRC"
   },
   "outputs": [],
   "source": [
    "def print_sql(conn, sql):\n",
    "    try:\n",
    "        cursor = conn.execute(sql)\n",
    "        for row in cursor:\n",
    "            print(row)\n",
    "    except Exception as ex:\n",
    "        print(f\"sorgu çalıştırılamadı, \\nHata: {ex}\")"
   ]
  },
  {
   "cell_type": "code",
   "execution_count": null,
   "metadata": {
    "ExecuteTime": {
     "end_time": "2022-12-13T07:50:58.284754Z",
     "start_time": "2022-12-13T07:50:58.282535Z"
    },
    "colab": {
     "base_uri": "https://localhost:8080/"
    },
    "executionInfo": {
     "elapsed": 4,
     "status": "ok",
     "timestamp": 1653603384458,
     "user": {
      "displayName": "Alper Aydın",
      "userId": "16424421511940582464"
     },
     "user_tz": -180
    },
    "id": "2iUZoDIOb--4",
    "outputId": "b0083d9a-0120-4bf8-9b90-61edead9d819"
   },
   "outputs": [],
   "source": [
    "sql = \"select * from musteri\"\n",
    "print_sql(conn, sql)"
   ]
  },
  {
   "cell_type": "markdown",
   "metadata": {},
   "source": [
    "### delete"
   ]
  },
  {
   "cell_type": "code",
   "execution_count": null,
   "metadata": {
    "ExecuteTime": {
     "end_time": "2022-12-13T07:50:54.769098Z",
     "start_time": "2022-12-13T07:50:54.762937Z"
    },
    "colab": {
     "base_uri": "https://localhost:8080/"
    },
    "executionInfo": {
     "elapsed": 366,
     "status": "ok",
     "timestamp": 1653603378480,
     "user": {
      "displayName": "Alper Aydın",
      "userId": "16424421511940582464"
     },
     "user_tz": -180
    },
    "id": "BiyJQC3vcHw-",
    "outputId": "37fcccc9-5aab-4645-d66f-38490f182d9d"
   },
   "outputs": [],
   "source": [
    "sql = \"delete from musteri\"\n",
    "execute_sql(conn, sql)"
   ]
  },
  {
   "cell_type": "markdown",
   "metadata": {},
   "source": [
    "### Özet"
   ]
  },
  {
   "cell_type": "code",
   "execution_count": null,
   "metadata": {
    "ExecuteTime": {
     "end_time": "2022-11-22T12:41:48.366366Z",
     "start_time": "2022-11-22T12:41:48.327095Z"
    }
   },
   "outputs": [],
   "source": [
    "import sqlite3\n",
    "\n",
    "db_name='test.db'\n",
    "\n",
    "conn = sqlite3.connect(db_name)\n",
    "\n",
    "sql = \"\"\"create table musteri (ip_id int,musteri_adi text,sube_kodu int,portfoy_id text)\"\"\"\n",
    "conn.execute(sql)\n",
    "\n",
    "sql = \"\"\"INSERT INTO musteri  values  (1, 'alper aydın', 123, '0012301'),  (2, 'gozde tastan', 123, '0012302'), (3, 'hanife uzun', 123, '0012303')\"\"\"\n",
    "conn.execute(sql)\n",
    "\n",
    "sql = \"\"\"select * from musteri\"\"\"\n",
    "cursor = conn.execute(sql)\n",
    "conn.commit()\n",
    "\n",
    "for row in cursor:\n",
    "    print(row)"
   ]
  },
  {
   "cell_type": "code",
   "execution_count": null,
   "metadata": {
    "ExecuteTime": {
     "end_time": "2022-12-13T07:53:05.029914Z",
     "start_time": "2022-12-13T07:53:05.027800Z"
    }
   },
   "outputs": [],
   "source": [
    "conn.close()"
   ]
  },
  {
   "cell_type": "markdown",
   "metadata": {},
   "source": [
    "### Sqlite Log Örneği"
   ]
  },
  {
   "cell_type": "code",
   "execution_count": null,
   "metadata": {},
   "outputs": [],
   "source": []
  },
  {
   "cell_type": "code",
   "execution_count": null,
   "metadata": {},
   "outputs": [],
   "source": []
  }
 ],
 "metadata": {
  "kernelspec": {
   "display_name": "Python 3",
   "language": "python",
   "name": "python3"
  },
  "language_info": {
   "codemirror_mode": {
    "name": "ipython",
    "version": 3
   },
   "file_extension": ".py",
   "mimetype": "text/x-python",
   "name": "python",
   "nbconvert_exporter": "python",
   "pygments_lexer": "ipython3",
   "version": "3.7.6"
  },
  "toc": {
   "base_numbering": 1,
   "nav_menu": {},
   "number_sections": true,
   "sideBar": true,
   "skip_h1_title": false,
   "title_cell": "Table of Contents",
   "title_sidebar": "Contents",
   "toc_cell": false,
   "toc_position": {},
   "toc_section_display": true,
   "toc_window_display": true
  },
  "varInspector": {
   "cols": {
    "lenName": 16,
    "lenType": 16,
    "lenVar": 40
   },
   "kernels_config": {
    "python": {
     "delete_cmd_postfix": "",
     "delete_cmd_prefix": "del ",
     "library": "var_list.py",
     "varRefreshCmd": "print(var_dic_list())"
    },
    "r": {
     "delete_cmd_postfix": ") ",
     "delete_cmd_prefix": "rm(",
     "library": "var_list.r",
     "varRefreshCmd": "cat(var_dic_list()) "
    }
   },
   "types_to_exclude": [
    "module",
    "function",
    "builtin_function_or_method",
    "instance",
    "_Feature"
   ],
   "window_display": true
  }
 },
 "nbformat": 4,
 "nbformat_minor": 4
}
