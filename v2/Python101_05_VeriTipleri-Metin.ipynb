{
 "cells": [
  {
   "cell_type": "code",
   "execution_count": null,
   "metadata": {
    "ExecuteTime": {
     "end_time": "2022-12-05T13:01:32.687047Z",
     "start_time": "2022-12-05T13:01:31.882930Z"
    }
   },
   "outputs": [],
   "source": [
    "import sys\n",
    "sys.path.append('/data/ECS/PythonTutorial/')\n",
    "import log\n",
    "log.topic_id = '05_VeriTipleri-Metin'"
   ]
  },
  {
   "cell_type": "markdown",
   "metadata": {},
   "source": [
    "<div class=\"alert alert-box\" style=\"font-size:12pt; padding:15px; line-height:150%; background-color:#33bbcc66; \">\n",
    "    Bu dersin amacı;\n",
    "    <li>Metin Veri Tipi hakkında bilgi sahibi olmak</li>\n",
    "    <li>Metin Veri Tipine ait özellikleri öğrenmek</li>\n",
    "    <li>Metin Veri Tipi ile ilgili işlemleri öğrenmek</li>\n",
    "</div>"
   ]
  },
  {
   "cell_type": "markdown",
   "metadata": {
    "id": "SGSrdVEcWaMp"
   },
   "source": [
    "# Metin Veri Tipi"
   ]
  },
  {
   "cell_type": "markdown",
   "metadata": {},
   "source": [
    "<div class=\"alert alert-box alert-info\" style=\"font-size:12pt; padding:15px; line-height:150%;\">\n",
    "    Metin veri tipleri \n",
    "    <li>tek tırnak : <pre>'metin'</pre></li>\n",
    "    <li>çift tırnak : <pre>\"metin\"</pre></li>\n",
    "    <li>üç çift tırnak tırnak : <pre>\"\"\"metin\"\"\"</pre></li>\n",
    "    ile oluşturulabilir.\n",
    "</div>"
   ]
  },
  {
   "cell_type": "code",
   "execution_count": null,
   "metadata": {
    "ExecuteTime": {
     "end_time": "2022-12-05T13:02:19.599052Z",
     "start_time": "2022-12-05T13:02:19.590556Z"
    },
    "id": "hUPCSo85Wdlo"
   },
   "outputs": [],
   "source": [
    "x = 'Merhaba'\n",
    "print(x)"
   ]
  },
  {
   "cell_type": "code",
   "execution_count": null,
   "metadata": {
    "ExecuteTime": {
     "end_time": "2022-12-05T13:02:21.320392Z",
     "start_time": "2022-12-05T13:02:21.311761Z"
    }
   },
   "outputs": [],
   "source": [
    "x = \"Python öğrenmesi en kolay dillerden birisidir\"\n",
    "print(x)"
   ]
  },
  {
   "cell_type": "markdown",
   "metadata": {},
   "source": [
    "<div class=\"alert alert-box alert-info\" style=\"font-size:12pt; padding:15px; line-height:150%;\">\n",
    "    Metin tipi değişkenin içerisinde tek veya çift tırnak kullanılması gerekiyorsa bu üç seçenekten diğer ile oluşturulabilir.\n",
    "</div>"
   ]
  },
  {
   "cell_type": "code",
   "execution_count": null,
   "metadata": {
    "ExecuteTime": {
     "end_time": "2022-12-05T13:02:22.928889Z",
     "start_time": "2022-12-05T13:02:22.923988Z"
    }
   },
   "outputs": [],
   "source": [
    "x = 'Şair der ki: \"yaşamak bir su gibidir...\"'\n",
    "print(x)"
   ]
  },
  {
   "cell_type": "code",
   "execution_count": null,
   "metadata": {
    "ExecuteTime": {
     "end_time": "2022-12-05T13:02:24.823713Z",
     "start_time": "2022-12-05T13:02:24.815996Z"
    }
   },
   "outputs": [],
   "source": [
    "x = \"\"\"Şinasi, Halil Bey'e biraz rahatlık vermiş gibiydi. \"Yatsam, acaba uyuyabilir miyim?\" diye düşündü.\"\"\"\n",
    "print(x)"
   ]
  },
  {
   "cell_type": "markdown",
   "metadata": {
    "id": "uubpKOoUvYMD"
   },
   "source": [
    "## Kaçış (escape) karakteri"
   ]
  },
  {
   "cell_type": "markdown",
   "metadata": {},
   "source": [
    "<div class=\"alert alert-box alert-info\" style=\"font-size:12pt; padding:15px; line-height:150%;\">\n",
    "    Metin tipi dğeişkenin içerisinde tek veya çift tırnak kullanımı için alternatif olarak <pre style='display:inline'>\\</pre> işareti de kullanılabilir.\n",
    "</div>"
   ]
  },
  {
   "cell_type": "code",
   "execution_count": null,
   "metadata": {
    "ExecuteTime": {
     "end_time": "2022-12-05T13:04:19.936982Z",
     "start_time": "2022-12-05T13:04:19.930753Z"
    },
    "id": "cwMNz8IRv8Yq"
   },
   "outputs": [],
   "source": [
    "x = \"Python'un yaratıcısı \\\"Guido von Rossum\\\"'dur\"\n",
    "print(x)"
   ]
  },
  {
   "cell_type": "code",
   "execution_count": null,
   "metadata": {
    "ExecuteTime": {
     "end_time": "2022-12-05T13:04:44.996154Z",
     "start_time": "2022-12-05T13:04:44.983840Z"
    }
   },
   "outputs": [],
   "source": [
    "x = 'Python\\'un yaratıcısı \"Guido von Rossum\"\\'dur\"'\n",
    "print(x)"
   ]
  },
  {
   "cell_type": "markdown",
   "metadata": {
    "id": "-n72NoMMfv0-"
   },
   "source": [
    "## Çok satırlı metinler"
   ]
  },
  {
   "cell_type": "markdown",
   "metadata": {},
   "source": [
    "<div class=\"alert alert-box alert-info\" style=\"font-size:12pt; padding:15px; line-height:150%;\">\n",
    "    <li>Üç tırnak ile oluşturulan metin tipi değişkenler birden fazla satır şeklinde oluşturulabilir. \n",
    "    <li>Her satır line-feed karakteri ile biter. \n",
    "    <li>Diğer seçeneklerde bu mümkün değildir.\n",
    "</div>"
   ]
  },
  {
   "cell_type": "code",
   "execution_count": null,
   "metadata": {
    "ExecuteTime": {
     "end_time": "2022-12-05T13:06:28.407255Z",
     "start_time": "2022-12-05T13:06:28.404355Z"
    },
    "id": "llIItsmVftDr"
   },
   "outputs": [],
   "source": [
    "x = \"\"\"Merhaba,\n",
    "bu çok satırlı bir metindir.\n",
    "Uzun metinleri üç tırnak kullanarak alt alta \n",
    "yazabiliyoruz\n",
    "\"\"\"\n",
    "print(x)"
   ]
  },
  {
   "cell_type": "markdown",
   "metadata": {
    "id": "US_nIsg1oDy5"
   },
   "source": [
    "## Metin Birleştirme"
   ]
  },
  {
   "cell_type": "code",
   "execution_count": null,
   "metadata": {
    "ExecuteTime": {
     "end_time": "2022-12-05T13:06:56.988138Z",
     "start_time": "2022-12-05T13:06:56.984817Z"
    },
    "id": "rRgi0U95n_1E"
   },
   "outputs": [],
   "source": [
    "x = \"Merhaba \"\n",
    "y = \"bu metin farklı metin tiplerinin \"\n",
    "z = \"birleşiminden oluşmaktadır.\"\n",
    "print(x , y , z)"
   ]
  },
  {
   "cell_type": "code",
   "execution_count": null,
   "metadata": {
    "ExecuteTime": {
     "end_time": "2022-12-05T13:08:37.487266Z",
     "start_time": "2022-12-05T13:08:37.483956Z"
    },
    "id": "FDXA-nIDobTp"
   },
   "outputs": [],
   "source": [
    "x = \"Merhaba \"\n",
    "y = \"bu metin farklı metin tiplerinin \"\n",
    "z = \"birleşiminden oluşmaktadır.\"\n",
    "w = x + y + z\n",
    "print(w)"
   ]
  },
  {
   "cell_type": "code",
   "execution_count": null,
   "metadata": {
    "ExecuteTime": {
     "end_time": "2022-12-05T13:13:16.253870Z",
     "start_time": "2022-12-05T13:13:16.251091Z"
    },
    "id": "D8g-qM2eo_0U"
   },
   "outputs": [],
   "source": [
    "x = \"Merhaba bu metin farklı metin tiplerinin birleşiminden oluşmaktadır.\" \\\n",
    "\" Merhaba bu metin farklı metin tiplerinin birleşiminden oluşmaktadır Merhaba\" \\\n",
    "\"bu metin farklı metin tiplerinin birleşiminden oluşmaktadır Merhaba bu metin \" \\\n",
    "\"farklı metin tiplerinin birleşiminden oluşmaktadırMerhaba bu metin farklı metin \" \\\n",
    "\" tiplerinin birleşiminden oluşmaktadır\"\n",
    "print(x)"
   ]
  },
  {
   "cell_type": "markdown",
   "metadata": {
    "id": "rJVU6_Uipo4v"
   },
   "source": [
    "## Metin İşlemleri"
   ]
  },
  {
   "cell_type": "markdown",
   "metadata": {
    "id": "O5bAxb06qpe0"
   },
   "source": [
    "### Metin uzunluğu"
   ]
  },
  {
   "cell_type": "code",
   "execution_count": null,
   "metadata": {
    "ExecuteTime": {
     "end_time": "2022-12-05T13:13:47.973355Z",
     "start_time": "2022-12-05T13:13:47.970268Z"
    },
    "id": "C2XQvdLxpqsP"
   },
   "outputs": [],
   "source": [
    "x = \"Merhaba dünya\"\n",
    "print(len(x))"
   ]
  },
  {
   "cell_type": "markdown",
   "metadata": {
    "id": "y_jbTJJiqvM8"
   },
   "source": [
    "### Metin parçalar alma"
   ]
  },
  {
   "cell_type": "code",
   "execution_count": null,
   "metadata": {
    "ExecuteTime": {
     "end_time": "2022-12-05T13:14:48.805682Z",
     "start_time": "2022-12-05T13:14:48.802708Z"
    },
    "id": "4MALDNYVp1oI"
   },
   "outputs": [],
   "source": [
    "print(x[0])"
   ]
  },
  {
   "cell_type": "code",
   "execution_count": null,
   "metadata": {
    "ExecuteTime": {
     "end_time": "2022-12-05T13:14:51.083201Z",
     "start_time": "2022-12-05T13:14:51.080200Z"
    },
    "id": "V_qv11jTp4li"
   },
   "outputs": [],
   "source": [
    "print(x[1])"
   ]
  },
  {
   "cell_type": "code",
   "execution_count": null,
   "metadata": {
    "ExecuteTime": {
     "end_time": "2022-12-05T13:14:59.269238Z",
     "start_time": "2022-12-05T13:14:59.266095Z"
    },
    "id": "VoNtCNRtp618"
   },
   "outputs": [],
   "source": [
    "print(x[-1])"
   ]
  },
  {
   "cell_type": "code",
   "execution_count": null,
   "metadata": {
    "ExecuteTime": {
     "end_time": "2022-12-05T13:15:19.091995Z",
     "start_time": "2022-12-05T13:15:19.089266Z"
    },
    "id": "1P6_yy7Lp94A"
   },
   "outputs": [],
   "source": [
    "print(x[-2])"
   ]
  },
  {
   "cell_type": "code",
   "execution_count": null,
   "metadata": {
    "ExecuteTime": {
     "end_time": "2022-12-05T13:15:38.743786Z",
     "start_time": "2022-12-05T13:15:38.740834Z"
    },
    "id": "g8tuOnLTqCrg"
   },
   "outputs": [],
   "source": [
    "print(x[0:4])"
   ]
  },
  {
   "cell_type": "code",
   "execution_count": null,
   "metadata": {
    "ExecuteTime": {
     "end_time": "2022-12-05T13:16:45.789261Z",
     "start_time": "2022-12-05T13:16:45.786320Z"
    },
    "id": "_J2snsxlqIWV"
   },
   "outputs": [],
   "source": [
    "print(x[-3:])"
   ]
  },
  {
   "cell_type": "code",
   "execution_count": null,
   "metadata": {
    "ExecuteTime": {
     "end_time": "2022-12-05T13:17:09.819083Z",
     "start_time": "2022-12-05T13:17:09.815692Z"
    }
   },
   "outputs": [],
   "source": [
    "print(x[:-2])"
   ]
  },
  {
   "cell_type": "markdown",
   "metadata": {
    "id": "JacyxbW4q1o_"
   },
   "source": [
    "### Metin düzenleme"
   ]
  },
  {
   "cell_type": "code",
   "execution_count": null,
   "metadata": {
    "ExecuteTime": {
     "end_time": "2022-12-05T13:18:43.766507Z",
     "start_time": "2022-12-05T13:18:43.763058Z"
    },
    "id": "lfCvFXD7qMvx"
   },
   "outputs": [],
   "source": [
    "x = \"Merhaba Dünya\"\n",
    "print(x.upper())\n",
    "\n",
    "x = \"123\"\n",
    "print(x.isdecimal())"
   ]
  },
  {
   "cell_type": "code",
   "execution_count": null,
   "metadata": {
    "ExecuteTime": {
     "end_time": "2022-12-05T13:20:11.406039Z",
     "start_time": "2022-12-05T13:20:11.400656Z"
    },
    "id": "lfCvFXD7qMvx"
   },
   "outputs": [],
   "source": [
    "x.center(50, '.')  # shift + tab"
   ]
  },
  {
   "cell_type": "code",
   "execution_count": null,
   "metadata": {
    "ExecuteTime": {
     "end_time": "2022-12-05T13:20:24.487902Z",
     "start_time": "2022-12-05T13:20:24.484979Z"
    },
    "id": "1vIHk7CWrFGF"
   },
   "outputs": [],
   "source": [
    "x = \" Merhaba dünya \"\n",
    "print(x.strip())"
   ]
  },
  {
   "cell_type": "code",
   "execution_count": null,
   "metadata": {
    "ExecuteTime": {
     "end_time": "2022-12-05T13:20:53.720964Z",
     "start_time": "2022-12-05T13:20:53.718105Z"
    },
    "id": "GBzUEi0NrOlZ"
   },
   "outputs": [],
   "source": [
    "x = \"Merhaba dünya\"\n",
    "w = x.replace('aba','xxxxxxxxxxxxxxxxxxxxxxxxxxxxxxxxxxxxxxxxxx')\n",
    "print(w)"
   ]
  },
  {
   "cell_type": "code",
   "execution_count": null,
   "metadata": {
    "ExecuteTime": {
     "end_time": "2022-12-05T13:21:01.819503Z",
     "start_time": "2022-12-05T13:21:01.816548Z"
    }
   },
   "outputs": [],
   "source": [
    "x.endswith('ünya')"
   ]
  },
  {
   "cell_type": "code",
   "execution_count": null,
   "metadata": {
    "ExecuteTime": {
     "end_time": "2022-12-05T13:22:19.000880Z",
     "start_time": "2022-12-05T13:22:18.996183Z"
    }
   },
   "outputs": [],
   "source": [
    "x.upper()"
   ]
  },
  {
   "cell_type": "markdown",
   "metadata": {},
   "source": [
    "### neden değişkenlerin fonksiyonları var?"
   ]
  },
  {
   "cell_type": "code",
   "execution_count": null,
   "metadata": {
    "ExecuteTime": {
     "end_time": "2022-11-14T13:04:40.489499Z",
     "start_time": "2022-11-14T13:04:40.485631Z"
    }
   },
   "outputs": [],
   "source": [
    "def my_capitalize(x):\n",
    "    ret = x[0].upper() + x[1:].lower()\n",
    "    return ret\n",
    "\n",
    "my_capitalize(\"deneme 1 2\")"
   ]
  },
  {
   "cell_type": "code",
   "execution_count": null,
   "metadata": {
    "ExecuteTime": {
     "end_time": "2022-12-05T13:24:26.502991Z",
     "start_time": "2022-12-05T13:24:26.500722Z"
    }
   },
   "outputs": [],
   "source": [
    "def print(x):\n",
    "    return 123\n"
   ]
  },
  {
   "cell_type": "code",
   "execution_count": null,
   "metadata": {
    "ExecuteTime": {
     "end_time": "2022-12-05T13:25:07.480037Z",
     "start_time": "2022-12-05T13:25:07.476745Z"
    }
   },
   "outputs": [],
   "source": [
    "print(\"ben print fonksiyonunu bozdum\")"
   ]
  },
  {
   "cell_type": "markdown",
   "metadata": {
    "id": "JDUhU2T7raYE"
   },
   "source": [
    "### Metin parçalama"
   ]
  },
  {
   "cell_type": "code",
   "execution_count": null,
   "metadata": {
    "ExecuteTime": {
     "end_time": "2022-12-05T13:25:56.044086Z",
     "start_time": "2022-12-05T13:25:56.041543Z"
    },
    "id": "9IhhKVEUrZCO"
   },
   "outputs": [],
   "source": [
    "x = \"elma,armut,incir,üzüm\"\n",
    "print(x.split(','))"
   ]
  },
  {
   "cell_type": "markdown",
   "metadata": {
    "id": "AIvIl8ZqrlLR"
   },
   "source": [
    "### Metin birleştirme"
   ]
  },
  {
   "cell_type": "code",
   "execution_count": null,
   "metadata": {
    "ExecuteTime": {
     "end_time": "2022-12-05T13:26:21.240204Z",
     "start_time": "2022-12-05T13:26:21.237196Z"
    },
    "id": "T4XqO6Z1rmyJ"
   },
   "outputs": [],
   "source": [
    "x = \"Merhaba\"\n",
    "y = \"Dünya\"\n",
    "print(x+y)"
   ]
  },
  {
   "cell_type": "code",
   "execution_count": null,
   "metadata": {
    "ExecuteTime": {
     "end_time": "2022-12-05T13:26:45.475880Z",
     "start_time": "2022-12-05T13:26:45.472749Z"
    },
    "id": "T4nj8D_7rxZW"
   },
   "outputs": [],
   "source": [
    "w = x+\" \"+y\n",
    "print(w)"
   ]
  },
  {
   "cell_type": "markdown",
   "metadata": {
    "id": "K8ELHP2-r5ZV"
   },
   "source": [
    "### Metin formatlama"
   ]
  },
  {
   "cell_type": "code",
   "execution_count": null,
   "metadata": {
    "ExecuteTime": {
     "end_time": "2022-12-05T13:28:07.715798Z",
     "start_time": "2022-12-05T13:28:07.660205Z"
    },
    "id": "q_YCfvrzr8mt"
   },
   "outputs": [],
   "source": [
    "v = \"3.10.7\"\n",
    "v = 3.11\n",
    "x = \"Python'un en güncel versiyonu \" + v\n",
    "print(x)"
   ]
  },
  {
   "cell_type": "code",
   "execution_count": null,
   "metadata": {
    "ExecuteTime": {
     "end_time": "2022-12-05T13:28:48.255646Z",
     "start_time": "2022-12-05T13:28:48.252294Z"
    },
    "id": "z-LQPqljsqYI"
   },
   "outputs": [],
   "source": [
    "x = \"Python'un en güncel versiyonu {}\"\n",
    "v = \"3.10.8\"\n",
    "v = 3.11\n",
    "print(x.format(v))"
   ]
  },
  {
   "cell_type": "code",
   "execution_count": null,
   "metadata": {
    "ExecuteTime": {
     "end_time": "2022-12-05T13:29:12.599072Z",
     "start_time": "2022-12-05T13:29:12.595724Z"
    }
   },
   "outputs": [],
   "source": [
    "v = \"3.10.9\"\n",
    "print(x.format(v))"
   ]
  },
  {
   "cell_type": "code",
   "execution_count": null,
   "metadata": {
    "ExecuteTime": {
     "end_time": "2022-12-05T13:30:30.305471Z",
     "start_time": "2022-12-05T13:30:30.302655Z"
    },
    "id": "8zn3_9rmtPl9"
   },
   "outputs": [],
   "source": [
    "v = \"3.10.4\"\n",
    "x = \"Python'un en güncel versiyonu %s\"\n",
    "print(x % v)"
   ]
  },
  {
   "cell_type": "code",
   "execution_count": null,
   "metadata": {
    "ExecuteTime": {
     "end_time": "2022-12-05T13:30:40.206350Z",
     "start_time": "2022-12-05T13:30:40.203534Z"
    },
    "id": "b-A6pV9fs3xv"
   },
   "outputs": [],
   "source": [
    "v = \"3.10.4\"\n",
    "t = \"2022.10\"\n",
    "x = \"Python'un en güncel versiyonu {versyion}, versiyon tarihi={tarih}\"\n",
    "print(x.format(versyion=v, tarih=t))"
   ]
  },
  {
   "cell_type": "code",
   "execution_count": null,
   "metadata": {
    "ExecuteTime": {
     "end_time": "2022-12-06T06:48:38.496516Z",
     "start_time": "2022-12-06T06:48:38.493731Z"
    }
   },
   "outputs": [],
   "source": [
    "p1 = 3  # python'un major versiyonu\n",
    "p2 = 10 # \n",
    "p3 = 4  # \n",
    "x = \"Python'un en güncel versiyonu {v1} / {v2} / {v3}\"  \n",
    "print(x.format(v1=p1, v2=p2, v3=p3))"
   ]
  },
  {
   "cell_type": "markdown",
   "metadata": {},
   "source": [
    "### f-string"
   ]
  },
  {
   "cell_type": "markdown",
   "metadata": {},
   "source": [
    "<div class=\"alert alert-box alert-info\" style=\"font-size:12pt; padding:15px; line-height:150%;\">\n",
    "    f-string metin formatlama ve birleştirme işlemleri için sıklıkla kullanılan bir yöntemdir.\n",
    "</div>"
   ]
  },
  {
   "cell_type": "code",
   "execution_count": null,
   "metadata": {
    "ExecuteTime": {
     "end_time": "2022-12-06T06:48:21.473113Z",
     "start_time": "2022-12-06T06:48:21.470344Z"
    },
    "id": "HxxKjds7uNkD"
   },
   "outputs": [],
   "source": [
    "p1 = 3\n",
    "p2 = 10\n",
    "p3 = 4\n",
    "#x = f\"Python'un en güncel versiyonu {v1}.{v2}.{v3}\" # fstring\n",
    "print(f\"python version {p1} / {p2} / {p3}\")"
   ]
  },
  {
   "cell_type": "code",
   "execution_count": null,
   "metadata": {
    "ExecuteTime": {
     "end_time": "2022-12-06T06:48:51.772726Z",
     "start_time": "2022-12-06T06:48:51.769986Z"
    },
    "id": "rxXILD6KtjTj"
   },
   "outputs": [],
   "source": [
    "tutar = 123.456\n",
    "x = f\"tutar: {tutar}\"\n",
    "print(x)"
   ]
  },
  {
   "cell_type": "code",
   "execution_count": null,
   "metadata": {
    "ExecuteTime": {
     "end_time": "2022-12-06T06:49:22.725995Z",
     "start_time": "2022-12-06T06:49:22.723285Z"
    },
    "id": "DBWxj-jrt2QI"
   },
   "outputs": [],
   "source": [
    "tutar = 123.456\n",
    "x = f\"tutar: {tutar:.1f}\"\n",
    "print(x)"
   ]
  },
  {
   "cell_type": "code",
   "execution_count": null,
   "metadata": {
    "ExecuteTime": {
     "end_time": "2022-12-06T06:49:31.145988Z",
     "start_time": "2022-12-06T06:49:31.143212Z"
    },
    "id": "uMG0HgK3t6Tv"
   },
   "outputs": [],
   "source": [
    "tutar = 123456.789\n",
    "x = f\"tutar: {tutar:,.2f}\"\n",
    "print(x)"
   ]
  },
  {
   "cell_type": "code",
   "execution_count": null,
   "metadata": {
    "ExecuteTime": {
     "end_time": "2022-12-06T06:50:11.949828Z",
     "start_time": "2022-12-06T06:50:11.947497Z"
    }
   },
   "outputs": [],
   "source": [
    "print(f\"tutar : { tutar : ,.2f}\")"
   ]
  },
  {
   "cell_type": "markdown",
   "metadata": {
    "id": "1YlOW9DmwLMU"
   },
   "source": [
    "## Metin Methodları"
   ]
  },
  {
   "cell_type": "markdown",
   "metadata": {
    "id": "8AyZ2W5ww3U1"
   },
   "source": [
    "![image.png](data:image/png;base64,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)"
   ]
  },
  {
   "cell_type": "code",
   "execution_count": null,
   "metadata": {
    "ExecuteTime": {
     "end_time": "2022-12-06T06:53:17.432397Z",
     "start_time": "2022-12-06T06:53:17.429712Z"
    },
    "colab": {
     "base_uri": "https://localhost:8080/"
    },
    "executionInfo": {
     "elapsed": 357,
     "status": "ok",
     "timestamp": 1652652730075,
     "user": {
      "displayName": "Alper Aydın",
      "userId": "16424421511940582464"
     },
     "user_tz": -180
    },
    "id": "Ax61VlDSwO_7",
    "outputId": "231d2843-0aa0-49a0-ecf7-df35a95177d1"
   },
   "outputs": [],
   "source": [
    "x = \"Python'un yaratıcısı \\\"Guido von Rossum\\\"'dur\"\n",
    "x.count('a',1,20)"
   ]
  },
  {
   "cell_type": "code",
   "execution_count": null,
   "metadata": {
    "ExecuteTime": {
     "end_time": "2022-12-06T06:53:20.409264Z",
     "start_time": "2022-12-06T06:53:20.406722Z"
    },
    "colab": {
     "base_uri": "https://localhost:8080/",
     "height": 35
    },
    "executionInfo": {
     "elapsed": 298,
     "status": "ok",
     "timestamp": 1652652775306,
     "user": {
      "displayName": "Alper Aydın",
      "userId": "16424421511940582464"
     },
     "user_tz": -180
    },
    "id": "6N3lJexTwrCQ",
    "outputId": "317076bb-b794-492f-c0b0-0abd2fdb2d38"
   },
   "outputs": [],
   "source": [
    "x.center(100,\".\")"
   ]
  },
  {
   "cell_type": "code",
   "execution_count": null,
   "metadata": {
    "ExecuteTime": {
     "end_time": "2022-12-06T06:53:21.277973Z",
     "start_time": "2022-12-06T06:53:21.275570Z"
    },
    "colab": {
     "base_uri": "https://localhost:8080/"
    },
    "executionInfo": {
     "elapsed": 279,
     "status": "ok",
     "timestamp": 1652652812381,
     "user": {
      "displayName": "Alper Aydın",
      "userId": "16424421511940582464"
     },
     "user_tz": -180
    },
    "id": "_8Dz1oh7wrHv",
    "outputId": "1e5a62de-9f7d-4432-e377-7b6f62378c7f"
   },
   "outputs": [],
   "source": [
    "x.endswith('x')"
   ]
  },
  {
   "cell_type": "code",
   "execution_count": null,
   "metadata": {
    "ExecuteTime": {
     "end_time": "2022-12-06T06:53:22.950611Z",
     "start_time": "2022-12-06T06:53:22.948101Z"
    },
    "colab": {
     "base_uri": "https://localhost:8080/"
    },
    "executionInfo": {
     "elapsed": 262,
     "status": "ok",
     "timestamp": 1652652829173,
     "user": {
      "displayName": "Alper Aydın",
      "userId": "16424421511940582464"
     },
     "user_tz": -180
    },
    "id": "3tfmq-Y7wrPE",
    "outputId": "83f884fb-5ad2-49e7-a3e9-090ea102d6b7"
   },
   "outputs": [],
   "source": [
    "x.endswith('r')"
   ]
  },
  {
   "cell_type": "code",
   "execution_count": null,
   "metadata": {
    "ExecuteTime": {
     "end_time": "2022-12-06T06:54:05.692875Z",
     "start_time": "2022-12-06T06:54:05.689961Z"
    },
    "colab": {
     "base_uri": "https://localhost:8080/"
    },
    "executionInfo": {
     "elapsed": 343,
     "status": "ok",
     "timestamp": 1652652866635,
     "user": {
      "displayName": "Alper Aydın",
      "userId": "16424421511940582464"
     },
     "user_tz": -180
    },
    "id": "U7YNCGnHwrSF",
    "outputId": "79f766e8-96eb-4dcf-bc4f-556ef4fda4a7"
   },
   "outputs": [],
   "source": [
    "x.find('q')"
   ]
  },
  {
   "cell_type": "code",
   "execution_count": null,
   "metadata": {
    "ExecuteTime": {
     "end_time": "2022-12-06T06:54:14.780026Z",
     "start_time": "2022-12-06T06:54:14.777546Z"
    },
    "colab": {
     "base_uri": "https://localhost:8080/"
    },
    "executionInfo": {
     "elapsed": 261,
     "status": "ok",
     "timestamp": 1652652896976,
     "user": {
      "displayName": "Alper Aydın",
      "userId": "16424421511940582464"
     },
     "user_tz": -180
    },
    "id": "QYreH9SRyXlL",
    "outputId": "e2a23f87-2587-4701-dce7-e193409572ee"
   },
   "outputs": [],
   "source": [
    "x.index('a')"
   ]
  },
  {
   "cell_type": "code",
   "execution_count": null,
   "metadata": {
    "ExecuteTime": {
     "end_time": "2022-12-06T06:54:16.543986Z",
     "start_time": "2022-12-06T06:54:16.541579Z"
    },
    "colab": {
     "base_uri": "https://localhost:8080/"
    },
    "executionInfo": {
     "elapsed": 419,
     "status": "ok",
     "timestamp": 1652653099022,
     "user": {
      "displayName": "Alper Aydın",
      "userId": "16424421511940582464"
     },
     "user_tz": -180
    },
    "id": "9GVe7nyLyfAw",
    "outputId": "fd5520a0-5762-4a93-ac83-626d0e23da3c"
   },
   "outputs": [],
   "source": [
    "\"abc123\".isalnum()"
   ]
  },
  {
   "cell_type": "code",
   "execution_count": null,
   "metadata": {
    "ExecuteTime": {
     "end_time": "2022-12-06T06:55:10.137943Z",
     "start_time": "2022-12-06T06:55:10.135034Z"
    },
    "colab": {
     "base_uri": "https://localhost:8080/"
    },
    "executionInfo": {
     "elapsed": 254,
     "status": "ok",
     "timestamp": 1652653107807,
     "user": {
      "displayName": "Alper Aydın",
      "userId": "16424421511940582464"
     },
     "user_tz": -180
    },
    "id": "HWI6D2cQyikV",
    "outputId": "aac7c788-122f-41ce-8a25-3e863c8216b5"
   },
   "outputs": [],
   "source": [
    "\"abc\".isalpha()"
   ]
  },
  {
   "cell_type": "code",
   "execution_count": null,
   "metadata": {
    "ExecuteTime": {
     "end_time": "2022-12-06T06:55:11.423155Z",
     "start_time": "2022-12-06T06:55:11.420728Z"
    },
    "colab": {
     "base_uri": "https://localhost:8080/"
    },
    "executionInfo": {
     "elapsed": 268,
     "status": "ok",
     "timestamp": 1652653090574,
     "user": {
      "displayName": "Alper Aydın",
      "userId": "16424421511940582464"
     },
     "user_tz": -180
    },
    "id": "0lkLZkqKzJ6y",
    "outputId": "16067472-17c7-4515-c732-6c2c95c11703"
   },
   "outputs": [],
   "source": [
    "\"123\".isnumeric()"
   ]
  },
  {
   "cell_type": "code",
   "execution_count": null,
   "metadata": {
    "ExecuteTime": {
     "end_time": "2022-12-06T06:55:14.040789Z",
     "start_time": "2022-12-06T06:55:14.038288Z"
    },
    "colab": {
     "base_uri": "https://localhost:8080/"
    },
    "executionInfo": {
     "elapsed": 302,
     "status": "ok",
     "timestamp": 1652653223268,
     "user": {
      "displayName": "Alper Aydın",
      "userId": "16424421511940582464"
     },
     "user_tz": -180
    },
    "id": "CMnFYAbozORf",
    "outputId": "2eb3b97a-8dd9-4668-f467-b3992c21a588"
   },
   "outputs": [],
   "source": [
    "\"abc\".islower()"
   ]
  },
  {
   "cell_type": "code",
   "execution_count": null,
   "metadata": {
    "ExecuteTime": {
     "end_time": "2022-12-06T06:55:14.566490Z",
     "start_time": "2022-12-06T06:55:14.564126Z"
    },
    "colab": {
     "base_uri": "https://localhost:8080/"
    },
    "executionInfo": {
     "elapsed": 385,
     "status": "ok",
     "timestamp": 1652653234493,
     "user": {
      "displayName": "Alper Aydın",
      "userId": "16424421511940582464"
     },
     "user_tz": -180
    },
    "id": "t53rXrnszM81",
    "outputId": "66b46285-f996-456c-f756-a013106967b6"
   },
   "outputs": [],
   "source": [
    "\"ABC\".isupper()"
   ]
  },
  {
   "cell_type": "markdown",
   "metadata": {},
   "source": [
    "## Quiz"
   ]
  },
  {
   "cell_type": "code",
   "execution_count": null,
   "metadata": {
    "ExecuteTime": {
     "end_time": "2022-09-06T13:33:32.827235Z",
     "start_time": "2022-09-06T13:27:23.814086Z"
    }
   },
   "outputs": [],
   "source": [
    "q = log.Quiz()"
   ]
  }
 ],
 "metadata": {
  "kernelspec": {
   "display_name": "Python 3",
   "language": "python",
   "name": "python3"
  },
  "language_info": {
   "codemirror_mode": {
    "name": "ipython",
    "version": 3
   },
   "file_extension": ".py",
   "mimetype": "text/x-python",
   "name": "python",
   "nbconvert_exporter": "python",
   "pygments_lexer": "ipython3",
   "version": "3.7.6"
  },
  "toc": {
   "base_numbering": 1,
   "nav_menu": {},
   "number_sections": true,
   "sideBar": true,
   "skip_h1_title": false,
   "title_cell": "Table of Contents",
   "title_sidebar": "Contents",
   "toc_cell": false,
   "toc_position": {},
   "toc_section_display": true,
   "toc_window_display": true
  },
  "varInspector": {
   "cols": {
    "lenName": 16,
    "lenType": 16,
    "lenVar": 40
   },
   "kernels_config": {
    "python": {
     "delete_cmd_postfix": "",
     "delete_cmd_prefix": "del ",
     "library": "var_list.py",
     "varRefreshCmd": "print(var_dic_list())"
    },
    "r": {
     "delete_cmd_postfix": ") ",
     "delete_cmd_prefix": "rm(",
     "library": "var_list.r",
     "varRefreshCmd": "cat(var_dic_list()) "
    }
   },
   "types_to_exclude": [
    "module",
    "function",
    "builtin_function_or_method",
    "instance",
    "_Feature"
   ],
   "window_display": true
  }
 },
 "nbformat": 4,
 "nbformat_minor": 4
}
