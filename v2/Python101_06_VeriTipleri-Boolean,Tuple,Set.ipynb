{
 "cells": [
  {
   "cell_type": "code",
   "execution_count": null,
   "metadata": {
    "ExecuteTime": {
     "end_time": "2022-12-06T06:58:07.533827Z",
     "start_time": "2022-12-06T06:58:07.314162Z"
    }
   },
   "outputs": [],
   "source": [
    "import sys\n",
    "sys.path.append('/data/ECS/PythonTutorial/')\n",
    "import log\n",
    "log.topic_id = '06_VeriTipleri-Boolean,Tuple,Set'"
   ]
  },
  {
   "cell_type": "markdown",
   "metadata": {},
   "source": [
    "<div class=\"alert alert-box\" style=\"font-size:12pt; padding:15px; line-height:150%; background-color:#33bbcc66; \">\n",
    "    Bu dersin amacı;\n",
    "    <li>Boolean, Tuple ve Set Veri Tipleri hakkında bilgi sahibi olmak</li>\n",
    "    <li>Boolean, Tuple ve Set Veri Tiplerine ait özellikleri öğrenmek</li>\n",
    "    <li>Boolean, Tuple ve Set Veri Tipleri ile ilgili işlemleri öğrenmek</li>\n",
    "</div>"
   ]
  },
  {
   "cell_type": "markdown",
   "metadata": {
    "id": "tUrdFMR17VwO"
   },
   "source": [
    "# Boolean Veri Tipi"
   ]
  },
  {
   "cell_type": "markdown",
   "metadata": {},
   "source": [
    "<div class=\"alert alert-box alert-info\" style=\"font-size:12pt; padding:15px; line-height:150%;\">\n",
    "    <li>Boolean Veri Tipi True/False değerlerinin tutulduğu veri tipidir. Bu iki değer dışında bir değer alamaz.</li>\n",
    "    <li>Bellekte 1 byte'lık yer kaplar</li>\n",
    "    <li>Mantıksal işlemlerde sıklıkla kullanılır</li>\n",
    "    <li>Koşullu işlemlerde hız avantajı sağlar</li>\n",
    "</div>"
   ]
  },
  {
   "cell_type": "markdown",
   "metadata": {},
   "source": [
    "## Performans karşılaştırma"
   ]
  },
  {
   "cell_type": "code",
   "execution_count": null,
   "metadata": {
    "ExecuteTime": {
     "end_time": "2022-12-06T07:00:59.225916Z",
     "start_time": "2022-12-06T07:00:57.140232Z"
    }
   },
   "outputs": [],
   "source": [
    "%%timeit\n",
    "a = True\n",
    "[1 for i in range(10000) if a]"
   ]
  },
  {
   "cell_type": "code",
   "execution_count": null,
   "metadata": {
    "ExecuteTime": {
     "end_time": "2022-12-06T07:01:02.277637Z",
     "start_time": "2022-12-06T07:00:59.234890Z"
    }
   },
   "outputs": [],
   "source": [
    "%%timeit\n",
    "a = 'True'\n",
    "[1 for i in range(10000) if a=='True']"
   ]
  },
  {
   "cell_type": "code",
   "execution_count": null,
   "metadata": {
    "ExecuteTime": {
     "end_time": "2022-12-06T07:01:05.263197Z",
     "start_time": "2022-12-06T07:01:02.286927Z"
    }
   },
   "outputs": [],
   "source": [
    "%%timeit\n",
    "a = 'a'\n",
    "[1 for i in range(10000) if a=='a']"
   ]
  },
  {
   "cell_type": "markdown",
   "metadata": {},
   "source": [
    "<div class=\"alert alert-box alert-info\" style=\"font-size:12pt; padding:15px; line-height:150%;\">\n",
    "    Boolean ve string veri tiplerini karşılaştırdığımız örnekte boolean koşulu %30 daha yüksek performans göstermiştir.\n",
    "</div>"
   ]
  },
  {
   "cell_type": "markdown",
   "metadata": {
    "id": "GrXgczbwQN9P"
   },
   "source": [
    "## Boolean değişken tanımlama"
   ]
  },
  {
   "cell_type": "code",
   "execution_count": null,
   "metadata": {
    "ExecuteTime": {
     "end_time": "2022-12-06T07:03:50.014143Z",
     "start_time": "2022-12-06T07:03:50.011325Z"
    },
    "colab": {
     "base_uri": "https://localhost:8080/"
    },
    "executionInfo": {
     "elapsed": 299,
     "status": "ok",
     "timestamp": 1652727746102,
     "user": {
      "displayName": "Alper Aydın",
      "userId": "16424421511940582464"
     },
     "user_tz": -180
    },
    "id": "8jklO2f1P5iU",
    "outputId": "a88eaae7-a5f1-4b33-f5d7-d20fe84f67d5"
   },
   "outputs": [],
   "source": [
    "x = True\n",
    "print(x)\n",
    "print(type(x))"
   ]
  },
  {
   "cell_type": "code",
   "execution_count": null,
   "metadata": {
    "ExecuteTime": {
     "end_time": "2022-12-06T07:04:20.276608Z",
     "start_time": "2022-12-06T07:04:20.274134Z"
    },
    "colab": {
     "base_uri": "https://localhost:8080/"
    },
    "executionInfo": {
     "elapsed": 3,
     "status": "ok",
     "timestamp": 1652727779555,
     "user": {
      "displayName": "Alper Aydın",
      "userId": "16424421511940582464"
     },
     "user_tz": -180
    },
    "id": "_6vUMD-uQAcN",
    "outputId": "7cd246e5-1916-4bd6-df1e-1020124ac331"
   },
   "outputs": [],
   "source": [
    "x = bool(1)\n",
    "print(x)"
   ]
  },
  {
   "cell_type": "code",
   "execution_count": null,
   "metadata": {
    "ExecuteTime": {
     "end_time": "2022-12-06T07:04:26.360926Z",
     "start_time": "2022-12-06T07:04:26.358369Z"
    },
    "colab": {
     "base_uri": "https://localhost:8080/"
    },
    "executionInfo": {
     "elapsed": 4,
     "status": "ok",
     "timestamp": 1652727791890,
     "user": {
      "displayName": "Alper Aydın",
      "userId": "16424421511940582464"
     },
     "user_tz": -180
    },
    "id": "3hEw_fHpQFNo",
    "outputId": "a8e2ea47-36d3-47de-f3f7-55ac7c0c8729"
   },
   "outputs": [],
   "source": [
    "x = bool(0)\n",
    "print(x)"
   ]
  },
  {
   "cell_type": "code",
   "execution_count": null,
   "metadata": {
    "ExecuteTime": {
     "end_time": "2022-12-06T07:04:47.782254Z",
     "start_time": "2022-12-06T07:04:47.779723Z"
    }
   },
   "outputs": [],
   "source": [
    "x = bool(-1)\n",
    "print(x)"
   ]
  },
  {
   "cell_type": "markdown",
   "metadata": {
    "id": "9nrVbFTeQUuv"
   },
   "source": [
    "## Değişken değeri üzeriden boolean değişken oluşturma"
   ]
  },
  {
   "cell_type": "markdown",
   "metadata": {},
   "source": [
    "<div class=\"alert alert-box alert-info\" style=\"font-size:12pt; padding:15px; line-height:150%;\">\n",
    "    Boolean veri tipleri mantıksal karşılaştırmalar sonucunda oluşturulabilir\n",
    "</div>"
   ]
  },
  {
   "cell_type": "code",
   "execution_count": null,
   "metadata": {
    "ExecuteTime": {
     "end_time": "2022-12-06T07:05:55.325882Z",
     "start_time": "2022-12-06T07:05:55.323023Z"
    },
    "colab": {
     "base_uri": "https://localhost:8080/"
    },
    "executionInfo": {
     "elapsed": 4,
     "status": "ok",
     "timestamp": 1652727894249,
     "user": {
      "displayName": "Alper Aydın",
      "userId": "16424421511940582464"
     },
     "user_tz": -180
    },
    "id": "POkkcCUeQL3X",
    "outputId": "c99eccb4-c855-4602-e0e3-1f2069ddd7a0"
   },
   "outputs": [],
   "source": [
    "x = 1\n",
    "b = x>0\n",
    "print(b)\n",
    "print(type(b))"
   ]
  },
  {
   "cell_type": "code",
   "execution_count": null,
   "metadata": {
    "ExecuteTime": {
     "end_time": "2022-12-06T07:06:03.758663Z",
     "start_time": "2022-12-06T07:06:03.756118Z"
    },
    "colab": {
     "base_uri": "https://localhost:8080/"
    },
    "executionInfo": {
     "elapsed": 5,
     "status": "ok",
     "timestamp": 1652727905175,
     "user": {
      "displayName": "Alper Aydın",
      "userId": "16424421511940582464"
     },
     "user_tz": -180
    },
    "id": "DmGTtzPAQkl9",
    "outputId": "538b324c-e557-44df-b568-948c243077da"
   },
   "outputs": [],
   "source": [
    "print(x>1)"
   ]
  },
  {
   "cell_type": "code",
   "execution_count": null,
   "metadata": {
    "ExecuteTime": {
     "end_time": "2022-12-06T07:06:50.984757Z",
     "start_time": "2022-12-06T07:06:50.982134Z"
    },
    "colab": {
     "base_uri": "https://localhost:8080/"
    },
    "executionInfo": {
     "elapsed": 5,
     "status": "ok",
     "timestamp": 1652727936587,
     "user": {
      "displayName": "Alper Aydın",
      "userId": "16424421511940582464"
     },
     "user_tz": -180
    },
    "id": "lssXJGf_QnRy",
    "outputId": "bc7c30cb-3c94-4e6d-bac5-3d2b3e264118"
   },
   "outputs": [],
   "source": [
    "x = [1,2,3] # list veri tipi\n",
    "print(4 in x)"
   ]
  },
  {
   "cell_type": "code",
   "execution_count": null,
   "metadata": {
    "ExecuteTime": {
     "end_time": "2022-12-06T07:06:53.394578Z",
     "start_time": "2022-12-06T07:06:53.392295Z"
    },
    "colab": {
     "base_uri": "https://localhost:8080/"
    },
    "executionInfo": {
     "elapsed": 6,
     "status": "ok",
     "timestamp": 1652727939790,
     "user": {
      "displayName": "Alper Aydın",
      "userId": "16424421511940582464"
     },
     "user_tz": -180
    },
    "id": "_pcvcBJdQvHw",
    "outputId": "893622bb-08f6-4f0c-f700-01c872c29e9e"
   },
   "outputs": [],
   "source": [
    "b = (0 in x)\n",
    "print(b)"
   ]
  },
  {
   "cell_type": "markdown",
   "metadata": {
    "id": "pZBIgXMFQ6cB"
   },
   "source": [
    "## Farklı veri tiplerini boolan'a dönüştürme: casting"
   ]
  },
  {
   "cell_type": "markdown",
   "metadata": {},
   "source": [
    "<div class=\"alert alert-box alert-info\" style=\"font-size:12pt; padding:15px; line-height:150%;\">\n",
    "    Bir değişkeni başka bir veri tipine dönüştürme işlemi \"Casting\" olarak adlandırılır. <br/>\n",
    "    Her veri tipi başka bir veri tipine dönüşemeyebilir. \n",
    "</div>"
   ]
  },
  {
   "cell_type": "code",
   "execution_count": null,
   "metadata": {
    "ExecuteTime": {
     "end_time": "2022-12-06T07:08:27.709886Z",
     "start_time": "2022-12-06T07:08:27.707428Z"
    }
   },
   "outputs": [],
   "source": [
    "x = 1\n",
    "print(bool(x))"
   ]
  },
  {
   "cell_type": "markdown",
   "metadata": {},
   "source": [
    "<div class=\"alert alert-box alert-info\" style=\"font-size:12pt; padding:15px; line-height:150%;\">\n",
    "    Boolean veri tipine dönüşümlerde varlık/yokluk durumu göz önünde bulundurulur.\n",
    "</div>"
   ]
  },
  {
   "cell_type": "code",
   "execution_count": null,
   "metadata": {
    "ExecuteTime": {
     "end_time": "2022-12-06T07:08:36.127030Z",
     "start_time": "2022-12-06T07:08:36.124550Z"
    },
    "colab": {
     "base_uri": "https://localhost:8080/"
    },
    "executionInfo": {
     "elapsed": 6,
     "status": "ok",
     "timestamp": 1652728595572,
     "user": {
      "displayName": "Alper Aydın",
      "userId": "16424421511940582464"
     },
     "user_tz": -180
    },
    "id": "LkLPxOmJQ9Hu",
    "outputId": "977ee516-1592-4e12-f8d2-fc2a50bb08d3"
   },
   "outputs": [],
   "source": [
    "x = \"abc\"\n",
    "print(bool(x))"
   ]
  },
  {
   "cell_type": "code",
   "execution_count": null,
   "metadata": {
    "ExecuteTime": {
     "end_time": "2022-12-06T07:08:49.199895Z",
     "start_time": "2022-12-06T07:08:49.197428Z"
    },
    "colab": {
     "base_uri": "https://localhost:8080/"
    },
    "executionInfo": {
     "elapsed": 310,
     "status": "ok",
     "timestamp": 1652728603426,
     "user": {
      "displayName": "Alper Aydın",
      "userId": "16424421511940582464"
     },
     "user_tz": -180
    },
    "id": "gy9hmlDNTQCd",
    "outputId": "5f9319de-7d10-4829-ca69-26b1bacb5993"
   },
   "outputs": [],
   "source": [
    "x = \"\"\n",
    "print(bool(x))"
   ]
  },
  {
   "cell_type": "code",
   "execution_count": null,
   "metadata": {
    "ExecuteTime": {
     "end_time": "2022-12-06T07:09:05.331132Z",
     "start_time": "2022-12-06T07:09:05.327528Z"
    }
   },
   "outputs": [],
   "source": [
    "bool('False')"
   ]
  },
  {
   "cell_type": "markdown",
   "metadata": {},
   "source": [
    "<div class=\"alert alert-box alert-warning\" style=\"font-size:12pt; padding:15px; line-height:150%;\">\n",
    "    String içerisindeki değer False olmasına rağmen casting işlemi varlık/yokluk olarak değerlendirdiği için True değeri dönmüştür.\n",
    "</div>"
   ]
  },
  {
   "cell_type": "code",
   "execution_count": null,
   "metadata": {
    "ExecuteTime": {
     "end_time": "2022-12-06T07:10:36.071765Z",
     "start_time": "2022-12-06T07:10:36.069213Z"
    },
    "colab": {
     "base_uri": "https://localhost:8080/"
    },
    "executionInfo": {
     "elapsed": 6,
     "status": "ok",
     "timestamp": 1652728041683,
     "user": {
      "displayName": "Alper Aydın",
      "userId": "16424421511940582464"
     },
     "user_tz": -180
    },
    "id": "Pf64Q1wTQ_1_",
    "outputId": "db23b04b-2bfd-4d3e-c1fa-bd07b7fdf5bd"
   },
   "outputs": [],
   "source": [
    "x = [1,2,3]\n",
    "print(bool(x))"
   ]
  },
  {
   "cell_type": "code",
   "execution_count": null,
   "metadata": {
    "ExecuteTime": {
     "end_time": "2022-12-06T07:10:40.642219Z",
     "start_time": "2022-12-06T07:10:40.639621Z"
    },
    "colab": {
     "base_uri": "https://localhost:8080/"
    },
    "executionInfo": {
     "elapsed": 3,
     "status": "ok",
     "timestamp": 1652728587179,
     "user": {
      "displayName": "Alper Aydın",
      "userId": "16424421511940582464"
     },
     "user_tz": -180
    },
    "id": "tq240KZ3RI0v",
    "outputId": "7110d83e-5ded-49e1-aed2-b878d8184b56"
   },
   "outputs": [],
   "source": [
    "x = []\n",
    "print(bool(x))"
   ]
  },
  {
   "cell_type": "markdown",
   "metadata": {
    "id": "cKEfZX5-UGJc"
   },
   "source": [
    "## isinstance()"
   ]
  },
  {
   "cell_type": "markdown",
   "metadata": {},
   "source": [
    "<div class=\"alert alert-box alert-info\" style=\"font-size:12pt; padding:15px; line-height:150%;\">\n",
    "    Bir değişkenin belirli bir veri tipinde olup olmadığını gösterir\n",
    "</div>"
   ]
  },
  {
   "cell_type": "code",
   "execution_count": null,
   "metadata": {
    "ExecuteTime": {
     "end_time": "2022-12-06T07:11:29.348237Z",
     "start_time": "2022-12-06T07:11:29.345576Z"
    },
    "colab": {
     "base_uri": "https://localhost:8080/"
    },
    "executionInfo": {
     "elapsed": 434,
     "status": "ok",
     "timestamp": 1652729144869,
     "user": {
      "displayName": "Alper Aydın",
      "userId": "16424421511940582464"
     },
     "user_tz": -180
    },
    "id": "wI_XWqsqUJNf",
    "outputId": "9f51e6ef-17ac-44e7-eef5-0bec179dfae2"
   },
   "outputs": [],
   "source": [
    "x = 1\n",
    "x = 'asdf'\n",
    "print(x)\n",
    "print(type(x))"
   ]
  },
  {
   "cell_type": "code",
   "execution_count": null,
   "metadata": {
    "ExecuteTime": {
     "end_time": "2022-12-06T07:13:02.327277Z",
     "start_time": "2022-12-06T07:13:02.324674Z"
    },
    "colab": {
     "base_uri": "https://localhost:8080/"
    },
    "executionInfo": {
     "elapsed": 2,
     "status": "ok",
     "timestamp": 1652729145527,
     "user": {
      "displayName": "Alper Aydın",
      "userId": "16424421511940582464"
     },
     "user_tz": -180
    },
    "id": "UKv-0SpcUOGD",
    "outputId": "52a20ae6-c53c-40a8-fbb2-18c9435a559d"
   },
   "outputs": [],
   "source": [
    "print(isinstance(x, int))"
   ]
  },
  {
   "cell_type": "code",
   "execution_count": null,
   "metadata": {
    "ExecuteTime": {
     "end_time": "2022-12-06T07:13:28.872223Z",
     "start_time": "2022-12-06T07:13:28.869654Z"
    },
    "colab": {
     "base_uri": "https://localhost:8080/"
    },
    "executionInfo": {
     "elapsed": 2,
     "status": "ok",
     "timestamp": 1652729145914,
     "user": {
      "displayName": "Alper Aydın",
      "userId": "16424421511940582464"
     },
     "user_tz": -180
    },
    "id": "zYGIHIXnUaaR",
    "outputId": "9604f1ba-c498-44db-b135-f41f7467bcd7"
   },
   "outputs": [],
   "source": [
    "print(isinstance(x, bool))"
   ]
  },
  {
   "cell_type": "code",
   "execution_count": null,
   "metadata": {
    "ExecuteTime": {
     "end_time": "2022-12-06T07:13:51.188603Z",
     "start_time": "2022-12-06T07:13:51.185825Z"
    }
   },
   "outputs": [],
   "source": [
    "x = 'False'\n",
    "print(isinstance(x, bool))\n",
    "print(isinstance(x, str))"
   ]
  },
  {
   "cell_type": "markdown",
   "metadata": {
    "id": "r3lCb6_s7Z6r"
   },
   "source": [
    "# Tuple Veri Tipi"
   ]
  },
  {
   "cell_type": "markdown",
   "metadata": {},
   "source": [
    "<div class=\"alert alert-box alert-info\" style=\"font-size:12pt; padding:15px; line-height:150%;\">\n",
    "    <li>Tek değişken içerisinde birden fazla değişken tutabilmeyi sağlayan Sıralı Veri Tiplerinden birisidir.</li>\n",
    "    <li>Parantez içerisinde virgül ile ayrılan değerler şeklinde oluşturulurlar</li>\n",
    "</div>"
   ]
  },
  {
   "cell_type": "code",
   "execution_count": null,
   "metadata": {
    "ExecuteTime": {
     "end_time": "2022-12-06T07:32:28.789156Z",
     "start_time": "2022-12-06T07:32:28.786176Z"
    },
    "colab": {
     "base_uri": "https://localhost:8080/"
    },
    "executionInfo": {
     "elapsed": 7,
     "status": "ok",
     "timestamp": 1652729312063,
     "user": {
      "displayName": "Alper Aydın",
      "userId": "16424421511940582464"
     },
     "user_tz": -180
    },
    "id": "ywo3LucIV6ZA",
    "outputId": "f113e661-9b1b-4867-9d25-6cde8440b91b"
   },
   "outputs": [],
   "source": [
    "x = (1,2,3)\n",
    "print(x)\n",
    "print(type(x))\n",
    "print(id(x))"
   ]
  },
  {
   "cell_type": "code",
   "execution_count": null,
   "metadata": {
    "ExecuteTime": {
     "end_time": "2022-12-06T07:33:10.063982Z",
     "start_time": "2022-12-06T07:33:10.061227Z"
    },
    "colab": {
     "base_uri": "https://localhost:8080/"
    },
    "executionInfo": {
     "elapsed": 5,
     "status": "ok",
     "timestamp": 1652729293320,
     "user": {
      "displayName": "Alper Aydın",
      "userId": "16424421511940582464"
     },
     "user_tz": -180
    },
    "id": "WYPJVIkSTzyj",
    "outputId": "e9b107e1-25d5-4910-fbdb-e07bb0257705"
   },
   "outputs": [],
   "source": [
    "x = tuple([1,2,3])\n",
    "print(x)\n",
    "print(type(x))"
   ]
  },
  {
   "cell_type": "code",
   "execution_count": null,
   "metadata": {
    "ExecuteTime": {
     "end_time": "2022-12-06T07:33:25.183580Z",
     "start_time": "2022-12-06T07:33:25.180504Z"
    }
   },
   "outputs": [],
   "source": [
    "x = tuple('asdfa')\n",
    "x"
   ]
  },
  {
   "cell_type": "markdown",
   "metadata": {
    "id": "RAQqlTrEWGgL"
   },
   "source": [
    "## Özellikleri"
   ]
  },
  {
   "cell_type": "markdown",
   "metadata": {},
   "source": [
    "<div class=\"alert alert-box alert-info\" style=\"font-size:12pt; padding:15px; line-height:150%;\">\n",
    "    <li><b>Sıralıdır</b>: Elemanlarının belirli bir sırası vardır ve bu sıra değişmez </li>\n",
    "    <li><b>Değiştirilemez</b>: Elemanları sabittir, ekleme çıkartma yapılamaz</li>\n",
    "    <li><b>Çoklayabilir</b>: Aynı değere sahip birden fazla eleman olabilir</li>\n",
    "</div>"
   ]
  },
  {
   "cell_type": "markdown",
   "metadata": {
    "id": "2SKQHUygX45B"
   },
   "source": [
    "![image.png](data:image/png;base64,iVBORw0KGgoAAAANSUhEUgAACi4AAADyCAYAAADQ6q/nAAAMbWlDQ1BJQ0MgUHJvZmlsZQAASImVVwdYU8kWnluSkJAQIHQpoTdBpAaQEkILIL0INkISSCgxJgQVO7qo4NpFFCu6KqLYVkDs2JVFsffFgoqyLupiQ+VNSEDXfeV75/vm3j9nzvyn3JncewCgf+BJpfmoNgAFkkJZYkQIc1R6BpP0FKDAENABDRB4fLmUHR8fA6AM3P8u724ARHm/6qLk+uf8fxVdgVDOBwAZA3GWQM4vgPg4APhavlRWCABRqbeeVChV4lkQ68lggBCvUOIcFd6uxFkqfLjfJjmRA/FlADSoPJ4sBwCte1DPLOLnQB6tzxC7SQRiCQD0oRAH8kU8AcTK2IcWFExQ4kqIHaC9FGIYD2BlfceZ8zf+rEF+Hi9nEKvy6heNULFcms+b8n+W5n9LQb5iwIcdHFSRLDJRmT+s4a28CdFKTIW4S5IVG6esNcQfxAJV3QFAKSJFZIrKHjXlyzmwfsAAYjcBLzQaYlOIwyX5sTFqfVa2OJwLMdwt6GRxITcZYiOI5wvlYUlqm42yCYlqX2h9tozDVuvP8WT9fpW+HijyUthq/jciIVfNj2kVi5LTIKZAbFMkTo2FWAtiV3leUrTaZkSxiBM7YCNTJCrjt4E4USiJCFHxY0XZsvBEtX1ZgXwgX2yjSMyNVeN9haLkSFV9sFN8Xn/8MBfsslDCThngEcpHxQzkIhCGhqlyx54LJSlJap4P0sKQRNVanCLNj1fb41bC/Ail3gpiT3lRknotnloIN6eKH8+WFsYnq+LEi3N5UfGqePAlIAZwQChgAgUcWWACyAXi1q6GLvhLNRMOeEAGcoAQuKg1AyvS+mck8JoEisEfEAmBfHBdSP+sEBRB/ZdBrerqArL7Z4v6V+SBpxAXgGiQD38r+ldJBr2lgidQI/6Hdx4cfBhvPhzK+X+vH9B+07ChJkatUQx4ZNIHLIlhxFBiJDGc6Iib4IG4Px4Dr8FwuOMs3Hcgj2/2hKeENsIjwnVCO+H2eHGJ7IcoR4J2yB+urkXW97XA7SCnFx6CB0B2yIwb4CbABfeEfth4EPTsBbUcddzKqjB/4P5bBt89DbUd2Y2Mkg3JwWSHH1dqOWl5DbIoa/19fVSxZg3WmzM486N/znfVF8B79I+W2HxsP3YWO4Gdxw5jDYCJHcMasRbsiBIP7q4n/btrwFtifzx5kEf8D388tU9lJeVutW6dbp9Vc4XCyYXKg8eZIJ0iE+eICpls+HYQMrkSvutQprubuzsAyneN6u/rbUL/OwQxaPmmm/M7AAHH+vr6Dn3TRR0DYK8PPP4Hv+kcWADoaAJw7iBfIStS6XDlhQD/JejwpBkDc2ANHGA+7sAb+INgEAaiQBxIBulgHKyyCO5zGZgEpoHZoBSUgyVgJVgDNoDNYDvYBfaBBnAYnABnwEVwGVwHd+Hu6QAvQTd4B3oRBCEhNISBGCMWiC3ijLgjLCQQCUNikEQkHclEchAJokCmIXOQcmQZsgbZhNQge5GDyAnkPNKG3EYeIp3IG+QTiqFUVA81Q+3QYSgLZaPRaDI6Fs1BJ6LF6Fx0EVqJVqM70Xr0BHoRvY62oy/RHgxgmpgBZom5YCyMg8VhGVg2JsNmYGVYBVaN1WFN8DlfxdqxLuwjTsQZOBN3gTs4Ek/B+fhEfAa+EF+Db8fr8VP4Vfwh3o1/JdAIpgRngh+BSxhFyCFMIpQSKghbCQcIp+FZ6iC8IxKJBkR7og88i+nEXOJU4kLiOuJu4nFiG/ExsYdEIhmTnEkBpDgSj1RIKiWtJu0kHSNdIXWQPmhoalhouGuEa2RoSDRKNCo0dmgc1bii8Uyjl6xNtiX7kePIAvIU8mLyFnIT+RK5g9xL0aHYUwIoyZRcymxKJaWOcppyj/JWU1PTStNXM0FTrDlLs1Jzj+Y5zYeaH6m6VCcqhzqGqqAuom6jHqfepr6l0Wh2tGBaBq2QtohWQztJe0D7oMXQctXiagm0ZmpVadVrXdF6RSfTbels+jh6Mb2Cvp9+id6lTda20+Zo87RnaFdpH9S+qd2jw9AZrhOnU6CzUGeHznmd57okXTvdMF2B7lzdzbondR8zMIY1g8PgM+YwtjBOMzr0iHr2ely9XL1yvV16rXrd+rr6nvqp+pP1q/SP6LcbYAZ2BlyDfIPFBvsMbhh8MjQzZBsKDRcY1hleMXxvNMQo2EhoVGa02+i60SdjpnGYcZ7xUuMG4/smuImTSYLJJJP1JqdNuoboDfEfwh9SNmTfkDumqKmTaaLpVNPNpi2mPWbmZhFmUrPVZifNuswNzIPNc81XmB8177RgWARaiC1WWByzeMHUZ7KZ+cxK5ilmt6WpZaSlwnKTZatlr5W9VYpVidVuq/vWFGuWdbb1Cutm624bC5uRNtNsam3u2JJtWbYi21W2Z23f29nbpdnNs2uwe25vZM+1L7avtb/nQHMIcpjoUO1wzZHoyHLMc1zneNkJdfJyEjlVOV1yRp29ncXO65zbhhKG+g6VDK0eetOF6sJ2KXKpdXnoauAa41ri2uD6apjNsIxhS4edHfbVzcst322L293husOjhpcMbxr+xt3Jne9e5X7Ng+YR7jHTo9Hjtaezp9BzvectL4bXSK95Xs1eX7x9vGXedd6dPjY+mT5rfW6y9FjxrIWsc74E3xDfmb6HfT/6efsV+u3z+9PfxT/Pf4f/8xH2I4Qjtox4HGAVwAvYFNAeyAzMDNwY2B5kGcQLqg56FGwdLAjeGvyM7cjOZe9kvwpxC5GFHAh5z/HjTOccD8VCI0LLQlvDdMNSwtaEPQi3Cs8Jrw3vjvCKmBpxPJIQGR25NPIm14zL59Zwu6N8oqZHnYqmRidFr4l+FOMUI4tpGomOjBq5fOS9WNtYSWxDHIjjxi2Pux9vHz8x/lACMSE+oSrhaeLwxGmJZ5MYSeOTdiS9Sw5JXpx8N8UhRZHSnEpPHZNak/o+LTRtWVr7qGGjpo+6mG6SLk5vzCBlpGZszegZHTZ65eiOMV5jSsfcGGs/dvLY8+NMxuWPOzKePp43fn8mITMtc0fmZ14cr5rXk8XNWpvVzefwV/FfCoIFKwSdwgDhMuGz7IDsZdnPcwJylud0ioJEFaIuMUe8Rvw6NzJ3Q+77vLi8bXl9+Wn5uws0CjILDkp0JXmSUxPMJ0ye0CZ1lpZK2yf6TVw5sVsWLdsqR+Rj5Y2FevCjvkXhoPhJ8bAosKiq6MOk1En7J+tMlkxumeI0ZcGUZ8Xhxb9MxafypzZPs5w2e9rD6ezpm2YgM7JmNM+0njl3ZsesiFnbZ1Nm583+rcStZFnJX3PS5jTNNZs7a+7jnyJ+qi3VKpWV3pznP2/DfHy+eH7rAo8Fqxd8LROUXSh3K68o/7yQv/DCz8N/rvy5b1H2otbF3ovXLyEukSy5sTRo6fZlOsuKlz1ePnJ5/QrmirIVf60cv/J8hWfFhlWUVYpV7ZUxlY2rbVYvWf15jWjN9aqQqt1rTdcuWPt+nWDdlfXB6+s2mG0o3/Bpo3jjrU0Rm+qr7aorNhM3F21+uiV1y9lfWL/UbDXZWr71yzbJtvbtidtP1fjU1Oww3bG4Fq1V1HbuHLPz8q7QXY11LnWbdhvsLt8D9ij2vNibuffGvuh9zftZ++t+tf117QHGgbJ6pH5KfXeDqKG9Mb2x7WDUweYm/6YDh1wPbTtsebjqiP6RxUcpR+ce7TtWfKznuPR414mcE4+bxzffPTnq5LVTCadaT0efPncm/MzJs+yzx84FnDt83u/8wQusCw0XvS/Wt3i1HPjN67cDrd6t9Zd8LjVe9r3c1Dai7eiVoCsnroZePXONe+3i9djrbTdSbty6OeZm+y3Bree382+/vlN0p/furHuEe2X3te9XPDB9UP274++7273bjzwMfdjyKOnR3cf8xy+fyJ987pj7lPa04pnFs5rn7s8Pd4Z3Xn4x+kXHS+nL3q7SP3T+WPvK4dWvfwb/2dI9qrvjtex135uFb43fbvvL86/mnvieB+8K3vW+L/tg/GH7R9bHs5/SPj3rnfSZ9Lnyi+OXpq/RX+/1FfT1SXkyXv+nAAYHmp0NwJttANDSAWDAvo0yWtUL9gui6l/7EfhPWNUv9os3AHXw+z2hC37d3ARgzxbYfkF+OuxV42kAJPsC1MNjcKhFnu3hruKiwj6F8KCv7y3s2UjLAfiypK+vt7qv78tmGCzsHY9LVD2oUoiwZ9jI/ZJVkAX+jaj60+9y/PEOlBF4gh/v/wJtTZCjvIDD8AAAAIplWElmTU0AKgAAAAgABAEaAAUAAAABAAAAPgEbAAUAAAABAAAARgEoAAMAAAABAAIAAIdpAAQAAAABAAAATgAAAAAAAACQAAAAAQAAAJAAAAABAAOShgAHAAAAEgAAAHigAgAEAAAAAQAACi6gAwAEAAAAAQAAAPIAAAAAQVNDSUkAAABTY3JlZW5zaG90JWfnegAAAAlwSFlzAAAWJQAAFiUBSVIk8AAAAddpVFh0WE1MOmNvbS5hZG9iZS54bXAAAAAAADx4OnhtcG1ldGEgeG1sbnM6eD0iYWRvYmU6bnM6bWV0YS8iIHg6eG1wdGs9IlhNUCBDb3JlIDYuMC4wIj4KICAgPHJkZjpSREYgeG1sbnM6cmRmPSJodHRwOi8vd3d3LnczLm9yZy8xOTk5LzAyLzIyLXJkZi1zeW50YXgtbnMjIj4KICAgICAgPHJkZjpEZXNjcmlwdGlvbiByZGY6YWJvdXQ9IiIKICAgICAgICAgICAgeG1sbnM6ZXhpZj0iaHR0cDovL25zLmFkb2JlLmNvbS9leGlmLzEuMC8iPgogICAgICAgICA8ZXhpZjpQaXhlbFlEaW1lbnNpb24+MjQyPC9leGlmOlBpeGVsWURpbWVuc2lvbj4KICAgICAgICAgPGV4aWY6UGl4ZWxYRGltZW5zaW9uPjI2MDY8L2V4aWY6UGl4ZWxYRGltZW5zaW9uPgogICAgICAgICA8ZXhpZjpVc2VyQ29tbWVudD5TY3JlZW5zaG90PC9leGlmOlVzZXJDb21tZW50PgogICAgICA8L3JkZjpEZXNjcmlwdGlvbj4KICAgPC9yZGY6UkRGPgo8L3g6eG1wbWV0YT4Ki2BUXgAAABxpRE9UAAAAAgAAAAAAAAB5AAAAKAAAAHkAAAB5AABXRWWBdAcAAEAASURBVHgB7N0HfBZF/sfxX+hdilhAioDGcuLZu9j5WwAVe0OwYAVPEaxYsAXsCtZTxK6nIp56nr23Q8WGCAgioNJrOvDf34RZ59nskzw9z5N89nWPuzs7Ozvz3niJr3wzk7fO24QNAQQQQAABBBBAAAEEEEAAAQQQQAABBBBAAAEEEEAAAQQQQAABBBBAoMYEgvEN99w9th0MK7PX2COAAAIIIJAugby8vEpNu2XusVYMntub87xvZAQXrQZ7BBBAAAEEEEAAAQQQQAABBBBAAAEEEEAAAQQQQAABBBBAAAEEEEAgwwLB6IY9D+61W7asqi7GUqeq+7mGAAIIIFC3BaKFDV0Vt449Du5tfVtuz3VPcNHV4BgBBBBAAAEEEEAAAQQQQAABBBBAAAEEEEAAAQQQQAABBBBAAAEEEMiggBsytMfV7bV7tk4Gu8qjEEAAAQQQiJhB0QYSq9srm61jCQkuWgn2CCCAAAIIIIAAAggggAACCCCAAAIIIIAAAggggAACCCCAAAIIIIBABgXc8KE9dvfRjrWL9loGu8ujEEAAAQQQ8AOINoio+2jHymWvVTr2vpGxVDRfUAgggAACCCCAAAIIIIAAAggggAACCCCAAAIIIIAAAggggAACCCCAQIYF3MiGHttze6z7tWvXSv369c3HDYdkuKs8DgEEEEAAgQgB+71qzZo1op969eqZkKL7vco91psjQoxeAwQXI0g5QQABBBBAAAEEEEAAAQQQQAABBBBAAAEEEEAAAQQQQAABBBBAAAEE0ivgxjVs+EOfaI81sKhbw4YNTRjEnPAPBBBAAAEEslBAv2eVlZWZnrkBRi2IFl5kqegsfJF0CQEEEEAAAQQQQAABBBBAAAEEEEAAAQQQQAABBBBAAAEEEEAAAQRqt4ANLrp7N7Sox40aNSK0WLu/DBgdAgggUGsENLxYWlpqgopueNHOslhp732jY8bFWvP6GQgCCCCAAAIIIIAAAggggAACCCCAAAIIIIAAAggggAACCCCAAAIIZLuAG9XQY/ejwQ/96PLQGlxkQwABBBBAIFcENLhol40OhhdtcFHHYmZh9L75EVzMlTdLPxFAAAEEEEAAAQQQQAABBBBAAAEEEEAAAQQQQAABBBBAAAEEEEAg5wVsVMPd67ENLWroo0mTJia8mPODZQAIIIAAAnVGQL9/FRcXm+9fGlx0w4uKYMOLBBfrzJcEA0UAAQQQQAABBBBAAAEEEEAAAQQQQAABBBBAAAEEEEAAAQQQQACBbBEIBhb13AYXNfRRXl4uLVu29AMe2dJv+oEAAnVL4KeffpJp06alZND9+vVLSTs0kt0C+r1s5cqV0qBBAz+8aEKKeXkVsyx6e90ILmb3e6R3CCCAAAIIIIAAAggggAACCCCAAAIIIIAAAggggAACCCCAAAIIIFDLBGxoUYdlA4tuaFGDi2VlZdKmTZtaNnKGgwACuSKggcXRo0entLsaXCS8mFLSrG1s6dKl0rBhQxNcrF+/fsSsi3bGRe18nvfNj6Wis/Y10jEEEEAAAQQQQAABBBBAAAEEEEAAAQQQQAABBBBAAAEEEEAAAQQQqE0CNqbh7vVYA4u6VLSGFktLS2XDDTesTcNmLHVI4OWXXzaz9Gn4Ld1bNobhdPz6Cduysb9h/axqDGH1Yy0bPny4bLXVVrFWp16OCixatEgaNWpkwou6VLSGF+2sizokG14kuJijL5huI4AAAggggAACCCCAAAIIIIAAAggggAACCCCAAAIIIIAAAggggEDuCbiBRe29nmtgUT+6RLQGF0tKSmTjjTfOvcHR4zovkK7AW1Ww2RYGHDRoUNTuamhPw3vZvrljSHaWRF1q2oZYs+1d6XuIFjK17yjZ8dt26tL+zz//lMaNG5vgoi4ZreFF/fiBRbtctPcNMOEZF5O4tS69C8aKAAIIIIAAAggggAACCCCAAAIIIIAAAggggAACCCCAAAIIIIAAAggYAZu10L09doOLOtuiBhc33XRTxBDIOQE38JapzmdbGLA6g0ceeSRTNAk/xx1Dsv11w6zZFlzU5bBtqDIaVrb1OVo/s6n8999/N8FFnXXRDS5qHyMCjN43wWqDizFUyaax0xcEEEAAAQQQQAABBBBAAAEEEEAAAQQQQAABBBBAAAEEEEAAAQQQQCArBWwGQ/fuR5eK1hkXNbhYXFwsHTt2zEj/7WxjtWlWsWwOSmXkpdbgQ9zAWya7kWy4LlV91RCchuGq2nJhuWT3PSZrmw3/Prp9qOrdxHMtVwKNduwa8M3Pz5dM/H/9vHnzpEmTJma5aA0uuktFRywZ7X0TDA0uRimO5/1QFwEEEEAAAQQQQAABBBBAAAEEEEAAAQQQQAABBBBAAAEEEEAAAQQQQMARsHkM3bsfG1zU2Rb1k4ngog20aPdyJYTjUEY9rK3jijrgLLrgBt4y2a1kw3Xx9NXO0KdBsODmfu0Fr9nzaP+uabthbdr7Mrl332Oytq5JtLGne2xuH1L1rJoaSzz9Dxt3JvqtwUVdKlo/cQUX7TfIeAZJXQQQQAABBBBAAAEEEEAAAQQQQAABBBBAAAEEEEAAAQQQQAABBBBAAIHqBWwuww0t6rEGF8vKyvwZFzfbbLPqG0uiRk0FWpLocsy3umPLREgn5o7VgYpu4C2Tw002XBdPX93lhfXrS2ex023SpEnVLjtsn2O/LjWs6N6XLcteu+8xWdts+PfR7YN9B8nu7TtMtp103u9+rbrPSfadum2FHc+dO9efcbFhw4bVz7hovzGGNUYZAggggAACCCCAAAIIIIAAAggggAACCCCAAAIIIIAAAggggAACCCCAQPICNp9RVXCxqKhIOnXqlPzDorRQVYgnF8I4UYblF7vjqw3j8QeWAwdu4M3tbqqCUulu3+1z2LH7tRV2PRVl2fA16zon++5cs2wYWyreUa604b5H2+dMhGN/++03adq0qVkqusrg4tq1a0OXiradjba330ijXaccAQQQQAABBBBAAAEEEEAAAQQQQAABBBBAAAEEEEAAAQQQQAABBBBAIFLA5i2qCy527tw58sYUnbkhomhN5nq4yB1jro1FZ+CbNm1a6KvRmf3sUsKx1gttKI2FYUEpfVyy4Tfb5XS3b58TbR/t+dHqJ1qeKq/qnq//rthN/12xmzvOZPuSTf8+uuO1Y01k71olcn+m7nHt7TMz8f+Jc+bMqTK4WK9ePdOdvFiDi/Ybpx0EewQQQAABBBBAAAEEEEAAAQQQQAABBBBAAAEEEEAAAQQQQAABBBBAAIH4BGz+IlpwsaSkRIqLiyUdwcWwEIvtvQbiNAxnt0yEW+yzUr13x5kL4wguFxzNwx2LO8Zo9fWd9u3b1w87RquXynI38Oa2m2z4zbaV7vbtc8L2sZiH3ZdImfuuE7k/1ntcT/cdRSuPtV23nuuWqXG5z3eP3XG55fEeu1bx3pvp+uqvYWj9/5lM+WtwsUmTJtK4cWNJeMZF+80yHrBE7omnfeoigAACCCCAAAIIIIAAAggggAACCCCAAAIIIIAAAggggAACCCCAAAK5KmBzFdUFF7t06ZLSIbrhIW1YAyy6abluwXNbZstNpRz5hzvWTAV1EqVx+1pdG+5YEr2vumckez1VwbB4+5GJIFkiYwsGguMZ1/Dhw9MeOnXH5BpGK4+n/7au+7Xqfg3b65ncu+NK5rmuVTLt1NZ7f/31VxNc1PBi3MFF+00yGk5116PdRzkCCCCAAAIIIIAAAggggAACCCCAAAIIIIAAAggggAACCCCAAAIIIFCXBWzmwg0ueqtlin7KysrEzriYyuCiGxxSexsecsvDyty6ufTOwsaVjf13+6n9s8tA6yyJ0TZbR6+7M2Ta+naZaW3b3TIRgtPnRQuG6ddXKrbguGyb6Q6SqfXo0aPt46rd23+f3IrB9+1eCzsOayOsXjJl7vtyDaOVJ/Isd9yZGFNVfXTHVVW96q65VtXVrYvXbXDRzrioS0PrJy8vL/LjLhVtvzmGgVV1zdaPpY6tyx4BBBBAAAEEEEAAAQQQQAABBBBAAAEEEEAAAQQQQAABBBBAAAEEEKhrAjZboXv7CQsudu3aNSU0bmhIG3SDQ+41t1wDWm4ozr2Wkk6luZFo40rzY+Nu3g1RpcPYddDOZSJs5Y7JBUnVs9Pdvtvn4HHQM3jdnlcVEo01AKkBVW0n3Zvr6b6jaOWJ9Md1S8fXeTx9cscVz33Buq5V8BrnIrNnz/aXim7UqJEJLQaDi+qUZ4OL9hujixdWptejlbv3VnecijaqewbXEUAAAQQQQAABBBBAAAEEEEAAAQQQQAABBBBAAAEEEEAAAQQQQACBbBKweQnd208wuKizLqYiuOgGhtQgGBpyrwev5XJ4sapxZcvXQqb66L7H4DtOh0W0YFiqgl7pbr86E/e9hdWNxTgVbYQ9O5Ey19N9R9HKE3mGO95YfBJ5Rqz3uOOK9Z6weq5V2PVsKrP+GobNz8833wfS3T83uKhLRUedcXHNmjXrgp2x3yTd8rAyvR6t3L2XYwQQQAABBBBAAAEEEEAAAQQQQAABBBBAAAEEEEAAAQQQQAABBBBAAIG/chY2tKj7dAQXbVjFmocFhtw6Ydfd0Ju2E1bHtp+pvfZZl0Ouaja66sbl9lXr6qZjy+Tm9jHaDH22b7H2K2wM7gx/mZjFL1owLKxvsY7LrRfNJJNBMvfduX3T41j7UZVTqqyCfQs7d/vh9t11TrY/rpe2lWx7YeOItcwdb6z3hNVzrcKuZ0uZa2/7lIl3oMFFXSY6uFS0O+ui9icvGFwMBhGrO7eD0n2wrnuNYwQQQAABBBBAAAEEEEAAAQQQQAABBBBAAAEEEEAAAQQQQAABBBBAoK4L2GyF7u0nLLi4+eabJ0wVDKtEC6q49aLVyabwotvfqkJ4br1o41LcWOsl/CKquNENUEULQbl1qmjKv1RdO1WZ+Y0keRBvn5N8nH97tLH7FVJ44IZBg83G2o/gv1e2nWghVns91Xv3fcXa93j7UJP/ngX76o43eC2e83RZxdOHWOpG+zpLd/9nzZrlBxerXCraBhftN0Y7KPfcPQ67bst0H1bXvc4xAggggAACCCCAAAIIIIAAAggggAACCCCAAAIIIIAAAggggAACCCBQVwVsrkL39hMWXOzWrVvCRLEGhWKt54ZfqgoCJtzhGG90+6u3RAviufWi9deto21Fq6fX0rG5ptFCRPGGrGJpJ1qdVI0xWp9T9dx0tx+LQ7TgYrSvx7A2o42D4GKYVurKornH+4RUfT3H+9x464eNN56v03ifZ+v/8ssvJrjYpEkTCVsqWmde1M3MuGi/KWqBexw8r+qa1nW3YF33GscIIIAAAggggAACCCCAAAIIIIAAAggggAACCCCAAAIIIIAAAggggEBdFLB5Ct3bjxtcLC0tleLiYunevXtSPBrM000DedE2N7xXXXBPg3b5+flVthftOaksd/us7YaFcNw6YeNyr2sbYXW0PJ2bG1yMFlbTfsazhb1rN2SXiXGGBaV0DKkKeqW7/Vi8g18/7j2xjjPaODLxjtz+uv1w+x7L117Y15vbtj12vTI9PtsHu3fHa8sS2btWidyfqXtce/vMTLwDG1wMLhWdl5cndrlo7U9eeXn5Otsx+81Rz91j/QZpN7c8WM/WqarcrcMxAggggAACCCCAAAIIIIAAAggggAACCCCAAAIIIIAAAggggAACCCBQlwRs7kL39mODi16GQ0pKSkxwcYsttkg7ixtqyUSYJVUDcvutbQbDi+714Ljca3pv8LqWZWJz+xHsfyqf7z4nE2ONFgxLVdAr3e1XZ+96htWNxTgVbYQ9O5Ey19N9R255tHbd+tHqaLk73lh8qmor2WuxjCuWZ8Q69ljaSncd9Z82bZpoiDlT/jNmzBCdbVGDiw0aNDBhRQ0s2tCiBhh184OL9hujFtpvjMEyvWZDjPaa3es1d4tW7tbhGAEEEEAAAQQQQAABBBBAAAEEEEAAAQQQQAABBBBAAAEEEEAAAQQQqEsCNk+he/sJCy5qmC3dWzYFiuIdq9t3vdcN/7nX3KCOW673uNf0PNObG6JKR1+C481E2ModUyY9MzE2d5bMqsYWbQZNvcedAbOqNtLx9RD2PPd9uYZuedh9WubWj1ZHy92vw0yNK1p/YhlXtHvd8ljH7t5Tl441KFlVcNFfKlpnXAx+U1QoG1C0e7fM1regwXMtDyuz9dkjgAACCCCAAAIIIIAAAggggAACCCCAAAIIIIAAAggggAACCCCAAAJ1UcDmKXRvP5rN0OOysjIz46LOurj11lunnSebAkWJDNbtv95vQ1FueViZWzeR56bqnrAQm/ZXN12WO7i5YVa9N9o2adIkc8mtYx2i3ZOq8lQFw+LtT7qDZO7XVCx9C/OOt42qApCx9CGWOu77cg21r3azs/XZc7t369uysL077jCXsHvSVeaON5lnxDr2ZJ6Ry/fq//fobIt2qWidYbF+/fqi+4iP903PLBVtvxnGslcYW88eB7H0OhsCCCCAAAIIIIAAAggggAACCCCAAAIIIIAAAggggAACCCCAAAIIIIDAXwI2T2FzF7oPCy5ut912f92UpqNsChQlOkR3DNqGDf7Z4FXw3Nax5Yk+N1X3BftfVbtu6CvR+6pqPxXXUhUMi7cv6Q6ShYVMY+2jBk7dEGms96V7TNoP932FPa+qcYfVDxub+7Xqfg2H1U13mTveZJ4V69iTeUYu3/v9999HDS7aJaN1fHk2uLhmzRozXjvD4oIFC3J5/DXe94033rjG+0AHEEAAAQQQQAABBBBAAAEEEEAAAQQQQAABBBBAAAEEEEAAAQQQQCC7BKIFFzWvoTMulpaWSnFxsXTv3j3tHc+mQFEyg3XHoe1UFRSr6eBU2Dg1HKazJFYXbnP7HhxzWLvq0LdvX+MRdj0dZbEup5zqZ2ciSBaLearG5b7rVLUZ1o4b5AsaVhVa1LaC9cPa1zLXLVPjitYXd7zR6sRSHuvYY2kr3XWsv/7/gc7kqu8g3dvMmTPNUtGNGjWShg0big0rurMtah9McNENLeo3SD1fsmRJuvtYq9snuFirXy+DQwABBBBAAAEEEEAAAQQQQAABBBBAAAEEEEAAAQQQQAABBBBAICEBgosJsVV7kw3nVFWxpkNTVfXNXtOwmC7NG7Zp6EjDR7rFWi+snXSWxfIe0vH8TAXJUhV8q86gJsbjPjMstKhLV2sw1W5ufX3v0TZ3qema/ncwVe/PHXu0cWdDedi/j5l4BzEHF72UvlnT2U47rKFFPV62bFk2+OVsHwgu5uyro+MIIIAAAggggAACCCCAAAIIIIAAAggggAACCCCAAAIIIIAAAgikTYDgYtpoI2Z2Cz4lE2Gd4DPr6nlYWCrdFpkKkmVibJn8WnWDfNYwWmhRQ7Nh9fXduuVVvetMji2sH7H2M+xet8xauWXZeBxtBtR09z+u4KJ+U9SwooYW9bi8vFxWrlyZjZ450yeCiznzqugoAggggAACCCCAAAIIIIAAAggggAACCCCAAAIIIIAAAggggAACGRMICy5qmWY2WCo6+dcQFiyr6bBU8qOiBSsQ9n71WrqDWPb5unfDYO5y3NH65t5rj+19eq4zEuq9umm5zmyYqc0N8qlhVaFF7VOwvu2nW27Lgvts+Pcwln4G+x12nsmvt7Dnx1oWNt5MfI0Fg4v169cXd5loPdYtT2dctLMs6t5+I/TKYx0j9UIECC6GoFCEAAIIIIAAAggggAACCCCAAAIIIIAAAggggAACCCCAAAIIIIBAHRcguJj+LwA3QJYNYan0j7huPcF9v3bkmQ6SacBPA2DBLaxvwTrRvia1Td3C2g22kapzN9hmDd1gpoYo3f7YgKU+X8dhN7fclrl7d5lztzzTx+54k3m2tUqmjUzcG/b1GO3rL5X9iTm4WFRUtE5nW9RZFjW0qHtN8OuHLXEBgouJ23EnAggggAACCCCAAAIIIIAAAggggAACCCCAAAIIIIAAAggggAACtVWguuCi5jW8LId079497QRuqCUTYZa0D8h5gA1SueEq5zKHOS7gfu3qULIlSBY2Y2GQOhgGDF7P5Lkb5HMNNbzYt2/fiNBiJvuVrme5ocxEn5Fr/1+p/67orJ76tZmpvmtwsWnTptKwYUPziTrj4urVq01w0YYWS0tLTWjRfqNM9CXV9fsILtb1rwDGjwACCCCAAAIIIIAAAggggAACCCCAAAIIIIAAAggggAACCCCAQGUBm8fQvfuxK2RmMrhYuXeUIJA7Am540Q3d1fQI3DBgWF+yta/Z1K8wt1SUxRIsre452RQ8ra6vNXU9ruCi+81PvwFqeFGTjmyJCxBcTNyOOxFAAAEEEEAAAQQQQAABBBBAAAEEEEAAAQQQQAABBBBAAAEEEKitArEEF4uLi6Vbt261lYBxIZAyARtezKbQXXWz+mVTX92QZTpmJ01Hm6n44tGvm3i3bFnuOt5+10T9X375RZo0aVL9jIsrV670l4ouKSkxoUXdN27cuCb6XWueSXCx1rxKBoIAAggggAACCCCAAAIIIIAAAggggAACCCCAAAIIIIAAAggggEDKBAgupoyShhAwAhpCy6aAnA1Thr2eTC3VG/bssLLqQpZh98RTlk0hzXj6Td3kBGIOLq5YsWKdu0y0pvY1uNisWbPkelDH7ya4WMe/ABg+AggggAACCCCAAAIIIIAAAggggAACCCCAAAIIIIAAAggggAACIQIEF0NQKEIAgRoRSMXSyVV1nOBiVTq191pcwcXy8nLRJaI1sKifoqIiadWqVe3VycDICC5mAJlHIIAAAggggAACCCCAAAIIIIAAAggggAACCCCAAAIIIIAAAgggkGMCweCidn/t2rXmo9kN/eikU127dpW8vLwcGx3dRQCBXBRIZOnkWMaZTTNhxtJf6iQvoN/jZs+eHbFUdL169UQ/uun3Nfu9LW/58uXr3OCifvPT4GLr1q2T70kdboHgYh1++QwdAQQQQAABBBBAAAEEEEAAAQQQQAABBBBAAAEEEEAAAQQQQACBKAJucFGr6HlYcHHTTTc1wY8ozVCMAAIIIIBA1glo9vD3338PDS76gcX1ofy8ZcuWRQQXNbSon7Zt22bdwHKpQwQXc+lt0VcEEEAAAQQQQAABBBBAAAEEEEAAAQQQQAABBBBAAAEEEEAAAQQyIxAWXNSyNWvWmE9paamZcbFZs2ay0UYbZaZTPAUBBBBAAIEUCCxYsEAKCwtNcLFRo0ZSv35984mYaTEsuKiJR/3oze3atUtBV+puEwQX6+67Z+QIIIAAAggggAACCCCAAAIIIIAAAggggAACCCCAAAIIIIAAAghEE7DBRb2ux/ajsy7qipn6satldu7cWZo2bRqtKcoRQAABBBDIGgGdLHHOnDnm+1aTJk2kQYMG5qPLRNvgop11UTttZlwsKysT/djg4urVq6V9+/ZZM6hc7AjBxVx8a/QZAQQQQAABBBBAAAEEEEAAAQQQQAABBBBAAAEEEEAAAQQQQACB9AvY8KINLepeg4s666LmN3TWRQ2AaFmnTp1EZ19kQwABBBBAIFsFdKLE3377TTSkqIF7nW2xYcOGZrbFsOCiCTLqUtH2m15JSYn5xqcNEVxM7jUTXEzOj7sRQAABBBBAAAEEEEAAAQQQQAABBBBAAAEEEEAAAQQQQAABBBCorQJucFHHGAwuupNPaYCxTZs20rZtW2nVqpUJhdRWF8aFAAIIIJA7AhquX7FihSxZskSWLl3qz7Sosy1qaDEYXNSR2RkXI4KLGlrUj4YWdeZFgovJfREQXEzOj7sRQAABBBBAAAEEEEAAAQQQQAABBBBAAAEEEEAAAQQQQAABBBCorQI2uKjj02MbXAwuF605Ds1w6MqZixcvNntdSlrr2XvNAf9AAAEEEEAgAwI2eKizKOpS0M2bN5d27dqZvQYWGzduLMFlot0ZF20XTXDRSzuu029qbnBR0/obbbSRrcc+AQGCiwmgcQsCCCCAAAIIIIAAAggggAACCCCAAAIIIIAAAggggAACCCCAAAJ1RMCGF+1ew4j60eWiNcehsy66WY5Vq1aJfvSa1rGbvd+es0cAAQQQQCAdAja0qG3Xr1/fBBdbtGgh+mnWrJkJLWpwUWda1FCj1tHQon50s/f7+7Dgos66SPDOeCX8D/wSpuNGBBBAAAEEEEAAAQQQQAABBBBAAAEEEEAAAQQQQAABBBBAAAEEar2AGzjUY/uxsy5qOLG0tNQPMOrMixpktAFHC+S2Y8vYI4AAAgggkGoBGzjUdm0g0c6waAOLjRo18kON7kyL7r32OM9bY9rMuKjf7PQbnIYWCS4m/9oILiZvSAsIIIAAAggggAACCCCAAAIIIIAAAggggAACCCCAAAIIIIAAAgjUZgE3dKjHGkrUTUOL9qMzL9pZFu1e67j36nlwq+56sD7nCCCAAAIIqIANFkbTsNftrIt2rzMt6rH96P02vGjbsvfqedYHF6dNm2b6PXHiRNt/sWX5+fmmbKuttjL7fv36+XVq+oDgYs28AV3mvCa3tm3bRjzeCwZHnHOCAAIIIIAAAggggAACCCCAAAIIIIAAAggggAACCCCAAAIIIICAFXDDhfZYw4t6bGdW1L0NMdpret3Wt22xRwABBBBAIJUCa28dFdpcnleqAUS7r18vT+p75/XWf1rdfJe5HlwiWhsLDS7qbIv60eBXNsy4+PLLL8tPP/3khxRDFUIKNcyoQcaaDjESXAx5ORkoIriYAWQegQACCCCAAAIIIIAAAggggAACCCCAAAIIIIAAAggggAACCCCQMgE3gGiPNaComw0v2qCiLbfnKesEDSGAAAIIIBAQWHPLyEBJxalGFjW0qJuGFb3/Vey9Ui/DKC284GJ1oUW9159xMVuCixpY1E8qNg0v1lSAkeBiKt5g/G0QXIzfjDsQQAABBBBAAAEEEEAAAQQQQAABBBBAAAEEEEAAAQQQQAABBGpWwAYWbS9sMDG41+vBuvYedx9LHbc+xwgggAACCLgCOjPimhuucIv8Y3fWRC00QUYvsKhhRr3W8pa7I2ZWNHU03RjYsia4qMs/FxQUBLqXmtOaCDASXEzNu4u3FYKL8YpRHwEEEEAAAQQQQAABBBBAAAEEEEAAAQQQQAABBBBAAAEEEEAgGwSCYUN7rnt77PYzrMy9zjECCCCAAALJCKwZdXno7ZUjiBWBRVvesuCeiPuCQUd7MSuCi6mcZdEOLLjPdHiR4GLwDWTmPBhcbNq0aWYevP4pwecF+5PRzvAwBBBAAAEEEEAAAQQQQAABBBBAAAEEEEAAAQQQQAABBBBAAIGcEggLI4aV6aCilefUgOksAggggEDWChRddXFo32xA0V5cs2aNObQBxRbejIt2s2X23N3XeHAxE6FFO+BMhhcJLlr1zO6DQcFgkDDdvQk+L9ifdD+f9hFAAAEEEEAAAQQQQAABBBBAAAEEEEAAAQQQQAABBBBAAAEEcl+gqlBiVddyf+SMAAEEEEAgWwSKrvxHlV2xoUQbXLSVNbhor9mysH2NBhczGVq0g89UeJHgohXP7D4YFAwGCdPdm+Dzgv1J9/NpHwEEEEAAAQQQQAABBBBAAAEEEEAAAQQQQAABBBBAAAEEEECg9ggQUqw975KRIIAAArkmUF1w0Y7HDS7qbIwtAktF23rBfaXgYmFhoWjYKt3Bu5oILdrBZyK8mG4/Oxb2kQLBoGAwSBhZO/VnwecF+5P6J9IiAggggAACCCCAAAIIIIAAAggggAACCCCAAAIIIIAAAggggEBdECDEWBfeMmNEAAEEskcg1uDi2vVLRdueZ3VwsSZDixZoxIgRkp+fb09Tvie4mHLSmBoMBgWDQcKYGkmiUvB5wf4k0TS3IoAAAggggAACCCCAAAIIIIAAAggggAACCCCAAAIIIIAAAggggAACCCCAAAIZESi64qKYnuPOuKg3ZHVwcdCgQTENKt2VHnnkkbQ9guBi2mirbDgYFAwGCau8OQUXg88L9icFj6AJBBBAAAEEEEAAAQQQQAABBBBAAAEEEEAAAQQQQAABBBBAAAEEEEAAAQQQQCCtArUuuJgNsy3aN5bOJaOzNbioCdcff/xRPv/8c/noo49kxowZ8uyzz0rHjh0tS07vg0HBYJAw3YMLPi/Yn3Q/n/YRQAABBBBAAAEEEEAAAQQQQAABBBBAAAEEEEAAAQQQQAABBBBAAAEEEEAAgWQFal1wMdHZFjVkqKHHVG/pmnUx24KLa9euleuvv15effVVWb16dQTjhAkTZOedd44oy9WTYFAwGCRM97iCzwv2J93Pp30EEEAAAQQQQAABBBBAAAEEEEAAAQQQQAABBBBAAAEEEEAAAQQQQAABBBBAIFmBWhVcTGa2RQ0YTps2TSZOnGj2ycLa+9M162K2BRcXLlwovXr1ssOW5s2b+wFGgos+S9IHBBeTJqQBBBBAAAEEEEAAAQQQQAABBBBAAAEEEEAAAQQQQAABBBBAAAEEEEAAAQQQqGGBWhVcLCgoSDh06M6MmEwAMvg+8/PzZcSIEcHipM+zLbioA5o8ebKsWrVK/va3v8mCBQukf//+ZpwEF5N+3X4DBBd9Cg4QQAABBBBAAAEEEEAAAQQQQAABBBBAAAEEEEAAAQQQQAABBBBAAAEEEEAgRwVqVXAx0WWi9d25wUU9T2V4UYOLGmBM5ZaNwUV3fFOnTiW46IKk6JjgYoogaQYBBBBAAAEEEEAAAQQQQAABBBBAAAEEEEAAAQQQQAABBBBAAAEEEEAAAQRqTKDWBBeTDRoGg4v6RlK1dDTBxQmy884719gXeSofXFRUJOPGjTOf+fPn+023b99eJk2aJH//+9/liy++kDPPPFOmT5/uX2/ZsqVcddVVMmTIEL8skQOCi4mocQ8CCCCAAAIIIIAAAggggAACCCCAAAIIIIAAAggggAACCCCAAAIIIIAAAghkkwDBxfVvIyy4aF9UsqHIdCwXzYyL9u1kdq/BxQsuuECeeuqpSg9++OGH5eSTT5YXX3zR7IMVdOnsJ554Ilgc1znBxbi4qIwAAggggAACCCCAAAIIIIAAAggggAACCCCAAAIIIIAAAggggAACCCCAAAJZKFBrgosFBQVmhsREjasKLmqbyYQXCS7WrhkXly1bJlOmTJHLLrvM/5o766yz5M4775R69erJmjVr5L777pNLL73UfDkeeuih5nj77beXZs2aJfolau4juJgUHzcjgAACCCCAAAIIIIAAAggggAACCCCAAAIIIIAAAggggAACCCCAAAIIIIBAFggQXFz/EqoLLmq1RJeOJrhYu4KL9t/bxYsXy7HHHivffPONKdLg4uDBg+Xbb7+Vgw46SFauXCkHHnigPP/88xIMHNo24t0H29EZINkQQAABBBBAAAEEEEAAAQQQQAABBBBAAAEEEEAAAQQQQAABBBBAAAEEEEAAgVwSqDXBxUGDBiXlHktw0T4gkdkX42nfPqeqPUtFV6WTvmvBoGBJSYkcccQRMnnyZPPQCy+8UMaPH29Ci3vssYe88sor0rx585R1iOBiyihpCAEEEEAAAQQQQAABBBBAAAEEEEAAAQQQQAABBBBAAAEEEEAAAQQQQAABBGpIgODievh4goUEF6v/ap06dar079/fVJwwoXbOuKiD0yDhihUr5Mgjj5RPP/3Uh9lpp53ktddek1atWvllqTgguJgKRdpAAAEEEEAAAQQQQAABBBBAAAEEEEAAAQQQQAABBBBAAAEEEEAAAQQQQACBmhSoNcHFgoICs5RzopixBBdZKjp23boUXFQVXS5aZ1i021VXXSVXXnmlPU3ZnuBiyihpCAEEEEAAAQQQQAABBBBAAAEEEEAAAQQQQAABBBBAAAEEEEAAAQQQQAABBGpIgODievjqgouJzLJo32l+fr6MGDHCnqZkz1LRKWGMu5HgUtEaJJw1a5b06tVLFi5cGNGehmmHDBkSUZbsCcHFZAW5HwEEEEAAAQQQQAABBBBAAAEEEEAAAQQQQAABBBBAAAEEEEAAAQQQQAABBGpagODi+jdQVXAxmdCiNt+vXz/zSeXLJriYSs3Y2woGFzWseMABB8i8efNkiy22EP1aufDCC+Xtt982jY4aNUqGDRtW7QPWrl0rY8eOlccff1z++OMPOfHEE2Xo0KHSoUOHiHsJLkZwcIIAAggggAACCCCAAAIIIIAAAggggAACCCCAAAIIIIAAAggggAACCCCAAAI5KFBrgou6jLPOcJfoFhZcTHRp6GAfCC5OkJ133jnIkpPnbnBx/vz50qdPHzPjYvv27eXjjz+WTp06idbR4OEbb7xhxjhy5Ei5/PLLqxzvq6++Ksccc0xEnXPPPVduv/32iDKCixEcnCCAAAIIIIAAAggggAACCCCAAAIIIIAAAggggAACCCCAAAIIIIAAAggggEAOChBcXP/SgsHFZGdZdL8Wgm271xI9zsYZF3XJ5BUrVojOHjhz5kzRwJ5uV155pWyzzTZSv359adOmjQn3JTrumr5PQ4mrV6+WH374Qc455xyZPXu26dLEiROld+/efvfmzp1rZmC0BZdccolcfPHF0rZtW1sUsdeQ4vjx4yPK9MQNSuo5wUVVYEMAAQQQQAABBBBAAAEEEEAAAQQQQAABBBBAAAEEEEAAAQQQQAABBBBAAIFcFqg1wUV9CTrjos6SmMjmhgtTGVrMz8+XESNGJNKlKu/JtuDip59+KmeccUaVfbYXn3/+edl2223taU7tV65cKd26dZNVq1ZV6vebb74pe++9tyxatCg0nKmzMmrQsV69epXufeaZZ2TgwIER5RqE1ECkuxFcdDU4RgABBBBAAAEEEEAAAQQQQAABBBBAAAEEEEAAAQQQQAABBBBAAAEEEEAAgVwUqFXBxWQChxpcTNXS0O4XQjqWidb2sy24qLMtHnfccWY2Qnf8wWOdcfCpp56Szp07By/lxHlhYaHoO/3oo48i+tuxY0d57rnnZMcdd5Ti4mLZc889ZerUqRF1Dj30UHnxxRcjyuyJ3qMzOD777LOmaK+99jLLRPfs2dNWMXuCixEcnCCAAAIIIIAAAggggAACCCCAAAIIIIAAAggggAACCCCAAAIIIIAAAggggEAOCtSq4KL6Dxo0KKHXoGE0DT6menNnckxl29kWXEzl2LK5reqWbk627zqTY1lZmVlSO6wtgothKpQhgAACCCCAAAIIIIAAAggggAACCCCAAAIIIIAAAggggAACCCCAAAIIIIBALgnUuuBiMrMupvrFpWu2Re0nwcVUv63Y2kt3cLG6XhBcrE6I6wgggAACCCCAAAIIIIAAAggggAACCCCAAAIIIIAAAggggAACCCCAAAIIIJDtArUuuKjgic66mOqXla7ZFrWfBBdT/bZia4/gYmxO1EIAAQQQQAABBBBAAAEEEEAAAQQQQAABBBBAAAEEEEAAAQQQQAABBBBAAAEEognUyuDitGnTpKCgINqYM1KeztkWdQAEFzPyGis9hOBiJRIKEEAAAQQQQAABBBBAAAEEEEAAAQQQQAABBBBAAAEEEEAAAQQQQAABBBBAAIG4BGplcFEFanLJ6HSHFnV8BBdVIfNbOoOLK96YJH+OGu4PauOrR0ur3n39cz1gqegIDk4QQAABBBBAAAEEEEAAAQQQQAABBBBAAAEEEEAAAQQQQAABBBBAAAEEEEAgBwVqbXBR30VNhBczEVrUsRFcVIXMb8kGFzWcGAwj6ijc0GLTHXaVoq+/MIMLhhcJLmb+nfNEBBBAAAEEEEAAAQQQQAABBBBAAAEEEEAAAQQQQAABBBBAAAEEEEAAAQQQSK1ArQ4uKlUmw4uZCi3quAguqkLmt2BwMd4ezD14B2kz4gZpftDh/q2r33pVlhZcZc5bnjpYNjjtHFk+4X5Z+fgDpsyt37ZtW/8+PViyZEnEOScIIIAAAggggAACCCCAAAIIIIAAAggggAACCCCAAAIIIIAAAggggAACCCCAQLYLrLn2r5Vp4+lri4J7Yqqe5wWr1pWXl0tJSYn5aPCrsLAwo8G7TIQXMxlaVHmCizF9/aW8UiqCi9opG0YMCy3aToeFFwkuWh32CCCAAAIIIIAAAggggAACCCCAAAIIIIAAAggggAACCCCAAAIIIIAAAgggkKsCdSK4qC8nneHFESNGSH5+fka/BgguZpTbf1iywUU3jNj8iGNk9b//Zdq2My36D1p/EKzf/brbIqow42IEBycIIIAAAggggAACCCCAAAIIIIAAAggggAACCCCAAAIIIIAAAggggAACCCCQAwJ1Jrho30UqA4yZnmXRjkH3BBddjcwdJxtc1J66YUQ9jxZa1Gu6ufV7Tv61onD9PwkuRnBwggACCCCAAAIIIIAAAggggAACCCCAAAIIIIAAAggggAACCCCAAAIIIIAAAjkgUOeCi/adaIDxp59+kmnTptmimPY6s+JWW20lGlqsyY3gYk3q1/yzp0yZUvOdoAcIIIAAAggggAACCCCAQB0Q2H777evAKBkiAggggAACCCCAAAIIIIAAAggggAACCCCAAAK1SyDPmxFuXXl5uZSUlJiPzlhXWFiYVTMGaohRNw0y6mbDjO7yz0ceeaS55paZghr6B8HFGoLPkscSXMySF0E3EEAAAQQQQAABBBBAoNYLEFys9a+YASKAAAIIIIAAAggggAACCCCAAAIIIIAAAgjUQoGcCC7mojvBxVx8a6nrsw0utu22S+oapSUEEEAAAQQQQAABBBBAAAFfYMkvX5pjgos+CQcIIIAAAggggAACCCCAAAIIIIAAAggggAACCOSMgB9cLC0tNTMu6myL2TbjYs5oOh0luOhg1MFDgot18KUzZAQQQAABBBBAAAEEEMioAMHFjHLzMAQQQAABBBBAAAEEEEAAAQQQQAABBBBAAAEEUipAcDGlnH81RnDxL4u6eERwsS6+dcaMAAIIIIAAAggggAACmRQguJhJbZ6FAAIIIIAAAggggAACCCCAAAIIIIAAAggggEBqBfKWLl26rry83My2WFJSYmZbZMbF5JEJLiZvmMstEFzM5bdH3xFAAAEEEEAAAQQQQCAXBAgu5sJboo8IIIAAAggggAACCCCAAAIIIIAAAggggAACCIQLhAYXi4qKZKONNgq/g9KYBAguxsRUaysRXKy1r5aBIYAAAggggAACCCCAQJYIEFzMkhdBNxBAAAEEEEAAAQQQQAABBBBAAAEEEEAAAQQQSECA4GICaLHcQnAxFqXaWyeVwcWVi1fJWw9+ID99ON2Add2hs/Q+f39p26F17QVkZAgggAACCCCAAAIIIIBANQIEF6sB4jICCCCAAAIIIIAAAggggAACCCCAAAIIIIAAAlksQHAxTS+H4GKaYHOk2VQEF9eWr5XPX/pKPnziUyktKpPGzRub0ZesLpH6DevLnsftInudsKs0aNwgR1ToJgIIIIAAAggggAACCCCQOgGCi6mzpCUEEEAAAQQQQAABBBBAAAEEEEAAAQQQQAABBDItUCm4qMtEFxYWslR0km+C4GKSgDl+e7LBxVlf/Sr/GfuuLP5tieTliWx30LZy4Jn7GJW3H/5QvnvrB1m3TqT1JhtI7/P2ly1275bjYnQfAQQQQAABBBBAAAEEEIhPgOBifF7URgABBBBAAAEEEEAAAQQQQAABBBBAAAEEEEAgmwT84GJpaamUlJSY0CLBxeRfEcHF5A1zuYVEg4vLF6yUNx94z18WepMeG8n/XXCAbLZNhwiOuT/Ol//c+478MWOBKd9it25yiBdgbLPpBhH1OEEAAQQQQAABBBBAAAEEaqsAwcXa+mYZFwIIIIAAAggggAACCCCAAAIIIIAAAggggEBdEAgNLuqsi+3bt68L40/bGAkupo02JxqON7i4pmyNfPr8/+Tjpz+XspJyadKiiew/cC/Z8fCeklfPm3IxZFu3dp189eq38u6jH0vxqmJp0MhbPvr4Xc1Hj9kQQAABBBBAAAEEEEAAgXgFZkz7UebOmS37HXxYvLdmvD7BxYyT80AEEEAAAQQQQAABBBBAAAEEEEAAAQQQQAABBFImkLds2bJ15eXlZrZFnXGxuLhYVq9eTXAxSWKCi0kC5vjt8QQXZ3wxS/477l1ZMn+Ztyx0nvz90L95ocW9pdkGTWNSKFxe5IUXP5JvXv/eWz56nZl1sfd5B0iP3TaP6X4qIYAAAggggAACCCCAAAJW4KS++8mUyZ/LvY/+S/Y/5HBbnJV7gotZ+VroFAIIIIAAAggggAACCCCAAAIIIIAAAggggAACMQn4wUVdKlpDiwQXY3KrthLBxWqJanWFWIOLs76aI09e9i9j0SF/E7MstO4T2eZP+8MsH6173Y4fdaToEtJsqRFYsXyZXDDoGGnbdkO5/YGnpF69eqlpmFYQQAABBBBAAAEEEHAEfp8/V36c8pWsXbfWL23RopXsse8B/nk6Dxb++bucevRBMvfXWTJ2/AvS66BD0/m4pNomuJgUHzcjgAACCCCAAAIIIIAAAggggAACCCCAAAIIIFCjAn5wsayszIQWdZlo/bRr165GO5brDye4mOtvMLn+xxpcfPi8J+SPGQukTYfWcuqtx0qrDVsm9eAVC1fK45c+L0u92Rs32KilnP/YGVKvPgG7pFDX3/z5x+/LqUdV/LL44+/nSfuNEguYpqIvtIEAAggggAACCNRlgbKyUpkxbap065EvjZs0SYpizuyZsnbNWunafYuk2knlzY89eLd8+uHblZq8//GXK5Wlq2DRwj/lNC+8OGfWTLnv8Ymyz/6HpOtRSbVLcDEpPm5GAAEEEEAAAQQQQAABBBBAAAEEEEAAAQQQQKBGBUxwcc2aNeLOuFhYWEhwMcnXQnAxScAcvz3W4OLofvdKaVGpGW3Dxg1kt/47yZ7H7SKNmjWKS6C0sFQ+ee5L+fyFyVJWUu7fO3ziBXG35d/MQYTApx+8IwOOOdiUvfvVL9Jxsy4R1zlBAAEEEEAAAQQQyIzAZx+9J+MfuEP6nzhQDj7syIQfOvmLj+Whe0ZLn6NPksOPOj7hdlJ94wJvxsMZ036U0pJiWVO+Rp5/6p/mEZkMLuoDFy9aIAOOPlh+nTVD7n/iZdmr10GpHmrS7RFcTJqQBhBAAAEEEEAAAQQQQAABBBBAAAEEEEAAAQQQqDGBvOXLl68rLy83wUUNL9oZF9u0aVNjnaoNDya4WBveYuJjiCe4WFZSJj123Vymf/aLeWDz1s1kn1P3kB0P267a2RJ1dpivXvtOPnz8U1m9rNDcr8tDz/hylqxbu05SFVws8/6/YfYv02XlimWySYdOsvEmHaR+gwbmecXFRdKkSdNqsUpLS+S32b94M7sWSeeu3aVlqw2qvSddFUq8XwJPn/q9NGzUSLp02yKm/hNcTNfboF0EEEAAAQQQQCA+gffefE2emfCAHNi7rxx7yhnx3by+9qIFf8hVlww2Z9fccq9s2rFTQu2k+6Zyb2WECwYdYx6T6eCiPnTJ4oXezIsHezMvzpAHnpiUseWqY3UluBirFPUQQAABBBBAAAEEEEAAAQQQQAABBBBAAAEEEMg+AT+4qOHF4uJif7no1q1bZ19vc6hHBBdz6GWloavxBBfXlK2Ry18bKnO85YfffugDmTf1d9Ojdpu1kQPO3Efy9+wR2sNpn8yQdx7+UBbPXWqud8jfRA48a1/p0nMzufmwu8zsLMkGF7/89AO55drh8t3XX0b0oXmLlnKc90tiXULulReelsuvu1UGnvuPiDp6orO5vvD0eHl47K0ye+bPEdfbbbiR9D3mJDn/kqul1QaR/3/z3BP/lJtHXiKrV60091x5wx0y4Owh/v3XXHqePP3YA/659ufldyabQKQtXLF8mZzcb3+Z9uO3pqhr9y3lyYnvyI1X/UNee/l5W83sL7x0pJwz9HITZHQvaP/nz/1ViouKZPLnH8vIS881lx9++lUvwLmZW1Xq1asnXTbvUamNiEqcIIAAAggggECdEVi3bp3oRzf9OcHd3Gt5eXmin1Ru2r7Olrd08SLzc5b+3NWgYUPREJzXK2nYMPrs3roM88I//zDdad22nTRr1jxq19auXWuuxTs+O3537MuXLfWe+7u0abehtG3XvkoTG1zc/5Aj5PhTz4rav6ouPPHPsfLRe/+VbXvuJPqzYNhm+2mvVTVOreOOx96je21HfzbVn50bNmgoG260sTRr3sKtEvW4poOL2rFlSxeb8OKv3h8yPfDkK7L73vtF7W+mLxBczLQ4z0MAAQQQQAABBBBAAAEEEEAAAQQQQAABBBBAIHUCJriov3DS2RZLSkrMR2ddbNWqVeqeUgdbIrhYB1+6M+REgov29p8+mi7vPvKRH0jsvF1HE0jsuNWmpsq8n343Acc5380z56032UD2H7S3bNsr3/ttaUUryQYXNbB3wxVD5clH77PdqnJ/WL9j5c6HnomoM3fOLBl61omVQo8RlbwTDR3e5d2774H/518ac/1l8tC9Y/zzY04aKDfd+bB/fsgeW1cKQuoMNAf0PsKvM++32bL/Tt39cz3QZ9kwZMQF7+TM84fJ8GsKIoqvG3FBzAZ646F9j5G7Hn42og1OEEAAAQQQQKDuCdwz5nr54dvJEQO/+qa7pWOnLvLA3QXy9ZefRFy7dGSBdN9iq4iyRE40dPifSS/IqxMjfy7TtnodeJi8//ZrstEmHeX6MeMqNT/L+yOT5x5/WGbNnBZxrXXbDeXIY0+V3fbq5YcJ13o/K470/pBk0cI/TN0+/b2llo+sWGr5+ymT5d5br/fb2LD9JnLD7X/9wcnU76fIXQV/BQX1j1hem/hcxHN75G8rg7w/itEAo930D+10BvAVXsBRl3ie/PlHkr9Nz4ifIbVu48ZNvDDijn5f7f3uXkOEwy8YYIrO8H4G3GX3fdzL5vhnb3bu22+6MqJcZxm/5e5HpEnTZvKsZ/Xuf1+pdL3gnvHSuEkTUz5n1kyv3kMyc/rUiHp6ou/j6BMHmP5WuugUZENwUbuzfOkSGXDMITJrxjR5yPsjnl333NfpZc0dElysOXuejAACCCCAAAIIIIAAAggggAACCCCAAAIIIIBAsgJ5K1euNEtFl3mzb9jwos682Lx59Jk1kn1oXbif4GJdeMvRx5hMcFFb1SWgv/nP9/KBtwT0qiWrzYO20WCit/34fsUvk5u2aip7n7Sb7Nx3e2/Z5vrmmv1HssHFR8bd7s20eKltTk4cMFj2OaC3tN2wvfww5Sszy+I3kz/zr2tg0F26TpeWPqHPvn5osUf+NnLVjXfKttvtII2bNjWhQw0m6myNdnvz82lmxkI9L1y9Sn787mu54h9nm7pHnzDA/JLY1v3t11+88ulS6oWtzx1wlCkeO/4FOfiwI20Vs9dfOL/y4tPywF23+OU77rqXXDDsatnUmzHxO+8X6xpOtGHGD6fMkY037ejX1dDBPWOu88+rOzj+tLNk1K33V1eN6wgggAACCCBQywUef/heE6wrLi4yI9Xw39AR15mfP56Z8KC89+arvkDHTl3l9MFDpVOXbn5ZIgeFhatF//jj93lz/Ns1NGjDhX6hd3DfhIkRwb7/vvqSvPjMeFNFw3lbbLWtNPICgDOn/yTLliwy5Toz4fkXXyn16tc3Mwjee+somfnzj96M/UWy7wGHykkDzzH1dLbrh8feZo5Xrlhm9uPGv2ju05M5s2ea6wv+qPgjHFPB+4f2ddXK5aY9Ldty6+3k4itusJflW28G8HG3/3XuXwg5uMybDbxrty1CrlQUvfrSs97PiE+ZkzseeFqaNmtWqa7+Ec79d94S4aeBSv05Uo3efn2SvPkBo/XIAAAXBUlEQVSfl30fbUCvXzhspB9cvOPmq/3Zv1u2au31qYdM/+kHf4y9j+gvRx1/WqVnuwXZElzUPmlo9PRje5uvi1c/mCKbdd7c7WqNHBNcrBF2HooAAggggAACCCCAAAIIIIAAAggggAACCCCAQEoE8latWhURXHTDi4WFhf4sjHY2Rp3pQj86I5vO1KjLXukWXEbL7Z2t45ZxjEBtFth+++3N8Np226XKYY7ud6/YpaLDKpYVl8nnL34lnzz7pZQWlZoqDRrVl12O3FH2PnFXady8cdhtSS0VPfPnqXLo3n/z233u9Y/l7zvt7p/rQUlJsZx32lHy4bv/NeXB4OLY227wZtK5xlzb7+DDZOyjL4Quoay/1B/lzeyomz5Dn+VuJ/XdT/732YcSDC7aOvqL8p6dW5jTsOCiXtBfxF8w8BhTZ5/9D5EHn/q31Pd+4W63f467TQq85bB10yWg3ZkftUxDlPr/YZ99+K4fknzl/W9kMy9k4G7aps6+w4YAAggggAACCKiALn18241Xigb0OnftLhdddr1ZHljDgGOuH2GQhgy/TrbZ7u8pAXv0/jvl84/fNW31P3Gg7H/w4WZ56NLSEvnikw/kiX/e6z9n3GMv+ctX6wx6BddV/Cy02577if4hhl3GWP977/23XvdmDXzQ3Nvv2FO8GaaP9dv58N035MlHxkUEF+1F/fnp3NMq/qjEDS7a6zddfbEJMeq5ddCQ3kfvvSnPTKiYofGagrEm7Kl19Geyd73A5xrvv0V1dsip339jXP+2/U562d+aektb73fQYaE/e9pKV1082AQSt99xNzn3H1fY4tD9zdcME10iWX9WPeeiyyPq6MyTV1x8tgkvnnfxVdJzh8if/X/87huZ6/3BzXY77uqPQ+/RP6x5fdLzpq1giDTiAd5JVgUXvZkqB3rBxak/TJFX358im/eo+MOqYJ8zeW6Di/YPxzL5bJ6FAAIIIIAAAggggAACCCCAAAIIIIAAAggggAACfwnk5a1fJvavInOk5faa7uvVq2dyOw0aNBATXNQQooYRddZFDShqeFFnXbR7W2ZnZdRfYOlH7wsGFuMJKcZTNzAmThHIaoEtt9zS9C/Z4KIdZOHyIrnrpAdNyPGch0+XDTu3tZdC98nMuKgzIepsPbpdP+Y+OWHA2aHPKC4qlBP79PKWQfxK+vQ/UW677wm/Xp/9dvBnl/no29+8JQk7+NfcA/3/gAHHHGxCgVr+/tezZdOOnfwqqQ4uvvTWl2bpQP8B3oHOynhEr4qg6bWjx8pJp1fMFuTW0eNPP3jH9FWP3/3qF+m4WRc9ZEMAAQQQQAABBKIKrFyxXO68ZaTM+222t0x0VznyuFNl7G2jTP1zL7pCtt9pt6j3xnNhwZ+/y8hhFT/DnHDaYNE/HAluGgi04UU3uGiXtdZw5Yhrx0T8gYdt46VnJ8gb/37BnN7zyPPSsGEjc5yK4OJxp5wpB/TuYx9l/hvzknNONrMS6jLS2/19Z/+aPXjvzddMuHH/Q46Q4089yxbHtNf/7r1gYH9TVwOewRm7g4189eWn8uDdt5hiXSa6dZt2fhVdsvqhe0ab2SKvv/U+PwzqV1h/sMxbZnn5siXeLN+rvKWhG3v/7V0mOhujbqPvfUxabdB6fc3Ku2wJLury2ja0eNdDz1TrVnkk6SmxwcWff/45PQ+gVQQQQAABBBBAAAEEEEAAAQQQQAABBBBAAAEEEIgQsCHEiMIoJ25dPdaPTgym4UX95HmzKpoZFzWEqMFEG060oUXd20/YbIs2uBgMIQbPo/SPYgRqpUDHjhXLDacquKhIBX3ulrKSchn24vnSpEX4TIsWM5ng4j8GnyS6fJ5uk2cskZatNrDNVtov+GO+/Pe1iaIzGXbZvIe5rr/U3HmLil/o6i/NH3zylUr3uQXPTnhIrl7/i/bgjIepDi5Omb3CWwqwuft4c7xDt9Zmuegrb7hDBpw9pNJ1LSC4GMpCIQIIIIAAAghUI7B61UozE7UukWy3M8+/VHbefW97mvT+f5995C2/PMa0Eza7oX3A+2+/7k2VL9LroENtkVx01gkmJDjgrKGyx74H+OXuwdLFi+Tyi84wRVfdeKe/RHAqgothyzrff+fN8s3kz+SM84fJLrvv43bFHCcTXFy44A+5+pLBpp0zzrtEdtlj30rtuwXurIrBGSftbIynDDpf9vZ+Hg5u33nLW+vsiu67D9YZddsD0n6jTYLF/nk2BBdtaPFHb5bLOx98WnofcbTfv5o+sMHFefMilx6v6X7xfAQQQAABBBBAAAEEEEAAAQQQQAABBBBAAAEE6rKAG1hUBxtatHs766IJLursiTaU6IYXtUxnW7Rlem5nWtS9hhN1r1t1QcXqrptG+AcCtUSgTZs2ZiS5GFy0syU2b9FSvv5lWdxvRJcb7L3nNua+0wcPlStG3V5lG5988LacfkzFL3qvGz1OTjy94hfJelOqg4vf/bbam+WmSaX+EFysREIBAggggAACCKRQQGd4vv2mK02LLVu1lmsL7hX9WStV239eeUEmPjfBm7m6s1xzyz0xN1tUWCj/GHyiqX/xFTfKllv/LfRe/W85u+yzO1NkKoKLV994l3Ts3DXiuXbZ63QEF6f9+K0/22FVY3Y7ZIOS+u4KvFkX63l/CTjz56kyZtRl0qRJUxk99jFp1CjyD4t+nTVDbh55id9M/jY9pfsWW3l/RdjABBmnfPW5uZbtwUU/tPjd13L7A095S4Uf448pGw5scHHp0qXZ0B36gAACCCCAAAIIIIAAAggggAACCCCAAAIIIIBAnRQIBhWDCPa6mWXRWS7aBBdtAFEDiu7Mi3ruBhr1mn5saNHeF3yYnhNUDFOhrK4INGpUsXxeLgYXh555vLw+6V/mVX0za7k0a94irtdWXFwkPTtX3HPg//WV+ya8VOX9/3rqUbniojNNnTu8X4YeftTxfn0bXDzq+NOk4J5H/XJ7ULh6lfx984oZIceOfyF0ybr/vvqStxxgxS9YUxVcfPPzaf4Mk7Yv7BFAAAEEEEAAgTCB+XPnyOjrhptZDVu33VCWLVlklo2+6LLrq5zZ2rZVVlYqC36fLx06dTF/jWbL3f1XX3wiD95TYIrcZaDdOtGOY5pxccliuXzoINPEiGtGy+Y98s2xDS7uukcvGXTexRGPKPNm7r/wjGNNWdgskDddfbEJ8CUTXNxn/95y8qDzIp5b3cmP330jd4++xlS7dGSBCRNWd4/+fHvZhQPNO7xg2Ej52/Y7yQN3F8jXX34iffqfJIcf+dfPr7atkZeeJwv+mCf7HnConHDaWSbsaK/p3rpnc3DRDS3eOu7xiJ/T3bHU5LENLuoqEWwIIIAAAggggAACCCCAAAIIIIAAAggggAACCCCQHQI2qBjsjQ0u6nVzXFxcvM6GETWQqEFFG17UvQ0u6rFbLxhatEFFuw8+mHME6pKA/ruiWy4GFx+46xa57caKGYGCQcKwd6iz1nTq0i0i4HjYPtvJjGk/mpmE3vnfDGnj/ZI+2nb2yX1EZ7HR7e0vp5u2bN2Bx/aWj99/S/bqdZA8+vwbttjf//DtV3LUQbuY83QHF//32YdmBkh92AtvfCbb7VDxXL8zHCCAAAIIIIAAAgGBP3+fJ7fecIWsXLFMjj/1bNljn/3lnjHXy8zpU2WjTTrKJVfeKBu0rpipO3CrOf3so/fkmcfuN4E5ne3vgmFXh/7xxII/5svIS88195xyxgWy934HV2pOlzz+3+cfybKlS+SQw4/yr2t/fvh2snTu2l0uu3ZMpYCdVnzp2Qnyxr9fMPfc88jz0rBhxR/pfPHJ+/LIfbebWQfv8JYQdv8jdNqP33kzG15l7kl1cFF/Pnz84Xtk+x13k3P/cYV5Rqz/WPDn7zJy2Dmm+jlDL5e/77x7TLdO+teT8trLz5ln9j9poN/GmLETKgVQS0tLZMgZx5l2dfZxtXU3XTpag5u6pTK4uGzpYu/rqa3/HvS/zZcvWyKt27TzH69B2JLiYmnRspVfFnZgQ4v687aOsU//ipk5w+rWZJkNLtb3ZsFkQwABBBBAAAEEEEAAAQQQQAABBBBAAAEEEEAAgewSsL87snvtnQ0vmr23FPQ6DSzqxwYTbXjRhhXt3tbTRvTYDSm6x3o92hZrvWj3U45ALgisWrXKdLO64OKtR4+T0uJSufSlC6Rh4wZVDq2gz91SVlIuw148X5q0iFyKzr1R64w56l5Zt2atDJ80pNp23Xv1+Kcfpkjf/Xc0xbqE4asffCsdNuscrCa6/N21w883wcLD+h0rdz70jF/nroJrZOxtN5hznUFRZ2gJ+2Xii888JpcNqZi9p2v3LeW/n07129CDqy4ZLM89/rAp+3LaQtmgTVv/uv5/iS5Z+M4b/zZl6Q4uui433vGQHHtyRb/9DnkHugykBgI0aNll8x7uJY4RQAABBBBAoI4JaEBuzPWXmdBin6O9WfnWzyqtobGxt9/g/dzwnQkvXnzFDV6w7K+fcSyT/qwz/ILTzf22bLc995OB5/7DnkbsH3vwbvn0w7dN2emDL5Ld9trPD7DNnP6TvPj0eBOY1Apjx7/o/2ym18ZcP8Lct9te+3sByzP9P0jR/+Z7/63X5dnHHzTXD+17rPQ79hRzrP9w7z31zAtl1z32lYbezOPz5syWe24bZWaX1HqpDi5+9/WXxlDbtjM2ajBz3txf5btv/ica+OzQsZOcc9HlWiVi0/+2Pf/0o03ZSaefK/se+H8R16OdaODzsiEDzeWeO+wq3379hfQ68DA58fTBobfYGRX32OdAOd6bcVGXlP5j/lyZ+v0Uefn5x00YVW9MVXDxoXvHyGTv59COnbrKZdeNMf+tfvPIYfL7vDne18L+MvCci8Sd/fOE0wbLfgcfFtp3N7R4izfr+ZHOOw+9oQYLbXCxRYv4ZomvwS7zaAQQQAABBBBAAAEEEEAAAQQQQAABBBBAAAEEao2AG0isalBuPT3W0KJueRpc1F+K2VCi3bthRT126+ixbnav91S32brV1eM6ArVBYPHixWYY1QUX33nkI/nkmS+k1YYt5aDB+8o2vSqW3QsziCW4OPXD6fLm/e/JioUrZacjesqhQw4Ka6rasntvHeUtoXetX2/kLffILnvsI2282Vp+n/ebTHrhKW+Wm3v962dfOFyGXX2zf15SUmxmQtRZF3Xbcde9vF+gjpattulpZuiZ+9tsefS+O+Sp8ff797z01peybc+KwKQt1GeMumKoOd159328Z9wkm3boJHPnzJJxt99oQpO27tAR14kGKO3ShVq+0AsMPP/kI3LnLSNNtadfeV/yvT7YGWaKiwrNL9ztrI0nDzxXThhwtmy59Xb+L/pt++6y1Jt02MzMPNNl8+4y4+ep5pfEOmukzkij26F9j5G7Hn7W3soeAQQQQAABBOqQgP7MMO6Om7zZp3/wR61hsiHDrzWzK7qzKGoFDbSd5P0Msuuevfz69sAuN2zP9eehM88fZk8j9oWFq01QUoNqumm7+tzFixf6AUItP+2sIbLnvgfqob/955UXZOJzE8y53tdti62lQYMGMufXX/x79WcoHYP7xyj634nXXXahWRLZNqYzSeoSye6ms0X2P/F02X3v/WXWjGkywfsZz+1nr4MOk6OOP82bDXKxmZFynvezom7aF31ucFZF/Vlz1OVDZdHCP0y9DdtvIqtWLvfDgFq4bc+d5MJLK34GNJWcf1jXPfY+QAYMrvhZ07kc9XDCQ/fIJx+85V+/bvQ42XjTjv65e/Cvpx6Rt15/2S/SseiS08HNvqeLvdk31VZDg/pHQLq3m87YqZs6utuAs4eYZatXr1opl5x7in9pyPDrvJUTyryfl2/wy8aMmyAfvP0fecX7OV43Nbvh9gf86+7Baf0Pki8+fl9uvuuf5r2417Lt2AYX27X7a1bJbOsj/UEAAQQQQAABBBBAAAEEEEAAAQQQQAABBBBAoLYLuMHEaGP1w4pecFE3vSevrKzMzLgYDCbasKLd20Cj1nNDiFWFFt160TpFOQK1UWD+/PlmWNUFF0sKS+XZqyfKnO/mmvpdem4mvc8/QDbafMNKLFUFFxfNWSJvjH1HZn1d8YvqztttJsdf308aN48+M2OlBzgF5WVlcvnQM+Rlb0m86rbjvFl5rrrhDmnStFlE1ZleoO/cAUfL7Jk/R5SHnegvUvsdc3KlS/pL2IN23VIWL1pQ6ZoW6IyQWsfd3v3qF+m4WRfRJfj03uCmSzzrUs+6nXvaUfL2fyYFq8j4f/230i/0tdIT/xwr118+pFL9YMGd3lKJhx1ZsTxg8BrnCCCAAAIIIFC7BTS4eI03K7UNm+loNXCmy0LrHz+8//br8rTzxxsaXOvr/Rx0QO8+lWCmTP5cnp7woAkP6nLDA84e6oURu1SqZwt0GeA3/v2i/PvFp22Rv9eQ3kGH9pOOnbv6Ze6Bzp74rPcs/RnK3bTvOsuihh3tf1C613UWv/EP3BlxX3cv+KizDN5+45V+WM/ObujO0mjb2feAQ73w5jmydMliuW7E+f49er1Lty3k8ututVX9/YrlS+XR++/0ZjD8xi/TA10+eufd95YddtnThC8jLq4/efKRcfLhu2+YYOTt9z8Zujx22H06Y+K1Xv90s7MYhtXTsrLSUnneCy9+4L1vd9PZGo895Qz59IO3zdLTek1DhNd4fyiks1VqYFGXsg4LObrt6PHZF47w/kBoT/Pf5/ozqg2D6pjWrF0jl553mrlFv3Z0yWp3+e4De/c1/Qi2qeffTP7MC5j+nPWhRe2rDS526NBBT9kQQAABBBBAAAEEEEAAAQQQQAABBBBAAAEEEECghgWqCjG6v2vyg4s2jKh7DSJG27shRfc4OF4Ci0ERzuuawOzZs82QqwsuWpfv3/lJ3n7oA1m5eJXk1cuTnftsL70G7BWxJHRYcLHUCz5+8ORn8sVLX8na8rXSom1zOfCsfWW7A7e2TSe111kEbxp5SWj48ODDjpSTB50XGvCzDy0tLTEzK95/1y2VAoZap0//E2X4yIKoM9VoHZ218apLzpGvvvhYT/3tlDPOlwuGXS2H79PTDzZqGODldyZLm7YberPurJDD9tnOLMnn3+Qd6Gw+Bd6Sd7rdOupyefCe0ebY/kPbGPfYi2b2Glvm7nV5ax1PMJCps0rqTIv/16d/leNx2+IYAQQQQAABBBCoTkD/20rDbBu0blNdVf+63rPEm2lx5Yrl0tgLRrbbsL00ahTbH7TobIY6a7UG79pvvKk/U7XfeJSDld6Mh8u95ZTbtmvvLzUdpWpKi3WJ6IUL/pAGDRt6S263i5gRMtqDFvwxX0Zeeq65POzqW6THlrH/7DzL+6OcpYsXyTY9dzDBx2jPsOX6Rzb6PPXf2Ps5U2eyTMem72u693Nz1249fP/Vq1bJr7NmyJZbbWt89LlqpV9P3XrkV5phPB39SnebNrjYtWvXdD+K9hFAAAEEEEAAAQQQQAABBBBAAAEEEEAAAQQQQCAOgVgCjHnl5eXe77X+mkUxLLioz9Q6utnAoj23e73mHus5GwJ1VWDGjBlm6LEGF7VyMITYbIOmst/AvWSH//OWLfbCjMHg4vfvTJW3HvxAVi1Zba7v0m8HL+y4pzRu1ijl7PpL75nTp8qKZcu8UF4H6eDNaNiy1QZxPWfRwj/l11+mS1FRkegSy9qGu9RgdY3p0oE6y02DBg1l8+5bSv00/dK3un7Y6zqb0mxvPM2at5BNvCUCgzNO2nrsEUAAAQQQQAABBLJP4LEH75ZPP3xb4l0uOvtGUrd7ZIOLPXr0qNsQjB4BBBBAAAEEEEAAAQQQQAABBBBAAAEEEEAAgSwVcAOM9tju/x8AAP//RRWRhwAAK+lJREFU7d17lF/T3T/wz0RuIuKauEQlS5K6hIZE0ItaKKU0qlqleKLVKqUelz5Vq/xatWjap6lLH7dWH7dSVdW6NqiUFcUQgpSkLhVTUREVl8jF3H7Zx3O+ZiaTZCbzncmc77y+a2XOOfvss8/er/39/mF5r72r6urqGpd9In3yY0NDQ+k8laV/qaxpneyiyTP5tSMBAhGzZs3KGDbcany7OV6veSPuumRqvPh4TfbspqOGxH4n7BXXnX5T1C6ti6N+emjcf/WDUTPz5ez+h0ZvHvt/a+8YstXgdr/LAwQIECBAgAABAgR6osBrr74S/++/js+GPumiK2P9DTbsiQyFH/Mb/3g0G8O2225b+LEYAAECBAgQIECAAAECBAgQIECAAAECBAgQqHSBqqqqZkOsqq+vz1KLLYOJeWAxDzOmp/Lz/Ni0pdbKmt5ved7e+i2fd02gOws8/fTTWfdWJ7iYj2vWtOfinsvui7fnvxPpd/t/+eLS+TrrD4i9v/7J+Mintoto/rvOm3AkQIAAAQIECBAgQGAFAlNuuyn+eOO1MeELR8RnDjp0BbUUd2eBPLg4evTo7txNfSNAgAABAgQIECBAgAABAgQIECBAgAABAhUl0DKAuKrBtVY/lZWCi6mBFCbMA4X5sWV5fp2OLT9Nn2l5zzWBniTw1FNPZcPtSHAxNZBWWHzg+up4+HfTo76uPmuzqldV7PzZMbHHxI9H/4H9sjJ/CBAgQIAAAQIECBBon0D679cH/nJ3rL/hRrHDjju372G1u4VAHlz8yEc+0i36oxMECBAgQIAAAQIECBAgQIAAAQIECBAgQIBAc4HWQoupRhZcXLbS4rL/X/P+VtH5Y/nqi/l1y/str/N6jgQIvC8wY8aM7KSjwcXc8425C+K56hezy+FjtohNRgzJbzkSIECAAAECBAgQIECgRwrkwcWddtqpR47foAkQIECAAAECBAgQIECAAAECBAgQIECAQFEFSsHFNIDWwogtA4xtGWhr7bTlOXUIVJLA448/ng2nXMHFSrIxFgIECBAgQIAAAQIECJRDIA8ujh07thzNaYMAAQIECBAgQIAAAQIECBAgQIAAAQIECBAoo8CKVlvMX1GVVlzML1YWOmx6r+l5/qwjAQIfCDz22GPZheDiBybOCBAgQIAAAQIECBAgUE6BPLg4bty4cjarLQIECBAgQIAAAQIECBAgQIAAAQIECBAgQKCTBZqtuNjyXasKJ67qfsv2XBPoSQLTp0/Phiu42JNm3VgJECBAgAABAgQIEOhKgTy4uPPOO3fla72LAAECBAgQIECAAAECBAgQIECAAAECBAgQ6IBAvhJj1bIAYrbiYluCiG2p04E+eZRAxQg8+uij2VgEFytmSg2EAAECBAgQIECAAIFuJpAHF8ePH9/NeqY7BAgQIECAAAECBAgQIECAAAECBAgQIECAwKoESsHFvKJwYi7hSGD1BR555JHsYcHF1Tf0JAECBAgQIECAAAECBFYmkAcXd9lll5VVc48AAQIECBAgQIAAAQIECBAgQIAAAQIECBDohgLLBRfzPgow5hKOBNovkAcXR48e3f6HPUGAAAECBAgQIECAAAECqxR4+umnszqCi6ukUoEAAQIECBAgQIAAAQIECBAgQIAAAQIECHQ7gRUGF5v2VIixqYZzAqsWEFxctZEaBAgQIECAAAECBAgQ6IiA4GJH9DxLgAABAgQIECBAgAABAgQIECBAgAABAgTWrECbgosr6qJA44pklPd0AcHFnv4NMH4CBAgQIECAAAECBDpbQHCxs4W1T4AAAQIECBAgQIAAAQIECBAgQIAAAQIEyitQVVVVarBDwcVSK04IEGgmUF1dnV3bKroZiwsCBAgQIECAAAECBAiUTSAPLu66665la1NDBAgQIECAAAECBAgQIECAAAECBAgQIECAQNcIrDC4uGTJkq7pgbcQqECBJ598MhuV4GIFTq4hESBAgAABAgQIECDQLQTy4OKYMWO6RX90ggABAgQIECBAgAABAgQIECBAgAABAgQIEGi7gOBi263UJNBmgXIGF996/d24+eKH4on7X8zev/W4ofHFkz8Rg4cOanN/VCRAgAABAgQIECBAgEClCQguVtqMGg8BAgQIECBAgAABAgQIECBAgAABAgQI9CQBwcWeNNvG2mUC5Qgu1tc1xNTfPRV/unJ6LF1cF/3X6Zv1f8m770XvvmvFPofvGPseNTb69lury8blRQQIECBAgAABAgQIEOguAoKL3WUm9IMAAQIECBAgQIAAAQIECBAgQIAAAQIECLRfQHCx/WaeILBKgY4GF2c9+nL87oIHYl7Nm1FVFbHrflvHQcftlr33lssejuopf4/GxoiNNls3vvifn4gdPj5slX1SgQABAgQIECBAgAABApUkILhYSbNpLAQIECBAgAABAgQIECBAgAABAgQIECDQ0wQEF3vajBtvlwisbnDxjXnvxO9/nraF/kfWzw99eOM49JTdY6vtN2nW73/8bV7ceP60+Oezr2fl239sWBy6LMC40ebrNqtX7ot58+bFeuutF/379y9309ojQIAAAQIECBAgQIBAuwQEF9vFpTIBAgQIECBAgAABAgQIECBAgAABAgQIEOhWAoKL3Wo6dKZSBNobXKx7rz7+fMOTMeXax6N2SV0MWLdfTDh2l/jEhO2iqteyJRdb+TQ2NMYDtz4Tt/7ikVj0ztLo06937HvEjrHPsn99+vZu5YmOFR100EExderUGDp0aKT/QbjWWmt2i+o33ngjampqSoPaZJNNYrPNNitdOyFAgAABAgQIECBAoLIFBBcre36NjgABAgQIECBAgAABAgQIECBAgAABAgQqW0BwsbLn1+jWkEB7gotPP1yTbQs9f+7bWUjxYwdsExO+sWsMXK9tqxoufGtJ3Hp5dTx4x+xIYca06uKXTt49Rn90y7KOft11P1jNMQUGN9hgg7K2357G3n333dh0002bPTJy5MiYMWNGszIXBAgQIECAAAECBAhUroDgYuXOrZERIECAAAECBAgQIECAAAECBAgQIECAQOULCC5W/hwb4RoQaGtwcfb0l+Pnp9ye9XD4dkOywOGW2w5erR7XzJofv71gWsx55rXs+eN/vH+kLaTL8WlsbIxBgwaVmnr55ZezLaNLBV18UltbG2PHjo05c+aU3jx8+PCYOXNm6doJAQIECBAgQIAAAQKVLSC4WNnza3QECBAgQIAAAQIECBAgQIAAAQIECBAgUNkCgouVPb9Gt4YE2hpcnHTMTfHPZ1+PjTcfFCf/fEJsMGRgh3q8YN7CuOCkW+P1V96ODTdZN37w28OXbencq0Nt5g9PmjQpqqurY9y4cXHmmWfmxWvsmMKUixYtip/97Gfxk5/8JAQX19hUeDEBAgQIECBAgACBNSIguLhG2L2UAAECBAgQIECAAAECBAgQIECAAAECBAiURUBwsSyMGiHQXKCtwcVTP/2rWLqoNnu4T//esfehH4l9j9gp+g3o07zBVVylNu6+bkbce+NTUbukrlT7Z3cd0+62Sg8X5GTy5Mnxgx/8QHCxIPOlmwQIECBAgAABAgTKJSC4WC5J7RAgQIAAAQIECBAgQIAAAQIECBAgQIAAga4XEFzsenNv7AEC7QkupqDh6N22jJkPvpTJrLvB2vGZr+wcH5+w7SpXS6yvb4i/3jor7rxyeryzYHH2fNoe+pmHa6KhoTG6W3Cxvr4+nn/++Xj77bdj1KhRsf7663f429De4OIbb7wRL7zwQqS+jBgxIgYPXr2tuTvccQ0QIECAAAECBAgQINAhAcHFDvF5mAABAgQIECBAgAABAgQIECBAgAABAgQIrFEBwcU1yu/llSrQnuBifW1DXDj16/H8k/+KP1zyUMx55rWMZZMt14+Djtstxuw+vFWmJ6fNiVsuezjm1byZ3R+27ZA4+Ju7xagdN4//3OuXUVdb36HgYvqfgIccckjMnTu32fsPPfTQ+NWvftWsrOXFkUceGffee28sXLgwBg4cGFOmTIk777wzLrrooqwsr//Zz342LrzwwpWGB2tra+PKK6+MBx54IB555JF46623Ypdddomddtopjj/++Pj1r3+9yhUXFy9eHBdccMFy70/9SP1LW18fe+yx0adP85Uup02bFqeeemrMnj0773JWP22bPXHixEjtTpgwIR5++OHS/XSSxnX99dc3K3NBgAABAgQIECBAgEB5BQQXy+upNQIECBAgQIAAAQIECBAgQIAAAQIECBAg0JUCgotdqe1dPUZgdYKLOc4T978Yt/6iuhRIHDlms2WBxI/G8O2GZFVSsDEFHFPQMX022mzdmPCNXWPcXiOjqiorKktw8S9/+UsWynu/xQ/+br/99vHQQw99UNDK2TbbbLNc4LGValnRjjvuGPfdd9+y1SXXWq7KrFmzskDhE088sdy9VJBWS0zvSgHD4cOHx8yZM5erl5496qijYs6cOcvda1qQ2rntttti0003LRWn8OE3vvGN0nV+koKZl156aTbG9FzLTwpDvvLKK8vm4/8mpGUF1wQIECBAgAABAgQIdFhAcLHDhBogQIAAAQIECBAgQIAAAQIECBAgQIAAAQJrTEBwcY3Re3ElC3QkuJhc0hbQD90+O+743+nx9huLMqqxe43Ijo9PfSE7rjOof+w3cWx88uDR0btP89BfOVZcbGxsjBkzZsS///3v7H1plcU77rgj2hJcTKs0plUIjz766OzZ9CeFDM8777xIQcV0/7vf/W5pJcNrr702Pve5z5XqppM333wzxo4dG/Pnz8/KU0Aw1UnBwrTd9FVXXdVs9cbWgovvvPNOjB8/vhSiPPzww+O0007LtqlO43vmmWey1RanTp2avWOvvfaKm2++uRSiTKs9Tp8+Pa644oq48cYbszpDhw6Nxx57LNZZZ53s+q9//Wvst99+pXsXX3xxjBkzJjbeeOOszB8CBAgQIECAAAECBDpHQHCxc1y1SoAAAQIECBAgQIAAAQIECBAgQIAAAQIEukJAcLErlL2jxwl0NLiYg723pC6m/vapuPv6GbF0UW1W3Kdf79jjkB1i///YKfqv0zev2uxYjuBiswaXXZx11lnZdsttCS6mZ1977bUYMeL9sGUKLVZXVzfbEjoFAvfcc8/sNaecckr88Ic/zM7zP/k20On6hBNOyO737fvBeF999dVsJcV8m+bWgovf/va34/LLL8+aPP3007OQYt5+fqyrq8sCkffff39WdNlll8URRxyR386Oqc5JJ50UKWCZPmm77NRu2go7bQudVnVMY0yrVA4bNiyr4w8BAgQIECBAgAABAp0rILjYub5aJ0CAAAECBAgQIECAAAECBAgQIECAAAECnSkguNiZutrusQLlCi7mgAvfXBzfO+TXUfdefZz16y/FpsM2yG+1euxuwcUf//jH8c1vfrNZX+vr62OLLbbIwn8HH3xwXHPNNaX7CxYsiC233DK7TkHJtBV07969S/fzk5qamhg9enR22VpwcauttspWbEyrJKb/qdnadtTp4RQ83H333bN20rbSl1xySXbe9E9DQ0O2WmNafTF9DjjggEjhybT6Ygot3nXXXdlKjk2fcU6AAAECBAgQIECAQOcJCC52nq2WCRAgQIAAAQIECBAgQIAAAQIECBAgQIBAZwsILna2sPZ7pEC5g4sJ8eR9rojaZSsw/vedX4kB6/ZbqWt3Cy7+8Y9/jL333nu5Ph955JFxyy23ZCHAG264oXQ/raK4zz77ZNcXXnhhfPWrXy3da3kyceLEbHvnlsHFtB112l46/6QA5Mo+f/vb37Lb6ZlHH3201appe+kzzjgj0nbQ+WfgwIFx7733xnbbbZcXORIgQIAAAQIECBAg0AUCgotdgOwVBAgQIECAAAECBAgQIECAAAECBAgQIECgkwQEFzsJVrM9W0BwsflW0bfffnvssccey30pjjnmmLjxxhuXCy5effXVceKJJ2b1b7rppvj0pz+93LN5wdlnnx0//elPo2VwsWn4Ma/blmNaefHOO+9cYdV33303Ro4cma0UmSqlcf3hD3+IPn36rPAZNwgQIECAAAECBAgQKL+A4GL5TbVIgAABAgQIECBAgAABAgQIECBAgAABAgS6SkBwsaukvadHCQgudiy4mFZoTFs2p0/amvlLX/rSCr8/xx57bPzmN79ZLrjYdBvpfffdN0466aQVtpFuVFVVxdprrx1bb711DBo0qNW6ixcvjsMOOyymTp3a7H7a6jr1s2/fvs3KXRAgQIAAAQIECBAg0HkCgoudZ6tlAgQIECBAgAABAgQIECBAgAABAgQIECDQ2QKCi50trP0eKSC42LHg4uzZs2P8+PHZdyeFAq+55ppWv0cLFizItmheuHDhcsHFhoaGWG+99bLnUlstw4atNriSwiVLlsQRRxwRd999d1brz3/+c0yZMiVb7TEVHHDAAZFWiuzXb+XbeK/kFW4RIECAAAECBAgQINAOAcHFdmCpSoAAAQIECBAgQIAAAQIECBAgQIAAAQIEupmA4GI3mxDdqQyBtgYX/+szV8bSxbUxecpXo0+/3isd/Mn7XBG1S+riv+/8SgxYd8XhuNqldXHafv8bDfUNcf49X1tluyt9aZObZ511VlxwwQWx/fbbx0MPPdTkTuunr732WowYMSK72d6tot97773YZpttYv78+dnzl112WRYabPqmpUuXxnHHHRdpK+n0GT58eMycObNplWx1xDvuuCMru/zyy+PLX/5ys/v5RQo53n///dm/tFX03nvvnd/Kjqk/Rx55ZPzpT3/KrtOKkHmdSZMmxbnnnpuVpy2tr7322mzlxmYNuCBAgAABAgQIECBAoOwCgotlJ9UgAQIECBAgQIAAAQIECBAgQIAAAQIECBDoMgHBxS6j9qKeJNDW4OItl1XH3dfNiA2GDIyDv7lbjNt75AqZ2hJcnHHfP+L3//NgLJi3MHY/aLs47NufXGF7K7uRVjCcNWtWpEBf/rnkkkvi5ptvjqFDh2YrC+bl6ZhWNkxBw/zz9ttvR3V1dXz+85/Pin70ox/FgQcemIULU0FdXV08//zzceqpp8a0adNi3LhxMXny5CwUma9YeOuttzYLK37hC1/I2hsyZEj2bApRppUZ88/AgQMjPTN69OgYMGBAVvzPf/4zW5Exr3PiiSfG17/+9fjQhz6UFb344ouRQpVXXnllzJkzJyvbbbfd4p577snOa2tr49lnn82CibfddltW9r3vfS++853vRK9evbLrtH10CkSmFRjT51Of+lScf/75pbFmhf4QIECAAAECBAgQIFB2AcHFspNqkAABAgQIECBAgAABAgQIECBAgAABAgQIdJmA4GKXUXtRTxJoa3BxyaLauPQ7d8bzT/4r4xm14+Zx6MmfiM1HbLgc18qCi6++tCBuPP+B+Ptjc7PnRo7ZLI7/8f7Rf52+y7XTloK06uATTzzRlqqlOo8//niMGjUqu95qq61KqyWWKiw7SUHC9ddfPwsKnnTSSU1vZeenn356nHnmmaXyFGz85S9/WbpueZLCiumTgpb55/DDD49f/OIX+WWk1RGPOuqo0vXKTlJ7aVvqffbZJ6uWVnS87rrrlnskrT6ZwovpsyKr6dOnx9Zbb73cswoIECBAgAABAgQIECiPgOBieRy1QoAAAQIECBAgQIAAAQIECBAgQIAAAQIE1oSA4OKaUPfOihdoa3Axh3j0nufiD5c8HG+9/u6ylfyqYveDR8eBx4xvtiV0a8HFpcuCj3de9Vj85XdPRX1dQwzacEC2cuMun/5w3vRqHb/1rW/FVVdd1eZnBw8eHA888EBsvvnm2TNpBcJ8hcK8kZEjR2arK6ZwYNq++bDDDstvZcdUnrZdnjhxYrPyFDxMAcZ82+j8ZlrZ8KKLLoqLL744+5eXNw0V5mUpMHnGGWfELbfckhc1O6YtnlPgcf/99y+t1pgqpJUizzvvvGZ1Uz9T+dFHH52Vt2aVxpr6PWzYsGbPuiBAgAABAgQIECBAoHwCgovls9QSAQIECBAgQIAAAQIECBAgQIAAAQIECBDoagHBxa4W974eIdDe4GJCaRlCHLhe/5hw7K7xsQO3iaplYcaWwcVH705hx4firX8vysKOexyyQxz4tfHRf0CfijSeO3dutjX0RhttFNtuu23kW0q3Z7Bp6+eampp44YUXYp111oktttgiNttss+jbd/VWpmzPu9UlQIAAAQIECBAgQKC8AoKL5fXUGgECBAgQIECAAAECBAgQIECAAAECBAgQ6EoBwcWu1PauHiOwOsHFHCdt+/y7C/4as6e/nBVtufXg+OKy7aMvOuW2qF1SFyf/fELcfsWjpe2lt9ph0zjstN1j6IiN8iYcCRAgQIAAAQIECBAgUPECgosVP8UGSIAAAQIECBAgQIAAAQIECBAgQIAAAQIVLCC4WMGTa2hrTqAjwcW81zPu+0f8/n8ejAXzFkZVVURj4/t38vN1N1g7Dj7+o7HLfh/O7ufPORIgQIAAAQIECBAgQKAnCAgu9oRZNkYCBAgQIECAAAECBAgQIECAAAECBAgQqFQBwcVKnVnjWqMC5QgupgHULq2LP139eNx7w5NRV1ufjanXsm2jdz94dHz2a7vE2gNtcbxGJ9rLCRAgQIAAAQIECBBYYwKCi2uM3osJECBAgAABAgQIECBAgAABAgQIECBAgECHBQQXO0yoAQLLC5QruJi3PP/lt2Lmgy9llx/eafPYYtTG+S1HAgQIECBAgAABAgQI9EgBwcUeOe0GTYAAAQIECBAgQIAAAQIECBAgQIAAAQIVIiC4WCETaRjdS6DcwcXuNTq9IUCAAAECBAgQIECAwJoXEFxc83OgBwQIECBAgAABAgQIECBAgAABAgQIECBAYHUFuiy4+NJLL0V1dXU0NjaW+jp48ODYa6+9StddcTJt2rR45ZVXSq+qqqqKcePGxYgRI0pllXzS0NAQNTU18eyzz8bs2bPjzTffjBNOOCE22mijSh52l49NcLHLyb2QAAECBAgQIECAAIEeJiC42MMm3HAJECBAgAABAgQIECBAgAABAgQIECBAoKIEuiy4eO6558bcuXOXwzv//POjX79+y5V3RkEK7Z144onLNZ1Ce+ecc85y5ZVUkAKjN9xwQ/z973+P5ND0c9RRR8WoUaOaFjnvoIDgYgcBPU6AAAECBAgQIECAAIFVCAgurgLIbQIECBAgQIAAAQIECBAgQIAAAQIECBAg0I0Fuiy4ePbZZ8e8efMyigMOOCA7brLJJrHzzjt3Kc8TTzxRClBOmTIl6uvrY9CgQTFp0qQu7UdXv+ytt96KyZMnl17bq1evUoBRcLHEUrYTwcWyUWqIAAECBAgQIECAAAECrQoILrbKopAAAQIECBAgQIAAAQIECBAgQIAAAQIECBRCoMuDi2l1xbTKYnf4nH766fHOO+/0iOBi8n7uuediyZIlMXz48FiwYEFcccUV2TQILpb/2yi4WH5TLRIgQIAAAQIECBAgQKCpgOBiUw3nBAgQIECAAAECBAgQIECAAAECBAgQIECgWAKCiz0ouNj0q1lTUyO42BSkzOeCi2UG1RwBAgQIECBAgAABAgRaCAgutgBxSYAAAQIECBAgQIAAAQIECBAgQIAAAQIECiQguCi4GFZcLP8vVnCx/KZaJECAAAECBAgQIECAQFMBwcWmGs4JECBAgAABAgQIECBAgAABAgQIECBAgECxBAQXBRcFFzvhNyu42AmomiRAgAABAgQIECBAgEATAcHFJhhOCRAgQIAAAQIECBAgQIAAAQIECBAgQIBAwQQEFwUXBRc74UcruNgJqJokQIAAAQIECBAgQIBAEwHBxSYYTgkQIECAAAECBAgQIECAAAECBAgQIECAQMEEBBcFFwUXO+FHmwcXO6FpTRIgQIAAAQIECBAgQIBAE4ExY8Y0uXJKgAABAgQIECBAgAABAgQIECBAgAABAgQIFEFAcFFwUXCxE36pgoudgKpJAgQIECBAgAABAgQItCIguNgKiiICBAgQIECAAAECBAgQIECAAAECBAgQINDNBQQXBRcFF7v5j1T3CBAgQIAAAQIECBAgQIAAAQIECBAgQIAAAQIECBAgQIAAAQIECBAgUEkCgouCi4KLlfSLNhYCBAgQIECAAAECBAgQIECAAAECBAgQIECAAAECBAgQIECAAAECBAh0cwHBRcFFwcVu/iPVPQIECBAgQIAAAQIECBAgQIAAAQIECBAgQIAAAQIECBAgQIAAAQIECFSSgOCi4KLgYiX9oo2FAAECBAgQIECAAAECBAgQIECAAAECBAgQIECAAAECBAgQIECAAAEC3VxAcFFwUXCxm/9IdY8AAQIECBAgQIAAAQIECBAgQIAAAQIECBAgQIAAAQIECBAgQIAAAQKVJCC42IOCi6+++mosXrw4Ghsb41//+lfcdddd2Xd5zz33jGHDhkVVVVUMHDgwBg8eXEnfcWMhQIAAAQIECBAgQIAAAQIECBAgQIAAAQIECBAgQIAAAQIECBAgQIAAgW4kILjYQ4KLs2fPjuuvv75NX71jjjkmCzK2qbJKBAgQIECAAAECBAgQIECAAAECBAgQIECAAAECBAgQIECAAAECBAgQIECgHQKCiz0kuDhv3ry49NJLo6GhYaVfj969e8dxxx0XQ4YMWWk9NwkQIECAAAECBAgQIECAAAECBAgQIECAAAECBAgQIECAAAECBAgQIECAwOoICC72kODi6nw5PEOAAAECBAgQIECAAAECBAgQIECAAAECBAgQIECAAAECBAgQIECAAAECBMotILgouFju75T2CBAgQIAAAQIECBAgQIAAAQIECBAgQIAAAQIECBAgQIAAAQIECBAgQIDACgW6PLiYerLWWmtlHdpwww3j+9//fvTq1WuFHSznjcbGxjjnnHNi/vz5WbP19fXZcdCgQTFp0qRyvkpbBAgQIECAAAECBAgQIECAAAECBAgQIECAAAECBAgQIECAAAECBAgQIECAQCsCXRZcvPrqq6O6urpZF/r06ROTJ0+O3r17NyvvrIsUXDzttNNiyZIlzV6xww47xPHHH9+szAUBAgQIECBAgAABAgQIECBAgAABAgQIECBAgAABAgQIECBAgAABAgQIECBQfoEuCy6mri9atChSeDD/9O/fv7T6Yl7W2ceGhoZYvHhx6TVVVVUxYMCA0rUTAgQIECBAgAABAgQIECBAgAABAgQIECBAgAABAgQIECBAgAABAgQIECBAoPMEujS42HnD0DIBAgQIECBAgAABAgQIECBAgAABAgQIECBAgAABAgQIECBAgAABAgQIECBQBAHBxSLMkj4SIECAAAECBAgQIECAAAECBAgQIECAAAECBAgQIECAAAECBAgQIECAAIEKERBcrJCJNAwCBAgQIECAAAECBAgQIECAAAECBAgQIECAAAECBAgQIECAAAECBAgQIFAEAcHFIsySPhIgQIAAAQIECBAgQIAAAQIECBAgQIAAAQIECBAgQIAAAQIECBAgQIAAgQoREFyskIk0DAIECBAgQIAAAQIECBAgQIAAAQIECBAgQIAAAQIECBAgQIAAAQIECBAgUAQBwcUizJI+EiBAgAABAgQIECBAgAABAgQIECBAgAABAgQIECBAgAABAgQIECBAgACBChEQXKyQiTQMAgQIECBAgAABAgQIECBAgAABAgQIECBAgAABAgQIECBAgAABAgQIECBQBAHBxSLMkj4SIECAAAECBAgQIECAAAECBAgQIECAAAECBAgQIECAAAECBAgQIECAAIEKERBcrJCJNAwCBAgQIECAAAECBAgQIECAAAECBAgQIECAAAECBAgQIECAAAECBAgQIFAEAcHFIsySPhIgQIAAAQIECBAgQIAAAQIECBAgQIAAAQIECBAgQIAAAQIECBAgQIAAgQoREFyskIk0DAIECBAgQIAAAQIECBAgQIAAAQIECBAgQIAAAQIECBAgQIAAAQIECBAgUAQBwcUizJI+EiBAgAABAgQIECBAgAABAgQIECBAgAABAgQIECBAgAABAgQIECBAgACBChEQXKyQiTQMAgQIECBAgAABAgQIECBAgAABAgQIECBAgAABAgQIECBAgAABAgQIECBQBAHBxSLMkj4SIECAAAECBAgQIECAAAECBAgQIECAAAECBAgQIECAAAECBAgQIECAAIEKERBcrJCJNAwCBAgQIECAAAECBAgQIECAAAECBAgQIECAAAECBAgQIECAAAECBAgQIFAEAcHFIsySPhIgQIAAAQIECBAgQIAAAQIECBAgQIAAAQIECBAgQIAAAQIECBAgQIAAgQoREFyskIk0DAIECBAgQIAAAQIECBAgQIAAAQIECBAgQIAAAQIECBAgQIAAAQIECBAgUAQBwcUizJI+EiBAgAABAgQIECBAgAABAgQIECBAgAABAgQIECBAgAABAgQIECBAgACBChEQXKyQiTQMAgQIECBAgAABAgQIECBAgAABAgQIECBAgAABAgQIECBAgAABAgQIECBQBAHBxSLMkj4SIECAAAECBAgQIECAAAECBAgQIECAAAECBAgQIECAAAECBAgQIECAAIEKERBcrJCJNAwCBAgQIECAAAECBAgQIECAAAECBAgQIECAAAECBAgQIECAAAECBAgQIFAEAcHFIsySPhIgQIAAAQIECBAgQIAAAQIECBAgQIAAAQIECBAgQIAAAQIECBAgQIAAgQoREFyskIk0DAIECBAgQIAAAQIECBAgQIAAAQIECBAgQIAAAQIECBAgQIAAAQIECBAgUAQBwcUizJI+EiBAgAABAgQIECBAgAABAgQIECBAgAABAgQIECBAgAABAgQIECBAgACBChEQXKyQiTQMAgQIECBAgAABAgQIECBAgAABAgQIECBAgAABAgQIECBAgAABAgQIECBQBIEVBheL0Hl9JECAAAECBAgQIECAAAECBAgQIECAAAECBAgQIECAAAECBAgQIECAAAECBIolILhYrPnSWwIECBAgQIAAAQIECBAgQIAAAQIECBAgQIAAAQIECBAgQIAAAQIECBAgUGgBwcVCT5/OEyBAgAABAgQIECBAgAABAgQIECBAgAABAgQIECBAgAABAgQIECBAgACBYgkILhZrvvSWAAECBAgQIECAAAECBAgQIECAAAECBAgQIECAAAECBAgQIECAAAECBAgUWkBwsdDTp/MECBAgQIAAAQIECBAgQIAAAQIECBAgQIAAAQIECBAgQIAAAQIECBAgQKBYAoKLxZovvSVAgAABAgQIECBAgAABAgQIECBAgAABAgQIECBAgAABAgQIECBAgAABAoUWEFws9PTpPAECBAgQIECAAAECBAgQIECAAAECBAgQIECAAAECBAgQIECAAAECBAgQKJaA4GKx5ktvCRAgQIAAAQIECBAgQIAAAQIECBAgQIAAAQIECBAgQIAAAQIECBAgQIBAoQUEFws9fTpPgAABAgQIECBAgAABAgQIECBAgAABAgQIECBAgAABAgQIECBAgAABAgSKJSC4WKz50lsCBAgQIECAAAECBAgQIECAAAECBAgQIECAAAECBAgQIECAAAECBAgQIFBoAcHFQk+fzhMgQIAAAQIECBAgQIAAAQIECBAgQIAAAQIECBAgQIAAAQIECBAgQIAAgWIJCC4Wa770lgABAgQIECBAgAABAgQIECBAgAABAgQIECBAgAABAgQIECBAgAABAgQIFFpAcLHQ06fzBAgQIECAAAECBAgQIECAAAECBAgQIECAAAECBAgQIECAAAECBAgQIECgWAKCi8WaL70lQIAAAQIECBAgQIAAAQIECBAgQIAAAQIECBAgQIAAAQIECBAgQIAAAQKFFhBcLPT06TwBAgQIECBAgAABAgQIECBAgAABAgQIECBAgAABAgQIECBAgAABAgQIECiWgOBiseZLbwkQIECAAAECBAgQIECAAAECBAgQIECAAAECBAgQIECAAAECBAgQIECAQKEFBBcLPX06T4AAAQIECBAgQIAAAQIECBAgQIAAAQIECBAgQIAAAQIECBAgQIAAAQIEiiUguFis+dJbAgQIECBAgAABAgQIECBAgAABAgQIECBAgAABAgQIECBAgAABAgQIECBQaAHBxUJPn84TIECAAAECBAgQIECAAAECBAgQIECAAAECBAgQIECAAAECBAgQIECAAIFiCQguFmu+9JYAAQIECBAgQIAAAQIECBAgQIAAAQIECBAgQIAAAQIECBAgQIAAAQIECBRaQHCx0NOn8wQIECBAgAABAgQIECBAgAABAgQIECBAgAABAgQIECBAgAABAgQIECBAoFgCgovFmi+9JUCAAAECBAgQIECAAAECBAgQIECAAAECBAgQIECAAAECBAgQIECAAAEChRYQXCz09Ok8AQIECBAgQIAAAQIECBAgQIAAAQIECBAgQIAAAQIECBAgQIAAAQIECBAoloDgYrHmS28JECBAgAABAgQIECBAgAABAgQIECBAgAABAgQIECBAgAABAgQIECBAgEChBQQXCz19Ok+AAAECBAgQIECAAAECBAgQIECAAAECBAgQIECAAAECBAgQIECAAAECBIolILhYrPnSWwIECBAgQIAAAQIECBAgQIAAAQIECBAgQIAAAQIECBAgQIAAAQIECBAgUGgBwcVCT5/OEyBAgAABAgQIECBAgAABAgQIECBAgAABAgQIECBAgAABAgQIECBAgACBYgkILhZrvvSWAAECBAgQIECAAAECBAgQIECAAAECBAgQIECAAAECBAgQIECAAAECBAgUWkBwsdDTp/MECBAgQIAAAQIECBAgQIAAAQIECBAgQIAAAQIECBAgQIAAAQIECBAgQKBYAoKLxZovvSVAgAABAgQIECBAgAABAgQIECBAgAABAgQIECBAgAABAgQIECBAgAABAoUW+P9wtSxjDkOV7gAAAABJRU5ErkJggg==)"
   ]
  },
  {
   "cell_type": "markdown",
   "metadata": {
    "id": "evZnf45waLUU"
   },
   "source": [
    "## Tuple içindeki elemanlara ulaşma"
   ]
  },
  {
   "cell_type": "markdown",
   "metadata": {
    "ExecuteTime": {
     "end_time": "2022-09-07T07:31:24.599452Z",
     "start_time": "2022-09-07T07:31:24.595855Z"
    },
    "colab": {
     "base_uri": "https://localhost:8080/"
    },
    "executionInfo": {
     "elapsed": 3,
     "status": "ok",
     "timestamp": 1652730564276,
     "user": {
      "displayName": "Alper Aydın",
      "userId": "16424421511940582464"
     },
     "user_tz": -180
    },
    "id": "q_WH1wQnV--u",
    "outputId": "c27df6e3-b82f-4cd6-d9b1-53545da1bbf4"
   },
   "source": [
    "<div class=\"alert alert-box alert-warning\" style=\"font-size:12pt; padding:15px; line-height:150%;\">\n",
    "    String içerisindeki değer False olmasına rağmen casting işlemi varlık/yokluk olarak değerlendirdiği için True değeri dönmüştür.\n",
    "</div>"
   ]
  },
  {
   "cell_type": "code",
   "execution_count": null,
   "metadata": {
    "ExecuteTime": {
     "end_time": "2022-12-06T07:44:44.153294Z",
     "start_time": "2022-12-06T07:44:44.150304Z"
    }
   },
   "outputs": [],
   "source": [
    "x = (1, 2, 3, 4, 5)\n",
    "print(x[0]) # ilk sıradaki eleman, 0'dan başlar\n",
    "print(x[1]) # ikinci sıradaki"
   ]
  },
  {
   "cell_type": "code",
   "execution_count": null,
   "metadata": {
    "ExecuteTime": {
     "end_time": "2022-12-06T07:44:47.473012Z",
     "start_time": "2022-12-06T07:44:47.470102Z"
    },
    "colab": {
     "base_uri": "https://localhost:8080/"
    },
    "executionInfo": {
     "elapsed": 5,
     "status": "ok",
     "timestamp": 1652730566330,
     "user": {
      "displayName": "Alper Aydın",
      "userId": "16424421511940582464"
     },
     "user_tz": -180
    },
    "id": "InVRdP7baaK9",
    "outputId": "62b61a13-1251-4e73-eecd-7cebed400991"
   },
   "outputs": [],
   "source": [
    "print(x[-1]) # son sıradaki\n",
    "print(x[-2]) # sondan bir önceki \n",
    "print(x[-3]) # sondan iki önceki "
   ]
  },
  {
   "cell_type": "code",
   "execution_count": null,
   "metadata": {
    "ExecuteTime": {
     "end_time": "2022-12-06T07:45:07.770688Z",
     "start_time": "2022-12-06T07:45:07.767978Z"
    },
    "colab": {
     "base_uri": "https://localhost:8080/"
    },
    "executionInfo": {
     "elapsed": 311,
     "status": "ok",
     "timestamp": 1652730762707,
     "user": {
      "displayName": "Alper Aydın",
      "userId": "16424421511940582464"
     },
     "user_tz": -180
    },
    "id": "Rd3LjR3Raco7",
    "outputId": "7f91180e-ef82-4c63-d5c6-46aa26eb1a4a"
   },
   "outputs": [],
   "source": [
    "x = ('a','b','c','d','e')\n",
    "print(x[0:3]) # 0,1,2. sıradaki elemanlar, 3 hariç"
   ]
  },
  {
   "cell_type": "code",
   "execution_count": null,
   "metadata": {
    "ExecuteTime": {
     "end_time": "2022-12-06T07:45:10.205236Z",
     "start_time": "2022-12-06T07:45:10.202633Z"
    },
    "colab": {
     "base_uri": "https://localhost:8080/"
    },
    "executionInfo": {
     "elapsed": 5,
     "status": "ok",
     "timestamp": 1652730791421,
     "user": {
      "displayName": "Alper Aydın",
      "userId": "16424421511940582464"
     },
     "user_tz": -180
    },
    "id": "S92odMUrbhHS",
    "outputId": "235fb890-ac03-4001-b108-8b51546d622b"
   },
   "outputs": [],
   "source": [
    "print(x[3:]) # 4. sıradaki elemandan başlayarak son elemana kadar tüm elemanlar"
   ]
  },
  {
   "cell_type": "code",
   "execution_count": null,
   "metadata": {
    "ExecuteTime": {
     "end_time": "2022-12-06T07:45:13.209080Z",
     "start_time": "2022-12-06T07:45:13.206498Z"
    },
    "colab": {
     "base_uri": "https://localhost:8080/"
    },
    "executionInfo": {
     "elapsed": 413,
     "status": "ok",
     "timestamp": 1652730821689,
     "user": {
      "displayName": "Alper Aydın",
      "userId": "16424421511940582464"
     },
     "user_tz": -180
    },
    "id": "YfP-EDMIboIC",
    "outputId": "a964bd09-2bcc-4672-fadc-35301686679f"
   },
   "outputs": [],
   "source": [
    "print(x[-3:]) # sondan 3. sıradan başlayıp sona kadar tüm elemanlar"
   ]
  },
  {
   "cell_type": "code",
   "execution_count": null,
   "metadata": {
    "ExecuteTime": {
     "end_time": "2022-12-06T07:45:33.872533Z",
     "start_time": "2022-12-06T07:45:33.869949Z"
    },
    "colab": {
     "base_uri": "https://localhost:8080/"
    },
    "executionInfo": {
     "elapsed": 5,
     "status": "ok",
     "timestamp": 1652730885306,
     "user": {
      "displayName": "Alper Aydın",
      "userId": "16424421511940582464"
     },
     "user_tz": -180
    },
    "id": "hhQNLLnabtQe",
    "outputId": "0baed59d-bd0e-499b-a36f-c0895204f16d"
   },
   "outputs": [],
   "source": [
    "print(x[:2]) # 0'dan başlayadan 2. sıraya kadar (2 hariç) tüm elemanlar"
   ]
  },
  {
   "cell_type": "code",
   "execution_count": null,
   "metadata": {
    "ExecuteTime": {
     "end_time": "2022-12-06T07:45:34.567667Z",
     "start_time": "2022-12-06T07:45:34.565535Z"
    },
    "colab": {
     "base_uri": "https://localhost:8080/"
    },
    "executionInfo": {
     "elapsed": 362,
     "status": "ok",
     "timestamp": 1652730896137,
     "user": {
      "displayName": "Alper Aydın",
      "userId": "16424421511940582464"
     },
     "user_tz": -180
    },
    "id": "r3SCsKywb_Bl",
    "outputId": "8bcd8d08-6ac1-4da0-911c-c6b0cd3292ce"
   },
   "outputs": [],
   "source": [
    "print(x[:-2]) # 0'dan başlayarak sonran ikinci elemana kadar tüm elemanlar"
   ]
  },
  {
   "cell_type": "markdown",
   "metadata": {},
   "source": [
    "<div class=\"alert alert-box alert-danger\" style=\"font-size:12pt; padding:15px; line-height:150%;\">\n",
    "    <b>Önemli!</b><br/>\n",
    "    Slicing işlemi tüm sıralı veri tiplerinde benzer şekilde çalışır. <br/>Veri Analizi sırasında sıklıkla karşılaşılan bir kullanım şeklidir.\n",
    "</div>"
   ]
  },
  {
   "cell_type": "code",
   "execution_count": null,
   "metadata": {
    "ExecuteTime": {
     "end_time": "2022-12-06T07:46:13.278044Z",
     "start_time": "2022-12-06T07:46:13.209111Z"
    }
   },
   "outputs": [],
   "source": [
    "x[0] = 'z'"
   ]
  },
  {
   "cell_type": "markdown",
   "metadata": {
    "id": "9DdwfZ9MZx1_"
   },
   "source": [
    "## Farklı veri tiplerini barındırabilir "
   ]
  },
  {
   "cell_type": "code",
   "execution_count": null,
   "metadata": {
    "ExecuteTime": {
     "end_time": "2022-12-06T07:47:23.471112Z",
     "start_time": "2022-12-06T07:47:23.468268Z"
    },
    "colab": {
     "base_uri": "https://localhost:8080/"
    },
    "executionInfo": {
     "elapsed": 6,
     "status": "ok",
     "timestamp": 1652730264938,
     "user": {
      "displayName": "Alper Aydın",
      "userId": "16424421511940582464"
     },
     "user_tz": -180
    },
    "id": "N_R8nwP-XlZZ",
    "outputId": "021dcba0-0661-4ad7-807d-bbf4afc52660"
   },
   "outputs": [],
   "source": [
    "x = ('a', 1, True, 4, 'z')\n",
    "print(x)\n",
    "print(type(x))"
   ]
  },
  {
   "cell_type": "markdown",
   "metadata": {
    "id": "Akl0ZKEXZ4Ka"
   },
   "source": [
    "## Tuple içinde tuple "
   ]
  },
  {
   "cell_type": "code",
   "execution_count": null,
   "metadata": {
    "ExecuteTime": {
     "end_time": "2022-12-06T07:47:45.066488Z",
     "start_time": "2022-12-06T07:47:45.063811Z"
    },
    "colab": {
     "base_uri": "https://localhost:8080/"
    },
    "executionInfo": {
     "elapsed": 276,
     "status": "ok",
     "timestamp": 1652730294474,
     "user": {
      "displayName": "Alper Aydın",
      "userId": "16424421511940582464"
     },
     "user_tz": -180
    },
    "id": "cDsyTjaAZnlW",
    "outputId": "64556b20-73f4-4cd4-f831-1045d7a04fa3"
   },
   "outputs": [],
   "source": [
    "x = ('a', 1, True, ('k','l','m'))\n",
    "print(x)"
   ]
  },
  {
   "cell_type": "code",
   "execution_count": null,
   "metadata": {
    "ExecuteTime": {
     "end_time": "2022-12-06T07:48:03.558278Z",
     "start_time": "2022-12-06T07:48:03.555698Z"
    }
   },
   "outputs": [],
   "source": [
    "print(x[-1])"
   ]
  },
  {
   "cell_type": "code",
   "execution_count": null,
   "metadata": {
    "ExecuteTime": {
     "end_time": "2022-12-06T07:48:28.015861Z",
     "start_time": "2022-12-06T07:48:28.013163Z"
    }
   },
   "outputs": [],
   "source": [
    "print(x[-1][1:3])"
   ]
  },
  {
   "cell_type": "code",
   "execution_count": null,
   "metadata": {
    "ExecuteTime": {
     "end_time": "2022-12-06T07:49:40.862630Z",
     "start_time": "2022-12-06T07:49:40.859673Z"
    }
   },
   "outputs": [],
   "source": [
    "x = (1,2, (3,4, (5,6,7)))\n",
    "print(x[2][2][-1])"
   ]
  },
  {
   "cell_type": "code",
   "execution_count": null,
   "metadata": {
    "ExecuteTime": {
     "end_time": "2022-12-06T07:50:09.096506Z",
     "start_time": "2022-12-06T07:50:09.093103Z"
    }
   },
   "outputs": [],
   "source": [
    "print('tuple size:', len(x))\n",
    "print(x[0], type(x[0]))\n",
    "print(x[1], type(x[1]))\n",
    "print(x[2], type(x[2]))"
   ]
  },
  {
   "cell_type": "code",
   "execution_count": null,
   "metadata": {
    "ExecuteTime": {
     "end_time": "2022-12-06T07:50:28.565091Z",
     "start_time": "2022-12-06T07:50:28.561509Z"
    }
   },
   "outputs": [],
   "source": [
    "print(x[2][0], type(x[2][0]))\n",
    "print(x[2][1], type(x[2][1]))\n",
    "print(x[2][2], type(x[2][2]))"
   ]
  },
  {
   "cell_type": "code",
   "execution_count": null,
   "metadata": {
    "ExecuteTime": {
     "end_time": "2022-12-06T07:50:51.168032Z",
     "start_time": "2022-12-06T07:50:51.164993Z"
    }
   },
   "outputs": [],
   "source": [
    "x[-1][-1][-1]"
   ]
  },
  {
   "cell_type": "markdown",
   "metadata": {
    "id": "01FrWHg1YjgD"
   },
   "source": [
    "## Belirli bir elemanın tekrar sayısı: count()"
   ]
  },
  {
   "cell_type": "code",
   "execution_count": null,
   "metadata": {
    "ExecuteTime": {
     "end_time": "2022-12-06T07:52:46.505550Z",
     "start_time": "2022-12-06T07:52:46.502652Z"
    },
    "colab": {
     "base_uri": "https://localhost:8080/"
    },
    "executionInfo": {
     "elapsed": 5,
     "status": "ok",
     "timestamp": 1652730092377,
     "user": {
      "displayName": "Alper Aydın",
      "userId": "16424421511940582464"
     },
     "user_tz": -180
    },
    "id": "DbOs4BsZXyhC",
    "outputId": "a98857f1-d95b-4f14-9b64-34bccec0d6f2"
   },
   "outputs": [],
   "source": [
    "x = (1,1,1,2,3,4,4,4,5)\n",
    "print(x.count(1)) # 1 elemanından kaç adet bulunduğunu gösterir"
   ]
  },
  {
   "cell_type": "code",
   "execution_count": null,
   "metadata": {
    "ExecuteTime": {
     "end_time": "2022-12-06T07:52:52.541374Z",
     "start_time": "2022-12-06T07:52:52.538624Z"
    },
    "colab": {
     "base_uri": "https://localhost:8080/"
    },
    "executionInfo": {
     "elapsed": 6,
     "status": "ok",
     "timestamp": 1652730130448,
     "user": {
      "displayName": "Alper Aydın",
      "userId": "16424421511940582464"
     },
     "user_tz": -180
    },
    "id": "aGVmD2gVY9fJ",
    "outputId": "22f87592-754e-4bff-f0d1-e517ca1afb57"
   },
   "outputs": [],
   "source": [
    "x = ('a','a','b','c','c','y')\n",
    "print(x.count('c')) # 'c' elemanından kaç adet bulundğunu gösterir"
   ]
  },
  {
   "cell_type": "markdown",
   "metadata": {
    "id": "m94f7dj6Yqmw"
   },
   "source": [
    "## Belirli bir elemanın sırası : index()"
   ]
  },
  {
   "cell_type": "code",
   "execution_count": null,
   "metadata": {
    "ExecuteTime": {
     "end_time": "2022-12-06T07:54:24.632771Z",
     "start_time": "2022-12-06T07:54:24.629940Z"
    },
    "colab": {
     "base_uri": "https://localhost:8080/"
    },
    "executionInfo": {
     "elapsed": 6,
     "status": "ok",
     "timestamp": 1652730044253,
     "user": {
      "displayName": "Alper Aydın",
      "userId": "16424421511940582464"
     },
     "user_tz": -180
    },
    "id": "cdqhantDYpaH",
    "outputId": "6ee550c4-b871-467f-b1bb-d72656b288b7"
   },
   "outputs": [],
   "source": [
    "x = (1,1,1,2,3,4,4,4,5)\n",
    "print(x.index(4)) # birden fazla 4 var, ilk bulunanın sırasını verir"
   ]
  },
  {
   "cell_type": "markdown",
   "metadata": {
    "id": "Qz3GSjHjeDmQ"
   },
   "source": [
    "## Eleman ekleme"
   ]
  },
  {
   "cell_type": "markdown",
   "metadata": {},
   "source": [
    "<div class=\"alert alert-box alert-warning\" style=\"font-size:12pt; padding:15px; line-height:150%;\">\n",
    "    <b>Önemli!</b><br/>\n",
    "    Tuple'lar değiştirilemez özelliğe sahiptirler, ekleme/çıkartma yapılamaz. <br/>\n",
    "    Ancak, iki tuple birleştirilerek yeni bir tuple oluşturulabilir,\n",
    "</div>"
   ]
  },
  {
   "cell_type": "code",
   "execution_count": null,
   "metadata": {
    "ExecuteTime": {
     "end_time": "2022-12-06T07:55:10.049978Z",
     "start_time": "2022-12-06T07:55:10.047233Z"
    },
    "colab": {
     "base_uri": "https://localhost:8080/"
    },
    "executionInfo": {
     "elapsed": 920,
     "status": "ok",
     "timestamp": 1652731613606,
     "user": {
      "displayName": "Alper Aydın",
      "userId": "16424421511940582464"
     },
     "user_tz": -180
    },
    "id": "pye-H5FjeFLm",
    "outputId": "9f66de89-2b2e-4229-a510-af77a421207f"
   },
   "outputs": [],
   "source": [
    "x = ('a','b','c')\n",
    "y = x + tuple('d') # ancak iki tuple birleştirilerek yeni bir tuple oluşturulabilir.\n",
    "print(y)"
   ]
  },
  {
   "cell_type": "markdown",
   "metadata": {},
   "source": [
    "## Tek elemanlı tuple oluşturma"
   ]
  },
  {
   "cell_type": "code",
   "execution_count": null,
   "metadata": {
    "ExecuteTime": {
     "end_time": "2022-12-06T07:56:08.143202Z",
     "start_time": "2022-12-06T07:56:08.140314Z"
    }
   },
   "outputs": [],
   "source": [
    "x = (1)\n",
    "print(type(x))\n",
    "\n",
    "x = (1,)\n",
    "print(type(x))"
   ]
  },
  {
   "cell_type": "code",
   "execution_count": null,
   "metadata": {
    "ExecuteTime": {
     "end_time": "2022-12-06T07:58:49.489213Z",
     "start_time": "2022-12-06T07:58:49.482655Z"
    }
   },
   "outputs": [],
   "source": [
    "(1,2,3) + tuple([4]) # tek bir integer değerden tuple oluşturamıyoruz, mutlaka sıralı tipte bir değişken olması gerekiyor."
   ]
  },
  {
   "cell_type": "code",
   "execution_count": null,
   "metadata": {
    "ExecuteTime": {
     "end_time": "2022-12-06T08:00:04.990181Z",
     "start_time": "2022-12-06T08:00:04.987289Z"
    },
    "colab": {
     "base_uri": "https://localhost:8080/"
    },
    "executionInfo": {
     "elapsed": 262,
     "status": "ok",
     "timestamp": 1652731824181,
     "user": {
      "displayName": "Alper Aydın",
      "userId": "16424421511940582464"
     },
     "user_tz": -180
    },
    "id": "CswMe_ftfdyM",
    "outputId": "3baf520b-c057-4bac-a32e-9eb6ad0f8b66"
   },
   "outputs": [],
   "source": [
    "x = ('d')\n",
    "print(type(x))\n",
    "\n",
    "x = ('d', )\n",
    "print(type(x))\n"
   ]
  },
  {
   "cell_type": "code",
   "execution_count": null,
   "metadata": {
    "ExecuteTime": {
     "end_time": "2022-12-06T08:00:24.041516Z",
     "start_time": "2022-12-06T08:00:24.038765Z"
    },
    "colab": {
     "base_uri": "https://localhost:8080/"
    },
    "executionInfo": {
     "elapsed": 349,
     "status": "ok",
     "timestamp": 1652731797637,
     "user": {
      "displayName": "Alper Aydın",
      "userId": "16424421511940582464"
     },
     "user_tz": -180
    },
    "id": "3kdaZ7mXewno",
    "outputId": "96ba87a7-1516-486f-f4c1-aab10084cee3"
   },
   "outputs": [],
   "source": [
    "x = ('a','b','c')\n",
    "y = x + ('d',) # tek elemanlı bir tuple oluşturmak için ilk elemanı takip eden bir virgül konulur\n",
    "print(y)"
   ]
  },
  {
   "cell_type": "markdown",
   "metadata": {
    "id": "CLJjvaqJgDzT"
   },
   "source": [
    "## Elemanları değişkene atama (unpacking)"
   ]
  },
  {
   "cell_type": "code",
   "execution_count": null,
   "metadata": {
    "ExecuteTime": {
     "end_time": "2022-12-06T08:02:11.348576Z",
     "start_time": "2022-12-06T08:02:11.344982Z"
    },
    "colab": {
     "base_uri": "https://localhost:8080/"
    },
    "executionInfo": {
     "elapsed": 375,
     "status": "ok",
     "timestamp": 1652732029216,
     "user": {
      "displayName": "Alper Aydın",
      "userId": "16424421511940582464"
     },
     "user_tz": -180
    },
    "id": "ICs0eHndfkWw",
    "outputId": "8971a302-919f-4645-9713-d43be6bdfdaf"
   },
   "outputs": [],
   "source": [
    "t = (1, 2, 3)\n",
    "x, y, z = t # t isimli tuple'daki tüm elemanları x,y,z değişkenlerine atıyoruz\n",
    "\n",
    "print(x)\n",
    "print(y)\n",
    "print(z)"
   ]
  },
  {
   "cell_type": "code",
   "execution_count": null,
   "metadata": {
    "ExecuteTime": {
     "end_time": "2022-12-06T08:02:37.683461Z",
     "start_time": "2022-12-06T08:02:37.680803Z"
    }
   },
   "outputs": [],
   "source": [
    "x,y = t[:2]\n",
    "print(x,y)"
   ]
  },
  {
   "cell_type": "code",
   "execution_count": null,
   "metadata": {
    "ExecuteTime": {
     "end_time": "2022-12-06T08:02:58.660394Z",
     "start_time": "2022-12-06T08:02:58.653846Z"
    },
    "colab": {
     "base_uri": "https://localhost:8080/",
     "height": 169
    },
    "executionInfo": {
     "elapsed": 333,
     "status": "error",
     "timestamp": 1652732050346,
     "user": {
      "displayName": "Alper Aydın",
      "userId": "16424421511940582464"
     },
     "user_tz": -180
    },
    "id": "Qxvki4QKgWYL",
    "outputId": "8e8faeef-9b2d-448b-aa21-27ac71896289"
   },
   "outputs": [],
   "source": [
    "x,y,z,w = t # eleman sayısından daha fazla değişkene atamaya çalışırsak"
   ]
  },
  {
   "cell_type": "code",
   "execution_count": null,
   "metadata": {
    "ExecuteTime": {
     "end_time": "2022-12-06T08:04:41.150172Z",
     "start_time": "2022-12-06T08:04:41.143789Z"
    },
    "colab": {
     "base_uri": "https://localhost:8080/",
     "height": 169
    },
    "executionInfo": {
     "elapsed": 284,
     "status": "error",
     "timestamp": 1652732112609,
     "user": {
      "displayName": "Alper Aydın",
      "userId": "16424421511940582464"
     },
     "user_tz": -180
    },
    "id": "OY8t-c9kgbaN",
    "outputId": "fbed9c8d-cb85-415a-af49-7387320bf4f7"
   },
   "outputs": [],
   "source": [
    "x,y = t # eleman sayısından daha az sayıda değişkene atamaya çalışırsak"
   ]
  },
  {
   "cell_type": "markdown",
   "metadata": {},
   "source": [
    "<div class=\"alert alert-box alert-danger\" style=\"font-size:12pt; padding:15px; line-height:150%;\">\n",
    "    <b>Önemli!</b><br/>\n",
    "    Unpacking işlemi değişkenler ve fonksiyonlar ile çalışırken sıklıkla karşımıza çıkan konulardandır. \n",
    "</div>"
   ]
  },
  {
   "cell_type": "markdown",
   "metadata": {
    "id": "h80_MbbBg0Jn"
   },
   "source": [
    "## Asterix kullanımı"
   ]
  },
  {
   "cell_type": "code",
   "execution_count": null,
   "metadata": {
    "ExecuteTime": {
     "end_time": "2022-12-06T08:07:07.202218Z",
     "start_time": "2022-12-06T08:07:07.199929Z"
    },
    "executionInfo": {
     "elapsed": 278,
     "status": "ok",
     "timestamp": 1652732354447,
     "user": {
      "displayName": "Alper Aydın",
      "userId": "16424421511940582464"
     },
     "user_tz": -180
    },
    "id": "d4C28pEChbPF"
   },
   "outputs": [],
   "source": [
    "t = ('a','b','c','d','e',1)\n",
    "x,y, *z = t"
   ]
  },
  {
   "cell_type": "code",
   "execution_count": null,
   "metadata": {
    "ExecuteTime": {
     "end_time": "2022-12-06T08:07:08.216055Z",
     "start_time": "2022-12-06T08:07:08.213614Z"
    },
    "colab": {
     "base_uri": "https://localhost:8080/"
    },
    "executionInfo": {
     "elapsed": 273,
     "status": "ok",
     "timestamp": 1652732512266,
     "user": {
      "displayName": "Alper Aydın",
      "userId": "16424421511940582464"
     },
     "user_tz": -180
    },
    "id": "toBgAkP4hk41",
    "outputId": "9feea050-e107-4df7-8cd7-0a131be5444a"
   },
   "outputs": [],
   "source": [
    "print(x) # t tuple'ındaki ilk eleman\n",
    "print(y) # t tuple'ındaki ikinci eleman\n",
    "print(z) # * ile kalan tüm elemanlar z değişkenine atanır, !Dikkat, atama sonucunda z değişkeni liste tipindedir"
   ]
  },
  {
   "cell_type": "code",
   "execution_count": null,
   "metadata": {
    "ExecuteTime": {
     "end_time": "2022-12-06T08:08:18.951804Z",
     "start_time": "2022-12-06T08:08:18.948855Z"
    },
    "colab": {
     "base_uri": "https://localhost:8080/"
    },
    "executionInfo": {
     "elapsed": 339,
     "status": "ok",
     "timestamp": 1652732606044,
     "user": {
      "displayName": "Alper Aydın",
      "userId": "16424421511940582464"
     },
     "user_tz": -180
    },
    "id": "iNCzxA6BiMVH",
    "outputId": "306a5f31-351e-4b8a-ff56-55176e81e263"
   },
   "outputs": [],
   "source": [
    "x, *y, z = t\n",
    "\n",
    "print(x) # t tuple'ındaki ilk eleman\n",
    "print(y) # * işareti aradaki değişkene atandığı için ilk ve son değişken dışındaki tüm elemanlar y değişkenine atanır.\n",
    "print(z) # t tuple'ındaki son eleman"
   ]
  },
  {
   "cell_type": "code",
   "execution_count": null,
   "metadata": {
    "ExecuteTime": {
     "end_time": "2022-12-06T08:09:13.335288Z",
     "start_time": "2022-12-06T08:09:13.331961Z"
    },
    "colab": {
     "base_uri": "https://localhost:8080/"
    },
    "executionInfo": {
     "elapsed": 268,
     "status": "ok",
     "timestamp": 1652732625247,
     "user": {
      "displayName": "Alper Aydın",
      "userId": "16424421511940582464"
     },
     "user_tz": -180
    },
    "id": "I21c8ly8ijNw",
    "outputId": "207ed6e1-2f45-4e31-f2d1-fe0629bf76ea"
   },
   "outputs": [],
   "source": [
    "*x, y, z = t\n",
    "\n",
    "print(x, type(x))\n",
    "print(y, type(y))\n",
    "print(z, type(z))"
   ]
  },
  {
   "cell_type": "markdown",
   "metadata": {
    "id": "SgEAw5tBi3dR"
   },
   "source": [
    "## Tuple çarpımı"
   ]
  },
  {
   "cell_type": "code",
   "execution_count": null,
   "metadata": {
    "ExecuteTime": {
     "end_time": "2022-12-06T08:09:56.226286Z",
     "start_time": "2022-12-06T08:09:56.223532Z"
    },
    "colab": {
     "base_uri": "https://localhost:8080/"
    },
    "executionInfo": {
     "elapsed": 346,
     "status": "ok",
     "timestamp": 1652732704994,
     "user": {
      "displayName": "Alper Aydın",
      "userId": "16424421511940582464"
     },
     "user_tz": -180
    },
    "id": "Pvne4Jlji5Oh",
    "outputId": "4f7cf2a2-74c4-44f8-ace8-c51bc46ed5f5"
   },
   "outputs": [],
   "source": [
    "x = (1,2,3)\n",
    "print(x)\n",
    "print(x*4)"
   ]
  },
  {
   "cell_type": "markdown",
   "metadata": {
    "id": "iV7F4OXd7oT6"
   },
   "source": [
    "# Set Veri Tipi"
   ]
  },
  {
   "cell_type": "markdown",
   "metadata": {},
   "source": [
    "<div class=\"alert alert-box alert-info\" style=\"font-size:12pt; padding:15px; line-height:150%;\">\n",
    "    <li>Tuple gibi, tek bir değişken içerisinde birden fazla değişken tutabilmeyi sağlar.</li>\n",
    "    <li>Süslü parantez içerisinde virgül ile ayrılan değerler şeklinde oluşturulurlar</li>\n",
    "</div>"
   ]
  },
  {
   "cell_type": "code",
   "execution_count": null,
   "metadata": {
    "ExecuteTime": {
     "end_time": "2022-12-06T08:12:40.566115Z",
     "start_time": "2022-12-06T08:12:40.563284Z"
    },
    "colab": {
     "base_uri": "https://localhost:8080/"
    },
    "executionInfo": {
     "elapsed": 272,
     "status": "ok",
     "timestamp": 1652733171740,
     "user": {
      "displayName": "Alper Aydın",
      "userId": "16424421511940582464"
     },
     "user_tz": -180
    },
    "id": "3wpGnPkjkqHC",
    "outputId": "a5847e6c-c34b-4e0e-e628-1bc0000d3be7"
   },
   "outputs": [],
   "source": [
    "x = {1,2,3}\n",
    "print(x)\n",
    "print(type(x))"
   ]
  },
  {
   "cell_type": "code",
   "execution_count": null,
   "metadata": {
    "ExecuteTime": {
     "end_time": "2022-12-06T08:13:38.281382Z",
     "start_time": "2022-12-06T08:13:38.278516Z"
    },
    "colab": {
     "base_uri": "https://localhost:8080/"
    },
    "executionInfo": {
     "elapsed": 285,
     "status": "ok",
     "timestamp": 1652733158984,
     "user": {
      "displayName": "Alper Aydın",
      "userId": "16424421511940582464"
     },
     "user_tz": -180
    },
    "id": "KbQg0VqYkmUI",
    "outputId": "823e30a0-60af-478b-f36b-0f4d49adf4b9"
   },
   "outputs": [],
   "source": [
    "x = set([1,2,3])\n",
    "print(x)\n",
    "print(type(x))"
   ]
  },
  {
   "cell_type": "code",
   "execution_count": null,
   "metadata": {
    "ExecuteTime": {
     "end_time": "2022-12-06T08:13:39.183861Z",
     "start_time": "2022-12-06T08:13:39.180932Z"
    }
   },
   "outputs": [],
   "source": [
    "t = (1,2,3,4,4,4,5,5)\n",
    "print(t, type(t))\n",
    "s = set(t)\n",
    "print(s, type(s))"
   ]
  },
  {
   "cell_type": "markdown",
   "metadata": {},
   "source": [
    "## Özellikleri"
   ]
  },
  {
   "cell_type": "markdown",
   "metadata": {},
   "source": [
    "<div class=\"alert alert-box alert-info\" style=\"font-size:12pt; padding:15px; line-height:150%;\">\n",
    "    <li><b>Sırasızdır</b>: Elemanlarının belirli bir sırası yoktur, index ile ulaşılamaz.\n",
    "    <li><b>Değiştirilemez</b>: Elemanları sabittir değerleri değiştirilemez\n",
    "    <li><b>Çoklayamaz</b>: Aynı değere sahip birden fazla eleman olamaz\n",
    "</div>"
   ]
  },
  {
   "cell_type": "markdown",
   "metadata": {},
   "source": [
    "<div class=\"alert alert-box alert-success\" style=\"font-size:12pt; padding:15px; line-height:150%;\">\n",
    "    Tekilliğin sağlanması gereken işlemlerde Set tipi değişkenler çok daha yüksek performans sağlarlar.\n",
    "</div>"
   ]
  },
  {
   "cell_type": "markdown",
   "metadata": {
    "id": "F1pPVanQaERR"
   },
   "source": [
    "## Çoklamaya izin verilmez"
   ]
  },
  {
   "cell_type": "code",
   "execution_count": null,
   "metadata": {
    "ExecuteTime": {
     "end_time": "2022-12-06T08:30:58.478127Z",
     "start_time": "2022-12-06T08:30:58.475487Z"
    },
    "colab": {
     "base_uri": "https://localhost:8080/"
    },
    "executionInfo": {
     "elapsed": 277,
     "status": "ok",
     "timestamp": 1652733419113,
     "user": {
      "displayName": "Alper Aydın",
      "userId": "16424421511940582464"
     },
     "user_tz": -180
    },
    "id": "wk4Z-D5RlN3Y",
    "outputId": "75e1647c-0637-4b9f-9985-af3b0e060925"
   },
   "outputs": [],
   "source": [
    "x = {'a','b','c','a'} # çoklayan değerlerden sadece birisine izin verilir\n",
    "print(x)"
   ]
  },
  {
   "cell_type": "markdown",
   "metadata": {
    "id": "AtAHenJLl7u4"
   },
   "source": [
    "## Farklı veri tiplerini barındırabilir"
   ]
  },
  {
   "cell_type": "code",
   "execution_count": null,
   "metadata": {
    "ExecuteTime": {
     "end_time": "2022-12-06T08:31:12.763559Z",
     "start_time": "2022-12-06T08:31:12.760790Z"
    },
    "colab": {
     "base_uri": "https://localhost:8080/"
    },
    "executionInfo": {
     "elapsed": 5,
     "status": "ok",
     "timestamp": 1652733525994,
     "user": {
      "displayName": "Alper Aydın",
      "userId": "16424421511940582464"
     },
     "user_tz": -180
    },
    "id": "RwTCVbFElpvH",
    "outputId": "26d447fd-a5b5-4b67-fde9-4c925b1ae3b1"
   },
   "outputs": [],
   "source": [
    "x = {1, 2, 'a', 'b', True, 1.23}\n",
    "print(x)"
   ]
  },
  {
   "cell_type": "markdown",
   "metadata": {
    "id": "MU9mp2AimJFY"
   },
   "source": [
    "## Set içinde set"
   ]
  },
  {
   "cell_type": "code",
   "execution_count": null,
   "metadata": {
    "ExecuteTime": {
     "end_time": "2022-12-06T08:31:28.970313Z",
     "start_time": "2022-12-06T08:31:28.963736Z"
    },
    "colab": {
     "base_uri": "https://localhost:8080/",
     "height": 187
    },
    "executionInfo": {
     "elapsed": 310,
     "status": "error",
     "timestamp": 1652734668096,
     "user": {
      "displayName": "Alper Aydın",
      "userId": "16424421511940582464"
     },
     "user_tz": -180
    },
    "id": "EWVl9iTrqXvy",
    "outputId": "063ff8da-cd32-4cd8-bba6-e5fffef6d720"
   },
   "outputs": [],
   "source": [
    "x = {1, 2, {1,2,3}}\n",
    "print(x)"
   ]
  },
  {
   "cell_type": "markdown",
   "metadata": {},
   "source": [
    "<div class=\"alert alert-box alert-warning\" style=\"font-size:12pt; padding:15px; line-height:150%;\">\n",
    "    <li>Set veri tipleri sırasız oldukları için ve Set veri tipi tekilliği garantilediği için başka bir set veri tipini içinde barındıramaz.</li>\n",
    "    <li>Bunun sebebi {1,2,3} ve {3,2,1} set'lerinin aslında aynı olmasından kaynaklanır.</li>\n",
    "</div>"
   ]
  },
  {
   "cell_type": "code",
   "execution_count": null,
   "metadata": {
    "ExecuteTime": {
     "end_time": "2022-12-06T08:32:38.555916Z",
     "start_time": "2022-12-06T08:32:38.552751Z"
    }
   },
   "outputs": [],
   "source": [
    "{1,2,3}=={3,2,1}"
   ]
  },
  {
   "cell_type": "markdown",
   "metadata": {},
   "source": [
    "<div class=\"alert alert-box alert-warning\" style=\"font-size:12pt; padding:15px; line-height:150%;\">\n",
    "    <li>Bu sebeple bir set içindeki verilerin tekilliğini sağlayamayacağı için içerisinde \"hash\" 'lenemeyen bir veri tipi barındıramaz\n",
    "</div>"
   ]
  },
  {
   "cell_type": "markdown",
   "metadata": {},
   "source": [
    "<div class=\"alert alert-box alert-info\" style=\"font-size:12pt; padding:15px; line-height:150%;\">\n",
    "    <b>Hashing</b>: <br/>\n",
    "    Verilerin belirli bir mantıkla tutulmasına yarayan bir sistemdir. Hashing ile veriyi nereye yerleştireceğimiz bir liste vasıtasıyla belirlenir. Daha sonra arama işleminde de aynı mantık kullanılacağından hızlı bir bulma söz konusu olur.<br/>\n",
    "    <a href=\"https://www.mshowto.org/veri-yapilari-8-hashing-nedir.html\">Kaynak</a>\n",
    "</div>"
   ]
  },
  {
   "cell_type": "markdown",
   "metadata": {
    "id": "YLueGIgbsE6a"
   },
   "source": [
    "## Eleman ekleme/çıkartma"
   ]
  },
  {
   "cell_type": "code",
   "execution_count": null,
   "metadata": {
    "ExecuteTime": {
     "end_time": "2022-12-06T08:34:41.155508Z",
     "start_time": "2022-12-06T08:34:41.152743Z"
    },
    "colab": {
     "base_uri": "https://localhost:8080/"
    },
    "executionInfo": {
     "elapsed": 376,
     "status": "ok",
     "timestamp": 1652735831888,
     "user": {
      "displayName": "Alper Aydın",
      "userId": "16424421511940582464"
     },
     "user_tz": -180
    },
    "id": "zAY3PFkZrCkf",
    "outputId": "6c2ea847-595b-488b-ade3-67ca1f935fd7"
   },
   "outputs": [],
   "source": [
    "x = {1, 2, 3}\n",
    "x.add(4)\n",
    "print(x)"
   ]
  },
  {
   "cell_type": "code",
   "execution_count": null,
   "metadata": {
    "ExecuteTime": {
     "end_time": "2022-12-06T08:34:53.288803Z",
     "start_time": "2022-12-06T08:34:53.286056Z"
    }
   },
   "outputs": [],
   "source": [
    "x = {1, 2, 3}\n",
    "x.add(3)\n",
    "print(x) # set'ler tekilliği garanti eder."
   ]
  },
  {
   "cell_type": "code",
   "execution_count": null,
   "metadata": {
    "ExecuteTime": {
     "end_time": "2022-12-06T08:36:22.683827Z",
     "start_time": "2022-12-06T08:36:22.680803Z"
    }
   },
   "outputs": [],
   "source": [
    "x.add('a')\n",
    "x"
   ]
  },
  {
   "cell_type": "code",
   "execution_count": null,
   "metadata": {
    "ExecuteTime": {
     "end_time": "2022-12-06T08:37:00.330456Z",
     "start_time": "2022-12-06T08:37:00.322353Z"
    }
   },
   "outputs": [],
   "source": [
    "x.add([3,4])\n",
    "x.add([4,3])"
   ]
  },
  {
   "cell_type": "code",
   "execution_count": null,
   "metadata": {
    "ExecuteTime": {
     "end_time": "2022-12-06T08:35:21.807158Z",
     "start_time": "2022-12-06T08:35:21.800574Z"
    }
   },
   "outputs": [],
   "source": [
    "x.add({1,2,6})"
   ]
  },
  {
   "cell_type": "code",
   "execution_count": null,
   "metadata": {
    "ExecuteTime": {
     "end_time": "2022-11-15T08:49:31.163514Z",
     "start_time": "2022-11-15T08:49:31.160995Z"
    },
    "colab": {
     "base_uri": "https://localhost:8080/"
    },
    "executionInfo": {
     "elapsed": 1,
     "status": "ok",
     "timestamp": 1652735832296,
     "user": {
      "displayName": "Alper Aydın",
      "userId": "16424421511940582464"
     },
     "user_tz": -180
    },
    "id": "NkTm--e7sRiF",
    "outputId": "95850e1c-ecd4-4eac-b1bc-2e706c03ed02"
   },
   "outputs": [],
   "source": [
    "x.remove(1) # çıkartmak istediğim değer küme elemanının indexi değil, elemanın kendisi olmalı\n",
    "print(x)"
   ]
  },
  {
   "cell_type": "code",
   "execution_count": null,
   "metadata": {
    "ExecuteTime": {
     "end_time": "2022-11-15T08:51:08.471775Z",
     "start_time": "2022-11-15T08:51:08.469439Z"
    },
    "colab": {
     "base_uri": "https://localhost:8080/"
    },
    "executionInfo": {
     "elapsed": 1,
     "status": "ok",
     "timestamp": 1652735832575,
     "user": {
      "displayName": "Alper Aydın",
      "userId": "16424421511940582464"
     },
     "user_tz": -180
    },
    "id": "0GvZmrXQtJ8X",
    "outputId": "d109ed83-d76d-477f-e8f2-733f75569012"
   },
   "outputs": [],
   "source": [
    "x = {2,3,1,6,8}\n",
    "y = x.pop() # pop komutu **herhangi** bir elemanı set'ten çıkartır. Önünde bir değişken verilmişse çıkartılan değer bu değişkene atanır.\n",
    "print(y)\n",
    "print(x)"
   ]
  },
  {
   "cell_type": "code",
   "execution_count": null,
   "metadata": {
    "ExecuteTime": {
     "end_time": "2022-11-15T08:53:50.600501Z",
     "start_time": "2022-11-15T08:53:50.597987Z"
    },
    "colab": {
     "base_uri": "https://localhost:8080/"
    },
    "executionInfo": {
     "elapsed": 3,
     "status": "ok",
     "timestamp": 1652735832923,
     "user": {
      "displayName": "Alper Aydın",
      "userId": "16424421511940582464"
     },
     "user_tz": -180
    },
    "id": "q1BAAjbwub9Z",
    "outputId": "ad1bffc7-09c4-4105-dc9e-f415c374b216"
   },
   "outputs": [],
   "source": [
    "print(x)\n",
    "x.clear()\n",
    "print(x)"
   ]
  },
  {
   "cell_type": "markdown",
   "metadata": {
    "id": "yj-bU2IGseex"
   },
   "source": [
    "## Güncelleme\n",
    "\n",
    "Mevcut seti günceller, buradaki güncelle"
   ]
  },
  {
   "cell_type": "code",
   "execution_count": null,
   "metadata": {
    "ExecuteTime": {
     "end_time": "2022-11-15T08:55:16.622938Z",
     "start_time": "2022-11-15T08:55:16.619787Z"
    },
    "colab": {
     "base_uri": "https://localhost:8080/"
    },
    "executionInfo": {
     "elapsed": 413,
     "status": "ok",
     "timestamp": 1652736056841,
     "user": {
      "displayName": "Alper Aydın",
      "userId": "16424421511940582464"
     },
     "user_tz": -180
    },
    "id": "go5pego1shg8",
    "outputId": "f6015af6-ae98-40e3-ac1a-1287a4ad9464"
   },
   "outputs": [],
   "source": [
    "x = {1, 2, 3}\n",
    "y = {3, 4, 5}\n",
    "x.update(y) # x set'ini y set'i ile güncelleyebiliriz\n",
    "print(x, id(x))"
   ]
  },
  {
   "cell_type": "markdown",
   "metadata": {
    "id": "OWOKy_pKvZZY"
   },
   "source": [
    "## Birleştirme\n",
    "\n",
    "İki seti birleştirerek yeni bir set oluşturur"
   ]
  },
  {
   "cell_type": "code",
   "execution_count": null,
   "metadata": {
    "ExecuteTime": {
     "end_time": "2022-11-15T08:56:13.065967Z",
     "start_time": "2022-11-15T08:56:13.063131Z"
    }
   },
   "outputs": [],
   "source": [
    "y = x.union(y)\n",
    "print(id(x.union(y)))\n",
    "print(y)"
   ]
  },
  {
   "cell_type": "markdown",
   "metadata": {},
   "source": [
    "## union - update farkı"
   ]
  },
  {
   "cell_type": "markdown",
   "metadata": {},
   "source": [
    "<div class=\"alert alert-box alert-warning\" style=\"font-size:12pt; padding:15px; line-height:150%;\">\n",
    "    <b>Update ile Union arasında fark:</b><br/>\n",
    "    <li>Update yeni bir set oluşturmaz, ikinci sette olmayan değerleri birinci sete ekler</li>\n",
    "    <li>Union işlemi iki setin birleşiminden oluşan **yeni** bir set oluşturur\n",
    "</div>"
   ]
  },
  {
   "cell_type": "code",
   "execution_count": null,
   "metadata": {
    "ExecuteTime": {
     "end_time": "2022-12-06T08:40:41.803357Z",
     "start_time": "2022-12-06T08:40:41.798640Z"
    }
   },
   "outputs": [],
   "source": [
    "x = {1,2,3}\n",
    "y = {1,2,5,6}\n",
    "print('x.union(y): ', x.union(y)) # union işlemi sonrasında x değişkenim değişmiyor\n",
    "print('x:', x)\n",
    "\n",
    "print('x.update(y): ', x.update(y)) # update işlemi sonrasında x değişkenim değişiyor\n",
    "print('x:', x)"
   ]
  },
  {
   "cell_type": "markdown",
   "metadata": {},
   "source": [
    "<div class=\"alert alert-box alert-warning\" style=\"font-size:12pt; padding:15px; line-height:150%;\">\n",
    "    <li>Update ve Union sonrası x'in memory adresi değişmez.</li>\n",
    "    <li>Ancak update sonrası x'in içeriği değişirken union sonrasında x'in içeriği değişmez.\n",
    "</div>"
   ]
  },
  {
   "cell_type": "code",
   "execution_count": null,
   "metadata": {
    "ExecuteTime": {
     "end_time": "2022-12-06T08:42:31.223163Z",
     "start_time": "2022-12-06T08:42:31.219114Z"
    }
   },
   "outputs": [],
   "source": [
    "x = {1,2,3}\n",
    "y = {1,2,5,6}\n",
    "\n",
    "z = x.union(y)\n",
    "print('union sonrası id(x):\\t', id(x), x)\n",
    "x.update(y)\n",
    "print('update sonrası id(x):\\t', id(x), x)\n"
   ]
  },
  {
   "cell_type": "markdown",
   "metadata": {},
   "source": [
    "## Fark Kümesi\n",
    "\n",
    "Bir kümeyi başka bir küme ile karşılaştırarak diğer kümede yer almayan elemanları gösterir"
   ]
  },
  {
   "cell_type": "code",
   "execution_count": null,
   "metadata": {
    "ExecuteTime": {
     "end_time": "2022-11-15T08:59:08.690341Z",
     "start_time": "2022-11-15T08:59:08.686784Z"
    }
   },
   "outputs": [],
   "source": [
    "x = {1,2,3}\n",
    "y = {1,2,5,6}\n",
    "print('x.difference(y):\\t', x.difference(y))\n",
    "print('y.difference(x):\\t', y.difference(x))"
   ]
  },
  {
   "cell_type": "code",
   "execution_count": null,
   "metadata": {
    "ExecuteTime": {
     "end_time": "2022-11-15T09:00:48.086085Z",
     "start_time": "2022-11-15T09:00:48.082262Z"
    }
   },
   "outputs": [],
   "source": [
    "x-y # x.difference(y)"
   ]
  },
  {
   "cell_type": "code",
   "execution_count": null,
   "metadata": {
    "ExecuteTime": {
     "end_time": "2022-11-15T09:00:51.163310Z",
     "start_time": "2022-11-15T09:00:51.160771Z"
    }
   },
   "outputs": [],
   "source": [
    "y-x # y.difference(x)"
   ]
  },
  {
   "cell_type": "markdown",
   "metadata": {},
   "source": [
    "## Birleşim Kümesi\n",
    "\n",
    "İki kümenin birleşiminden oluşan, her iki kümedeki elemanların bir sefer yer aldığı yeni bir küme oluşturur"
   ]
  },
  {
   "cell_type": "code",
   "execution_count": null,
   "metadata": {
    "ExecuteTime": {
     "end_time": "2022-11-15T09:01:20.882543Z",
     "start_time": "2022-11-15T09:01:20.879112Z"
    }
   },
   "outputs": [],
   "source": [
    "x.union(y)"
   ]
  },
  {
   "cell_type": "code",
   "execution_count": null,
   "metadata": {
    "ExecuteTime": {
     "end_time": "2022-11-15T09:01:30.887030Z",
     "start_time": "2022-11-15T09:01:30.884244Z"
    }
   },
   "outputs": [],
   "source": [
    "x | y"
   ]
  },
  {
   "cell_type": "markdown",
   "metadata": {},
   "source": [
    "## Kesişim Kümesi\n",
    "\n",
    "Her iki kümede birlikte yer alan elemanları gösterir"
   ]
  },
  {
   "cell_type": "code",
   "execution_count": null,
   "metadata": {
    "ExecuteTime": {
     "end_time": "2022-11-15T09:01:44.274099Z",
     "start_time": "2022-11-15T09:01:44.271585Z"
    }
   },
   "outputs": [],
   "source": [
    "x.intersection(y)"
   ]
  },
  {
   "cell_type": "code",
   "execution_count": null,
   "metadata": {
    "ExecuteTime": {
     "end_time": "2022-11-15T09:01:57.080731Z",
     "start_time": "2022-11-15T09:01:57.078109Z"
    }
   },
   "outputs": [],
   "source": [
    "x & y"
   ]
  },
  {
   "cell_type": "markdown",
   "metadata": {},
   "source": [
    "## Simetrik Fark\n",
    "\n",
    "işlem yapılan her iki kümede **birlikte yer almayan tüm elemanları** gösterir"
   ]
  },
  {
   "cell_type": "code",
   "execution_count": null,
   "metadata": {
    "ExecuteTime": {
     "end_time": "2022-11-15T09:02:18.550620Z",
     "start_time": "2022-11-15T09:02:18.547934Z"
    }
   },
   "outputs": [],
   "source": [
    "x.symmetric_difference(y)"
   ]
  },
  {
   "cell_type": "code",
   "execution_count": null,
   "metadata": {
    "ExecuteTime": {
     "end_time": "2022-11-15T09:02:56.529437Z",
     "start_time": "2022-11-15T09:02:56.525566Z"
    }
   },
   "outputs": [],
   "source": [
    "x ^ y "
   ]
  },
  {
   "cell_type": "code",
   "execution_count": null,
   "metadata": {
    "ExecuteTime": {
     "end_time": "2022-12-06T08:48:43.450985Z",
     "start_time": "2022-12-06T08:48:43.443833Z"
    }
   },
   "outputs": [],
   "source": [
    "print('x', x)\n",
    "print('y', y)\n",
    "z = {9,5,2}\n",
    "print('z', z)\n",
    "print('kesişim 1', (x ^ y))\n",
    "print('kesişim 2', (x ^ z))\n",
    "(x ^ y) | (x ^ z)"
   ]
  },
  {
   "cell_type": "code",
   "execution_count": null,
   "metadata": {
    "ExecuteTime": {
     "end_time": "2022-12-06T08:51:20.582463Z",
     "start_time": "2022-12-06T08:51:20.579355Z"
    }
   },
   "outputs": [],
   "source": [
    "x ^ y"
   ]
  },
  {
   "cell_type": "markdown",
   "metadata": {},
   "source": [
    "# Quiz"
   ]
  },
  {
   "cell_type": "code",
   "execution_count": null,
   "metadata": {
    "ExecuteTime": {
     "end_time": "2022-09-07T08:59:23.827316Z",
     "start_time": "2022-09-07T08:38:03.974597Z"
    }
   },
   "outputs": [],
   "source": [
    "log.Quiz()"
   ]
  }
 ],
 "metadata": {
  "kernelspec": {
   "display_name": "Python 3",
   "language": "python",
   "name": "python3"
  },
  "language_info": {
   "codemirror_mode": {
    "name": "ipython",
    "version": 3
   },
   "file_extension": ".py",
   "mimetype": "text/x-python",
   "name": "python",
   "nbconvert_exporter": "python",
   "pygments_lexer": "ipython3",
   "version": "3.7.6"
  },
  "toc": {
   "base_numbering": 1,
   "nav_menu": {},
   "number_sections": true,
   "sideBar": true,
   "skip_h1_title": false,
   "title_cell": "Table of Contents",
   "title_sidebar": "Contents",
   "toc_cell": false,
   "toc_position": {},
   "toc_section_display": true,
   "toc_window_display": true
  },
  "varInspector": {
   "cols": {
    "lenName": 16,
    "lenType": 16,
    "lenVar": 40
   },
   "kernels_config": {
    "python": {
     "delete_cmd_postfix": "",
     "delete_cmd_prefix": "del ",
     "library": "var_list.py",
     "varRefreshCmd": "print(var_dic_list())"
    },
    "r": {
     "delete_cmd_postfix": ") ",
     "delete_cmd_prefix": "rm(",
     "library": "var_list.r",
     "varRefreshCmd": "cat(var_dic_list()) "
    }
   },
   "types_to_exclude": [
    "module",
    "function",
    "builtin_function_or_method",
    "instance",
    "_Feature"
   ],
   "window_display": false
  }
 },
 "nbformat": 4,
 "nbformat_minor": 4
}
