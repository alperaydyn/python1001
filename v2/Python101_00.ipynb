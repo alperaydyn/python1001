{
 "cells": [
  {
   "cell_type": "code",
   "execution_count": null,
   "metadata": {
    "ExecuteTime": {
     "end_time": "2022-07-15T20:26:51.644107Z",
     "start_time": "2022-07-15T20:26:51.640069Z"
    },
    "hide_input": true
   },
   "outputs": [],
   "source": [
    "from IPython.display import display, clear_output, HTML\n",
    "display(HTML(\"\"\"\n",
    "    <script>\n",
    "        $('#zenmode-toggle-btn').click()\n",
    "    </script>\n",
    "\"\"\"))"
   ]
  },
  {
   "cell_type": "markdown",
   "metadata": {},
   "source": [
    "<div class=\"alert alert-box\" style=\"background:#2b5b84; color:#eee; font-size:40pt; font-family:calibri; font-weight:100; padding:25px; text-align:center\">\n",
    "<img src=\"https://www.python.org/static/img/python-logo.png\" style=\"display:inline\"></img> Programlama Diline Giriş\n",
    "</div>"
   ]
  },
  {
   "cell_type": "markdown",
   "metadata": {
    "id": "J2KDYFy_4rBw"
   },
   "source": [
    "# Eğitim Hakkında\n",
    "\n",
    "<div class=\"alert alert-box alert-white\" style=\"font-size:14pt; padding:15px; line-height:200%\">\n",
    "    <p/>Bu eğitimin amacı \n",
    "    <li>Python programlama dilinin genel özellikleri hakkında bilgi sahibi olmak\n",
    "    <li>Temel seviyede programlama kavramları hakkında bilgi sahibi olmak\n",
    "    <li>Veri analizi ve görselleştirme işleri için Python kullanımına ait giriş seviyede bilgi sahibi olmak\n",
    "    <li>Programlama ile otomatize edilebilecek işler hakkında fikir sahibi olmak\n",
    "</div>"
   ]
  },
  {
   "cell_type": "markdown",
   "metadata": {},
   "source": [
    "<div class=\"alert alert-box alert-warning\" style=\"font-size:12pt; padding:15px; line-height:200%;\">\n",
    "    <b>Önemli Not:</b><br/>\n",
    "    Bu eğitim programlama geçmişi olmayan katılımcılar için tasarlanmış giriş seviyesinde bir eğitimdir.<br/>\n",
    "    Kavramlar ve uygulama hakkında daha detaylı bilgi için orta-ileri düzey eğitimlere hazırlık sağlaması amaçlanmaktadır.\n",
    "</div>"
   ]
  },
  {
   "cell_type": "markdown",
   "metadata": {
    "id": "Vsbrap-QHHi1"
   },
   "source": [
    "## Eğitim Akışı\n",
    "<div class=\"alert alert-box alert-white\" style=\"font-size:14pt; padding:15px; line-height:200%\">\n",
    "<li>ilk iki gün temel kavramlar\n",
    "<li>fonksiyon ve temel modüller\n",
    "<li>veri analizi\n",
    "<li>görselleştirme\n",
    "<li>örnek projeler ve final projesi (değerlendirmeye tabi)\n",
    "</div>"
   ]
  },
  {
   "cell_type": "markdown",
   "metadata": {
    "id": "Upt8IOS_z2Bs"
   },
   "source": [
    "## Eğitim Programı\n",
    "\n",
    "\n",
    "Saat|1.Gün|2.Gün|3.Gün|4.Gün|5.Gün\n",
    ":-|:-|:-|:-|:-|:-\n",
    "**09:30-10:15**|<li>Tanışma|<li>Boolean<li>Tuple|<li>Fonksiyonlar<li>Gömülü Fonksiyonlar|<b>Dosya İşlemleri</b><li>File<li>Excel|<b>Veri Görselleştirme</b><li>matplotlib\n",
    "**10:30-11:15**|<li>Giriş<li>Kurulum|<li>Set<li>Listeler|<li>Class<li>Moduller|<b>Veritabanı İşlemleri</b><li>sqlite3<li>cx_Oracle|<li>seaborn\n",
    "**11:30-12:30**|<li>JupyterHub<li>Environment|<li>Dictionary|<li>Docstring<li>PEP8<li>.py dosyası|<b>Veri Analizi</b><li>numpy|<li>dash\n",
    "**12:30-13:30**|<hr/>|<hr/>|**Öğle Arası**|<hr/>|<hr/>\n",
    "**13:30-14:15**|<li>Hello World<li>Değişkenler<li>Dört İşlem|<li>Operatörler|<b>Temel Modüller</b><li>os, sys, <li>statistics, collections, <li>random|<li>numpy|<b>Örnek Projeler</b><li>Simülasyon\n",
    "**14:30-15:15**|<b>Veri Tipleri</b><li>Rakamlar<li>Değişken Dönüşümleri|<li>Koşullar<li>Döngüler|<li>datetime<li>time<li>math|<li>pandas|<li>Web Scraping\n",
    "**15:30-16:15**|<li>Metin Veri Tipi<li>Özellikleri|<li>List Comprehension|<li>Regex|<li>pandas|<li>Excel Dinamik Raporlama"
   ]
  },
  {
   "cell_type": "markdown",
   "metadata": {},
   "source": [
    "## Konu Başlıkları"
   ]
  },
  {
   "cell_type": "markdown",
   "metadata": {},
   "source": [
    "<div class=\"alert alert-box alert-warning\" style=\"font-size:12pt; padding:15px; line-height:150%;\">\n",
    "    JupyterHub Giriş: <a href=\"http://gbjpyp201/\"> http://gbjpyp201/ </a>\n",
    "</div>"
   ]
  },
  {
   "cell_type": "markdown",
   "metadata": {
    "ExecuteTime": {
     "end_time": "2022-07-13T06:51:21.013565Z",
     "start_time": "2022-07-13T06:51:21.003768Z"
    }
   },
   "source": [
    "<hr/>\n",
    "<center><div class=\"alert alert-box\" style=\"background:#33aabb33; color:steelblue; font-size:18pt; padding:8px;\">Gün 1</strong></center>\n",
    "\n",
    "* Eğitim Hakkında\n",
    "* [Ders 1](Python101_01_Python.ipynb)\n",
    "    * Giriş\n",
    "        * Python Hakkında, Tarihçe, Kullanım Amaçları, Neden Python?\n",
    "        * Programlama Nedir, Programcı Kimdir, Programcının özellikleri\n",
    "* [Ders 2](Python101_02_Kurulum.ipynb)\n",
    "    * Kurulum\n",
    "        * Doğrudan kurulum\n",
    "        * Anaconda\n",
    "        * JupyterHub\n",
    "            * Jupyter Notebook\n",
    "            * Tablar, Kernel, Menüler, Hücreler, Markdown\n",
    "            * JupyterHub Kullanım Kuralları\n",
    "        * Kernel\n",
    "        * WinSCP\n",
    "* [Ders 3](Python101_03_Degiskenler.ipynb)\n",
    "    * Hello World\n",
    "    * Değişkenler\n",
    "        * Değişken Özellikleri\n",
    "        * Çoklu Değişken Tanımlama\n",
    "        * Değişkenleri Yazdırma\n",
    "* [Ders 4](Python101_04_VeriTipleri.ipynb)\n",
    "    * Veri Tipleri\n",
    "        * Metin, Sayısal, Sıralı, Eşleştirme, Küme, Mantıksal, İkili, Boş\n",
    "    * Değişken Dönüşümleri\n",
    "* [Ders 5](Python101_05_VeriTipleri-Metin.ipynb)\n",
    "    * Veri Tipleri - Metin\n",
    "        * (Metin veri tipi özellikleri ve işlemleri)\n",
    "\n",
    "<hr style=\"margin-top:150px;\"/>\n",
    "<center><div class=\"alert alert-box\" style=\"background:#33aabb33; color:steelblue; font-size:18pt; padding:8px;\">Gün 2</strong></center>\n",
    "\n",
    "* [Ders 6](Python101_06_VeriTipleri-Boolean%2CTuple%2CSet.ipynb)\n",
    "    * Veri Tipleri - Boolean\n",
    "    * Veri Tipleri - Tuple\n",
    "    * Veri Tipleri - Set\n",
    "* [Ders 7](Python101_07_VeriTipleri-Listeler.ipynb)\n",
    "    * Veri Tipleri - Listeler\n",
    "* [Ders 8](Python101_08_VeriTipleri-Sozluk.ipynb)\n",
    "    * Veri Tipleri - Sözlük\n",
    "* [Ders 10](Python101_09_Operatorler.ipynb)\n",
    "    * Operatörler\n",
    "* [Ders 11](Python101_10_KosullarVeDonguler.ipynb)\n",
    "    * Koşullar ve Döngüler\n",
    "        * If-Else\n",
    "        * For Loop\n",
    "        * While Loop\n",
    "* [Ders 9](Python101_11_ListComprehension.ipynb)\n",
    "    * List Comprehension\n",
    "\n",
    "<hr/>\n",
    "<center><div class=\"alert alert-box\" style=\"background:#33aabb33; color:steelblue; font-size:18pt; padding:8px;\">Gün 3</strong></center>\n",
    "\n",
    "* [Ders 12](Python101_12_Fonksiyonlar.ipynb)\n",
    "    * Fonksiyonlar\n",
    "    * Python Gömülü Fonksiyonlar\n",
    "* [Ders 13](Python101_13_ClassYapisi_Moduller.ipynb)\n",
    "    * Class Yapısı\n",
    "    * Modüller\n",
    "* Ders 14\n",
    "    * [Docstring](Python101_14_Docstring.ipynb)\n",
    "    * PEP8\n",
    "    * [Hata Yönetimi](Python101_14_HataYonetimi.ipynb)\n",
    "* [Ders 15](Python101_15_TemelModuller-1.ipynb)\n",
    "    * Temel Modüller\n",
    "        * os, sys, math, statistics, collections, random\n",
    "* [Ders 16](Python101_16_TemelModuller-2.ipynb)\n",
    "    * Temel Modüller (devam)\n",
    "        * random, datetime, time\n",
    "* [Ders 17](Python101_17_Regex.ipynb)\n",
    "    * Regex\n",
    "    \n",
    "<hr/>\n",
    "<center><div class=\"alert alert-box\" style=\"background:#33aabb33; color:steelblue; font-size:18pt; padding:8px;\">Gün 4</strong></center>\n",
    "\n",
    "* [Ders 18](Python101_18_DosyaIslemleri.ipynb)\n",
    "    * Dosya İşlemleri\n",
    "    * Excel İşlemleri\n",
    "* Ders 19\n",
    "    * [Veritabanı İşlemleri (sqlite3)](Python101_19_VeritabaniIslemleri-sqlite3.ipynb)\n",
    "    * [Veritabanı İşlemleri (cx_Oracle)](Python101_19_VeritabaniIslemleri-cx_Oracle.ipynb)\n",
    "* [Ders 20](Python101_20_VeriAnalizi-numpy-1.ipynb), [Ders 21](Python101_21_VeriAnalizi-numpy-2.ipynb)\n",
    "    * Önemli Modüller\n",
    "        * numpy\n",
    "* [Ders 22](Python101_22_VeriAnalizi-pandas-1.ipynb), [Ders 23](Python101_23_VeriAnalizi-pandas-2.ipynb)\n",
    "    * Önemli Modüller\n",
    "        * pandas\n",
    "\n",
    "<hr/>\n",
    "<center><div class=\"alert alert-box\" style=\"background:#33aabb33; color:steelblue; font-size:18pt; padding:8px; margin-top:200px\">Gün 5</strong></center>\n",
    "\n",
    "* [Ders 24](Python101_24_VeriGorsellestirme-matplotlib.ipynb)\n",
    "    * Veri Görselleştirme\n",
    "        * matplotlib\n",
    "* [Ders 25](Python101_25_VeriGorsellestirme-seaborn.ipynb)\n",
    "    * Veri Görselleştirme\n",
    "        * seaborn\n",
    "* [Ders 26](Python101_26_VeriGorsellestirme-dash.ipynb)\n",
    "    * Veri Görselleştirme\n",
    "        * dash\n",
    "* [Ders 27](Python101_27_OrnekProjeler-Simulasyon.ipynb)\n",
    "    * Örnek Projeler\n",
    "        * Simülasyon\n",
    "* [Ders 28](Python101_28_OrnekProjeler-WebScraping.ipynb)        \n",
    "    * Örnek Projeler\n",
    "        * Web Scraping\n",
    "* [Ders 29](Python101_27_OrnekProjeler-DinamikRaporlama.ipynb)        \n",
    "    * Örnek Projeler\n",
    "        * Excel ile Dinamik Raporlama"
   ]
  },
  {
   "cell_type": "markdown",
   "metadata": {
    "id": "SsEcK-_TLLUg"
   },
   "source": [
    "## Kaynaklar\n",
    "\n",
    "* https://www.python.org/about/gettingstarted/\n",
    "* https://www.w3schools.com/python/default.asp\n",
    "* https://www.tutorialsteacher.com/python\n",
    "* https://towardsdatascience.com/20-of-pandas-functions-that-data-scientists-use-80-of-the-time-a4ff1b694707\n",
    "* http://pratikyapayzeka.com/python/python_gomulu_fonksiyonlar/\n",
    "* https://python-istihza.yazbel.com/standart_moduller/\n",
    "* https://kerteriz.net/temelden-ileriye-turkce-python-dersleri/\n",
    "* https://kerteriz.net/python-numpy-kullanimi-nedir-ve-nasil-kullanilir/ (Numpy)"
   ]
  }
 ],
 "metadata": {
  "kernelspec": {
   "display_name": "Python 3",
   "language": "python",
   "name": "python3"
  },
  "language_info": {
   "codemirror_mode": {
    "name": "ipython",
    "version": 3
   },
   "file_extension": ".py",
   "mimetype": "text/x-python",
   "name": "python",
   "nbconvert_exporter": "python",
   "pygments_lexer": "ipython3",
   "version": "3.7.6"
  },
  "toc": {
   "base_numbering": 1,
   "nav_menu": {},
   "number_sections": true,
   "sideBar": true,
   "skip_h1_title": false,
   "title_cell": "Table of Contents",
   "title_sidebar": "Contents",
   "toc_cell": false,
   "toc_position": {
    "height": "calc(100% - 180px)",
    "left": "10px",
    "top": "150px",
    "width": "253.09px"
   },
   "toc_section_display": true,
   "toc_window_display": false
  },
  "varInspector": {
   "cols": {
    "lenName": 16,
    "lenType": 16,
    "lenVar": 40
   },
   "kernels_config": {
    "python": {
     "delete_cmd_postfix": "",
     "delete_cmd_prefix": "del ",
     "library": "var_list.py",
     "varRefreshCmd": "print(var_dic_list())"
    },
    "r": {
     "delete_cmd_postfix": ") ",
     "delete_cmd_prefix": "rm(",
     "library": "var_list.r",
     "varRefreshCmd": "cat(var_dic_list()) "
    }
   },
   "position": {
    "height": "144.844px",
    "left": "1482px",
    "right": "20px",
    "top": "36px",
    "width": "350px"
   },
   "types_to_exclude": [
    "module",
    "function",
    "builtin_function_or_method",
    "instance",
    "_Feature"
   ],
   "window_display": true
  }
 },
 "nbformat": 4,
 "nbformat_minor": 4
}
