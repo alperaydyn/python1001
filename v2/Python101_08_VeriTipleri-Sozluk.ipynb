{
 "cells": [
  {
   "cell_type": "code",
   "execution_count": null,
   "metadata": {
    "ExecuteTime": {
     "end_time": "2022-12-06T10:51:15.137019Z",
     "start_time": "2022-12-06T10:51:14.918356Z"
    }
   },
   "outputs": [],
   "source": [
    "import sys\n",
    "sys.path.append('/data/ECS/PythonTutorial/')\n",
    "import log\n",
    "import imp\n",
    "imp.reload(log)\n",
    "log.topic_id = '08_VeriTipleri-Sozluk'"
   ]
  },
  {
   "cell_type": "markdown",
   "metadata": {},
   "source": [
    "<div class=\"alert alert-box\" style=\"font-size:12pt; padding:15px; line-height:150%; background-color:#33bbcc66; \">\n",
    "    Bu dersin amacı;\n",
    "    <li>Dictionary Veri Tipi hakkında bilgi sahibi olmak</li>\n",
    "    <li>Dictionary Veri Tipine ait özellikleri öğrenmek</li>\n",
    "    <li>Dictionary Veri Tipi ile ilgili işlemleri öğrenmek</li>\n",
    "</div>"
   ]
  },
  {
   "cell_type": "markdown",
   "metadata": {
    "id": "VW5i9UXO5KcY"
   },
   "source": [
    "# Sözlükler (Dictionary)"
   ]
  },
  {
   "cell_type": "markdown",
   "metadata": {},
   "source": [
    "<div class=\"alert alert-box alert-info\" style=\"font-size:12pt; padding:15px; line-height:150%;\">\n",
    "    <li>Anahtar-Değer (Key-Value) ikilisi şeklinde veri saklamak için kullanılır.</li>\n",
    "    <li>Bir anahtar değere karşılık gelen farklı türlerdeki veri tiplerini beraber tutabilir.</li>\n",
    "    <li>Anahtar kısmı da Değer kısmı da farklı veri tiplerinden oluşabilir.</li>\n",
    "    <li>Hızlı eleman ekleme ve arama işlemleri için ideal veri tipidir.</li>\n",
    "</div>"
   ]
  },
  {
   "cell_type": "code",
   "execution_count": null,
   "metadata": {
    "ExecuteTime": {
     "end_time": "2022-12-06T11:02:26.735770Z",
     "start_time": "2022-12-06T11:02:26.732481Z"
    },
    "colab": {
     "base_uri": "https://localhost:8080/"
    },
    "executionInfo": {
     "elapsed": 287,
     "status": "ok",
     "timestamp": 1652812455077,
     "user": {
      "displayName": "Alper Aydın",
      "userId": "16424421511940582464"
     },
     "user_tz": -180
    },
    "id": "_MtCA8VaTAHK",
    "outputId": "27c7eccf-36b3-4401-ce6f-c1418a0c036f"
   },
   "outputs": [],
   "source": [
    "x = {'ad': 'Alper',\n",
    "     'soyad': 'Aydın',\n",
    "     'yaş': 43,\n",
    "     'evli': True,\n",
    "     'şehirler': {'Antalya','İstanbul','Balıkesir','Ankara','Antalya'},\n",
    "     'doğum yeri': 'Ankara',\n",
    "     123: 'yüzyirmiüç',\n",
    "     True: 'True'\n",
    "     }\n",
    "print(x)"
   ]
  },
  {
   "cell_type": "code",
   "execution_count": null,
   "metadata": {
    "ExecuteTime": {
     "end_time": "2022-12-06T10:57:37.579049Z",
     "start_time": "2022-12-06T10:57:37.576010Z"
    },
    "colab": {
     "base_uri": "https://localhost:8080/"
    },
    "executionInfo": {
     "elapsed": 320,
     "status": "ok",
     "timestamp": 1652812579520,
     "user": {
      "displayName": "Alper Aydın",
      "userId": "16424421511940582464"
     },
     "user_tz": -180
    },
    "id": "zx0jYdbPTJju",
    "outputId": "b3a08846-e9fd-41a2-a303-552dc5bf08f1"
   },
   "outputs": [],
   "source": [
    "iskolu = dict(\n",
    "    K='Kurumsal',\n",
    "    TA='Ticari', \n",
    "    SA='OBİ',\n",
    "    SB='Kİ',\n",
    "    SC='Mikro'\n",
    "    #Bireysel Bankacılık='BB'\n",
    "    )\n",
    "print(iskolu)"
   ]
  },
  {
   "cell_type": "markdown",
   "metadata": {},
   "source": [
    "<div class=\"alert alert-box alert-warning\" style=\"font-size:12pt; padding:15px; line-height:150%;\">\n",
    "    Bu yöntemde key değerlerinin değişken tanımlamada geçerli olan özellikleri karşılaması gerekmektedir:\n",
    "    <li> değişken isimleri bir harf veya alt çizgi ile başlamalıdır\n",
    "    <li> değişken isminin ilk harfi bir sayı olamaz\n",
    "    <li> değişken isimleri sadece harf ve rakamlardan oluşabilir (A-z, 0-9, ve _)\n",
    "    <li> değişken isimleri büyük/küçük harf duyarlıdır\n",
    "</div>"
   ]
  },
  {
   "cell_type": "code",
   "execution_count": null,
   "metadata": {
    "ExecuteTime": {
     "end_time": "2022-12-06T10:58:50.570890Z",
     "start_time": "2022-12-06T10:58:50.568239Z"
    }
   },
   "outputs": [],
   "source": [
    "iskolu = dict(\n",
    "    sube adı: 'Akdeni'\n",
    ")"
   ]
  },
  {
   "cell_type": "code",
   "execution_count": null,
   "metadata": {
    "ExecuteTime": {
     "end_time": "2022-12-06T10:58:58.933655Z",
     "start_time": "2022-12-06T10:58:58.930452Z"
    }
   },
   "outputs": [],
   "source": [
    "iskolu = {\n",
    "    '12' : 'Akdeniz',\n",
    "    \"sube kodu\" : 123\n",
    "}\n",
    "iskolu"
   ]
  },
  {
   "cell_type": "markdown",
   "metadata": {},
   "source": [
    "## iterable"
   ]
  },
  {
   "cell_type": "code",
   "execution_count": null,
   "metadata": {
    "ExecuteTime": {
     "end_time": "2022-12-06T11:00:25.951971Z",
     "start_time": "2022-12-06T11:00:25.948644Z"
    }
   },
   "outputs": [],
   "source": [
    "cinsiyet = [['E','Erkek'],\n",
    "            ['K','Kadın']\n",
    "           ]\n",
    "dict(cinsiyet)"
   ]
  },
  {
   "cell_type": "code",
   "execution_count": null,
   "metadata": {
    "ExecuteTime": {
     "end_time": "2022-12-06T11:00:37.475590Z",
     "start_time": "2022-12-06T11:00:37.472445Z"
    }
   },
   "outputs": [],
   "source": [
    "cinsiyet = (('E','Erkek'),('K','Kadın'))\n",
    "dict(cinsiyet)"
   ]
  },
  {
   "cell_type": "markdown",
   "metadata": {},
   "source": [
    "## dictionary key alternatifleri"
   ]
  },
  {
   "cell_type": "code",
   "execution_count": null,
   "metadata": {
    "ExecuteTime": {
     "end_time": "2022-12-06T11:04:13.173785Z",
     "start_time": "2022-12-06T11:04:13.167357Z"
    }
   },
   "outputs": [],
   "source": [
    "x = {{0,1}:'Kurumsal', {0,2}:'Ticarit'}\n",
    "x"
   ]
  },
  {
   "cell_type": "code",
   "execution_count": null,
   "metadata": {
    "ExecuteTime": {
     "end_time": "2022-12-06T11:04:48.152908Z",
     "start_time": "2022-12-06T11:04:48.149308Z"
    }
   },
   "outputs": [],
   "source": [
    "x = {(36.12,32.45):['Mağaza 1','Mağaza 23', 'Mağaza 56'], \n",
    "     (36.86,31.98):['Mağaza 1','Mağaza 23', 'Mağaza 56']}\n",
    "x"
   ]
  },
  {
   "cell_type": "markdown",
   "metadata": {},
   "source": [
    "## Özellikleri"
   ]
  },
  {
   "cell_type": "markdown",
   "metadata": {},
   "source": [
    "<div class=\"alert alert-box alert-info\" style=\"font-size:12pt; padding:15px; line-height:150%;\">\n",
    "    <li><b>Sıralıdır</b>: Elemanlarının belirli bir sırası vardır, index ile ulaşılabilir.</li>\n",
    "    <li><b>Değiştirilebilir</b>: Elemanları sabittir değerleri değiştirilebilir (v3.7'den sonra).</li>\n",
    "    <li><b>Çoklayamaz</b>: Aynı key değerine sahip birden fazla eleman olamaz.</li>\n",
    "</div>"
   ]
  },
  {
   "cell_type": "markdown",
   "metadata": {
    "id": "uz10y8d7UHhU"
   },
   "source": [
    "## Sözlük içindeki elemanlara ulaşma"
   ]
  },
  {
   "cell_type": "markdown",
   "metadata": {},
   "source": [
    "### doğrudan ulaşma"
   ]
  },
  {
   "cell_type": "code",
   "execution_count": null,
   "metadata": {
    "ExecuteTime": {
     "end_time": "2022-12-06T11:07:24.474050Z",
     "start_time": "2022-12-06T11:07:24.470120Z"
    },
    "colab": {
     "base_uri": "https://localhost:8080/",
     "height": 35
    },
    "executionInfo": {
     "elapsed": 282,
     "status": "ok",
     "timestamp": 1652812730585,
     "user": {
      "displayName": "Alper Aydın",
      "userId": "16424421511940582464"
     },
     "user_tz": -180
    },
    "id": "v03_w6UpUJ6F",
    "outputId": "69a24f04-fa42-4412-bf39-b4f43e00d6e1"
   },
   "outputs": [],
   "source": [
    "iskolu = dict(\n",
    "    K='Kurumsal',\n",
    "    TA='Ticari', \n",
    "    SA='OBİ',\n",
    "    SB='Kİ',\n",
    "    SC='Mikro'\n",
    "    )\n",
    "print(iskolu)\n",
    "\n",
    "iskolu['TA']"
   ]
  },
  {
   "cell_type": "code",
   "execution_count": null,
   "metadata": {
    "ExecuteTime": {
     "end_time": "2022-12-06T11:07:56.378472Z",
     "start_time": "2022-12-06T11:07:56.372259Z"
    },
    "colab": {
     "base_uri": "https://localhost:8080/",
     "height": 169
    },
    "executionInfo": {
     "elapsed": 286,
     "status": "error",
     "timestamp": 1652812941499,
     "user": {
      "displayName": "Alper Aydın",
      "userId": "16424421511940582464"
     },
     "user_tz": -180
    },
    "id": "nuOOzrKZU-CI",
    "outputId": "e49af50d-8eca-4a8b-b6c4-1bc88a7f6fb5"
   },
   "outputs": [],
   "source": [
    "iskolu['BA'] # sözlükte olmayan bir değer doğrudan çağırıldığında \"KeyError\" hatası verir"
   ]
  },
  {
   "cell_type": "code",
   "execution_count": null,
   "metadata": {
    "ExecuteTime": {
     "end_time": "2022-12-06T11:09:29.192335Z",
     "start_time": "2022-12-06T11:09:29.186257Z"
    }
   },
   "outputs": [],
   "source": [
    "iskolu[0]"
   ]
  },
  {
   "cell_type": "code",
   "execution_count": null,
   "metadata": {
    "ExecuteTime": {
     "end_time": "2022-12-06T11:08:45.988533Z",
     "start_time": "2022-12-06T11:08:45.985962Z"
    },
    "colab": {
     "base_uri": "https://localhost:8080/"
    },
    "executionInfo": {
     "elapsed": 263,
     "status": "ok",
     "timestamp": 1652812800549,
     "user": {
      "displayName": "Alper Aydın",
      "userId": "16424421511940582464"
     },
     "user_tz": -180
    },
    "id": "pW6QL3D-UM0X",
    "outputId": "1535200d-096e-492b-aeb9-6cb3ec3f6556"
   },
   "outputs": [],
   "source": [
    "print(iskolu.items())"
   ]
  },
  {
   "cell_type": "code",
   "execution_count": null,
   "metadata": {
    "ExecuteTime": {
     "end_time": "2022-12-06T11:10:40.791729Z",
     "start_time": "2022-12-06T11:10:40.788655Z"
    }
   },
   "outputs": [],
   "source": [
    "list(iskolu.items())[1]"
   ]
  },
  {
   "cell_type": "markdown",
   "metadata": {},
   "source": [
    "### get() komutu ile ulaşma"
   ]
  },
  {
   "cell_type": "code",
   "execution_count": null,
   "metadata": {
    "ExecuteTime": {
     "end_time": "2022-12-06T11:11:39.350992Z",
     "start_time": "2022-12-06T11:11:39.348380Z"
    },
    "colab": {
     "base_uri": "https://localhost:8080/"
    },
    "executionInfo": {
     "elapsed": 282,
     "status": "ok",
     "timestamp": 1652812856165,
     "user": {
      "displayName": "Alper Aydın",
      "userId": "16424421511940582464"
     },
     "user_tz": -180
    },
    "id": "NSOtTbzcUd34",
    "outputId": "761e46e8-19f6-4ee7-ebd2-08a763ef2486"
   },
   "outputs": [],
   "source": [
    "print(iskolu.get('TA')) # sözlükte var olan bir değer get ile çağırıldığında 'value' değerini getirir"
   ]
  },
  {
   "cell_type": "code",
   "execution_count": null,
   "metadata": {
    "ExecuteTime": {
     "end_time": "2022-12-06T11:11:56.724413Z",
     "start_time": "2022-12-06T11:11:56.721810Z"
    },
    "colab": {
     "base_uri": "https://localhost:8080/"
    },
    "executionInfo": {
     "elapsed": 282,
     "status": "ok",
     "timestamp": 1652812915665,
     "user": {
      "displayName": "Alper Aydın",
      "userId": "16424421511940582464"
     },
     "user_tz": -180
    },
    "id": "GSJUdPMBUrdt",
    "outputId": "3a208066-bafc-448e-b167-3cfc86ea7fe7"
   },
   "outputs": [],
   "source": [
    "print(iskolu.get('BA')) # sözlükte var olmayan bir değer get ile çağırıldığında None sonucunu getirir"
   ]
  },
  {
   "cell_type": "code",
   "execution_count": null,
   "metadata": {
    "ExecuteTime": {
     "end_time": "2022-12-06T11:13:22.525315Z",
     "start_time": "2022-12-06T11:13:22.522513Z"
    },
    "colab": {
     "base_uri": "https://localhost:8080/"
    },
    "executionInfo": {
     "elapsed": 289,
     "status": "ok",
     "timestamp": 1652813070634,
     "user": {
      "displayName": "Alper Aydın",
      "userId": "16424421511940582464"
     },
     "user_tz": -180
    },
    "id": "XMJlOQRFU5_-",
    "outputId": "1c014e48-b29b-48e1-a2cd-675b6bf713e4"
   },
   "outputs": [],
   "source": [
    "print(iskolu.get('BB', '-Bulunamadı-')) # sözlükte var olmayan bir değer get ile çağırıldığında get içindeki varsayılan değeri getirir"
   ]
  },
  {
   "cell_type": "code",
   "execution_count": null,
   "metadata": {
    "ExecuteTime": {
     "end_time": "2022-12-06T11:13:35.701261Z",
     "start_time": "2022-12-06T11:13:35.698290Z"
    }
   },
   "outputs": [],
   "source": [
    "iskolu.get('KA','N/A')  "
   ]
  },
  {
   "cell_type": "code",
   "execution_count": null,
   "metadata": {
    "ExecuteTime": {
     "end_time": "2022-12-06T11:14:38.546362Z",
     "start_time": "2022-12-06T11:14:38.543291Z"
    }
   },
   "outputs": [],
   "source": [
    "iskolu.get('KA', iskolu.get('TE','bu da yok')) # sql: nvl(COLUMN1, nvl(COLUMN2, 0))"
   ]
  },
  {
   "cell_type": "markdown",
   "metadata": {
    "id": "LN2rUhrTVlyU"
   },
   "source": [
    "## Sözlük key/value değerleri"
   ]
  },
  {
   "cell_type": "code",
   "execution_count": null,
   "metadata": {
    "ExecuteTime": {
     "end_time": "2022-12-06T11:15:26.335483Z",
     "start_time": "2022-12-06T11:15:26.332796Z"
    },
    "colab": {
     "base_uri": "https://localhost:8080/"
    },
    "executionInfo": {
     "elapsed": 304,
     "status": "ok",
     "timestamp": 1652813119983,
     "user": {
      "displayName": "Alper Aydın",
      "userId": "16424421511940582464"
     },
     "user_tz": -180
    },
    "id": "4VTsYEmbVfkN",
    "outputId": "7c23dc3d-0189-492a-fbaa-ebd86cd344be"
   },
   "outputs": [],
   "source": [
    "print(iskolu.keys())"
   ]
  },
  {
   "cell_type": "code",
   "execution_count": null,
   "metadata": {
    "ExecuteTime": {
     "end_time": "2022-12-06T11:15:31.561018Z",
     "start_time": "2022-12-06T11:15:31.558399Z"
    },
    "colab": {
     "base_uri": "https://localhost:8080/"
    },
    "executionInfo": {
     "elapsed": 277,
     "status": "ok",
     "timestamp": 1652813127211,
     "user": {
      "displayName": "Alper Aydın",
      "userId": "16424421511940582464"
     },
     "user_tz": -180
    },
    "id": "i7MM4fzuVr37",
    "outputId": "94a4bae4-b2c2-4b74-e602-9be47915e628"
   },
   "outputs": [],
   "source": [
    "print(iskolu.values())"
   ]
  },
  {
   "cell_type": "markdown",
   "metadata": {
    "id": "1nd6l-2tWM1G"
   },
   "source": [
    "## Sözlükteki belirli key değeri var mı?"
   ]
  },
  {
   "cell_type": "code",
   "execution_count": null,
   "metadata": {
    "ExecuteTime": {
     "end_time": "2022-12-06T11:16:47.099922Z",
     "start_time": "2022-12-06T11:16:47.096360Z"
    },
    "colab": {
     "base_uri": "https://localhost:8080/"
    },
    "executionInfo": {
     "elapsed": 306,
     "status": "ok",
     "timestamp": 1652813431587,
     "user": {
      "displayName": "Alper Aydın",
      "userId": "16424421511940582464"
     },
     "user_tz": -180
    },
    "id": "uSHE3v4eVtnT",
    "outputId": "ade41341-2bfe-42f6-9557-2ccdb7e68718"
   },
   "outputs": [],
   "source": [
    "print('BA' in iskolu) # belirli bir key değerinin olup olmadığını kontrol etmek\n",
    "print('ta' in iskolu) # büyük/küçük harf duyarlı\n",
    "print('TA' in iskolu)\n",
    "print('TA' in iskolu.keys())\n",
    "print('Kurumsal' in iskolu) # default olarak key'lerin içerisinde arar\n",
    "print('Kurumsal' in iskolu.values())"
   ]
  },
  {
   "cell_type": "markdown",
   "metadata": {
    "id": "26AFtNKQVz-y"
   },
   "source": [
    "## Sözlük değerlerini değiştirme"
   ]
  },
  {
   "cell_type": "code",
   "execution_count": null,
   "metadata": {
    "ExecuteTime": {
     "end_time": "2022-12-06T11:30:40.440792Z",
     "start_time": "2022-12-06T11:30:40.437912Z"
    }
   },
   "outputs": [],
   "source": [
    "iskolu = dict(\n",
    "    K='Kurumsal',\n",
    "    TA='Ticari', \n",
    "    SA='OBİ',\n",
    "    SB='Kİ',\n",
    "    SC='Mikro'\n",
    "    )\n",
    "print(iskolu)\n"
   ]
  },
  {
   "cell_type": "code",
   "execution_count": null,
   "metadata": {
    "ExecuteTime": {
     "end_time": "2022-12-06T11:31:23.926941Z",
     "start_time": "2022-12-06T11:31:23.924202Z"
    },
    "colab": {
     "base_uri": "https://localhost:8080/"
    },
    "executionInfo": {
     "elapsed": 285,
     "status": "ok",
     "timestamp": 1652813190851,
     "user": {
      "displayName": "Alper Aydın",
      "userId": "16424421511940582464"
     },
     "user_tz": -180
    },
    "id": "Q1lohAu8V4eq",
    "outputId": "5b62a15b-f801-4eff-b154-e4a7ccebf0e2"
   },
   "outputs": [],
   "source": [
    "print(iskolu['TA'])\n",
    "iskolu['TA'] = 'Ticari İşkolu'\n",
    "print(iskolu)"
   ]
  },
  {
   "cell_type": "code",
   "execution_count": null,
   "metadata": {
    "ExecuteTime": {
     "end_time": "2022-12-06T11:32:54.264472Z",
     "start_time": "2022-12-06T11:32:54.261614Z"
    },
    "colab": {
     "base_uri": "https://localhost:8080/"
    },
    "executionInfo": {
     "elapsed": 257,
     "status": "ok",
     "timestamp": 1652813700055,
     "user": {
      "displayName": "Alper Aydın",
      "userId": "16424421511940582464"
     },
     "user_tz": -180
    },
    "id": "MQoSw-JSXvI5",
    "outputId": "7d2c7db7-44ec-45dd-e6cc-22ce812dd1cb"
   },
   "outputs": [],
   "source": [
    "iskolu.update({'K':'Kurumsal İşkolu'})\n",
    "iskolu.update({'BA':'Bireysel'})\n",
    "print(iskolu)"
   ]
  },
  {
   "cell_type": "code",
   "execution_count": null,
   "metadata": {
    "ExecuteTime": {
     "end_time": "2022-12-06T11:33:27.186100Z",
     "start_time": "2022-12-06T11:33:27.183125Z"
    }
   },
   "outputs": [],
   "source": [
    "iskolu = dict(\n",
    "    K='Kurumsal',\n",
    "    TA='Ticari', \n",
    "    SA='OBİ',\n",
    "    SB='Kİ',\n",
    "    SC='Mikro'\n",
    "    )\n",
    "print(iskolu)"
   ]
  },
  {
   "cell_type": "code",
   "execution_count": null,
   "metadata": {
    "ExecuteTime": {
     "end_time": "2022-12-06T11:33:28.884463Z",
     "start_time": "2022-12-06T11:33:28.881805Z"
    }
   },
   "outputs": [],
   "source": [
    "iskolu.update({'K':'Kurumsal İşkolu', 'BA':'Bireysel'})\n",
    "print(iskolu)"
   ]
  },
  {
   "cell_type": "markdown",
   "metadata": {
    "id": "wNXo9CrJX--x"
   },
   "source": [
    "## Yeni eleman ekleme"
   ]
  },
  {
   "cell_type": "code",
   "execution_count": null,
   "metadata": {
    "ExecuteTime": {
     "end_time": "2022-12-06T11:34:30.428146Z",
     "start_time": "2022-12-06T11:34:30.425599Z"
    },
    "colab": {
     "base_uri": "https://localhost:8080/"
    },
    "executionInfo": {
     "elapsed": 326,
     "status": "ok",
     "timestamp": 1652813757753,
     "user": {
      "displayName": "Alper Aydın",
      "userId": "16424421511940582464"
     },
     "user_tz": -180
    },
    "id": "1-VwTBcFYBkj",
    "outputId": "8a0cc65b-1dcd-4265-8c2e-be7b359d1356"
   },
   "outputs": [],
   "source": [
    "iskolu['BB'] = 'Bireysel Kitle'\n",
    "print(iskolu)"
   ]
  },
  {
   "cell_type": "code",
   "execution_count": null,
   "metadata": {
    "ExecuteTime": {
     "end_time": "2022-12-06T11:34:31.094634Z",
     "start_time": "2022-12-06T11:34:31.092113Z"
    },
    "colab": {
     "base_uri": "https://localhost:8080/"
    },
    "executionInfo": {
     "elapsed": 293,
     "status": "ok",
     "timestamp": 1652813711888,
     "user": {
      "displayName": "Alper Aydın",
      "userId": "16424421511940582464"
     },
     "user_tz": -180
    },
    "id": "Y_ixeL64X5gU",
    "outputId": "0c5d63d3-6141-4375-e688-263c4df723a3"
   },
   "outputs": [],
   "source": [
    "iskolu.update({'BA':'Bireysel'})\n",
    "print(iskolu)"
   ]
  },
  {
   "cell_type": "markdown",
   "metadata": {},
   "source": [
    "<div class=\"alert alert-box alert-warning\" style=\"font-size:12pt; padding:15px; line-height:150%;\">\n",
    "    Bu yöntemde update içerisinde yer alan key mevcut sözlükte bulunuyorsa value değeri güncellenir, yoksa da yeni bir eleman olarak sözlüğe eklenir.\n",
    "</div>"
   ]
  },
  {
   "cell_type": "code",
   "execution_count": null,
   "metadata": {
    "ExecuteTime": {
     "end_time": "2022-12-06T11:34:57.493566Z",
     "start_time": "2022-12-06T11:34:57.490983Z"
    }
   },
   "outputs": [],
   "source": [
    "iskolu.update({'BA':'Bireysel Segment'})\n",
    "print(iskolu)"
   ]
  },
  {
   "cell_type": "code",
   "execution_count": null,
   "metadata": {
    "ExecuteTime": {
     "end_time": "2022-12-06T11:35:09.533110Z",
     "start_time": "2022-12-06T11:35:09.530569Z"
    }
   },
   "outputs": [],
   "source": [
    "iskolu.update({'BA':'Bireysel Sgm'})\n",
    "print(iskolu)"
   ]
  },
  {
   "cell_type": "markdown",
   "metadata": {
    "id": "KVnWDKtkYdC9"
   },
   "source": [
    "## Eleman Silme"
   ]
  },
  {
   "cell_type": "code",
   "execution_count": null,
   "metadata": {
    "ExecuteTime": {
     "end_time": "2022-12-06T11:42:52.517230Z",
     "start_time": "2022-12-06T11:42:52.514844Z"
    }
   },
   "outputs": [],
   "source": [
    "iskolu = {\n",
    "    'K': 'Kurumsal',\n",
    "    'TA': 'Ticari', \n",
    "    'SA': 'OBİ',\n",
    "    'SB': 'Kİ',\n",
    "    'SC': 'Mikro'\n",
    "    }"
   ]
  },
  {
   "cell_type": "code",
   "execution_count": null,
   "metadata": {
    "ExecuteTime": {
     "end_time": "2022-12-06T11:38:10.133689Z",
     "start_time": "2022-12-06T11:38:10.131284Z"
    }
   },
   "outputs": [],
   "source": [
    "y = iskolu.pop('TA') # TA'yı bulup value değerini y'ye atar\n",
    "print(y)\n",
    "print(iskolu)"
   ]
  },
  {
   "cell_type": "code",
   "execution_count": null,
   "metadata": {
    "ExecuteTime": {
     "end_time": "2022-12-06T11:39:19.647248Z",
     "start_time": "2022-12-06T11:39:19.644414Z"
    },
    "colab": {
     "base_uri": "https://localhost:8080/"
    },
    "executionInfo": {
     "elapsed": 3,
     "status": "ok",
     "timestamp": 1652813881992,
     "user": {
      "displayName": "Alper Aydın",
      "userId": "16424421511940582464"
     },
     "user_tz": -180
    },
    "id": "IYDjxh_cYfFN",
    "outputId": "2963ae94-d16c-40da-f15d-905646b29eec"
   },
   "outputs": [],
   "source": [
    "y = iskolu.pop('TA', 'bulunamadı' ) # TA'yı tekrar çıkartmak istediğimizde bulamayacağız için 'bulunamadı' ifadersini döndürür\n",
    "print(y)\n",
    "print(iskolu)"
   ]
  },
  {
   "cell_type": "code",
   "execution_count": null,
   "metadata": {
    "ExecuteTime": {
     "end_time": "2022-12-06T11:40:24.314789Z",
     "start_time": "2022-12-06T11:40:24.312096Z"
    },
    "colab": {
     "base_uri": "https://localhost:8080/"
    },
    "executionInfo": {
     "elapsed": 663,
     "status": "ok",
     "timestamp": 1652813899667,
     "user": {
      "displayName": "Alper Aydın",
      "userId": "16424421511940582464"
     },
     "user_tz": -180
    },
    "id": "fKY9skL3YnSc",
    "outputId": "231240cb-7dff-415c-bbc6-bdad040763da"
   },
   "outputs": [],
   "source": [
    "if 'K' in iskolu :\n",
    "    del iskolu['K'] # sadece dictionary'deki key'i siler, çok yaygın kullanılmaz\n",
    "print(iskolu)"
   ]
  },
  {
   "cell_type": "code",
   "execution_count": null,
   "metadata": {
    "ExecuteTime": {
     "end_time": "2022-12-06T11:42:53.897000Z",
     "start_time": "2022-12-06T11:42:53.894492Z"
    },
    "colab": {
     "base_uri": "https://localhost:8080/"
    },
    "executionInfo": {
     "elapsed": 5,
     "status": "ok",
     "timestamp": 1652813928654,
     "user": {
      "displayName": "Alper Aydın",
      "userId": "16424421511940582464"
     },
     "user_tz": -180
    },
    "id": "cuv5qPGOYtTB",
    "outputId": "e26b0f50-a8ad-49c1-8cad-f529a7fe2f12"
   },
   "outputs": [],
   "source": [
    "iskolu.clear()\n",
    "print(iskolu)\n",
    "print(id(iskolu))"
   ]
  },
  {
   "cell_type": "code",
   "execution_count": null,
   "metadata": {
    "ExecuteTime": {
     "end_time": "2022-12-06T11:43:22.870127Z",
     "start_time": "2022-12-06T11:43:22.863909Z"
    }
   },
   "outputs": [],
   "source": [
    "del iskolu # dictionary'nin (ya da herhangi bir değişkenin memory'den silinmesini sağlar.)\n",
    "print(id(iskolu))"
   ]
  },
  {
   "cell_type": "markdown",
   "metadata": {
    "id": "BB5E7VJ0Y0aM"
   },
   "source": [
    "## Sözlük kopyalama"
   ]
  },
  {
   "cell_type": "code",
   "execution_count": null,
   "metadata": {
    "ExecuteTime": {
     "end_time": "2022-12-06T11:45:04.036670Z",
     "start_time": "2022-12-06T11:45:04.033760Z"
    },
    "colab": {
     "base_uri": "https://localhost:8080/"
    },
    "executionInfo": {
     "elapsed": 394,
     "status": "ok",
     "timestamp": 1652813974637,
     "user": {
      "displayName": "Alper Aydın",
      "userId": "16424421511940582464"
     },
     "user_tz": -180
    },
    "id": "xer4lDFxY2Es",
    "outputId": "e8faf840-64fe-4729-9028-126b14328de6"
   },
   "outputs": [],
   "source": [
    "iskolu = {\n",
    "    'K': 'Kurumsal',\n",
    "    'TA': 'Ticari', \n",
    "    'SA': 'OBİ',\n",
    "    'SB': 'Kİ',\n",
    "    'SC': 'Mikro'\n",
    "    }\n",
    "print(iskolu)"
   ]
  },
  {
   "cell_type": "code",
   "execution_count": null,
   "metadata": {
    "ExecuteTime": {
     "end_time": "2022-12-06T11:45:04.595172Z",
     "start_time": "2022-12-06T11:45:04.592890Z"
    },
    "colab": {
     "base_uri": "https://localhost:8080/"
    },
    "executionInfo": {
     "elapsed": 310,
     "status": "ok",
     "timestamp": 1652813991213,
     "user": {
      "displayName": "Alper Aydın",
      "userId": "16424421511940582464"
     },
     "user_tz": -180
    },
    "id": "1wsAR46RY8hC",
    "outputId": "5f24cfea-964b-4471-cd53-0b63792a15c5"
   },
   "outputs": [],
   "source": [
    "yedek = iskolu\n",
    "print(yedek)"
   ]
  },
  {
   "cell_type": "code",
   "execution_count": null,
   "metadata": {
    "ExecuteTime": {
     "end_time": "2022-12-06T11:45:05.985165Z",
     "start_time": "2022-12-06T11:45:05.982374Z"
    },
    "colab": {
     "base_uri": "https://localhost:8080/"
    },
    "executionInfo": {
     "elapsed": 289,
     "status": "ok",
     "timestamp": 1652814013208,
     "user": {
      "displayName": "Alper Aydın",
      "userId": "16424421511940582464"
     },
     "user_tz": -180
    },
    "id": "uKg79ZWKZAiz",
    "outputId": "c6b75afc-0036-4547-ce9d-1986ddf95d54"
   },
   "outputs": [],
   "source": [
    "yedek['TA'] = 'Ticari İşkolu'\n",
    "print(yedek, id(yedek))\n",
    "print(iskolu, id(iskolu))"
   ]
  },
  {
   "cell_type": "markdown",
   "metadata": {},
   "source": [
    "<div class=\"alert alert-box alert-warning\" style=\"font-size:12pt; padding:15px; line-height:150%;\">\n",
    "    Yukarıdaki işlemde referans olarak atama işlemi yapıldığı için x ve y memory'de aynı veri alanını temsil etmektedirler. Bu sebeple bir değişkende yapılan değişiklik diğer değişkeni de etkilemektedir.\n",
    "</div>"
   ]
  },
  {
   "cell_type": "markdown",
   "metadata": {},
   "source": [
    "<div class=\"alert alert-box alert-info\" style=\"font-size:12pt; padding:15px; line-height:150%;\">\n",
    "    Bu durumdan korunmak için <pre style='display:inline'>copy()</pre> komutu ile kopyalama yapabiliriz\n",
    "</div>"
   ]
  },
  {
   "cell_type": "code",
   "execution_count": null,
   "metadata": {
    "ExecuteTime": {
     "end_time": "2022-12-06T11:45:35.983915Z",
     "start_time": "2022-12-06T11:45:35.981086Z"
    },
    "colab": {
     "base_uri": "https://localhost:8080/"
    },
    "executionInfo": {
     "elapsed": 3,
     "status": "ok",
     "timestamp": 1652814071580,
     "user": {
      "displayName": "Alper Aydın",
      "userId": "16424421511940582464"
     },
     "user_tz": -180
    },
    "id": "dDeIGVPEZF8d",
    "outputId": "3d44ef0f-b702-499f-d665-a7279ed71f8f"
   },
   "outputs": [],
   "source": [
    "yedek = iskolu.copy()\n",
    "yedek['SA'] = 'Orta Büyük İşletme'\n",
    "print(yedek)\n",
    "print(iskolu)"
   ]
  },
  {
   "cell_type": "markdown",
   "metadata": {
    "id": "QqxkDAOCZbsk"
   },
   "source": [
    "## İç içe sözlük"
   ]
  },
  {
   "cell_type": "code",
   "execution_count": null,
   "metadata": {
    "ExecuteTime": {
     "end_time": "2022-12-06T11:48:24.925599Z",
     "start_time": "2022-12-06T11:48:24.922416Z"
    },
    "colab": {
     "base_uri": "https://localhost:8080/"
    },
    "executionInfo": {
     "elapsed": 280,
     "status": "ok",
     "timestamp": 1652814832122,
     "user": {
      "displayName": "Alper Aydın",
      "userId": "16424421511940582464"
     },
     "user_tz": -180
    },
    "id": "M5RrmY1WZdWs",
    "outputId": "a2bebfb4-f835-4b14-c61c-ab10f5ccf623"
   },
   "outputs": [],
   "source": [
    "subeler = {\n",
    "    '1': {'sube_adi': 'Ataşehir','il':'İstanbul'},\n",
    "    '2': {'sube_adi': 'Serik','il': 'Antalya'},\n",
    "    '3': {'sube_adi': 'Konak','il': 'İzmir'}\n",
    "}\n",
    "print(subeler)"
   ]
  },
  {
   "cell_type": "code",
   "execution_count": null,
   "metadata": {
    "ExecuteTime": {
     "end_time": "2022-12-06T11:48:25.802035Z",
     "start_time": "2022-12-06T11:48:25.799114Z"
    },
    "colab": {
     "base_uri": "https://localhost:8080/",
     "height": 71
    },
    "executionInfo": {
     "elapsed": 466,
     "status": "ok",
     "timestamp": 1652814834255,
     "user": {
      "displayName": "Alper Aydın",
      "userId": "16424421511940582464"
     },
     "user_tz": -180
    },
    "id": "ttnirb-QcN18",
    "outputId": "4e61059c-d787-4631-f74a-e7cd2e7728b0"
   },
   "outputs": [],
   "source": [
    "display(subeler)"
   ]
  },
  {
   "cell_type": "markdown",
   "metadata": {},
   "source": [
    "## Dictionary içerisindeki elemanları güncelleme"
   ]
  },
  {
   "cell_type": "code",
   "execution_count": null,
   "metadata": {
    "ExecuteTime": {
     "end_time": "2022-12-06T11:57:39.977765Z",
     "start_time": "2022-12-06T11:57:39.974207Z"
    }
   },
   "outputs": [],
   "source": [
    "ekleme = {'4': ['Maltepe'], '5':{'sube_adi':'Pendik', 'il':'İstanbul'}}\n",
    "subeler.update(ekleme)\n",
    "display(subeler)"
   ]
  },
  {
   "cell_type": "code",
   "execution_count": null,
   "metadata": {
    "ExecuteTime": {
     "end_time": "2022-12-06T11:56:47.375227Z",
     "start_time": "2022-12-06T11:56:47.372900Z"
    }
   },
   "outputs": [],
   "source": [
    "subeler['5'].update({'ilçe':'Pendik'})"
   ]
  },
  {
   "cell_type": "code",
   "execution_count": null,
   "metadata": {
    "ExecuteTime": {
     "end_time": "2022-12-06T11:56:57.749051Z",
     "start_time": "2022-12-06T11:56:57.745999Z"
    }
   },
   "outputs": [],
   "source": [
    "subeler"
   ]
  },
  {
   "cell_type": "code",
   "execution_count": null,
   "metadata": {
    "ExecuteTime": {
     "end_time": "2022-12-06T11:57:56.435262Z",
     "start_time": "2022-12-06T11:57:56.433018Z"
    }
   },
   "outputs": [],
   "source": [
    "subeler['4'].append('Pendik')"
   ]
  },
  {
   "cell_type": "code",
   "execution_count": null,
   "metadata": {
    "ExecuteTime": {
     "end_time": "2022-12-06T11:57:59.122419Z",
     "start_time": "2022-12-06T11:57:59.119327Z"
    }
   },
   "outputs": [],
   "source": [
    "subeler"
   ]
  },
  {
   "cell_type": "markdown",
   "metadata": {},
   "source": [
    "## Farklı veri tiplerindeki key/value değerleri"
   ]
  },
  {
   "cell_type": "code",
   "execution_count": null,
   "metadata": {
    "ExecuteTime": {
     "end_time": "2022-12-06T11:59:15.609926Z",
     "start_time": "2022-12-06T11:59:15.606164Z"
    }
   },
   "outputs": [],
   "source": [
    "d1 = {\n",
    "      'a': ('alfabenin', 'ilk', 'harfi'),\n",
    "        1: [2,3,4],\n",
    "     3.14: ['pi','sayısı'],\n",
    "    False: {0:'Sıfır'}\n",
    "}\n",
    "d1"
   ]
  },
  {
   "cell_type": "code",
   "execution_count": null,
   "metadata": {
    "ExecuteTime": {
     "end_time": "2022-12-06T11:59:16.498335Z",
     "start_time": "2022-12-06T11:59:16.495666Z"
    }
   },
   "outputs": [],
   "source": [
    "d1[3.14]"
   ]
  },
  {
   "cell_type": "code",
   "execution_count": null,
   "metadata": {
    "ExecuteTime": {
     "end_time": "2022-12-06T11:59:17.278925Z",
     "start_time": "2022-12-06T11:59:17.276448Z"
    }
   },
   "outputs": [],
   "source": [
    "d1[False]"
   ]
  },
  {
   "cell_type": "markdown",
   "metadata": {},
   "source": [
    "## Quiz"
   ]
  },
  {
   "cell_type": "code",
   "execution_count": null,
   "metadata": {
    "ExecuteTime": {
     "end_time": "2022-07-20T12:26:46.859799Z",
     "start_time": "2022-07-20T12:24:33.917910Z"
    }
   },
   "outputs": [],
   "source": [
    "import imp\n",
    "imp.reload(log)\n",
    "log.topic_id = '08_VeriTipleri-Sozluk'\n",
    "log.Quiz()"
   ]
  },
  {
   "cell_type": "code",
   "execution_count": null,
   "metadata": {},
   "outputs": [],
   "source": []
  }
 ],
 "metadata": {
  "kernelspec": {
   "display_name": "Python 3",
   "language": "python",
   "name": "python3"
  },
  "language_info": {
   "codemirror_mode": {
    "name": "ipython",
    "version": 3
   },
   "file_extension": ".py",
   "mimetype": "text/x-python",
   "name": "python",
   "nbconvert_exporter": "python",
   "pygments_lexer": "ipython3",
   "version": "3.7.6"
  },
  "toc": {
   "base_numbering": 1,
   "nav_menu": {},
   "number_sections": true,
   "sideBar": true,
   "skip_h1_title": false,
   "title_cell": "Table of Contents",
   "title_sidebar": "Contents",
   "toc_cell": false,
   "toc_position": {},
   "toc_section_display": true,
   "toc_window_display": true
  },
  "varInspector": {
   "cols": {
    "lenName": 16,
    "lenType": 16,
    "lenVar": 40
   },
   "kernels_config": {
    "python": {
     "delete_cmd_postfix": "",
     "delete_cmd_prefix": "del ",
     "library": "var_list.py",
     "varRefreshCmd": "print(var_dic_list())"
    },
    "r": {
     "delete_cmd_postfix": ") ",
     "delete_cmd_prefix": "rm(",
     "library": "var_list.r",
     "varRefreshCmd": "cat(var_dic_list()) "
    }
   },
   "types_to_exclude": [
    "module",
    "function",
    "builtin_function_or_method",
    "instance",
    "_Feature"
   ],
   "window_display": true
  }
 },
 "nbformat": 4,
 "nbformat_minor": 4
}
