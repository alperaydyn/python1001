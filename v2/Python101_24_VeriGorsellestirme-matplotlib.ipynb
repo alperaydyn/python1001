{
 "cells": [
  {
   "cell_type": "code",
   "execution_count": null,
   "metadata": {
    "ExecuteTime": {
     "end_time": "2022-08-03T11:18:33.803677Z",
     "start_time": "2022-08-03T11:18:33.526024Z"
    }
   },
   "outputs": [],
   "source": [
    "import sys\n",
    "sys.path.append('/data/ECS/PythonTutorial/')\n",
    "import log\n",
    "log.topic_id = '24_VeriGorsellestirme-matplotlib'"
   ]
  },
  {
   "cell_type": "markdown",
   "metadata": {},
   "source": [
    "## Veri Görselleştirme"
   ]
  },
  {
   "cell_type": "markdown",
   "metadata": {},
   "source": [
    "### matplotlib"
   ]
  },
  {
   "cell_type": "code",
   "execution_count": null,
   "metadata": {
    "ExecuteTime": {
     "end_time": "2022-12-19T08:54:51.625050Z",
     "start_time": "2022-12-19T08:54:50.911482Z"
    }
   },
   "outputs": [],
   "source": [
    "import matplotlib.pyplot as plt\n",
    "import matplotlib\n",
    "print(matplotlib.__version__)"
   ]
  },
  {
   "cell_type": "code",
   "execution_count": null,
   "metadata": {
    "ExecuteTime": {
     "end_time": "2022-12-19T08:55:59.496784Z",
     "start_time": "2022-12-19T08:55:41.470053Z"
    },
    "code_folding": [
     5
    ]
   },
   "outputs": [],
   "source": [
    "import os\n",
    "import numpy as np\n",
    "import pandas as pd\n",
    "import cx_Oracle\n",
    "\n",
    "def connect_db(user_name=None, password=None):\n",
    "    try:\n",
    "        with open('/data/home/alperayd/oracle.txt','r') as f:\n",
    "            r = f.read()\n",
    "            user_name = r.split(';')[0]\n",
    "            password = r.split(';')[1]\n",
    "        \n",
    "        os.environ['ORACLE_HOME'] = '/data/app/oracle/product/12.2.0/client_1'\n",
    "        host = \"pgarsnb1rw.fw.garanti.com.tr:4520/pgarsnb1b\"\n",
    "        conn = cx_Oracle.connect(user_name, password, host, encoding='UTF-8')\n",
    "        return conn\n",
    "    except Exception as ex:\n",
    "        print(f\"bağlantı sağlanamadı, \\nHata: {ex}\")\n",
    "        return None\n",
    "    \n",
    "    \n",
    "sql = \"\"\"\n",
    "    select BOLGE_KODU, BOLGE_ADI, SUBE_KODU, SUBE_ADI, count(distinct PORTFOLIO_ID) as PORTFOY_ADET, count(distinct MIY_SICIL) as MIY_ADET, count(*) as MUSTERI_ADET\n",
    "    from KLV_MUSTERI_GNL2\n",
    "    where BOLGE_KODU is not null\n",
    "        and BOLGE_KODU!=1974\n",
    "    group by BOLGE_KODU, BOLGE_ADI, SUBE_KODU, SUBE_ADI\n",
    "    having count(distinct MIY_SICIL)>0\n",
    "\"\"\"\n",
    "sql = \"\"\"\n",
    "    select \n",
    "        b.COMMERCIAL_MKT_REG_ORG_NUM as BOLGE_KODU, b.COMMERCIAL_MKT_REG_ORG_NAME as BOLGE_ADI, \n",
    "        b.BRANCH_NUM as SUBE_KODU, b.BRANCH_NAME as SUBE_ADI, \n",
    "        count(distinct c.ORGANIZATION_ID) as PORTFOY_ADET,\n",
    "        count(distinct d.USER_CODE) as MIY_ADET,\n",
    "        count(*) as MUSTERI_ADET\n",
    "    from pgaredm.v_cnf_customer_hst a\n",
    "    left join PGAREDM.V_CNF_BRANCH_HST b \n",
    "        on  a.MAIN_BRANCH_NUM=b.BRANCH_NUM \n",
    "        and b.RECORD_DATE=to_date('30/09/2022','DD/MM/YYYY')\n",
    "    left join PGAREDW.V_PRT_CUSTOMER_ORG_REL c \n",
    "        on  a.IP_ID=c.IP_ID \n",
    "        and c.END_DATE=to_date('01/01/9999','DD/MM/YYYY') \n",
    "        and ACTIVE_FLG=1 \n",
    "        and RELATION_TP_ID=5\n",
    "    left join PGAREDM.V_CNF_PORTFOLIO_HST d \n",
    "        on  substr(c.ORGANIZATION_ID,6)=d.PORTFOLIO_CODE\n",
    "        and d.RECORD_DATE=to_date('30/09/2022','DD/MM/YYYY')\n",
    "        and d.PORTFOLIO_ACTIVE_FLG=1\n",
    "    where \n",
    "        a.record_date=to_date('30/09/2022','DD/MM/YYYY')\n",
    "        and a.CUSTOMER_STATUS_CODE='A'\n",
    "        and b.BRANCH_NUM is not null\n",
    "        and b.COMMERCIAL_MKT_REG_ORG_NUM is not null\n",
    "    group by\n",
    "        b.COMMERCIAL_MKT_REG_ORG_NUM, b.COMMERCIAL_MKT_REG_ORG_NAME, \n",
    "        b.BRANCH_NUM, b.BRANCH_NAME\n",
    "\n",
    "\"\"\"\n",
    "conn = connect_db()\n",
    "df = pd.read_sql(sql, conn)\n",
    "df.head()"
   ]
  },
  {
   "cell_type": "code",
   "execution_count": null,
   "metadata": {
    "ExecuteTime": {
     "end_time": "2022-12-19T08:56:40.693573Z",
     "start_time": "2022-12-19T08:56:40.682491Z"
    }
   },
   "outputs": [],
   "source": [
    "display(df.sort_values('MUSTERI_ADET'))"
   ]
  },
  {
   "cell_type": "code",
   "execution_count": null,
   "metadata": {
    "ExecuteTime": {
     "end_time": "2022-12-19T08:57:27.200531Z",
     "start_time": "2022-12-19T08:57:26.862629Z"
    }
   },
   "outputs": [],
   "source": [
    "df.MUSTERI_ADET.hist(bins=50)\n",
    "plt.show()"
   ]
  },
  {
   "cell_type": "code",
   "execution_count": null,
   "metadata": {
    "ExecuteTime": {
     "end_time": "2022-12-19T08:58:18.351599Z",
     "start_time": "2022-12-19T08:58:18.126029Z"
    }
   },
   "outputs": [],
   "source": [
    "df.MUSTERI_ADET[:30].plot(kind='bar', figsize=(10,4))\n",
    "plt.show()"
   ]
  },
  {
   "cell_type": "markdown",
   "metadata": {},
   "source": [
    "#### bar chart"
   ]
  },
  {
   "cell_type": "code",
   "execution_count": null,
   "metadata": {
    "ExecuteTime": {
     "end_time": "2022-10-01T21:55:20.232401Z",
     "start_time": "2022-10-01T21:55:20.227500Z"
    }
   },
   "outputs": [],
   "source": [
    "dfg = df.groupby('BOLGE_ADI')['MUSTERI_ADET'].sum().sort_values()\n",
    "dfg"
   ]
  },
  {
   "cell_type": "code",
   "execution_count": null,
   "metadata": {
    "ExecuteTime": {
     "end_time": "2022-12-19T09:00:44.357714Z",
     "start_time": "2022-12-19T09:00:44.108332Z"
    }
   },
   "outputs": [],
   "source": [
    "dfg = df.groupby('BOLGE_ADI')['MUSTERI_ADET'].sum().sort_values()\n",
    "\n",
    "# chart oluştur\n",
    "fig, ax = plt.subplots(figsize=(16,4))\n",
    "\n",
    "# yeni bir grafik\n",
    "ax.bar(x=dfg.index, height=dfg.values)\n",
    "\n",
    "# grafik özelliklerini düzenle\n",
    "ax.set_xticks( np.arange(len(dfg.index)), dfg.index, rotation=45, ha='right',)\n",
    "\n",
    "# grafiği göster\n",
    "plt.show()\n"
   ]
  },
  {
   "cell_type": "code",
   "execution_count": null,
   "metadata": {
    "ExecuteTime": {
     "end_time": "2022-12-19T09:03:46.559716Z",
     "start_time": "2022-12-19T09:03:46.556820Z"
    }
   },
   "outputs": [],
   "source": [
    "from matplotlib.text import Text"
   ]
  },
  {
   "cell_type": "code",
   "execution_count": null,
   "metadata": {
    "ExecuteTime": {
     "end_time": "2022-12-19T09:03:55.188094Z",
     "start_time": "2022-12-19T09:03:54.557946Z"
    }
   },
   "outputs": [],
   "source": [
    "fig, ax = plt.subplots(figsize=(16,7))\n",
    "\n",
    "ax.bar(x=dfg.index, height=dfg, label='Müşteri Adet x')\n",
    "\n",
    "ax.set_xticks( np.arange(len(dfg.index)), dfg.index, rotation=45,   ha='right')\n",
    "#ax.spines['top'].set_visible(False)\n",
    "#ax.spines['left'].set_visible(False)\n",
    "#ax.spines['right'].set_visible(False)\n",
    "[ax.spines[s].set_visible(False) for s in ('left','top','right')]\n",
    "ax.grid(True, axis='y')\n",
    "ax.set_title('Müşteri Adetleri')\n",
    "ax.set_xlabel('Bölge Adı')\n",
    "ax.set_ylabel('Müşteri Adet')\n",
    "ax.legend()\n",
    "\n",
    "plt.tight_layout()\n",
    "plt.savefig('plot1.png')\n",
    "plt.show()\n"
   ]
  },
  {
   "cell_type": "markdown",
   "metadata": {},
   "source": [
    "#### çoklu veri gösterimi"
   ]
  },
  {
   "cell_type": "code",
   "execution_count": null,
   "metadata": {
    "ExecuteTime": {
     "end_time": "2022-12-19T09:08:45.045211Z",
     "start_time": "2022-12-19T09:08:44.728233Z"
    }
   },
   "outputs": [],
   "source": [
    "# chart oluşturma\n",
    "fig, ax = plt.subplots(figsize=(16,5))\n",
    "fig.tight_layout()\n",
    "\n",
    "# veri gösterimi\n",
    "ax.bar(x=dfg.index, height=dfg, label='Müşteri Adet')\n",
    "ax.axhline(y=dfg.mean(), label='Ort. Adet', c='red', linestyle='--')\n",
    "\n",
    "# görsel düzenlemeler\n",
    "ax.set_xticks( np.arange(len(dfg.index)), dfg.index, rotation=45, ha='right')\n",
    "[ax.spines[s].set_visible(False) for s in ('left','top','right')]\n",
    "ax.grid(True, axis='y')\n",
    "ax.set_title('Müşteri Adetleri')\n",
    "ax.set_xlabel('Bölge Adı')\n",
    "ax.set_ylabel('Müşteri Adet')\n",
    "ax.legend()\n",
    "\n",
    "# gösterim\n",
    "plt.show()"
   ]
  },
  {
   "cell_type": "markdown",
   "metadata": {},
   "source": [
    "#### çoklu chart gösterimi"
   ]
  },
  {
   "cell_type": "code",
   "execution_count": null,
   "metadata": {
    "ExecuteTime": {
     "end_time": "2022-12-19T09:13:01.398979Z",
     "start_time": "2022-12-19T09:13:00.789041Z"
    }
   },
   "outputs": [],
   "source": [
    "# chart oluşturma\n",
    "fig, ax = plt.subplots(nrows=1, ncols=2, figsize=(16,5) )\n",
    "fig.tight_layout()\n",
    "\n",
    "# veri gösterimi, chart1\n",
    "ax[0].bar(x=dfg.index, height=dfg, label='Müşteri Adet')\n",
    "ax[0].axhline(y=dfg.mean(),  label='Bölge Ort.', c='red')\n",
    "\n",
    "# görsel düzenlemeler, chart1\n",
    "ax[0].set_xticks( np.arange(len(dfg.index)), dfg.index, rotation=45, ha='right')\n",
    "[ax[0].spines[s].set_visible(False) for s in ('left','top','right')]\n",
    "ax[0].grid(True, axis='y')\n",
    "ax[0].set_title('Bölge Müşteri Adetleri')\n",
    "ax[0].set_xlabel('Bölge Adı')\n",
    "ax[0].set_ylabel('Müşteri Adet')\n",
    "ax[0].legend()\n",
    "\n",
    "# veri gösterimi, chart2\n",
    "ax[1].hist(df.MUSTERI_ADET, edgecolor='white', alpha=0.7)\n",
    "ax[1].axvline(x=df.MUSTERI_ADET.median(),  c='red', label='Şubeler Ort', linestyle='--')\n",
    "\n",
    "# görsel düzenlemeler, chart1\n",
    "[ax[1].spines[s].set_visible(False) for s in ('left','top','right')]\n",
    "ax[1].grid(True, axis='y')\n",
    "ax[1].set_title('Müşteri Adet Dağılımı')\n",
    "ax[1].legend()\n",
    "\n",
    "# gösterim\n",
    "plt.suptitle('Müşteri Adet Analizi', y=1.10)\n",
    "plt.show()"
   ]
  },
  {
   "cell_type": "markdown",
   "metadata": {
    "ExecuteTime": {
     "end_time": "2022-10-01T22:12:58.806004Z",
     "start_time": "2022-10-01T22:12:58.800338Z"
    }
   },
   "source": [
    "### subplot_mosaic\n",
    "\n",
    "https://matplotlib.org/stable/tutorials/provisional/mosaic.html"
   ]
  },
  {
   "cell_type": "code",
   "execution_count": null,
   "metadata": {
    "ExecuteTime": {
     "end_time": "2022-12-19T09:13:28.298542Z",
     "start_time": "2022-12-19T09:13:27.593841Z"
    }
   },
   "outputs": [],
   "source": [
    "# chart oluşturma\n",
    "\"\"\"\n",
    "fig, ax = plt.subplots(nrows=2, ncols=2, figsize=(16,10), \n",
    "                       gridspec_kw={'height_ratios':[1,1],\n",
    "                                    'width_ratios': [3,2]\n",
    "                                   }, )\n",
    "\"\"\"\n",
    "ax = plt.figure(figsize=(16,10), tight_layout=True).subplot_mosaic(\n",
    "    [\n",
    "        [0,0,1],\n",
    "        [2,2,2]\n",
    "    ],\n",
    "    gridspec_kw={'height_ratios':[3,2]}\n",
    ")\n",
    "fig.tight_layout()\n",
    "\n",
    "# veri gösterimi, chart1\n",
    "ax[0].bar(x=dfg.index, height=dfg, label='Müşteri Adet')\n",
    "ax[0].axhline(y=dfg.mean(), label='Bölge Ort.', c='red')\n",
    "\n",
    "# görsel düzenlemeler, chart sol-üst\n",
    "ax[0].set_xticks( np.arange(len(dfg.index)), dfg.index, rotation=45, ha='right')\n",
    "[ax[0].spines[s].set_visible(False) for s in ('left','top','right')]\n",
    "ax[0].grid(True, axis='y')\n",
    "ax[0].set_title('Bölge Müşteri Adetleri')\n",
    "ax[0].set_xlabel('Bölge Adı')\n",
    "ax[0].set_ylabel('Müşteri Adet')\n",
    "ax[0].legend()\n",
    "\n",
    "# görsel düzenlemeler, chart sağ-üst\n",
    "pie_df = dfg.sort_values(ascending=False)\n",
    "pie_df = pd.concat([pie_df.head(5), pd.Series(pie_df.iloc[6:].sum(), index=['Diğerleri'])])\n",
    "ax[1].pie(x=pie_df.values, \n",
    "            labels=pie_df.index,\n",
    "            autopct='%1.2f%%', pctdistance=0.8, labeldistance=1.2\n",
    "           )\n",
    "ax[1].set_title('İlk 5 Bölge')\n",
    "\n",
    "\n",
    "# veri gösterimi, chart sol-alt\n",
    "\n",
    "\n",
    "# veri gösterimi, chart sağ-alt\n",
    "ax[2].hist(df.MUSTERI_ADET, edgecolor='white', alpha=0.7)\n",
    "ax[2].axvline(x=df.MUSTERI_ADET.median(),  c='red', label='Şubeler Ort', linestyle='--')\n",
    "\n",
    "\n",
    "# görsel düzenlemeler, chart1\n",
    "[ax[2].spines[s].set_visible(False) for s in ('left','top','right')]\n",
    "ax[2].grid(True, axis='y')\n",
    "ax[2].set_title('Müşteri Adet Dağılımı')\n",
    "ax[2].legend()\n",
    "\n",
    "plt.subplots_adjust(left=0.125,\n",
    "                    bottom=0.1, \n",
    "                    right=0.9, \n",
    "                    top=0.9, \n",
    "                    wspace=0.2, \n",
    "                    hspace=0.50)\n",
    "\n",
    "# gösterim\n",
    "plt.suptitle('Müşteri Adet Analizi')\n",
    "plt.show()\n"
   ]
  },
  {
   "cell_type": "code",
   "execution_count": null,
   "metadata": {
    "ExecuteTime": {
     "end_time": "2022-12-19T09:17:07.369819Z",
     "start_time": "2022-12-19T09:17:07.367230Z"
    }
   },
   "outputs": [],
   "source": [
    "axt = ax[1]"
   ]
  },
  {
   "cell_type": "code",
   "execution_count": null,
   "metadata": {},
   "outputs": [],
   "source": [
    "axt.pie()"
   ]
  }
 ],
 "metadata": {
  "kernelspec": {
   "display_name": "ECS4",
   "language": "python",
   "name": "ecs4"
  },
  "language_info": {
   "codemirror_mode": {
    "name": "ipython",
    "version": 3
   },
   "file_extension": ".py",
   "mimetype": "text/x-python",
   "name": "python",
   "nbconvert_exporter": "python",
   "pygments_lexer": "ipython3",
   "version": "3.7.6"
  },
  "toc": {
   "base_numbering": 1,
   "nav_menu": {},
   "number_sections": true,
   "sideBar": true,
   "skip_h1_title": false,
   "title_cell": "Table of Contents",
   "title_sidebar": "Contents",
   "toc_cell": false,
   "toc_position": {},
   "toc_section_display": true,
   "toc_window_display": true
  },
  "varInspector": {
   "cols": {
    "lenName": 16,
    "lenType": 16,
    "lenVar": 40
   },
   "kernels_config": {
    "python": {
     "delete_cmd_postfix": "",
     "delete_cmd_prefix": "del ",
     "library": "var_list.py",
     "varRefreshCmd": "print(var_dic_list())"
    },
    "r": {
     "delete_cmd_postfix": ") ",
     "delete_cmd_prefix": "rm(",
     "library": "var_list.r",
     "varRefreshCmd": "cat(var_dic_list()) "
    }
   },
   "types_to_exclude": [
    "module",
    "function",
    "builtin_function_or_method",
    "instance",
    "_Feature"
   ],
   "window_display": false
  }
 },
 "nbformat": 4,
 "nbformat_minor": 4
}
