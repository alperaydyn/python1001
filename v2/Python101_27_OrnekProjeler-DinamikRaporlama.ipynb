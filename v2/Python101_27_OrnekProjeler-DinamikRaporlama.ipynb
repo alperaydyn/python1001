{
 "cells": [
  {
   "cell_type": "code",
   "execution_count": null,
   "metadata": {
    "ExecuteTime": {
     "end_time": "2022-12-19T10:35:44.179370Z",
     "start_time": "2022-12-19T10:35:43.950441Z"
    }
   },
   "outputs": [],
   "source": [
    "import sys\n",
    "sys.path.append('/data/ECS/PythonTutorial/')\n",
    "import log\n",
    "log.topic_id = '27_OrnekProjeler-DinamikRaporlama'"
   ]
  },
  {
   "cell_type": "markdown",
   "metadata": {},
   "source": [
    "# Python ile Dinamik Excel Raporlama"
   ]
  },
  {
   "cell_type": "markdown",
   "metadata": {},
   "source": [
    "Bu projede amaç düzenli olarak hazırlanması gereken bir excel raporunun Python programlama dili ile otomatik hale getirmektir.\n",
    "\n",
    "Bu projede veri seti olarak Prisma veritabanı üzerindeki müşteri tablosundan faydalanarak günlük olarak yeni segment değişikliği gerçekleşen müşteriler ile ilgili bölge,şube ve portföy bazlı rapor hazırlayacağız."
   ]
  },
  {
   "cell_type": "markdown",
   "metadata": {},
   "source": [
    "# Gerekli Kütüphaneler"
   ]
  },
  {
   "cell_type": "code",
   "execution_count": null,
   "metadata": {
    "ExecuteTime": {
     "end_time": "2022-12-19T10:40:44.838526Z",
     "start_time": "2022-12-19T10:40:44.192075Z"
    }
   },
   "outputs": [],
   "source": [
    "import cx_Oracle\n",
    "import pandas as pd\n",
    "import numpy as np\n",
    "import openpyxl\n",
    "import matplotlib.pyplot as plt\n",
    "import sys\n",
    "import os"
   ]
  },
  {
   "cell_type": "markdown",
   "metadata": {},
   "source": [
    "# Datanın çekilmesi\n",
    "\n",
    "Öncelikle işin önemli kısmı olan dataya errişecek sorguyu yazıyoruz"
   ]
  },
  {
   "cell_type": "code",
   "execution_count": null,
   "metadata": {
    "ExecuteTime": {
     "end_time": "2022-12-19T10:40:44.980193Z",
     "start_time": "2022-12-19T10:40:44.976444Z"
    }
   },
   "outputs": [],
   "source": [
    "def connect_db(user_name=None, password=None):\n",
    "    try:\n",
    "        with open('/data/home/alperayd/oracle.txt','r') as f:\n",
    "            r = f.read()\n",
    "            user_name = r.split(';')[0]\n",
    "            password = r.split(';')[1]\n",
    "        \n",
    "        os.environ['ORACLE_HOME'] = '/data/app/oracle/product/12.2.0/client_1'\n",
    "        host = \"pgarsnb1rw.fw.garanti.com.tr:4520/pgarsnb1b\"\n",
    "        conn = cx_Oracle.connect(user_name, password, host, encoding='UTF-8')\n",
    "        return conn\n",
    "    except Exception as ex:\n",
    "        print(f\"bağlantı sağlanamadı, \\nHata: {ex}\")\n",
    "        return None\n",
    "    "
   ]
  },
  {
   "cell_type": "code",
   "execution_count": null,
   "metadata": {
    "ExecuteTime": {
     "end_time": "2022-12-19T10:42:13.866320Z",
     "start_time": "2022-12-19T10:41:53.050959Z"
    }
   },
   "outputs": [],
   "source": [
    "sql = \"\"\"\n",
    "    select \n",
    "        t1.RECORD_DATE as T1, t2.RECORD_DATE as T2,\n",
    "        t1.IP_ID,\n",
    "        t1.CUSTOMER_TP_CODE as LOB_CODE_T1, t2.CUSTOMER_TP_CODE as LOB_CODE_T2,\n",
    "        t1.CUSTOMER_TP_DESC as LOB_DESC_T1, t2.CUSTOMER_TP_DESC as LOB_DESC_T2,\n",
    "        t1.BRANCH_NUM       as SUBE_KODU_T1,t2.BRANCH_NUM       as SUBE_KODU_T2,\n",
    "        t1.BRANCH_NAME      as SUBE_ADI_T1, t2.BRANCH_NAME      as SUBE_ADI_T2,\n",
    "        t1.BUSINESS_MKT_REG_ORG_NUM  as BOLGE_KODU_T1, t2.BUSINESS_MKT_REG_ORG_NUM as BOLGE_KODU_T2,\n",
    "        t1.BUSINESS_MKT_REG_ORG_NAME as BOLGE_ADI_T1, t2.BUSINESS_MKT_REG_ORG_NAME as BOLGE_ADI_T2        \n",
    "    from (\n",
    "        select \n",
    "            t1.RECORD_DATE, IP_ID, CUSTOMER_TP_CODE, CUSTOMER_TP_DESC, \n",
    "            BRANCH_NUM, BRANCH_NAME, BUSINESS_MKT_REG_ORG_NUM, BUSINESS_MKT_REG_ORG_NAME\n",
    "        from pgaredm.v_cnf_customer_hst t1\n",
    "        left join pgaredm.V_CNF_BRANCH_HST t2 on t1.MAIN_BRANCH_NUM=t2.BRANCH_NUM\n",
    "        where t1.record_date = to_date('{t1}','YYYY-MM-DD')\n",
    "            and t2.record_date = to_date('{t1}','YYYY-MM-DD')\n",
    "    ) t1\n",
    "    full outer join (\n",
    "        select \n",
    "            t1.RECORD_DATE, IP_ID, CUSTOMER_TP_CODE, CUSTOMER_TP_DESC, \n",
    "            BRANCH_NUM, BRANCH_NAME, BUSINESS_MKT_REG_ORG_NUM, BUSINESS_MKT_REG_ORG_NAME\n",
    "        from pgaredm.v_cnf_customer_hst t1\n",
    "        left join pgaredm.V_CNF_BRANCH_HST t2 on t1.MAIN_BRANCH_NUM=t2.BRANCH_NUM\n",
    "        where t1.record_date = to_date('{t2}','YYYY-MM-DD')\n",
    "            and t2.record_date = to_date('{t1}','YYYY-MM-DD')\n",
    "    ) t2\n",
    "    on t1.IP_ID=t2.IP_ID\n",
    "    where\n",
    "        (t1.CUSTOMER_TP_CODE!=t2.CUSTOMER_TP_CODE)\n",
    "        or\n",
    "        (t1.BRANCH_NUM!=t2.BRANCH_NUM)\n",
    "\"\"\"\n",
    "sql = sql.format(t1='2022-12-18', t2='2022-11-30')\n",
    "df = pd.read_sql(sql, connect_db())\n",
    "print(df.shape)\n",
    "display(df.head())"
   ]
  },
  {
   "cell_type": "markdown",
   "metadata": {},
   "source": [
    "# Rapor Oluşturma"
   ]
  },
  {
   "cell_type": "markdown",
   "metadata": {},
   "source": [
    "## Bölge Raporu"
   ]
  },
  {
   "cell_type": "code",
   "execution_count": null,
   "metadata": {
    "ExecuteTime": {
     "end_time": "2022-12-19T10:56:13.107672Z",
     "start_time": "2022-12-19T10:56:13.103474Z"
    }
   },
   "outputs": [],
   "source": []
  },
  {
   "cell_type": "code",
   "execution_count": null,
   "metadata": {
    "ExecuteTime": {
     "end_time": "2022-12-19T12:04:21.240305Z",
     "start_time": "2022-12-19T12:04:21.068976Z"
    }
   },
   "outputs": [],
   "source": [
    "dfp = pd.pivot_table(df[df.BOLGE_KODU_T1!=df.BOLGE_KODU_T2],\n",
    "               index='BOLGE_ADI_T1',\n",
    "               columns='BOLGE_ADI_T2',\n",
    "               values='IP_ID',\n",
    "               aggfunc='count'\n",
    "              )\\\n",
    "    .fillna(0) \\\n",
    "    .astype(int) \n",
    "\n",
    "vmax = dfp.max().max()*1.5\n",
    "\n",
    "dfs = dfp \\\n",
    "    .style \\\n",
    "    .background_gradient(axis=None, vmin=0, vmax=vmax, cmap='Greens' )\n",
    "display(dfs)"
   ]
  },
  {
   "cell_type": "code",
   "execution_count": null,
   "metadata": {
    "ExecuteTime": {
     "end_time": "2022-12-19T10:57:06.547320Z",
     "start_time": "2022-12-19T10:57:06.478460Z"
    }
   },
   "outputs": [],
   "source": [
    "rapor_path = 'MusteriDevir.xlsx'\n",
    "dfs.to_excel(rapor_path, sheet_name='Bolge')"
   ]
  },
  {
   "cell_type": "code",
   "execution_count": null,
   "metadata": {
    "ExecuteTime": {
     "end_time": "2022-12-19T10:57:08.825721Z",
     "start_time": "2022-12-19T10:57:08.792552Z"
    }
   },
   "outputs": [],
   "source": [
    "from openpyxl.styles import Alignment\n",
    "\n",
    "wb = openpyxl.open(rapor_path)\n",
    "ws = wb['Bolge']\n",
    "for r in range(1, dfp.shape[1]+2):\n",
    "    ws.cell(1,r).alignment = Alignment(horizontal='center', vertical='center', wrap_text=True)\n",
    "ws.column_dimensions['A'].width=30\n",
    "for c in range(1, dfp.shape[0]+2):\n",
    "    ws.cell(c,1).alignment = Alignment(horizontal='left')\n",
    "wb.save(rapor_path)"
   ]
  },
  {
   "cell_type": "markdown",
   "metadata": {},
   "source": [
    "## Şube Raporu"
   ]
  },
  {
   "cell_type": "markdown",
   "metadata": {},
   "source": [
    "### Verilen Müşteriler"
   ]
  },
  {
   "cell_type": "code",
   "execution_count": null,
   "metadata": {
    "ExecuteTime": {
     "end_time": "2022-12-19T10:59:32.675687Z",
     "start_time": "2022-12-19T10:59:32.607874Z"
    }
   },
   "outputs": [],
   "source": [
    "df[(df.SUBE_KODU_T1!=df.SUBE_KODU_T2) & (df.SUBE_KODU_T2=='37')] \\\n",
    "    .groupby(['BOLGE_KODU_T2', 'BOLGE_ADI_T2', 'SUBE_KODU_T2', 'SUBE_ADI_T2']) \\\n",
    "    .apply(lambda x: pd.Series({\n",
    "        'BA-': len(x[x.LOB_CODE_T2=='BA']),\n",
    "        'BB-': len(x[x.LOB_CODE_T2=='BB']),\n",
    "        'SC-': len(x[x.LOB_CODE_T2=='SC']),\n",
    "        'SB-': len(x[x.LOB_CODE_T2=='SB']),\n",
    "        'SA-': len(x[x.LOB_CODE_T2=='SA']),\n",
    "        'TA-': len(x[x.LOB_CODE_T2=='TA']),\n",
    "        'K -': len(x[x.LOB_CODE_T2=='K']),\n",
    "    }))"
   ]
  },
  {
   "cell_type": "markdown",
   "metadata": {},
   "source": [
    "### Alınan Müşteriler"
   ]
  },
  {
   "cell_type": "code",
   "execution_count": null,
   "metadata": {
    "ExecuteTime": {
     "end_time": "2022-12-19T11:00:16.743216Z",
     "start_time": "2022-12-19T11:00:16.678042Z"
    }
   },
   "outputs": [],
   "source": [
    "df[(df.SUBE_KODU_T1!=df.SUBE_KODU_T2) & (df.SUBE_KODU_T1=='37')] \\\n",
    "    .groupby(['BOLGE_KODU_T1', 'BOLGE_ADI_T1', 'SUBE_KODU_T1', 'SUBE_ADI_T1']) \\\n",
    "    .apply(lambda x: pd.Series({\n",
    "        'BA+': len(x[x.LOB_CODE_T2=='BA']),\n",
    "        'BB+': len(x[x.LOB_CODE_T2=='BB']),\n",
    "        'SC+': len(x[x.LOB_CODE_T2=='SC']),\n",
    "        'SB+': len(x[x.LOB_CODE_T2=='SB']),\n",
    "        'SA+': len(x[x.LOB_CODE_T2=='SA']),\n",
    "        'TA+': len(x[x.LOB_CODE_T2=='TA']),\n",
    "        'K +': len(x[x.LOB_CODE_T2=='K']),\n",
    "    }))"
   ]
  },
  {
   "cell_type": "markdown",
   "metadata": {},
   "source": [
    "### Toplam Alınan/Verilen"
   ]
  },
  {
   "cell_type": "code",
   "execution_count": null,
   "metadata": {
    "ExecuteTime": {
     "end_time": "2022-12-19T11:01:56.630499Z",
     "start_time": "2022-12-19T11:01:54.344860Z"
    }
   },
   "outputs": [],
   "source": [
    "df_verilen = df[(df.SUBE_KODU_T1!=df.SUBE_KODU_T2)] \\\n",
    "    .groupby(['BOLGE_KODU_T2', 'BOLGE_ADI_T2', 'SUBE_KODU_T2', 'SUBE_ADI_T2']) \\\n",
    "    .apply(lambda x: pd.Series({\n",
    "        'BA-': len(x[x.LOB_CODE_T2=='BA'])*-1,\n",
    "        'BB-': len(x[x.LOB_CODE_T2=='BB'])*-1,\n",
    "        'SC-': len(x[x.LOB_CODE_T2=='SC'])*-1,\n",
    "        'SB-': len(x[x.LOB_CODE_T2=='SB'])*-1,\n",
    "        'SA-': len(x[x.LOB_CODE_T2=='SA'])*-1,\n",
    "        'TA-': len(x[x.LOB_CODE_T2=='TA'])*-1,\n",
    "        'K -': len(x[x.LOB_CODE_T2=='K'])*-1,\n",
    "    }))"
   ]
  },
  {
   "cell_type": "code",
   "execution_count": null,
   "metadata": {
    "ExecuteTime": {
     "end_time": "2022-12-19T11:01:58.970635Z",
     "start_time": "2022-12-19T11:01:56.671731Z"
    }
   },
   "outputs": [],
   "source": [
    "df_alinan = df[(df.SUBE_KODU_T1!=df.SUBE_KODU_T2)] \\\n",
    "    .groupby(['BOLGE_KODU_T1', 'BOLGE_ADI_T1', 'SUBE_KODU_T1', 'SUBE_ADI_T1']) \\\n",
    "    .apply(lambda x: pd.Series({\n",
    "        'BA+': len(x[x.LOB_CODE_T2=='BA']),\n",
    "        'BB+': len(x[x.LOB_CODE_T2=='BB']),\n",
    "        'SC+': len(x[x.LOB_CODE_T2=='SC']),\n",
    "        'SB+': len(x[x.LOB_CODE_T2=='SB']),\n",
    "        'SA+': len(x[x.LOB_CODE_T2=='SA']),\n",
    "        'TA+': len(x[x.LOB_CODE_T2=='TA']),\n",
    "        'K +': len(x[x.LOB_CODE_T2=='K']),\n",
    "    }))"
   ]
  },
  {
   "cell_type": "code",
   "execution_count": null,
   "metadata": {
    "ExecuteTime": {
     "end_time": "2022-12-19T11:02:19.571325Z",
     "start_time": "2022-12-19T11:02:19.538936Z"
    }
   },
   "outputs": [],
   "source": [
    "pd.set_option('max_columns', 22)\n",
    "df_all = pd.merge(left=df_alinan.reset_index(),\n",
    "                  right=df_verilen.reset_index(),\n",
    "                  how='outer',\n",
    "                  left_on='SUBE_KODU_T1', right_on='SUBE_KODU_T2'\n",
    "        )\n",
    "df_all"
   ]
  },
  {
   "cell_type": "markdown",
   "metadata": {},
   "source": [
    "### Şube Toplamları"
   ]
  },
  {
   "cell_type": "code",
   "execution_count": null,
   "metadata": {
    "ExecuteTime": {
     "end_time": "2022-12-19T11:04:21.210458Z",
     "start_time": "2022-12-19T11:04:21.131978Z"
    }
   },
   "outputs": [],
   "source": [
    "df_all['BOLGE_KODU'] = df_all.apply(lambda x: x.BOLGE_KODU_T2 if pd.isna(x.BOLGE_KODU_T1) else x.BOLGE_KODU_T1, axis=1)\n",
    "df_all['BOLGE_ADI'] = df_all.apply(lambda x: x.BOLGE_ADI_T2 if pd.isna(x.BOLGE_ADI_T1) else x.BOLGE_ADI_T1, axis=1)\n",
    "df_all['SUBE_KODU'] = df_all.apply(lambda x: x.SUBE_KODU_T2 if pd.isna(x.SUBE_KODU_T1) else x.SUBE_KODU_T1, axis=1)\n",
    "df_all['SUBE_ADI'] = df_all.apply(lambda x: x.SUBE_ADI_T2 if pd.isna(x.SUBE_ADI_T1) else x.SUBE_ADI_T1, axis=1)\n",
    "df_sube = df_all[['BOLGE_KODU','BOLGE_ADI','SUBE_KODU','SUBE_ADI',\n",
    "                   'BA+','BB+', 'SC+', 'SB+', 'SA+', 'TA+', 'K +',\n",
    "                   'BA-', 'BB-', 'SC-','SB-', 'SA-', 'TA-', 'K -'\n",
    "                  ]] \\\n",
    "    .fillna(0)\n",
    "display(df_sube)"
   ]
  },
  {
   "cell_type": "markdown",
   "metadata": {
    "ExecuteTime": {
     "end_time": "2022-09-27T20:43:15.547999Z",
     "start_time": "2022-09-27T20:43:15.517254Z"
    }
   },
   "source": [
    "### Bölge Toplamları\n",
    "\n",
    "Şube tablosundaki şube adı ve şube kodu bilgilerini Toplam olarak güncelliyoruz"
   ]
  },
  {
   "cell_type": "code",
   "execution_count": null,
   "metadata": {
    "ExecuteTime": {
     "end_time": "2022-12-19T11:05:42.467564Z",
     "start_time": "2022-12-19T11:05:42.442950Z"
    }
   },
   "outputs": [],
   "source": [
    "df_bolge = df_all[['BOLGE_KODU','BOLGE_ADI','SUBE_KODU','SUBE_ADI',\n",
    "                   'BA+','BB+', 'SC+', 'SB+', 'SA+', 'TA+', 'K +',\n",
    "                   'BA-', 'BB-', 'SC-','SB-', 'SA-', 'TA-', 'K -'\n",
    "                  ]] \\\n",
    "    .fillna(0) \\\n",
    "    .assign(SUBE_KODU = 'Toplam') \\\n",
    "    .assign(SUBE_ADI = 'Toplam')\n",
    "df_bolge"
   ]
  },
  {
   "cell_type": "markdown",
   "metadata": {},
   "source": [
    "### Bölge Şube Gruplama"
   ]
  },
  {
   "cell_type": "code",
   "execution_count": null,
   "metadata": {
    "ExecuteTime": {
     "end_time": "2022-12-19T11:06:24.295612Z",
     "start_time": "2022-12-19T11:06:24.242905Z"
    }
   },
   "outputs": [],
   "source": [
    "pd.set_option('max_rows',250)\n",
    "df_final = pd.concat([df_sube, df_bolge]) \\\n",
    "    .sort_values(['BOLGE_ADI','SUBE_KODU']) \\\n",
    "    .groupby(['BOLGE_KODU','BOLGE_ADI','SUBE_KODU','SUBE_ADI']) \\\n",
    "    .sum()\n",
    "df_final.head(40)"
   ]
  },
  {
   "cell_type": "markdown",
   "metadata": {
    "ExecuteTime": {
     "end_time": "2022-08-01T20:19:20.066614Z",
     "start_time": "2022-08-01T20:19:20.061724Z"
    }
   },
   "source": [
    "### Kaydet\n",
    "\n",
    "https://stackoverflow.com/questions/20219254/how-to-write-to-an-existing-excel-file-without-overwriting-data-using-pandas"
   ]
  },
  {
   "cell_type": "code",
   "execution_count": null,
   "metadata": {
    "ExecuteTime": {
     "end_time": "2022-12-19T11:09:47.712769Z",
     "start_time": "2022-12-19T11:09:46.979985Z"
    }
   },
   "outputs": [],
   "source": [
    "wb = openpyxl.load_workbook(rapor_path)\n",
    "writer = pd.ExcelWriter(rapor_path, engine='openpyxl')\n",
    "writer.book = wb\n",
    "\n",
    "writer.sheets = dict((ws.title, ws) for ws in wb.worksheets) # openpyxl gereksinimi\n",
    "\n",
    "df_final.to_excel(writer, sheet_name=\"Şube\", freeze_panes=(1,4))\n",
    "writer.save()"
   ]
  },
  {
   "cell_type": "code",
   "execution_count": null,
   "metadata": {
    "ExecuteTime": {
     "end_time": "2022-12-19T11:22:10.960947Z",
     "start_time": "2022-12-19T11:22:09.576972Z"
    }
   },
   "outputs": [],
   "source": [
    "from openpyxl.styles import Font, NamedStyle, PatternFill\n",
    "\n",
    "wb = openpyxl.open(rapor_path)\n",
    "ws = wb['Şube']\n",
    "for c in range(1, df_final.shape[1]+1):\n",
    "    ws.cell(1,c).alignment = Alignment(horizontal='center', vertical='center', wrap_text=True)\n",
    "ws.column_dimensions['B'].width=30\n",
    "ws.column_dimensions['D'].width=30\n",
    "\n",
    "# toplam satırları için bold ve arka renk gri\n",
    "\n",
    "if 'bold_gri' in wb.named_styles:\n",
    "    del wb._named_styles[ wb.style_names.index('bold_gri')]\n",
    "\n",
    "bold_gri = NamedStyle(name=\"bold_gri\")\n",
    "\n",
    "# color: gri:333333, red: ff0000, green:00ff00, blue:0000ff, orange:ffff00\n",
    "bold_gri.font = Font(color='333333', bold=True)\n",
    "wb.add_named_style(bold_gri)\n",
    "\n",
    "\n",
    "for r in range(1, df_final.shape[0]+2):\n",
    "    \n",
    "    # tüm satırlardaki B ve D (2,4) sürunların hizalamasını sola dayalı yapıyoruz\n",
    "    ws.cell(r,2).alignment = Alignment(horizontal='left')\n",
    "    ws.cell(r,4).alignment = Alignment(horizontal='left')\n",
    "    \n",
    "    # tüm satırlardaki E-R (5,18) sütunların hizalamasını center yapıyoruz\n",
    "    for c in range(5,19):\n",
    "        ws.cell(r,c).alignment = Alignment(horizontal='center')\n",
    "\n",
    "    # toplam satırlarının arka planlarını gri yapıyoruz\n",
    "    if ws.cell(r,4).value=='Toplam':\n",
    "        for c in range(3,19):\n",
    "            ws.cell(r,c).fill = PatternFill(start_color=\"FFFFFF\", end_color=\"BBBBBB\", fill_type = \"darkTrellis\")\n",
    "            \n",
    "wb.save(rapor_path)"
   ]
  },
  {
   "cell_type": "markdown",
   "metadata": {},
   "source": [
    "# Chart Ekle"
   ]
  },
  {
   "cell_type": "code",
   "execution_count": null,
   "metadata": {
    "ExecuteTime": {
     "end_time": "2022-12-19T11:31:09.977846Z",
     "start_time": "2022-12-19T11:31:09.850180Z"
    }
   },
   "outputs": [],
   "source": [
    "df_verilen = df[(df.LOB_DESC_T1!=df.LOB_DESC_T2)] \\\n",
    "    .groupby(['LOB_DESC_T2']) \\\n",
    "    .apply(lambda x: pd.Series({\n",
    "        'Verilen': len(x)*-1\n",
    "    }))\n",
    "df_alinan = df[(df.LOB_DESC_T1!=df.LOB_DESC_T2)] \\\n",
    "    .groupby(['LOB_DESC_T1']) \\\n",
    "    .apply(lambda x: pd.Series({\n",
    "        'Alınan': len(x) \n",
    "    }))\n",
    "\n",
    "df_all = pd.merge(left=df_alinan.reset_index(),\n",
    "                  right=df_verilen.reset_index(),\n",
    "                  how='outer',\n",
    "                  left_on='LOB_DESC_T1', right_on='LOB_DESC_T2'\n",
    "        )\n",
    "\n",
    "df_all['LOB_DESC'] = df_all.apply(lambda x: x.LOB_DESC_T2 if pd.isna(x.LOB_DESC_T1) else x.LOB_DESC_T1, axis=1)\n",
    "df_final = df_all[['LOB_DESC','Alınan','Verilen'\n",
    "                  ]] \\\n",
    "    .fillna(0) \\\n",
    "    .set_index(['LOB_DESC']) \\\n",
    "    .astype(int) \\\n",
    "    .assign(Toplam = lambda x: x.sum(axis=1))\n",
    "\n",
    "df_final = df_final.assign(positive=lambda x: df_final.Toplam>0)\n",
    "\n",
    "display(df_final)"
   ]
  },
  {
   "cell_type": "code",
   "execution_count": null,
   "metadata": {
    "ExecuteTime": {
     "end_time": "2022-12-19T11:41:48.516248Z",
     "start_time": "2022-12-19T11:41:48.511140Z"
    }
   },
   "outputs": [],
   "source": [
    "df_final.positive.map({True: 'g', False: 'r'})"
   ]
  },
  {
   "cell_type": "code",
   "execution_count": null,
   "metadata": {},
   "outputs": [],
   "source": []
  },
  {
   "cell_type": "code",
   "execution_count": null,
   "metadata": {
    "ExecuteTime": {
     "end_time": "2022-12-19T11:58:34.561658Z",
     "start_time": "2022-12-19T11:58:34.285918Z"
    }
   },
   "outputs": [],
   "source": [
    "fig, ax = plt.subplots(figsize=(8,5), )\n",
    "plt.tight_layout()\n",
    "ax.bar(x=df_final.index, height=df_final.Toplam,\n",
    "       color=df_final.positive.map({True: 'g', False: 'r'})\n",
    "      )\n",
    "\n",
    "colors = df_final.positive.map({True: 'g', False: 'r'}).values.tolist()\n",
    "for rect, label, color in zip(ax.patches, df_final.Toplam, colors):\n",
    "    height = rect.get_height()\n",
    "    ax.text(\n",
    "        rect.get_x() + rect.get_width() / 2, \n",
    "        0 if color=='r' else -350 , \n",
    "        f'{label:,.0f}', \n",
    "        ha=\"center\", va=\"bottom\", c=color\n",
    "    )\n",
    "[ax.spines[s].set_visible(False) for s in ('left','top','right')]\n",
    "ax.set_xticks(np.arange(df_final.shape[0]), df_final.index, rotation='45', ha='right')\n",
    "ax.grid(axis='y')\n",
    "\n",
    "plt.subplots_adjust(bottom=0.3, top=0.9)\n",
    "plt.title('İşkolu Değişimleri')\n",
    "\n",
    "plt.savefig(\"myplot.png\", dpi = 150)\n",
    "\n",
    "plt.show()\n"
   ]
  },
  {
   "cell_type": "code",
   "execution_count": null,
   "metadata": {
    "ExecuteTime": {
     "end_time": "2022-12-19T12:00:32.503704Z",
     "start_time": "2022-12-19T12:00:31.875853Z"
    }
   },
   "outputs": [],
   "source": [
    "wb = openpyxl.load_workbook(rapor_path)\n",
    "ws = wb.create_sheet('İşKolu')\n",
    "\n",
    "img = openpyxl.drawing.image.Image('myplot.png')\n",
    "\n",
    "ws.add_image(img, anchor='B3')\n",
    "wb.save(rapor_path)"
   ]
  },
  {
   "cell_type": "markdown",
   "metadata": {},
   "source": [
    "# Class Yap"
   ]
  },
  {
   "cell_type": "code",
   "execution_count": null,
   "metadata": {
    "ExecuteTime": {
     "end_time": "2022-12-19T12:29:10.015293Z",
     "start_time": "2022-12-19T12:29:09.987097Z"
    },
    "code_folding": [
     9,
     24,
     33,
     72,
     89,
     153,
     204
    ]
   },
   "outputs": [],
   "source": [
    "import cx_Oracle\n",
    "import pandas as pd\n",
    "import numpy as np\n",
    "import openpyxl\n",
    "import sys\n",
    "\n",
    "\n",
    "class Raporlar():\n",
    "    class MusteriDevir():\n",
    "        def connect_db(user_name=None, password=None):\n",
    "            try:\n",
    "                with open('/data/home/alperayd/oracle.txt','r') as f:\n",
    "                    r = f.read()\n",
    "                    user_name = r.split(';')[0]\n",
    "                    password = r.split(';')[1]\n",
    "\n",
    "                os.environ['ORACLE_HOME'] = '/data/app/oracle/product/12.2.0/client_1'\n",
    "                host = \"pgarsnb1rw.fw.garanti.com.tr:4520/pgarsnb1b\"\n",
    "                conn = cx_Oracle.connect(user_name, password, host, encoding='UTF-8')\n",
    "                return conn\n",
    "            except Exception as ex:\n",
    "                print(f\"bağlantı sağlanamadı, \\nHata: {ex}\")\n",
    "                return None\n",
    "            \n",
    "        def calistir(self, t1, t2, path='MusteriDevir.xlsx'):\n",
    "            self.rapor_path = path\n",
    "            self._data_cek(t1=t1, t2=t2)\n",
    "            self._bolge_raporu()\n",
    "            self._sube_raporu()\n",
    "            self._rapor_yap()\n",
    "            \n",
    "        def _data_cek(self, t1, t2):\n",
    "            print('Data çekiliyor')\n",
    "            sql = \"\"\"\n",
    "                select \n",
    "                    t1.RECORD_DATE as T1, t2.RECORD_DATE as T2,\n",
    "                    t1.IP_ID,\n",
    "                    t1.CUSTOMER_TP_CODE as LOB_CODE_T1, t2.CUSTOMER_TP_CODE as LOB_CODE_T2,\n",
    "                    t1.CUSTOMER_TP_DESC as LOB_DESC_T1, t2.CUSTOMER_TP_DESC as LOB_DESC_T2,\n",
    "                    t1.BRANCH_NUM       as SUBE_KODU_T1,t2.BRANCH_NUM       as SUBE_KODU_T2,\n",
    "                    t1.BRANCH_NAME      as SUBE_ADI_T1, t2.BRANCH_NAME      as SUBE_ADI_T2,\n",
    "                    t1.BUSINESS_MKT_REG_ORG_NUM  as BOLGE_KODU_T1, t2.BUSINESS_MKT_REG_ORG_NUM as BOLGE_KODU_T2,\n",
    "                    t1.BUSINESS_MKT_REG_ORG_NAME as BOLGE_ADI_T1, t2.BUSINESS_MKT_REG_ORG_NAME as BOLGE_ADI_T2        \n",
    "                from (\n",
    "                    select \n",
    "                        t1.RECORD_DATE, IP_ID, CUSTOMER_TP_CODE, CUSTOMER_TP_DESC, \n",
    "                        BRANCH_NUM, BRANCH_NAME, BUSINESS_MKT_REG_ORG_NUM, BUSINESS_MKT_REG_ORG_NAME\n",
    "                    from pgaredm.v_cnf_customer_hst t1\n",
    "                    left join pgaredm.V_CNF_BRANCH_HST t2 on t1.MAIN_BRANCH_NUM=t2.BRANCH_NUM\n",
    "                    where t1.record_date = to_date('{t1}','YYYY-MM-DD')\n",
    "                        and t2.record_date = to_date('{t1}','YYYY-MM-DD')\n",
    "                ) t1\n",
    "                full outer join (\n",
    "                    select \n",
    "                        t1.RECORD_DATE, IP_ID, CUSTOMER_TP_CODE, CUSTOMER_TP_DESC, \n",
    "                        BRANCH_NUM, BRANCH_NAME, BUSINESS_MKT_REG_ORG_NUM, BUSINESS_MKT_REG_ORG_NAME\n",
    "                    from pgaredm.v_cnf_customer_hst t1\n",
    "                    left join pgaredm.V_CNF_BRANCH_HST t2 on t1.MAIN_BRANCH_NUM=t2.BRANCH_NUM\n",
    "                    where t1.record_date = to_date('{t2}','YYYY-MM-DD')\n",
    "                        and t2.record_date = to_date('{t1}','YYYY-MM-DD')\n",
    "                ) t2\n",
    "                on t1.IP_ID=t2.IP_ID\n",
    "                where\n",
    "                    (t1.CUSTOMER_TP_CODE!=t2.CUSTOMER_TP_CODE)\n",
    "                    or\n",
    "                    (t1.BRANCH_NUM!=t2.BRANCH_NUM)\n",
    "            \"\"\"\n",
    "            sql = sql.format(t1=t1, t2=t2)\n",
    "            df = pd.read_sql(sql, self.connect_db())\n",
    "            print(\"Data çekildi:\", df.shape)\n",
    "            self.df = df\n",
    "            \n",
    "        def _bolge_raporu(self):\n",
    "            print('Bölge raporu oluşturuluyor')\n",
    "            df = self.df\n",
    "            dfp = pd.pivot_table(df[df.BOLGE_KODU_T1!=df.BOLGE_KODU_T2],\n",
    "                           index='BOLGE_ADI_T1',\n",
    "                           columns='BOLGE_ADI_T2',\n",
    "                           values='IP_ID',\n",
    "                           aggfunc='count'\n",
    "                          )\\\n",
    "                .fillna(0) \\\n",
    "                .astype(int) \n",
    "            dfs = dfp \\\n",
    "                .style \\\n",
    "                .background_gradient()\n",
    "            self.dfp = dfp\n",
    "            self.dfs = dfs\n",
    "            \n",
    "        def _sube_raporu(self):\n",
    "            print('Şube raporu oluşturuluyor')\n",
    "            df = self.df\n",
    "            df_verilen = df[(df.SUBE_KODU_T1!=df.SUBE_KODU_T2)] \\\n",
    "                .groupby(['BOLGE_KODU_T2', 'BOLGE_ADI_T2', 'SUBE_KODU_T2', 'SUBE_ADI_T2']) \\\n",
    "                .apply(lambda x: pd.Series({\n",
    "                    'BA-': len(x[x.LOB_CODE_T2=='BA'])*-1,\n",
    "                    'BB-': len(x[x.LOB_CODE_T2=='BB'])*-1,\n",
    "                    'SC-': len(x[x.LOB_CODE_T2=='SC'])*-1,\n",
    "                    'SB-': len(x[x.LOB_CODE_T2=='SB'])*-1,\n",
    "                    'SA-': len(x[x.LOB_CODE_T2=='SA'])*-1,\n",
    "                    'TA-': len(x[x.LOB_CODE_T2=='TA'])*-1,\n",
    "                    'K -': len(x[x.LOB_CODE_T2=='K'])*-1,\n",
    "                }))\n",
    "            \n",
    "            df_alinan = df[(df.SUBE_KODU_T1!=df.SUBE_KODU_T2)] \\\n",
    "                .groupby(['BOLGE_KODU_T1', 'BOLGE_ADI_T1', 'SUBE_KODU_T1', 'SUBE_ADI_T1']) \\\n",
    "                .apply(lambda x: pd.Series({\n",
    "                    'BA+': len(x[x.LOB_CODE_T2=='BA']),\n",
    "                    'BB+': len(x[x.LOB_CODE_T2=='BB']),\n",
    "                    'SC+': len(x[x.LOB_CODE_T2=='SC']),\n",
    "                    'SB+': len(x[x.LOB_CODE_T2=='SB']),\n",
    "                    'SA+': len(x[x.LOB_CODE_T2=='SA']),\n",
    "                    'TA+': len(x[x.LOB_CODE_T2=='TA']),\n",
    "                    'K +': len(x[x.LOB_CODE_T2=='K']),\n",
    "                }))\n",
    "            \n",
    "            df_all = pd.merge(left=df_alinan.reset_index(),\n",
    "                              right=df_verilen.reset_index(),\n",
    "                              how='outer',\n",
    "                              left_on='SUBE_KODU_T1', right_on='SUBE_KODU_T2'\n",
    "                    )\n",
    "            \n",
    "            # Şube toplamları -------------------------------------------\n",
    "            df_all['BOLGE_KODU'] = df_all.apply(lambda x: x.BOLGE_KODU_T2 if pd.isna(x.BOLGE_KODU_T1) else x.BOLGE_KODU_T1, axis=1)\n",
    "            df_all['BOLGE_ADI'] = df_all.apply(lambda x: x.BOLGE_ADI_T2 if pd.isna(x.BOLGE_ADI_T1) else x.BOLGE_ADI_T1, axis=1)\n",
    "            df_all['SUBE_KODU'] = df_all.apply(lambda x: x.SUBE_KODU_T2 if pd.isna(x.SUBE_KODU_T1) else x.SUBE_KODU_T1, axis=1)\n",
    "            df_all['SUBE_ADI'] = df_all.apply(lambda x: x.SUBE_ADI_T2 if pd.isna(x.SUBE_ADI_T1) else x.SUBE_ADI_T1, axis=1)\n",
    "            df_sube = df_all[['BOLGE_KODU','BOLGE_ADI','SUBE_KODU','SUBE_ADI',\n",
    "                               'BA+','BB+', 'SC+', 'SB+', 'SA+', 'TA+', 'K +',\n",
    "                               'BA-', 'BB-', 'SC-','SB-', 'SA-', 'TA-', 'K -'\n",
    "                              ]] \\\n",
    "                .fillna(0)\n",
    "            \n",
    "            # Bölge toplamları -------------------------------------------\n",
    "            df_bolge = df_all[['BOLGE_KODU','BOLGE_ADI','SUBE_KODU','SUBE_ADI',\n",
    "                               'BA+','BB+', 'SC+', 'SB+', 'SA+', 'TA+', 'K +',\n",
    "                               'BA-', 'BB-', 'SC-','SB-', 'SA-', 'TA-', 'K -'\n",
    "                              ]] \\\n",
    "                .fillna(0) \\\n",
    "                .assign(SUBE_KODU = 'Toplam') \\\n",
    "                .assign(SUBE_ADI = 'Toplam')\n",
    "            \n",
    "            # Bölge Toplamlarının groupby ile eklenmesi ------------------\n",
    "            pd.set_option('max_rows',250)\n",
    "            df_final = pd.concat([df_sube, df_bolge]) \\\n",
    "                .sort_values(['BOLGE_ADI','SUBE_KODU']) \\\n",
    "                .groupby(['BOLGE_KODU','BOLGE_ADI','SUBE_KODU','SUBE_ADI']) \\\n",
    "                .sum()\n",
    "                     \n",
    "\n",
    "            self.df_sube = df_final\n",
    "            return df_final         \n",
    "        \n",
    "        def _chart_olustur(self):\n",
    "            \n",
    "            print('Chart oluşturuluyor')\n",
    "            # rapor datasını oluştur -------------------------------------------------------------------------\n",
    "            df_verilen = df[(df.LOB_DESC_T1!=df.LOB_DESC_T2)] \\\n",
    "                .groupby(['LOB_DESC_T2']) \\\n",
    "                .apply(lambda x: pd.Series({\n",
    "                    'Verilen': len(x)*-1\n",
    "                }))\n",
    "            df_alinan = df[(df.LOB_DESC_T1!=df.LOB_DESC_T2)] \\\n",
    "                .groupby(['LOB_DESC_T1']) \\\n",
    "                .apply(lambda x: pd.Series({\n",
    "                    'Alınan': len(x) \n",
    "                }))\n",
    "\n",
    "            df_all = pd.merge(left=df_alinan.reset_index(),\n",
    "                              right=df_verilen.reset_index(),\n",
    "                              how='outer',\n",
    "                              left_on='LOB_DESC_T1', right_on='LOB_DESC_T2'\n",
    "                    )\n",
    "\n",
    "            df_all['LOB_DESC'] = df_all.apply(lambda x: x.LOB_DESC_T2 if pd.isna(x.LOB_DESC_T1) else x.LOB_DESC_T1, axis=1)\n",
    "            df_final = df_all[['LOB_DESC','Alınan','Verilen'\n",
    "                              ]] \\\n",
    "                .fillna(0) \\\n",
    "                .set_index(['LOB_DESC']) \\\n",
    "                .astype(int) \\\n",
    "                .assign(Toplam = lambda x: x.sum(axis=1))\n",
    "            \n",
    "            self.df_chart = df_final\n",
    "            \n",
    "            # rapor chart'ını oluştur ------------------------------------------------------------------------\n",
    "            df_final = df_final.assign(positive=lambda x: df_final.Toplam>0)\n",
    "\n",
    "            fig, ax = plt.subplots(figsize=(8,4), )\n",
    "            ax.bar(x=df_final.index, height=df_final.Toplam,\n",
    "                   color=df_final.positive.map({True: 'g', False: 'r'})\n",
    "                  )\n",
    "\n",
    "            colors = df_final.positive.map({True: 'white', False: 'red'}).values.tolist()\n",
    "            for rect, label, color in zip(ax.patches, df_final.Toplam, colors):\n",
    "                height = rect.get_height()\n",
    "                ax.text(\n",
    "                    rect.get_x() + rect.get_width() / 2, 0 , label, ha=\"center\", va=\"bottom\", c=color\n",
    "                )\n",
    "            [ax.spines[s].set_visible(False) for s in ('left','top','right')]\n",
    "            ax.grid(axis='y')\n",
    "            \n",
    "            # chart'ı excel'e ekle -----------------------------------------------------------------------------\n",
    "            plt.savefig(\"myplot.png\", dpi = 150)\n",
    "            \n",
    "        def _rapor_yap(self):\n",
    "            \n",
    "            print('Bölge Sayfası ekleniyor')\n",
    "            # Bölge datasından dosya oluştur -------------------------------------------------------------------\n",
    "            self.dfs.to_excel(self.rapor_path, sheet_name='Bolge')\n",
    "            \n",
    "            dfp = self.dfp\n",
    "            dfs = self.dfs\n",
    "            \n",
    "            # Bölge sayfasının formatını düzenle\n",
    "            wb = openpyxl.open(self.rapor_path)\n",
    "            ws = wb['Bolge']\n",
    "            for r in range(1, dfp.shape[1]+1):\n",
    "                ws.cell(1,r).alignment = openpyxl.styles.Alignment(horizontal='center', vertical='center', wrap_text=True)\n",
    "            ws.column_dimensions['A'].width=30\n",
    "            for c in range(1, dfp.shape[0]+2):\n",
    "                ws.cell(c,1).alignment = openpyxl.styles.Alignment(horizontal='left')\n",
    "            wb.save(self.rapor_path)\n",
    "            \n",
    "            # Şube datasını eklemek için ExcelWriter ile dosyayı aç ---------------------------------------------\n",
    "            print('Şube Sayfası ekleniyor')\n",
    "            wb = openpyxl.load_workbook(self.rapor_path)\n",
    "            writer = pd.ExcelWriter(self.rapor_path, engine='openpyxl') \n",
    "            writer.book = wb\n",
    "\n",
    "            writer.sheets = dict((ws.title, ws) for ws in wb.worksheets)\n",
    "            self.df_sube.to_excel(writer, sheet_name=\"Şube\", freeze_panes=(1,4))\n",
    "            writer.save()\n",
    "            \n",
    "            # Şube sayfasını düzenle -----------------------------------------------------------------------------\n",
    "            wb = openpyxl.open(rapor_path)\n",
    "            ws = wb['Şube']\n",
    "            for c in range(1, df_final.shape[1]+1):\n",
    "                ws.cell(1,c).alignment = Alignment(horizontal='center', vertical='center', wrap_text=True)\n",
    "            ws.column_dimensions['B'].width=30\n",
    "            ws.column_dimensions['D'].width=30\n",
    "\n",
    "            # toplam satırları için bold ve arka renk gri\n",
    "            bold_gri = NamedStyle(name=\"bold_gri\")\n",
    "            bold_gri.font = Font(color='333333', bold=True)\n",
    "            #wb.add_named_style(bold_gri)\n",
    "\n",
    "\n",
    "            for r in range(1, df_final.shape[0]+2):\n",
    "\n",
    "                # tüm satırlardaki B ve D (2,4) sürunların hizalamasını sola dayalı yapıyoruz\n",
    "                ws.cell(r,2).alignment = Alignment(horizontal='left')\n",
    "                ws.cell(r,4).alignment = Alignment(horizontal='left')\n",
    "\n",
    "                # tüm satırlardaki E-R (5,18) sütunların hizalamasını center yapıyoruz\n",
    "                for c in range(5,19):\n",
    "                    ws.cell(r,c).alignment = Alignment(horizontal='center')\n",
    "\n",
    "                # toplam satırlarının arka planlarını gri yapıyoruz\n",
    "                if ws.cell(r,4).value=='Toplam':\n",
    "                    for c in range(3,19):\n",
    "                        ws.cell(r,c).fill = PatternFill(start_color=\"DDDDDD\", end_color=\"DDDDDD\", fill_type = \"solid\")\n",
    "\n",
    "\n",
    "            # chartı ekle -----------------------------------------------------------------------------------------\n",
    "            print('İşkolu sayfası ekleniyor')\n",
    "            ws = wb.create_sheet('İşKolu')\n",
    "\n",
    "            print('Chart ekleniyor')\n",
    "            img = openpyxl.drawing.image.Image('myplot.png')\n",
    "\n",
    "            ws.add_image(img, anchor='B3')\n",
    "            wb.save(self.rapor_path)   \n",
    "            print('Rapor kaydedildi')\n",
    "            \n",
    "    class KayipMusteriRaporu():\n",
    "        def calistir():\n",
    "            pass\n",
    "        \n",
    "    class YeniRapor():\n",
    "        def calistir():\n",
    "            pass"
   ]
  },
  {
   "cell_type": "code",
   "execution_count": null,
   "metadata": {
    "ExecuteTime": {
     "end_time": "2022-12-19T12:29:41.548295Z",
     "start_time": "2022-12-19T12:29:11.429832Z"
    }
   },
   "outputs": [],
   "source": [
    "clsr = Raporlar()\n",
    "md = clsr.MusteriDevir()\n",
    "md.calistir('2022-07-31','2022-07-25')"
   ]
  },
  {
   "cell_type": "code",
   "execution_count": null,
   "metadata": {
    "ExecuteTime": {
     "end_time": "2022-12-19T12:06:30.054873Z",
     "start_time": "2022-12-19T12:06:30.052567Z"
    }
   },
   "outputs": [],
   "source": [
    "clsr = Raporlar()\n",
    "clsr.MusteriDevir.calistir()"
   ]
  }
 ],
 "metadata": {
  "kernelspec": {
   "display_name": "ECS4",
   "language": "python",
   "name": "ecs4"
  },
  "language_info": {
   "codemirror_mode": {
    "name": "ipython",
    "version": 3
   },
   "file_extension": ".py",
   "mimetype": "text/x-python",
   "name": "python",
   "nbconvert_exporter": "python",
   "pygments_lexer": "ipython3",
   "version": "3.7.6"
  },
  "toc": {
   "base_numbering": 1,
   "nav_menu": {},
   "number_sections": true,
   "sideBar": true,
   "skip_h1_title": false,
   "title_cell": "Table of Contents",
   "title_sidebar": "Contents",
   "toc_cell": false,
   "toc_position": {
    "height": "calc(100% - 180px)",
    "left": "10px",
    "top": "150px",
    "width": "370.188px"
   },
   "toc_section_display": true,
   "toc_window_display": true
  },
  "varInspector": {
   "cols": {
    "lenName": 16,
    "lenType": 16,
    "lenVar": 40
   },
   "kernels_config": {
    "python": {
     "delete_cmd_postfix": "",
     "delete_cmd_prefix": "del ",
     "library": "var_list.py",
     "varRefreshCmd": "print(var_dic_list())"
    },
    "r": {
     "delete_cmd_postfix": ") ",
     "delete_cmd_prefix": "rm(",
     "library": "var_list.r",
     "varRefreshCmd": "cat(var_dic_list()) "
    }
   },
   "types_to_exclude": [
    "module",
    "function",
    "builtin_function_or_method",
    "instance",
    "_Feature"
   ],
   "window_display": true
  }
 },
 "nbformat": 4,
 "nbformat_minor": 4
}
