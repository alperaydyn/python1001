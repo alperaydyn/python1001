{
 "cells": [
  {
   "cell_type": "code",
   "execution_count": null,
   "metadata": {
    "ExecuteTime": {
     "end_time": "2022-12-06T10:44:54.351152Z",
     "start_time": "2022-12-06T10:44:54.123785Z"
    }
   },
   "outputs": [],
   "source": [
    "import sys\n",
    "sys.path.append('/data/ECS/PythonTutorial/')\n",
    "import log\n",
    "log.topic_id = '07_VeriTipleri-Listeler'"
   ]
  },
  {
   "cell_type": "markdown",
   "metadata": {},
   "source": [
    "<div class=\"alert alert-box\" style=\"font-size:12pt; padding:15px; line-height:150%; background-color:#33bbcc66; \">\n",
    "    Bu dersin amacı;\n",
    "    <li>Liste Veri Tipi hakkında bilgi sahibi olmak</li>\n",
    "    <li>Liste Veri Tipi ve diğer çoklu eleman içeren veri tiplerinin performans karşılaştırmalarını yapmak</li>\n",
    "    <li>Liste Veri Tipine ait özellikleri öğrenmek</li>\n",
    "    <li>Liste Veri Tipi ile ilgili işlemleri öğrenmek</li>\n",
    "</div>"
   ]
  },
  {
   "cell_type": "markdown",
   "metadata": {
    "id": "i06U9E8RyO9y"
   },
   "source": [
    "# Listeler"
   ]
  },
  {
   "cell_type": "markdown",
   "metadata": {},
   "source": [
    "<div class=\"alert alert-box alert-info\" style=\"font-size:12pt; padding:15px; line-height:150%;\">\n",
    "    <li>Aynı veya farklı tipte bir veya birden fazla değişkenin tutulabildiği veri tipidir.</li>\n",
    "    <li>Birden fazla veri tutma ihtiyacında sağladığı esneklik sayesinde en sık kullanılan veri tipidir</li>\n",
    "    <li>Köşeli parantez ile oluşturulurlar</li>\n",
    "</div>"
   ]
  },
  {
   "cell_type": "code",
   "execution_count": null,
   "metadata": {
    "ExecuteTime": {
     "end_time": "2022-12-06T08:56:00.777425Z",
     "start_time": "2022-12-06T08:56:00.774309Z"
    },
    "colab": {
     "base_uri": "https://localhost:8080/"
    },
    "executionInfo": {
     "elapsed": 306,
     "status": "ok",
     "timestamp": 1652737069122,
     "user": {
      "displayName": "Alper Aydın",
      "userId": "16424421511940582464"
     },
     "user_tz": -180
    },
    "id": "vkNWKCwizgju",
    "outputId": "d2a677ac-d855-48a8-f42c-43b5211e64b1"
   },
   "outputs": [],
   "source": [
    "x = [1,2,3]\n",
    "print(x)\n",
    "print(type(x))"
   ]
  },
  {
   "cell_type": "markdown",
   "metadata": {},
   "source": [
    "## Özellikleri"
   ]
  },
  {
   "cell_type": "markdown",
   "metadata": {},
   "source": [
    "<div class=\"alert alert-box alert-info\" style=\"font-size:12pt; padding:15px; line-height:150%;\">\n",
    "    <li><b>Sıralıdır</b>: Elemanlarının belirli bir sırası vardır, index ile ulaşılabilir.</li>\n",
    "    <li><b>Değiştirilebilir</b>: Elemanları sabittir değerleri değiştirilebilir</li>\n",
    "    <li><b>Çoklayabilir</b>: Aynı değere sahip birden fazla eleman olabilir</li>\n",
    "</div>"
   ]
  },
  {
   "cell_type": "markdown",
   "metadata": {},
   "source": [
    "## Performans Karşılaştırma"
   ]
  },
  {
   "cell_type": "markdown",
   "metadata": {},
   "source": [
    "<div class=\"alert alert-box alert-info\" style=\"font-size:12pt; padding:15px; line-height:150%;\">\n",
    "    <li>Kullanım kolaylığı ve esnekliklerine karşılık eleman arama ve çıkartma işlemlerinde verimlilik anlamında set ve dict veri tiplerine göre daha düşük performans gösterirler</li>\n",
    "</div>"
   ]
  },
  {
   "cell_type": "code",
   "execution_count": null,
   "metadata": {
    "ExecuteTime": {
     "end_time": "2022-12-06T08:56:35.138708Z",
     "start_time": "2022-12-06T08:56:35.136385Z"
    }
   },
   "outputs": [],
   "source": [
    "l1 = 1000\n",
    "l2 = 1000"
   ]
  },
  {
   "cell_type": "markdown",
   "metadata": {},
   "source": [
    "### list"
   ]
  },
  {
   "cell_type": "code",
   "execution_count": null,
   "metadata": {
    "ExecuteTime": {
     "end_time": "2022-12-06T08:56:36.199793Z",
     "start_time": "2022-12-06T08:56:36.189846Z"
    }
   },
   "outputs": [],
   "source": [
    "import time \n",
    "a = []\n",
    "t1 = time.time()\n",
    "for i in range(l1):\n",
    "    a.append(i)\n",
    "t2 = time.time()\n",
    "for i in range(l1):\n",
    "    a.index(i)\n",
    "t3 = time.time()\n",
    "for i in range(l2):\n",
    "    a.remove(i)\n",
    "t4 = time.time()\n",
    "\n",
    "ta1 = t2-t1\n",
    "ta2 = t3-t2\n",
    "ta3 = t4-t3\n",
    "sa = sys.getsizeof(a)/1024\n",
    "print(f'ekleme:{ta1:.6f}, arama:{ta2:.6f}, çıkartma:{ta3:.6f}')"
   ]
  },
  {
   "cell_type": "markdown",
   "metadata": {},
   "source": [
    "### tuple"
   ]
  },
  {
   "cell_type": "code",
   "execution_count": null,
   "metadata": {
    "ExecuteTime": {
     "end_time": "2022-12-06T08:56:37.998527Z",
     "start_time": "2022-12-06T08:56:37.943176Z"
    }
   },
   "outputs": [],
   "source": [
    "import time \n",
    "t = tuple()\n",
    "t1 = time.time()\n",
    "for i in range(l1):\n",
    "    t = t +(i,)\n",
    "t2 = time.time()\n",
    "for i in range(l1):\n",
    "    t.index(i)\n",
    "t3 = time.time()\n",
    "for i in range(l2):\n",
    "    t = tuple(tt for tt in t if tt!=1)\n",
    "t4 = time.time()\n",
    "\n",
    "tt1 = t2-t1\n",
    "tt2 = t3-t2\n",
    "tt3 = t4-t3\n",
    "st = sys.getsizeof(t)/1024\n",
    "print(f'ekleme:{tt1:.6f}, arama:{tt2:.6f}, çıkartma:{tt3:.6f}')"
   ]
  },
  {
   "cell_type": "markdown",
   "metadata": {},
   "source": [
    "### set"
   ]
  },
  {
   "cell_type": "code",
   "execution_count": null,
   "metadata": {
    "ExecuteTime": {
     "end_time": "2022-12-06T08:56:39.810354Z",
     "start_time": "2022-12-06T08:56:39.805330Z"
    }
   },
   "outputs": [],
   "source": [
    "import time \n",
    "s = set()\n",
    "t1 = time.time()\n",
    "for i in range(l1):\n",
    "    s.add(i)\n",
    "t2 = time.time()\n",
    "for i in range(l1):\n",
    "    bul = i in s\n",
    "t3 = time.time()\n",
    "for i in range(l2):\n",
    "    s.remove(i)\n",
    "t4 = time.time()\n",
    "\n",
    "ts1 = t2-t1\n",
    "ts2 = t3-t2\n",
    "ts3 = t4-t3\n",
    "ss = sys.getsizeof(s)/1024\n",
    "print(f'ekleme:{ts1:.6f}, arama:{ts2:.6f}, çıkartma:{ts3:.6f}')"
   ]
  },
  {
   "cell_type": "markdown",
   "metadata": {},
   "source": [
    "### dict"
   ]
  },
  {
   "cell_type": "code",
   "execution_count": null,
   "metadata": {
    "ExecuteTime": {
     "end_time": "2022-12-06T08:56:41.694298Z",
     "start_time": "2022-12-06T08:56:41.688972Z"
    }
   },
   "outputs": [],
   "source": [
    "import time \n",
    "d = dict()\n",
    "t1 = time.time()\n",
    "for i in range(l1):\n",
    "    d[i] = i\n",
    "t2 = time.time()\n",
    "for i in range(l1):\n",
    "    bul = i in d.keys()\n",
    "t3 = time.time()\n",
    "for i in range(l2):\n",
    "    d.pop(i)\n",
    "t4 = time.time()\n",
    "\n",
    "td1 = t2-t1\n",
    "td2 = t3-t2\n",
    "td3 = t4-t3\n",
    "sd = sys.getsizeof(d)/1024\n",
    "print(f'ekleme:{td1:.6f}, arama:{td2:.6f}, çıkartma:{td3:.6f}')"
   ]
  },
  {
   "cell_type": "markdown",
   "metadata": {},
   "source": [
    "### Karşılaştırma"
   ]
  },
  {
   "cell_type": "code",
   "execution_count": null,
   "metadata": {
    "ExecuteTime": {
     "end_time": "2022-12-06T08:56:44.574051Z",
     "start_time": "2022-12-06T08:56:43.822159Z"
    }
   },
   "outputs": [],
   "source": [
    "import matplotlib.pyplot as plt\n",
    "fig, ax = plt.subplots(nrows=1, ncols=4, figsize=(20,4))\n",
    "ax[0].barh(y=['list','tuple','set','dict'], width=[ta1, tt1, ts1 ,td1], height=0.5, log=True)\n",
    "ax[0].set_title('Ekleme')\n",
    "ax[1].barh(y=['list','tuple','set','dict'], width=[ta2, tt2, ts2, td2], height=0.5, log=True)\n",
    "ax[1].set_title('Arama')\n",
    "ax[2].barh(y=['list','tuple','set','dict'], width=[ta3, tt3, ts3, td3], height=0.5, log=True)\n",
    "ax[2].set_title('Çıkartma')\n",
    "ax[3].barh(y=['list','tuple','set','dict'], width=[sa , st , ss , sd], height=0.5, color='C1' )\n",
    "ax[3].set_title('Boyut (KB)')\n",
    "[a.spines[s].set_visible(False) for s in ('left','top','right') for a in ax]\n",
    "[a.grid(True, axis='y') for a in ax]\n",
    "plt.show()\n"
   ]
  },
  {
   "attachments": {
    "image.png": {
     "image/png": "[encoded data removed]"
    }
   },
   "cell_type": "markdown",
   "metadata": {},
   "source": [
    "l1 = 10000\n",
    "![image.png](attachment:image.png)"
   ]
  },
  {
   "attachments": {
    "image.png": {
     "image/png": "[encoded data removed]"
    }
   },
   "cell_type": "markdown",
   "metadata": {},
   "source": [
    "l1=50000\n",
    "![image.png](attachment:image.png)"
   ]
  },
  {
   "attachments": {
    "image.png": {
     "image/png": "[encoded data removed]"
    }
   },
   "cell_type": "markdown",
   "metadata": {},
   "source": [
    "l1=100000\n",
    "![image.png](attachment:image.png)"
   ]
  },
  {
   "cell_type": "markdown",
   "metadata": {
    "id": "8vojMtCoyw13"
   },
   "source": [
    "## Liste içindeki elemanlara ulaşma"
   ]
  },
  {
   "cell_type": "code",
   "execution_count": null,
   "metadata": {
    "ExecuteTime": {
     "end_time": "2022-11-15T09:15:05.370960Z",
     "start_time": "2022-11-15T09:15:05.367685Z"
    },
    "colab": {
     "base_uri": "https://localhost:8080/"
    },
    "executionInfo": {
     "elapsed": 2,
     "status": "ok",
     "timestamp": 1652737403670,
     "user": {
      "displayName": "Alper Aydın",
      "userId": "16424421511940582464"
     },
     "user_tz": -180
    },
    "id": "CV7Y_HcrzsQf",
    "outputId": "6c38bfad-9f54-4e22-bd0a-c66c10b4aa34"
   },
   "outputs": [],
   "source": [
    "x = ['a','b','c',1,2,3]\n",
    "print(x[0])\n",
    "print(x[1])\n",
    "print(x[-2:])"
   ]
  },
  {
   "cell_type": "markdown",
   "metadata": {
    "id": "r235Nlf-0j7_"
   },
   "source": [
    "## Liste elemanlarının değerini değiştirme"
   ]
  },
  {
   "cell_type": "code",
   "execution_count": null,
   "metadata": {
    "ExecuteTime": {
     "end_time": "2022-11-15T09:15:26.084921Z",
     "start_time": "2022-11-15T09:15:26.081600Z"
    },
    "colab": {
     "base_uri": "https://localhost:8080/"
    },
    "executionInfo": {
     "elapsed": 1,
     "status": "ok",
     "timestamp": 1652737404086,
     "user": {
      "displayName": "Alper Aydın",
      "userId": "16424421511940582464"
     },
     "user_tz": -180
    },
    "id": "4jBTTdtK0m2s",
    "outputId": "9e19647d-da0a-4634-de1c-d2b11e35b8eb"
   },
   "outputs": [],
   "source": [
    "x = ['a','b','c',1,2,3]\n",
    "print(id(x))\n",
    "x[0] = 999\n",
    "print(id(x))\n",
    "print(x)"
   ]
  },
  {
   "cell_type": "markdown",
   "metadata": {
    "id": "MNECo88L0uWY"
   },
   "source": [
    "## Yeni eleman ekleme"
   ]
  },
  {
   "cell_type": "code",
   "execution_count": null,
   "metadata": {
    "ExecuteTime": {
     "end_time": "2022-12-06T09:01:45.383043Z",
     "start_time": "2022-12-06T09:01:45.379927Z"
    },
    "colab": {
     "base_uri": "https://localhost:8080/"
    },
    "executionInfo": {
     "elapsed": 305,
     "status": "ok",
     "timestamp": 1652737405931,
     "user": {
      "displayName": "Alper Aydın",
      "userId": "16424421511940582464"
     },
     "user_tz": -180
    },
    "id": "4Pq_3tiZ0wcS",
    "outputId": "b4c2dd88-3727-41c3-cdbf-19ea553f16c7"
   },
   "outputs": [],
   "source": [
    "x.append(888)\n",
    "print(x)"
   ]
  },
  {
   "cell_type": "code",
   "execution_count": null,
   "metadata": {
    "ExecuteTime": {
     "end_time": "2022-11-15T09:17:50.026216Z",
     "start_time": "2022-11-15T09:17:50.023622Z"
    },
    "colab": {
     "base_uri": "https://localhost:8080/"
    },
    "executionInfo": {
     "elapsed": 287,
     "status": "ok",
     "timestamp": 1652737426297,
     "user": {
      "displayName": "Alper Aydın",
      "userId": "16424421511940582464"
     },
     "user_tz": -180
    },
    "id": "OReXOgTN0y7F",
    "outputId": "a23f7a82-2df6-4eaa-b62f-a15c8310d81f"
   },
   "outputs": [],
   "source": [
    "x = x + ['777']\n",
    "print(x)"
   ]
  },
  {
   "cell_type": "code",
   "execution_count": null,
   "metadata": {
    "ExecuteTime": {
     "end_time": "2022-11-15T09:18:25.625273Z",
     "start_time": "2022-11-15T09:18:25.622377Z"
    }
   },
   "outputs": [],
   "source": [
    "x.insert(2, 222)\n",
    "print(x)\n",
    "x.insert(0, 111)\n",
    "print(x)"
   ]
  },
  {
   "cell_type": "markdown",
   "metadata": {
    "id": "iyVlRPQj1AJh"
   },
   "source": [
    "## Eleman çıkartma"
   ]
  },
  {
   "cell_type": "code",
   "execution_count": null,
   "metadata": {
    "ExecuteTime": {
     "end_time": "2022-11-15T09:18:57.819137Z",
     "start_time": "2022-11-15T09:18:57.815880Z"
    },
    "colab": {
     "base_uri": "https://localhost:8080/"
    },
    "executionInfo": {
     "elapsed": 262,
     "status": "ok",
     "timestamp": 1652737466720,
     "user": {
      "displayName": "Alper Aydın",
      "userId": "16424421511940582464"
     },
     "user_tz": -180
    },
    "id": "Vcg58jep1B9q",
    "outputId": "fff94119-124c-4819-cf32-cf1cedcf090b"
   },
   "outputs": [],
   "source": [
    "x = ['a','b','c',1,2,3,'b']\n",
    "print(id(x))\n",
    "x.remove('b') # Removes first occurrence of value.\n",
    "print(id(x))\n",
    "print(x)"
   ]
  },
  {
   "cell_type": "markdown",
   "metadata": {
    "id": "dQl0ym3y1G2G"
   },
   "source": [
    "## Sıralama"
   ]
  },
  {
   "cell_type": "code",
   "execution_count": null,
   "metadata": {
    "ExecuteTime": {
     "end_time": "2022-12-06T09:05:54.017241Z",
     "start_time": "2022-12-06T09:05:54.013982Z"
    },
    "colab": {
     "base_uri": "https://localhost:8080/"
    },
    "executionInfo": {
     "elapsed": 455,
     "status": "ok",
     "timestamp": 1652737628464,
     "user": {
      "displayName": "Alper Aydın",
      "userId": "16424421511940582464"
     },
     "user_tz": -180
    },
    "id": "ldej3uPV1KTs",
    "outputId": "a15b4dbb-46a7-4ade-c0a6-49524ab7c688"
   },
   "outputs": [],
   "source": [
    "x = [1,9,2,8,3,7,4,6,5]\n",
    "x.sort()\n",
    "print(x)"
   ]
  },
  {
   "cell_type": "code",
   "execution_count": null,
   "metadata": {
    "ExecuteTime": {
     "end_time": "2022-12-06T09:05:54.460222Z",
     "start_time": "2022-12-06T09:05:54.457420Z"
    },
    "colab": {
     "base_uri": "https://localhost:8080/"
    },
    "executionInfo": {
     "elapsed": 278,
     "status": "ok",
     "timestamp": 1652737655707,
     "user": {
      "displayName": "Alper Aydın",
      "userId": "16424421511940582464"
     },
     "user_tz": -180
    },
    "id": "HDFPOfK11uyO",
    "outputId": "d07e34f9-6824-40b1-a4a5-0c79505c168e"
   },
   "outputs": [],
   "source": [
    "x = [1,9,2,8,3,7,4,6,5]\n",
    "x.sort(reverse=True)\n",
    "print(x)"
   ]
  },
  {
   "cell_type": "code",
   "execution_count": null,
   "metadata": {
    "ExecuteTime": {
     "end_time": "2022-11-15T09:21:50.827656Z",
     "start_time": "2022-11-15T09:21:50.824842Z"
    },
    "colab": {
     "base_uri": "https://localhost:8080/"
    },
    "executionInfo": {
     "elapsed": 267,
     "status": "ok",
     "timestamp": 1652737665231,
     "user": {
      "displayName": "Alper Aydın",
      "userId": "16424421511940582464"
     },
     "user_tz": -180
    },
    "id": "qT75fkya10EA",
    "outputId": "3bf54280-e240-4821-d88a-68d30a4ead8f"
   },
   "outputs": [],
   "source": [
    "x = [1,9,2,8,3,7,4,6,5]\n",
    "x.reverse()\n",
    "print(x)"
   ]
  },
  {
   "cell_type": "markdown",
   "metadata": {},
   "source": [
    "**reverse komutu kısa yolu**"
   ]
  },
  {
   "cell_type": "code",
   "execution_count": null,
   "metadata": {
    "ExecuteTime": {
     "end_time": "2022-11-15T09:23:24.106832Z",
     "start_time": "2022-11-15T09:23:24.103800Z"
    },
    "colab": {
     "base_uri": "https://localhost:8080/"
    },
    "executionInfo": {
     "elapsed": 255,
     "status": "ok",
     "timestamp": 1652737684074,
     "user": {
      "displayName": "Alper Aydın",
      "userId": "16424421511940582464"
     },
     "user_tz": -180
    },
    "id": "PqfJS5_C14xq",
    "outputId": "8df8321c-8c51-46c3-9a19-8f48525baf64"
   },
   "outputs": [],
   "source": [
    "x = [1,9,2,8,3,7,4,6,5]\n",
    "print(x[::-1])"
   ]
  },
  {
   "cell_type": "code",
   "execution_count": null,
   "metadata": {
    "ExecuteTime": {
     "end_time": "2022-11-15T09:23:48.729869Z",
     "start_time": "2022-11-15T09:23:48.727196Z"
    }
   },
   "outputs": [],
   "source": [
    "print(x[1:5][::-1])"
   ]
  },
  {
   "cell_type": "markdown",
   "metadata": {},
   "source": [
    "**slice adım atlayarak seçme**"
   ]
  },
  {
   "cell_type": "code",
   "execution_count": null,
   "metadata": {
    "ExecuteTime": {
     "end_time": "2022-11-15T09:26:20.622192Z",
     "start_time": "2022-11-15T09:26:20.619280Z"
    }
   },
   "outputs": [],
   "source": [
    "x = [1,9,2,8,3,7,4,6,5]\n",
    "print(x[::-2])"
   ]
  },
  {
   "cell_type": "code",
   "execution_count": null,
   "metadata": {
    "ExecuteTime": {
     "end_time": "2022-11-15T09:26:36.451330Z",
     "start_time": "2022-11-15T09:26:36.447972Z"
    }
   },
   "outputs": [],
   "source": [
    "x = [1,2,3,4,5,6,7,8,9,10]\n",
    "x[0:10:3]"
   ]
  },
  {
   "cell_type": "code",
   "execution_count": null,
   "metadata": {
    "ExecuteTime": {
     "end_time": "2022-11-15T09:26:44.186871Z",
     "start_time": "2022-11-15T09:26:44.183856Z"
    }
   },
   "outputs": [],
   "source": [
    "x[1:10:3]"
   ]
  },
  {
   "cell_type": "markdown",
   "metadata": {},
   "source": [
    "## Filtreleme"
   ]
  },
  {
   "cell_type": "code",
   "execution_count": null,
   "metadata": {
    "ExecuteTime": {
     "end_time": "2022-11-15T09:27:44.740522Z",
     "start_time": "2022-11-15T09:27:44.738141Z"
    }
   },
   "outputs": [],
   "source": [
    "a = [1,9,2,8,3,7,4,6,5]"
   ]
  },
  {
   "cell_type": "code",
   "execution_count": null,
   "metadata": {
    "ExecuteTime": {
     "end_time": "2022-11-15T09:27:59.134230Z",
     "start_time": "2022-11-15T09:27:59.130581Z"
    }
   },
   "outputs": [],
   "source": [
    "key = [True,True,False,True,False,False,False,False,False]\n",
    "key"
   ]
  },
  {
   "cell_type": "code",
   "execution_count": null,
   "metadata": {
    "ExecuteTime": {
     "end_time": "2022-11-15T09:28:05.408321Z",
     "start_time": "2022-11-15T09:28:05.405156Z"
    }
   },
   "outputs": [],
   "source": [
    "list(filter(lambda x: x>5, a))"
   ]
  },
  {
   "cell_type": "markdown",
   "metadata": {},
   "source": [
    "<div class=\"alert alert-box alert-warning\" style=\"font-size:12pt; padding:15px; line-height:150%;\">\n",
    "    lambda fonksiyonlarını ilerleyen derslerde detayı olarak inceleyeceğiz.\n",
    "</div>"
   ]
  },
  {
   "cell_type": "markdown",
   "metadata": {
    "id": "7Mc4b2m12mbr"
   },
   "source": [
    "## Liste Kopyalama"
   ]
  },
  {
   "cell_type": "code",
   "execution_count": null,
   "metadata": {
    "ExecuteTime": {
     "end_time": "2022-12-06T09:15:04.196599Z",
     "start_time": "2022-12-06T09:15:04.193086Z"
    },
    "executionInfo": {
     "elapsed": 4,
     "status": "ok",
     "timestamp": 1652737885233,
     "user": {
      "displayName": "Alper Aydın",
      "userId": "16424421511940582464"
     },
     "user_tz": -180
    },
    "id": "3MU6ueJ82oK3"
   },
   "outputs": [],
   "source": [
    "x = [1,2,3]\n",
    "y = x\n",
    "print('x:', x)\n",
    "print('y:', y)"
   ]
  },
  {
   "cell_type": "code",
   "execution_count": null,
   "metadata": {
    "ExecuteTime": {
     "end_time": "2022-12-06T09:15:30.175002Z",
     "start_time": "2022-12-06T09:15:30.171653Z"
    },
    "colab": {
     "base_uri": "https://localhost:8080/"
    },
    "executionInfo": {
     "elapsed": 406,
     "status": "ok",
     "timestamp": 1652737918252,
     "user": {
      "displayName": "Alper Aydın",
      "userId": "16424421511940582464"
     },
     "user_tz": -180
    },
    "id": "8PEMPkvt2uU2",
    "outputId": "829f2439-5baa-45b4-e667-3962f9303b35"
   },
   "outputs": [],
   "source": [
    "x[0] = 9\n",
    "print(x)\n",
    "print(y)"
   ]
  },
  {
   "cell_type": "code",
   "execution_count": null,
   "metadata": {
    "ExecuteTime": {
     "end_time": "2022-11-15T11:02:01.099235Z",
     "start_time": "2022-11-15T11:02:01.096588Z"
    }
   },
   "outputs": [],
   "source": [
    "print(id(x))\n",
    "print(id(y))"
   ]
  },
  {
   "cell_type": "markdown",
   "metadata": {},
   "source": [
    "<div class=\"alert alert-box alert-warning\" style=\"font-size:12pt; padding:15px; line-height:150%;\">\n",
    "    Yukarıdaki işlemde referans olarak atama işlemi yapıldığı için x ve y memory'de aynı veri alanını temsil etmektedirler. Bu sebeple bir değişkende yapılan değişiklik diğer değişkeni de etkilemektedir.\n",
    "</div>"
   ]
  },
  {
   "cell_type": "markdown",
   "metadata": {},
   "source": [
    "<div class=\"alert alert-box alert-info\" style=\"font-size:12pt; padding:15px; line-height:150%;\">\n",
    "    Bu durumdan korunmak için <pre style='display:inline'>copy()</pre> komutu ile kopyalama yapabiliriz\n",
    "</div>"
   ]
  },
  {
   "cell_type": "code",
   "execution_count": null,
   "metadata": {
    "ExecuteTime": {
     "end_time": "2022-12-06T09:16:43.455057Z",
     "start_time": "2022-12-06T09:16:43.452101Z"
    },
    "executionInfo": {
     "elapsed": 270,
     "status": "ok",
     "timestamp": 1652737975651,
     "user": {
      "displayName": "Alper Aydın",
      "userId": "16424421511940582464"
     },
     "user_tz": -180
    },
    "id": "rTIj_cL720AT"
   },
   "outputs": [],
   "source": [
    "x = [1,2,3]\n",
    "y = x.copy()"
   ]
  },
  {
   "cell_type": "code",
   "execution_count": null,
   "metadata": {
    "ExecuteTime": {
     "end_time": "2022-12-06T09:16:43.906290Z",
     "start_time": "2022-12-06T09:16:43.903608Z"
    },
    "colab": {
     "base_uri": "https://localhost:8080/"
    },
    "executionInfo": {
     "elapsed": 370,
     "status": "ok",
     "timestamp": 1652737996184,
     "user": {
      "displayName": "Alper Aydın",
      "userId": "16424421511940582464"
     },
     "user_tz": -180
    },
    "id": "zojgzpXD3CLX",
    "outputId": "69d8d303-f2b5-4e1e-d6a8-62f5c4cfc6f4"
   },
   "outputs": [],
   "source": [
    "print(x)\n",
    "print(y)"
   ]
  },
  {
   "cell_type": "code",
   "execution_count": null,
   "metadata": {
    "ExecuteTime": {
     "end_time": "2022-12-06T09:16:44.412860Z",
     "start_time": "2022-12-06T09:16:44.409201Z"
    }
   },
   "outputs": [],
   "source": [
    "print(id(x))\n",
    "print(id(y))"
   ]
  },
  {
   "cell_type": "code",
   "execution_count": null,
   "metadata": {
    "ExecuteTime": {
     "end_time": "2022-12-06T09:16:53.489547Z",
     "start_time": "2022-12-06T09:16:53.486652Z"
    },
    "colab": {
     "base_uri": "https://localhost:8080/"
    },
    "executionInfo": {
     "elapsed": 272,
     "status": "ok",
     "timestamp": 1652738001373,
     "user": {
      "displayName": "Alper Aydın",
      "userId": "16424421511940582464"
     },
     "user_tz": -180
    },
    "id": "KldfNk7-3HKa",
    "outputId": "9dac8629-04ff-4bd7-b0cd-7698f82ee038"
   },
   "outputs": [],
   "source": [
    "x[0] = 9\n",
    "print(x)\n",
    "print(y)"
   ]
  },
  {
   "cell_type": "code",
   "execution_count": null,
   "metadata": {
    "ExecuteTime": {
     "end_time": "2022-12-06T09:20:04.474853Z",
     "start_time": "2022-12-06T09:20:04.469524Z"
    }
   },
   "outputs": [],
   "source": [
    "x = [1,2,3]\n",
    "print(id(x))\n",
    "y = x * 2  # çarpma işlemi sonucunda yeni değişken ortaya çıkıyor\n",
    "print(id(y))\n",
    "x[0] = 9\n",
    "print(x)\n",
    "print(y)"
   ]
  },
  {
   "cell_type": "markdown",
   "metadata": {},
   "source": [
    "**değişkenlerin memory adresi**"
   ]
  },
  {
   "cell_type": "code",
   "execution_count": null,
   "metadata": {
    "ExecuteTime": {
     "end_time": "2022-12-06T09:18:21.890995Z",
     "start_time": "2022-12-06T09:18:21.886529Z"
    }
   },
   "outputs": [],
   "source": [
    "print(id(x), hex(id(x)))\n",
    "y = x * 2\n",
    "print(id(y), hex(id(y)))"
   ]
  },
  {
   "cell_type": "code",
   "execution_count": null,
   "metadata": {
    "ExecuteTime": {
     "end_time": "2022-12-06T09:18:22.648299Z",
     "start_time": "2022-12-06T09:18:22.644919Z"
    }
   },
   "outputs": [],
   "source": [
    "print(type(x))"
   ]
  },
  {
   "cell_type": "markdown",
   "metadata": {},
   "source": [
    "## Quiz"
   ]
  },
  {
   "cell_type": "code",
   "execution_count": null,
   "metadata": {
    "ExecuteTime": {
     "end_time": "2022-12-06T10:50:03.607476Z",
     "start_time": "2022-12-06T10:47:15.423152Z"
    }
   },
   "outputs": [],
   "source": [
    "log.Quiz()"
   ]
  },
  {
   "cell_type": "code",
   "execution_count": null,
   "metadata": {},
   "outputs": [],
   "source": []
  }
 ],
 "metadata": {
  "kernelspec": {
   "display_name": "Python 3",
   "language": "python",
   "name": "python3"
  },
  "language_info": {
   "codemirror_mode": {
    "name": "ipython",
    "version": 3
   },
   "file_extension": ".py",
   "mimetype": "text/x-python",
   "name": "python",
   "nbconvert_exporter": "python",
   "pygments_lexer": "ipython3",
   "version": "3.7.6"
  },
  "toc": {
   "base_numbering": 1,
   "nav_menu": {},
   "number_sections": true,
   "sideBar": true,
   "skip_h1_title": false,
   "title_cell": "Table of Contents",
   "title_sidebar": "Contents",
   "toc_cell": false,
   "toc_position": {},
   "toc_section_display": true,
   "toc_window_display": true
  },
  "varInspector": {
   "cols": {
    "lenName": 16,
    "lenType": 16,
    "lenVar": 40
   },
   "kernels_config": {
    "python": {
     "delete_cmd_postfix": "",
     "delete_cmd_prefix": "del ",
     "library": "var_list.py",
     "varRefreshCmd": "print(var_dic_list())"
    },
    "r": {
     "delete_cmd_postfix": ") ",
     "delete_cmd_prefix": "rm(",
     "library": "var_list.r",
     "varRefreshCmd": "cat(var_dic_list()) "
    }
   },
   "types_to_exclude": [
    "module",
    "function",
    "builtin_function_or_method",
    "instance",
    "_Feature"
   ],
   "window_display": true
  }
 },
 "nbformat": 4,
 "nbformat_minor": 4
}
