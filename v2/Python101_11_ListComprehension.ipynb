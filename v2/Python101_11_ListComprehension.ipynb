{
 "cells": [
  {
   "cell_type": "code",
   "execution_count": null,
   "metadata": {
    "ExecuteTime": {
     "end_time": "2022-09-13T06:58:14.121432Z",
     "start_time": "2022-09-13T06:58:14.118437Z"
    }
   },
   "outputs": [],
   "source": [
    "import sys\n",
    "sys.path.append('/data/ECS/PythonTutorial/')\n",
    "import log\n",
    "log.topic_id = '11_ListComprehension'"
   ]
  },
  {
   "cell_type": "markdown",
   "metadata": {},
   "source": [
    "<div class=\"alert alert-box\" style=\"font-size:12pt; padding:15px; line-height:150%; background-color:#33bbcc66; \">\n",
    "    Bu dersin amacı;\n",
    "    <li>List Comprehension kavramı hakkında bilgi sahibi olunması</li>\n",
    "    <li>Örnek uygulamar ile list comprehension yetkinliğinin kazanılması</li>\n",
    "</div>"
   ]
  },
  {
   "cell_type": "markdown",
   "metadata": {
    "id": "YYipe-E347XY"
   },
   "source": [
    "# List Comprehension"
   ]
  },
  {
   "cell_type": "markdown",
   "metadata": {},
   "source": [
    "## Liste Oluşturma"
   ]
  },
  {
   "cell_type": "markdown",
   "metadata": {},
   "source": [
    "<div class=\"alert alert-box alert-info\" style=\"font-size:12pt; padding:15px; line-height:150%;\">\n",
    "    <li>List comprehension liste oluşturmak için kullanılan bir yöntemdir</li>\n",
    "    <li>Sadece liste oluşturmak için değil, listeler üzerinde işlem yapmak için de kullanılırlar</li>\n",
    "    <li>Özellikle veri analizi işlemlerinde tek satırda yazılabilmesi döngülere kıyasla kullanım avantajı sağlamaktadır.</li>\n",
    "</div>"
   ]
  },
  {
   "cell_type": "code",
   "execution_count": null,
   "metadata": {
    "ExecuteTime": {
     "end_time": "2022-12-12T06:43:43.793785Z",
     "start_time": "2022-12-12T06:43:43.791007Z"
    },
    "colab": {
     "base_uri": "https://localhost:8080/"
    },
    "executionInfo": {
     "elapsed": 7,
     "status": "ok",
     "timestamp": 1652812333505,
     "user": {
      "displayName": "Alper Aydın",
      "userId": "16424421511940582464"
     },
     "user_tz": -180
    },
    "id": "0_cyBgKpSW3N",
    "outputId": "6a97a581-2b6f-4a81-87aa-485dc9f1d003"
   },
   "outputs": [],
   "source": [
    "x = [0, 1, 2]\n",
    "print(x)"
   ]
  },
  {
   "cell_type": "code",
   "execution_count": null,
   "metadata": {
    "ExecuteTime": {
     "end_time": "2022-12-12T06:45:19.822027Z",
     "start_time": "2022-12-12T06:45:19.818888Z"
    },
    "colab": {
     "base_uri": "https://localhost:8080/"
    },
    "executionInfo": {
     "elapsed": 283,
     "status": "ok",
     "timestamp": 1652815061425,
     "user": {
      "displayName": "Alper Aydın",
      "userId": "16424421511940582464"
     },
     "user_tz": -180
    },
    "id": "x94YhzhwSgdE",
    "outputId": "ce1177da-2e0d-4b0a-9c4e-8b304ff64975"
   },
   "outputs": [],
   "source": [
    "x = [i for i in range(100)]\n",
    "print(x)\n",
    "print(type(x))"
   ]
  },
  {
   "cell_type": "markdown",
   "metadata": {},
   "source": [
    "## Tuple ve Set oluşturma"
   ]
  },
  {
   "cell_type": "markdown",
   "metadata": {
    "id": "CFSVun5t4-BM"
   },
   "source": [
    "Sadece liste değil diğer collection türleri için de gerçerlidir"
   ]
  },
  {
   "cell_type": "code",
   "execution_count": null,
   "metadata": {
    "ExecuteTime": {
     "end_time": "2022-12-12T06:46:42.721667Z",
     "start_time": "2022-12-12T06:46:42.718598Z"
    },
    "colab": {
     "base_uri": "https://localhost:8080/"
    },
    "executionInfo": {
     "elapsed": 391,
     "status": "ok",
     "timestamp": 1652815029563,
     "user": {
      "displayName": "Alper Aydın",
      "userId": "16424421511940582464"
     },
     "user_tz": -180
    },
    "id": "8SkAsHWFcj1X",
    "outputId": "23b1251a-f360-4ffe-f8e0-cef91aa06f67"
   },
   "outputs": [],
   "source": [
    "x = tuple(i for i in range(100)) # list comprehension ile tuple \n",
    "print(x)\n",
    "print(type(x))"
   ]
  },
  {
   "cell_type": "code",
   "execution_count": null,
   "metadata": {
    "ExecuteTime": {
     "end_time": "2022-12-12T06:46:49.050675Z",
     "start_time": "2022-12-12T06:46:49.047529Z"
    },
    "colab": {
     "base_uri": "https://localhost:8080/"
    },
    "executionInfo": {
     "elapsed": 7,
     "status": "ok",
     "timestamp": 1652815039084,
     "user": {
      "displayName": "Alper Aydın",
      "userId": "16424421511940582464"
     },
     "user_tz": -180
    },
    "id": "SbKbczmMcrJx",
    "outputId": "df1e13ac-22f7-49b7-e212-5a79c636c147"
   },
   "outputs": [],
   "source": [
    "x = {i for i in range(100)} # list comprehension ile set\n",
    "print(x)\n",
    "print(type(x))"
   ]
  },
  {
   "cell_type": "markdown",
   "metadata": {},
   "source": [
    "## Koşul kullanımı"
   ]
  },
  {
   "cell_type": "markdown",
   "metadata": {},
   "source": [
    "### Lise oluştururken koşul kullanımı"
   ]
  },
  {
   "cell_type": "code",
   "execution_count": null,
   "metadata": {
    "ExecuteTime": {
     "end_time": "2022-12-12T06:48:16.492192Z",
     "start_time": "2022-12-12T06:48:16.484288Z"
    }
   },
   "outputs": [],
   "source": [
    "x = (1,2,3,4,5)\n",
    "a = [i \n",
    "     for i in x\n",
    "     if i>3\n",
    "    ]\n",
    "a"
   ]
  },
  {
   "cell_type": "code",
   "execution_count": null,
   "metadata": {
    "ExecuteTime": {
     "end_time": "2022-12-12T06:48:42.152019Z",
     "start_time": "2022-12-12T06:48:42.148740Z"
    }
   },
   "outputs": [],
   "source": [
    "a = [i for i in x if i>3]\n",
    "a"
   ]
  },
  {
   "cell_type": "markdown",
   "metadata": {},
   "source": [
    "### Elemanlara koşul uygulama"
   ]
  },
  {
   "cell_type": "code",
   "execution_count": null,
   "metadata": {
    "ExecuteTime": {
     "end_time": "2022-12-12T06:49:50.336403Z",
     "start_time": "2022-12-12T06:49:50.332710Z"
    }
   },
   "outputs": [],
   "source": [
    "x = (1,2,3,4,5)\n",
    "a = [i if i<3 else i**2 \n",
    "     for i in x\n",
    "    ]\n",
    "a"
   ]
  },
  {
   "cell_type": "code",
   "execution_count": null,
   "metadata": {
    "ExecuteTime": {
     "end_time": "2022-12-12T06:52:48.963267Z",
     "start_time": "2022-12-12T06:52:48.959931Z"
    }
   },
   "outputs": [],
   "source": [
    "iskollari = ['K','TA','SA','SB','SC','BB','BA']\n",
    "a = ['Kitle' if i=='BB' else 'Bireysel'  \n",
    "     for i in iskollari \n",
    "     if i in ('BA','BB')]\n",
    "print(a)"
   ]
  },
  {
   "cell_type": "markdown",
   "metadata": {},
   "source": [
    "## Birden fazla elemandan oluşan liste elemanları"
   ]
  },
  {
   "cell_type": "code",
   "execution_count": null,
   "metadata": {
    "ExecuteTime": {
     "end_time": "2022-12-12T06:53:25.674743Z",
     "start_time": "2022-12-12T06:53:25.670872Z"
    }
   },
   "outputs": [],
   "source": [
    "x = (1,2,3,4,5)\n",
    "\n",
    "a = [ [i,i*2,i*3]\n",
    "     for i in x \n",
    "     if i>0]\n",
    "a"
   ]
  },
  {
   "cell_type": "code",
   "execution_count": null,
   "metadata": {
    "ExecuteTime": {
     "end_time": "2022-12-12T06:54:31.027024Z",
     "start_time": "2022-12-12T06:54:31.023217Z"
    }
   },
   "outputs": [],
   "source": [
    "subeler = ['Antalya','İzmir','Kadıköy','Ataşehir','Maltepe']\n",
    "[\n",
    "    (sube_adi, len(sube_adi)) \n",
    "     for sube_adi in subeler\n",
    "]"
   ]
  },
  {
   "cell_type": "markdown",
   "metadata": {
    "id": "WLcPkKsbdJs2"
   },
   "source": [
    "## Sözlük için durum biraz daha farklı"
   ]
  },
  {
   "cell_type": "code",
   "execution_count": null,
   "metadata": {
    "ExecuteTime": {
     "end_time": "2022-12-12T06:55:32.675032Z",
     "start_time": "2022-12-12T06:55:32.671728Z"
    }
   },
   "outputs": [],
   "source": [
    "[sube_adi for sube_adi in subeler]"
   ]
  },
  {
   "cell_type": "code",
   "execution_count": null,
   "metadata": {
    "ExecuteTime": {
     "end_time": "2022-09-13T07:13:03.045961Z",
     "start_time": "2022-09-13T07:13:03.042938Z"
    }
   },
   "outputs": [],
   "source": [
    "{'A':1,\n",
    " 'B':2,\n",
    " 'C':3\n",
    "}"
   ]
  },
  {
   "cell_type": "code",
   "execution_count": null,
   "metadata": {
    "ExecuteTime": {
     "end_time": "2022-12-12T06:57:33.045335Z",
     "start_time": "2022-12-12T06:57:33.042229Z"
    }
   },
   "outputs": [],
   "source": [
    "subeler = ['Antalya','İzmir','Kadıköy','Ataşehir','Maltepe']\n",
    "d = { \n",
    "     sube_adi: len(sube_adi)\n",
    "     for sube_adi in subeler\n",
    "}\n",
    "print(d)"
   ]
  },
  {
   "cell_type": "markdown",
   "metadata": {},
   "source": [
    "## Çok Elemanlı listeler ile list comprehension"
   ]
  },
  {
   "cell_type": "code",
   "execution_count": null,
   "metadata": {
    "ExecuteTime": {
     "end_time": "2022-12-12T06:58:18.307619Z",
     "start_time": "2022-12-12T06:58:18.304667Z"
    },
    "colab": {
     "base_uri": "https://localhost:8080/"
    },
    "executionInfo": {
     "elapsed": 423,
     "status": "ok",
     "timestamp": 1652815213668,
     "user": {
      "displayName": "Alper Aydın",
      "userId": "16424421511940582464"
     },
     "user_tz": -180
    },
    "id": "YZ03zFRkddHK",
    "outputId": "a6e05fdc-3120-4844-95fc-54e60cfeb7df"
   },
   "outputs": [],
   "source": [
    "# önce iç içe list oluşturuyoruz, listenin her elemanı bir liste olacak şekilde\n",
    "liste = [\n",
    "         ['a',1],\n",
    "         ['b',2],\n",
    "         ['c',3]\n",
    "]\n",
    "print(liste)"
   ]
  },
  {
   "cell_type": "markdown",
   "metadata": {},
   "source": [
    "**unpacking hatırlatma**"
   ]
  },
  {
   "cell_type": "code",
   "execution_count": null,
   "metadata": {
    "ExecuteTime": {
     "end_time": "2022-12-12T06:58:41.266966Z",
     "start_time": "2022-12-12T06:58:41.264070Z"
    }
   },
   "outputs": [],
   "source": [
    "a, b = [1,2]\n",
    "print(a)\n",
    "print(b)"
   ]
  },
  {
   "cell_type": "code",
   "execution_count": null,
   "metadata": {
    "ExecuteTime": {
     "end_time": "2022-12-12T06:59:49.562885Z",
     "start_time": "2022-12-12T06:59:49.560032Z"
    },
    "colab": {
     "base_uri": "https://localhost:8080/"
    },
    "executionInfo": {
     "elapsed": 6,
     "status": "ok",
     "timestamp": 1652815263848,
     "user": {
      "displayName": "Alper Aydın",
      "userId": "16424421511940582464"
     },
     "user_tz": -180
    },
    "id": "ALWSziRlcoyH",
    "outputId": "c979b6dd-3d01-42ff-d0d5-36628d42f306"
   },
   "outputs": [],
   "source": [
    "# listenin her bir elemanı için ilgili eleman key ve value değişkenlerine atanır\n",
    "x = {k:v \n",
    "     for k,v in liste\n",
    "    }\n",
    "print(x)"
   ]
  },
  {
   "cell_type": "code",
   "execution_count": null,
   "metadata": {
    "ExecuteTime": {
     "end_time": "2022-12-12T07:00:05.090644Z",
     "start_time": "2022-12-12T07:00:05.087098Z"
    }
   },
   "outputs": [],
   "source": [
    "liste = [\n",
    "    [1,2,3],\n",
    "    [2,5],\n",
    "    [6,7,8,9,10]\n",
    "]\n",
    "liste"
   ]
  },
  {
   "cell_type": "code",
   "execution_count": null,
   "metadata": {
    "ExecuteTime": {
     "end_time": "2022-12-12T07:00:15.419259Z",
     "start_time": "2022-12-12T07:00:15.415953Z"
    }
   },
   "outputs": [],
   "source": [
    "[x[1] for x in liste]"
   ]
  },
  {
   "cell_type": "code",
   "execution_count": null,
   "metadata": {
    "ExecuteTime": {
     "end_time": "2022-12-12T07:01:50.316235Z",
     "start_time": "2022-12-12T07:01:50.312763Z"
    }
   },
   "outputs": [],
   "source": [
    "a = []\n",
    "for b in liste:\n",
    "    a.append(b[1])\n",
    "a"
   ]
  },
  {
   "cell_type": "code",
   "execution_count": null,
   "metadata": {
    "ExecuteTime": {
     "end_time": "2022-12-12T07:01:57.763277Z",
     "start_time": "2022-12-12T07:01:57.759848Z"
    }
   },
   "outputs": [],
   "source": [
    "{x[0]:x[1] for x in liste}"
   ]
  },
  {
   "cell_type": "code",
   "execution_count": null,
   "metadata": {
    "ExecuteTime": {
     "end_time": "2022-12-12T07:02:06.831751Z",
     "start_time": "2022-12-12T07:02:06.828304Z"
    }
   },
   "outputs": [],
   "source": [
    "[x[0]*x[1] for x in liste]"
   ]
  },
  {
   "cell_type": "markdown",
   "metadata": {
    "id": "uuFOuYsWeMlp"
   },
   "source": [
    "## Birden fazla döngü ile liste oluşturma"
   ]
  },
  {
   "cell_type": "code",
   "execution_count": null,
   "metadata": {
    "ExecuteTime": {
     "end_time": "2022-12-12T07:03:08.605261Z",
     "start_time": "2022-12-12T07:03:08.601463Z"
    }
   },
   "outputs": [],
   "source": [
    "for i in range(3):\n",
    "    for j in range(4):\n",
    "        print(i, j)"
   ]
  },
  {
   "cell_type": "code",
   "execution_count": null,
   "metadata": {
    "ExecuteTime": {
     "end_time": "2022-12-12T07:03:56.262310Z",
     "start_time": "2022-12-12T07:03:56.257386Z"
    }
   },
   "outputs": [],
   "source": [
    "[[a,b,c]\n",
    " for a in range(3)\n",
    " for b in range(4)\n",
    " for c in range(2)\n",
    "]"
   ]
  },
  {
   "cell_type": "code",
   "execution_count": null,
   "metadata": {},
   "outputs": [],
   "source": []
  },
  {
   "cell_type": "code",
   "execution_count": null,
   "metadata": {
    "ExecuteTime": {
     "end_time": "2022-12-12T07:05:43.232394Z",
     "start_time": "2022-12-12T07:05:43.228003Z"
    },
    "colab": {
     "base_uri": "https://localhost:8080/",
     "height": 376
    },
    "executionInfo": {
     "elapsed": 10,
     "status": "ok",
     "timestamp": 1652815565543,
     "user": {
      "displayName": "Alper Aydın",
      "userId": "16424421511940582464"
     },
     "user_tz": -180
    },
    "id": "IiclOaPmeMD6",
    "outputId": "83b5cdd6-d710-44bb-9f6e-0b0cdf337d72"
   },
   "outputs": [],
   "source": [
    "x = [\n",
    "     [x,y,z]\n",
    "     for x in range(3)\n",
    "     for y in ('a','b','c')\n",
    "     for z in [1, 2, 'a','b']\n",
    "     \n",
    "     if y!=z # eşit değil\n",
    "        and x>1\n",
    "]\n",
    "# print(x)   # print ile gösterim\n",
    "display(x) # display ile daha okunaklı gösterilebilir"
   ]
  },
  {
   "cell_type": "code",
   "execution_count": null,
   "metadata": {
    "ExecuteTime": {
     "end_time": "2022-12-12T07:08:09.091274Z",
     "start_time": "2022-12-12T07:08:09.086688Z"
    }
   },
   "outputs": [],
   "source": [
    "[[x,y,z] for x in range(3) for y in ('a','b','c') for z in [1, 2, 'a','b']  if y!=z and x>1]"
   ]
  },
  {
   "cell_type": "markdown",
   "metadata": {},
   "source": [
    "## Dictionary elemanlarından oluşan liste"
   ]
  },
  {
   "cell_type": "code",
   "execution_count": null,
   "metadata": {
    "ExecuteTime": {
     "end_time": "2022-12-12T07:09:35.357703Z",
     "start_time": "2022-12-12T07:09:35.354748Z"
    }
   },
   "outputs": [],
   "source": [
    "d = {'K':'Kurumsal', 'TA':'Ticari', 'SA':'OBİ', 'SB':'Kİ'}\n",
    "for i in d:\n",
    "    print(i)"
   ]
  },
  {
   "cell_type": "code",
   "execution_count": null,
   "metadata": {
    "ExecuteTime": {
     "end_time": "2022-12-12T07:09:45.485353Z",
     "start_time": "2022-12-12T07:09:45.482478Z"
    }
   },
   "outputs": [],
   "source": [
    "for i in d.items():\n",
    "    print(i)"
   ]
  },
  {
   "cell_type": "code",
   "execution_count": null,
   "metadata": {
    "ExecuteTime": {
     "end_time": "2022-12-12T07:07:59.021593Z",
     "start_time": "2022-12-12T07:07:59.017615Z"
    }
   },
   "outputs": [],
   "source": [
    "[x for x in d.items() if x[0]!='K']"
   ]
  },
  {
   "cell_type": "code",
   "execution_count": null,
   "metadata": {
    "ExecuteTime": {
     "end_time": "2022-12-12T07:10:33.923072Z",
     "start_time": "2022-12-12T07:10:33.918065Z"
    }
   },
   "outputs": [],
   "source": [
    "x = [\n",
    "    [k,v, y,z]\n",
    "     for k,v in {'K':'Kurumsal', 'TA':'Ticari', 'SA':'OBİ', 'SB':'Kİ'}.items()\n",
    "     for y in ('a','b','c')\n",
    "     for z in [1, 2, 'a','b']\n",
    "]\n",
    "display(x[:10])"
   ]
  },
  {
   "cell_type": "markdown",
   "metadata": {},
   "source": [
    "## Döngü içerisinde döngü"
   ]
  },
  {
   "cell_type": "code",
   "execution_count": null,
   "metadata": {
    "ExecuteTime": {
     "end_time": "2022-12-12T07:12:57.320532Z",
     "start_time": "2022-12-12T07:12:57.316304Z"
    }
   },
   "outputs": [],
   "source": [
    "x = [\n",
    "        [\n",
    "            j\n",
    "            for j in range(i)\n",
    "        ]\n",
    "        for i in range(10)\n",
    "]\n",
    "x"
   ]
  },
  {
   "cell_type": "markdown",
   "metadata": {},
   "source": [
    "**örnek data ile yapalım** (ileri seviye örnek)"
   ]
  },
  {
   "cell_type": "code",
   "execution_count": null,
   "metadata": {
    "ExecuteTime": {
     "end_time": "2022-12-12T07:15:55.567450Z",
     "start_time": "2022-12-12T07:15:55.559747Z"
    }
   },
   "outputs": [],
   "source": [
    "# şube kodu, müşteri id, iş kolu\n",
    "data = [\n",
    "    [1, 'SA', 10001],\n",
    "    [1, 'BA', 10002],\n",
    "    [1, 'BB', 10003],\n",
    "    [2, 'TA', 10004],\n",
    "    [2, 'SA', 10005],\n",
    "    [2, 'SB', 10006],\n",
    "    [3, 'BA', 10007],\n",
    "    [3, 'BB', 10008],\n",
    "    [3, 'SC', 10009],\n",
    "    [4, 'K',  10010],\n",
    "    [5, 'TA', 10011]\n",
    "]\n",
    "iskolları = ['BA','BB','SA','SB','SC','TA','K']\n",
    "subeler = [1,2,3,4,5]\n",
    "[\n",
    "    [\n",
    "        {\n",
    "            i: \n",
    "            len({d[1] \n",
    "                 for d in data \n",
    "                 if d[0]==s and d[1]==i\n",
    "                })\n",
    "        }\n",
    "        for i in iskollari\n",
    "    ]\n",
    " for s in subeler\n",
    "]"
   ]
  },
  {
   "cell_type": "markdown",
   "metadata": {},
   "source": [
    "# Quiz"
   ]
  },
  {
   "cell_type": "code",
   "execution_count": null,
   "metadata": {
    "ExecuteTime": {
     "end_time": "2022-09-13T08:13:14.262209Z",
     "start_time": "2022-09-13T07:53:47.474334Z"
    }
   },
   "outputs": [],
   "source": [
    "import imp\n",
    "imp.reload(log)\n",
    "log.topic_id='11_ListComprehension'\n",
    "log.Quiz()"
   ]
  }
 ],
 "metadata": {
  "kernelspec": {
   "display_name": "Python 3",
   "language": "python",
   "name": "python3"
  },
  "language_info": {
   "codemirror_mode": {
    "name": "ipython",
    "version": 3
   },
   "file_extension": ".py",
   "mimetype": "text/x-python",
   "name": "python",
   "nbconvert_exporter": "python",
   "pygments_lexer": "ipython3",
   "version": "3.7.6"
  },
  "toc": {
   "base_numbering": 1,
   "nav_menu": {},
   "number_sections": true,
   "sideBar": true,
   "skip_h1_title": false,
   "title_cell": "Table of Contents",
   "title_sidebar": "Contents",
   "toc_cell": false,
   "toc_position": {},
   "toc_section_display": true,
   "toc_window_display": true
  },
  "varInspector": {
   "cols": {
    "lenName": 16,
    "lenType": 16,
    "lenVar": 40
   },
   "kernels_config": {
    "python": {
     "delete_cmd_postfix": "",
     "delete_cmd_prefix": "del ",
     "library": "var_list.py",
     "varRefreshCmd": "print(var_dic_list())"
    },
    "r": {
     "delete_cmd_postfix": ") ",
     "delete_cmd_prefix": "rm(",
     "library": "var_list.r",
     "varRefreshCmd": "cat(var_dic_list()) "
    }
   },
   "types_to_exclude": [
    "module",
    "function",
    "builtin_function_or_method",
    "instance",
    "_Feature"
   ],
   "window_display": false
  }
 },
 "nbformat": 4,
 "nbformat_minor": 4
}
