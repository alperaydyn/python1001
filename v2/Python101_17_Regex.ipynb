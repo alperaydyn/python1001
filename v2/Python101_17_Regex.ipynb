{
 "cells": [
  {
   "cell_type": "code",
   "execution_count": null,
   "metadata": {
    "ExecuteTime": {
     "end_time": "2022-07-23T12:27:36.196797Z",
     "start_time": "2022-07-23T12:27:35.945242Z"
    }
   },
   "outputs": [],
   "source": [
    "import sys\n",
    "sys.path.append('/data/ECS/PythonTutorial/')\n",
    "import log\n",
    "log.topic_id = '17_Regex'"
   ]
  },
  {
   "cell_type": "markdown",
   "metadata": {
    "id": "xFf-rBPUYvnf"
   },
   "source": [
    "# RegEx\n",
    "\n",
    "RegEx (Regular Expression) kökeni 1951'e dayanan, metinler içerisindeki belirli kurallara uyan kalıpları bulmak ve işlemek için oluşturulmuş ifadeler bütünüdür. Birçok yazılım dilin regexi içermekte veya desteklemektedir.\n",
    "\n",
    "https://www.w3schools.com/python/python_regex.asp\n",
    "\n",
    "https://regex101.com/"
   ]
  },
  {
   "cell_type": "code",
   "execution_count": null,
   "metadata": {
    "ExecuteTime": {
     "end_time": "2022-07-23T12:36:11.896209Z",
     "start_time": "2022-07-23T12:36:11.893704Z"
    },
    "executionInfo": {
     "elapsed": 283,
     "status": "ok",
     "timestamp": 1652982197764,
     "user": {
      "displayName": "Alper Aydın",
      "userId": "16424421511940582464"
     },
     "user_tz": -180
    },
    "id": "IkfPsGCiad1I"
   },
   "outputs": [],
   "source": [
    "import re "
   ]
  },
  {
   "cell_type": "code",
   "execution_count": null,
   "metadata": {
    "ExecuteTime": {
     "end_time": "2022-07-23T13:27:04.705162Z",
     "start_time": "2022-07-23T13:27:04.692123Z"
    }
   },
   "outputs": [],
   "source": [
    "help(re)"
   ]
  },
  {
   "cell_type": "markdown",
   "metadata": {},
   "source": [
    "## Fonksiyonlar"
   ]
  },
  {
   "cell_type": "code",
   "execution_count": null,
   "metadata": {
    "ExecuteTime": {
     "end_time": "2022-07-23T13:35:48.899797Z",
     "start_time": "2022-07-23T13:35:48.897679Z"
    }
   },
   "outputs": [],
   "source": [
    "test_string = \"\"\"Gözleri olanlara dünyada görülecek hiç bir şey olmadığını söylemek zordur.\n",
    "Ne var ki gerçek bu inanın bana.\n",
    "Dünyayı tanımak için dinlemek yeter, yolculuklarda görünenler bir aldatmacadır yalnızca.\n",
    "Gölgelerin peşinde başka gölgeler.\n",
    "Yollar ve ülkeler, önceden bilmediğimiz hiçbir şey öğretemez bize;\n",
    "gecenin dinginliğinde kendi içimizde dinleyebileceklerimizden başka hiçbir şey?\n",
    "Amin Maalouf - Yüzüncü Ad Baldassare'nin Yolculuğu.\n",
    "\"\"\".replace('\\n',' ')"
   ]
  },
  {
   "cell_type": "markdown",
   "metadata": {
    "id": "m_fWaDvHbIO0"
   },
   "source": [
    "### findall()"
   ]
  },
  {
   "cell_type": "code",
   "execution_count": null,
   "metadata": {
    "ExecuteTime": {
     "end_time": "2022-07-23T13:35:49.713187Z",
     "start_time": "2022-07-23T13:35:49.710870Z"
    },
    "colab": {
     "base_uri": "https://localhost:8080/"
    },
    "executionInfo": {
     "elapsed": 248,
     "status": "ok",
     "timestamp": 1652990623336,
     "user": {
      "displayName": "Alper Aydın",
      "userId": "16424421511940582464"
     },
     "user_tz": -180
    },
    "id": "kY8b0QofajFI",
    "outputId": "d5367c3b-47d7-45a8-c1b3-c02d52850aca"
   },
   "outputs": [],
   "source": [
    "help(re.findall)"
   ]
  },
  {
   "cell_type": "code",
   "execution_count": null,
   "metadata": {
    "ExecuteTime": {
     "end_time": "2022-07-23T13:35:49.984870Z",
     "start_time": "2022-07-23T13:35:49.982474Z"
    },
    "colab": {
     "base_uri": "https://localhost:8080/"
    },
    "executionInfo": {
     "elapsed": 461,
     "status": "ok",
     "timestamp": 1652982264797,
     "user": {
      "displayName": "Alper Aydın",
      "userId": "16424421511940582464"
     },
     "user_tz": -180
    },
    "id": "oEzWyeAgagrW",
    "outputId": "1aa24788-da89-444a-cf03-d7b8343561dc"
   },
   "outputs": [],
   "source": [
    "pattern = 'd\\S+' # d harfi ile başlayıp boşluk ile biten tüm karakterler\n",
    "result = re.findall(pattern, test_string)\n",
    "print(result)"
   ]
  },
  {
   "cell_type": "markdown",
   "metadata": {
    "id": "V_z73sYQ4tMT"
   },
   "source": [
    "### sub()"
   ]
  },
  {
   "cell_type": "code",
   "execution_count": null,
   "metadata": {
    "ExecuteTime": {
     "end_time": "2022-07-23T13:35:50.681477Z",
     "start_time": "2022-07-23T13:35:50.679288Z"
    },
    "colab": {
     "base_uri": "https://localhost:8080/"
    },
    "executionInfo": {
     "elapsed": 449,
     "status": "ok",
     "timestamp": 1652990425775,
     "user": {
      "displayName": "Alper Aydın",
      "userId": "16424421511940582464"
     },
     "user_tz": -180
    },
    "id": "fTvgW26j4u4m",
    "outputId": "5be5bc55-c457-45dc-d23e-a0b9b0bc3dcb"
   },
   "outputs": [],
   "source": [
    "f = 'm\\S+'\n",
    "print(re.sub(f, 'XXX', test_string))"
   ]
  },
  {
   "cell_type": "code",
   "execution_count": null,
   "metadata": {
    "ExecuteTime": {
     "end_time": "2022-07-23T13:35:51.275597Z",
     "start_time": "2022-07-23T13:35:51.273537Z"
    }
   },
   "outputs": [],
   "source": [
    "print(test_string.replace('metin','XXX'))"
   ]
  },
  {
   "cell_type": "markdown",
   "metadata": {},
   "source": [
    "### split()"
   ]
  },
  {
   "cell_type": "code",
   "execution_count": null,
   "metadata": {
    "ExecuteTime": {
     "end_time": "2022-07-23T13:35:52.210060Z",
     "start_time": "2022-07-23T13:35:52.207726Z"
    }
   },
   "outputs": [],
   "source": [
    "pattern = '\\s'\n",
    "results = re.split(pattern, test_string)\n",
    "print(results)"
   ]
  },
  {
   "cell_type": "code",
   "execution_count": null,
   "metadata": {
    "ExecuteTime": {
     "end_time": "2022-07-23T13:35:53.001214Z",
     "start_time": "2022-07-23T13:35:52.998693Z"
    }
   },
   "outputs": [],
   "source": [
    "pattern = '[\\?\\.,;\\']'\n",
    "re.split(pattern, test_string)"
   ]
  },
  {
   "cell_type": "markdown",
   "metadata": {},
   "source": [
    "## Meta Karakterler"
   ]
  },
  {
   "cell_type": "markdown",
   "metadata": {},
   "source": [
    "<div class=\"alert alert-box alert-info\">\n",
    "    Metakarakterler regex'te kullanılan özel karakterlerdir\n",
    "<pre style=\"padding:15px; margin-left:1px !important\">[] . ^ $ * + ? {} () \\ |</pre>\n",
    "</div>"
   ]
  },
  {
   "cell_type": "markdown",
   "metadata": {},
   "source": [
    "### [] (köşeli parantez)\n",
    "\n",
    "İçerisinde belirltilen karakterlerin bulunmasını sağlar"
   ]
  },
  {
   "cell_type": "code",
   "execution_count": null,
   "metadata": {
    "ExecuteTime": {
     "end_time": "2022-07-23T13:35:57.521905Z",
     "start_time": "2022-07-23T13:35:57.519368Z"
    }
   },
   "outputs": [],
   "source": [
    "x = re.findall('[ğüşıöçĞÜŞİÖÇ]', test_string)\n",
    "print(x)\n",
    "print('Türkçe karakter sayısı:', len(x))"
   ]
  },
  {
   "cell_type": "code",
   "execution_count": null,
   "metadata": {
    "ExecuteTime": {
     "end_time": "2022-07-23T13:35:57.952572Z",
     "start_time": "2022-07-23T13:35:57.950093Z"
    }
   },
   "outputs": [],
   "source": [
    "x = re.findall('[g-kG-K]', test_string)\n",
    "print(x)\n",
    "print('g ve k arasındaki tüm büyük/küçük harf sayısı:', len(x))"
   ]
  },
  {
   "cell_type": "markdown",
   "metadata": {},
   "source": [
    "### . (nokta)\n",
    "\n",
    "herhangi bir tek karakteri ifade eder. (yeni satır \\n hariç)"
   ]
  },
  {
   "cell_type": "code",
   "execution_count": null,
   "metadata": {
    "ExecuteTime": {
     "end_time": "2022-07-23T13:35:59.050095Z",
     "start_time": "2022-07-23T13:35:59.047540Z"
    }
   },
   "outputs": [],
   "source": [
    "x = re.findall('.', test_string)\n",
    "print(x)\n",
    "print('toplam karakter sayısı:', len(x))"
   ]
  },
  {
   "cell_type": "markdown",
   "metadata": {},
   "source": [
    "### ^ (karet) (... ile başlayan)"
   ]
  },
  {
   "cell_type": "code",
   "execution_count": null,
   "metadata": {
    "ExecuteTime": {
     "end_time": "2022-07-23T13:36:00.179836Z",
     "start_time": "2022-07-23T13:36:00.177637Z"
    }
   },
   "outputs": [],
   "source": [
    "x = re.search('^G\\S+', test_string, re.MULTILINE)\n",
    "print(x)"
   ]
  },
  {
   "cell_type": "code",
   "execution_count": null,
   "metadata": {
    "ExecuteTime": {
     "end_time": "2022-07-23T13:36:01.433357Z",
     "start_time": "2022-07-23T13:36:01.430912Z"
    }
   },
   "outputs": [],
   "source": [
    "results = re.findall(\"^G\\S+\", test_string, re.MULTILINE)\n",
    "results"
   ]
  },
  {
   "cell_type": "markdown",
   "metadata": {},
   "source": [
    "### $ (... ile biten)"
   ]
  },
  {
   "cell_type": "code",
   "execution_count": null,
   "metadata": {
    "ExecuteTime": {
     "end_time": "2022-07-24T20:31:10.048248Z",
     "start_time": "2022-07-24T20:31:09.927231Z"
    }
   },
   "outputs": [],
   "source": [
    "x = re.findall('^i*?r$', \"\"\"işte hepsi bu kadar\"\"\", re.MULTILINE)\n",
    "print(x)"
   ]
  },
  {
   "cell_type": "markdown",
   "metadata": {},
   "source": [
    "## Ek Kaynaklar"
   ]
  },
  {
   "cell_type": "markdown",
   "metadata": {},
   "source": [
    "* https://python.sitesi.web.tr/python-regex.html\n",
    "* https://www.sinanerdinc.com/python-re-modulu\n",
    "* https://www.youtube.com/watch?v=bKWzIvYZmfA (part1)\n",
    "* https://www.youtube.com/watch?v=6yQQJBV1RpE (part2)"
   ]
  }
 ],
 "metadata": {
  "kernelspec": {
   "display_name": "Python 3",
   "language": "python",
   "name": "python3"
  },
  "language_info": {
   "codemirror_mode": {
    "name": "ipython",
    "version": 3
   },
   "file_extension": ".py",
   "mimetype": "text/x-python",
   "name": "python",
   "nbconvert_exporter": "python",
   "pygments_lexer": "ipython3",
   "version": "3.7.6"
  },
  "toc": {
   "base_numbering": 1,
   "nav_menu": {},
   "number_sections": true,
   "sideBar": true,
   "skip_h1_title": false,
   "title_cell": "Table of Contents",
   "title_sidebar": "Contents",
   "toc_cell": false,
   "toc_position": {},
   "toc_section_display": true,
   "toc_window_display": true
  }
 },
 "nbformat": 4,
 "nbformat_minor": 4
}
