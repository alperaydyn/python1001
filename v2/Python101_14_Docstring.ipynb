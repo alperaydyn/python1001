{
 "cells": [
  {
   "cell_type": "code",
   "execution_count": null,
   "metadata": {
    "ExecuteTime": {
     "end_time": "2022-11-22T07:58:18.000514Z",
     "start_time": "2022-11-22T07:58:17.785215Z"
    }
   },
   "outputs": [],
   "source": [
    "import sys\n",
    "sys.path.append('/data/ECS/PythonTutorial/')\n",
    "import log\n",
    "log.topic_id = '14_Docstring'"
   ]
  },
  {
   "cell_type": "markdown",
   "metadata": {
    "id": "Hg33l3lB62qj"
   },
   "source": [
    "## DocString, Doküman Dizeleri\n",
    "\n",
    "* Kodun dokümantasyonu ve okunabilirliğinin artırılması için kullanılır.\n",
    "* Kısa açıklama, detaylı açıklama, parametreler, dönüş değeri gibi ana bileşenlerden oluşur.\n",
    "* farklı docstring formatları için https://www.delftstack.com/howto/python/python-docstring-format/"
   ]
  },
  {
   "cell_type": "markdown",
   "metadata": {
    "id": "n2A-w3Il1Ohu"
   },
   "source": [
    "### numpy"
   ]
  },
  {
   "cell_type": "code",
   "execution_count": null,
   "metadata": {},
   "outputs": [],
   "source": [
    "str()\n",
    "hash()"
   ]
  },
  {
   "cell_type": "code",
   "execution_count": null,
   "metadata": {
    "ExecuteTime": {
     "end_time": "2022-09-13T12:59:44.089142Z",
     "start_time": "2022-09-13T12:59:44.076010Z"
    },
    "colab": {
     "base_uri": "https://localhost:8080/"
    },
    "executionInfo": {
     "elapsed": 291,
     "status": "ok",
     "timestamp": 1652950780123,
     "user": {
      "displayName": "Alper Aydın",
      "userId": "16424421511940582464"
     },
     "user_tz": -180
    },
    "id": "IBgPN90p1RDT",
    "outputId": "417d8a39-36e2-480e-c598-fda9cf474d16"
   },
   "outputs": [],
   "source": [
    "def bolme(a, b=1):\n",
    "    \"\"\"\n",
    "        Bölme işlemi \n",
    "\n",
    "        Verilen parametrelerden ilkini pay ikincisini payda olarak bölme işlemini gerçekleştirir\n",
    "\n",
    "        Parameters\n",
    "        ----------\n",
    "        a : int\n",
    "            ilk parametre, bölme işleminin pay kısmı\n",
    "        b : int, 1\n",
    "            ikinci parametre, bölme işleminin payda kısmı\n",
    "\n",
    "        Returns\n",
    "        -------\n",
    "        float\n",
    "            bölme işleminin sonucu float olarak döndürür\n",
    "\n",
    "        Raises\n",
    "        ------\n",
    "        ZeroDivisionError\n",
    "            paydanın sıfır olması durumunda 0'a bölme hatası verir\n",
    "        \n",
    "        IndexError\n",
    "            eğer c listesinin boyutundan daha büyük bir a parametresi girilirse index hatası alır\n",
    "       \n",
    "       Examples\n",
    "       --------\n",
    "       c = bolme(1,2)\n",
    "       \n",
    "    \"\"\"\n",
    "    return a / b\n",
    "\n",
    "bolme(5,1)"
   ]
  },
  {
   "cell_type": "code",
   "execution_count": null,
   "metadata": {
    "ExecuteTime": {
     "end_time": "2022-09-13T13:02:58.402329Z",
     "start_time": "2022-09-13T13:02:58.262324Z"
    }
   },
   "outputs": [],
   "source": [
    "import numpy as np\n",
    "np.array()"
   ]
  },
  {
   "cell_type": "markdown",
   "metadata": {
    "id": "FLHJZ5pD2gLP"
   },
   "source": [
    "## PEP8\n",
    "\n",
    "* PEP8, python ile yazılan programların formatlarına dair standartların belirtildiği formattır. \n",
    "* Kod yazımı ile ilgili teknik standartları içermez, sadece görsel format ile ilgili öneriler verir.\n",
    "* Bazı örnekler:\n",
    "  - Girinti için tab yerine boşluk kullanımı\n",
    "  - Değişken tanımlanırken eşitliğin her iki tarafında birer boşluk bırakılması\n",
    "  - Bir fonksiyona parametre atama söz konusuysa boşluk konulmaz, bitişik yazılır.\n",
    "  - Class isimleri büyük harfle başlar\n",
    "  - Classlar arasında iki satır fonksiyonlar arasında 1 satır boşluk bırakılır.\n",
    "  - Değişken/fonksyion isimlerini under_score biçiminde tanımla(camelcase tercih edilmez)\n",
    "\n",
    "https://peps.python.org/pep-0008/\n",
    "\n",
    "\n",
    "http://pep8online.com/ "
   ]
  },
  {
   "cell_type": "code",
   "execution_count": null,
   "metadata": {
    "ExecuteTime": {
     "end_time": "2022-07-26T13:25:24.405728Z",
     "start_time": "2022-07-26T13:25:24.402776Z"
    }
   },
   "outputs": [],
   "source": [
    "baslangic_deger = 1  # python PEP8\n",
    "# baskangicDegeri = 1  # camelCase\n",
    "\n",
    "\n",
    "class KrediHesaplama():\n",
    "\n",
    "    def odeme_plani():\n",
    "        pass\n",
    "\n",
    "    def takibe_atma():\n",
    "        pass\n",
    "\n",
    "\n",
    "class HesapMakinesi():\n",
    "\n",
    "    def topla(a=1, b=2):\n",
    "        pass\n"
   ]
  }
 ],
 "metadata": {
  "kernelspec": {
   "display_name": "Python 3",
   "language": "python",
   "name": "python3"
  },
  "language_info": {
   "codemirror_mode": {
    "name": "ipython",
    "version": 3
   },
   "file_extension": ".py",
   "mimetype": "text/x-python",
   "name": "python",
   "nbconvert_exporter": "python",
   "pygments_lexer": "ipython3",
   "version": "3.7.6"
  },
  "toc": {
   "base_numbering": 1,
   "nav_menu": {},
   "number_sections": true,
   "sideBar": true,
   "skip_h1_title": false,
   "title_cell": "Table of Contents",
   "title_sidebar": "Contents",
   "toc_cell": false,
   "toc_position": {},
   "toc_section_display": true,
   "toc_window_display": true
  },
  "varInspector": {
   "cols": {
    "lenName": 16,
    "lenType": 16,
    "lenVar": 40
   },
   "kernels_config": {
    "python": {
     "delete_cmd_postfix": "",
     "delete_cmd_prefix": "del ",
     "library": "var_list.py",
     "varRefreshCmd": "print(var_dic_list())"
    },
    "r": {
     "delete_cmd_postfix": ") ",
     "delete_cmd_prefix": "rm(",
     "library": "var_list.r",
     "varRefreshCmd": "cat(var_dic_list()) "
    }
   },
   "types_to_exclude": [
    "module",
    "function",
    "builtin_function_or_method",
    "instance",
    "_Feature"
   ],
   "window_display": true
  }
 },
 "nbformat": 4,
 "nbformat_minor": 4
}
