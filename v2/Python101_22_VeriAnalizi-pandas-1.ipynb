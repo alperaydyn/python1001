{
 "cells": [
  {
   "cell_type": "code",
   "execution_count": null,
   "metadata": {
    "ExecuteTime": {
     "end_time": "2022-12-19T06:48:53.144933Z",
     "start_time": "2022-12-19T06:48:53.113149Z"
    }
   },
   "outputs": [],
   "source": [
    "import sys\n",
    "sys.path.append('/data/ECS/PythonTutorial/')\n",
    "import log\n",
    "log.topic_id = '22_VeriAnalizi-pandas-1'"
   ]
  },
  {
   "cell_type": "code",
   "execution_count": null,
   "metadata": {
    "ExecuteTime": {
     "end_time": "2022-12-19T06:48:53.173225Z",
     "start_time": "2022-12-19T06:48:53.146297Z"
    }
   },
   "outputs": [],
   "source": [
    "import matplotlib\n",
    "matplotlib.__version__"
   ]
  },
  {
   "cell_type": "markdown",
   "metadata": {
    "id": "ucjE-w_DjQxo"
   },
   "source": [
    "## pandas\n",
    "\n",
    "* **Pandas** kütüphanesi 2008 yılında büyük boyutlu dataların analizi için geliştirilmeye başlanmış olan en temel python kütüphanelerinden birisidir.\n",
    "* Özellikle **veri temizleme**, **ön işleme** ve modellemeye hazır hale getirilmesi işlemlerinin neredeyse tamamı pandas ile yapılabilmektedir.\n",
    "* **Pan**el **Da**ta kelimelerinin kısaltmasından oluşur.\n",
    "\n",
    "* https://github.com/pandas-dev/pandas\n",
    "\n",
    "* https://medium.com/deep-learning-turkiye/adan-z-ye-pandas-tutoriali-ba%C5%9Flang%C4%B1%C3%A7-ve-orta-seviye-4edf0094e0d5"
   ]
  },
  {
   "cell_type": "code",
   "execution_count": null,
   "metadata": {
    "ExecuteTime": {
     "end_time": "2022-12-19T06:48:53.176515Z",
     "start_time": "2022-12-19T06:48:53.174698Z"
    },
    "executionInfo": {
     "elapsed": 1636,
     "status": "ok",
     "timestamp": 1653764690886,
     "user": {
      "displayName": "Alper Aydın",
      "userId": "16424421511940582464"
     },
     "user_tz": -180
    },
    "id": "9g3paj2xcP02"
   },
   "outputs": [],
   "source": [
    "import pandas as pd"
   ]
  },
  {
   "cell_type": "code",
   "execution_count": null,
   "metadata": {
    "ExecuteTime": {
     "end_time": "2022-12-19T06:48:53.183765Z",
     "start_time": "2022-12-19T06:48:53.177873Z"
    }
   },
   "outputs": [],
   "source": [
    "pd.DataFrame([[1,2],\n",
    "              [2,3],\n",
    "              [3,4]])"
   ]
  },
  {
   "cell_type": "markdown",
   "metadata": {
    "id": "1_q3bDpFb57G"
   },
   "source": [
    "### read data"
   ]
  },
  {
   "cell_type": "markdown",
   "metadata": {
    "id": "C-vj-M2bcG7K"
   },
   "source": [
    "#### csv"
   ]
  },
  {
   "cell_type": "code",
   "execution_count": null,
   "metadata": {
    "ExecuteTime": {
     "end_time": "2022-12-19T06:48:53.207197Z",
     "start_time": "2022-12-19T06:48:53.185257Z"
    },
    "colab": {
     "base_uri": "https://localhost:8080/",
     "height": 206
    },
    "executionInfo": {
     "elapsed": 303,
     "status": "ok",
     "timestamp": 1653738083868,
     "user": {
      "displayName": "Alper Aydın",
      "userId": "16424421511940582464"
     },
     "user_tz": -180
    },
    "id": "p7FKoD7ucm2O",
    "outputId": "594fea39-3fbb-4fb2-bbec-9857c59089f0"
   },
   "outputs": [],
   "source": [
    "file_name = \"/data/ECS/PythonTutorial/Data/iris.csv\"\n",
    "df = pd.read_csv(file_name)\n",
    "\n",
    "display(df.head(n=5))\n",
    "display(df.tail(n=5))\n",
    "display(df)"
   ]
  },
  {
   "cell_type": "markdown",
   "metadata": {
    "id": "oLSty_gVb-kp"
   },
   "source": [
    "#### excel"
   ]
  },
  {
   "cell_type": "code",
   "execution_count": null,
   "metadata": {
    "ExecuteTime": {
     "end_time": "2022-12-19T06:48:55.154499Z",
     "start_time": "2022-12-19T06:48:53.208287Z"
    }
   },
   "outputs": [],
   "source": [
    "donem = 'Mart2022'\n",
    "#file_path = f\"https://www.sanayi.gov.tr/assets/doc/{donem}TesvikBelgeleri.xlsx\"\n",
    "file_path = f\"/data/ECS/PythonTutorial/Data/{donem}TesvikBelgeleri.xlsx\"\n",
    "\n",
    "df = pd.read_excel(file_path, \n",
    "                   skiprows=1, usecols=[1,2,3,4],\n",
    "                   names=[ 'Sıra','Belge No','Firma Adı','İl'\n",
    "                          ]\n",
    "                   )\n",
    "df#.head(10)"
   ]
  },
  {
   "cell_type": "markdown",
   "metadata": {},
   "source": [
    "#### sütunları datadan okuma"
   ]
  },
  {
   "cell_type": "code",
   "execution_count": null,
   "metadata": {
    "ExecuteTime": {
     "end_time": "2022-12-19T06:48:56.992728Z",
     "start_time": "2022-12-19T06:48:55.155845Z"
    }
   },
   "outputs": [],
   "source": [
    "df = pd.read_excel(file_path, skiprows=3) \n",
    "df.iloc[1,:]"
   ]
  },
  {
   "cell_type": "code",
   "execution_count": null,
   "metadata": {
    "ExecuteTime": {
     "end_time": "2022-12-19T06:48:56.999769Z",
     "start_time": "2022-12-19T06:48:56.995481Z"
    }
   },
   "outputs": [],
   "source": [
    "list(zip(df.iloc[0,:], df.iloc[1,:]))"
   ]
  },
  {
   "cell_type": "code",
   "execution_count": null,
   "metadata": {
    "ExecuteTime": {
     "end_time": "2022-12-19T06:48:58.857639Z",
     "start_time": "2022-12-19T06:48:57.001382Z"
    }
   },
   "outputs": [],
   "source": [
    "file_path = f\"/data/ECS/PythonTutorial/Data/{donem}TesvikBelgeleri.xlsx\"\n",
    "\n",
    "df = pd.read_excel(file_path, skiprows=3) \n",
    "\n",
    "columns = [\n",
    "    \n",
    "    i[0]+' '+i[1] if not pd.isna(i[0]) and not pd.isna(i[1]) else \n",
    "    i[0] if not pd.isna(i[0]) else \n",
    "    i[1] if not pd.isna(i[1]) else \n",
    "    '_'\n",
    "    \n",
    "    for i in\n",
    "    list(zip(df.iloc[0,:], df.iloc[1,:]))\n",
    "]\n",
    "columns"
   ]
  },
  {
   "cell_type": "code",
   "execution_count": null,
   "metadata": {
    "ExecuteTime": {
     "end_time": "2022-12-19T06:49:00.743313Z",
     "start_time": "2022-12-19T06:48:58.859020Z"
    },
    "colab": {
     "base_uri": "https://localhost:8080/",
     "height": 646
    },
    "executionInfo": {
     "elapsed": 5850,
     "status": "ok",
     "timestamp": 1653765822333,
     "user": {
      "displayName": "Alper Aydın",
      "userId": "16424421511940582464"
     },
     "user_tz": -180
    },
    "id": "vmaD95kLfizy",
    "outputId": "307a456c-7e04-4670-d761-e61c57a03b64"
   },
   "outputs": [],
   "source": [
    "donem = 'Mart2022'\n",
    "#file_path = f\"https://www.sanayi.gov.tr/assets/doc/{donem}TesvikBelgeleri.xlsx\"\n",
    "file_path = f\"/data/ECS/PythonTutorial/Data/{donem}TesvikBelgeleri.xlsx\"\n",
    "df = pd.read_excel(file_path, \n",
    "                   skiprows=5, \n",
    "                   names=['Sıra','Belge No','Firma Adı','İl','İlçe','Sermaye Türü',\n",
    "                          'Yatırım Konusu','Yatırım Cinsi','Destek Sınıfı','Destek Unsurları',\n",
    "                          'Toplam Kapasite','Yatırım Tutarı','İthal Makine Techizat','İstihdam'\n",
    "                          ])\n",
    "df = df.set_index('Sıra')\n",
    "df.head()"
   ]
  },
  {
   "cell_type": "markdown",
   "metadata": {
    "id": "pYF7DAy5cBXD"
   },
   "source": [
    "#### sql"
   ]
  },
  {
   "cell_type": "code",
   "execution_count": null,
   "metadata": {
    "ExecuteTime": {
     "end_time": "2022-12-19T06:49:00.805597Z",
     "start_time": "2022-12-19T06:49:00.744730Z"
    },
    "colab": {
     "base_uri": "https://localhost:8080/",
     "height": 143
    },
    "executionInfo": {
     "elapsed": 382,
     "status": "ok",
     "timestamp": 1653766324360,
     "user": {
      "displayName": "Alper Aydın",
      "userId": "16424421511940582464"
     },
     "user_tz": -180
    },
    "id": "YwL7__YwH_so",
    "outputId": "ff14904c-6847-4a57-c72a-7005521e80bf"
   },
   "outputs": [],
   "source": [
    "import sqlite3\n",
    "import pandas as pd\n",
    "\n",
    "conn = sqlite3.connect('/data/ECS/data/test.db')\n",
    "sql = \"\"\"\n",
    "  create table musteri (\n",
    "    sıra int,\n",
    "    sube_adi text,\n",
    "    sube_kodu int,\n",
    "    portfoy_id text\n",
    "  )\n",
    "\"\"\"\n",
    "try:\n",
    "    conn.execute(sql)\n",
    "except Exception as ex:\n",
    "    print(ex)\n",
    "\n",
    "sql = \"\"\"\n",
    "  INSERT INTO musteri \n",
    "  values\n",
    "    (1, 'Uşak Şube', 162, '0012301'),\n",
    "    (2, 'Kartal Şube', 91, '0012302'),\n",
    "    (3, 'Çiğli Şube', 1040, '0012303')\n",
    "\"\"\"\n",
    "conn.execute(sql)\n",
    "conn.commit()\n",
    "\n",
    "sql = \"select * from musteri\"\n",
    "\n",
    "\n",
    "df = pd.read_sql(sql, conn)\n",
    "\n",
    "conn.close()\n",
    "\n",
    "display(df)"
   ]
  },
  {
   "cell_type": "code",
   "execution_count": null,
   "metadata": {
    "ExecuteTime": {
     "end_time": "2022-12-19T06:49:00.815057Z",
     "start_time": "2022-12-19T06:49:00.806885Z"
    }
   },
   "outputs": [],
   "source": [
    "conn = sqlite3.connect('/data/ECS/data/test.db')\n",
    "sql = \"select * from musteri\"\n",
    "df = pd.read_sql(sql, conn)\n",
    "display(df)"
   ]
  },
  {
   "cell_type": "code",
   "execution_count": null,
   "metadata": {
    "ExecuteTime": {
     "end_time": "2022-12-19T06:49:01.139654Z",
     "start_time": "2022-12-19T06:49:00.816595Z"
    }
   },
   "outputs": [],
   "source": [
    "import cx_Oracle\n",
    "import os\n",
    "\n",
    "def connect_db(user_name=None, password=None):\n",
    "    # -----------------------------------------\n",
    "    kullanici_adi = 'alperayd'\n",
    "    # -----------------------------------------\n",
    "    \n",
    "    try:\n",
    "        with open(f'/data/home/{kullanici_adi}/oracle.txt','r') as f:\n",
    "            r = f.read()\n",
    "            user_name = r.split(';')[0]\n",
    "            password = r.split(';')[1]\n",
    "        \n",
    "        os.environ['ORACLE_HOME'] = '/data/app/oracle/product/12.2.0/client_1'\n",
    "        host = \"pgarsnb1rw.fw.garanti.com.tr:4520/pgarsnb1b\"\n",
    "        #host_dwh  = 'pgardwhrw:4520/pgardwh'\n",
    "        #host_qgar = 'qgardwhapp.fw.garanti.com.tr:4520/QGARDWH'\n",
    "        \n",
    "        conn = cx_Oracle.connect(user_name, password, host, encoding='UTF-8')\n",
    "        return conn\n",
    "    except Exception as ex:\n",
    "        print(f\"bağlantı sağlanamadı, \\nHata: {ex}\")\n",
    "        return None\n",
    "\n",
    "conn =connect_db()\n",
    "print(conn)"
   ]
  },
  {
   "cell_type": "code",
   "execution_count": null,
   "metadata": {
    "ExecuteTime": {
     "end_time": "2022-12-19T06:49:13.267682Z",
     "start_time": "2022-12-19T06:49:01.141253Z"
    }
   },
   "outputs": [],
   "source": [
    "sql = \"select * from pgaredm.v_cnf_customer_hst where record_Date=trunc(sysdate-1) and CUSTOMER_TP_CODE='TA'\"\n",
    "\n",
    "df = pd.read_sql(sql, conn)\n",
    "df"
   ]
  },
  {
   "cell_type": "markdown",
   "metadata": {
    "id": "hZ5UNHkLcDoT"
   },
   "source": [
    "### settings\n"
   ]
  },
  {
   "cell_type": "code",
   "execution_count": null,
   "metadata": {
    "ExecuteTime": {
     "end_time": "2022-12-19T06:49:13.273963Z",
     "start_time": "2022-12-19T06:49:13.268926Z"
    }
   },
   "outputs": [],
   "source": [
    "pd.set_option(\"display.precision\", 4)\n",
    "pd.DataFrame([1/3])"
   ]
  },
  {
   "cell_type": "code",
   "execution_count": null,
   "metadata": {
    "ExecuteTime": {
     "end_time": "2022-12-19T06:49:14.576133Z",
     "start_time": "2022-12-19T06:49:13.274988Z"
    },
    "executionInfo": {
     "elapsed": 3,
     "status": "ok",
     "timestamp": 1653768994619,
     "user": {
      "displayName": "Alper Aydın",
      "userId": "16424421511940582464"
     },
     "user_tz": -180
    },
    "id": "2g7ZLUfhT8T6"
   },
   "outputs": [],
   "source": [
    "pd.set_option(\"display.precision\", 2)\n",
    "\n",
    "pd.set_option(\"max_columns\", 15)\n",
    "pd.options.display.max_columns = 99\n",
    "\n",
    "pd.set_option(\"max_rows\", 25)\n",
    "pd.options.display.max_rows = 99\n",
    "\n",
    "pd.set_option(\"max_colwidth\", 20)\n",
    "pd.options.display.max_colwidth = 20\n",
    "\n",
    "display(df)"
   ]
  },
  {
   "cell_type": "markdown",
   "metadata": {
    "id": "jNlx_9A3ULa2"
   },
   "source": [
    "### pandas.Series\n",
    "\n",
    "Pandas Series tablo yapısındaki bir datanın her bir sütununu temsil etmektedir."
   ]
  },
  {
   "cell_type": "code",
   "execution_count": null,
   "metadata": {
    "ExecuteTime": {
     "end_time": "2022-12-19T06:49:14.581084Z",
     "start_time": "2022-12-19T06:49:14.577326Z"
    },
    "colab": {
     "base_uri": "https://localhost:8080/",
     "height": 124
    },
    "executionInfo": {
     "elapsed": 7,
     "status": "ok",
     "timestamp": 1653769270823,
     "user": {
      "displayName": "Alper Aydın",
      "userId": "16424421511940582464"
     },
     "user_tz": -180
    },
    "id": "81vVvP04VDV5",
    "outputId": "19512df6-8372-4b38-d04b-b454c51ca440"
   },
   "outputs": [],
   "source": [
    "s = pd.Series([1,2,3,4,5]) #casting: liste > Series dönüştürüyoruz\n",
    "display(s)"
   ]
  },
  {
   "cell_type": "code",
   "execution_count": null,
   "metadata": {
    "ExecuteTime": {
     "end_time": "2022-12-19T06:49:14.585505Z",
     "start_time": "2022-12-19T06:49:14.582064Z"
    },
    "colab": {
     "base_uri": "https://localhost:8080/",
     "height": 124
    },
    "executionInfo": {
     "elapsed": 360,
     "status": "ok",
     "timestamp": 1653769546481,
     "user": {
      "displayName": "Alper Aydın",
      "userId": "16424421511940582464"
     },
     "user_tz": -180
    },
    "id": "jz3nL_TRVOjU",
    "outputId": "0270f46f-dd35-4bf4-9bb4-148ea4499467"
   },
   "outputs": [],
   "source": [
    "s1 = pd.Series([123,56,12,44,129], name='SubeKodu')\n",
    "display(s1)"
   ]
  },
  {
   "cell_type": "code",
   "execution_count": null,
   "metadata": {
    "ExecuteTime": {
     "end_time": "2022-12-19T06:49:14.589689Z",
     "start_time": "2022-12-19T06:49:14.586435Z"
    },
    "colab": {
     "base_uri": "https://localhost:8080/",
     "height": 124
    },
    "executionInfo": {
     "elapsed": 6,
     "status": "ok",
     "timestamp": 1653769548340,
     "user": {
      "displayName": "Alper Aydın",
      "userId": "16424421511940582464"
     },
     "user_tz": -180
    },
    "id": "KJdTs28oWKXt",
    "outputId": "d81daf42-92a8-4647-f954-d29ad57ea7c5"
   },
   "outputs": [],
   "source": [
    "s2 = pd.Series(['Burdur','Antalya','Denizli','Nazilli','Aspendos'], name='SubeAdi')\n",
    "display(s2)"
   ]
  },
  {
   "cell_type": "markdown",
   "metadata": {
    "id": "BjJzEUFqXA0K"
   },
   "source": [
    "### Series, from dict"
   ]
  },
  {
   "cell_type": "code",
   "execution_count": null,
   "metadata": {
    "ExecuteTime": {
     "end_time": "2022-12-19T06:49:14.594325Z",
     "start_time": "2022-12-19T06:49:14.590620Z"
    },
    "colab": {
     "base_uri": "https://localhost:8080/"
    },
    "executionInfo": {
     "elapsed": 399,
     "status": "ok",
     "timestamp": 1653769837690,
     "user": {
      "displayName": "Alper Aydın",
      "userId": "16424421511940582464"
     },
     "user_tz": -180
    },
    "id": "HVcGOw0CXEZC",
    "outputId": "721c7869-280a-4990-ab15-f63ca354dcc0"
   },
   "outputs": [],
   "source": [
    "d = {123:'Burdur', 56:'Antalya', 12:'Denizli', 44:'Nazilli', 129:'Aspendos'}\n",
    "display(pd.Series(d))"
   ]
  },
  {
   "cell_type": "markdown",
   "metadata": {
    "id": "43tFeZZnYmah"
   },
   "source": [
    "### pandas.DataFrame\n",
    "\n",
    "DataFrame iki boyutlu bir pandas veri yapısıdır. Satır ve sütun(lar)'dan oluşur."
   ]
  },
  {
   "cell_type": "code",
   "execution_count": null,
   "metadata": {
    "ExecuteTime": {
     "end_time": "2022-12-19T06:49:14.600515Z",
     "start_time": "2022-12-19T06:49:14.595256Z"
    },
    "colab": {
     "base_uri": "https://localhost:8080/",
     "height": 206
    },
    "executionInfo": {
     "elapsed": 8,
     "status": "ok",
     "timestamp": 1653770357637,
     "user": {
      "displayName": "Alper Aydın",
      "userId": "16424421511940582464"
     },
     "user_tz": -180
    },
    "id": "_KR-Vob3YrRI",
    "outputId": "ab673e2c-19ee-4426-afb1-c2ea959eca55"
   },
   "outputs": [],
   "source": [
    "d = {123:'Burdur', 56:'Antalya', 12:'Denizli', 44:'Nazilli', 129:'Aspendos'}\n",
    "df = pd.DataFrame.from_dict(d, orient='index', columns=['SubeAdi'])\n",
    "display(df)"
   ]
  },
  {
   "cell_type": "markdown",
   "metadata": {},
   "source": [
    "## serilerden DataFrame oluşturma"
   ]
  },
  {
   "cell_type": "code",
   "execution_count": null,
   "metadata": {
    "ExecuteTime": {
     "end_time": "2022-12-19T06:49:14.606026Z",
     "start_time": "2022-12-19T06:49:14.601452Z"
    }
   },
   "outputs": [],
   "source": [
    "s1 = pd.Series([123,56,12,44,129], name='SubeKodu')\n",
    "s1.to_frame()"
   ]
  },
  {
   "cell_type": "code",
   "execution_count": null,
   "metadata": {
    "ExecuteTime": {
     "end_time": "2022-12-19T06:49:14.617182Z",
     "start_time": "2022-12-19T06:49:14.608934Z"
    },
    "colab": {
     "base_uri": "https://localhost:8080/",
     "height": 206
    },
    "executionInfo": {
     "elapsed": 8,
     "status": "ok",
     "timestamp": 1653770232650,
     "user": {
      "displayName": "Alper Aydın",
      "userId": "16424421511940582464"
     },
     "user_tz": -180
    },
    "id": "PzOVEKjGVoqP",
    "outputId": "b1858606-1b60-4505-c7d7-62f591575f2d"
   },
   "outputs": [],
   "source": [
    "s1 = pd.Series([123,56,12,44,129], name='SubeKodu')\n",
    "display(s1)\n",
    "s2 = pd.Series(['Burdur','Antalya','Denizli','Nazilli','Aspendos'], name='SubeAdi')\n",
    "display(s2)\n",
    "\n",
    "df = pd.concat([s1, s2], axis=1)\n",
    "display(df)"
   ]
  },
  {
   "cell_type": "markdown",
   "metadata": {},
   "source": [
    "### describe"
   ]
  },
  {
   "cell_type": "code",
   "execution_count": null,
   "metadata": {
    "ExecuteTime": {
     "end_time": "2022-12-19T06:49:27.904791Z",
     "start_time": "2022-12-19T06:49:14.618612Z"
    }
   },
   "outputs": [],
   "source": [
    "conn = connect_db()\n",
    "sql = \"select * from pgaredm.v_cnf_customer_hst where record_Date=trunc(sysdate-1) and CUSTOMER_TP_CODE='TA'\"\n",
    "df = pd.read_sql(sql, conn)\n",
    "display(df)"
   ]
  },
  {
   "cell_type": "code",
   "execution_count": null,
   "metadata": {
    "ExecuteTime": {
     "end_time": "2022-12-19T06:49:28.089076Z",
     "start_time": "2022-12-19T06:49:27.906891Z"
    }
   },
   "outputs": [],
   "source": [
    "pd.set_option('display.float_format', lambda x: '%.2f' % x)\n",
    "df.describe()"
   ]
  },
  {
   "cell_type": "markdown",
   "metadata": {},
   "source": [
    "### info"
   ]
  },
  {
   "cell_type": "code",
   "execution_count": null,
   "metadata": {
    "ExecuteTime": {
     "end_time": "2022-12-19T06:49:28.098493Z",
     "start_time": "2022-12-19T06:49:28.090377Z"
    }
   },
   "outputs": [],
   "source": [
    "df.info()"
   ]
  },
  {
   "cell_type": "markdown",
   "metadata": {},
   "source": [
    "### shape"
   ]
  },
  {
   "cell_type": "code",
   "execution_count": null,
   "metadata": {
    "ExecuteTime": {
     "end_time": "2022-12-19T06:49:28.102993Z",
     "start_time": "2022-12-19T06:49:28.100074Z"
    }
   },
   "outputs": [],
   "source": [
    "df.shape"
   ]
  },
  {
   "cell_type": "code",
   "execution_count": null,
   "metadata": {
    "ExecuteTime": {
     "end_time": "2022-12-19T06:49:28.107340Z",
     "start_time": "2022-12-19T06:49:28.104157Z"
    }
   },
   "outputs": [],
   "source": [
    "r,c = df.shape\n",
    "print('rows:', r)\n",
    "print('cols:', c)"
   ]
  },
  {
   "cell_type": "code",
   "execution_count": null,
   "metadata": {
    "ExecuteTime": {
     "end_time": "2022-12-19T06:49:28.111672Z",
     "start_time": "2022-12-19T06:49:28.108645Z"
    }
   },
   "outputs": [],
   "source": [
    "len(df)"
   ]
  },
  {
   "cell_type": "code",
   "execution_count": null,
   "metadata": {
    "ExecuteTime": {
     "end_time": "2022-12-19T06:49:28.115228Z",
     "start_time": "2022-12-19T06:49:28.112797Z"
    }
   },
   "outputs": [],
   "source": [
    "df.shape[0]"
   ]
  },
  {
   "cell_type": "markdown",
   "metadata": {},
   "source": [
    "### filtreleme"
   ]
  },
  {
   "cell_type": "code",
   "execution_count": null,
   "metadata": {
    "ExecuteTime": {
     "end_time": "2022-12-19T06:47:35.420819Z",
     "start_time": "2022-12-19T06:47:35.193596Z"
    }
   },
   "outputs": [],
   "source": [
    "import pandas as pd"
   ]
  },
  {
   "cell_type": "code",
   "execution_count": null,
   "metadata": {
    "ExecuteTime": {
     "end_time": "2022-12-19T06:51:34.967039Z",
     "start_time": "2022-12-19T06:51:34.877108Z"
    }
   },
   "outputs": [],
   "source": [
    "df[ (df.IP_ID>10000) & (df.MAIN_BRANCH_NUM>'900') & (df.CORPORATION_FLG==1) ]"
   ]
  },
  {
   "cell_type": "markdown",
   "metadata": {},
   "source": [
    "### filter komutu"
   ]
  },
  {
   "cell_type": "code",
   "execution_count": null,
   "metadata": {
    "ExecuteTime": {
     "end_time": "2022-12-19T06:52:32.488731Z",
     "start_time": "2022-12-19T06:52:32.396245Z"
    }
   },
   "outputs": [],
   "source": [
    "df.filter(like='CUSTOMER') # isminde IP geçen kolonları seçer"
   ]
  },
  {
   "cell_type": "markdown",
   "metadata": {},
   "source": [
    "### loc, iloc\n",
    "\n",
    "* loc: location\n",
    "* iloc: index location"
   ]
  },
  {
   "cell_type": "code",
   "execution_count": null,
   "metadata": {
    "ExecuteTime": {
     "end_time": "2022-11-28T11:51:16.066647Z",
     "start_time": "2022-11-28T11:51:16.015502Z"
    }
   },
   "outputs": [],
   "source": [
    "df.head()"
   ]
  },
  {
   "cell_type": "code",
   "execution_count": null,
   "metadata": {
    "ExecuteTime": {
     "end_time": "2022-11-28T11:50:38.211914Z",
     "start_time": "2022-11-28T11:50:38.205576Z"
    }
   },
   "outputs": [],
   "source": [
    "df.iloc[1:5, 1:3]"
   ]
  },
  {
   "cell_type": "code",
   "execution_count": null,
   "metadata": {
    "ExecuteTime": {
     "end_time": "2022-12-19T06:55:36.563883Z",
     "start_time": "2022-12-19T06:55:36.554835Z"
    }
   },
   "outputs": [],
   "source": [
    "df.loc[0:100, ['INSERT_DATE','INSERT_SESSION_NUM','SOURCE_SYSTEM_ID']]"
   ]
  },
  {
   "cell_type": "code",
   "execution_count": null,
   "metadata": {
    "ExecuteTime": {
     "end_time": "2022-12-19T06:56:45.292414Z",
     "start_time": "2022-12-19T06:56:45.283529Z"
    }
   },
   "outputs": [],
   "source": [
    "df[['INSERT_SESSION_NUM','RECORD_DATE']]"
   ]
  },
  {
   "cell_type": "markdown",
   "metadata": {},
   "source": [
    "### set_index()"
   ]
  },
  {
   "cell_type": "code",
   "execution_count": null,
   "metadata": {
    "ExecuteTime": {
     "end_time": "2022-12-19T06:58:05.220330Z",
     "start_time": "2022-12-19T06:58:03.904852Z"
    }
   },
   "outputs": [],
   "source": [
    "df = df.set_index('IP_ID')\n",
    "display(df)"
   ]
  },
  {
   "cell_type": "code",
   "execution_count": null,
   "metadata": {
    "ExecuteTime": {
     "end_time": "2022-12-19T06:59:21.758826Z",
     "start_time": "2022-12-19T06:59:21.163442Z"
    }
   },
   "outputs": [],
   "source": [
    "df.loc[ 2621607:19684052, ['INSERT_DATE','CORPORATION_FLG']]"
   ]
  },
  {
   "cell_type": "markdown",
   "metadata": {},
   "source": [
    "### astype\n",
    "bir kolonun veri tipini değiştirmek için kullanılır"
   ]
  },
  {
   "cell_type": "code",
   "execution_count": null,
   "metadata": {
    "ExecuteTime": {
     "end_time": "2022-12-19T07:01:24.757725Z",
     "start_time": "2022-12-19T07:01:24.749851Z"
    }
   },
   "outputs": [],
   "source": [
    "import datetime\n",
    "import numpy as np\n",
    "\n",
    "df = pd.DataFrame(['1','2','3.5','4'])\n",
    "print(df.dtypes)\n",
    "\n",
    "\n",
    "display(df.astype(float))\n",
    "print(df.astype(float).dtypes)"
   ]
  },
  {
   "cell_type": "code",
   "execution_count": null,
   "metadata": {
    "ExecuteTime": {
     "end_time": "2022-12-19T07:03:08.074951Z",
     "start_time": "2022-12-19T07:03:08.067484Z"
    }
   },
   "outputs": [],
   "source": [
    "df = pd.DataFrame([\n",
    "    [1, '1.5'],\n",
    "    [2, '2.5'],\n",
    "    [3, '3.5']\n",
    "                  ], columns=['A','B'])\n",
    "display(df)\n",
    "display(df.dtypes)"
   ]
  },
  {
   "cell_type": "code",
   "execution_count": null,
   "metadata": {
    "ExecuteTime": {
     "end_time": "2022-12-19T07:04:08.128281Z",
     "start_time": "2022-12-19T07:04:08.124327Z"
    }
   },
   "outputs": [],
   "source": [
    "df.B.astype(float)"
   ]
  },
  {
   "cell_type": "code",
   "execution_count": null,
   "metadata": {
    "ExecuteTime": {
     "end_time": "2022-12-19T07:04:35.785380Z",
     "start_time": "2022-12-19T07:04:35.778505Z"
    }
   },
   "outputs": [],
   "source": [
    "df.B = df.B.astype(float)\n",
    "display(df)\n",
    "display(df.dtypes)"
   ]
  },
  {
   "cell_type": "markdown",
   "metadata": {},
   "source": [
    "### dataframe'e sütun ekleme"
   ]
  },
  {
   "cell_type": "code",
   "execution_count": null,
   "metadata": {
    "ExecuteTime": {
     "end_time": "2022-12-19T07:06:22.042856Z",
     "start_time": "2022-12-19T07:06:22.036929Z"
    }
   },
   "outputs": [],
   "source": [
    "df['C'] = df.B.astype(float) ** 2\n",
    "display(df)"
   ]
  },
  {
   "cell_type": "code",
   "execution_count": null,
   "metadata": {
    "ExecuteTime": {
     "end_time": "2022-12-19T07:07:17.618348Z",
     "start_time": "2022-12-19T07:07:17.612381Z"
    }
   },
   "outputs": [],
   "source": [
    "df['D'] = 1\n",
    "display(df)"
   ]
  }
 ],
 "metadata": {
  "kernelspec": {
   "display_name": "Python 3",
   "language": "python",
   "name": "python3"
  },
  "language_info": {
   "codemirror_mode": {
    "name": "ipython",
    "version": 3
   },
   "file_extension": ".py",
   "mimetype": "text/x-python",
   "name": "python",
   "nbconvert_exporter": "python",
   "pygments_lexer": "ipython3",
   "version": "3.7.6"
  },
  "toc": {
   "base_numbering": 1,
   "nav_menu": {},
   "number_sections": true,
   "sideBar": true,
   "skip_h1_title": false,
   "title_cell": "Table of Contents",
   "title_sidebar": "Contents",
   "toc_cell": false,
   "toc_position": {},
   "toc_section_display": true,
   "toc_window_display": true
  },
  "varInspector": {
   "cols": {
    "lenName": 16,
    "lenType": 16,
    "lenVar": 40
   },
   "kernels_config": {
    "python": {
     "delete_cmd_postfix": "",
     "delete_cmd_prefix": "del ",
     "library": "var_list.py",
     "varRefreshCmd": "print(var_dic_list())"
    },
    "r": {
     "delete_cmd_postfix": ") ",
     "delete_cmd_prefix": "rm(",
     "library": "var_list.r",
     "varRefreshCmd": "cat(var_dic_list()) "
    }
   },
   "types_to_exclude": [
    "module",
    "function",
    "builtin_function_or_method",
    "instance",
    "_Feature"
   ],
   "window_display": false
  }
 },
 "nbformat": 4,
 "nbformat_minor": 4
}
