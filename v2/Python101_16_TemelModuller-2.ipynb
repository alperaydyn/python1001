{
 "cells": [
  {
   "cell_type": "code",
   "execution_count": null,
   "metadata": {
    "ExecuteTime": {
     "end_time": "2022-11-22T09:10:51.808337Z",
     "start_time": "2022-11-22T09:10:51.595587Z"
    }
   },
   "outputs": [],
   "source": [
    "import sys\n",
    "sys.path.append('/data/ECS/PythonTutorial/')\n",
    "import log\n",
    "log.topic_id = '16_TemelModuller-2'"
   ]
  },
  {
   "cell_type": "markdown",
   "metadata": {
    "id": "f1pUQ2Tj8x3l"
   },
   "source": [
    "## Temel Modüller"
   ]
  },
  {
   "cell_type": "markdown",
   "metadata": {
    "id": "GOYG-M24BVQc"
   },
   "source": [
    "### random\n",
    "\n",
    "python ile birlikte gelen rastgele değişkenler üretmek için kullanılan kütüphanedir."
   ]
  },
  {
   "cell_type": "markdown",
   "metadata": {
    "id": "SsPXp6KaNCBF"
   },
   "source": [
    "#### random\n",
    "0-1 arasında rasgele bir sayı seçer"
   ]
  },
  {
   "cell_type": "code",
   "execution_count": null,
   "metadata": {
    "ExecuteTime": {
     "end_time": "2022-12-12T12:33:01.415726Z",
     "start_time": "2022-12-12T12:33:01.413357Z"
    },
    "colab": {
     "base_uri": "https://localhost:8080/"
    },
    "executionInfo": {
     "elapsed": 281,
     "status": "ok",
     "timestamp": 1652958843759,
     "user": {
      "displayName": "Alper Aydın",
      "userId": "16424421511940582464"
     },
     "user_tz": -180
    },
    "id": "k72HfoyQ4gtN",
    "outputId": "f0856f1d-6a7c-48cd-dd72-eb2dc21ec070"
   },
   "outputs": [],
   "source": [
    "import random #random.py\n",
    "random.random() # 0-1 arasında rastgele bir float üretir"
   ]
  },
  {
   "cell_type": "code",
   "execution_count": null,
   "metadata": {
    "ExecuteTime": {
     "end_time": "2022-12-12T12:33:18.980417Z",
     "start_time": "2022-12-12T12:33:18.978084Z"
    }
   },
   "outputs": [],
   "source": [
    "int(random.random()*100)"
   ]
  },
  {
   "cell_type": "markdown",
   "metadata": {
    "id": "AJ1e8HcANHJV"
   },
   "source": [
    "##### randint \n",
    "belirtilen aralıkta rastgele bir tamsayı seçer"
   ]
  },
  {
   "cell_type": "code",
   "execution_count": null,
   "metadata": {
    "ExecuteTime": {
     "end_time": "2022-12-12T12:33:59.795606Z",
     "start_time": "2022-12-12T12:33:59.793184Z"
    },
    "colab": {
     "base_uri": "https://localhost:8080/"
    },
    "executionInfo": {
     "elapsed": 258,
     "status": "ok",
     "timestamp": 1652958887675,
     "user": {
      "displayName": "Alper Aydın",
      "userId": "16424421511940582464"
     },
     "user_tz": -180
    },
    "id": "C6khyG4zBq6w",
    "outputId": "aac54194-7a42-408f-b286-d42361241516"
   },
   "outputs": [],
   "source": [
    "random.randint(0,100) #0-100 arasında rastgele bir tamsayı üretir"
   ]
  },
  {
   "cell_type": "markdown",
   "metadata": {
    "id": "sOherm1PNK_A"
   },
   "source": [
    "##### randrange\n",
    "belirtilen range koşullarında bir sayı seçer"
   ]
  },
  {
   "cell_type": "code",
   "execution_count": null,
   "metadata": {
    "ExecuteTime": {
     "end_time": "2022-12-12T12:35:58.220221Z",
     "start_time": "2022-12-12T12:35:58.216946Z"
    },
    "colab": {
     "base_uri": "https://localhost:8080/"
    },
    "executionInfo": {
     "elapsed": 444,
     "status": "ok",
     "timestamp": 1652961587725,
     "user": {
      "displayName": "Alper Aydın",
      "userId": "16424421511940582464"
     },
     "user_tz": -180
    },
    "id": "tfhBq4M3Bvxo",
    "outputId": "03ed8392-5e25-4cc4-933e-10af1054633a"
   },
   "outputs": [],
   "source": [
    "print(random.randrange(5,11)) # 5-10 aralığında rastgele bir sayı seçer\n",
    "print(random.randrange(2,11,2)) # 2,4,6,8,10 sayılarından rastgele bir sayı seçer\n",
    "print(random.randrange(20,101,10)) # 20,...,100 arasından rastele bir sayı seçer"
   ]
  },
  {
   "cell_type": "markdown",
   "metadata": {
    "id": "H-dJQzAbNT1G"
   },
   "source": [
    "##### choice\n",
    "verilen bir listenin içerisinde rasgele bir eleman seçer"
   ]
  },
  {
   "cell_type": "code",
   "execution_count": null,
   "metadata": {
    "ExecuteTime": {
     "end_time": "2022-12-12T12:36:59.928292Z",
     "start_time": "2022-12-12T12:36:59.925207Z"
    },
    "colab": {
     "base_uri": "https://localhost:8080/"
    },
    "executionInfo": {
     "elapsed": 282,
     "status": "ok",
     "timestamp": 1652961626866,
     "user": {
      "displayName": "Alper Aydın",
      "userId": "16424421511940582464"
     },
     "user_tz": -180
    },
    "id": "tMBqGh2UMC6N",
    "outputId": "3ac12d7c-5b6e-4b6b-920c-1b796c9720d6"
   },
   "outputs": [],
   "source": [
    "a = (1,4,3,5,6,7,3,2,5,6,8,8,4,2)\n",
    "random.choice(a)"
   ]
  },
  {
   "cell_type": "code",
   "execution_count": null,
   "metadata": {
    "ExecuteTime": {
     "end_time": "2022-12-12T12:37:00.687136Z",
     "start_time": "2022-12-12T12:37:00.684261Z"
    },
    "colab": {
     "base_uri": "https://localhost:8080/",
     "height": 35
    },
    "executionInfo": {
     "elapsed": 4,
     "status": "ok",
     "timestamp": 1652961964883,
     "user": {
      "displayName": "Alper Aydın",
      "userId": "16424421511940582464"
     },
     "user_tz": -180
    },
    "id": "jVKV61OyNZHm",
    "outputId": "e9bb617c-4c01-48ff-e7bb-6cc26d7579ec"
   },
   "outputs": [],
   "source": [
    "b = (1,2,3,2,5,6,8,8,6,4,3,'b','d','c')\n",
    "random.choice(b)"
   ]
  },
  {
   "cell_type": "code",
   "execution_count": null,
   "metadata": {
    "ExecuteTime": {
     "end_time": "2022-11-22T09:17:11.957982Z",
     "start_time": "2022-11-22T09:17:11.954986Z"
    }
   },
   "outputs": [],
   "source": [
    "b = ['A' , 'B' , 'C' ]\n",
    "random.choice(b)"
   ]
  },
  {
   "cell_type": "markdown",
   "metadata": {
    "id": "ven0gZb-NgB0"
   },
   "source": [
    "##### sample\n",
    "verilen bir diziden belirtilen adette rastgele seçim yapar"
   ]
  },
  {
   "cell_type": "code",
   "execution_count": null,
   "metadata": {
    "ExecuteTime": {
     "end_time": "2022-12-12T12:37:17.655007Z",
     "start_time": "2022-12-12T12:37:17.652495Z"
    },
    "colab": {
     "base_uri": "https://localhost:8080/"
    },
    "executionInfo": {
     "elapsed": 292,
     "status": "ok",
     "timestamp": 1652961834804,
     "user": {
      "displayName": "Alper Aydın",
      "userId": "16424421511940582464"
     },
     "user_tz": -180
    },
    "id": "6saTZxcTM5aU",
    "outputId": "fca8c4f8-d3f6-40e0-c2a4-531cb24a56bd"
   },
   "outputs": [],
   "source": [
    "a = (1,4,3,5,6,7,3,2,5,6,8,8,4,2)\n",
    "s = random.sample(a, 4)\n",
    "print(s)"
   ]
  },
  {
   "cell_type": "markdown",
   "metadata": {
    "id": "Sj3PTEH2Nnvr"
   },
   "source": [
    "##### shuffle\n",
    "verilen bir dizinin sırasını rastgele değiştirir"
   ]
  },
  {
   "cell_type": "code",
   "execution_count": null,
   "metadata": {
    "ExecuteTime": {
     "end_time": "2022-12-12T12:38:28.046480Z",
     "start_time": "2022-12-12T12:38:28.043859Z"
    },
    "colab": {
     "base_uri": "https://localhost:8080/"
    },
    "executionInfo": {
     "elapsed": 281,
     "status": "ok",
     "timestamp": 1652961739058,
     "user": {
      "displayName": "Alper Aydın",
      "userId": "16424421511940582464"
     },
     "user_tz": -180
    },
    "id": "xkRUbOU5MMgb",
    "outputId": "728a55d7-019a-469d-bc26-6395ac6a23fa"
   },
   "outputs": [],
   "source": [
    "a = [1,4,3,5,6,7,3,2,5,6,8,8,4,2]\n",
    "print(a)\n",
    "random.shuffle(a)\n",
    "print(a)"
   ]
  },
  {
   "cell_type": "markdown",
   "metadata": {
    "id": "_5zmNRNT8qrJ"
   },
   "source": [
    "### datetime\n",
    "python ile birlikte gelen tarih ve zaman fonksiyonlarını içeren kütüphane"
   ]
  },
  {
   "cell_type": "code",
   "execution_count": null,
   "metadata": {
    "ExecuteTime": {
     "end_time": "2022-12-12T12:39:58.926800Z",
     "start_time": "2022-12-12T12:39:58.925033Z"
    },
    "executionInfo": {
     "elapsed": 319,
     "status": "ok",
     "timestamp": 1652966587854,
     "user": {
      "displayName": "Alper Aydın",
      "userId": "16424421511940582464"
     },
     "user_tz": -180
    },
    "id": "8yvy3EJLSqHt"
   },
   "outputs": [],
   "source": [
    "import datetime as dt # /xyz/xyz/datetime.py"
   ]
  },
  {
   "cell_type": "markdown",
   "metadata": {
    "id": "O2mG98f8Snc7"
   },
   "source": [
    "#### now"
   ]
  },
  {
   "cell_type": "code",
   "execution_count": null,
   "metadata": {
    "ExecuteTime": {
     "end_time": "2022-12-12T12:40:39.010181Z",
     "start_time": "2022-12-12T12:40:39.007838Z"
    },
    "colab": {
     "base_uri": "https://localhost:8080/"
    },
    "executionInfo": {
     "elapsed": 524,
     "status": "ok",
     "timestamp": 1652966600865,
     "user": {
      "displayName": "Alper Aydın",
      "userId": "16424421511940582464"
     },
     "user_tz": -180
    },
    "id": "wyPU8b_hTwmN",
    "outputId": "1949c21f-476a-4cf8-9974-7c1510152c26"
   },
   "outputs": [],
   "source": [
    "d = dt.datetime.now()\n",
    "print(d)\n",
    "print(type(d))"
   ]
  },
  {
   "cell_type": "code",
   "execution_count": null,
   "metadata": {
    "ExecuteTime": {
     "end_time": "2022-12-12T12:40:57.488143Z",
     "start_time": "2022-12-12T12:40:57.485725Z"
    }
   },
   "outputs": [],
   "source": [
    "print(d.year, d.month, d.day, d.hour, d.minute, d.second)"
   ]
  },
  {
   "cell_type": "code",
   "execution_count": null,
   "metadata": {
    "ExecuteTime": {
     "end_time": "2022-12-12T12:41:07.283918Z",
     "start_time": "2022-12-12T12:41:07.281484Z"
    },
    "colab": {
     "base_uri": "https://localhost:8080/"
    },
    "executionInfo": {
     "elapsed": 275,
     "status": "ok",
     "timestamp": 1652966602544,
     "user": {
      "displayName": "Alper Aydın",
      "userId": "16424421511940582464"
     },
     "user_tz": -180
    },
    "id": "O7rwZ6IHUEUC",
    "outputId": "0ea3a82e-ad33-4490-d876-0a66c2781172"
   },
   "outputs": [],
   "source": [
    "today = dt.datetime.today()\n",
    "now = dt.datetime.now()\n",
    "print(today)\n",
    "print(now)"
   ]
  },
  {
   "cell_type": "markdown",
   "metadata": {},
   "source": [
    "#### TimeZone Örneği"
   ]
  },
  {
   "cell_type": "code",
   "execution_count": null,
   "metadata": {
    "ExecuteTime": {
     "end_time": "2022-12-12T12:43:43.276618Z",
     "start_time": "2022-12-12T12:43:43.257313Z"
    }
   },
   "outputs": [],
   "source": [
    "import datetime as dt\n",
    "import pytz #timezone için library\n",
    "\n",
    "d = dt.datetime.now()\n",
    "timezone = pytz.timezone('Europe/Madrid')\n",
    "d_aware = timezone.localize(d)\n",
    "print('Madrid:', dt.datetime.now(d_aware.tzinfo))\n",
    "\n",
    "timezone = pytz.timezone('Europe/Istanbul')\n",
    "d_aware = timezone.localize(d)\n",
    "print('Istanbul:', dt.datetime.now(d_aware.tzinfo))"
   ]
  },
  {
   "cell_type": "markdown",
   "metadata": {
    "id": "WPr3DzgpUJ0m"
   },
   "source": [
    "#### strftime\n",
    "tarih tipinde bir veriyi belirtilen formatta string veri tipine dönüştürür\n",
    "\n",
    "format|açıklama\n",
    "-|-\n",
    "%a| hafta gününün kısaltılmış adı\n",
    "%A| hafta gününün tam adı\n",
    "%b| ayın kısaltılmış adı\n",
    "%B| ayın tam adı\n",
    "%c| tam tarih, saat ve zaman bilgisi\n",
    "%d| sayı değerli bir karakter dizisi olarak gün\n",
    "%j| belli bir tarihin, yılın kaçıncı gününe denk geldiğini gösteren 1-366 arası bir sayı\n",
    "%m| sayı değerli bir karakter dizisi olarak ay\n",
    "%U| belli bir tarihin yılın kaçıncı haftasına geldiğini gösteren 0-53 arası bir sayı\n",
    "%y| yılın son iki rakamı\n",
    "%Y| yılın dört haneli tam hali\n",
    "%x| tam tarih bilgisi\n",
    "%X| tam saat bilgisi\n",
    "%M| dakika\n",
    "%H| saat\n",
    "%S| saniye"
   ]
  },
  {
   "cell_type": "code",
   "execution_count": null,
   "metadata": {
    "ExecuteTime": {
     "end_time": "2022-12-12T12:48:28.069910Z",
     "start_time": "2022-12-12T12:48:28.065535Z"
    },
    "colab": {
     "base_uri": "https://localhost:8080/"
    },
    "executionInfo": {
     "elapsed": 259,
     "status": "ok",
     "timestamp": 1652966618839,
     "user": {
      "displayName": "Alper Aydın",
      "userId": "16424421511940582464"
     },
     "user_tz": -180
    },
    "id": "4LFlGz8hUF9H",
    "outputId": "3ee7d663-f433-4782-cf2c-7f61e58cd721"
   },
   "outputs": [],
   "source": [
    "d = dt.datetime.now()\n",
    "print(d)\n",
    "print('%Y:\\t', dt.datetime.strftime(d, '%Y'))\n",
    "print('%Y-%m:\\t', dt.datetime.strftime(d, '%Y-%m'))\n",
    "print('%Y-%m-%d:\\t', dt.datetime.strftime(d, '%Y-%m-%d'))\n",
    "print('%d.%m.%Y:\\t', dt.datetime.strftime(d, '%d.%m.%Y'))\n",
    "print('%Y-%m-%d %H:%M:%S:\\t', dt.datetime.strftime(d, '%Y-%m-%d %H:%M:%S'))\n",
    "print(type(dt.datetime.strftime(d, '%Y')))"
   ]
  },
  {
   "cell_type": "code",
   "execution_count": null,
   "metadata": {
    "ExecuteTime": {
     "end_time": "2022-12-12T12:49:13.926666Z",
     "start_time": "2022-12-12T12:49:12.726713Z"
    }
   },
   "outputs": [],
   "source": [
    "import sys\n",
    "import pandas as pd\n",
    "sys.path.append('/data/ECS/_common/_libraries/')\n",
    "import _etl\n",
    "tarih = dt.datetime.strftime(dt.datetime.now(), '%d/%m/%Y')\n",
    "sql = f\"select * from pgaredm.v_cnf_customer_hst where record_date=to_date('{tarih}','DD/MM/YYYY')-1 and rownum<=10\"\n",
    "print(sql)\n",
    "pd.read_sql(sql, _etl.get_conn())"
   ]
  },
  {
   "cell_type": "markdown",
   "metadata": {
    "id": "gCmBmpKjVI2F"
   },
   "source": [
    "#### strptime\n",
    "ptime : (parse time)\n",
    "\n",
    "string veri tipinde bir ifadeyi tarih veri tipine dönüştürür"
   ]
  },
  {
   "cell_type": "code",
   "execution_count": null,
   "metadata": {
    "ExecuteTime": {
     "end_time": "2022-12-12T12:51:56.092783Z",
     "start_time": "2022-12-12T12:51:56.088902Z"
    },
    "colab": {
     "base_uri": "https://localhost:8080/"
    },
    "executionInfo": {
     "elapsed": 281,
     "status": "ok",
     "timestamp": 1652966623840,
     "user": {
      "displayName": "Alper Aydın",
      "userId": "16424421511940582464"
     },
     "user_tz": -180
    },
    "id": "JievAQMsVKkh",
    "outputId": "2bf8abaf-4f27-4b5e-d61b-b43248e538fd"
   },
   "outputs": [],
   "source": [
    "d = dt.datetime.strptime('2022-05-19 12:11','%Y-%m-%d %H:%M')\n",
    "print(d)\n",
    "print(type(d))"
   ]
  },
  {
   "cell_type": "markdown",
   "metadata": {
    "id": "vlxYfVvtdT_d"
   },
   "source": [
    "#### tarih bileşenleri"
   ]
  },
  {
   "cell_type": "code",
   "execution_count": null,
   "metadata": {
    "ExecuteTime": {
     "end_time": "2022-12-12T12:52:22.886672Z",
     "start_time": "2022-12-12T12:52:22.880971Z"
    },
    "colab": {
     "base_uri": "https://localhost:8080/"
    },
    "executionInfo": {
     "elapsed": 450,
     "status": "ok",
     "timestamp": 1652966626543,
     "user": {
      "displayName": "Alper Aydın",
      "userId": "16424421511940582464"
     },
     "user_tz": -180
    },
    "id": "txU9I6vidAKD",
    "outputId": "72898e28-e0df-4ebb-cac2-8b4977ad4ecd"
   },
   "outputs": [],
   "source": [
    "timezone = pytz.timezone('Europe/Madrid')\n",
    "d_aware = timezone.localize(d)\n",
    "\n",
    "tarih = dt.datetime.now(d_aware.tzinfo)\n",
    "\n",
    "print('Yıl:\\t', tarih.year)\n",
    "print('Ay:\\t', tarih.month)\n",
    "print('Gün:\\t', tarih.day)\n",
    "print('Saat:\\t', tarih.hour)\n",
    "print('Dakika:\\t', tarih.minute)\n",
    "print('Saniye:\\t', tarih.second)\n",
    "print('tz', tarih.tzinfo)\n",
    "tarih.weekday()"
   ]
  },
  {
   "cell_type": "markdown",
   "metadata": {
    "id": "wzsFzMaFdrPt"
   },
   "source": [
    "#### tarih işlemleri"
   ]
  },
  {
   "cell_type": "code",
   "execution_count": null,
   "metadata": {
    "ExecuteTime": {
     "end_time": "2022-12-12T12:55:47.622609Z",
     "start_time": "2022-12-12T12:55:47.619518Z"
    },
    "colab": {
     "base_uri": "https://localhost:8080/"
    },
    "executionInfo": {
     "elapsed": 268,
     "status": "ok",
     "timestamp": 1652966632046,
     "user": {
      "displayName": "Alper Aydın",
      "userId": "16424421511940582464"
     },
     "user_tz": -180
    },
    "id": "TgCBOWFuduLi",
    "outputId": "3fe46cc8-d711-4ab7-c18a-35680744a7c2"
   },
   "outputs": [],
   "source": [
    "t1 = dt.datetime.strptime('2022-01-01','%Y-%m-%d')\n",
    "t2 = dt.datetime.strptime('2022-05-01','%Y-%m-%d')\n",
    "fark = t2-t1\n",
    "print(fark)\n",
    "print(type(fark))\n"
   ]
  },
  {
   "cell_type": "code",
   "execution_count": null,
   "metadata": {
    "ExecuteTime": {
     "end_time": "2022-12-12T12:55:03.998790Z",
     "start_time": "2022-12-12T12:55:03.995835Z"
    }
   },
   "outputs": [],
   "source": [
    "print('gün:\\t', fark.days)\n",
    "print('saniye:\\t', fark.total_seconds())\n",
    "print('saat:\\t', fark.total_seconds()/60/60)"
   ]
  },
  {
   "cell_type": "code",
   "execution_count": null,
   "metadata": {
    "ExecuteTime": {
     "end_time": "2022-12-12T12:57:02.071912Z",
     "start_time": "2022-12-12T12:57:02.068619Z"
    },
    "colab": {
     "base_uri": "https://localhost:8080/"
    },
    "executionInfo": {
     "elapsed": 275,
     "status": "ok",
     "timestamp": 1652966671714,
     "user": {
      "displayName": "Alper Aydın",
      "userId": "16424421511940582464"
     },
     "user_tz": -180
    },
    "id": "1OKfoz7Wef3U",
    "outputId": "1d660afc-d1cf-412b-d958-9129b21d1bcc"
   },
   "outputs": [],
   "source": [
    "t1 = dt.datetime.today()\n",
    "fark = dt.timedelta(days=120)\n",
    "t2 = t1 + fark\n",
    "print(t1)\n",
    "print(t2)\n",
    "\n",
    "print('---'*10)\n",
    "\n",
    "t2 = t1 - fark\n",
    "print(t1)\n",
    "print(t2)"
   ]
  },
  {
   "cell_type": "code",
   "execution_count": null,
   "metadata": {
    "ExecuteTime": {
     "end_time": "2022-12-12T12:57:48.181267Z",
     "start_time": "2022-12-12T12:57:48.179183Z"
    }
   },
   "outputs": [],
   "source": [
    "d2 = dt.datetime.now()+dt.timedelta(weeks=4)\n",
    "print(d2)"
   ]
  },
  {
   "cell_type": "markdown",
   "metadata": {
    "id": "6Y204UHTiOte"
   },
   "source": [
    "#### replace"
   ]
  },
  {
   "cell_type": "code",
   "execution_count": null,
   "metadata": {
    "ExecuteTime": {
     "end_time": "2022-12-12T12:59:44.744208Z",
     "start_time": "2022-12-12T12:59:44.740960Z"
    },
    "colab": {
     "base_uri": "https://localhost:8080/"
    },
    "executionInfo": {
     "elapsed": 447,
     "status": "ok",
     "timestamp": 1652967429911,
     "user": {
      "displayName": "Alper Aydın",
      "userId": "16424421511940582464"
     },
     "user_tz": -180
    },
    "id": "F1gclrxviP5w",
    "outputId": "f7a075ca-dda2-4b05-f444-0f4b265d50b7"
   },
   "outputs": [],
   "source": [
    "t1 = dt.datetime.today()\n",
    "print(t1)\n",
    "t2 = t1.replace(day=1, month=4, hour=1, second=0, minute=0 )\n",
    "print(t2)\n",
    "print(t2.time())\n",
    "print(t2.date())"
   ]
  },
  {
   "cell_type": "code",
   "execution_count": null,
   "metadata": {
    "ExecuteTime": {
     "end_time": "2022-12-12T13:00:32.923174Z",
     "start_time": "2022-12-12T13:00:32.892144Z"
    }
   },
   "outputs": [],
   "source": [
    "help(dt)"
   ]
  },
  {
   "cell_type": "markdown",
   "metadata": {
    "id": "uDngmlPbV2Zn"
   },
   "source": [
    "\n",
    "\n",
    "---\n",
    "\n"
   ]
  },
  {
   "cell_type": "markdown",
   "metadata": {
    "id": "SHzxoCMR8rwm"
   },
   "source": [
    "### time\n",
    "\n",
    "datetime modülüne benzer hatta ortak fonksiyonlar içerir. Farklı olarak daha çok zaman/saat ile ilgili fonksiyonlar içerir"
   ]
  },
  {
   "cell_type": "code",
   "execution_count": null,
   "metadata": {
    "ExecuteTime": {
     "end_time": "2022-12-12T13:01:41.913584Z",
     "start_time": "2022-12-12T13:01:41.911213Z"
    },
    "executionInfo": {
     "elapsed": 378,
     "status": "ok",
     "timestamp": 1652963459094,
     "user": {
      "displayName": "Alper Aydın",
      "userId": "16424421511940582464"
     },
     "user_tz": -180
    },
    "id": "zospKfM6TLL4"
   },
   "outputs": [],
   "source": [
    "import time"
   ]
  },
  {
   "cell_type": "code",
   "execution_count": null,
   "metadata": {
    "ExecuteTime": {
     "end_time": "2022-12-12T13:01:50.488253Z",
     "start_time": "2022-12-12T13:01:50.485234Z"
    },
    "colab": {
     "base_uri": "https://localhost:8080/"
    },
    "executionInfo": {
     "elapsed": 291,
     "status": "ok",
     "timestamp": 1652966953985,
     "user": {
      "displayName": "Alper Aydın",
      "userId": "16424421511940582464"
     },
     "user_tz": -180
    },
    "id": "fLOKcsAcPTM4",
    "outputId": "b2036c60-faaf-42e9-ae9b-8d559aff35ba"
   },
   "outputs": [],
   "source": [
    "[f for f in dir(dt.time) if f[0]!='_']"
   ]
  },
  {
   "cell_type": "code",
   "execution_count": null,
   "metadata": {
    "ExecuteTime": {
     "end_time": "2022-12-12T13:02:27.169411Z",
     "start_time": "2022-12-12T13:02:27.166068Z"
    },
    "colab": {
     "base_uri": "https://localhost:8080/"
    },
    "executionInfo": {
     "elapsed": 372,
     "status": "ok",
     "timestamp": 1652963525509,
     "user": {
      "displayName": "Alper Aydın",
      "userId": "16424421511940582464"
     },
     "user_tz": -180
    },
    "id": "QAt5XNODTSLs",
    "outputId": "70cd2ade-9448-43d2-be56-b4a3f7e11021"
   },
   "outputs": [],
   "source": [
    "[f for f in dir(time) if f[0]!='_']"
   ]
  },
  {
   "cell_type": "code",
   "execution_count": null,
   "metadata": {
    "ExecuteTime": {
     "end_time": "2022-11-22T10:57:19.129109Z",
     "start_time": "2022-11-22T10:57:19.123883Z"
    },
    "colab": {
     "base_uri": "https://localhost:8080/",
     "height": 169
    },
    "executionInfo": {
     "elapsed": 265,
     "status": "error",
     "timestamp": 1652967378944,
     "user": {
      "displayName": "Alper Aydın",
      "userId": "16424421511940582464"
     },
     "user_tz": -180
    },
    "id": "mdl2Qkyhhydt",
    "outputId": "17a739b1-3b88-442b-ad2d-97c63b8f8219"
   },
   "outputs": [],
   "source": [
    "help(dt.time)"
   ]
  },
  {
   "cell_type": "code",
   "execution_count": null,
   "metadata": {
    "ExecuteTime": {
     "end_time": "2022-11-22T10:57:28.471873Z",
     "start_time": "2022-11-22T10:57:28.449371Z"
    }
   },
   "outputs": [],
   "source": [
    "help(time)"
   ]
  },
  {
   "cell_type": "markdown",
   "metadata": {
    "id": "ckQAqLuXgIhm"
   },
   "source": [
    "#### time.time()"
   ]
  },
  {
   "cell_type": "code",
   "execution_count": null,
   "metadata": {
    "ExecuteTime": {
     "end_time": "2022-12-12T13:03:01.335870Z",
     "start_time": "2022-12-12T13:03:01.333240Z"
    },
    "colab": {
     "base_uri": "https://localhost:8080/"
    },
    "executionInfo": {
     "elapsed": 248,
     "status": "ok",
     "timestamp": 1652966964890,
     "user": {
      "displayName": "Alper Aydın",
      "userId": "16424421511940582464"
     },
     "user_tz": -180
    },
    "id": "7zk3vnGKWI7y",
    "outputId": "955fa978-5314-4448-8107-367311a68935"
   },
   "outputs": [],
   "source": [
    "time.time()"
   ]
  },
  {
   "cell_type": "code",
   "execution_count": null,
   "metadata": {
    "ExecuteTime": {
     "end_time": "2022-12-12T13:05:43.250128Z",
     "start_time": "2022-12-12T13:05:41.233351Z"
    }
   },
   "outputs": [],
   "source": [
    "def dongu(k):\n",
    "    a = 0\n",
    "    t1 = time.time()\n",
    "    for i in range(k):\n",
    "        a = a + i ** 2\n",
    "        pass\n",
    "    t2 = time.time()\n",
    "    \n",
    "    print(f'dongu tamamlandı,{t2-t1:.3f} sec')\n",
    "dongu(10000000)"
   ]
  },
  {
   "cell_type": "code",
   "execution_count": null,
   "metadata": {
    "ExecuteTime": {
     "end_time": "2022-12-12T13:06:18.898949Z",
     "start_time": "2022-12-12T13:06:18.896085Z"
    },
    "colab": {
     "base_uri": "https://localhost:8080/"
    },
    "executionInfo": {
     "elapsed": 434,
     "status": "ok",
     "timestamp": 1652967003310,
     "user": {
      "displayName": "Alper Aydın",
      "userId": "16424421511940582464"
     },
     "user_tz": -180
    },
    "id": "9eVG0nGHgjwI",
    "outputId": "b363eed9-25ec-49f4-cee8-fd8cb484d339"
   },
   "outputs": [],
   "source": [
    "time.gmtime(time.time())"
   ]
  },
  {
   "cell_type": "code",
   "execution_count": null,
   "metadata": {
    "ExecuteTime": {
     "end_time": "2022-12-12T13:06:42.888788Z",
     "start_time": "2022-12-12T13:06:42.882839Z"
    },
    "colab": {
     "base_uri": "https://localhost:8080/"
    },
    "executionInfo": {
     "elapsed": 383,
     "status": "ok",
     "timestamp": 1652967140794,
     "user": {
      "displayName": "Alper Aydın",
      "userId": "16424421511940582464"
     },
     "user_tz": -180
    },
    "id": "Mi4rgP84gtFb",
    "outputId": "79b50732-6748-4a69-9258-345cc639a78b"
   },
   "outputs": [],
   "source": [
    "print(time.gmtime(time.time()))\n",
    "print('Yıl:\\t', time.gmtime(time.time()).tm_year)\n",
    "print('Ay:\\t', time.gmtime(time.time()).tm_mon)\n",
    "print('Gün:\\t', time.gmtime(time.time()).tm_mday)\n",
    "print('Haftanın Günü:\\t', time.gmtime(time.time()).tm_wday)"
   ]
  },
  {
   "cell_type": "markdown",
   "metadata": {
    "id": "O6RajMmXikqK"
   },
   "source": [
    "#### sleep\n",
    "kodun işleyişini belirtilen süre boyunca beklemede tutmaya yarar"
   ]
  },
  {
   "cell_type": "code",
   "execution_count": null,
   "metadata": {
    "ExecuteTime": {
     "end_time": "2022-12-12T13:07:30.886168Z",
     "start_time": "2022-12-12T13:07:25.878462Z"
    },
    "colab": {
     "base_uri": "https://localhost:8080/"
    },
    "executionInfo": {
     "elapsed": 3424,
     "status": "ok",
     "timestamp": 1652967591060,
     "user": {
      "displayName": "Alper Aydın",
      "userId": "16424421511940582464"
     },
     "user_tz": -180
    },
    "id": "KSHpDp3WisBl",
    "outputId": "0588c84e-c9e6-49dc-a379-a1e7f69c482d"
   },
   "outputs": [],
   "source": [
    "import time\n",
    "\n",
    "print('başladı')\n",
    "print('bekliyor...')\n",
    "time.sleep(5)\n",
    "print('tamamlandı')\n",
    "print('---')"
   ]
  },
  {
   "cell_type": "code",
   "execution_count": null,
   "metadata": {},
   "outputs": [],
   "source": []
  }
 ],
 "metadata": {
  "kernelspec": {
   "display_name": "Python 3",
   "language": "python",
   "name": "python3"
  },
  "language_info": {
   "codemirror_mode": {
    "name": "ipython",
    "version": 3
   },
   "file_extension": ".py",
   "mimetype": "text/x-python",
   "name": "python",
   "nbconvert_exporter": "python",
   "pygments_lexer": "ipython3",
   "version": "3.7.6"
  },
  "toc": {
   "base_numbering": 1,
   "nav_menu": {},
   "number_sections": true,
   "sideBar": true,
   "skip_h1_title": false,
   "title_cell": "Table of Contents",
   "title_sidebar": "Contents",
   "toc_cell": false,
   "toc_position": {},
   "toc_section_display": true,
   "toc_window_display": true
  },
  "varInspector": {
   "cols": {
    "lenName": 16,
    "lenType": 16,
    "lenVar": 40
   },
   "kernels_config": {
    "python": {
     "delete_cmd_postfix": "",
     "delete_cmd_prefix": "del ",
     "library": "var_list.py",
     "varRefreshCmd": "print(var_dic_list())"
    },
    "r": {
     "delete_cmd_postfix": ") ",
     "delete_cmd_prefix": "rm(",
     "library": "var_list.r",
     "varRefreshCmd": "cat(var_dic_list()) "
    }
   },
   "types_to_exclude": [
    "module",
    "function",
    "builtin_function_or_method",
    "instance",
    "_Feature"
   ],
   "window_display": true
  }
 },
 "nbformat": 4,
 "nbformat_minor": 4
}
