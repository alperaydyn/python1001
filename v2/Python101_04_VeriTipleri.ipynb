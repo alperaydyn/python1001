{
 "cells": [
  {
   "cell_type": "code",
   "execution_count": null,
   "metadata": {
    "ExecuteTime": {
     "end_time": "2022-12-05T12:07:41.550643Z",
     "start_time": "2022-12-05T12:07:41.295727Z"
    }
   },
   "outputs": [],
   "source": [
    "import sys\n",
    "sys.path.append('/data/ECS/PythonTutorial/')\n",
    "import log\n",
    "log.topic_id = '04_VeriTipleri'"
   ]
  },
  {
   "cell_type": "markdown",
   "metadata": {},
   "source": [
    "<div class=\"alert alert-box\" style=\"font-size:12pt; padding:15px; line-height:150%; background-color:#33bbcc66; \">\n",
    "    Bu dersin amacı;\n",
    "    <li>Veri Tipi kavramının ne olduğunu öğrenmek</li>\n",
    "    <li>Python'da kullanılan yerleşik veri tiplerine yüzeysel bir giriş yapmak</li>\n",
    "    <li>Veri Tipi Dönüşümü kavramını öğrenmek\n",
    "</div>"
   ]
  },
  {
   "cell_type": "markdown",
   "metadata": {
    "id": "qyq0O0RbOuSz"
   },
   "source": [
    "# Veri Tipleri"
   ]
  },
  {
   "cell_type": "markdown",
   "metadata": {},
   "source": [
    "<div class=\"alert alert-box alert-info\" style=\"font-size:12pt; padding:15px; line-height:150%;\">\n",
    "    <li>Veri Tipi programlamada oldukça önemli bir kavramdır.</li>\n",
    "    <li>Her bir <a href=\"Python101_03_Degiskenler.ipynb\"><b>Değişken</b></a> belirli ve tek bir veri tipine ait veri tutabilir.</li>\n",
    "    <li>Her bir Veri Tipi bellekte farklı boyutta yer tutar ve <b>programın performansı</b> üzerinde doğrudan etkisi vardır.</li>\n",
    "    <li>Python'da aşağıdaki yerleşik veri tipleri bulunmaktadır.</li>\n",
    "    <li>Bunlar dışında da veri tipleri farklı kütüphaneler yoluyla kullanılabilir.\n",
    "</div>"
   ]
  },
  {
   "cell_type": "markdown",
   "metadata": {
    "id": "q661RQNwPULD"
   },
   "source": [
    "Kategori|Veri Tipleri\n",
    "--|--\n",
    "Metin Tipi Veriler|\tstr\n",
    "Sayısal Veriler|int, float, complex\n",
    "Sıralı Veriler|list, tuple, range\n",
    "Eşleştirme Tipi Veri|dict\n",
    "Küme Tipi|set, frozenset\n",
    "Mantıksal Veri Tipi|bool\n",
    "İkilik Veri Tipleri |bytes, bytearray, memoryview\n",
    "Boş Veri Tipi|None"
   ]
  },
  {
   "cell_type": "markdown",
   "metadata": {
    "id": "Pnjp_pspRPgz"
   },
   "source": [
    "## Metin Veri Tipi\n",
    "\n",
    "<div class=\"alert alert-box alert-white\" style=\"font-size:14pt; padding:15px; line-height:150%; font-weight:400\">\n",
    "    Metin veya karakter tipindeki verilerin tutulmasını sağlayan veri tipidir.\n",
    "</div>"
   ]
  },
  {
   "cell_type": "markdown",
   "metadata": {
    "ExecuteTime": {
     "end_time": "2022-07-16T09:11:24.847812Z",
     "start_time": "2022-07-16T09:11:24.844630Z"
    }
   },
   "source": [
    "<div class=\"alert alert-box alert-info\" style=\"font-size:14pt; padding:15px; line-height:150%; font-weight:400\">\n",
    "    <pre style=\"display:inline; padding:0px 10px;\">type()</pre>komutu ile bir değişkenin hangi veri tipine ait olduğunu görebiliz\n",
    "</div>"
   ]
  },
  {
   "cell_type": "code",
   "execution_count": null,
   "metadata": {
    "ExecuteTime": {
     "end_time": "2022-12-05T12:11:52.360613Z",
     "start_time": "2022-12-05T12:11:52.356961Z"
    },
    "id": "zka6ego6ReF_"
   },
   "outputs": [],
   "source": [
    "x = \"bu bir metin veri tipidir\"\n",
    "print(type(x))"
   ]
  },
  {
   "cell_type": "code",
   "execution_count": null,
   "metadata": {
    "ExecuteTime": {
     "end_time": "2022-12-05T12:13:21.771333Z",
     "start_time": "2022-12-05T12:13:21.767935Z"
    },
    "id": "YPWfqSx_SLs7"
   },
   "outputs": [],
   "source": [
    "x = str(\"bu da bir metin veri tipidir\")\n",
    "print(type(x))"
   ]
  },
  {
   "cell_type": "code",
   "execution_count": null,
   "metadata": {
    "ExecuteTime": {
     "end_time": "2022-12-05T12:13:22.586060Z",
     "start_time": "2022-12-05T12:13:22.582795Z"
    }
   },
   "outputs": [],
   "source": [
    "x = str(123)\n",
    "type(x)"
   ]
  },
  {
   "cell_type": "code",
   "execution_count": null,
   "metadata": {
    "ExecuteTime": {
     "end_time": "2022-12-05T12:13:48.708014Z",
     "start_time": "2022-12-05T12:13:48.702800Z"
    }
   },
   "outputs": [],
   "source": [
    "x = 123\n",
    "print(type(x))\n",
    "\n",
    "x = str(x)\n",
    "print(type(x))"
   ]
  },
  {
   "cell_type": "markdown",
   "metadata": {
    "id": "ldw88OTuRk9Z"
   },
   "source": [
    "## Sayısal Veri Tipleri\n",
    "\n",
    "int, float, complex"
   ]
  },
  {
   "cell_type": "code",
   "execution_count": null,
   "metadata": {
    "ExecuteTime": {
     "end_time": "2022-12-05T12:16:20.765490Z",
     "start_time": "2022-12-05T12:16:20.762098Z"
    },
    "id": "0h6MVUe0Rn6N"
   },
   "outputs": [],
   "source": [
    "x = 123\n",
    "print(type(x))"
   ]
  },
  {
   "cell_type": "code",
   "execution_count": null,
   "metadata": {
    "ExecuteTime": {
     "end_time": "2022-12-05T12:16:34.704495Z",
     "start_time": "2022-12-05T12:16:34.700823Z"
    },
    "id": "_HGZCEn1SaC1"
   },
   "outputs": [],
   "source": [
    "x = int(123)\n",
    "print(type(x))"
   ]
  },
  {
   "cell_type": "code",
   "execution_count": null,
   "metadata": {
    "ExecuteTime": {
     "end_time": "2022-12-05T12:16:42.406821Z",
     "start_time": "2022-12-05T12:16:42.403302Z"
    },
    "id": "MMAzvplrSoXL"
   },
   "outputs": [],
   "source": [
    "y = 12.5\n",
    "print(type(y))"
   ]
  },
  {
   "cell_type": "code",
   "execution_count": null,
   "metadata": {
    "ExecuteTime": {
     "end_time": "2022-12-05T12:20:34.376806Z",
     "start_time": "2022-12-05T12:20:34.373055Z"
    },
    "id": "1CGvKI1nSse_"
   },
   "outputs": [],
   "source": [
    "y = float(12)\n",
    "print(type(y), y)"
   ]
  },
  {
   "cell_type": "code",
   "execution_count": null,
   "metadata": {
    "ExecuteTime": {
     "end_time": "2022-12-05T12:20:44.153120Z",
     "start_time": "2022-12-05T12:20:44.149712Z"
    },
    "id": "8tEWauqGSvL6"
   },
   "outputs": [],
   "source": [
    "y = 4/2\n",
    "print(type(y))"
   ]
  },
  {
   "cell_type": "code",
   "execution_count": null,
   "metadata": {
    "ExecuteTime": {
     "end_time": "2022-12-05T12:21:40.051389Z",
     "start_time": "2022-12-05T12:21:40.047435Z"
    },
    "id": "sOs2-09KSyJu"
   },
   "outputs": [],
   "source": [
    "z = complex(1j)\n",
    "print(z, type(z))\n",
    "print(z.imag)\n",
    "print(z.real)"
   ]
  },
  {
   "cell_type": "code",
   "execution_count": null,
   "metadata": {
    "ExecuteTime": {
     "end_time": "2022-12-05T12:22:05.398698Z",
     "start_time": "2022-12-05T12:22:05.394322Z"
    },
    "id": "ufOjuzHeTmfR"
   },
   "outputs": [],
   "source": [
    "z = complex(-1,0)\n",
    "print(z, type(z))\n",
    "print(z.imag)\n",
    "print(z.real)"
   ]
  },
  {
   "cell_type": "code",
   "execution_count": null,
   "metadata": {
    "ExecuteTime": {
     "end_time": "2022-12-05T12:25:53.151189Z",
     "start_time": "2022-12-05T12:25:53.148130Z"
    }
   },
   "outputs": [],
   "source": [
    "y = float(0.1) #casting: veri tipini değiştiriyoruz\n",
    "print(type(y))\n",
    "print(y.is_integer())"
   ]
  },
  {
   "cell_type": "markdown",
   "metadata": {
    "id": "HuECf9z0RoeC"
   },
   "source": [
    "## Sıralı Veri Tipleri\n",
    "\n",
    "list, tuple, range"
   ]
  },
  {
   "cell_type": "code",
   "execution_count": null,
   "metadata": {
    "ExecuteTime": {
     "end_time": "2022-12-05T12:26:15.222574Z",
     "start_time": "2022-12-05T12:26:15.218833Z"
    },
    "id": "z4p6HVU5Rrc-"
   },
   "outputs": [],
   "source": [
    "x = list((1,2,3))\n",
    "print(x)\n",
    "print(type(x))\n",
    "print(id(x))"
   ]
  },
  {
   "cell_type": "code",
   "execution_count": null,
   "metadata": {
    "ExecuteTime": {
     "end_time": "2022-12-05T12:26:18.883593Z",
     "start_time": "2022-12-05T12:26:18.880223Z"
    },
    "id": "ZMoxsbSQUFPA"
   },
   "outputs": [],
   "source": [
    "x = tuple((1,2,3))\n",
    "print(x)\n",
    "print(type(x))\n",
    "print(id(x))"
   ]
  },
  {
   "cell_type": "code",
   "execution_count": null,
   "metadata": {
    "ExecuteTime": {
     "end_time": "2022-12-05T12:26:28.963353Z",
     "start_time": "2022-12-05T12:26:28.959759Z"
    },
    "id": "sZSvLZgMUkIu"
   },
   "outputs": [],
   "source": [
    "x = range(1,50)\n",
    "print(x)\n",
    "print(type(x))\n",
    "print(id(x))"
   ]
  },
  {
   "cell_type": "code",
   "execution_count": null,
   "metadata": {
    "ExecuteTime": {
     "end_time": "2022-12-05T12:26:44.809839Z",
     "start_time": "2022-12-05T12:26:44.806495Z"
    },
    "id": "Eqk15qYxUqif"
   },
   "outputs": [],
   "source": [
    "print(min(x), '-', max(x))"
   ]
  },
  {
   "cell_type": "code",
   "execution_count": null,
   "metadata": {
    "ExecuteTime": {
     "end_time": "2022-12-05T12:27:06.235233Z",
     "start_time": "2022-12-05T12:27:06.231819Z"
    }
   },
   "outputs": [],
   "source": [
    "5 in x"
   ]
  },
  {
   "cell_type": "markdown",
   "metadata": {
    "id": "D2dEgJMpRrzW"
   },
   "source": [
    "## Eşleştirme Veri Tipi\n",
    "\n",
    "dict"
   ]
  },
  {
   "cell_type": "code",
   "execution_count": null,
   "metadata": {
    "ExecuteTime": {
     "end_time": "2022-12-05T12:28:04.639665Z",
     "start_time": "2022-12-05T12:28:04.636006Z"
    },
    "id": "pF6Z3Qd3RvS_"
   },
   "outputs": [],
   "source": [
    "x = dict(ad=\"Alper\", soyad=\"Aydın\")\n",
    "print(x)\n",
    "print(type(x))\n",
    "print(id(x))"
   ]
  },
  {
   "cell_type": "code",
   "execution_count": null,
   "metadata": {
    "ExecuteTime": {
     "end_time": "2022-12-05T12:28:06.541687Z",
     "start_time": "2022-12-05T12:28:06.538287Z"
    },
    "id": "FRLvpka4VWCB"
   },
   "outputs": [],
   "source": [
    "x = {\"ad\":\"Alper\",\n",
    "     \"soyad\": \"Aydın\"\n",
    "     }\n",
    "print(x)\n",
    "print(type(x))"
   ]
  },
  {
   "cell_type": "markdown",
   "metadata": {
    "id": "PsInCKfxRvqc"
   },
   "source": [
    "## Küme Tipi Veriler\n",
    "\n",
    "set, frozenset"
   ]
  },
  {
   "cell_type": "code",
   "execution_count": null,
   "metadata": {
    "ExecuteTime": {
     "end_time": "2022-12-05T12:28:34.962800Z",
     "start_time": "2022-12-05T12:28:34.959427Z"
    },
    "id": "4MMlbxueRx3S"
   },
   "outputs": [],
   "source": [
    "x = set((1,2,3))\n",
    "print(x)\n",
    "print(type(x))"
   ]
  },
  {
   "cell_type": "code",
   "execution_count": null,
   "metadata": {
    "ExecuteTime": {
     "end_time": "2022-12-05T12:28:55.421972Z",
     "start_time": "2022-12-05T12:28:55.418741Z"
    },
    "id": "4IcaQktaXhw7"
   },
   "outputs": [],
   "source": [
    "x = frozenset((1,2,3))\n",
    "print(x)\n",
    "print(type(x))"
   ]
  },
  {
   "cell_type": "markdown",
   "metadata": {
    "id": "m4Fu_hhkRyRc"
   },
   "source": [
    "## Mantıksal Veri Tipi\n",
    "\n",
    "bool"
   ]
  },
  {
   "cell_type": "code",
   "execution_count": null,
   "metadata": {
    "ExecuteTime": {
     "end_time": "2022-12-05T12:29:29.609553Z",
     "start_time": "2022-12-05T12:29:29.605703Z"
    },
    "id": "XkpNg5owR136"
   },
   "outputs": [],
   "source": [
    "x = bool(True)\n",
    "print(x)\n",
    "print(type(x))"
   ]
  },
  {
   "cell_type": "code",
   "execution_count": null,
   "metadata": {
    "ExecuteTime": {
     "end_time": "2022-12-05T12:29:48.539463Z",
     "start_time": "2022-12-05T12:29:48.535639Z"
    },
    "id": "6IxqSNgAXwUX"
   },
   "outputs": [],
   "source": [
    "x = bool(1)\n",
    "y = bool(0)\n",
    "print(x, y)\n",
    "print(type(x), type(y))"
   ]
  },
  {
   "cell_type": "markdown",
   "metadata": {
    "id": "BIYQ_373R2TX"
   },
   "source": [
    "## İkilik Veri Tipleri\n",
    "\n",
    "bytes, bytearray, memoryview"
   ]
  },
  {
   "cell_type": "code",
   "execution_count": null,
   "metadata": {
    "ExecuteTime": {
     "end_time": "2022-12-05T12:31:05.711969Z",
     "start_time": "2022-12-05T12:31:05.708720Z"
    },
    "id": "HCMSo2aaR5EE"
   },
   "outputs": [],
   "source": [
    "x = bytes(5)\n",
    "print(x)\n",
    "print(type(x))"
   ]
  },
  {
   "cell_type": "markdown",
   "metadata": {
    "id": "U2tS5Z5TR5Yk"
   },
   "source": [
    "## Boş Veri Tipi\n",
    "\n",
    "None"
   ]
  },
  {
   "cell_type": "code",
   "execution_count": null,
   "metadata": {
    "ExecuteTime": {
     "end_time": "2022-12-05T12:31:21.154626Z",
     "start_time": "2022-12-05T12:31:21.120658Z"
    },
    "id": "q1XMNlA-R70o"
   },
   "outputs": [],
   "source": [
    "x = None\n",
    "print(x)\n",
    "print(type(x))"
   ]
  },
  {
   "cell_type": "markdown",
   "metadata": {
    "id": "K3SbahRJO1m_"
   },
   "source": [
    "# Değişken Dönüşümleri"
   ]
  },
  {
   "cell_type": "code",
   "execution_count": null,
   "metadata": {
    "ExecuteTime": {
     "end_time": "2022-12-05T12:32:34.055447Z",
     "start_time": "2022-12-05T12:32:34.032301Z"
    },
    "id": "hPRMcp5uculB"
   },
   "outputs": [],
   "source": [
    "x = \"3\"\n",
    "y = \"1.23\"\n",
    "z = \"1+23j\"\n",
    "\n",
    "print(x, type(x))\n",
    "print(y, type(y))\n",
    "print(z, type(z))"
   ]
  },
  {
   "cell_type": "code",
   "execution_count": null,
   "metadata": {
    "ExecuteTime": {
     "end_time": "2022-12-05T12:33:32.630695Z",
     "start_time": "2022-12-05T12:33:32.597762Z"
    },
    "id": "JrTFfWNgdSQD"
   },
   "outputs": [],
   "source": [
    "x = float(x)\n",
    "y = float(y)\n",
    "\n",
    "print(x, type(x))\n",
    "print(y, type(y))"
   ]
  },
  {
   "cell_type": "code",
   "execution_count": null,
   "metadata": {
    "ExecuteTime": {
     "end_time": "2022-12-05T12:35:08.985992Z",
     "start_time": "2022-12-05T12:35:08.982776Z"
    },
    "id": "RZDH4zdJdwcA"
   },
   "outputs": [],
   "source": [
    "z = complex(z)\n",
    "print(z, type(z))"
   ]
  },
  {
   "cell_type": "code",
   "execution_count": null,
   "metadata": {
    "ExecuteTime": {
     "end_time": "2022-12-05T12:35:23.595554Z",
     "start_time": "2022-12-05T12:35:23.586915Z"
    },
    "id": "AT4Lg_aBdy4B"
   },
   "outputs": [],
   "source": [
    "x = \"3\"\n",
    "y = \"1.00\"\n",
    "\n",
    "x = int(x)\n",
    "y = int(y)\n",
    "\n",
    "print(x, type(x))\n",
    "print(y, type(y))"
   ]
  },
  {
   "cell_type": "code",
   "execution_count": null,
   "metadata": {
    "ExecuteTime": {
     "end_time": "2022-12-05T12:35:40.744742Z",
     "start_time": "2022-12-05T12:35:40.739501Z"
    },
    "id": "XCOUhM9gddTb"
   },
   "outputs": [],
   "source": [
    "x = \"3\"\n",
    "y = \"1.23\"\n",
    "\n",
    "x = float(x) # 3\n",
    "y = float(y) # 1.23\n",
    "\n",
    "x = int(x)\n",
    "y = int(y)\n",
    "\n",
    "print(x, type(x))\n",
    "print(y, type(y))"
   ]
  },
  {
   "cell_type": "code",
   "execution_count": null,
   "metadata": {
    "ExecuteTime": {
     "end_time": "2022-12-05T12:36:25.950346Z",
     "start_time": "2022-12-05T12:36:25.946732Z"
    }
   },
   "outputs": [],
   "source": [
    "int(float(\"1.23\"))"
   ]
  },
  {
   "cell_type": "markdown",
   "metadata": {},
   "source": [
    "# Quiz"
   ]
  },
  {
   "cell_type": "code",
   "execution_count": null,
   "metadata": {
    "ExecuteTime": {
     "end_time": "2022-07-16T22:31:47.670306Z",
     "start_time": "2022-07-16T22:31:20.677002Z"
    }
   },
   "outputs": [],
   "source": [
    "log.Quiz()"
   ]
  },
  {
   "cell_type": "markdown",
   "metadata": {},
   "source": [
    "# İlave Kaynaklar"
   ]
  },
  {
   "cell_type": "markdown",
   "metadata": {},
   "source": [
    "https://www.w3schools.com/python/python_datatypes.asp\n",
    "\n",
    "https://realpython.com/courses/python-data-types/"
   ]
  }
 ],
 "metadata": {
  "kernelspec": {
   "display_name": "Python 3",
   "language": "python",
   "name": "python3"
  },
  "language_info": {
   "codemirror_mode": {
    "name": "ipython",
    "version": 3
   },
   "file_extension": ".py",
   "mimetype": "text/x-python",
   "name": "python",
   "nbconvert_exporter": "python",
   "pygments_lexer": "ipython3",
   "version": "3.7.6"
  },
  "toc": {
   "base_numbering": 1,
   "nav_menu": {},
   "number_sections": true,
   "sideBar": true,
   "skip_h1_title": false,
   "title_cell": "Table of Contents",
   "title_sidebar": "Contents",
   "toc_cell": false,
   "toc_position": {
    "height": "calc(100% - 180px)",
    "left": "10px",
    "top": "150px",
    "width": "370.188px"
   },
   "toc_section_display": true,
   "toc_window_display": true
  },
  "varInspector": {
   "cols": {
    "lenName": 16,
    "lenType": 16,
    "lenVar": 40
   },
   "kernels_config": {
    "python": {
     "delete_cmd_postfix": "",
     "delete_cmd_prefix": "del ",
     "library": "var_list.py",
     "varRefreshCmd": "print(var_dic_list())"
    },
    "r": {
     "delete_cmd_postfix": ") ",
     "delete_cmd_prefix": "rm(",
     "library": "var_list.r",
     "varRefreshCmd": "cat(var_dic_list()) "
    }
   },
   "types_to_exclude": [
    "module",
    "function",
    "builtin_function_or_method",
    "instance",
    "_Feature"
   ],
   "window_display": true
  }
 },
 "nbformat": 4,
 "nbformat_minor": 4
}
