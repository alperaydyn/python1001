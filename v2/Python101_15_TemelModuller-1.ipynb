{
 "cells": [
  {
   "cell_type": "code",
   "execution_count": null,
   "metadata": {
    "ExecuteTime": {
     "end_time": "2022-11-22T08:44:50.146876Z",
     "start_time": "2022-11-22T08:44:49.920109Z"
    }
   },
   "outputs": [],
   "source": [
    "import sys\n",
    "sys.path.append('/data/ECS/PythonTutorial/')\n",
    "import log\n",
    "log.topic_id = '15_TemelModuller-1'"
   ]
  },
  {
   "cell_type": "markdown",
   "metadata": {
    "id": "CgkheudH8jj7"
   },
   "source": [
    "## Temel Modüller\n",
    "\n",
    "Python kurulum dosyası ile birlikte hazır gelen bazı modüller vardır.\n",
    "\n",
    "Bunlar `help('modules')` komutu ile görüntülenebilir."
   ]
  },
  {
   "cell_type": "markdown",
   "metadata": {
    "id": "cAy2h6P48kwz"
   },
   "source": [
    "### os\n",
    "\n",
    "işletim sistemi ile ilgili metodların yer aldığı modüldür."
   ]
  },
  {
   "cell_type": "code",
   "execution_count": null,
   "metadata": {
    "ExecuteTime": {
     "end_time": "2022-12-12T11:52:06.435006Z",
     "start_time": "2022-12-12T11:52:06.369805Z"
    }
   },
   "outputs": [],
   "source": [
    "import os\n",
    "help(os)"
   ]
  },
  {
   "cell_type": "markdown",
   "metadata": {
    "id": "rQ5VLhdWPg2A"
   },
   "source": [
    "#### getcwd"
   ]
  },
  {
   "cell_type": "code",
   "execution_count": null,
   "metadata": {
    "ExecuteTime": {
     "end_time": "2022-12-12T11:58:10.137214Z",
     "start_time": "2022-12-12T11:58:10.134672Z"
    },
    "colab": {
     "base_uri": "https://localhost:8080/",
     "height": 35
    },
    "executionInfo": {
     "elapsed": 312,
     "status": "ok",
     "timestamp": 1652979482126,
     "user": {
      "displayName": "Alper Aydın",
      "userId": "16424421511940582464"
     },
     "user_tz": -180
    },
    "id": "79hzhKHMd-95",
    "outputId": "076329fc-e717-4709-abf7-f8cf981bb4c3"
   },
   "outputs": [],
   "source": [
    "import os\n",
    "os.getcwd() # aktif çalışma klasörünü gösterir, varsayılan olarak python'un çalıştığı klasörü gösterir"
   ]
  },
  {
   "cell_type": "markdown",
   "metadata": {
    "id": "IPW8qZaWPjvz"
   },
   "source": [
    "#### mkdir"
   ]
  },
  {
   "cell_type": "code",
   "execution_count": null,
   "metadata": {
    "ExecuteTime": {
     "end_time": "2022-12-12T11:59:13.325796Z",
     "start_time": "2022-12-12T11:59:13.322930Z"
    },
    "executionInfo": {
     "elapsed": 2,
     "status": "ok",
     "timestamp": 1652950790960,
     "user": {
      "displayName": "Alper Aydın",
      "userId": "16424421511940582464"
     },
     "user_tz": -180
    },
    "id": "YMz2MlWofjeC"
   },
   "outputs": [],
   "source": [
    "os.chdir('/data/home/alperayd/_Projects/PythonTutorial/v2/')\n",
    "os.mkdir('bos_klasor') # belirtilen isimde bir klasör oluşturur\n",
    "os.mkdir('bos_klasor/baska_bir klasor') # relative path ile de oluşturulabilir"
   ]
  },
  {
   "cell_type": "markdown",
   "metadata": {
    "id": "9c6VFMaZPlHU"
   },
   "source": [
    "#### listdir"
   ]
  },
  {
   "cell_type": "code",
   "execution_count": null,
   "metadata": {
    "ExecuteTime": {
     "end_time": "2022-12-12T11:56:29.402598Z",
     "start_time": "2022-12-12T11:56:29.400034Z"
    },
    "colab": {
     "base_uri": "https://localhost:8080/"
    },
    "executionInfo": {
     "elapsed": 2,
     "status": "ok",
     "timestamp": 1652950791379,
     "user": {
      "displayName": "Alper Aydın",
      "userId": "16424421511940582464"
     },
     "user_tz": -180
    },
    "id": "IPSTXZE_gJ0v",
    "outputId": "ffe84811-7f58-4199-f5a1-bcd6c53296bd"
   },
   "outputs": [],
   "source": [
    "os.listdir('/data') # belirtilen adresteki dosya ve klasörleri listeler"
   ]
  },
  {
   "cell_type": "markdown",
   "metadata": {
    "id": "VMIYdOBvPmx_"
   },
   "source": [
    "#### chdir"
   ]
  },
  {
   "cell_type": "code",
   "execution_count": null,
   "metadata": {
    "ExecuteTime": {
     "end_time": "2022-12-12T11:56:53.587754Z",
     "start_time": "2022-12-12T11:56:53.583792Z"
    },
    "colab": {
     "base_uri": "https://localhost:8080/"
    },
    "executionInfo": {
     "elapsed": 6,
     "status": "ok",
     "timestamp": 1652950792947,
     "user": {
      "displayName": "Alper Aydın",
      "userId": "16424421511940582464"
     },
     "user_tz": -180
    },
    "id": "yKIvVqyFgbnf",
    "outputId": "0fa04d80-3be2-4a53-e74b-8759f3eda734"
   },
   "outputs": [],
   "source": [
    "os.chdir('/data') # aktif çalışma klasörünü değiştirir\n",
    "print(os.getcwd())\n",
    "os.listdir() # adres verilmediği zaman aktif çalışma klasöründeki dosya ve klasörleri gösterir"
   ]
  },
  {
   "cell_type": "code",
   "execution_count": null,
   "metadata": {
    "ExecuteTime": {
     "end_time": "2022-12-12T11:57:36.099093Z",
     "start_time": "2022-12-12T11:57:36.094786Z"
    }
   },
   "outputs": [],
   "source": [
    "os.listdir('/data/home/')"
   ]
  },
  {
   "cell_type": "markdown",
   "metadata": {
    "id": "5XLHZpeKPpIy"
   },
   "source": [
    "#### rmdir"
   ]
  },
  {
   "cell_type": "code",
   "execution_count": null,
   "metadata": {
    "ExecuteTime": {
     "end_time": "2022-12-12T12:00:50.659992Z",
     "start_time": "2022-12-12T12:00:50.656463Z"
    },
    "colab": {
     "base_uri": "https://localhost:8080/"
    },
    "executionInfo": {
     "elapsed": 3,
     "status": "ok",
     "timestamp": 1652950793583,
     "user": {
      "displayName": "Alper Aydın",
      "userId": "16424421511940582464"
     },
     "user_tz": -180
    },
    "id": "1qMXVMuzg86-",
    "outputId": "25c166e0-c158-4e23-fccb-2e912041c72a"
   },
   "outputs": [],
   "source": [
    "print(os.getcwd())\n",
    "os.rmdir('bos_klasor') # verilen adresteki klasörü siler\n",
    "os.listdir()"
   ]
  },
  {
   "cell_type": "code",
   "execution_count": null,
   "metadata": {
    "ExecuteTime": {
     "end_time": "2022-12-12T12:01:04.971203Z",
     "start_time": "2022-12-12T12:01:04.968544Z"
    },
    "colab": {
     "base_uri": "https://localhost:8080/",
     "height": 35
    },
    "executionInfo": {
     "elapsed": 3,
     "status": "ok",
     "timestamp": 1652950794252,
     "user": {
      "displayName": "Alper Aydın",
      "userId": "16424421511940582464"
     },
     "user_tz": -180
    },
    "id": "B5zuMZvJhGb9",
    "outputId": "4f6d0482-7500-4de4-99e0-3c536c98ed3e"
   },
   "outputs": [],
   "source": [
    "os.chdir('/data/ECS/AccountPlanning/Data/') # bir üst klasörü aktif çalışma klasörü olarak belirler\n",
    "os.getcwd()"
   ]
  },
  {
   "cell_type": "markdown",
   "metadata": {
    "id": "KJI0znjcQdqS"
   },
   "source": [
    "#### environ"
   ]
  },
  {
   "cell_type": "code",
   "execution_count": null,
   "metadata": {
    "ExecuteTime": {
     "end_time": "2022-11-22T08:51:55.281675Z",
     "start_time": "2022-11-22T08:51:55.278019Z"
    }
   },
   "outputs": [],
   "source": [
    "os.environ.items()"
   ]
  },
  {
   "cell_type": "code",
   "execution_count": null,
   "metadata": {
    "ExecuteTime": {
     "end_time": "2022-11-22T08:52:43.323935Z",
     "start_time": "2022-11-22T08:52:43.318229Z"
    },
    "colab": {
     "base_uri": "https://localhost:8080/"
    },
    "executionInfo": {
     "elapsed": 290,
     "status": "ok",
     "timestamp": 1652979487592,
     "user": {
      "displayName": "Alper Aydın",
      "userId": "16424421511940582464"
     },
     "user_tz": -180
    },
    "id": "o06cMQ2DQRXp",
    "outputId": "caad6e4f-9666-4003-97f6-164ea297e8af"
   },
   "outputs": [],
   "source": [
    "for k, v in os.environ.items():\n",
    "    print(k.ljust(30), v)"
   ]
  },
  {
   "cell_type": "markdown",
   "metadata": {},
   "source": [
    "#### Ortam Değişkenlerine yeni değer ekleme"
   ]
  },
  {
   "cell_type": "code",
   "execution_count": null,
   "metadata": {
    "ExecuteTime": {
     "end_time": "2022-11-22T08:53:38.389017Z",
     "start_time": "2022-11-22T08:53:38.386831Z"
    }
   },
   "outputs": [],
   "source": [
    "os.environ['ORACLE_HOME'] = \"/data/app/oracle/product/12.2.0/client_1/\""
   ]
  },
  {
   "cell_type": "markdown",
   "metadata": {
    "id": "DoaDul-HPq2J"
   },
   "source": [
    "#### getenv"
   ]
  },
  {
   "cell_type": "code",
   "execution_count": null,
   "metadata": {
    "ExecuteTime": {
     "end_time": "2022-11-22T08:53:40.128744Z",
     "start_time": "2022-11-22T08:53:40.126189Z"
    },
    "colab": {
     "base_uri": "https://localhost:8080/",
     "height": 53
    },
    "executionInfo": {
     "elapsed": 8,
     "status": "ok",
     "timestamp": 1652950794859,
     "user": {
      "displayName": "Alper Aydın",
      "userId": "16424421511940582464"
     },
     "user_tz": -180
    },
    "id": "QCYJZLbCha6-",
    "outputId": "4e6d567d-6f16-4439-ca8e-7c545fbcbf8d"
   },
   "outputs": [],
   "source": [
    "os.getenv('ORACLE_HOME') # Environment Variables altındaki PATH değerini gösterir"
   ]
  },
  {
   "cell_type": "markdown",
   "metadata": {
    "id": "XTtXiSWlRSgQ"
   },
   "source": [
    "#### path"
   ]
  },
  {
   "cell_type": "code",
   "execution_count": null,
   "metadata": {
    "ExecuteTime": {
     "end_time": "2022-12-12T12:03:32.052585Z",
     "start_time": "2022-12-12T12:03:32.048998Z"
    }
   },
   "outputs": [],
   "source": [
    "help(os.path)"
   ]
  },
  {
   "cell_type": "code",
   "execution_count": null,
   "metadata": {
    "ExecuteTime": {
     "end_time": "2022-12-12T12:04:02.630205Z",
     "start_time": "2022-12-12T12:04:02.626487Z"
    },
    "colab": {
     "base_uri": "https://localhost:8080/",
     "height": 35
    },
    "executionInfo": {
     "elapsed": 318,
     "status": "ok",
     "timestamp": 1652979789144,
     "user": {
      "displayName": "Alper Aydın",
      "userId": "16424421511940582464"
     },
     "user_tz": -180
    },
    "id": "wU8dBlMERUwM",
    "outputId": "8d5fbf34-3d18-42b0-c66e-ca4146adf5a4"
   },
   "outputs": [],
   "source": [
    "os.chdir('/data/home/alperayd/_Projects/PythonTutorial/v2/')\n",
    "os.path.abspath('bos_klasor')"
   ]
  },
  {
   "cell_type": "code",
   "execution_count": null,
   "metadata": {
    "ExecuteTime": {
     "end_time": "2022-12-12T12:05:07.918290Z",
     "start_time": "2022-12-12T12:05:07.915888Z"
    },
    "colab": {
     "base_uri": "https://localhost:8080/"
    },
    "executionInfo": {
     "elapsed": 295,
     "status": "ok",
     "timestamp": 1652979828199,
     "user": {
      "displayName": "Alper Aydın",
      "userId": "16424421511940582464"
     },
     "user_tz": -180
    },
    "id": "LJN7HDejRlwN",
    "outputId": "c9edfd6f-60ed-472b-b72d-8d85ccb2d301"
   },
   "outputs": [],
   "source": [
    "os.path.exists('/data/home/alperayd/bos_klasor')"
   ]
  },
  {
   "cell_type": "code",
   "execution_count": null,
   "metadata": {
    "ExecuteTime": {
     "end_time": "2022-11-22T08:55:21.130538Z",
     "start_time": "2022-11-22T08:55:21.127455Z"
    },
    "colab": {
     "base_uri": "https://localhost:8080/"
    },
    "executionInfo": {
     "elapsed": 310,
     "status": "ok",
     "timestamp": 1652979844390,
     "user": {
      "displayName": "Alper Aydın",
      "userId": "16424421511940582464"
     },
     "user_tz": -180
    },
    "id": "p5EBqllhRq3-",
    "outputId": "2e2b5afd-f7c6-4570-aabc-f6abcd64f88d"
   },
   "outputs": [],
   "source": [
    "os.path.isfile('bos_klasor')"
   ]
  },
  {
   "cell_type": "code",
   "execution_count": null,
   "metadata": {
    "ExecuteTime": {
     "end_time": "2022-11-22T08:55:21.766676Z",
     "start_time": "2022-11-22T08:55:21.764207Z"
    },
    "colab": {
     "base_uri": "https://localhost:8080/"
    },
    "executionInfo": {
     "elapsed": 396,
     "status": "ok",
     "timestamp": 1652979811217,
     "user": {
      "displayName": "Alper Aydın",
      "userId": "16424421511940582464"
     },
     "user_tz": -180
    },
    "id": "GNLw_Gq-Rjzi",
    "outputId": "c6f30d32-3c15-4cd1-8280-66011165a6cc"
   },
   "outputs": [],
   "source": [
    "os.path.isdir('bos_klasor')"
   ]
  },
  {
   "cell_type": "markdown",
   "metadata": {
    "id": "fP5dyapNmCSu"
   },
   "source": [
    "### sys\n",
    "\n",
    "Aktif python ortamıma ait bilgileri içeren modüldür"
   ]
  },
  {
   "cell_type": "code",
   "execution_count": null,
   "metadata": {
    "ExecuteTime": {
     "end_time": "2022-12-12T12:07:03.889474Z",
     "start_time": "2022-12-12T12:07:03.885503Z"
    },
    "colab": {
     "base_uri": "https://localhost:8080/",
     "height": 35
    },
    "executionInfo": {
     "elapsed": 317,
     "status": "ok",
     "timestamp": 1652951146447,
     "user": {
      "displayName": "Alper Aydın",
      "userId": "16424421511940582464"
     },
     "user_tz": -180
    },
    "id": "AFyHhmkXmQyY",
    "outputId": "6b85b6c8-f51d-4f0c-8e09-092356e17a1e"
   },
   "outputs": [],
   "source": [
    "import sys\n",
    "sys.version # çalışmakta olan python versiyonunu gösterir"
   ]
  },
  {
   "cell_type": "code",
   "execution_count": null,
   "metadata": {
    "ExecuteTime": {
     "end_time": "2022-12-12T12:07:04.171775Z",
     "start_time": "2022-12-12T12:07:04.169434Z"
    },
    "colab": {
     "base_uri": "https://localhost:8080/"
    },
    "executionInfo": {
     "elapsed": 3,
     "status": "ok",
     "timestamp": 1652951146727,
     "user": {
      "displayName": "Alper Aydın",
      "userId": "16424421511940582464"
     },
     "user_tz": -180
    },
    "id": "GTPHwjLDmszV",
    "outputId": "b623b774-54a2-4277-9d7a-1dbed6f9bfc5"
   },
   "outputs": [],
   "source": [
    "sys.version_info # python versiyon detaylarını gösterir"
   ]
  },
  {
   "cell_type": "code",
   "execution_count": null,
   "metadata": {
    "ExecuteTime": {
     "end_time": "2022-12-12T12:07:04.437013Z",
     "start_time": "2022-12-12T12:07:04.434697Z"
    },
    "colab": {
     "base_uri": "https://localhost:8080/",
     "height": 35
    },
    "executionInfo": {
     "elapsed": 254,
     "status": "ok",
     "timestamp": 1652962561223,
     "user": {
      "displayName": "Alper Aydın",
      "userId": "16424421511940582464"
     },
     "user_tz": -180
    },
    "id": "z2NZHsVKPvNC",
    "outputId": "e847eda8-7521-40f8-8e28-81a437d9e338"
   },
   "outputs": [],
   "source": [
    "sys.platform # çalışılan bilgisayarın işletim sistemini gösterir"
   ]
  },
  {
   "cell_type": "code",
   "execution_count": null,
   "metadata": {
    "ExecuteTime": {
     "end_time": "2022-12-12T12:07:04.821559Z",
     "start_time": "2022-12-12T12:07:04.819260Z"
    },
    "colab": {
     "base_uri": "https://localhost:8080/",
     "height": 35
    },
    "executionInfo": {
     "elapsed": 279,
     "status": "ok",
     "timestamp": 1652962862789,
     "user": {
      "displayName": "Alper Aydın",
      "userId": "16424421511940582464"
     },
     "user_tz": -180
    },
    "id": "sPpv8z46Q2jb",
    "outputId": "185c4b8a-a248-482b-b6e1-49aec21dc405"
   },
   "outputs": [],
   "source": [
    "sys.prefix # python'un kurulu olduğu dizini gösterir"
   ]
  },
  {
   "cell_type": "code",
   "execution_count": null,
   "metadata": {
    "ExecuteTime": {
     "end_time": "2022-11-22T08:59:31.456986Z",
     "start_time": "2022-11-22T08:59:31.452869Z"
    },
    "colab": {
     "base_uri": "https://localhost:8080/"
    },
    "executionInfo": {
     "elapsed": 7,
     "status": "ok",
     "timestamp": 1652951150579,
     "user": {
      "displayName": "Alper Aydın",
      "userId": "16424421511940582464"
     },
     "user_tz": -180
    },
    "id": "NqzXp-R3mh39",
    "outputId": "03e570d3-2dc3-4387-e092-1af5e218b669"
   },
   "outputs": [],
   "source": [
    "sys.path # python modüllerinin aranacağı adresleri gösterir\n",
    "sys.path.append('/data/ECS/_common/_libraries/')\n",
    "import hesapmakinesi\n",
    "sys.path"
   ]
  },
  {
   "cell_type": "code",
   "execution_count": null,
   "metadata": {
    "ExecuteTime": {
     "end_time": "2022-12-12T12:08:54.614280Z",
     "start_time": "2022-12-12T12:08:54.594298Z"
    }
   },
   "outputs": [],
   "source": [
    "sys.modules"
   ]
  },
  {
   "cell_type": "markdown",
   "metadata": {
    "id": "gi7Y1wbS8mey"
   },
   "source": [
    "### math\n",
    "\n",
    "Matematiksel işlemlerin yer aldığı kütüphanedir."
   ]
  },
  {
   "cell_type": "markdown",
   "metadata": {
    "id": "SX-X8wB2R_pS"
   },
   "source": [
    "#### sabitler"
   ]
  },
  {
   "cell_type": "code",
   "execution_count": null,
   "metadata": {
    "ExecuteTime": {
     "end_time": "2022-11-22T09:01:41.945561Z",
     "start_time": "2022-11-22T09:01:41.943110Z"
    },
    "colab": {
     "base_uri": "https://localhost:8080/"
    },
    "executionInfo": {
     "elapsed": 342,
     "status": "ok",
     "timestamp": 1652955884306,
     "user": {
      "displayName": "Alper Aydın",
      "userId": "16424421511940582464"
     },
     "user_tz": -180
    },
    "id": "LV9KtR4G2KBI",
    "outputId": "a40d41fc-2135-4313-a0c6-fda376ca491a"
   },
   "outputs": [],
   "source": [
    "import math\n",
    "\n",
    "math.pi"
   ]
  },
  {
   "cell_type": "code",
   "execution_count": null,
   "metadata": {
    "ExecuteTime": {
     "end_time": "2022-11-22T09:01:42.170560Z",
     "start_time": "2022-11-22T09:01:42.167989Z"
    },
    "colab": {
     "base_uri": "https://localhost:8080/"
    },
    "executionInfo": {
     "elapsed": 2,
     "status": "ok",
     "timestamp": 1652955895493,
     "user": {
      "displayName": "Alper Aydın",
      "userId": "16424421511940582464"
     },
     "user_tz": -180
    },
    "id": "raS22rGV2Sgr",
    "outputId": "b0d9e054-210d-4539-8254-6c7b3144dac5"
   },
   "outputs": [],
   "source": [
    "math.e"
   ]
  },
  {
   "cell_type": "markdown",
   "metadata": {
    "id": "_wA1YmWESCRZ"
   },
   "source": [
    "#### log"
   ]
  },
  {
   "cell_type": "code",
   "execution_count": null,
   "metadata": {
    "ExecuteTime": {
     "end_time": "2022-11-22T09:01:42.559943Z",
     "start_time": "2022-11-22T09:01:42.557397Z"
    },
    "colab": {
     "base_uri": "https://localhost:8080/"
    },
    "executionInfo": {
     "elapsed": 276,
     "status": "ok",
     "timestamp": 1652963135714,
     "user": {
      "displayName": "Alper Aydın",
      "userId": "16424421511940582464"
     },
     "user_tz": -180
    },
    "id": "yreEMd7v2VTp",
    "outputId": "cb0fa2ae-f412-4b7d-b3f7-020845cbf78f"
   },
   "outputs": [],
   "source": [
    "print(math.log(10))\n",
    "print(math.log(128, 2))\n",
    "print(math.log10(1000))"
   ]
  },
  {
   "cell_type": "markdown",
   "metadata": {
    "id": "-2yXoLu7SE4U"
   },
   "source": [
    "pow"
   ]
  },
  {
   "cell_type": "code",
   "execution_count": null,
   "metadata": {
    "ExecuteTime": {
     "end_time": "2022-11-22T09:01:42.961028Z",
     "start_time": "2022-11-22T09:01:42.958300Z"
    }
   },
   "outputs": [],
   "source": [
    "2 ** 3"
   ]
  },
  {
   "cell_type": "code",
   "execution_count": null,
   "metadata": {
    "ExecuteTime": {
     "end_time": "2022-11-22T09:01:43.175726Z",
     "start_time": "2022-11-22T09:01:43.173361Z"
    },
    "colab": {
     "base_uri": "https://localhost:8080/"
    },
    "executionInfo": {
     "elapsed": 4,
     "status": "ok",
     "timestamp": 1652955944512,
     "user": {
      "displayName": "Alper Aydın",
      "userId": "16424421511940582464"
     },
     "user_tz": -180
    },
    "id": "KyyCUtKX2d_-",
    "outputId": "cfd5dd90-6d7d-4624-cd66-afabe4f95475"
   },
   "outputs": [],
   "source": [
    "math.pow(2,3)"
   ]
  },
  {
   "cell_type": "markdown",
   "metadata": {
    "id": "qfyreHOzSGar"
   },
   "source": [
    "abs"
   ]
  },
  {
   "cell_type": "code",
   "execution_count": null,
   "metadata": {
    "ExecuteTime": {
     "end_time": "2022-11-22T09:01:47.328073Z",
     "start_time": "2022-11-22T09:01:47.325773Z"
    },
    "colab": {
     "base_uri": "https://localhost:8080/"
    },
    "executionInfo": {
     "elapsed": 319,
     "status": "ok",
     "timestamp": 1652963205839,
     "user": {
      "displayName": "Alper Aydın",
      "userId": "16424421511940582464"
     },
     "user_tz": -180
    },
    "id": "kr5vPKvD2hMR",
    "outputId": "8c4da1fe-895e-4d11-acad-936348c6be4b"
   },
   "outputs": [],
   "source": [
    "math.fabs(-2)"
   ]
  },
  {
   "cell_type": "markdown",
   "metadata": {
    "id": "DFGiEiqySO7B"
   },
   "source": [
    "#### ceil/floor"
   ]
  },
  {
   "cell_type": "code",
   "execution_count": null,
   "metadata": {
    "ExecuteTime": {
     "end_time": "2022-11-22T09:01:47.984180Z",
     "start_time": "2022-11-22T09:01:47.981732Z"
    },
    "colab": {
     "base_uri": "https://localhost:8080/"
    },
    "executionInfo": {
     "elapsed": 274,
     "status": "ok",
     "timestamp": 1652956016318,
     "user": {
      "displayName": "Alper Aydın",
      "userId": "16424421511940582464"
     },
     "user_tz": -180
    },
    "id": "wdBdjMgS2mcw",
    "outputId": "bf74d3bf-674e-4f55-e777-8c904ea9c692"
   },
   "outputs": [],
   "source": [
    "print(4/3)\n",
    "print(math.ceil(4/3))\n",
    "print(math.floor(4/3))"
   ]
  },
  {
   "cell_type": "markdown",
   "metadata": {
    "id": "ta710nO0SRsW"
   },
   "source": [
    "#### factorial"
   ]
  },
  {
   "cell_type": "code",
   "execution_count": null,
   "metadata": {
    "ExecuteTime": {
     "end_time": "2022-11-22T09:01:48.496875Z",
     "start_time": "2022-11-22T09:01:48.494364Z"
    },
    "colab": {
     "base_uri": "https://localhost:8080/"
    },
    "executionInfo": {
     "elapsed": 256,
     "status": "ok",
     "timestamp": 1652956036210,
     "user": {
      "displayName": "Alper Aydın",
      "userId": "16424421511940582464"
     },
     "user_tz": -180
    },
    "id": "BE3KZOKS2ywj",
    "outputId": "78946799-5660-44e9-8bc0-820f6361f9bb"
   },
   "outputs": [],
   "source": [
    "math.factorial(5)"
   ]
  },
  {
   "cell_type": "code",
   "execution_count": null,
   "metadata": {
    "ExecuteTime": {
     "end_time": "2022-11-22T09:01:50.334957Z",
     "start_time": "2022-11-22T09:01:50.324857Z"
    }
   },
   "outputs": [],
   "source": [
    "help(math)"
   ]
  },
  {
   "cell_type": "code",
   "execution_count": null,
   "metadata": {},
   "outputs": [],
   "source": []
  },
  {
   "cell_type": "markdown",
   "metadata": {
    "id": "bkTJkkwa275m"
   },
   "source": [
    "### statistics\n",
    "\n",
    "Temel istatistik fonksiyonlarının yer aldığı kütüphanedir"
   ]
  },
  {
   "cell_type": "code",
   "execution_count": null,
   "metadata": {
    "ExecuteTime": {
     "end_time": "2022-11-22T09:02:46.950748Z",
     "start_time": "2022-11-22T09:02:46.943849Z"
    },
    "colab": {
     "base_uri": "https://localhost:8080/"
    },
    "executionInfo": {
     "elapsed": 251,
     "status": "ok",
     "timestamp": 1652979894459,
     "user": {
      "displayName": "Alper Aydın",
      "userId": "16424421511940582464"
     },
     "user_tz": -180
    },
    "id": "1kto1rP73DGu",
    "outputId": "429073e7-4846-4d2c-f81c-de35ba798305"
   },
   "outputs": [],
   "source": [
    "import statistics as st\n",
    "a = [1,2,3,4,5,6,7,9,3,5,6,2,5,7,8,1,2,4,5,4,3]\n",
    "st.mean(a)"
   ]
  },
  {
   "cell_type": "code",
   "execution_count": null,
   "metadata": {
    "ExecuteTime": {
     "end_time": "2022-11-22T09:02:47.718595Z",
     "start_time": "2022-11-22T09:02:47.716086Z"
    },
    "colab": {
     "base_uri": "https://localhost:8080/"
    },
    "executionInfo": {
     "elapsed": 5,
     "status": "ok",
     "timestamp": 1652979894945,
     "user": {
      "displayName": "Alper Aydın",
      "userId": "16424421511940582464"
     },
     "user_tz": -180
    },
    "id": "GJ7egCB73SIX",
    "outputId": "87144c6f-c272-4e59-ab9a-bb515763a4e5"
   },
   "outputs": [],
   "source": [
    "st.stdev(a)"
   ]
  },
  {
   "cell_type": "code",
   "execution_count": null,
   "metadata": {
    "ExecuteTime": {
     "end_time": "2022-11-22T09:02:50.068814Z",
     "start_time": "2022-11-22T09:02:50.066376Z"
    },
    "colab": {
     "base_uri": "https://localhost:8080/"
    },
    "executionInfo": {
     "elapsed": 5,
     "status": "ok",
     "timestamp": 1652979895296,
     "user": {
      "displayName": "Alper Aydın",
      "userId": "16424421511940582464"
     },
     "user_tz": -180
    },
    "id": "QvhGJT-S3Y0p",
    "outputId": "acd67987-12e8-464c-b48b-91000e2e7b4d"
   },
   "outputs": [],
   "source": [
    "st.median(a)"
   ]
  },
  {
   "cell_type": "code",
   "execution_count": null,
   "metadata": {
    "ExecuteTime": {
     "end_time": "2022-11-22T09:02:50.857575Z",
     "start_time": "2022-11-22T09:02:50.855062Z"
    },
    "colab": {
     "base_uri": "https://localhost:8080/"
    },
    "executionInfo": {
     "elapsed": 4,
     "status": "ok",
     "timestamp": 1652979895296,
     "user": {
      "displayName": "Alper Aydın",
      "userId": "16424421511940582464"
     },
     "user_tz": -180
    },
    "id": "JM4wiSb03jU-",
    "outputId": "1b5b4835-4211-45dc-9166-129b358643df"
   },
   "outputs": [],
   "source": [
    "st.mode(a)"
   ]
  },
  {
   "cell_type": "code",
   "execution_count": null,
   "metadata": {
    "ExecuteTime": {
     "end_time": "2022-11-22T09:02:51.568147Z",
     "start_time": "2022-11-22T09:02:51.565682Z"
    },
    "colab": {
     "base_uri": "https://localhost:8080/"
    },
    "executionInfo": {
     "elapsed": 3,
     "status": "ok",
     "timestamp": 1652979895574,
     "user": {
      "displayName": "Alper Aydın",
      "userId": "16424421511940582464"
     },
     "user_tz": -180
    },
    "id": "VpvXrAUO3nAy",
    "outputId": "988d5df4-4620-4253-8fe2-2c4e7e819387"
   },
   "outputs": [],
   "source": [
    "st.variance(a)"
   ]
  },
  {
   "cell_type": "code",
   "execution_count": null,
   "metadata": {
    "ExecuteTime": {
     "end_time": "2022-11-22T09:03:01.804086Z",
     "start_time": "2022-11-22T09:03:01.798238Z"
    }
   },
   "outputs": [],
   "source": [
    "help(st)"
   ]
  },
  {
   "cell_type": "markdown",
   "metadata": {
    "id": "1fT7QPzQ31JN"
   },
   "source": [
    "### collections\n",
    "\n",
    "python ile gelen liste benzeri (containers) yapıların yer aldığı kütüphanedir."
   ]
  },
  {
   "cell_type": "markdown",
   "metadata": {
    "id": "63ifSNGI47CH"
   },
   "source": [
    "#### namedtuple"
   ]
  },
  {
   "cell_type": "code",
   "execution_count": null,
   "metadata": {
    "ExecuteTime": {
     "end_time": "2022-11-22T09:06:36.055217Z",
     "start_time": "2022-11-22T09:06:36.053353Z"
    }
   },
   "outputs": [],
   "source": [
    "subeler = ('ankara','kadıköy','maltepe')"
   ]
  },
  {
   "cell_type": "code",
   "execution_count": null,
   "metadata": {
    "ExecuteTime": {
     "end_time": "2022-11-22T09:07:08.603721Z",
     "start_time": "2022-11-22T09:07:08.601265Z"
    },
    "colab": {
     "base_uri": "https://localhost:8080/"
    },
    "executionInfo": {
     "elapsed": 296,
     "status": "ok",
     "timestamp": 1652958760083,
     "user": {
      "displayName": "Alper Aydın",
      "userId": "16424421511940582464"
     },
     "user_tz": -180
    },
    "id": "4ZzMPGsm3Lfd",
    "outputId": "ab351063-90de-46f3-b629-d30b2222b41d"
   },
   "outputs": [],
   "source": [
    "import collections\n",
    "sube = collections.namedtuple('şube', ['kodu', 'adı', 'ili', 'ilçesi'])\n",
    "print(sube)"
   ]
  },
  {
   "cell_type": "markdown",
   "metadata": {
    "id": "qTJ29W-k4q0K"
   },
   "source": [
    "![image.png](data:image/png;base64,iVBORw0KGgoAAAANSUhEUgAACjQAAAGoCAYAAADrBJ7jAAAMbWlDQ1BJQ0MgUHJvZmlsZQAASImVVwdYU8kWnluSkJAQIHQpoTdBpAaQEkILIL0INkISSCgxJgQVO7qo4NpFFCu6KqLYVkDs2JVFsffFgoqyLupiQ+VNSEDXfeV75/vm3j9nzvyn3JncewCgf+BJpfmoNgAFkkJZYkQIc1R6BpP0FKDAENABDRB4fLmUHR8fA6AM3P8u724ARHm/6qLk+uf8fxVdgVDOBwAZA3GWQM4vgPg4APhavlRWCABRqbeeVChV4lkQ68lggBCvUOIcFd6uxFkqfLjfJjmRA/FlADSoPJ4sBwCte1DPLOLnQB6tzxC7SQRiCQD0oRAH8kU8AcTK2IcWFExQ4kqIHaC9FGIYD2BlfceZ8zf+rEF+Hi9nEKvy6heNULFcms+b8n+W5n9LQb5iwIcdHFSRLDJRmT+s4a28CdFKTIW4S5IVG6esNcQfxAJV3QFAKSJFZIrKHjXlyzmwfsAAYjcBLzQaYlOIwyX5sTFqfVa2OJwLMdwt6GRxITcZYiOI5wvlYUlqm42yCYlqX2h9tozDVuvP8WT9fpW+HijyUthq/jciIVfNj2kVi5LTIKZAbFMkTo2FWAtiV3leUrTaZkSxiBM7YCNTJCrjt4E4USiJCFHxY0XZsvBEtX1ZgXwgX2yjSMyNVeN9haLkSFV9sFN8Xn/8MBfsslDCThngEcpHxQzkIhCGhqlyx54LJSlJap4P0sKQRNVanCLNj1fb41bC/Ail3gpiT3lRknotnloIN6eKH8+WFsYnq+LEi3N5UfGqePAlIAZwQChgAgUcWWACyAXi1q6GLvhLNRMOeEAGcoAQuKg1AyvS+mck8JoEisEfEAmBfHBdSP+sEBRB/ZdBrerqArL7Z4v6V+SBpxAXgGiQD38r+ldJBr2lgidQI/6Hdx4cfBhvPhzK+X+vH9B+07ChJkatUQx4ZNIHLIlhxFBiJDGc6Iib4IG4Px4Dr8FwuOMs3Hcgj2/2hKeENsIjwnVCO+H2eHGJ7IcoR4J2yB+urkXW97XA7SCnFx6CB0B2yIwb4CbABfeEfth4EPTsBbUcddzKqjB/4P5bBt89DbUd2Y2Mkg3JwWSHH1dqOWl5DbIoa/19fVSxZg3WmzM486N/znfVF8B79I+W2HxsP3YWO4Gdxw5jDYCJHcMasRbsiBIP7q4n/btrwFtifzx5kEf8D388tU9lJeVutW6dbp9Vc4XCyYXKg8eZIJ0iE+eICpls+HYQMrkSvutQprubuzsAyneN6u/rbUL/OwQxaPmmm/M7AAHH+vr6Dn3TRR0DYK8PPP4Hv+kcWADoaAJw7iBfIStS6XDlhQD/JejwpBkDc2ANHGA+7sAb+INgEAaiQBxIBulgHKyyCO5zGZgEpoHZoBSUgyVgJVgDNoDNYDvYBfaBBnAYnABnwEVwGVwHd+Hu6QAvQTd4B3oRBCEhNISBGCMWiC3ijLgjLCQQCUNikEQkHclEchAJokCmIXOQcmQZsgbZhNQge5GDyAnkPNKG3EYeIp3IG+QTiqFUVA81Q+3QYSgLZaPRaDI6Fs1BJ6LF6Fx0EVqJVqM70Xr0BHoRvY62oy/RHgxgmpgBZom5YCyMg8VhGVg2JsNmYGVYBVaN1WFN8DlfxdqxLuwjTsQZOBN3gTs4Ek/B+fhEfAa+EF+Db8fr8VP4Vfwh3o1/JdAIpgRngh+BSxhFyCFMIpQSKghbCQcIp+FZ6iC8IxKJBkR7og88i+nEXOJU4kLiOuJu4nFiG/ExsYdEIhmTnEkBpDgSj1RIKiWtJu0kHSNdIXWQPmhoalhouGuEa2RoSDRKNCo0dmgc1bii8Uyjl6xNtiX7kePIAvIU8mLyFnIT+RK5g9xL0aHYUwIoyZRcymxKJaWOcppyj/JWU1PTStNXM0FTrDlLs1Jzj+Y5zYeaH6m6VCcqhzqGqqAuom6jHqfepr6l0Wh2tGBaBq2QtohWQztJe0D7oMXQctXiagm0ZmpVadVrXdF6RSfTbels+jh6Mb2Cvp9+id6lTda20+Zo87RnaFdpH9S+qd2jw9AZrhOnU6CzUGeHznmd57okXTvdMF2B7lzdzbondR8zMIY1g8PgM+YwtjBOMzr0iHr2ely9XL1yvV16rXrd+rr6nvqp+pP1q/SP6LcbYAZ2BlyDfIPFBvsMbhh8MjQzZBsKDRcY1hleMXxvNMQo2EhoVGa02+i60SdjpnGYcZ7xUuMG4/smuImTSYLJJJP1JqdNuoboDfEfwh9SNmTfkDumqKmTaaLpVNPNpi2mPWbmZhFmUrPVZifNuswNzIPNc81XmB8177RgWARaiC1WWByzeMHUZ7KZ+cxK5ilmt6WpZaSlwnKTZatlr5W9VYpVidVuq/vWFGuWdbb1Cutm624bC5uRNtNsam3u2JJtWbYi21W2Z23f29nbpdnNs2uwe25vZM+1L7avtb/nQHMIcpjoUO1wzZHoyHLMc1zneNkJdfJyEjlVOV1yRp29ncXO65zbhhKG+g6VDK0eetOF6sJ2KXKpdXnoauAa41ri2uD6apjNsIxhS4edHfbVzcst322L293husOjhpcMbxr+xt3Jne9e5X7Ng+YR7jHTo9Hjtaezp9BzvectL4bXSK95Xs1eX7x9vGXedd6dPjY+mT5rfW6y9FjxrIWsc74E3xDfmb6HfT/6efsV+u3z+9PfxT/Pf4f/8xH2I4Qjtox4HGAVwAvYFNAeyAzMDNwY2B5kGcQLqg56FGwdLAjeGvyM7cjOZe9kvwpxC5GFHAh5z/HjTOccD8VCI0LLQlvDdMNSwtaEPQi3Cs8Jrw3vjvCKmBpxPJIQGR25NPIm14zL59Zwu6N8oqZHnYqmRidFr4l+FOMUI4tpGomOjBq5fOS9WNtYSWxDHIjjxi2Pux9vHz8x/lACMSE+oSrhaeLwxGmJZ5MYSeOTdiS9Sw5JXpx8N8UhRZHSnEpPHZNak/o+LTRtWVr7qGGjpo+6mG6SLk5vzCBlpGZszegZHTZ65eiOMV5jSsfcGGs/dvLY8+NMxuWPOzKePp43fn8mITMtc0fmZ14cr5rXk8XNWpvVzefwV/FfCoIFKwSdwgDhMuGz7IDsZdnPcwJylud0ioJEFaIuMUe8Rvw6NzJ3Q+77vLi8bXl9+Wn5uws0CjILDkp0JXmSUxPMJ0ye0CZ1lpZK2yf6TVw5sVsWLdsqR+Rj5Y2FevCjvkXhoPhJ8bAosKiq6MOk1En7J+tMlkxumeI0ZcGUZ8Xhxb9MxafypzZPs5w2e9rD6ezpm2YgM7JmNM+0njl3ZsesiFnbZ1Nm583+rcStZFnJX3PS5jTNNZs7a+7jnyJ+qi3VKpWV3pznP2/DfHy+eH7rAo8Fqxd8LROUXSh3K68o/7yQv/DCz8N/rvy5b1H2otbF3ovXLyEukSy5sTRo6fZlOsuKlz1ePnJ5/QrmirIVf60cv/J8hWfFhlWUVYpV7ZUxlY2rbVYvWf15jWjN9aqQqt1rTdcuWPt+nWDdlfXB6+s2mG0o3/Bpo3jjrU0Rm+qr7aorNhM3F21+uiV1y9lfWL/UbDXZWr71yzbJtvbtidtP1fjU1Oww3bG4Fq1V1HbuHLPz8q7QXY11LnWbdhvsLt8D9ij2vNibuffGvuh9zftZ++t+tf117QHGgbJ6pH5KfXeDqKG9Mb2x7WDUweYm/6YDh1wPbTtsebjqiP6RxUcpR+ce7TtWfKznuPR414mcE4+bxzffPTnq5LVTCadaT0efPncm/MzJs+yzx84FnDt83u/8wQusCw0XvS/Wt3i1HPjN67cDrd6t9Zd8LjVe9r3c1Dai7eiVoCsnroZePXONe+3i9djrbTdSbty6OeZm+y3Bree382+/vlN0p/furHuEe2X3te9XPDB9UP274++7273bjzwMfdjyKOnR3cf8xy+fyJ987pj7lPa04pnFs5rn7s8Pd4Z3Xn4x+kXHS+nL3q7SP3T+WPvK4dWvfwb/2dI9qrvjtex135uFb43fbvvL86/mnvieB+8K3vW+L/tg/GH7R9bHs5/SPj3rnfSZ9Lnyi+OXpq/RX+/1FfT1SXkyXv+nAAYHmp0NwJttANDSAWDAvo0yWtUL9gui6l/7EfhPWNUv9os3AHXw+z2hC37d3ARgzxbYfkF+OuxV42kAJPsC1MNjcKhFnu3hruKiwj6F8KCv7y3s2UjLAfiypK+vt7qv78tmGCzsHY9LVD2oUoiwZ9jI/ZJVkAX+jaj60+9y/PEOlBF4gh/v/wJtTZCjvIDD8AAAAIplWElmTU0AKgAAAAgABAEaAAUAAAABAAAAPgEbAAUAAAABAAAARgEoAAMAAAABAAIAAIdpAAQAAAABAAAATgAAAAAAAACQAAAAAQAAAJAAAAABAAOShgAHAAAAEgAAAHigAgAEAAAAAQAACjSgAwAEAAAAAQAAAagAAAAAQVNDSUkAAABTY3JlZW5zaG90jCdBcQAAAAlwSFlzAAAWJQAAFiUBSVIk8AAAAddpVFh0WE1MOmNvbS5hZG9iZS54bXAAAAAAADx4OnhtcG1ldGEgeG1sbnM6eD0iYWRvYmU6bnM6bWV0YS8iIHg6eG1wdGs9IlhNUCBDb3JlIDYuMC4wIj4KICAgPHJkZjpSREYgeG1sbnM6cmRmPSJodHRwOi8vd3d3LnczLm9yZy8xOTk5LzAyLzIyLXJkZi1zeW50YXgtbnMjIj4KICAgICAgPHJkZjpEZXNjcmlwdGlvbiByZGY6YWJvdXQ9IiIKICAgICAgICAgICAgeG1sbnM6ZXhpZj0iaHR0cDovL25zLmFkb2JlLmNvbS9leGlmLzEuMC8iPgogICAgICAgICA8ZXhpZjpQaXhlbFlEaW1lbnNpb24+NDI0PC9leGlmOlBpeGVsWURpbWVuc2lvbj4KICAgICAgICAgPGV4aWY6UGl4ZWxYRGltZW5zaW9uPjI2MTI8L2V4aWY6UGl4ZWxYRGltZW5zaW9uPgogICAgICAgICA8ZXhpZjpVc2VyQ29tbWVudD5TY3JlZW5zaG90PC9leGlmOlVzZXJDb21tZW50PgogICAgICA8L3JkZjpEZXNjcmlwdGlvbj4KICAgPC9yZGY6UkRGPgo8L3g6eG1wbWV0YT4KJBBe+AAAABxpRE9UAAAAAgAAAAAAAADUAAAAKAAAANQAAADUAAB+zkBg1dgAAEAASURBVHgB7N0HmBRF+sfxd1lYcg6iBBFEQBBU1DOnM2GAM5wBFRXj+UdETzlzwPP00DMH1MOACqZTRMV0nnomwAAqShTJSM6wu+zCf972aqzp7dnJPT0z336etburq6urPj274z3+rqpoW2gTNgQQQAABBBBAAAEEEEAAAQQQQAABBBBAAAEEEEAAAQQQQAABBBBAAAEEEEAAAQQQQCCLAkUEGrOoz6MRQAABBBBAAAEEEEAAAQQQQAABBBBAAAEEEEAAAQQQQAABBBBAAAEEEEAAAQQQQMARINDIBwEBBBBAAAEEEEAAAQQQQAABBBBAAAEEEEAAAQQQQAABBBBAAAEEEMgxARbkzLEXRncRQACBAhEoKipKaaQEGlPi42YEEEAAAQQQQAABBBBAAAEEEEAAAQQQQAABBBBAAAEEEEAAAQQQQMAfAUKM/jjzFAQQQACB9AgkE24k0Jgee1pBAAEEEEAAAQQQQAABBBBAAAEEEEAAAQQQQAABBBBAAAEEEEAAAQQyIlBdkLG6axnpDI0igAACCCDgIVBdeLG6a+6mCDS6RThHAAEEEEAAAQQQQAABBBBAAAEEEEAAAQQQQAABBBBAAAEEEEAAAQQCIOAVVvQq065GKw/AMOgCAggggEAeC0QLK3qVe5W5aQg0ukU4RwABBBBAAAEEEEAAAQQQQAABBBBAAAEEEEAAAQQQQAABBBBAAAEEsizgDija5/ax6aZXmbnGHgEEEEAAgUwJeIUU7TL7WPvgPnf3i0CjW4RzBBBAAAEEEEAAAQQQQAABBBBAAAEEEEAAAQQQQAABBBBAAAEEEEAgiwLucKI5d++1i6asuu7GU6e6+7mGAAIIIFDYArFCiKpj1zHH7r1RNOXm3N4TaLQ1OEYAAQQQQAABBBBAAAEEEEAAAQQQQAABBBBAAAEEEEAAAQQQQAABBLIoYIcPzXGsvXbX1Mli13k0AggggEABCtjhRHMca69Mpo6bjECjW4RzBBBAAAEEEEAAAQQQQAABBBBAAAEEEEAAAQQQQAABBBBAAAEEEEAgCwJ2KNEc2/tox9pVcy0L3eaRCCCAAAIFLGCCifY+2rEymWvuY0NIoNFIsEcAAQQQQAABBBBAAAEEEEAAAQQQQAABBBBAAAEEEEAAAQQQQAABBLIoYIcS9dicm2Pdb926VYqLi50fDYXYwZAsdp1HI4AAAggUuID5rqqsrBT9qVGjhvMdZX9X2cfK5fUdRqCxwD9IDB8BBBBAAAEEEEAAAQQQQAABBBBAAAEEEEAAAQQQQAABBBBAAAEEsi9gwovaExMKsY81yKhbrVq1nJCIc8I/EEAAAQQQCKCAfmdt2bLF6ZkdbNSCWKFGAo0BfKF0CQEEEEAAAQQQQAABBBBAAAEEEEAAAQQQQAABBBBAAAEEEEAAAQQKS8AEGu29CTZqMESPS0pKCDMW1seC0SKAAAI5K6DfXeXl5U6A0Q41mlkZ3XszUAKNRoI9AggggAACCCCAAAIIIIAAAggggAACCCCAAAIIIIAAAggggAACCCCQBQETYtRHmxCj2WsgRH90mWkNNLIhgAACCCCQKwIaaDTLT7tDjSbQqGOJOA59AW7LlQHSTwQQQAABBBBAAAEEEEAAAQQQQAABBBBAAAEEEEAAAQQQQAABBBBAIN8ETHTD3uuxCTNqGKROnTpOqDHfxs54EEAAAQTyV0C/v0pLS53vLw002qFGHbUJMpq9Uxb6AiTQmL+fCUaGAAIIIIAAAggggAACCCCAAAIIIIAAAggggAACCCCAAAIIIIAAAgEXMNEN3ds/GmjUMEhFRYU0bNgwHPwI+HDoHgII5KnA9OnTZcaMGWkZXb9+/dLSDo0EW0C/09avXy81a9YMhxo1vGj/6AgINAb7PdI7BBBAAAEEEEAAAQQQQAABBBBAAAEEEEAAAQQQQAABBBBAAAEEECgQARNm1OF6hRk10LhlyxZp2rRpgYgwTAQQCJqABhmHDx+e1m5poJFQY1pJA9vY6tWrpVatWk6gsbi4OGKWxoggYyjoqFtR6MuQGRoD+zrpGAIIIIAAAggggAACCCCAAAIIIIAAAggggAACCCCAAAIIIIAAAgjks4CJbdh7PdYgo87QqGHG8vJyadGiRT4zMLY8Fnj99dedWf00FJfpLYghOR2//nhtQeyvVz+rG4NX/XjLhg4dKl27do23OvVyVGDFihVSUlLihBp1yWkNNZoZGnVIJtQY3oe+BAk05ujLptsIIIAAAggggAACCCCAAAIIIIAAAggggAACCCCAAAIIIIAAAgggkNsCJrZh7zXIqD+61LQGGsvKymS77bbL7YHS+4IUyFQQrjrMoIUEBw4cGLW7GubTUF/QN3sMqc6qqEtWm3Br0N6Vvodo4VPzjlIdv2mnkPZLly6V2rVrO4FGXXpaQ436Ew4wmpkZzT7TgUbzhVtIL4GxIoAAAggggAACCCCAAAIIIIAAAggggAACCCCAAAIIIIAAAggggAAC8QiYXIXuzbEdaNTZGTXQuP3228fTHHUQCJSAHYTzq2NBCwnGMnjyySf9okn6OfYYUu2vHXINWqBRl9U2YctoWEHrc7R+Bql8yZIlTqBRQ412oFH76DlTY+jLMKkZGpO8LUhW9AUBBBBAAAEEEEAAAQQQQAABBBBAAAEEEEAAAQQQQAABBBBAAAEEEMiqgMlf6N7+0SWndYZGDTSWlpZKmzZtfOmnmZ0sn2YhC3KAypeXmsWH2EE4P7uRauguXX3VcJyG5KrbcmHZZfs9pmobhN9Huw/VvZtEruVK0NGMXYO/Xbp0ET/+1i9atEjq1KnjLDutgUZ7yem0BBrNF2kiL4y6CCCAAAIIIIAAAggggAACCCCAAAIIIIAAAggggAACCCCAAAIIIIAAAlUFTA7DDjPqsQk06uyM+uNHoNEEXbSXuRLOqSpatSRfx1V1pMErsYNwfvYu1dBdIn01M/ppQMy92Z899zVzHu13Tdv1atPc5+fefo+p2tom0cae6bHZfUjXs7I1lkT67zVuP/qtgUadndHM0JiWQKP58kwEgLoIIIAAAggggAACCCCAAAIIIIAAAggggAACCCCAAAIIIIAAAggggAAC1QuYTIZXoHHLli3hGRrbtm1bfUMpXs1W0CXFbsd1uz02P8I7cXWqQCrZQTg/h5xq6C6RvtrLFOvnS2e9023cuHExly82zzGfSw0x2vcFZfls+z2mahuE30e7D+YdpLo37zDVdjJ5v/1ZtZ+T6ju12/I6XrhwYXiGxlq1aqU2Q6P50vR6EGUIIIAAAggggAACCCCAAAIIIIAAAggggAACCCCAAAIIIIAAAggggAACqQmYbEZ1gcbNmzdLu3btUntQNXdXF+7JhZBONUNzLtnjy4fxxBpvkK7bQTi7X+kKUGW6fbvPXsf2Z8vrejrKgvCZtZ1TfXe2WRDGlo53lCtt2O/R9NmP0OyCBQukbt26zpLTSQcazZel6Xgi+1TuTeQ51EUAAQQQQAABBBBAAAEEEEAAAQQQQAABBBBAAAEEEEAAAQQQQAABBHJdwOQsYgUa27dvn5Gh2uGiaA/I9dCRPcZcG4vO2DdjxgzPV6MzAZolieOt59lQBgu9AlT6uFRDcabLmW7fPCfaPtrzo9VPtjxdXrGer78rZtPfFbPZ40y1L0H6fbTHa8aazN62SuZ+v+6x7c0z/fibOH/+fM9AY40aNaSoqMj50f7osbMPfSFuc45C/7AOTVG1+0TrV9sYFxFAAAEEEEAAAQQQQAABBBBAAAEEEEAAAQQQQAABBBBAAAEEEEAAgQITMNkL3ds/lZWVoktOl5WVSWlpqWQi0OgVbjH8GpTTkJzZ/Ai9mGele2+PMxfG4V52OJqHPRZ7jNHq6zvt27dvOAQZrV46y+0gnN1uqqE401am2zfP8drHY+51XzJl9rtO5v5477E97XcUrTzedu16tptf47Kfbx/b47LLEz22rRK91+/66q8haf0745e/Bhrr1KkjtWvXllgzNDoBx9CXoRNo/N8uplG89eyGkrnHvp9jBBBAAAEEEEAAAQQQQAABBBBAAAEEEEAAAQQQQAABBBBAAAEEEEAgHwVMpkL39o870Ljjjjumdfh2qEgb1mCLblqum/vclJlyp1KO/MMeq18BnmRp7L7GasMeS7L3xXpGqtfTFRhLtB9+BMySGZs7KJzIuIYOHZrxMKo9JtswWnki/Td17c+q/Rk21/3c2+NK5bm2VSrt5Ou98+bNc2ZojCfQqAZFoS9D3WJ6xKoT63rMB1ABAQQQQAABBBBAAAEEEEAAAQQQQAABBBBAAAEEEEAAAQQQQAABBBAoMAGTt9C9+dm6davojz1DYzoDjXagSLlNqMgu9yqz6+bSa/IaVxD7b/dT+2eWk9ZZFaNtpo5et2fUNPXNctXatr35EY7T50ULjOnnKx2be1ymzUwHzNR6+PDh5nEx9+b3ya7oft/2Na9jrza86qVSZr8v2zBaeTLPssftx5iq66M9rurqxbpmW8WqW4jXNdBoz9CoS03by03rsW7hJadDX4BR04zmS9MLsrprdv1469n3cIwAAggggAACCCCAAAIIIIAAAggggAACCCCAAAIIIIAAAggggAACCBSCgMlV6N78eAUaO3TokBYOO0ykDdqBIvuaXa7BLTssZ19LS6cy3Ei0cWX4sQk3b4erMmFsO2jn/Ahh2WOyQdL17Ey3b/fZfez2dF8359WFR+MNRmpwVdvJ9GZ72u8oWnky/bHdMvE5T6RP9rgSuc9d17ZyX+NcZO7cuU6gUUONuuS0O9AYDjIWFTlcRdECjeYL042aaLn7fs4RQAABBBBAAAEEEEAAAQQQQAABBBBAAAEEEEAAAQQQQAABBBBAAAEEfhUwOQwTZtR9pgKNdpBIn+4OE9nX3ddyOdRY3biC8jn0q4/2e3S/40xYRAuMpSsAlun2Y5nY782rbjzG6WjD69nJlNme9juKVp7MM+zxxuOTzDPivcceV7z3eNWzrbyuB6nM+GtItkuXLs73QKb7ZwKNZslpd6AxrhkazZel3Vl3mfu8urr2NY4RQAABBBBAAAEEEEAAAQQQQAABBBBAAAEEEEAAAQQQQAABBBBAAAEEfhUw+Qvdmx93oLGsrExSnaHRhFiMu1eQyK7jdd0Ow2k7XnVM+37ttc+6rHJ1s9fFGpfdV62rm47Nz83uY7QZ/Uzf4u2X1xjsGQH9mPUvWmDMq2/xjsuuF83Ez4CZ/e7svulxvP2ozildVu6+eZ3b/bD7bjun2h/bS9tKtT2vccRbZo833nu86tlWXteDUmbbmz758Q400KhhRjvQWFxc7CwxrbMzVjtDo/mSNB3Wvbss1nl199rXOEYAAQQQQAABBBBAAAEEEEAAAQQQQAABBBBAAAEEEEAAAQQQQAABBApdwOQwdG9+vAKNO+20U9JU7hBLtACLXS9anSCFGu3+VhfOs+tFG5fixlsv6RdRzY12sCpaOMquU01T4Uux2qnOLNxIigeJ9jnFx4Vvjzb2cIU0HtghUXez8fbD/Xtl2okWbjXX072331e8fU+0D9n8PXP31R6v+1oi55mySqQP8dSN9jnLdP9//vnncKCxpKQk6pLT4ZkazZLT5gvSHpxdZh9rnVjn0dqxyzlGAAEEEEAAAQQQQAABBBBAAAEEEEAAAQQQQAABBBBAAAEEEEAAAQQKWcDkL3RvfrwCjR07dkyaKd4AUbz17FBMdQHBpDsc5412f/WWaAE9u160/tp1tK1o9fRaJjbbNFq4KNHwVTztRKuTrjFG63O6npvp9uNxiBZojPZ59Goz2jgINHpppa8smnuiT0jX5znR5yZa32u8iXxOE32eqT9nzhypU6dOxAyNGl40szOGg4yh2Rp1K9JAo/lyNI1Ud25fs4/1Xve5aS/WNbsexwgggAACCCCAAAIIIIAAAggggAACCCCAAAIIIIAAAggggAACCCCAQKEImKyF7s2PHWgsLy+X0tJS6dSpU0okGtjTTYN60TY71Bcr0KcBvC5dulTbXrTnpLPc7rO26xXOset4jcu+rm141dHyTG52oDFaiE37mcjm9a7t8J0f4/QKUOkY0hUAy3T78Xi7Pz/2PfGOM9o4/HhHdn/tfth9j+ez5/V5s9s2x7aX3+MzfTB7e7ymLJm9bZXM/X7dY9ubZ/rxDjTQ6F5y2gQazV77YwKOVQKN5otSK0U71i9Os9l13PeYOtWV23U4RgABBBBAAAEEEEAAAQQQQAABBBBAAAEEEEAAAQQQQAABBBBAAAEECknA5C50b35MoLGiokLKysqcQGPnzp0zzmKHXfwIuaRrQHa/tU13qNG+7h6XfU3vdV/XMj82ux/u/qfz+fZz/BhrtMBYugJgmW4/lr3t6VU3HuN0tOH17GTKbE/7Hdnl0dq160ero+X2eOPxqa6tVK/FM654nhHv2ONpK9N11H/GjBmi4Wa//GfPnh2eobFmzZrhJadNmFGDjLqFZ2qsrKzcZiDMl6Seu4/Nl6a7rqln9nbY0dR1t2eXc4wAAggggAACCCCAAAIIIIAAAggggAACCCCAAAIIIIAAAggggAACCBSqgMlbmFyG7r0CjRpyy/QWpKBRomO1+6732qFA+5od4LHL9R77mp77vdnhqkz0xT1eP0JY9pj89PRjbPasmtWNLdqMm3qPPWNmdW1k4vPg9Tz7fdmGdrnXfVpm149WR8vtz6Ff44rWn3jGFe1euzzesdv3FNKxBijNktN2oLG4uNiZldEEGc2+yCvQaL4sFc4EFN1780Wqdez6XufRyrScDQEEEEAAAQQQQAABBBBAAAEEEEAAAQQQQAABBBBAAAEEEEAAAQQQKFQBk7kwOQzda0ZD91u2bHFmaNRZGrt165ZxoiAFjZIZrN1/vd+EpexyrzK7bjLPTdc9XuE27a9uury3e7NDrnpvtG3cuHHOJbuOcYh2T7rK0xUYS7Q/mQ6Y2Z+pePrm5Z1oG9UFI+PpQzx17PdlG2pfzWZm9zPnZm/XN2Vee3vcXi5e92SqzB5vKs+Id+ypPCOX79W/PfaS0zojowkzhpeZDpWFj02g0f6CNADmC9L+0vQ61vrmfj024Uc9Npt93ZSxRwABBBBAAAEEEEAAAQQQQAABBBBAAAEEEEAAAQQQQAABBBBAAAEEClnA5CnsPIbJa9iBxt122y3jTEEKGiU7WHsM2oYJBJpAlvvc1DHlyT43Xfe5+19du3YYLNn7qms/HdfSFRhLtC+ZDph5hU/j7aMGUe1wabz3ZXpM2g/7fXk9r7pxe9X3Gpv9WbU/w151M11mjzeVZ8U79lSekcv3Tp06tUqgUWdqNAFGMzOj7p0yDTSaL0cduDkOlTsO5kty+fLlueyS9b5vt912We8DHUAAAQQQQAABBBBAAAEEEEAAAQQQQAABBBBAAAEEEEAAAQQQQACBYAmYnIbuzY9mNfRHA43l5eVSWloqnTp1ynjHgxQ0SmWw9ji0neoCZNkOVHmNU0NjOqtirNCb3Xf3mL3aVYe+ffs6Hl7XM1EW77LM6X62HwGzeMzTNS77XaerTa927ICf27C6MKO25a7v1b6W2W5+jStaX+zxRqsTT3m8Y4+nrUzXMf7690BnftV3kOntp59+cpacLikpkVq1aokGF8Phxf/NzKh90DCjs7cDjeZL0h1m1C/JlStXOjfwj+QECDQm58ZdCCCAAAIIIIAAAggggAACCCCAAAIIIIAAAggggAACCCCAAAII5LOAyWqYMKPuCTSm/sZNaKe6lrIdpqqub+aahsh0iV+vTcNIGkrSLd56Xu1ksiye95CJ5/sVMEtXIC6WQTbGYz/TK8yoS2BrYNVsdn1979E2e8nqbP8Opuv92WOPNu4glHv9PvrxDhIONFZUVGxTMPMF6Q4z6rl+Ua5ZsyYIrjnbBwKNOfvq6DgCCCCAAAIIIIAAAggggAACCCCAAAIIIIAAAggggAACCCCAAAIZEzB5DQKN6Sf2Cu+Yp/gR4jHPKvR9de8hUzZ+Bcz8GJufn1U74GcMo4UZNUzrVV/fqV1e3Tv2c2xe/Yi3n1732mXGyi4L4nG0GVMz3f+UAo0m5W/2GmbU41DoUdavXx9E55zpE4HGnHlVdBQBBBBAAAEEEEAAAQQQQAABBBBAAAEEEEAAAQQQQAABBBBAAAHfBDSXoZvu7R/NbLDkdOqvwStwlu0QVeqjogUj4PV+9VqmA1rm+bq3Q2L2st7R+mbfa47NfXquMxjqvbppuc6E6NdmB/zUsLowo/bJXd/00y43Ze59EH4P4+mnu99e535+3ryeH2+Z13j9+Iy5A43FxcXO8tK6xLT50TGEl5zWGRrNF6LOxKibmZVRzzXMqD+bN292rvGP5AQINCbnxl0IIIAAAggggAACCCCAAAIIIIAAAggggAACCCCAAAIIIIAAAgjks4BmNnQz2Q2zJ9CYvrduB8uCEKJK38hoSQXs92tE/A6YafBPg2Huzatv7jrRPpPapm5e7brbSNe5HXgzhnZgU8OVdn9M8FKfr+Mwm11uyuy9vVy6Xe73sT3eVJ5trFJpw497vT6P0T5/6exPyoFG/WLUIKN+MZowoyb+9YcteQECjcnbcScCCCCAAAIIIIAAAggggAACCCCAAAIIIIAAAggggAACCCCAAAL5KhAr0Kh5DZ2EqlOnThknsMMufoRcMj4g6wEmYGWHrqzLHOa4gP3Z1aEEJWDmNcOhm9odEnRf9/PcDvjZhhpq7Nu3b0SY0c9+ZepZdlgz2Wfk2t9K/V3RWUD1s+lX3zXQWLduXalVq5bzE3OGxtAXX+i78bdpi83sjCbQWF5e7oQZzRdosi+v0O8j0FjonwDGjwACCCCAAAIIIIAAAggggAACCCCAAAIIIIAAAggggAACCCCAQFUBk8ewsxt6bGZo9DPQWLV3lCCQOwJ2qNEO42V7BHZI0KsvQe1rkPrl5ZaOsngCp7GeE6RAaqy+Zut60oFGnZVRf9xfivrFqKFGTUayJS9AoDF5O+5EAAEEEEAAAQQQQAABBBBAAAEEEEAAAQQQQAABBBBAAAEEEEAgXwXiCTSWlpZKx44d85WAcSGQNgETagxSGC/WLIBB6qsdvszEbKaZaDMdHx793CS6BWXZ7ET7nY36c+bMkTp16sQ/Q2MorBj6bvx1hkYTajSzM5aVlTlhRt3Xrl07G+PJm2cSaMybV8lAEEAAAQQQQAABBBBAAAEEEEAAAQQQQAABBBBAAAEEEEAAAQQQSJsAgca0UdIQAo6AhtOCFJwzIUuv1+PXkr9ez/YqixW+9LonkbIghTcT6Td1UxNIOdBYUVHhTFuse52ZUVP+GmisV69eaj0r8LsJNBb4B4DhI4AAAggggAACCCCAAAIIIIAAAggggAACCCCAAAIIIIAAAggg4CFAoNEDhSIEEMiKQDqWYK6u4wQaq9PJ32tJBxp1VkbdNMioP2apaQ00bt68WRo1apS/aj6MjECjD8g8AgEEEEAAAQQQQAABBBBAAAEEEEAAAQQQQAABBBBAAAEEEEAAgRwTcAcatftmhU3NbuiPZjc6dOggRUVFOTY6uosAArkokMwSzPGMM0gzZ8bTX+qkLqDfcXPnzo1YcrpGjRqiP7rp95r5bgvvzZLTGmjUBuxAo87MaAKNTZo0Sb2HBdwCgcYCfvkMHQEEEEAAAQQQQAABBBBAAAEEEEAAAQQQQAABBBBAAAEEEEAAgSgCdqBRq+i5V6Bx++23dwIhUZqhGAEEEEAAgcAJaPZwyZIlnoHGcIDxf2H98LkdaNQvRHegUWdn1IabNm0auAHnUocINObS26KvCCCAAAIIIIAAAggggAACCCCAAAIIIIAAAggggAACCCCAAAII+CPgFWjUMp2YSn9CuQ4nt1GvXj1p1aqVP53iKQgggAACCKRBYNmyZbJp0yYn0FhSUiLFxcXOj4YXwwFGd6AxNAvjNn22fgnagUb9QtQZGjXQqD/NmzdPQxcLtwkCjYX77hk5AggggAACCCCAAAIIIIAAAggggAACCCCAAAIIIIAAAggggAAC0QRMoFGv67H5sTMcZnXN9u3bS926daM1RTkCCCCAAAKBEdDM4fz5853vrTp16kjNmjWdH11u2gQaTahRO22Oi+xAo0n3b9myRfRHvxD1Z+PGjdKyZcvADDYXO0KgMRffGn1GAAEEEEAAAQQQQAABBBBAAAEEEEAAAQQQQAABBBBAAAEEEEAg8wIm1GjCjLrXQKPmODS/oZNSaTBEy9q1ayc6WyMbAggggAACQRXQWRkXLFggGl7UIL7OzlirVi1ndkavQKMJM+p4nECj/UVofxmaGRr1AQQaU3v9BBpT8+NuBBBAAAEEEEAAAQQQQAABBBBAAAEEEEAAAQQQQAABBBBAAAEE8lXADjTqGO0ch3tSKg02Nm3aVJo1ayaNGjVywiL56sK4EEAAAQRyR0BD9+vWrZNVq1bJ6tWrwzMz6uyMGmZ0Bxp1ZCbIaPZOmc7QqI3pl6E9Q6OGGfVHw4w6SyOBxtQ+HAQaU/PjbgQQQAABBBBAAAEEEEAAAQQQQAABBBBAAAEEEEAAAQQQQAABBPJVwAQadXx6bAKNmueoqKhwfjS7oTkOs9LmypUrnRU39brWM/c6B/wDAQQQQAABHwRMEFFnXdQlpevXry/Nmzd39hpkrF27triXm7ZnaDRdNO3ouTNDo36xmR8zQ6MdaNR0f6tWrcz97JMQINCYBBq3IIAAAggggAACCCCAAAIIIIAAAggggAACCCCAAAIIIIAAAgggUCACJtRo9naOQ0OLOlOjneXYsGGD6I9e06yH2cz95pw9AggggAACmRCwQ4jFxcVOoLFBgwaiP/Xq1XPCjBpo1JkZNeyodTTMqD+6mfvN3vQxItBoZmjULzv7S1BnaSSQZ8iS2+OXnBt3IYAAAggggAACCCCAAAIIIIAAAggggAACCCCAAAIIIIAAAgggUAgCdhBRj82PBhtNaLG8vDwcbDQzNprgozGy2zFl7BFAAAEEEEi3gB1ENEFFMyOjCTKWlJQ4QUYNNNozM9r32sfaRwKN6X5TUdoj0BgFhmIEEEAAAQQQQAABBBBAAAEEEEAAAQQQQAABBBBAAAEEEEAAAQQQcATsMKIea1hRNzNBlVl10wQczV7r2PfquXuLdd1dn3MEEEAAAQRUwB04dKuY62aWRrPXmRn12PzofSbUaNow95pz3VcJNOqXnf5oql9nadTZGYM0Q+P06dOd/o8bNy48DlPWtWtXp6xLly7Ovl+/fuE62T4g0JidN6DLpbOlLtCsWbOIRlatWhVxzgkCCCCAAAIIIIAAAggggAACCCCAAAIIIIAAAggggAACCCCAQOoCdujQHGuoUY/NTIy6NwFHc02vm/qp94IWEEAAAQQQiF9AQ4nmRwOLJsBoZm2sX7++c13PdbNDjPaxeWLUQKNZcloDYUEINL7++usyY8YMMeFFM4BYew05asAx2+FGAo2x3lRmrhNoTI8rgcb0ONIKAggggAACCCCAAAIIIIAAAggggAACCCCAAAIIIIAAAgggEEvADiaaYw0u6mZCjSbAaMrNeay2uY4AAggggEC6BUyYUds1MzBqmQk01q1b1znW63aA0T7Wa2YLfKBRg4z6k45NQ43ZCjYSaEzHG0y8DQKNiZt53UGg0UuFMgQQQAABBBBAAAEEEEAAAQQQQAABBBBAAAEEEEAAAQQQQCAzAibIaFo3gUX3Xq+765p77H08dez6HCOAAAIIIGALRAsfetXRuvZPvXr1IoKMek917QU20KgzMQ4fPtwec9qOsxFsJNCYtteXUEMEGhPiilqZQGNUGi4ggAACCCCAAAIIIIAAAggggAACCCCAAAIIIIAAAggggAACGRFwhxDNue7Nsf1grzL7OscIIIAAAghkQsArnGgCjfo8DTTam1f9iOuhpaW3mSmJKysrpaKiwvnJ5pLT6ZyV0R6sfex3qJFAo63v37E70KhTmLIlLuB2c7sm3iJ3IIAAAggggAACCCCAAAIIIIAAAggggAACCCCAAAIIIIAAAgjEEvAKKXqVaTvRymM9g+sIIIAAAgikIuAOKJpckSm3c0emrLrnBW6GRj/CjAbEz1AjgUaj7u/e/IKYp9q/IKaMfWwBt5vbNXYL1EAAAQQQQAABBBBAAAEEEEAAAQQQQAABBBBAAAEEEEAAAQQQSFagurBiddeSfR73IYAAAgggkKiACSu6c0WaOzLX4mkzUIFGP8OMBsevUCOBRiPu797rF8TfHuTH0wg05sd7ZBQIIIAAAggggAACCCCAAAIIIIAAAggggAACCCCAAAIIIJDbAoQXc/v90XsEEECgEATsvJYGGd25o1gGgQk0ZiPMaHD8CDUSaDTa/u7tXxB9cqK/IP72NrhPc7u5XYPbc3qGAAIIIIAAAggggAACCCCAAAIIIIAAAggggAACCCCAAAII5KcA4cb8fK+MCgEEEMh1gdLS0oghuHNHERc9TgIRaMxmmNGYDB06VLp27WpO074n0Jh20rgadAfvEv0FieshBVDJ7eZ2LQAChogAAggggAACCCCAAAIIIIAAAggggAACCCCAAAIIIIAAAggggAACCCCAAAIxBNy5InfuKMbtEohA48CBA2P105frTz75ZMaeQ6AxY7TVNpzqL0i1jSdwsaKiQqZNmyaVlZXOXbvssovUq1cvgRayW9X9h8Xtmt3e8XQEEEAAAQQQQAABBBBAAAEEEEAAAQQQQAABBBBAAAEEEEAAAQQQQAABBBAIgoA7V+TOHcXqY9YDjUGYndEgZXLp6aAGGjVg9+OPP8rEiRPl008/ldmzZ8uLL74obdq0MSw5vU/1FyRdgx80aJCMHDky3Nxtt90mV111Vfg86AfuPyxu16D3n/4hgAACCCCAAAIIIIAAAggggAACCCCAAAIIIIAAAggggAACCCCAAAIIIIBA5gXcuSJ37ihWD2IGGjdt2iT6kEwF8pKdnVHDhxqGTPeWqVkaM+WX7Pi3bt0qw4YNk7feeks2btwY0cyoUaNkr732iijL1ZNUf0HSNe477rjD8Tbt3XjjjXLdddeZ08Dv3X9Y3K6BHwAdRAABBBBAAAEEEEAAAQQQQAABBBBAAAEEEEAAAQQQQAABBBBAAAEEEEAAgYwLuHNF7txRrA5kNdCYyuyMGjycPn26jBs3ztnHGmi81zM1S2PQAo3Lly+XQw45JMxSv379cLCRQGOYJa0HpaWlsueee8rPP/8sBBrTSktjCCCAAAIIIIAAAggggAACCCCAAAIIIIAAAggggAACCCCAAAIIIIAAAgggEACBnA40Dh8+POkwoj2TYirBSPc77Nq1qwwdOtRdnPJ50AKNOqCvv/5aNmzYID169JBly5bJySef7IyTQGPKrztqAz179pRZs2YRaIwqxAUEEEAAAQQQQAABBBBAAAEEEEAAAQQQQAABBBBAAAEEEEAAAQQQQAABBBDIVYGcDjQmu9y0viw70Kjn6Qw1aqBRg43p3IIYaLTHN23atIIJNOpMiUuWLJGlS5dK7dq1Zccdd5RmzZpJZWWlzJw5U3bZZRcpLi62edJ2nIlA46pVq2T27NlO/3feeWdp2bJl2vprGnJP/er+w2PqsUcAAQQQQAABBBBAAAEEEEAAAQQQQAABBBBAAAEEEEAAAQQQQAABBBBAAIHCFXDnity5o1gyWVtyOtUAojvQqANN1xLUBBpHyV577RXrs5MT1+1fkMWLF8sDDzwgjz/+eJW+mxCgLsXtXg56ypQpcsopp8iiRYuc+3RZ8hdeeCHchs5oedVVV8n69eudsoYNG8qIESPkpJNOCtcxB3ag8U9/+pM89thjzkyZEydOlAYNGjhLUh944IGiYd+SkhJzW5X9pk2b5N5775X7778//FxTSZ+vY7jkkkukVq1apjilvfsPi+2aUsPcjAACCCCAAAIIIIAAAggggAACCCCAAAIIIIAAAggggAACCCCAAAIIIIAAAnkj4M4VuXNHsQaaV4FGM9hUw5KZWHaaGRrN2/F3b35BysvLpU+fPjJ58uRwB3bbbTeZO3dulUDgaaedJk8//XS43ttvvx0RTtTw4/z588PXr7zySnn00UfD53pw+eWXy5133hlRpicm0HjooYc6S0+bkKS7ovZt5MiRonv3pgHL/v37y88//+y+FHHerVs3GT9+vLRu3TqiPJkT9x8W45pMW9yDAAIIIIAAAggggAACCCCAAAIIIIAAAggggAACCCCAAAIIIIAAAggggAAC+SngzhW5c0exRp21QOPw4cOdGRVjdTDada8ZGu26qYQaCTTm3wyNOjPjLbfc4nxEhg0b5sxeqDMZ6jZp0iQZNGiQfP/99875H//4R9FZF822detW+eabb5zZHV9++WVnSWc70LhmzRr56quvROsNGTLECRpedtllop9x92YCjaZc+3DeeeeJLhWty2C/8sorTtBRr+u1H3/8UVq0aGGqO+HLPfbYIzxbpAYbr776ameZ7G3btskPP/wg1113nXzwwQfOPb///e+d5dhTXULb/YfF/Ycn3EEOEEAAAQQQQAABBBBAAAEEEEAAAQQQQAABBBBAAAEEEEAAAQQQQAABBBBAoGAF3Lkid+4oFkzeBhp14MkuQU2gMf8CjRdddJETFtTZFefMmSM1a9aM+N0oLS11Zj3U2RgHDx4sf//73yOu68nf/vY3ue2226oEGu2Khx9+uHzxxRcST6DxgAMOkOeff17s2TvLysqc5aIffPBBp1l3uNKeDfLaa6+Vm266yX68c1xRUSEnnHCCfPTRR865LrF99tlnV6mXSIH7D4v7D08ibVEXAQQQQAABBBBAAAEEEEAAAQQQQAABBBBAAAEEEEAAAQQQQAABBBBAAAEE8lPAnSty545ijTprgcaBAwfG6lu112PN0GjfnMxsjYm0bz8r2rEdWotWJ5vl06ZNk5NPPtnpgs5OuNdee2WzO2l7tvkF0TDi3Xff7bT7yCOPyDHHHOMECWvUqBF+ls6w+Oabb8p+++3nhBbDF/53kO5A48yZM6Vdu3bux4gGEnVJ6q+//tq5tnDhQmnevLlz3L59e1m+fLm0adNGZsyYIdFmXtRlqXUcup1zzjkyYsQI5zjZf7j/sBjXZNvjPgQQQAABBBBAAAEEEEAAAQQQQAABBBBAAAEEEEAAAQQQQAABBBBAAAEEEMg/AXeuyJ07ijViAo1RhAg05legUZeEPuqoo6q8bV3WuXXr1rL99tvLgQceKKeddpqzfHOViqGCdAYa3TMvup/37LPPis4qqdt7770nBx10kLPMtC5NbbbddtvNHHruzRLa3bp1c5bM9qwUZ6H7D4v7D0+czVANAQQQQAABBBBAAAEEEEAAAQQQQAABBBBAAAEEEEAAAQQQQAABBBBAAAEE8ljAnSty545iDT1rgcbhw4c7S0LH6mC06/EEDllyOppe1fJ8n6FRR6wzdd5www1OMLCqwG8lt956qwwdOvS3gv8dpTPQeM0118jNN99c5Rmm4NNPP5UjjzzSOdUZJc877zxnKWtd0jrR7eCDD5Z333030dsi6rv/sLj/8ERU5gQBBBBAAAEEEEAAAQQQQAABBBBAAAEEEEAAAQQQQAABBBBAAAEEEEAAAQQKUsCdK3LnjmKh5G2gMZllpg1W165dPQNt5noye5acTkYt9Xu8fkF05kKd9XDp0qVSWloq69atc5Zv1mWazabHXbp0MafOPp5Ao87yqEtFX3bZZaKhXffWs2dPmTVrlvTv319Gjhzpvhw+f+mll5ylorXg1VdflT59+si8efNEP5u6HX300TJkyBDnONo/ioqKRP8g6D2NGjWKVi2ucvcfFrdrXI1QCQEEEEAAAQQQQAABBBBAAAEEEEAAAQQQQAABBBBAAAEEEEAAAQQQQAABBPJawJ0rcueOYg0+LwONqYQZFaxfv37OTyy8RK4TaExEK311zS+IBgRHjx7thAjbtm3r+QCdNfH+++93rukMoGeccUZEvbvuuktuuukmp2z9+vVSs2bNiOuVlZXSoEEDpyxWoFGXup4xY4Y0bdo0og1zoktSv/nmm87pzJkzpV27drJ161apX7++U7bPPvvIxx9/bKqntNeA54MPPihjx46V3r17y/nnny+nnHJKRJvuPyzGNaISJwgggAACCCCAAAIIIIAAAggggAACCCCAAAIIIIAAAggggAACCCCAAAIIIFDQAu5ckTt3FAsna4FGXQ7aawa7WB02172WnE52iWnTptkTaBwle+21l+HI6b35BTnrrLNk/Pjxst9++zlLT2ug0L199tlncsQRRzjF9913n1x88cURVV544QVn6WctfPvtt+XQQw+NuP7AAw/IX/7yF6csVqBRK5100knyxBNPSL169SLa0bLBgwc7Zbvvvruz1LSpYAcd//nPf8qZZ55pLkXsNfz40UcfOT+65LQZV0Sl0Mm2bdvkd7/7nWio0d5++ukn2WGHHcJF7j8sxjVcgQMEEEAAAQQQQAABBBBAAAEEEEAAAQQQQAABBBBAAAEEEEAAAQQQQAABBBAoeAF3rsidO4oFlDeBxlRnZbShvMKS9vVkjoM4Q+PPP//sLLes4TcNsJnZB6+//nrZddddpbi42JlBUGcHzNXN/ILoEs/vvPOOM4yddtpJHnroIdl3332dMGFFRYV8++23cuWVV8qkSZOcOhpu3HPPPSOGrctQayBStzZt2si9994rvXr1klWrVsmoUaPk0UcfDdfXUOzNN9/sLFtdo0YNKSsrk9mzZztLRy9fvjxcr3PnznLppZc6MzCuWbNGXnvtNXnrrbfC13X5an0XZps/f37EUtgafLzoooukffv2TpU5c+bIG2+8IfoZ1verm/b5P//5j3Ps/oe9jLV9Tcd2ySWXhIvcf1iMa7gCBwgggAACCCCAAAIIIIAAAggggAACCCCAAAIIIIAAAggggAACCCCAAAIIIFDwAu5ckTt3FAsoa4FG7ZjO0KizKiaz2aHDdIYZu3btKkOHDk2mS9XeE7RA4xdffOEsLVxtp/938eWXX5bu3bvHUzVwdcwviJmh0d3Bli1bih0w1Ou61LT9+bLv0aWY7cChfc3r+KmnnpLTTz9d/vSnP8nTTz/tVSVq2bPPPltl6WetrKFHDWjGs+lMlM8995wcddRRntU1zNqjR49w+NFU+u9//yt77723ORX3HxbjGq7AAQIIIIAAAggggAACCCCAAAIIIIAAAggggAACCCCAAAIIIIAAAggggAACCBS8gDtX5M4dxQLKaqAxlSCiBs7StcS0jZSJ5aa1/aAFGnX2vlNPPVU2btxoD7/KcbNmzWT06NHhGQCrVAh4gfkFufbaa+Wxxx4TDTA2adJEZs2aVaXnek3rXXDBBVKrVq0q17Vg9erVTp1nnnkm4vqRRx4pd999t/ztb3+TF1980bmmYUINgx5yyCHOjJBXX311+J5zzz3XmZlx0KBB4VkhzUX9DGrY18y6aMrt/YIFC5zg7dixY+3i8HGfPn2c0KPu69evHy73OtCA5o033ijTpk0T7bOGL2+99daIqu4/LMY1ohInCCCAAAIIIIAAAggggAACCCCAAAIIIIAAAggggAACCCCAAAIIIIAAAgggUNAC7lyRO3cUCyergUbt3MCBA2P10fO6hr40EJnuLdrMfKk+J2iBxlTHkyv3m1+Q0tJSmTp1qvTu3dtZZnr9+vXOrIS61yWhd9hhB2cZ6Zo1a8Y1NA2C6vLOunXs2DFmaLC6RnU56pkzZ0qDBg1kxx13dPpTXX372pYtW0SXjdYlwzW42LZtW2csJSUldrW4jpcsWeIEPr0M3H9YjGtcDVMJAQQQQAABBBBAAAEEEEAAAQQQQAABBBBAAAEEEEAAAQQQQAABBBBAAAEECkLAnSty545iIWQ90JjKLI2xBpfo9UzNzqj9INCY6NtIT/1Uf0HS04vcb8X9h8XtmvsjZAQIIIAAAggggAACCCCAAAIIIIAAAggggAACCCCAAAIIIIAAAggggAACCCCQqoA7V+TOHcVqP+uBRu1gsrM0xhpcotczNTuj9oNAY6JvIz31U/0FSU8vcr8V9x8Wt2vuj5ARIIAAAggggAACCCCAAAIIIIAAAggggAACCCCAAAIIIIAAAggggAACCCCAQKoC7lyRO3cUq/1ABBqnT58uw4cPj9XXjF7P5OyM2nECjRl9fVEbT/UXJGrDBXbB/YfF7VpgHAwXAQQQQAABBBBAAAEEEEAAAQQQQAABBBBAAAEEEEAAAQQQQAABBBBAAAEEPATcuSJ37sjjloiiQAQatUfZXHo602FGHR+BRlXwf0v1F8T/Hgfzie4/LG5X7fW6d8fJ0tuGhgew3Y3DpdHRfcPnHCCAAAIIIIAAAggggAACCCCAAAIIIIAAAggggAACCCCAAAIIIIAAAggggEB+C7hzRe7cUazRBybQqB3NRqjRjzCjjo1Aoyr4v6X6C+J/j4P5RPcfFrerHWasu8c+snnyJGcghBqD+T7pFQIIIIAAAggggAACCCCAAAIIIIAAAggggAACCCCAAAIIIIAAAggggAACmRBw54rcuaNYzwxUoFE762eo0a8wo46LQKMq+L+5f0H870F+PLFZs2YRA1m1alX4fOO/35LVf7/BOW949sXSeMAlsnbUCFn/7GNOWdO//FXqH3FcuD4HCCCAAAIIIIAAAggggAACCCCAAAIIIIAAAggggAACCCCAAAIIIIAAAgggUBgCOR9o1NfkR6jRzzCjjolAoyr4vxFoTI+5O9C44KVnnZCiV5jRPJFQo5FgjwACCCCAAAIIIIAAAggggAACCCCAAAIIIIAAAggggAACCCCAAAIIIIBAYQrkRaBRX10mQ41Dhw6Vrl27+voJIdDoK3f4YQQawxQpHbgDjd/13lHqH3+KbHzzFaddMzOj+yF2qFHrN738encVzhFAAAEEEEAAAQQQQAABBBBAAAEEEEAAAQQQQAABBBBAAAEEEEAAAQQQQCBPBfIm0GjeTzqDjX7PymjGoHsCjbaGf8cEGtNj7RVoNC1HCzOa63aose37k00xewQQQAABBBBAAAEEEEAAAQQQQAABBBBAAAEEEEAAAQQQQAABBBBAAAEEEMhzgbwLNJr3pcHGGTNmyPTp001RXHudibFLly6iYcZsbgQas6nPs9Ml8O2336arKdpBAAEEEEAAAQQQQAABBBCoRqBXr17VXOUSAggggAACCCCAAAIIIIAAAggggAACCCCAAAL5KVBUVla2bevWraI/lZWVUlFR4fyEykV/Nm3aJDrLXZACeRpu1E0DjrqZkKO9jHTfvn2da3aZU5ClfwTJL0sEPDYPBAg05sFLZAgIIIAAAggggAACCCCQEwIEGnPiNdFJBBBAAAEEEEAAAQQQQAABBBBAAAEEEEAAgTQL5GSgMc0GvjRHoNEXZh6SYQETaGzWce8MP4nmEUAAAQQQQAABBBBAAIHCFFg150tn4AQaC/P9M2oEEEAAAQQQQAABBBBAAAEEEEAAAQQQQKDQBQg0+vQJINDoEzSPyagAgcaM8tI4AggggAACCCCAAAIIICAEGvkQIIAAAggggAACCCCAAAIIIIAAAggggAACCBSyAIFGn94+gUafoHlMRgUINGaUl8YRQAABBBBAAAEEEEAAAQKNfAYQQAABBBBAAAEEEEAAAQQQQAABBBBAAAEEClqAQKNPr59Ao0/QPCajAgQaM8pL4wgggAACCCCAAAIIIIAAgUY+AwgggAACCCCAAAIIIIAAAggggAACCCCAAAIFLUCg0afXT6DRJ2gek1EBAo0Z5aVxBBBAAAEEEEAAAQQQQIBAI58BBBBAAAEEEEAAAQQQQAABBBBAAAEEEEAAgYIWINDo0+sn0OgTNI/JqEAmA41btpTLt5M+kZ9n/iBLFs6V8vIyqVmzpmy3w46yc7ee0n3330m9Bg0zOj4aRwABBBBAAAEEEEAAAQSyLbBqzpdOF3r16pXtrvB8BBBAAAEEEEAAAQQQQAABBBBAAAEEEEAAAQR8FyDQ6BM5gUafoHlMRgUyFWic+s0X8sGbL8mmjeud/hcX15SGjZtI6eZNzo8Wtu3QWc66+GopqlEjo2OkcQQQQAABBBBAAAEEEEAgmwIEGrOpz7MRQAABBBBAAAEEEEAAAQQQQAABBBBAAAEEsi1AoNGnN0Cg0SdoHpNRgUwEGv/73lj57IM3RYqKpGuPPWW/w46V7bZvJ9u2bZNXn3tUZv04JTRLYzvpf9HVUqduvYyOj8YRQAABBBBAAAEEEEAAgWwLEGjM9hvg+QgggAACCCCAAAIIIIAAAggggAACCCCAAALZFCDQ6JN+EAONGhibMGGCzJgxQxYvXiylpaVSr149adOmjfTp00datGjhkw6PyRWBdAcaJ33yfmhmxhelQaMm0u+MC6V9xy4OxdatW2Xs8yNkxtRvpEWrHeTMS66WevV/W256W+g6MzXmyqeGfiKAAAIIIIAAAggggEAiAgQaE9GiLgIIIIAAAggggAACCCCAAAIIIIAAAggggEC+CRBo9OmNBi3QqAHGMWPGyNq1a6MK/OEPf5A999wz6nUuFJ5AOgONG9avlcfuul4qKytkwKXXSus2OzqgGlZ8fcwTMu27L6VZi+3krEuGSv2GjcPYugz1y08/KCeffanUa/BbyDFcIYsHpaWbZc6s6c7sktqN2rXryM5dds1ij3g0AggggAACCCCAAAIIqMDsGT/Kwvlz5dAjjw08CIHGwL8iOogAAggggAACCCCAAAIIIIAAAggggAACCCCQQQECjRnEtZsOWqBx2LBhUlFR4XSxUaNGsu+++0rz5s3lp59+kkmTJoW7ftlll0nLli3D5xwUtkA6A43/fuMF+fLTf8uhx5zkLDOtsjpr6BsvjpQfJk+Qxk1bOGHGRk2ahdE3bVwvL/zzHlm6eIH0OWmA7P67g8PXgnBw9om/l4mffRTRlc+mLpKWrVpHlHGCAAIIIIAAAggggAAC/gr073uofPv1RHnoqVfksKOO8/fhCT6NQGOCYFRHAAEEEEAAAQQQQAABBBBAAAEEEEAAAQQQyCsBAo0+vc6gBRpvuukmZ+Q77bSTnHXWWVKrVq2wxBdffCFvv/22c96jRw859dRTw9c4KGyBdAYan37wr/LL4vly2fV3S/0GjTTNKG++/JR8//Xn0rBx01CY8S/SpNlvy55vDM3oOPrxf8iKZYudl7DH7w6RY046O1Av5JrBA+XVF56J6NPHk+fK9m3aRZRxggACCCCAAAIIIIAAAv4KLF+6RM4+6QhZOO9nefjpf8khR/TxtwMJPI1AYwJYVEUAAQQQQAABBBBAAAEEEEAAAQQQQAABBBDIOwECjT690qAFGl9//XVZvXq19O/fX0pKSiIUdJa8W2+9VbaGlv5t2rSpXHHFFRHXOSlcgXQFGnWZ6X/cOEha7dBWzh10gwO6aeMGGfXw32T1ymXSqetucsqAQVKjuNi5tm7NKhnzxD9k1Yql0nnX3WXh3FnStHkrOWfQ9YF7GVvKy+Wzj/8tF515gtM3Ao2Be0V0CAEEEEAAAQQQQKBABVYsXyoDQqHG+T//JI8+O1YOOuyoQEoQaAzka6FTCCCAAAIIIIAAAggggAACCCCAAAIIIIAAAj4JEGj0CTpogcZYwzZLUtepU0euu+66WNW5XiAC6Qo0rlr+izx29w3SYeducsaFfw7rrV+7Wp5/7C4n1LhLjz3lxP4Xy7pQ2ejH75a1q1dIl1DZH0JlI+66TsrLymTIzfeF7w3SwTeTPpPTj/91OWwCjUF6M/QFAQQQQAABBBBAoNAFVq5YJuecdKTM+3m2jHjudTngkCOcl5tSAAA+jklEQVQCR0KgMXCvhA4hgAACCCCAAAIIIIAAAggggAACCCCAAAII+ChAoNEn7FwKNC5YsECeeOIJR2bnnXeWAQMG+KTEY4IukK5AY0XFFrn7xv+TNu07ydl/+kvEsO1Qo87UuGzJQtGybj33lr5nXCi/zu6o93aUsy+9NuLeRE50JtLFC+fJmtWrZOOGDdK0WXNpt+NOUqduvUSa8axLoNGThUIEEEAAAQQQQAABBAIhsGrl8tBMjUeGZmqcLY89N072O/jwQPTLdIJAo5FgjwACCCCAAAIIIIAAAggggAACCCCAAAIIIFCIAgQafXrruRJo1JDX/fffL6tWrXJkzj77bOncubNPSjwm6ALpCjTqOHWGxrWrVsgVt9wvtUpqRwzdDjXqhe577CsnnDpQimrUkMXz58gzoaWpe+9/uBzVr3/EffGcLF+6RB6461Z589UXQkHG9VVuOen0c+Tqm+6U5i1aVblmF3zwzhvy/vjX5LvJX8rsGT/KbnvsLb323Ef0/vKy0pgzNA67drC89uKoiD7Ub9BQnn3tA+nRq7f9KI4RQAABBBBAAAEEECh4ga2VlaJBxLVr10iN0P8u0H9fb9S4ieiMi3Xq1BX9d+lEtjWrVzqhxnlzZsljz78h+x54aCK3Z7QugcaM8tI4AggggAACCCCAAAIIIIAAAggggAACCCCAQMAFCDT69IJyJdA4btw4+eqrrxyV9u3bywUXXOCTEI/JBYF0BRo1OPvMw7fLkgVzpd8ZF8muu+9TZfgm1Ni2w85y3B/Pk6KiIqfO+H89I99O+kSOP22g7Lbn/lXui1XwpwEnygfvjKu2moYTXxr/mRQXF1eptzY0o+Ow6wbLG/8aU+WaKTj6+JPk3TdfdU6jLTl9ap8DZMrXE8wt4b3OEHPYUceFzzlAAAEEEEAAAQQQQKDQBSZ8+qGMffk5WRP6P0TZmwYZS0s3S6fO3Zz/U5J9LZ5j/Xf7c045Sn6ePUOeGPOW7LP/wfHclvE6BBozTswDEEAAAQQQQAABBBBAAAEEEEAAAQQQQAABBAIsQKDRp5eTC4HGCRMmyPjx4x2RkpISueKKK6R+/fo+CfGYXBBIR6BRw4zjX3lavvvqM2nYuKn0v+gqadZiO8/hb9q4QerWqx8OM86d9aOM+ec90rJ1Gzlv8I2hwGFNz/uqK7xuyAXyyuinZM99DpATTj5Deu+zv3TotEtoubmf5O+3XC2ffPiec/sDI1+SY044OaIp7fuF/Y+X/37wjlOus8Ccetb50qHjLrJs6WJ5a+xLMvenmRH3RAs0rg79x9gfvpss27ZulQ2hmSIvv+A05z4CjRF8nCCAAAIIIIAAAggUuMDM6VPlntuvdxS67NpTdunaQ/R/J0z64r+yft0ap7xFy9by13seS0pq3ZrVcu4fj5afZk2Xt/77rbRtv1NS7aTzJgKN6dSkLQQQQAABBBBAAAEEEEAAAQQQQAABBBBAAIFcEyDQ6NMbC3qg8csvv5Q33ngjrHHhhRdKu3btwuccIKACqQYaNRD45ktPytRvvpBGTZqFwoxXS9PmLePCXTTvJ3n1uUdDSzSvk3MuvU62b9chrvvclbQP69etdZanc1/TZef26fLrUtOXDLlWrrzurxFVXn3hGblm8ECnbK99D5IHRr4oLVr+FsYsCy01/fdbhspzIx8O3xct0BiuEDrQ/4i61y4tnCICjbYMxwgggAACCCCAAAKFLvDgXcNC/0egr+Xgw/tI//MuCXPozIwvjnpCvvjkA2kV+j88DbvrkfC1RA7WhZawPi8UaJz2w7fy1sffyk47d0nk9ozUJdCYEVYaRQABBBBAAAEEEEAAAQQQQAABBBBAAAEEEMgRAQKNPr2oIAca3WHGc889Vzp27OiTDI/JJYFUAo06E+EbL46UH6ZMlCbNWjgzMzZu+muITw2WLVngLEG9S489QrMyNgizrFy2RCb+9135/uvPZWuojUOOPlH2Pzy1JZm3lJeLLlu3cP5cWfrLItm8aaM0aNhY2nXoKH+/+WpZuWKZHNvvj3LfEy+E+6EHJxy6h8z48Tun7MNv5kibtjtGXNeTii1b5MQj9wnXI9BYhYgCBBBAAAEEEEAAAQTiFnjkntvlu8mTpPfvDpTzL/2z1KhRI3yv/p+VPvnPu07ZgYcdFS6P98AOM94f+nf/I4/9Q7y3ZrQegcaM8tI4AggggAACCCCAAAIIIIAAAggggAACCCCAQMAFCDT69IKCGmj8/PPP5Z13fl0+VynOOuss2WWXXXxS4TG5JpBsoFGDiONeeEKmfftlaEbGVk6YUWdoNNsvi+bJ6MfvlrLQLCv6HyibtWgttWqXyLrVq5wZGbWeLj199IlnSbeee5vbktqPfnqEPDj8Vie0WF0D+h8zH376X+EqGoLs3rauc+4VdgxXDB2MefoxuXnopU4RgUZbhmMEEEAAAQQQQAABBBIT+Pjfb8uYZ0Y4N9WpU1e226Gt1K/fUBo2aizNmreQXnv+Tjp06pxYo6HaJsz449Qpct/jY+To409KuI1M3UCgMVOytIsAAggggAACCCCAAAIIIIAAAggggAACCCCQCwIEGn16S0EMNH722Wfy7rvvOgIaIhswYAAzM/r0ecjVxyQTaNQw4+tjHpfp330VCipu54QZGzZuGiZYunhBKMx4l5Ru3iQ7d+spa1aukBXLFjvXi4qKpGVo+bhduu8p+xx0lNSuUyd8XzIHzz35iAy75rLwrXvuc0DoP4DuLU2aNg8FJ9fLd1O+lAmffOhcdwca58yaLscc0N25dtFlQ+WqG+8It+M++PSj92Xgqcc4xQQa3TqcI4AAAggggAACCCAQv4DOwvjGq2PkP++ME11m2mvrucc+csnl10iN4mKvy1XKwmHG7yfLPY+Nlj59T6lSJ5sFBBqzqc+zEUAAAQQQQAABBBBAAAEEEEAAAQQQQAABBLItQKDRpzcQtEDjxIkT5a233nJGr2HGgQMHSvv27cMalZWVMm7cOGnRooUcdNBB4XIOClsg0UCjhhnHPj9CZkz9xgkznnnx1dKgUZMw4vJfFsrzj90dWvJ5g+x/2HFyyDEnOtfKy0qloqJCataqJSUltcP1UzmwZ1hsHZrV5YnRb0iXXXtWafKiM0+Qj94f7yw3Z8/QuHzpEjlgt7ZO/VPPvkD++o/HqtxrCl4Z/ZRcN+QC55RAo1FhjwACCCCAAAIIIIBA4gL6v00rK0P/26BmLfn5p5mi/16+ZUt56P8QtVlmTvtevp/yldPoJZdfK7vvtW/MB9hhxrsfeVaOO/G0mPf4XYFAo9/iPA8BBBBAAAEEEEAAAQQQQAABBBBAAAEEEEAgSAIEGn16G0EKNC5atEgee+y3MFbHjh2lbdtfg1qGY/Xq1fL99987p8OGDTPF7AtcIJFAo86kMu6Ff8qPUyZKs5atxQkzNmwcFlyxdHEozHiXbNq4XvY7tI8c2ufk8LVMHEz99ms56ch9nKbvDc3C4vUfLrXPR+yziyyYN6dKoFFv3KNjE2cmRw1Evvv5j84y2O6+ahs6O+NnH//buUSg0S3EOQIIIIAAAggggAAC8Qs8cs/t8suSRXLNLcOlXv0GETduDYUdr7vyIlmzaoWccHJ/Oe4Pv4UT169fKw2t//2hN5ow4w/ffSN3PTwqdM8ZEe0F5YRAY1DeBP1AAAEEEEAAAQQQQAABBBBAAAEEEEAAAQQQyIYAgUaf1IMUaHzuuedk5syZcY1cZ2+85ZZb4qpLpfwXiDvQGAr1jf/XM/Ltl5/+OjPjJUOlgfUfEzXMOPrxu0PhwHWy7yHHyGHHZn6Jt68nfipnnHCI85IuvfJ6GXJNZFC3MjQj5PBhf5GnRtzn1HEvOa2FQy48Xca//rJzXWdpvPXvD0txzZrOufnHM48/ILffcIU5FQKNYQoOEEAAAQQQQAABBBBIWOBvN14p8+f+JJ06d5OBl14pzVu0CrexcsUyuf6KC53zs84fJAceeqRzrDOuvzDqMRnx7OvhunaY8c4Hn5I//PGs8LWgHRBoDNoboT8IIIAAAggggAACCCCAAAIIIIAAAggggAACfgoQaPRJO0iBxm+++UbGjh0b18h19sZzzz03rrpUyn+BeAON7419Xr7+4kPPZabtMOPvDj5aDj/uj77ArVuzWvbapUX4WRpoPPj3x4iGdr/75kt5csS9Mje0hJ3Zdu+9r9xw+73Spn2H8H80XbRwnhy2Z0dTRbr33FPOvWSItNtxJ1n2yxJ541+j5f3xkb9bD4x8SXrvs7+03G575z6dwVGfs3r1ynA7G9atkwvOOM45//P1t8ve+x8cvqb969ylu9Rv0DBcxgECCCCAAAIIIIAAAoUicMfNV8m8ObPCw+3WY3fZoU17Wb7sF/lu8iSnvE27DnLdbfdIcXGxc37T1ZeG/v18UUSgccDJR8ikzz6WO+4fKSeeNiDcXhAPCDQG8a3QJwQQQAABBBBAAAEEEEAAAQQQQAABBBBAAAG/BAg0+iQdpECjT0PmMXkoEE+g8cPxr8iEj9+RJs1ayFmX/EUaNm4alrDDjH7NzBh+eOjg7tuulccfHG4XRRxraHD7Nu1k9owfw+U6A8wXPy4Jn7/+yvNy9aXV/wfQdjt2dJatNjdpG5//sFiKiorkvx+8Ew4vmuux9v1OOVPuemRUrGpcRwABBBBAAAEEEEAg7wQevfdv8u03E6VV6zZOSNE9wJ577COn9D8vdH2H8KUXn/2nfPjeGxGBxilfT5CfZ88MfJhRB0GgMfwqOUAAAQQQQAABBBBAAAEEEEAAAQQQQAABBBAoQAECjT69dAKNPkHzmIwKxAo0fv/15/LmS09KoybNQmHGodK46W8zIi5bslDGPPEP2bRxvW/LTLsxtpSXy4j775AH74pcblqDjMf2+6NcdeMdMn3qd3LOKb8uVaf3H3TYUTLyxbcjmprx43dyzeDz5Yfvvoko37nLrnLznQ/JurWr5f/OPTl8bd+DDpNR//q3cz5j2vdy+nEHhZbbXh++Huvg//58g1z+l1tjVeM6AggggAACCCCAAAJ5J7Bp00ZZs2ql7NC2vWytrJQVoWWmN65fJyUltaVp8xZSr36DKmPWWdHnzJounXbpVuVaLhQQaMyFt0QfEUAAAQQQQAABBBBAAAEEEEAAAQQQQAABBDIlQKAxU7Kudgk0ukA4zUmBWIHGJ+65SXQWxvOH3Cyttm8XHuMvi+bJC/+8VzZv2iD7H3asHHLMSeFr2ThYv27tr8s+h/7DaIdOnaVt+52cpacT7YsuY60BRd26du8lDRs1TrQJ6iOAAAIIIIAAAggggAACEQIEGiM4OEEAAQQQQAABBBBAAAEEEEAAAQQQQAABBBAoMAECjT69cAKNPkHzmIwKxAo03nvLYKmo2CJXDXtYimrUcPqycO5seemp+6WsdLMc8Pvj5eCj/pDRPtI4AggggAACCCCAAAIIIJDLAgQac/nt0XcEEEAAAQQQQAABBBBAAAEEEEAAAQQQQACBVAUINKYqGOf9BBrjhKJaoAViBRrHPHGPzJ39oxwamoFx30OOkZk/TpY3XhgpW7aUyyFHnyj7H35coMdH5xBAAAEEEEAAAQQQQACBbAsQaMz2G+D5CCCAAAIIIIAAAggggAACCCCAAAIIIIAAAtkUINDokz6BRp+geUxGBWIFGpcsnCujHrlDtlZWOjM0btu61enPESecJnsfeGRG+0bjCCCAAAIIIIAAAggggEA+CBBozIe3yBgQQAABBBBAAAEEEEAAAQQQQAABBBBAAAEEkhUg0JisXIL3EWhMEIzqgRSIFWjUTi9e8LN89Pa/ZNmShdK4aXM56Mh+snO3noEcD51CAAEEEEAAAQQQQAABBIImQKAxaG+E/iCAAAIIIIAAAggggAACCCCAAAIIIIAAAgj4KUCg0SdtAo0+QfOYjArEE2jMaAdoHAEEEEAAAQQQQAABBBDIcwECjXn+ghkeAggggAACCCCAAAIIIIAAAggggAACCCCAQLUCBBqr5UnfRQKN6bOkpewJEGjMnj1PRgABBBBAAAEEEEAAgcIQINBYGO+ZUSKAAAIIIIAAAggggAACCCCAAAIIIIAAAgh4CxBo9HZJeymBxrST0mAWBAg0ZgGdRyKAAAIIIIAAAggggEBBCRBoLKjXzWARQAABBBBAAAEEEEAAAQQQQAABBBBAAAEEXAIEGl0gmTol0JgpWdr1U4BAo5/aPAsBBBBAAAEEEEAAAQQKUYBAYyG+dcaMAAIIIIAAAggggAACCCCAAAIIIIAAAgggYAQINBqJDO8JNGYYmOZ9ESDQ6AszD0EAAQQQQAABBBBAAIECFiDQWMAvn6EjgAACCCCAAAIIIIAAAggggAACCCCAAAIICIFGnz4EBBp9guYxGRUwgcbu3btn9Dk0jgACCCCAAAIIIIAAAggUqsAPP/zgDL1Xr16FSsC4EUAAAQQQQAABBBBAAAEEEEAAAQQQQAABBApYgECjTy+fQKNP0DwmowIEGjPKS+MIIIAAAggggAACCCCAgBBo5EOAAAIIIIAAAggggAACCCCAAAIIIIAAAgggUMgCBBp9evsEGn2C5jEZFSDQmFFeGkcAAQQQQAABBBBAAAEECDTyGUAAAQQQQAABBBBAAAEEEEAAAQQQQAABBBAoaAECjT69fgKNPkHzmIwKEGjMKC+NI4AAAggggAACCCCAAAIEGvkMIIAAAggggAACCCCAAAIIIIAAAggggAACCBS0AIFGn14/gUafoHlMRgUINGaUl8YRQAABBBBAAAEEEEAAAQKNfAYQQAABBBBAAAEEEEAAAQQQQAABBBBAAAEEClqAQKNPr59Ao0/QPCajApkMNG7ZskU+//xzmTZtmixYsEDKysqkZs2a0q5dO+nevbv07t1bGjZsmNHx0TgCCCCAAAIIIIAAAgggkG2BH374welCr169st0Vno8AAggggAACCCCAAAIIIIAAAggggAACCCCAgO8CBBp9IifQ6BM0j8moQKYCjZMmTZKxY8fKhg0bnP5rkLFRo0ZSWloqmzZtcso6duwogwcPlho1amR0jDSOAAIIIIAAAggggAACCGRTgEBjNvV5NgIIIIAAAggggAACCCCAAAIIIIAAAggggEC2BQg0+vQGCDT6BM1jMiqQiUDjW2+9Je+++64UFRWJzkByxBFHSNu2bWXbtm0ycuRImTp1qnM+aNAgqVevXkbHR+MIIIAAAggggAACCCCAQLYFCDRm+w3wfAQQQAABBBBAAAEEEEAAAQQQQAABBBBAAIFsChBo9Ek/iIHGrVu3ypQpU0Rnx1u2bJlUVFRISUmJaF+PPvpoad++vU86PCZXBNIdaPzwww/ltddek8aNG8uAAQOkc+fODoV+Np966inR57Vu3dqZmbFBgwZhJr2ezpkaly5d6vShTp064Wf4fbB582ZnhsqWLVv6/WiehwACCCCAAAIIIIAAAgESINAYoJdBVxBAAAEEEEAAAQQQQAABBBBAAAEEEEAAAQR8FyDQ6BN50AKNGzdudGa/W7FiRVSBI488Ug466KCo17lQeALpDDSuW7dObrvtNqmsrJQrrrhC2rVr54BqWPGZZ56RyZMni4b7Lr/8cmf5aaOtS1A//vjjcv7550vDhg1NcdL7fv36yX/+8x9p06aN6H84LC4ujtnWkiVLREOQ9qYzTHbr1s0JBdvl8Rx/9NFHcsIJJzhVR4wYIWeeeWY8t1EHAQQQQAABBBBAAAEE8lCAQGMevlSGhAACCCCAAAIIIIAAAggggAACCCCAAAIIIBC3AIHGuKlSqxi0QOMnn3wi77//vjMonZVu1113lY4dO8q8efPkyy+/DA/24osvdoJe4QIOClognYHGV199VUyQT8Ozuuky088++6x89dVX0qxZMyfM2LRp07D5hg0b5JFHHpGFCxfK6aefLvvvv3/4WrIHdihy/vz5Yj/Pq805c+Y4S2N7XXvooYfknHPO8bpUbdl9990nN954o1Nn8ODBcvvtt1dbn4sIIIAAAggggAACCCCQvwIEGvP33TIyBBBAAAEEEEAAAQQQQAABBBBAAAEEEEAAgdgCBBpjG6WlRtACjTozo85K17VrV+nZs2fEGCdMmCDjx493yvbbbz/p06dPxHVOClcgnYHGu+++2wkm6iyNGirUMOPo0aNl4sSJ0qRJExkyZIgTajTaOqOjBgZ/+eUXp+iAAw6Q0047zVxOaq/PbNSoUfheDUrq8tfVbfq7s9tuuznLQ7vr/eMf/5CLLrrIXRzzXGec/POf/+zU09kqhw0bFvMeKiCAAAIIIIAAAggggEB+ChBozM/3yqgQQAABBBBAAAEEEEAAAQQQQAABBBBAAAEE4hMg0BifU8q1ghZorG5AuuTvLbfc4lTp0KGDDBw4sLrqXCsggXQFGisqKmTo0KHO7J8myKfLoGsgUAODOmPohRdeGF7+efXq1U6Ycfny5dKjRw/RWRJ1OWpzbyqv4M4773RClL1795Ybbrgh7qY2b94s5eXlTn0NBuvskckGGmfMmOHM0Fi3bl3RGRq1L2wIIIAAAggggAACCCBQmAIEGgvzvTNqBBBAAAEEEEAAAQQQQAABBBBAAAEEEEAAgV8FCDT69EnIpUDjqlWrRJfA1U1nwTv66KN9UuIxQRdIV6Bx2bJl8te//lW6dOki//d//xce9po1a+SBBx5wQo06c+h5550na9eudcr0c9mrVy8599xzRWd1LCsrkzvuuCN8bzYPtt9++5QCjdnsO89GAAEEEEAAAQQQQACBYAkQaAzW+6A3CCCAAAIIIIAAAggggAACCCCAAAIIIIAAAv4KEGj0yTtXAo1btmyR1157TaZOnerInH/++bLjjjv6pMRjgi6QrkCjfs6uvvpq0RlAdWlpe7NDjTpT4+LFi0XL9thjDznnnHOksrJSrrrqKudeXZ45CBuBxiC8BfqAAAIIIIAAAggggEB+CBBozI/3yCgQQAABBBBAAAEEEEAAAQQQQAABBBBAAAEEkhMg0JicW8J3BT3QOGvWLNGfr776SnQ5YN06d+4sZ511lhQVFSU8Xm7IT4F0BRpVR2do1FkXdcnnkpKSCDA71KgX9tprL+ezWKNGDZk3b56ztPPBBx8sp5xySsR98Zzofxw8+eSTZdGiRRHVTz31VBk5cmREWbwnyQQaNZT5/PPPOzM7muc0aNBAxo8f74Q3TRl7BBBAAAEEEEAAAQQQKCwBAo2F9b4ZLQIIIIAAAggggAACCCCAAAIIIIAAAggggECkAIHGSI+MnQU50KhL995+++0RY9elgM8888yIMk4QSFegcdu2bXLPPfc44USddbF3795VcE2osVOnTtK/f/9wsHbMmDHyxRdfyNlnny177713lftiFXz44YfSt2/fKtV69OjhtFvlQhwFyQQaDz/8cPnyyy+rtP7yyy/LMcccU6WcAgQQQAABBBBAAAEEECgMAQKNhfGeGSUCCCCAAAIIIIAAAggggAACCCCAAAIIIICAtwCBRm+XtJcGOdCog33//fdFw2rr1q0Lj71NmzZy2mmnSZMmTcJlHBS2QDoCjRpmHD16tEycONH5bA0aNEhatWrlCbtx40apV69eOMw4Y8YMefjhh0UDhLpkdc2aNT3vq65Qnz958mRZuXKlU01nZXzrrbfE70CjPn/KlCmydetWZ5bGAQMGOP0h0Fjd2+MaAggggAACCCCAAAL5L0CgMf/fMSNEAAEEEEAAAQQQQAABBBBAAAEEEEAAAQQQiC5AoDG6TVqvBD3QaAa7bNkyGTdunMyfP98pat26tVx66aXmMvsCF0g10KhhQl1medKkSdKsWTPRMGOLFi3iUp07d66zJPT69evlyiuvlPbt28d1X6xKN954o9x3332+BxrtfulslO3atXOKCDTaMhwjgAACCCCAAAIIIFB4AgQaC++dM2IEEEAAAQQQQAABBBBAAAEEEEAAAQQQQACB3wQINP5mkdGjXAk0GoQ777xTNm3a5JwOGTLECZ+Za+wLVyCVQKPORPjcc8/JV1995XyeLrvsMmnevHkYc9GiRU6QtmfPnlK/fv1w+dKlS+WDDz5wlmeurKyU448/Xo466qjw9VQPCDSmKsj9CCCAAAIIIIAAAgggkE4BAo3p1KQtBBBAAAEEEEAAAQQQQAABBBBAAAEEEEAAgVwTINDo0xvLtUDj+PHjZcKECY7O2WefLZ07d/ZJiscEWSDZQKOGGUeNGiXffPONMyOjhhmbNm0aHqrOCPrQQw9JaWmpFBcXS8uWLaV27dqyatUq0RkZddOlp3UJ9D322CN8XzoOCDSmQ5E2EEAAAQQQQAABBBBAIF0CBBrTJUk7CCCAAAIIIIAAAggggAACCCCAAAIIIIAAArkoQKDRp7eWa4HG9957Tz799FNH55xzzpFOnTr5JMVjgiyQTKBRw4zPPPOMTJ482QkqapixSZMm4WEuXLjQCTPqjKDdu3eXlStXyi+//OJcLyoqkh122EF01sbDDjtM6tSpE74vXQcEGtMlSTsIIIAAAggggAACCCCQDgECjelQpA0EEEAAAQQQQAABBBBAAAEEEEAAAQQQQACBXBUg0OjTmwtSoFEDZtOnT3eW+/Xq1+bNm+Xee+91ZstTnhtuuEFKSkp8kuIxQRZINNCon7WnnnpK9L5WrVqJhhkbN24cHuLixYvlwQcflI0bNzrLSOty0rqVlZVJRUWF1KpVK+OfPQKN4dfBAQIIIIAAAggggAACCARAgEBjAF4CXUAAAQQQQAABBBBAAAEEEEAAAQQQQAABBBDImgCBRp/ovYKDPj26ymN02d+xY8c65Tr73a677uosKa2z5i1YsEDGjRsn69atc67rUtO65DQbAiqQSKBx27ZtzjLTX3/9tRNmHDx4sDRq1CgMqbMwPvDAA7JhwwY54ogjpG/fvuFrfh4QaPRTm2chgAACCCCAAAIIIIBALAECjbGEuI4AAggggAACCCCAAAIIIIAAAggggAACCCCQzwIEGn16u0EKNK5atUruu+++mCOvV6+eXH755VK3bt2YdalQGALxBho1zDhmzBiZMGFC1DCjzsy4fv16+f3vfy/9+vXLGiCBxqzR82AEEEAAAQQQQAABBBDwECDQ6IFCEQIIIIAAAggggAACCCCAAAIIIIAAAggggEDBCBBo9OlVBynQqEPWmRjfeecdWbRokeiywO5t9913lz59+hBmdMMU+Hm8gcaXX35ZPvnkE2nZsqXozIz2MtM6M2O2wow6G+S0adMiPvOPPPKIvPrqq9KmTRt55plnIt6w9rtr164RZbo8trZRWVkZLtcZJnW75JJL5JRTTgmX64HOgNqwYcNwmYY9Z8+eLRosNtvatWvl5JNPdk5vueUWOfDAA80lqVGjhnTr1k0aNGgQLuMAAQQQQAABBBBAAAEE8leAQGP+vltGhgACCCCAAAIIIIAAAggggAACCCCAAAIIIBBbgEBjbKO01AhaoNEe1IoVK2T+/PlSXl7uzKanfa1fv75dhWMEHIF4Ao2vv/66fPDBB9KsWTMZMmSI6FLmZstmmFH7cNBBB8mUKVNMd+La6xLtuvS62Y499lgnrGnOY+3POOMMefzxx8PV3nvvvXB4MVwY4+D000+XJ554IkYtLiOAAAIIIIDA/7N357FRVW0cx5+yVHZLWYLUEqwgq4KiYVGMC8XIKigiO2okREGEAhXiFpegdVdA0BAWWTQakE1DDJuiAiKQgCKRRQul7CBrobR985z3nftOh2ln2t57Z6b3exOZO+fee849nzPyD788BwEEEECgPAgQaCwPq8gcEEAAAQQQQAABBBBAAAEEEEAAAQQQQAABBEorQKCxtHIlfC6aA40lnAq3e1ggVKBx8+bNMn/+fKldu7apzFinTh1LS6uBTps2TbRKYqS2mR49erTMmTPHeqdQJ1phcsOGDdKwYUPr1gkTJsiMGTOs76FOJk2aJJMnT7Zu03+c1IqO6hDukZ6eLi+88EK4t3MfAggggAACCCCAAAIIxLAAgcYYXjxeHQEEEEAAAQQQQAABBBBAAAEEEEAAAQQQQKDMAgQay0wYXgcEGsNz4q7oFggVaJwyZYpkZ2eLBvB0C2ffoVuc69bOul1zamqq9OzZ03eJTwQQQAABBBBAAAEEEEAAAT8BAo1+GJwigAACCCCAAAIIIIAAAggggAACCCCAAAIIeE6AQKNLS06g0SVohnFUIFSgUYOMeXl5kpGRIRUqVDDvsm/fPlPRMCcnRx544AHp3r27o+9I5wgggAACCCCAAAIIIIBALAsQaIzl1ePdEUAAAQQQQAABBBBAAAEEEEAAAQQQQAABBMoqQKCxrIJhPk+gMUwobotqgVCBRt1Sevfu3aYCo24rvWPHDpk3b57k5uZKjx49pGvXrlE9P14OAQQQQAABBBBAAAEEEIi0AIHGSK8A4yOAAAIIIIAAAggggAACCCCAAAIIIIAAAghEUoBAo0v6BBpdgmYYRwVCBRozMzPl/fffN1UatUJjfn6+eZ++ffvKPffc4+i70TkCCCCAAAIIIIAAAgggUB4ECDSWh1VkDggggAACCCCAAAIIIIAAAggggAACCCCAAAKlFSDQWFq5Ej5HoLGEYNwelQKhAo360hpqXLZsmWRlZUliYqJ069ZNWrVqFZXz4aUQQAABBBBAAAEEEEAAgWgTINAYbSvC+yCAAAIIIIAAAggggAACCCCAAAIIIIAAAgi4KUCg0SVtAo0uQTOMowLhBBodfQE6RwABBBBAAAEEEEAAAQTKuQCBxnK+wEwPAQQQQAABBBBAAAEEEEAAAQQQQAABBBBAoFgBAo3F8th3kUCjfZb0FDkBAo2Rs2dkBBBAAAEEEEAAAQQQ8IYAgUZvrDOzRAABBBBAAAEEEEAAAQQQQAABBBBAAAEEEAguQKAxuIvtrQQabSelwwgIEGiMADpDIoAAAggggAACCCCAgKcECDR6armZLAIIIIAAAggggAACCCCAAAIIIIAAAggggECAAIHGABCnvhJodEqWft0UINDopjZjIYAAAggggAACCCCAgBcFCDR6cdWZMwIIIIAAAggggAACCCCAAAIIIIAAAggggIBPgECjT8LhTwKNDgPTvSsCBBpdYWYQBBBAAAEEEEAAAQQQ8LAAgUYPLz5TRwABBBBAAAEEEEAAAQQQQAABBBBAAAEEEBACjS79CAg0ugTNMI4KEGh0lJfOEUAAAQQQQAABBBBAAAEh0MiPAAEEEEAAAQQQQAABBBBAAAEEEEAAAQQQQMDLAgQaXVp9Ao0uQTOMowIEGh3lpXMEEEAAAQQQQAABBBBAgEAjvwEEEEAAAQQQQAABBBBAAAEEEEAAAQQQQAABTwsQaHRp+Qk0ugTNMI4KEGh0lJfOEUAAAQQQQAABBBBAAAECjfwGEEAAAQQQQAABBBBAAAEEEEAAAQQQQAABBDwtQKDRpeUn0OgSNMM4KkCg0VFeOkcAAQQQQAABBBBAAAEECDTyG0AAAQQQQAABBBBAAAEEEEAAAQQQQAABBBDwtACBRpeWn0CjS9AM46gAgUZHeekcAQQQQAABBBBAAAEEECDQyG8AAQQQQAABBBBAAAEEEEAAAQQQQAABBBBAwNMCBBpdWn4CjS5BM4yjAk4GGnNzc+Xnn3+WXbt2yYEDB+TSpUtSqVIlSU5OllatWkm7du2kZs2ajs6PzhFAAAEEEEAAAQQQQACBSAv8/vvv5hXatGkT6VdhfAQQQAABBBBAAAEEEEAAAQQQQAABBBBAAAEEXBcg0OgSOYFGl6AZxlEBpwKNmzdvlm+++UbOnTtn3l+DjLVq1ZKcnBy5cOGCaUtJSZFnn31WKlSo4Ogc6RwBBBBAAAEEEEAAAQQQiKQAgcZI6jM2AggggAACCCCAAAIIIIAAAggggAACCCCAQKQFCDS6tAIEGl2CZhhHBZwINK5cuVJWrVolcXFxohVIunTpItdff70UFBTIrFmzZOfOneb7qFGjpFq1ao7Oj84RQAABBBBAAAEEEEAAgUgLEGiM9AowPgIIIIAAAggggAACCCCAAAIIIIAAAggggEAkBQg0uqQfC4HGw4cPy4wZMyQ+Pl4aN24sAwcOdEmHYWJFwO5A49q1a2XJkiVy7bXXytChQ6Vp06aGIj8/X2bPni06XoMGDUxlxho1alhMet3OSo1Hjhwx71ClShVrDE5KL4Bn6e14EgEEEEAAAQQQQAABAo38BhBAAAEEEEAAAQQQQAABBBBAAAEEEEAAAQS8LECg0aXVj4VA49SpU+Xo0aOWyKuvvmqdc4KACtgZaDxz5oy89tprkpeXJ2PHjpXk5GSDrGHFuXPnyrZt26RevXoyZswYs/20bwV0C+pPP/1UnnzySalZs6avudSfvXv3ljVr1khSUpLoPxxWrFgxZF/Z2dmioT3/QytMtmjRwgSC/du9dl4aT68ZMV8EEEAAAQQQQAABBIoTINBYnA7XEEAAAQQQQAABBBBAAAEEEEAAAQQQQAABBMq7AIFGl1Y42gONGh7TSnn+B4FGfw3OVcDOQOPixYtl3bp10rNnT0lNTTXAus30559/Llu2bJHExEQTZqxdu7aFf+7cOZk+fbocPHhQHnvsMenUqZN1rbQn/qHIzMxM8R8vWJ/79u0zW2MHu6ah4GHDhgW75Jm2knp6BoaJIoAAAggggAACCCAQpgCBxjChuA0BBBBAAAEEEEAAAQQQQAABBBBAAAEEEECgXAoQaHRpWaM50Hj58mXJyMgQ/dQqdVlZWUaFQKNLP44YGsbOQOM777xjgolapVFDcBpmXLhwoWzatEkSEhLkueeeM6FGH49WdNTAoG6Nrsedd94p/fv3910u1aeOWatWLetZDUrq9tfFHcePH5ebb75ZNFwZeLz77rsyYsSIwGbPfC+Np2dwmCgCCCCAAAIIIIAAAmEKEGgME4rbEEAAAQQQQAABBBBAAAEEEEAAAQQQQAABBMqlAIFGl5Y1mgON3377rWzcuNGExzp37ixLly41KgQaXfpxxNAwdgUar1y5IhMnTjQB2rS0NCNw/vx50UCgBgZbtmwpTz31lLX986lTp0yY8dixY9K6dWvRKom6HbXv2bIQvvnmmyZE2a5dO3nhhRfC7urixYsmBKwPNG/e3AQcvR5oVIvSeuqzHAgggAACCCCAAAIIICBCoJFfAQIIIIAAAggggAACCCCAAAIIIIAAAggggICXBQg0urT60Rpo1PDYRx99ZBQef/xxOXnyJIFGl34TsTiMXYHGo0ePyuuvvy7NmjWTZ555xqI4ffq0+T3q7/KWW24R/U3++++/pk1/m23atJHhw4eLVnW8dOmSTJkyxXo2kifXXXcdgcZILgBjI4AAAggggAACCCBQjgQINJajxWQqCCCAAAIIIIAAAggggAACCCCAAAIIIIAAAiUWINBYYrLSPRCtgcbPPvtMDhw4ICkpKSYo9ttvvxFoLN0Se+IpuwKNubm5MmHCBGncuLHZWtofzz/UqJUaDx06JNp26623yrBhwyQvL0/Gjx9vnh07dqz/oxE7L2ugUQOeWnWyRo0a0qhRI2sbbJ1rfn6+VK5cOeTcNPC5d+9e43PjjTeaCpYhH/rfDVoxU98hOztb9Dw5OVkaNGggFSpUkP3790v9+vWlevXq4XbHfQgggAACCCCAAAIIIFAGAQKNZcDjUQQQQAABBBBAAAEEEEAAAQQQQAABBBBAAIGYFyDQ6NISRmOg8Y8//pAvvvjCCIwZM0bq1KkjBBpd+kHE6DB2BRp1+lqhUUN4ukVxfHx8IRH/UKNeuP3222Xw4MEmYPfPP/+YranvvvtueeSRRwo9F84X/cfBhx9+WLKysgrd/uijj8qsWbMKtYX7pTSBRt1i+4033pDZs2eb6o7+Y3Xo0EH69OljKlFquwYVq1Wr5n+LOddtrz/44ANTwfLcuXOFrms4UrfQHjFiRJGByJycHPn444/lk08+Ed3OO/Bo0qSJ7NmzRzp16iSrVq0KvGy+O+EZdCAaEUAAAQQQQAABBBDwiACBRo8sNNNEAAEEEEAAAQQQQAABBBBAAAEEEEAAAQQQCCpAoDEoi/2N0RZo1Mpvb7/9tly4cEHatWsnvXv3NpMm0Gj/2penHu0KNBYUFMh7770nGk7Uqov6Gww8fKFGrTY4cOBAiYuLM7csWrRIfvnlFxkyZIjccccdgY+F/L527Vrp1avXVfe1bt3a9HvVhTAaShpo3LJliwloBoYqixpK79ftuf2P7du3G4O///7bv/mq8+bNm8vy5ctNxcXAi5MmTZKpU6dazRpg1C2+A8ONGo7U6o3BDic8g41DGwIIIIAAAggggAACXhEg0OiVlWaeCCCAAAIIIIAAAggggAACCCCAAAIIIIAAAsEECDQGU3GgLdoCjatXr5b169ebincTJ060qr8RaHRg8ctRl3YEGjXMuHDhQtm0aZMkJCTIqFGjzJbGwZi0iqFWJvSFGXfv3i3Tpk0TDRDqltWVKlUK9lixbTr+tm3b5MSJE+Y+rcq4cuVKcSvQeOrUKRPg9IUGddtt3Tpbg4ca4vzhhx/MHP0noW265bbvOHv2rAlz+gKRAwYMkLS0NGnatKno/LT6qlZnXLNmjXnkvvvuk8WLF0vFihV9Xcivv/4q2q6HBpo14Kyuemi/6enp1vbzxQUanfA0L8EfCCCAAAIIIIAAAgh4VIBAo0cXnmkjgAACCCCAAAIIIIAAAggggAACCCCAAAIIGAECjS79EKIp0Khb02ZkZJiZd+nSRXTrXt8RGGi8dOmSXHPNNb7LfHpcoKyBRg2/LViwQDZv3iyJiYkmzFi3bt2wVLUSoYYPNcw3btw4adSoUVjPhbrpxRdfNNs2uxVo1C2gtcqkHhpE/PDDD6Vq1aqFXlMDxw899JDVFhhoHD9+vMycOdNc1+ChhhcDjytXrpg+NLisx4wZM2TQoEHWbXPmzJHRo0eb71u3bjVhSOvi/07eeustszW4hi01ABnOYYdnOONwDwIIIIAAAggggAAC5VWAQGN5XVnmhQACCCCAAAIIIIAAAggggAACCCCAAAIIIBCOAIHGcJRsuCeaAo0bN26Ub7/91szqpptuKlS17ejRo1bluoYNG8qhQ4dEw1O1atWyQYEuYl2gLIHG/Px8mT9/vuj2yRpm1DBdnTp1LBKtCpiZmSm33HKLVK9e3Wo/cuSIaMBPA3W6VXqPHj2ka9eu1vWyntgRwAt3y+nc3Fwzd33npKQk0QCx/1z957JkyRIZOnSoaQrccjolJcVsC6196D92+lde9O9Dt6Xu3LmzadItuqdPn25d9g9NapXMJ554Qm644Yarql7q9t76/3+rVq2sZ4s7scOzuP65hgACCCCAAAIIIIBAeRcg0FjeV5j5IYAAAggggAACCCCAAAIIIIAAAggggAACCBQnQKCxOB0br0VToNG33XS403v++eetLanDfYb7yqdAaQONGmacN2+eaCVArcioYcbatWtbSBpknDp1quTk5JhwXr169Uxl0JMnT5qKjHqjbj3dv3//QlsvWx2U4cSOAF64gcadO3dKx44dzdvqNtOvvvpqsW++YsUKuXjxovTr18+6T4OfWjHRd2hlyeIOHVOPwCqLZ86ckbZt25pgZODzGpRMTk42IUY1b9++vdmePvC+YN/t8AzWL20IIIAAAggggAACCHhFgECjV1aaeSKAAAIIIIAAAggggAACCCCAAAIIIIAAAggEEyDQGEzFgbZoCjT+888/snz5ctGQWeCh21FrqEwPDZ7ptr7+W98G3s93bwmUJtCov7O5c+fKtm3bRIOKGmZMSEiw4A4ePGjCjBcuXDABuhMnTsjhw4fN9bi4ONFKoVq18d5775UqVapYz9l1YkcAL9xAo1ZG1YCgHh9//LEMHz7cnJfkD62wmpqaWpJHzL1aqdFXmdX38B9//CFPP/20qRTpawv2qRUxv/zyy6uqNwa71w7PYP3ShgACCCCAAAIIIICAVwQINHplpZknAggggAACCCCAAAIIIIAAAggggAACCCCAQDABAo3BVBxoi6ZAY3HT0y1wly5dam4JVT2uuH64Vj4FShpo1DDj7NmzRZ+rX7++CTNee+21Fo5uaa7BvvPnz5ttpHU7aT0uXbokV65ckcqVK0t8fLx1vxMndgTwwg007tixQzp16mSmMXHiRNGxS3poNUvf9s8aNHz22WeL7UJDoVWrVpVmzZoVuXW8Vn1ctWqV7NmzRzRYqqFmDZquX7/e6lsraA4bNsz6XtSJHZ5F9U07AggggAACCCCAAAJeECDQ6IVVZo4IIIAAAggggAACCCCAAAIIIIAAAggggAACRQkQaCxKxub2aA80nj171mw9u2vXLtm0aZOZ/eOPP26qNNasWdNmDbqLVYGSBBoLCgrMNtMaktUwowbvatWqZU1dqzB+9NFHolVBu3TpIr169bKuuXliRwAv3ECjbh+tFnroFtA//fRTsYHN06dPm2qV/ltMa0jUFwq94447ZM2aNaXi0rUcM2aMvP7663LXXXcF7cO/ouTQoUNl2rRpQe/zb7TD078/zhFAAAEEEEAAAQQQ8JoAgUavrTjzRQABBBBAAAEEEEAAAQQQQAABBBBAAAEEEPAXINDor+HgebQHGjXUdPny5asEdIvfyZMnX9VOgzcFwg00aphx0aJFotsjFxVm1MqMGqS9//77pXfv3hEDtSOAF26gUSepwcAlS5aY+aalpcnLL78sWkXR/9DQ4meffSavvPKKCXxu3rxZWrRoYd3y2GOPycqVK833mTNnysCBA61r/ifaj1ZZ1P90y2m19h3Tp0+X9PR0qVGjhglWpqSk+C5Zn7m5uZKYmGi+9+nTxwRUrYtFnNjhWUTXNCOAAAIIIIAAAggg4AkBAo2eWGYmiQACCCCAAAIIIIAAAggggAACCCCAAAIIIFCEAIHGImDsbo72QKNWyjt+/PhV027YsKGMHDnyqnYavCkQbqDxq6++kh9//FHq1atnKjP6KgqqmlZmjFSYUatBahVSDfr5Dg32LV68WJKSkmTu3Lm+ZvOp7+1fHVEbdXts7SMvL8+6VytM6qH/rzzyyCNWu560bNlS/KucZmdny2233WaCinrdt230jTfeaLba3rp1q2RkZMiff/6pl82hW0H7/x1y4MAB06/v+qhRo+Spp56S5ORk07R//35ZsWKF2e7777//Nm0dOnSQ77//3veI6BbSkyZNKvS9Z8+eVoDxr7/+MhUZZ82aZe6ZMmWK6Dj+hx2e/v1xjgACCCCAAAIIIIAAAiIEGvkVIIAAAggggAACCCCAAAIIIIAAAggggAACCHhZgECjS6vvH0ZyaUiGQcB2gXACjUuXLpXVq1ebYNxzzz0nCQkJ1ntEMsyoL6FVCrdv3269TzgnGjBs2rSpdWu3bt1MWNNqCHEyYMAA+fTTTwvdtWHDBlOp8dixY4XaA79o9cRvvvlG2rdvH3jJtA8ZMuSq9mAN2s+8efMkNTXVujxjxgyZMGGC9d13oiFU3Rpbw4q+o0mTJrJu3Tprq2tfux2evr74RAABBBBAAAEEEEAAgf8KEGjkl4AAAggggAACCCCAAAIIIIAAAggggAACCCDgZQECjS6tPoFGl6AZxlGBUIFG3Rp5/vz5Urt2bVOZsU6dOtb7ZGVlmYp/GpSL1DbTo0ePljlz5ljvFOpEw30aPtRKpb5DQ4AaBgz30CqIwbZtP3HihNlS+uuvvy4UHtR+tSrkiBEjpF+/foUCoYFjaqVG7V9DpMGOBx54QDRQ+eCDD0q1atUK3bJs2TIZNGiQaWvbtm2RQU81GzdunNStW7fQ8/rFDs+rOqUBAQQQQAABBBBAAAGPCxBo9PgPgOkjgAACCCCAAAIIIIAAAggggAACCCCAAAIeFyDQ6NIPgECjS9AM46hAqECjbkusWyqnp6ebLZx9L6PBO93aWbdr1iqBurUxx38FCgoKzJZyHTt2lLfeesvY+LaODtcoNzdXMjMzZe/evVK9enW5/vrr5brrrpP4+Pgiu9BxtVqlhjX176fLly+LblWtQcu4uDgTYNR+qlatWmQfXEAAAQQQQAABBBBAAAH7BQg02m9KjwgggAACCCCAAAIIIIAAAggggAACCCCAAAKxI0Cg0aW1ItDoEjTDOCoQKtCoQca8vDzJyMiQChUqmHfZt2+fqWiYk5MjWjGwe/fujr5jLHZ+5coVU9VS3z0pKUmGDx8uaWlpUrly5VicDu+MAAIIIIAAAggggAACZRAg0FgGPB5FAAEEEEAAAQQQQAABBBBAAAEEEEAAAQQQiHkBAo0uLSGBRpegGcZRgVCBxmnTpsnu3btNlUHdVnrHjh0yb9480QqCPXr0kK5duzr6frHaeX5+vrz22mumUuN3331nprFo0SJjFqtz4r0RQAABBBBAAAEEEECgdAIEGkvnxlMIIIAAAggggAACCCCAAAIIIIAAAggggAAC5UOAQKNL60ig0SVohnFUIFSgUbc9fv/9902VRq3QqEE9Pfr27Sv33HOPOeeP/wucPn1aLl68aLaH1latbpmQkGBuGDx4sHzyySf/v5kzBBBAAAEEEEAAAQQQ8IQAgUZPLDOTRAABBBBAAAEEEEAAAQQQQAABBBBAAAEEEChCgEBjETB2NxNotFuU/iIhECrQqO+kocZly5ZJVlaWJCYmSrdu3aRVq1aReN2oH3PkyJGyYMECadKkiXTo0EFOnTolK1euNO89ffp0GTJkSNTPgRdEAAEEEEAAAQQQQAABewUINNrrSW8IIIAAAggggAACCCCAAAIIIIAAAggggAACsSVAoNGl9SLQ6BI0wzgqEE6g0dEXKGedHz58WD788ENZt26d7Ny508yucePG0qdPH3nppZekUqVK5WzGTAcBBBBAAAEEEEAAAQRCCRBoDCXEdQQQQAABBBBAAAEEEEAAAQQQQAABBBBAAIHyLECg0aXVJdDoEjTDOCpAoNE53tzcXDl58qTwd4VzxvSMAAIIIIAAAggggEAsCBBojIVV4h0RQAABBBBAAAEEEEAAAQQQQAABBBBAAAEEnBIg0OiUbEC/hJQCQPgakwIEGmNy2XhpBBBAAAEEEEAAAQQQiCEBAo0xtFi8KgIIIIAAAggggAACCCCAAAIIIIAAAggggIDtAgQabScN3iGBxuAutMaWAIHG2Fov3hYBBBBAAAEEEEAAAQRiT4BAY+ytGW+MAAIIIIAAAggggAACCCCAAAIIIIAAAgggYJ8AgUb7LIvtiUBjsTxcjBEBAo0xslC8JgIIIIAAAggggAACCMSsAIHGmF06XhwBBBBAAAEEEEAAAQQQQAABBBBAAAEEEEDABoH/AAAA//82H1jHAABAAElEQVTs3Xd4FcX+x/FvIIQACVWQDlKkBKmCiKL3onQBsVAuIgJSpAkKio9yRUUELggiIBYEaSoqTakiwqV3FC5NQAhFmtQQEtJ++Y6/PabnJDnnZHPy3uchuzs7OzvzmsR//DwzPuHh4THR0dGi/6KioiQyMtL8iy0X/RcaGiq3bt2SO++8UzjSL4Bf+u140z4Cv/zyi+lMUFCQfTpFTxBAAAEEEEAAAQQQQAABLxL43//+Z0ZTq1YtLxoVQ0EAAQQQQAABBBBAAAEEEEAAAQQQQAABBBBAwDkBHwKNzkFltBaBxowK8r4dBAg02mEW6AMCCCCAAAIIIIAAAgh4swCBRm+eXcaGAAIIIIAAAggggAACCCCAAAIIIIAAAgggkJoAgcbUhFz0nECjiyBpJlMFCDRmKj8fRwABBBBAAAEEEEAAgWwgQKAxG0wyQ0QAAQQQQAABBBBAAAEEEEAAAQQQQAABBBBIVoBAY7I0rn1AoNG1nrSWOQIEGjPHna8igAACCCCAAAIIIIBA9hEg0Jh95pqRIoAAAggggAACCCCAAAIIIIAAAggggAACCCQWINCY2MQtJQQa3cJKox4WINDoYXA+hwACCCCAAAIIIIAAAtlOgEBjtptyBowAAggggAACCCCAAAIIIIAAAggggAACCCAQR4BAYxwMd14SaHSnLm17SsCdgcaIiAjZvHmzHDx4UE6dOiXh4eHi6+srZcqUkaCgIKlXr54EBgZ6aqh8BwEEEEAAAQQQQAABBBDIFAECjZnCzkcRQAABBBBAAAEEEEAAAQQQQAABBBBAAAEEbCJAoNFDE0Gg0UPQfMatAu4KNG7fvl0WL14sISEhpv8aZMyfP7+EhYVJaGioKatQoYIMGjRIcuTI4dYx0jgCCCCAAAIIIIAAAgggkJkCBBozU59vI4AAAggggAACCCCAAAIIIIAAAggggAACCGS2AIFGD80AgUYPQfMZtwq4I9C4bNkyWbVqlfj4+EitWrXk0UcfldKlS0tMTIzMmDFD9u/fb+4HDBggefPmdev4aBwBBBBAAAEEEEAAAQQQyGwBAo2ZPQN8HwEEEEAAAQQQQAABBBBAAAEEEEAAAQQQQCAzBQg0ekjfboHG8+fPy65du8wKeMkRFC1aVBo3bpzcY8qzoYCrA40///yzLFq0SAoUKCDPPvusVK5c2ahGR0fLzJkzRb9XvHhxszJjQECAQ1yfs1Kjg4MLBBBAAAEEEEAAAQQQ8CIBAo1eNJkMBQEEEEAAAQQQQAABBBBAAAEEEEAAAQQQQCDNAgQa00yWvhfsFmjU7X13796d6mBeeOEFKVGiRKr1qJA9BFwZaLx+/bq88847EhUVJUOGDJEyZcoYRA0rfvHFF7Jnzx7RUO2LL75otp+2hHUL6k8++UR69uwpgYGBVnGq58jISDl06JDoWY+CBQtK+fLlzbWdfly+fFmCg4MdXdL/dvA36ODgAgEEEEAAAQQQQAABrxcg0Oj1U8wAEUAAAQQQQAABBBBAAAEEEEAAAQQQQAABBFIQINCYAo4rH9kt0Kir4mlgTA9/f/8kh1qsWDGzap6fn1+SzynMfgKuDDQuXLhQ1q1bJ23atJGmTZsaTN1mes6cObJz504pXLiwCTMWKlTIAR0SEiLTpk2T06dPS6dOnaRRo0aOZ6ld9O/fX2bPnh2v2oULFyRPnjzxyjLz5ubNm2ZFyrh9qFSpkuNvNW451wgggAACCCCAAAIIIOCdAgQavXNeGRUCCCCAAAIIIIAAAggggAACCCCAAAIIIICAcwIEGp1zynAtuwYaS5YsKX379s3w+Gggewi4MtA4fvx4E0zUVRp1pUUNM86fP1+2bdtmVk8cPHiwCTVasrqi45QpU+TcuXOm6IEHHpCOHTtaj1M9jxkzRt5999149c6cORNv9cd4DzPhJiIiQurWrSsnTpxwfF1Xkdy3b5/jngsEEEAAAQQQQAABBBDwbgECjd49v4wOAQQQQAABBBBAAAEEEEAAAQQQQAABBBBAIGUBAo0p+7jsKYFGl1HSUCYKuCrQqNs+v/LKK1KqVCl5+eWXzYh0dcIJEybIpUuXpHr16tKrVy/JmTOneXblyhUTZrx48aLUqFFDjh8/brajtt51liQsLEx++OEH6d69u3nFboFG7ZQGO3Vb7ffff1/GjRtntsUm0OjsDFMPAQQQQAABBBBAAIGsL0CgMevPISNAAAEEEEAAAQQQQAABBBBAAAEEEEAAAQQQSL8Agcb026XpTQKNaeKisk0FXBVo1K2eR40aJVWqVBHdCto6rl69KpMnTzahxpo1a5rg4bVr10zZ5cuXpVatWvLcc8+JruoYHh4u7733nvWq0+dVq1bJU089ZerbMdBoDUTDnSNHjiTQaIFwRgABBBBAAAEEEEAgmwgQaMwmE80wEUAAAQQQQAABBBBAAAEEEEAAAQQQQAABBJIUINCYJIvrC+0aaCxcuLA0adJEgoODRYNjBQsWNKvmVatWTXLnzu16CFrM0gKuCjTq1srDhg0zYT3dWjruETfUqCs1nj17VrSsTp060q1bN4mKipKhQ4ead4cMGRL3VaeuXR1o1GClbhF969YtqVChgsu2sCbQ6NR0UgkBBBBAAAEEEEAAAa8TINDodVPKgBBAAAEEEEAAAQQQQAABBBBAAAEEEEAAAQTSIECgMQ1YGalq10BjcmPy9/eXTp06mYBWcnUoz34Crgo0qpyu0KirLo4ZM0b8/PziYcYNNeqDe++9V5555hnJkSOHnDx50mxN/dBDDzlWWoz3cio3SQUa9XstW7aU/fv3x3u7YcOGsnLlSsfW19ZDDVXOnTtXJk2aJEePHrWKzblo0aLSsWNHGT58uBQoUCDes7g3GuqcOXOmbNy4UbZv324CxQ0aNDDBzRdeeMG0n9QKjV988YVpOyQkxDQ3duxY6devn6NpDYjOmDHDcR8QECCbN2+Wu+66y1HGBQIIIIAAAggggAACCNhXgECjfeeGniGAAAIIIIAAAggggAACCCCAAAIIIIAAAgi4X4BAo/uNzRfsFmj8/vvvZceOHY7RFylSxKzOqFvwhoWFOco1WFWiRAnHPRfZW8BVgcaYmBh5//33TThRV12sV69eIlgr1FixYkX517/+JT4+PqbOl19+KVu2bJGuXbtK/fr1E72XWkFygUZdldQKCVptaBjw999/Fw34WocGKrXPu3btsoqSPOu7Gj5s1qxZoucHDx6U3r17y969exM90wINRVatWlU2bNiQaMvpESNGmCCl9aI6TJs2zbo1gciEIcsFCxaYwKajEhcIIIAAAggggAACCCBgWwECjbadGjqGAAIIIIAAAggggAACCCCAAAIIIIAAAggg4AEBAo0eQNZP2C3QqIGn1atXmyBZ7dq1HdtL68pzy5Ytk507dxoZ3ZL6xRdfdITJPMTFZ2wq4IpAo4YZ58+fL9u2bTMh2gEDBkixYsWSHPHNmzclb968jt+/w4cPy9SpU03IVres9vX1TfK9lAqTCjTqyoxt27aVixcvmlf79OljAoC6YmJgYKCjudu3b5uAohVm1NDhuHHjRP+GNPSof1e6aqMGCK1DzXQrauvQoGbdunUd39I2Hn/8cSlevLh5f9asWfGCleXLl5d9+/ZZr4uaaJv9+/c39XXlyo8++sjxXLe//u2330T7qqus6qHebdq0cdThAgEEEEAAAQQQQAABBOwrQKDRvnNDzxBAAAEEEEAAAQQQQAABBBBAAAEEEEAAAQTcL0Cg0f3G5gt2CzSmNmwNSP3xxx+m2sCBA82Kcam9w3PvF8hooFHDjPPmzTNbLGtYVsOMd9xxh1NwGtTTrZRv3LghL730kpQtW9ap9xJWShho3LRpk3To0MFUq1SpksyZM0dq1KiR8DVzr9s761bZejRv3twEBRNul63Ppk+fLhq41ENXkVy7dq251h/WdtJ6raHEt99+O96W2+fOnTOrT27dulWrJFqh0RTG/tDv61bSCQON1vNbt245gqIEGi0VzggggAACCCCAAAII2F+AQKP954geIoAAAggggAACCCCAAAIIIIAAAggggAACCLhPgECj+2zjtZzVAo179uyRRYsWmTE8/fTTcs8998QbDzfZUyAjgcbo6GiZO3euWf1Tw4walNWtzq1DtzsPDg6WmjVrSr58+axiOX/+vPz0009mi3RdQfSxxx5LchtnxwupXMQNNL788ssyYcIE80ajRo3k66+/NqtGJtfE/fffL7qaox5HjhxJdjt2DW7qiojr1683dXWL6dKlS8uVK1ccQUwNTeqW0kmtMqkOQUFB5t2EKzSawtgfBBotCc4IIIAAAggggAACCHiXAIFG75pPRoMAAggggAACCCCAAAIIIIAAAggggAACCCCQNgECjWnzSnftrBZo1K1zZ8+ebcarwakHHngg3WPnRe8RSG+gUcOM+vu0e/dusyKjhhkLFSrkgNEA35QpUyQsLExy5sxpVgTNnTu3XL582azIqBV16+mOHTtKnTp1HO+l5yJuoDHu+z///LPce++9cYviXV+7ds2EErVQ/ya+/fbbeM8T3sycOVMGDRpkir/77jsTwtRVF5s2bWrKPvjgA+nRo0fC1xz33bp1k4ULF7JCo0OECwQQQAABBBBAAAEEsocAgcbsMc+MEgEEEEAAAQQQQAABBBBAAAEEEEAAAQQQQCBpAQKNSbu4vDSrBRo3btwoq1evNg7PPvus6Fa8HAikJ9CoYcYvvvhCdNXPokWLmpUZCxYs6MA8ffq0CTOGhoaaVQn//PNP0W2X9fDx8ZGSJUuaVRv/+c9/ir+/v+O99F4kF2jUvunW0LoiYlLHb7/9JnXr1jWPdKvoMWPGJFXNUaYBybZt25r7SZMmSc+ePY2DbrOthwYiNRiZ3PHWW2/J+PHjCTQmB0Q5AggggAACCCCAAAJeKkCg0UsnlmEhgAACCCCAAAIIIIAAAggggAACCCCAAAIIOCVAoNEppoxXykqBxlu3bplteG/fvm0G/vrrr4uulseBQFoDjRpm1JUK9b1ixYqZMGOBAgUckGfPnpUPP/xQbt68aVYw1O2k9QgPD5fIyEjJlSuX+Pn5Oeq74iJuoPGzzz6TMmXKOIKFGmZcs2aNJPX3qn8XOgY9WrduLV999VWK3ZkzZ47069fP1FGDp556ShYvXixdu3Y1ZfptXXEyuaN3797y5Zdfphpo7NKli0yfPj1RM2pavHhxUz5//nyzBXaiShQggAACCCCAAAIIIICA7QQINNpuSugQAggggAACCCCAAAIIIIAAAggggAACCCCAgAcFCDR6CDupgJSHPp3oM4cPH5ZFixaZ0FbNmjXNNroa1IqJiZHjx4+bZzdu3DDv6Ra81ipziRqiINsJpCXQqL9Pus30rl27TBBQt1/Onz+/w0xXYZw8ebKEhITIo48+6rHfs7iBxjNnzpg+rVixQjp06GD6VqNGDVm5cqXEDV5ana5fv74cOnRIAgICZP/+/VKkSBHrUaKzBhj1W3rs27fPBBP1XW1Dj/bt2zu2dTcFcX5cuXJFqlevbmw0ZKnvJzzatWtnVpRs0qSJLFmyJOFj2bt3rzRu3NiUE2hMxEMBAggggAACCCCAAAK2FSDQaNupoWMIIIAAAggggAACCCCAAAIIIIAAAggggAACHhAg0OgBZP2EnQKNGzZskB9//DHVkRcqVEg0hJYzZ85U61Ihewg4G2jUMKOuLrh169Zkw4y6MqMGZx955BHRcJ6njqQCjfrtefPmSd++fU03GjVqZFZTzJMnT7xujRo1SsaOHWvKNLCoqywm9fcRty3drl2329ZDVz2tWrWqXLx40dzryoq6wmLcQ1en1H7oltR6JBdoHDhwoMyaNcvUCQ4OFv17tQ7119UfNaipB4FGS4YzAggggAACCCCAAAL2FyDQaP85oocIIIAAAggggAACCCCAAAIIIIAAAggggAAC7hMg0Og+23gt2ynQGBUVJcuWLZPdu3eLbgmc1PHggw+aoFlSYa2k6lOWPQScDTR+8803osHZokWLmlBs3NUOdWXGzAgzapjwxIkT8sMPP8ibb75pJsxaodGavdGjR8t7771nbnVb6SFDhpiVGjWEqEdYWJhZ9VBXWtSjYcOGou/oqo66PbYGC3VsGnS0DnWoXbu2dStLly6NF2LUYOQTTzxhgp9Hjx6VSZMmmVUgrRd0NUh9JygoSPLmzWsVm22mhw0bZu41gPn2229LqVKl5OTJkzJu3DizeqNV+Y033jDfqFy5slXEGQEEEEAAAQQQQAABBGwqQKDRphNDtxBAAAEEEEAAAQQQQAABBBBAAAEEEEAAAQQ8IkCg0SPM9lqhMe6Qr169KqdPn5bLly9L7ty5pXjx4uafXnMgkFDAmUCjbn/8008/SeHChWXw4MFSsGBBRzOZFWbUDgwdOlQ+/vhjR1/04uzZsxIYGGjKdFXDunXrioYKEx467goVKphi3bK9U6dOSdZL+N6nn35q6iYsf+mll0SfJXdoiFEP3Y7bOjp37iyffPKJdWue6Zbx1mqPjgf/f6FtxH1fiw8cOCBlypRJWJV7BBBAAAEEEEAAAQQQsJEAgUYbTQZdQQABBBBAAAEEEEAAAQQQQAABBBBAAAEEEPC4AIFGD5HbaYVGDw2Zz3ihQGqBxu3bt8vcuXPN9se6XXmRIkUcCroa4tSpU03IztPbTGsndHtm3abZOurVqyfr1q2zbkUDjQ899JDs3bvXUaYXuurhpk2b4o1Ft4WeMmWKjB8/PlFoUN/p0KGDvPPOO1KyZEm9TfJYvHixaLAxYSDx0UcflcmTJxsr9bKOESNGyCuvvGLdmrOuFKlj0q294x59+vSR4cOHS4MGDRztJzWOuO9wjQACCCCAAAIIIIAAAvYQINBoj3mgFwgggAACCCCAAAIIIIAAAggggAACCCCAAAKZI0Cg0UPuBBo9BM1n3CqQWqBRt2v+448/5NVXXzVBQKszp06dkmnTpsnNmzeladOm0qZNG+tRlj9fuHBBjh07JqGhoVKxYkWzAmJatmrXoKcGEzX8Wa1aNbNSalpRdIVVbUe3va5UqZL4+vqmtQnqI4AAAggggAACCCCAgE0ECDTaZCLoBgIIIIAAAggggAACCCCAAAIIIIAAAggggECmCBBo9BA7gUYPQfMZtwqkFmjUIGNUVJSMGzdOcuTIYfpy/PhxmT59uoSFhUnz5s2ldevWbu0jjSOAAAIIIIAAAggggAACWVmAQGNWnj36jgACCCCAAAIIIIAAAggggAACCCCAAAIIIJBRAQKNGRV08n0CjU5CUc3WAqkFGnWL5MOHD5sVGHVb6X379sns2bMlIiJCHnvsMWnWrJmtx0fnEEAAAQQQQAABBBBAAIHMFiDQmNkzwPcRQAABBBBAAAEEEEAAAQQQQAABBBBAAAEEMlOAQKOH9Ak0egiaz7hVILVAY3BwsEycONGs0qgrNEZHR5v+PPHEE/KPf/zDrX2jcQQQQAABBBBAAAEEEEDAGwQINHrDLDIGBBBAAAEEEEAAAQQQQAABBBBAAAEEEEAAgfQKEGhMr1wa3yPQmEYwqttSILVAo3ZaQ41Lly6VM2fOSOHChaVVq1YSFBRky/HQKQQQQAABBBBAAAEEEEDAbgIEGu02I/QHAQQQQAABBBBAAAEEEEAAAQQQQAABBBBAwJMCBBo9pE2g0UPQfMatAs4EGt3aARpHAAEEEEAAAQQQQAABBLxcgECjl08ww0MAAQQQQAABBBBAAAEEEEAAAQQQQAABBBBIUYBAY4o8rntIoNF1lrSUeQIEGjPPni8jgAACCCCAAAIIIIBA9hAg0Jg95plRIoAAAggggAACCCCAAAIIIIAAAggggAACCCQtQKAxaReXlxJodDkpDWaCAIHGTEDnkwgggAACCCCAAAIIIJCtBAg0ZqvpZrAIIIAAAggggAACCCCAAAIIIIAAAggggAACCQQINCYAcdctgUZ3ydKuJwUINHpSm28hgAACCCCAAAIIIIBAdhQg0JgdZ50xI4AAAggggAACCCCAAAIIIIAAAggggAACCFgCBBotCTefCTS6GZjmPSJAoNEjzHwEAQQQQAABBBBAAAEEsrEAgcZsPPkMHQEEEEAAAQQQQAABBBBAAAEEEEAAAQQQQEAINHrol4BAo4eg+YxbBQg0upWXxhFAAAEEEEAAAQQQQAABIdDILwECCCCAAAIIIIAAAggggAACCCCAAAIIIIBAdhYg0Oih2SfQ6CFoPuNWAQKNbuWlcQQQQAABBBBAAAEEEECAQCO/AwgggAACCCCAAAIIIIAAAggggAACCCCAAALZWoBAo4emn0Cjh6D5jFsFCDS6lZfGEUAAAQQQQAABBBBAAAECjfwOIIAAAggggAACCCCAAAIIIIAAAggggAACCGRrAQKNHpp+Ao0eguYzbhUg0OhWXhpHAAEEEEAAAQQQQAABBAg08juAAAIIIIAAAggggAACCCCAAAIIIIAAAgggkK0FCDR6aPoJNHoIms+4VYBAo1t5aRwBBBBAAAEEEEAAAQQQINDI7wACCCCAAAIIIIAAAggggAACCCCAAAIIIIBAthYg0Oih6SfQ6CFoPuNWAVcGGq9duikLp26Rvet/N32uUq+UPD34QSlaKr9bx0DjCCCAAAIIIIAAAggggICdBf73v/+Z7tWqVcvO3aRvCCCAAAIIIIAAAggggAACCCCAAAIIIIAAAgi4RYBAo1tYEzdKoDGxCSVZT8AVgcaoyGhZ+82vsmLmTgm/FSn++fwMRNjN2+Lrl1Oadq4tzbrWFb/cObMeED1GAAEEEEAAAQQQQAABBDIoQKAxg4C8jgACCCCAAAIIIIAAAggggAACCCCAAAIIIJClBQg0emj6CDR6CJrPuFUgo4HGgztOyzeTNsr54Kvi4yNyX4sq0q5vQ9PnJdO3yraVhyUmRqRIiUB5+sUH5Z4Hyrl1PDSOAAIIIIAAAggggAACCNhNgECj3WaE/iCAAAIIIIAAAggggAACCCCAAAIIIIAAAgh4UoBAo4e07R5ovH37tuzZs0dOnTpl/l25csXIFClSRAYOHCg5cuTwkBSfsbNAegONl8/fkO8+1O2lj5vhlbn7DukwpLFUqHFnvOEe339eFkzcIKeOXDLlNRqVkw6xwcYiJQPj1eMGAQQQQAABBBBAAAEEEPBWAQKN3jqzjAsBBBBAAAEEEEAAAQQQQAABBBBAAAEEEEDAGQECjc4ouaCOnQON58+fl9mzZ8uNGzcSjTRv3rwybNgwyZmT7X8T4WTDgrQGGiNvR8mar36RlXN2S0RYpOQNzC1tezeQB9tWF58csUs0JnHERMfIxqUHZOkn2yX0Rrjkyu0rzbrUlqax/3L5+SbxBkUIIIAAAggggAACCCCAgPcIEGj0nrlkJAgggAACCCCAAAIIIIAAAggggAACCCCAAAJpFyDQmHazdL1h10Dj3r17ZeHChY4xFS9eXBo0aCAlSpSQgIAAKVCggOMZFwikJdD4v63BZnvpi2eum/Bio9ZVpW2f+ySggL9TkCHXwmTpx9tk87JDoiFHXaWx4+DGEnR/WafepxICCCCAAAIIIIAAAgggkBUFCDRmxVmjzwgggAACCCCAAAIIIIAAAggggAACCCCAAAKuEiDQ6CrJVNqxY6BRt5WeOHGio+cdO3aUoKAgxz0XCCQUcDbQeGjnaflwyA/m9fLVi5kgYtlqRRM259R98MGL8vWkDXLiwAVT/4WxLUW3ouZwjcC1a9ekS5cuotvLz5w5k+3lXcNKKwgggAACCCCAAAIIpFuAQGO66XgRAQQQQAABBBBAAAEEEEAAAQQQQAABBBBAwAsECDR6aBLtGGicN2+eHD582AhooKlKlSoe0uAzWVXA2UDjmJ7fyqkjl+SOkvll8IdtpVCxgAwN+cr5EJk0aKlcOntdCt8ZKCO/7hy7DXqODLXJy38JbNiwQVq1amVujh49Knb8bxVzhQACCCCAAAIIIIBAdhIg0JidZpuxIoAAAggggAACCCCAAAIIIIAAAggggAACCCQUINCYUMRN93YLCZ09e1amT59uRlu+fHnp0aOHm0ZOs94k4Gyg8aXmMyQ8NMIMPZe/rzzSoaY061JHcufNlSYObWP1vD3y04JfJSIs0vHu+6t6prktx8tcxBNYt26dtGnTxpQdOHBAypQpE+85NwgggAACCCCAAAIIIOBZAQKNnvXmawgggAACCCCAAAIIIIAAAggggAACCCCAAAL2EiDQ6KH5sFugcfHixbJ7924z+r59+0rJkiXl+vXrEhUVJYUKFfKQCp/JagJpCTRqADGoYVnZt/mkGWZgoTzSqvu98kDbaqmurhgVFS2blh6U5TN3yo0rt8z7us30ga3BEh0dI64KNN6+fVuOHTsmuu1yqVKlpESJEuLr62u+d+vWLcmTJ0+qUxQeHi4nTpwQrV+hQgXJnz9/qu+4q0JYWJhoKNHPz08qVqzoVP8JNLprNmgXAQQQQAABBBBAAIH0CRBoTJ8bbyGAAAIIIIAAAggggAACCCCAAAIIIIAAAgh4hwCBRg/No90CjZ9++qmcOnVKcuTIIa1bt5affvpJQkNDjYaW1a9fX1q2bGmee4iIz2QBgbQEGqMiouWDtb3k6C9/yKJpW+TEgQtmhHeWLSjt+jaUWo3LJzniXzackCXTt8r54KvmeblqxaR9v4ZSuXZJebHJpxIZEZXhQOOmTZvk9ddfl127dsXrQ0BAgDz33HNy4cIFWbBggYwePVoGDhwYr47eaPB37ty5MmnSJNFtmuMeRYsWlY4dO8rw4cOlQIECcR/JF198YcpDQkJM+dixY6Vfv36OOoMHD5YZM2Y47rU/mzdvlrvuustRpuHLFi1ayP79+01ZpUqVZMWKFfLqq6/KwoULHfX04rXXXpOhQ4eagGPcB9p//fvXEOaWLVvkxRdfNI+/++47KV26dNyq5r8BGtTUkCQHAggggAACCCCAAAIIuF+AQKP7jfkCAggggAACCCCAAAIIIIAAAggggAACCCCAgH0FCDR6aG7sFmgcM2aMI8CYHEHhwoVlwIABjhXrkqtHefYRSE+g0dLZu/53WfrJNkdQsVKtErFBxfulfPVipooGHjX4qAFIPYqUCJS2fe6Tek0qiY+PKcpwoFGDfMOGDRMN9DpzPPHEEyaEGLfuyZMnpVu3bonCkHHr6LWGETXA2KxZM8ejESNGmBCkVdC1a1eZNm2adSt16tRJFJDUYKWGi60jODhYgoKCrFtz1m9ZIcl4D2JvNCT5zjvvxCt+6aWXnDbQF9u3by+zZ8+O1wY3CCCAAAIIIIAAAggg4B4BAo3ucaVVBBBAAAEEEEAAAQQQQAABBBBAAAEEEEAAgawhQKDRQ/Nkp0BjdHS0jBw5Mt7I69atK7Vr1zahqGXLlsnNmzfN80aNGpnV4OJV5ibbCmQk0KhoupX0lh8OybLPd8r1y3+tCFq3SUXjuXvtMXPOl99fWnSrKw+1DxLfXDlNmfUjoys0Tp482azMaLXXs2dPefTRR0VXVdyzZ49ZlXHHjh3WYxMk1EChdegW1RpQtFZ2rFq1qowbN8787fj7+5swoq7aGPcdNdMVDvXQvyu979+/v6n7zDPPyEcffWQ1b7au/u2330S/06lTJ1M+f/58adOmjaOOXui20vqNCRMmOMobNmxoVn/UFRZ1O3kNLVohx8OHD5tt5a3K7733nll90rpP7dy9e3dROw4EEEAAAQQQQAABBBBwvwCBRvcb8wUEEEAAAQQQQAABBBBAAAEEEEAAAQQQQAAB+woQaPTQ3Ngp0Hjjxg35z3/+4xi5BqFatWrluNdtaPV5ZGSkKfv3v//NKo0Onex9kdFAo6V3OyxS1n79q6yev0fCQyNMca7cvvLwk/dIy2friH++pLc3zkigUUN99957r9UFWbt2rdla3VEQexEWFiadO3eWNWvWmGJdGTFuOFG3iB41apR51rx5c9GwYVJbMU+fPt2sBKkVdft2/VbcQ9/VraQTBhqtOvo3WKzYXytXJhVo1HpLly6VLl26mFc0lPntt99Kzpx/B0A/+OADeeONN8xz3Uo67kqRWqjhypiYGFm/fr0jPLl161YpV66cecf6oW3myZPHuuWMAAIIIIAAAggggAACbhYg0OhmYJpHAAEEEEAAAQQQQAABBBBAAAEEEEAAAQQQsLUAgUYPTY+dAo0aYnrzzTcdI3/ttdcSBZZWrlxpAldaqW/fvvFWd3O8yEW2E3BVoNGCC7l6S15/cq5E3o6SEXM7SvFyhaxHSZ4zEmicOHGiaDhXDw379ejRI8lvaJhQw3979+6VDh06yIwZMxz17r//ftm/f7+5P3LkiJQoUcLxLO6F/o3pqooaFtTj4MGDoisnWoerA40bNmwwq0Ra7etZV3G87777TJGO/fnnn4/72HG9bt06xwqQ+k6ZMmUcz7hAAAEEEEAAAQQQQAABzwsQaPS8OV9EAAEEEEAAAQQQQAABBBBAAAEEEEAAAQQQsI8AgUYPzYWdAo065NGjR5vV6PT67bff1lO8Q7esXbx4sSl76qmnpGbNmvGec5M9BVwdaFTFwU0/k4jYFRv/s7y75A3MnSJsRgKNum2yrmKox5kzZyR//vzJfuuPP/6Q77//3mxHbW0Xfe3aNUcoUQOJVlvJNTJz5kwZNGiQeZxwhURXBxrPnz8vefPmTdQVDVzqttO6smS/fv0SPdcCAo1JslCIAAIIIIAAAggggECmCRBozDR6PowAAggggAACCCCAAAIIIIAAAggggAACCCBgAwECjR6aBLsFGj/66CPR0JYeui1twm1zN23aJKtWrTLPNQh21113mWt+ZG+BrBxotFZXDAgIcPzup2U2f/vtN6lbt655pX///jJmzJgUX//555+lbdu2ps6kSZOkZ8+ejvquDjRevHhR/P39He1bFwQaLQnOCCCAAAIIIIAAAghkHQECjVlnrugpAggggAACCCCAAAIIIIAAAggggAACCCCAgOsFCDS63jTJFu0WaNy1a5csWbLE9FXDVQ888EC8fk+ZMkUuXLhgyoYPH57k6m/xXuAmWwhk5UDjs88+K4sWLTLzdO7cOcmXL1+a5ky3oi5WrJh5p3Xr1vLVV1+l+P6cOXMcqyLqao260ql1WIHGLl26yPTp061ix/nmzZtSvHhxcz9//nzHltCOCrEXS5cuFX1fD1cFGnV+rRUpTcP8QAABBBBAAAEEEEAAAY8LEGj0ODkfRAABBBBAAAEEEEAAAQQQQAABBBBAAAEEELCRAIFGD02G3QKN0dHRZoW5sLAwyZEjhzzxxBNyzz33SFRUlCxbtkw08KhHmTJlpFevXh5S4jN2F8jKgcYJEybIyJEjDXHCgGFS7vv37zcrk8YNPtavX18OHTokusqjPi9SpEhSr5oyDTBaq5zu27dPypcv76jbrl07Wbt2rTRp0sQRLHY8jL3Yu3evNG7c2BS5O9C4efNm0YClHrr9dL169cw1PxBAAAEEEEAAAQQQQCBzBAg0Zo47X0UAAQQQQAABBBBAAAEEEEAAAQQQQAABBBCwhwCBRg/Ng90CjTrsI0eOyNy5c1MUGDx4sBQuXDjFOjzMPgLOBhqHtZop4bciZMLKHpIrt2+KQIObfiYRYZHyn+XdJW9g7mTrRoRHysstPpfoqGiZ+OPzqbabsCENFTZq1MgUayBx+/btJrCbsN7x48dlyJAhJnCoQd8vvvjCUWXUqFEyduxYc6+Bxc8++0xy5szpeG5dzJs3T/r27WtuK1WqJHv27LEemfPAgQNl1qxZ5jo4OFgKFSrkeB4TEyMdO3aUFStWmDJ3BxrjukydOlV0JcuEx4EDB0SDjxrAZAXHhDrcI4AAAggggAACCCDgWgECja71pDUEEEAAAQQQQAABBBBAAAEEEEAAAQQQQACBrCVAoNFD82XHQKMO/ezZs/L555/L7du340nkz59funbtKnbtd7zOcuMxAWcDjUumb5PV8/ZIoWIB0r5fQ6n3SKVk++hMoHHPuuPy3ZTNcuV8iDRuV106DX0o2fZSejBmzBh59913HVV01Ubdbl1Du2fOnJGvv/463hbQGmx8++23HfV1RVNdOVFXadSjYcOGMnr0aKlRo4bkypVLNJz44YcfmqCj9dKGDRukdu3a1q056zbTw4YNM9castRvlCpVSk6ePCnjxo0zYUrrhTfeeMOsoFq5cmWrSHTL7NmzZ8s777xjylavXm36EBgYaO51e+zDhw87VnnUVVZ79OghQUFB4uPj42hHL+Jub619+PTTT01oUce4ZcsWs8qkrhipR/v27c13zQ0/EEAAAQQQQAABBBBAwC0CBBrdwkqjCCCAAAIIIIAAAggggAACCCCAAAIIIIAAAllEgECjhybK7sHAixcvmjCVrg5XunRpE2TUrag5EIgr4GygMSw0Qj56Zbkc/eUP83rl2iWlw+AHpWTFxKt9phRoPHfyiiyYuFEO7zpj2qlUq4S8MLal+Ofzi9stp68jIiKkX79+8tVXX6X6znPPPWfChXny5IlXV4OCnTp1kqNHj8YrT+pGw4FaN+EREhIiNWvWFP27S+rQFSS1TtxDV0nULeB///13827cZ3qtW0XrltF66Dd16/iEx9KlS+Wf//xnwmL5+OOPZejQoYnKExboqpJPPvlkwmLuEUAAAQQQQAABBBBAwIUCBBpdiElTCCCAAAIIIIAAAggggAACCCCAAAIIIIAAAllOgECjh6bM7oFGDzHwmSwu4Gyg0Rrmjh9/k0XTtsq1SzclRw4fadw+SB7rWT/e1tJJBRrDYwORy2ftkp+/+VWiIqMlf+G8ZqXHBs3vtprO0HnVqlUyfPjwJEOJbdq0EV3RMKngn/XR8PBwmTJliowfPz5R8FDrdOjQwayeWLJkSeuVRGddAVG3nt66dWu8Z3369DF9a9CggSPwqCsnbtq0SYoUKSI3btyQ+vXrmxUl477YpUsXx+qS//73v2XixIlxH5sVIL/88kupU6dOvHLrRrfJ1vEkDGrqKpS6MuPjjz8uKY3HaoczAggggAACCCCAAAIIZEyAQGPG/HgbAQQQQAABBBBAAAEEEEAAAQQQQAABBBBAIGsLEGj00PwRaPQQNJ9xq0BaA43amYThxIAC/tK2933S6LGq4hMbckwYaNyxWkOQW+Tan6EmBPnwk/fIY8/XF/+8uVw+tuvXr5utma9cuWLCemXLlhXdbj0tx4ULF+TYsWMSGhoqFStWNKso5syZ0+kmLl++bMKJumV1pUqVxNfX1+l33VFRt6DWUKOuEqkBxoQrVLrjm7SJAAIIIIAAAggggAACfwsQaPzbgisEEEAAAQQQQAABBBBAAAEEEEAAAQQQQACB7CdAoNFDc06g0UPQfMatAukJNFod0u2jv5m0SQ7tPG2KylYpKk/HbkM9ecj3EhEWKYM/bCs/fLbDsU11hXuKS6eXG0upikWsJjgjgAACCCCAAAIIIIAAAl4vQKDR66eYASKAAAIIIIAAAggggAACCCCAAAIIIIAAAgikIECgMQUcVz4i0OhKTdrKLIGMBBqtPu9Zd1y+m7JZrpwPER8fkZiYv55Y14GF8kj7F+6XBi3uNs+t9zgjgAACCCCAAAIIIIAAAtlBgEBjdphlxogAAggggAACCCCAAAIIIIAAAggggAACCCCQnACBxuRkXFxOoNHFoDSXKQKuCDRqxyPCI2XFF7vlp69+kciIKDOWHLHbTzduHyRtnm8geQL8MmV8fBQBBBBAAAEEEEAAAQQQyGwBAo2ZPQN8HwEEEEAAAQQQQAABBBBAAAEEEEAAAQQQQCAzBQg0ekifQKOHoPmMWwVcFWi0Onnx9DXZt/mkub27TkkpXfkO6xFnBBBAAAEEEEAAAQQQQCBbChBozJbTzqARQAABBBBAAAEEEEAAAQQQQAABBBBAAAEE/l+AQKOHfhUINHoIms+4VcDVgUa3dpbGEUAAAQQQQAABBBBAAIEsKECgMQtOGl1GAAEEEEAAAQQQQAABBBBAAAEEEEAAAQQQcJkAgUaXUabcEIHGlH14mjUECDRmjXmilwgggAACCCCAAAIIIJB1BQg0Zt25o+cIIIAAAggggAACCCCAAAIIIIAAAggggAACGRcg0JhxQ6daINDoFBOVbC5AoNHmE0T3EEAAAQQQQAABBBBAIMsLEGjM8lPIABBAAAEEEEAAAQQQQAABBBBAAAEEEEAAAQQyIECgMQN4aXmVQGNatKhrVwECjXadGfqFAAIIIIAAAggggAAC3iJAoNFbZpJxIIAAAggggAACCCCAAAIIIIAAAggggAACCKRHgEBjetTS8Q6BxnSg8YrtBAg02m5K6BACCCCAAAIIIIAAAgh4mQCBRi+bUIaDAAIIIIAAAggggAACCCCAAAIIIIAAAgggkCYBAo1p4kp/ZQKN6bfjTfsIEGi0z1zQEwQQQAABBBBAAAEEEPBOAQKN3jmvjAoBBBBAAAEEEEAAAQQQQAABBBBAAAEEEEDAOQECjc45ZbgWgcYME9KADQQINNpgEugCAggggAACCCCAAAIIeLUAgUavnl4GhwACCCCAAAIIIIAAAggggAACCCCAAAIIIJCKAIHGVIBc9ZhAo6skaSczBQg0ZqY+30YAAQQQQAABBBBAAIHsIECgMTvMMmNEAAEEEEAAAQQQQAABBBBAAAEEEEAAAQQQSE6AQGNyMi4uJ9DoYlCayxQBAo2Zws5HEUAAAQQQQAABBBBAIBsJEGjMRpPNUBFAAAEEEEAAAQQQQAABBBBAAAEEEEAAAQQSCRBoTETingICje5xpVXPChBo9Kw3X0MAAQQQQAABBBBAAIHsJ0CgMfvNOSNGAAEEEEAAAQQQQAABBBBAAAEEEEAAAQQQ+FuAQOPfFm69ItDoVl4a95CAKwON1y7dlIVTt8je9b+b3lepV0qeHvygFC2V30Oj4TMIIIAAAggggAACCCCAgP0ECDTab07oEQIIIIAAAggggAACCCCAAAIIIIAAAggggIDnBAg0esiaQKOHoPmMWwVcEWiMioyWtd/8Kitm7pTwW5Hin8/P9Dns5m3x9cspTTvXlmZd64pf7pxuHQuNI4AAAggggAACCCCAAAJ2FCDQaMdZoU8IIIAAAggggAACCCCAAAIIIIAAAggggAACnhIg0OghaQKNHoLmM24VyGig8eCO0/LNpI1yPviq+PiI3NeiirTr29D0ecn0rbJt5WGJiREpUiJQnn7xQbnngXJuHQ+NI4AAAggggAACCCCAAAJ2EyDQaLcZoT8IIIAAAggggAACCCCAAAIIIIAAAggggAACnhQg0OghbbsFGn/99Vc5evRoqqP39/eXli1bxobPYtNnHNleIL2Bxsvnb8h3H+r20seNYZm775AOQxpLhRp3xjM9vv+8LJi4QU4duWTKazQqJx1ig41FSgbGq+fqm/Pnz0uBAgVEf985EEAAAQQQQAABBBBAAIHMFCDQmJn6fBsBBBBAAAEEEEAAAQQQQAABBBBAAAEEEEAgswUINHpoBuwWaBw5cqRER0c7NfrBgwdL4cKFnapLJe8WSGugMfJ2lKz56hdZOWe3RIRFSt7A3NK2dwN5sG118cmRdEg2JjpGNi49IEs/2S6hN8IlV25fadaltjSN/ZfLz9flwO3atZO1a9dKqVKlRP/HYc6cmbvV9eXLlyU4ONgxTv1vR4kSJRz3XCCAAAIIIIAAAggggIB3CxBo9O75ZXQIIIAAAggggAACCCCAAAIIIIAAAggggAACKQsQaEzZx2VP7RRoDA8Pl3fffdeMLX/+/EkGuG7cuCGRkZGmzhtvvCF+fn4us6ChrCuQlkDj/7YGm+2lL565bsKLjVpXlbZ97pOAAs6tghhyLUyWfrxNNi87JBpy1FUaOw5uLEH3l3UpYGDg36s/apCwUKFCLm0/LY3dvHlTihcvHu+VSpUqyZ49e+KVcYMAAggggAACCCCAAALeK0Cg0XvnlpEhgAACCCCAAAIIIIAAAggggAACCCCAAAIIpC5AoDF1I5fUsFOgUVdmHD16tOTIkUOGDx9uzgkH+d1334mG18qUKSO9evVK+Jj7bCrgbKDx0M7T8uGQH4xS+erFTBCxbLWi6VILPnhRvp60QU4cuGDef2FsS9GtqF1xxMTEiIZ6reP06dNm62nr3tPniIgIqVu3rpw4ccLx6fLly8u+ffsc91wggAACCCCAAAIIIICAdwsQaPTu+WV0CCCAAAIIIIAAAggggAACCCCAAAIIIIAAAikLEGhM2cdlT+0UaNRBaZBLDx+fxNv+RkVFyTvvvGO2pG7Tpo3Ur1/f1OUHAs4GGsf0/FZOHbkkd5TML4M/bCuFigVkCO/K+RCZNGipXDp7XQrfGSgjv+4cu7Jojgy1ab08ZswY2bZtm9SrV090NdLMPvRvMzQ0VN5//30ZN26cEGjM7Bnh+wgggAACCCCAAAIIeFaAQKNnvfkaAggggAACCCCAAAIIIIAAAggggAACCCCAgL0ECDR6aD7sFmhMadi6Gtw333xjqrz22muSJ0+elKrzLBsJOBtofKn5DAkPjTAyufx95ZEONaVZlzqSO2+uNGlpG6vn7ZGfFvwqEWF/bYGuDby/qmea20rTh21QecKECTJy5EgCjTaYC7qAAAIIIIAAAggggIAnBQg0elKbbyGAAAIIIIAAAggggAACCCCAAAIIIIAAAgjYTYBAo4dmJCsFGj///HOz5W3p0qWld+/eHhLiM1lBIC2BRg0gBjUsK/s2nzRDCyyUR1p1v1ceaFst1dUVo6KiZdPSg7J85k65ceWWeV+3mT6wNTh25dAY2wUadVXTo0ePyvXr16Vy5cpSsGDBDE9nWgONly9flmPHjon2pWLFilK0aPq2+M5wx2kAAQQQQAABBBBAAAEEMiRAoDFDfLyMAAIIIIAAAggggAACCCCAAAIIIIAAAgggkMUFCDR6aAKzSqDx5s2bMnbsWKPy2GOPSYMGDTwkxGeygkBaAo1REdHywdpecvSXP2TRtC1y4sAFM8Q7yxaUdn0bSq3G5ZMc8i8bTsiS6VvlfPBV87xctWLSvl9DqVy7pLzY5FOJjIjKUKBR/+fgk08+KWfOnIn3/Q4dOsiMGTPilSW8eeaZZ+Snn36SkJAQCQgIkJUrV8ry5ctl8uTJpsyqr1u1f/DBBymGCiMiImTmzJmyceNG2b59u1y7ds38vdWpU0deeOEFmTt3bqorNN66dUsmTZqU6PvaD+2fbqGtoeRcueKvjLlhwwZ56aWX5NChQ1aXTX3dfrtbt26i7bZt21a2bt3qeK4XOq758+fHK+MGAQQQQAABBBBAAAEEXCtAoNG1nrSGAAIIIIAAAggggAACCCCAAAIIIIAAAgggkLUECDR6aL6ySqBRw1WrV682KsOHD5e8efN6SIjPZAWB9AQarXHtXf+7LP1kmyOoWKlWidig4v1SvnoxU0UDjxp81ACkHkVKBErbPvdJvSaVxMfHFLkk0Pjzzz+bsN5fLf79s0aNGrJly5a/C5K4qlq1aqIgZBLVTFHt2rVl3bp1satR5kxU5eDBgyZouHfv3kTPtEBXV9RvafCwfPnyotvAJzz03a5du5rVVBM+i3uv7Xz//fdSvHhxR7GGEvv06eO4ty40sPnRRx+ZMep7CQ8NSZ49ezZ2Pv5/QhJW4B4BBBBAAAEEEEAAAQQyLECgMcOENIAAAggggAACCCCAAAIIIIAAAggggAACCCCQhQUINHpo8rJKoHHixIly5coVKVWqVJKBJw9x8RmbCmQk0KhD0q2kt/xwSJZ9vlOuXw41o6zbpKI57157zJzz5feXFt3qykPtg8Q3V/wwoCtWaIyJiZE9e/bIn3/+ab6nqzIuW7ZMnAk06qqOumrhc889Z97VHxo+HD16tGiAUZ9rENha+XDOnDny+OOPO+rqxdWrV6Vu3bpy8eJFU67BQa2jgUPdtnrWrFnxVntMKtB448YNqV+/viNc2blzZ3n55ZfNdtc6vgMHDpjVGdeuXWu+0aRJE1m4cKEjXKmrQ+7cuVM+++wzWbBggamjf/O7du2SfPnymftNmzZJixYtHM+mTp0qtWrVkjvuuMOU8QMBBBBAAAEEEEAAAQTcI0Cg0T2utIoAAggggAACCCCAAAIIIIAAAggggAACCCCQNQQINHponrJCoPH8+fOioSU9WrVqJQ0bNvSQDp/JKgIZDTRa47wdFilrv/5VVs/fI+GhEaY4V25fefjJe6Tls3XEP5+fVTXe2RWBxngNxt6MGDHCbNvsTKBR371w4YJUrPhXCFPDjNu2bYu3tbQGBf/5z3+azwwZMkTefvttc239sLaT1vv+/fub535+f4/33LlzZuVFa7vnpAKNQ4cOlY8//tg0+eqrr5rwotW+dY6MjDRByfXr15ui6dOnS5cuXazH5qx1Bg0aJBq81EO33dZ2dUtt3V5aV4HUMeqqluXKlTN1+IEAAggggAACCCCAAALuFSDQ6F5fWkcAAQQQQAABBBBAAAEEEEAAAQQQQAABBBCwtwCBRg/NT1YINC5fvtysPqckGpKyVmrzEBGfyQICrgo0WkMNuXpLXn9yrkTejpIRcztK8XKFrEdJnu0WaBw7dqz069cvXl+joqKkdOnSJhTYvn17mT17tuO5rn5atmxZc68BSt1S2tfX1/HcuggODpagoCBzm1SgsUKFCmaFR11VUf9nZ1LbWuvLGkhs3LixaUe3p542bZq5jvsjOjrarO6oqzXq0bp1a9FQpa7WqGHGVatWmZUf477DNQIIIIAAAggggAACCLhPgECj+2xpGQEEEEAAAQQQQAABBBBAAAEEEEAAAQQQQMD+AgQaPTRHdg806ja17777rty+fVtKlCghuoocBwIJBVwdaNT2Bzf9TCJiV2z8z/Lukjcwd8JPxru3W6Bx8eLF8sgjj8Tro94888wzsmTJEhMO/OqrrxzPddXFpk2bmvsPPvhAevTo4XiW8KJbt25mm+iEgUbd1lq3qbYODUamdOzfv9881nd27NiRZFX9+3/ttdccK7RqpYCAAPnpp5+kevXqSb5DIQIIIIAAAggggAACCLhHgECje1xpFQEEEEAAAQQQQAABBBBAAAEEEEAAAQQQQCBrCBBo9NA82T3Q+Ntvvzm2nW3ZsqXcf//9HpLhM1lJgEBj/C2nf/jhB3n44YcTTWHPnj1lwYIFiQKNX3zxhQwYMMDU//bbb6V58+aJ3rUK3nrrLRk/frwkDDTGDUVadZ0560qNugprcsfNmzelUqVKZmVJraPjWrRokeTKlSu5VyhHAAEEEEAAAQQQQAABNwgQaHQDKk0igAACCCCAAAIIIIAAAggggAACCCCAAAIIZBkBAo0emiq7Bxrnz58vhw4dMhqvvPKKWZ3NQzR8JgsJEGjMWKBRV3TUrZ/10C2eO3bsmOzs9+7dW7788stEgca421E3a9ZMBg0alGwb+sDHx0fy5MkjVapUkfz58ydZ99atW9KpUydZu3ZtvOe6Zbb208/PL145NwgggAACCCCAAAIIIOA+AQKN7rOlZQQQQAABBBBAAAEEEEAAAQQQQAABBBBAAAH7CxBo9NAc2TnQqNtMjxo1ykgUL15c+vXr5yEVPpPVBAg0ZizQqKHh+vXrm2nXsODs2bOT/BW4cuWK2eo5JCQkUaAxOjpaChQoYN7TthKGEJNsMIXCsLAw6dKli6xevdrUWrNmjaxcudKsDqkFrVu3Fl1ZMnfulLcDT+ETPEIAAQQQQAABBBBAAIE0CBBoTAMWVRFAAAEEEEAAAQQQQAABBBBAAAEEEEAAAQS8ToBAo4em1M6Bxp07d8rSpUuNRIsWLaRRRemyGQAAL9JJREFUo0YeUuEzWU3A2UDjsFYzJfxWhExY2UNy5fZNcZiDm34mEWGR8p/l3SVvYPKhuYjwSHm5xecSHRUtE398PtV2U/xonIcjRoyQSZMmSY0aNWTLli1xniR9eeHCBalYsaJ5mNYtpzU8XLVqVbl48aJ5f/r06SZMGPdL4eHh0rdvX9EtqfUoX7687Nu3L24Vs5rismXLTNnHH38s//rXv+I9t240/Lh+/XrzT7ecfuSRR6xH5qz9eeaZZ2TFihXmXleQtOqMGTNG3n33XVOuW2PPmTPHrPQYrwFuEEAAAQQQQAABBBBAwOUCBBpdTkqDCCCAAAIIIIAAAggggAACCCCAAAIIIIAAAllIgECjhybLzoHGuNtNDxs2TAIDAz2kwmeymoCzgcYl07fJ6nl7pFCxAGnfr6HUe6RSskN1JtC4Z91x+W7KZrlyPkQat6sunYY+lGx7KT3QFQ8PHjwoGvSzjmnTpsnChQulVKlSZiVCq1zPuhKiBhCt4/r167Jt2zZ54oknTNF7770njz32mAkdakFkZKQcPXpUXnrpJdmwYYPUq1dPJkyYYMKS1gqHGh7WFRGt46mnnjLtFStWzLyr4Upr+3etExAQYALHQUFBkjdvXvPaqVOnzAqOVhsDBgyQXr16SZkyZUzR77//Lhq2nDlzppw4ccKUNWzYUH788UdzHRERIUeOHDGBxe+//96Uvf7666LbzefIkcPc6zbUGpTUFRv1ePTRR2XixImOsZpCfiCAAAIIIIAAAggggIDLBQg0upyUBhFAAAEEEEAAAQQQQAABBBBAAAEEEEAAAQSykACBRg9Nlp0DjRrS+vPPP8Xf319KlCjhIRE+kxUFnA00hoVGyEevLJejv/xhhlm5dknpMPhBKVmxcKJhpxRoPHfyiiyYuFEO7zpj3qtUq4S8MLal+OfzS9SOMwW6SuHevXudqeqos3v3bqlcubK5r1ChgmN1RUeF2AsNGBYsWNAECAcNGhT3kbl+9dVX5Y033nCUa+Dx008/ddwnvNAQox4awLSOzp07yyeffGLdiq6m2LVrV8d9Shfanm5v3bRpU1NNV4CcN29eold0tUoNNeqRnJWu6FqlSpVE71KAAAIIIIAAAggggAACrhEg0OgaR1pBAAEEEEAAAQQQQAABBBBAAAEEEEAAAQQQyJoCBBo9NG92DjR6iIDPeIGAs4FGa6g7fvxNFk3bKtcu3Yxd+c9HGrcPksd61o+3tXRSgcbw2EDk8lm75OdvfpWoyGjJXzivWemxQfO7rabTdR44cKDMmjXL6XeLFi0qGzdulJIlS5p3dMVCa0VDq5FKlSqZ1Rg1NKjbQHfq1Ml6ZM5arts3d+vWLV65BhI12GhtP2091JUQJ0+eLFOnTjX/rPK4YUOrTIOUr732mixZssQqinfWraI1CNmyZUvH6o5aQVeWHD16dLy62k8tf+6550x5UlY6Vu13uXLl4r3LDQIIIIAAAggggAACCLhOgECj6yxpCQEEEEAAAQQQQAABBBBAAAEEEEAAAQQQQCDrCRBo9NCcEWj0EDSfcatAWgON2pmE4cSAAv7Stvd90uixquITG3JMGGjcsVpDkFvk2p+hJgT58JP3yGPP1xf/vLncOrbMavzMmTNmi+kiRYpItWrVxNqaOi390S2kg4OD5dixY5IvXz4pXbq0WW3Vzy99K1mm5dvURQABBBBAAAEEEEAAAdcKEGh0rSetIYAAAggggAACCCCAAAIIIIAAAggggAACCGQtAQKNHpovAo0eguYzbhVIT6DR6pBuH/3NpE1yaOdpU1S2SlF5OnYb6slDvpeIsEgZ/GFb+eGzHY5tqivcU1w6vdxYSlUsYjXBGQEEEEAAAQQQQAABBBDwegECjV4/xQwQAQQQQAABBBBAAAEEEEAAAQQQQAABBBBAIAUBAo0p4LjyEYFGV2rSVmYJZCTQaPV5z7rj8t2UzXLlfIj4+IjExPz1xLoOLJRH2r9wvzRocbd5br3HGQEEEEAAAQQQQAABBBDIDgIEGrPDLDNGBBBAAAEEEEAAAQQQQAABBBBAAAEEEEAAgeQECDQmJ+PicgKNLgaluUwRcEWgUTseER4pK77YLT999YtERkSZseSI3X66cfsgafN8A8kTwFbJmTLBfBQBBBBAAAEEEEAAAQQyXYBAY6ZPAR1AAAEEEEAAAQQQQAABBBBAAAEEEEAAAQQQyEQBAo0ewifQ6CFoPuNWAVcFGq1OXjx9TfZtPmlu765TUkpXvsN6xBkBBBBAAAEEEEAAAQQQyJYCBBqz5bQzaAQQQAABBBBAAAEEEEAAAQQQQAABBBBAAIH/FyDQ6KFfBQKNHoLmM24VcHWg0a2dpXEEEEAAAQQQQAABBBBAIAsKEGjMgpNGlxFAAAEEEEAAAQQQQAABBBBAAAEEEEAAAQRcJkCg0WWUKTdEoDFlH55mDQECjVljnuglAggggAACCCCAAAIIZF0BAo1Zd+7oOQIIIIAAAggggAACCCCAAAIIIIAAAggggEDGBQg0ZtzQqRYINDrFRCWbCxBotPkE0T0EEEAAAQQQQAABBBDI8gIEGrP8FDIABBBAAAEEEEAAAQQQQAABBBBAAAEEEEAAgQwIEGjMAF5aXiXQmBYt6tpVgECjXWeGfiGAAAIIIIAAAggggIC3CBBo9JaZZBwIIIAAAggggAACCCCAAAIIIIAAAggggAAC6REg0JgetXS8Q6AxHWi8YjsBAo22mxI6hAACCCCAAAIIIIAAAl4mQKDRyyaU4SCAAAIIIIAAAggggAACCCCAAAIIIIAAAgikSYBAY5q40l+ZQGP67XjTPgIEGu0zF/QEAQQQQAABBBBAAAEEvFOAQKN3ziujQgABBBBAAAEEEEAAAQQQQAABBBBAAAEEEHBOgECjc04ZrkWgMcOENGADAQKNNpgEuoAAAggggAACCCCAAAJeLUCg0aunl8EhgAACCCCAAAIIIIAAAggggAACCCCAAAIIpCJAoDEVIFc9JtDoKknayUwBAo2Zqc+3EUAAAQQQQAABBBBAIDsIEGjMDrPMGBFAAAEEEEAAAQQQQAABBBBAAAEEEEAAAQSSEyDQmJyMi8sJNLoYlOYyRYBAY6aw81EEEEAAAQQQQAABBBDIRgIEGrPRZDNUBBBAAAEEEEAAAQQQQAABBBBAAAEEEEAAgUQCBBoTkbingECje1xp1bMCBBo9683XEEAAAQQQQAABBBBAIPsJEGjMfnPOiBFAAAEEEEAAAQQQQAABBBBAAAEEEEAAAQT+FiDQ+LeFW68INLqVl8Y9JODKQOO1Szdl4dQtsnf976b3VeqVkqcHPyhFS+X30Gj4DAIIIIAAAggggAACCCBgPwECjfabE3qEAAIIIIAAAggggAACCCCAAAIIIIAAAggg4DkBAo0esibQ6CFoPuNWAVcEGqMio2XtN7/Kipk7JfxWpPjn8zN9Drt5W3z9ckrTzrWlWde64pc7p1vHQuMIIIAAAggggAACCCCAgB0FCDTacVboEwIIIIAAAggggAACCCCAAAIIIIAAAggggICnBAg0ekiaQKOHoPmMWwUyGmg8uOO0fDNpo5wPvio+PiL3tagi7fo2NH1eMn2rbFt5WGJiRIqUCJSnX3xQ7nmgnFvHQ+MIIIAAAggggAACCCCAgN0ECDTabUboDwIIIIAAAggggAACCCCAAAIIIIAAAggggIAnBQg0ekjbroHGs2fPyurVq+XcuXMSGhoqvr6+UrRoUWnUqJHUqlXLQzp8JqsIpDfQePn8DfnuQ91e+rgZapm775AOQxpLhRp3xhv68f3nZcHEDXLqyCVTXqNROekQG2wsUjIwXj1uEEAAAQQQQAABBBBAAAFvFSDQ6K0zy7gQQAABBBBAAAEEEEAAAQQQQAABBBBAAAEEnBEg0OiMkgvq2DHQuHbtWlm3bl2yoytTpoz07NlTcuTIkWwdHmQvgbQGGiNvR8mar36RlXN2S0RYpOQNzC1tezeQB9tWF58csUs0JnHERMfIxqUHZOkn2yX0Rrjkyu0rzbrUlqax/3L5+SbxBkUIIIAAAggggAACCCCAgPcIEGj0nrlkJAgggAACCCCAAAIIIIAAAggggAACCCCAAAJpFyDQmHazdL1ht0DjkSNHZO7cuWYsuipjy5YtRQOM165dk1WrVsmlS3+tkFe/fn1p06ZNusbMS94nkJZA4/+2BpvtpS+euW7Ci41aV5W2fe6TgAL+TsGEXAuTpR9vk83LDomGHHWVxo6DG0vQ/WWdep9KCCCAAAIIIIAAAggggEBWFCDQmBVnjT4jgAACCCCAAAIIIIAAAggggAACCCCAAAIIuEqAQKOrJFNpx26BxtmzZ8vRo0dNr/v37y9x+xcVFSWTJk0y4Uat8NZbb4mPT9Kr6aUybB57mYCzgcZDO0/Lh0N+MKMvX72YCSKWrVY0XRrBBy/K15M2yIkDF8z7L4xtKboVNQcCCCCAAAIIIIAAAggg4I0CBBq9cVYZEwIIIIAAAggggAACCCCAAAIIIIAAAggggICzAgQanZXKYL24gcEMNuWS10eNGiW3b982QUYNNCY8NmzYID/++KMpThh4TFiX++wj4GygcUzPb+XUkUtyR8n8MvjDtlKoWECGkK6cD5FJg5bKpbPXpfCdgTLy686SMydboWcIlZcRQAABBBBAAAEEEEDAlgIEGm05LXQKAQQQQAABBBBAAAEEEEAAAQQQQAABBBBAwEMCBBo9BG23QOOECRPMCozar6QCjf/9739lzZo1RmfYsGESGBjoISk+Y2cBZwONLzWfIeGhEWYoufx95ZEONaVZlzqSO2+uNA1P21g9b4/8tOBXiQiLdLz7/qqeaW7L8TIXCCCAAAIIIIAAAggggICNBQg02nhy6BoCCCCAAAIIIIAAAggggAACCCCAAAIIIICA2wUINLqd+K8P2C3QuHz5ctm6davpXL9+/aR48eIOCd1yeuLEiXL9+nXJnz+/DB061PGMi+wtkJZAowYQgxqWlX2bTxq0wEJ5pFX3e+WBttVSXV0xKipaNi09KMtn7pQbV26Z93Wb6QNbgyU6OkZcEWg8ffq0HDt2TKpUqeL4/dff/YMHD5rf/WrVqkmhQoXSNeE3btyQAwcOSKVKlaRIkSKpthESEmL6kjt3brnrrrtEzxwIIIAAAggggAACCCCQPQUINGbPeWfUCCCAAAIIIIAAAggggAACCCCAAAIIIIAAAn8JEGj00G+C3QKN586dk+nTp8eGw6LF19dXWrRoIWXLljWrNq5cuVL+/PNPI/OPf/xDmjRp4iElPmN3gbQEGqMiouWDtb3k6C9/yKJpW+TEgQtmeHeWLSjt+jaUWo3LJzncXzackCXTt8r54KvmeblqxaR9v4ZSuXZJebHJpxIZEZXmQOP9998v+/fvN+0VLVpUHnzwQVm0aJHj+wMGDJAnn3xS2rRpIxoutA5dybR3797WrZw6dUpatWolJ06ccJTVrl1bdIv2W7dumb+puGFhrfTwww/L4sWLzd+Z46XYCw09jhs3TubNmycXL16M+8gEITVo3L1790TvxavIDQIIIIAAAggggAACCHidAIFGr5tSBoQAAggggAACCCCAAAIIIIAAAggggAACCCCQBgECjWnAykhVuwUadSznz5+Xjz/+WCIj/97KN+4YNbjVsGHDuEVcZ3OB9AQaLbK963+XpZ9scwQVK9UqERtUvF/KVy9mqmjgUYOPGoDUo0iJQGnb5z6p16SS+PiYonQHGjOyZbr+z0QN++qxb98+adSo0V+difNTV3V8+umnHaHJOI/MpYYW27Zt6yj++eefpWfPnomCjI4K/3+hYclZs2ZJxYoVEz7iHgEEEEAAAQQQQAABBLxUgECjl04sw0IAAQQQQAABBBBAAAEEEEAAAQQQQAABBBBwSoBAo1NMGa9kx0CjrjI3e/bsZAONumpjUuGtjGvQQlYVyEigUcesW0lv+eGQLPt8p1y/HGoY6jb5K6y3e+0xc58vv7+06FZXHmofJL65cpoy60d6V2g8cuSILF26VN566y3TlG4FPX78ePn9999lyJAhVvNmZcQpU6bIxo0bZdSoUaZ8zJgx0r9/f0cd/Z+Lly5dEl3JVOvqoe0dPXrUXLdr105atmwp+s05c+aYsnXr1jlCkSdPnjRBYWslSK2v27rr1tfh4eHy66+/yuuvvy579+4179aoUUP0fbahNhz8QAABBBBAAAEEEEDA6wUINHr9FDNABBBAAAEEEEAAAQQQQAABBBBAAAEEEEAAgRQECDSmgOPKR3YLNGrYau7cuWaIuuW0bitdqlQpuX79uujqcZcvXzbP7rvvPmndurUrKWgrCwtkNNBoDf12WKSs/fpXWT1/j4SHRpjiXLl95eEn75GWz9YR/3x+VtV45/QGGrURDQXqltJ6bNmyRTQoqEeHDh1kxYoV5nr+/PmOOnXq1DEhxUGDBsm7775rnsf98dVXX0mvXr0cRbqaoq7EaK3mqA+ioqLM85w5/w5m6sqnukW1HiNHjpSXX37ZXMf9oaum6gqOCxcuNMUaeHzzzTfjVuEaAQQQQAABBBBAAAEEvFSAQKOXTizDQgABBBBAAAEEEEAAAQQQQAABBBBAAAEEEHBKgECjU0wZr2S3QKMGrw4fPiw5cuQQDWwVLlzYMcjo6GiZPHmyCTXqcw1S+Vh7/jpqcZEdBVwVaLTsQq7ektefnCuRt6NkxNyOUrxcIetRkmdXBRp1lUTrd/799993hAWPHTsmxYr9tQX2k08+KatXr5bOnTvLJ598kqg/cQONujX74sWLJV++fInqxS24cuWKI/BYr149WbNmjWigOKnjzz//NKFLXcmxfPnyZrvrpOpRhgACCCCAAAIIIIAAAt4lQKDRu+aT0SCAAAIIIIAAAggggAACCCCAAAIIIIAAAgikTYBAY9q80l3bToHGmJgYs/WuBherVatmAlsJB6bb3n777bemuEePHiZQlbAO99lPwNWBRhUc3PQziYhdsfE/y7tL3sDcKaK6I9A4adIkGTFihBQtWlSOHz/u+P6zzz4rixYtMis4zpgxw1FuXcQNNJ45c0by589vPUr2rAFJDUrqoas+apg4paN79+6Ov8PTp09LgQIFUqrOMwQQQAABBBBAAAEEEPACAQKNXjCJDAEBBBBAAAEEEEAAAQQQQAABBBBAAAEEEEAg3QIEGtNNl7YX7RRovH37towaNcoMQLfd1S13Ex5xt6Ru166d6GpyHAh4c6BRt1w/dOiQY5LTEmi8ceOG472ULmbPni39+/c3VeJub53cO/p3OnbsWPN427ZtUr169eSqUo4AAggggAACCCCAAAJeIkCg0UsmkmEggAACCCCAAAIIIIAAAggggAACCCCAAAIIpEuAQGO62NL+kp0Cjdr7MWPGSGhoqNkid+jQoZIzZ854g/r+++9lx44dpuyFF16QEiVKxHvOTfYUIND497zHXaHR2UDjf//7X2ndurVpRIOK/fr1+7vBJK569+4tX375pXly8OBBKV26dBK1KEIAAQQQQAABBBBAAAFvEiDQ6E2zyVgQQAABBBBAAAEEEEAAAQQQQAABBBBAAAEE0ipAoDGtYumsb7dA4+LFi2X37t1mNHfffbfZBjdPnjzmfuvWrbJ8+XJz7efnJ6+//rr4+Pikc+S85k0CBBr/ns30BBovXbokd911l2mkcePGsmzZsmT/tq5fvy61a9eWixcvJtoO++9ecIUAAggggAACCCCAAALeJkCg0dtmlPEggAACCCCAAAIIIIAAAggggAACCCCAAAIIpEWAQGNatDJQ126BRt12+v333zerNFrD8vf3Fy2Pjo62iqR79+6OAJajkItsK+BsoHFYq5kSfitCJqzsIbly+6boNbjpZxIRFin/Wd5d8gbmTrZuRHikvNzic4mOipaJPz6farsJG1q3bp20adPGFJ88eVIKFy5sridNmiQjRowQT2w5rR9s0qSJY/VT/Rvs1auX6UfcH/o3OGDAAJkzZ44p7tOnj4wfPz5uFa4RQAABBBBAAAEEEEDASwUINHrpxDIsBBBAAAEEEEAAAQQQQAABBBBAAAEEEEAAAacECDQ6xZTxSnYLNOqIdJvcpUuXyuHDhxMNsECBAmbVxvLlyyd6RkH2FXA20Lhk+jZZPW+PFCoWIO37NZR6j1RKFs2ZQOOedcfluymb5cr5EGncrrp0GvpQsu0l9UBXOfzuu+9k2LBh5vHChQulfv36UrBgQbECjQEBAbJy5UqpXr265MqVS5599llZtGiR6EqKGjysWrWq6KqJ+veigcMVK1bIhAkTTHtr1qyJ91lfX1+pWbOmaSfeg9ib48ePS61atRzF+p3Bgweb4HBERIQcOHDABCw3bNhg6mjQcvv27ZI/f37HO1wggAACCCCAAAIIIICA9woQaPTeuWVkCCCAAAIIIIAAAggggAACCCCAAAIIIIAAAqkLEGhM3cglNewYaLQGdvXqVTl37pz8+eefoqEu7av+Y5tpS4izJeBsoDEsNEI+emW5HP3lD/Nq5dolpcPgB6Vkxb9WRbTa03NKgcZzJ6/Igokb5fCuM+aVSrVKyAtjW4p/Pr+4TaR6HRgYmKiOtSLj1KlTZfjw4Y7nkydPNiuT9uzZUxYsWOAoX79+vehKiYcOHXKUpXShKypq/aSO77//Xnr37i0hISFJPXaUaR+//vrreAFIx0MuEEAAAQQQQAABBBBAwCsFCDR65bQyKAQQQAABBBBAAAEEEEAAAQQQQAABBBBAAAEnBQg0OgmV0Wp2DjRmdGy8n30EnA00WiI7fvxNFk3bKtcu3ZQcOXykcfsgeaxn/XhbSycVaAyPDUQun7VLfv7mV4mKjJb8hfOalR4bNL/bajpN53vuuUdOnDgR752HH35YfvjhB9m0aZO0aNHC8ezbb7+V5s2bmyDh888/b8o16Lt582YZO3aszJs3z1E3pQvdLvrxxx9PtsqFCxfkzTfflLlz5yaqo98bOHCgDBkyRPLkyZPoOQUIIIAAAggggAACCCDgvQIEGr13bhkZAggggAACCCCAAAIIIIAAAggggAACCCCAQOoCBBpTN/q/9u4tRK76DuD4b3NZNtFsbo2EtFbs0jQQLxSsoZUQ8KmgDUit1idftNC3xCg+Kj4EFIIh7WMfzINQLPWlxUCxUIQawdKmBCWiKdQb1qaJK8nsJTM73f/RM8xek905c/bM7GdhmJlz5vzP/3z++/jlnEJ+IWgshNEgKyyw1KAxTXd2nHjj5qE4+It98aP798TAdOQ4O2h8+08pgjwdo/+rZRHkgZ/eHvc/9oMY2rh+ha++O6dvNBrxySefxPnz52NwcDBGRkZi586d3TmZUQkQIECAAAECBAgQqLyAoLHyS2SCBAgQIECAAAECBAgQIECAAAECBAgQINBFAUFjF3HbhxY0tmv43KsCywka82tNj4/+3fG/xrm/fZxt+vb3dsTPph9DfeLwH+LqeD0O/epg/PE3b7ceU/2d23fGz4/sj2+ObM+H8E6AAAECBAgQIECAAIG+FxA09v0Su0ACBAgQIECAAAECBAgQIECAAAECBAgQWERA0LgITpG7BI1FahprpQQ6CRrzOf/jL/+K3//6zbj0n8sxMBDRbH61J/+8aeuGeOCXP4y7f7w7258f550AAQIECBAgQIAAAQKrQUDQuBpW2TUSIECAAAECBAgQIECAAAECBAgQIECAwEICgsaFZAreLmgsGNRwKyJQRNCYJn51oh6nTv49/vzbf0b9aiO7ljXTj5/e/8De+Mljd8eGGwdX5PqclAABAgQIECBAgAABAistIGhc6RVwfgIECBAgQIAAAQIECBAgQIAAAQIECBBYSQFBY0n6gsaSoJ2mqwJFBY35JP/78WicffPf2dfd398V3/ruN/Jd3gkQIECAAAECBAgQILAqBQSNq3LZXTQBAgQIECBAgAABAgQIECBAgAABAgQIfC0gaCzpX0HQWBK003RVoOigsauTNTgBAgQIECBAgAABAgR6UEDQ2IOLZsoECBAgQIAAAQIECBAgQIAAAQIECBAgUJiAoLEwysUHEjQu7mNvbwgIGntjncySAAECBAgQIECAAIHeFRA09u7amTkBAgQIECBAgAABAgQIECBAgAABAgQIdC4gaOzc8LpGEDReF5MfVVxA0FjxBTI9AgQIECBAgAABAgR6XkDQ2PNL6AIIECBAgAABAgQIECBAgAABAgQIECBAoAMBQWMHeEs5VNC4FC2/raqAoLGqK2NeBAgQIECAAAECBAj0i4CgsV9W0nUQIECAAAECBAgQIECAAAECBAgQIECAwHIEBI3LUVvGMYLGZaA5pHICgsbKLYkJESBAgAABAgQIECDQZwKCxj5bUJdDgAABAgQIECBAgAABAgQIECBAgAABAksSEDQuiWv5PxY0Lt/OkdUREDRWZy3MhAABAgQIECBAgACB/hQQNPbnuroqAgQIECBAgAABAgQIECBAgAABAgQIELg+AUHj9Tl1/CtBY8eEBqiAgKCxAotgCgQIECBAgAABAgQI9LWAoLGvl9fFESBAgAABAgQIECBAgAABAgQIECBAgMA1BASN1wAqaregsShJ46ykgKBxJfWdmwABAgQIECBAgACB1SAgaFwNq+waCRAgQIAAAQIECBAgQIAAAQIECBAgQGAhAUHjQjIFbxc0FgxquBUREDSuCLuTEiBAgAABAgQIECCwigQEjatosV0qAQIECBAgQIAAAQIECBAgQIAAAQIECMwREDTOIenOBkFjd1yNWq5AHjSWe1ZnI0CAAAECBAgQIECAwOoTuPPOO1ffRbtiAgQIECBAgAABAgQIECBAgAABAgQIEFj1AoLGkv4FBI0lQTtNVwUEjV3lNTgBAgQIECBAgAABAgRaAoLGFoUPBAgQIECAAAECBAgQIECAAAECBAgQILCKBASNJS22oLEkaKchQIAAAQIECBAgQIAAAQIECBAgQIAAAQIECBAgQIAAAQIECBAgQIAAgZ4UEDSWtGyCxpKgnYYAAQIECBAgQIAAAQIECBAgQIAAAQIECBAgQIAAAQIECBAgQIAAAQIEelJA0FjSslU1aDx37ly88cYb8dlnn0W9Xo80z5GRkbj33ntjcHCwJB2nIUCAAAECBAgQIECAAAECBAgQIECAAAECBAgQIECAAAECBAgQIECAAIHVLiBoLOk/oIpB46lTp+L06dPzCmzevDkef/zxGB4enne/jQQIECBAgAABAgQIECBAgAABAgQIECBAgAABAgQIECBAgAABAgQIECBAoEgBQWORmouMVbWg8fz583Hy5MlsxmvWrIn9+/fH1q1b45133on3338/255ixieffHKRq7KLAAECBAgQIECAAAECBAgQIECAAAECBAgQIECAAAECBAgQIECAAAECBAgUIyBoLMbxmqNULWg8ceJEXLhwIZt3uhPjzTff3LqG1157Ld56663s+4MPPhh33HFHa58PBAgQIECAAAECBAgQIECAAAECBAgQIECAAAECBAgQIECAAAECBAgQIECgGwKCxm6ozjNmlYLGZrMZzzzzTDbLFDKmoLH9b3JyMo4ePRpTU1PZXRsPHz7cvttnAgQIECBAgAABAgQIECBAgAABAgQIECBAgAABAgQIECBAgAABAgQIECBQuICgsXDS+QesUtB46dKlePHFF7OJ3nXXXXHw4ME5k0770+/S37PPPhvpsdT+CBAgQIAAAQIECBAgQIAAAQIECBAgQIAAAQIECBAgQIAAAQIECBAgQIBAtwQEjd2SnTVulYLGK1euxPPPP5/NcO/evfHwww/Pmm3EsWPHYnR0NNt+6NCh2LZt25zf2ECAAAECBAgQIECAAAECBAgQIECAAAECBAgQIECAAAECBAgQIECAAAECBIoSEDQWJXmNcaoUNKapPvfcc1Gv12NwcDCefvrpWL9+fesKLl68GMePH299f/TRR2NkZKT13QcCBAgQIECAAAECBAgQIECAAAECBAgQIECAAAECBAgQIECAAAECBAgQIFC0gKCxaNEFxqta0Pjqq6/GmTNnstnu2bMnu0vj2rVr4/Lly/HSSy/F559/3roSQWOLwgcCBAgQIECAAAECBAgQIECAAAECBAgQIECAAAECBAgQIECAAAECBAgQ6JKAoLFLsLOHrVrQOD4+Hi+88EJ2l8Y013Xr1sXw8HB88cUXMTU1NWP6R44cic2bN8/Y5gsBAgQIECBAgAABAgQIECBAgAABAgQIECBAgAABAgQIECBAgAABAgQIEChSQNBYpOYiY1UtaExTvXDhQpw8eTJGR0dnzHxoaCh7FPWXX36ZbU+Pp/ZHgAABAgQIECBAgAABAgQIECBAgAABAgQIECBAgAABAgQIECBAgAABAgS6KSBo7KZu29hVDBrT9BqNRrz33nvx0UcfxdjYWNx6662xe/fuOHbsWExOTsamTZviqaeearsSHwkQIECAAAECBAgQIECAAAECBAgQIECAAAECBAgQIECAAAECBAgQIECAQPECgsbiTecdsapB43yTTYHjyy+/nO267bbb4qGHHprvZ7YRIECAAAECBAgQIECAAAECBAgQIECAAAECBAgQIECAAAECBAgQIECAAIHCBASNhVEuPlCvBI3NZjO7O2P+uOknnngitmzZsvjF2UuAAAECBAgQIECAAAECBAgQIECAAAECBAgQIECAAAECBAgQIECAAAECBDoUEDR2CHi9h/dC0Dg1NRWvvPJKvPvuu9ll7du3L+67777rvUS/I0CAAAECBAgQIECAAAECBAgQIECAAAECBAgQIECAAAECBAgQIECAAAECyxYQNC6bbmkHVj1o/OCDD+L111+PTz/9NLuwoaGhOHz4cGzYsGFpF+rXBAgQIECAAAECBAgQIECAAAECBAgQIECAAAECBAgQIECAAAECBAgQIEBgGQKCxmWgLeeQqgWNZ8+ejTNnzsTo6GhcvHgx6vV667JuueWWeOSRR2Ljxo2tbT4QIECAAAECBAgQIECAAAECBAgQIECAAAECBAgQIECAAAECBAgQIECAAIFuCggau6nbNnbVgsajR4/G+Ph42wwj0l0Z77nnnjhw4MCM7b4QIECAAAECBAgQIECAAAECBAgQIECAAAECBAgQIECAAAECBAgQIECAAIFuCwgauy389fhVCxrTo6U//PDDaDQasXPnzti1a5fHS5f0v+A0BAgQIECAAAECBAgQIECAAAECBAgQIECAAAECBAgQIECAAAECBAgQIDBXQNA416QrW6oWNHblIg1KgAABAgQIECBAgAABAgQIECBAgAABAgQIECBAgAABAgQIECBAgAABAgSWKSBoXCbcUg8TNC5VzO8JECBAgAABAgQIECBAgAABAgQIECBAgAABAgQIECBAgAABAgQIECBAYDUJXDNoHBsbi1qtFoK8zv4t+HXm52gCBAgQIECAAAECBAgQIECAAAECBAgQIECAAAECBAgQIECAAAECBAgQ6G8BQWNJ6ytoLAnaaQgQIECAAAECBAgQIECAAAECBAgQIECAAAECBAgQIECAAAECBAgQIECgJwUEjSUtm6CxJGinIUCAAAECBAgQIECAAAECBAgQIECAAAECBAgQIECAAAECBAgQIECAAIGeFBA0lrRsgsaSoJ2GAAECBAgQIECAAAECBAgQIECAAAECBAgQIECAAAECBAgQIECAAAECBHpSQNBY0rIJGkuCdhoCBAgQIECAAAECBAgQIECAAAECBAgQIECAAAECBAgQIECAAAECBAgQ6EkBQWNJyyZoLAnaaQgQIECAAAECBAgQIECAAAECBAgQIECAAAECBAgQIECAAAECBAgQIECgJwUEjSUtm6CxJGinIUCAAAECBAgQIECAAAECBAgQIECAAAECBAgQIECAAAECBAgQIECAAIGeFBA0lrRsgsaSoJ2GAAECBAgQIECAAAECBAgQIECAAAECBAgQIECAAAECBAgQIECAAAECBHpSQNBY0rIJGkuCdhoCBAgQIECAAAECBAgQIECAAAECBAgQIECAAAECBAgQIECAAAECBAgQ6EkBQWNJyyZoLAnaaQgQIECAAAECBAgQIECAAAECBAgQIECAAAECBAgQIECAAAECBAgQIECgJwUWDBonJydjYmIiarVa9hLkdba+/DrzczQBAgQIECBAgAABAgQIECBAgAABAgQIECBAgAABAgQIECBAgAABAgQI9LfAnKCx0WhEvV7PYkZBY3GLL2gsztJIBAgQIECAAAECBAgQIECAAAECBAgQIECAAAECBAgQIECAAAECBAgQINB/AoLGktZU0FgStNMQIECAAAECBAgQIECAAAECBAgQIECAAAECBAgQIECAAAECBAgQIECAQE8KzAgap6amsrszzr5D49jYWNx00009eYFVmbSgsSorYR4ECBAgQIAAAQIECBAgQIAAAQIECBAgQIAAAQIECBAgQIAAAQIECBAgUEWBVtDYbDYjf9y0oLH4pRI0Fm9qRAIECBAgQIAAAQIECBAgQIAAAQIECBAgQIAAAQIECBAgQIAAAQIECBDoHwFBY0lrKWgsCdppCBAgQIAAAQIECBAgQIAAAQIECBAgQIAAAQIECBAgQIAAAQIECBAgQKAnBbKgMd2dMT1uer47NKbHTddqNY+c7nB5BY0dAjqcAAECBAgQIECAAAECBAgQIECAAAECBAgQIECAAAECBAgQIECAAAECBPpaYMGgcXJyMiYmJrKYUdDY+f+AoLFzQyMQIECAAAECBAgQIECAAAECBAgQIECAAAECBAgQIECAAAECBAgQIECAQP8KDEyHi810d8bZd2hsDxrTXRp37NjRvwolXJmgsQRkpyBAgAABAgQIECBAgAABAgQIECBAgAABAgQIECBAgAABAgQIECBAgACBnhWYEzTmj51OQeP4+Hjkj5wWNHa2xoLGzvwcTYAAAQIECBAgQIAAAQIECBAgQIAAAQIECBAgQIAAAQIECBAgQIAAAQL9LTAjaEx3aazX69krv0NjChqvXLniDo0d/h8IGjsEdDgBAgQIECBAgAABAgQIECBAgAABAgQIECBAgAABAgQIECBAgAABAgQI9LVAK2hsNpvZY6evXr2aBY3pPb9DY4oat2/f3tcQ3b44QWO3hY1PgAABAgQIECBAgAABAgQIECBAgAABAgQIECBAgAABAgQIECBAgAABAr0sMG/QmB473f7IaUFj50ssaOzc0AgECBAgQIAAAQIECBAgQIAAAQIECBAgQIAAAQIECBAgQIAAAQIECBAg0L8CWdCY351x9iOnU9SYYsZarRbbtm3rX4USrkzQWAKyUxAgQIAAAQIECBAgQIAAAQIECBAgQIAAAQIECBAgQIAAAQIECBAgQIBAzwrMCBpT2Jg/crper2ePnM4fO71ly5aevcgqTFzQWIVVMAcCBAgQIECAAAECBAgQIECAAAECBAgQIECAAAECBAgQIECAAAECBAgQqKrAwHTA2Ex3Zszv0piCxvQ93Z1xYmIie6W7NA4PD1f1GnpiXoLGnlgmkyRAgAABAgQIECBAgAABAgQIECBAgAABAgQIECBAgAABAgQIECBAgACBFRKYEzQ2Go1Id2dMYWMeNaa7NN5www0rNMX+OK2gsT/W0VUQIECAAAECBAgQIECAAAECBAgQIECAAAECBAgQIECAAAECBAgQIECAQHcEsqAxDZ1CxnSXxtlBY3vUWKvVWndtTJFj2pfix/RKx+V3ekzjpbHSa6G/xfYtdIztBAgQIECAAAECBAgQIECAAAECBAgQIECAAAECBAgQIECAAAECBAgQIECAQDUFBgYGFpxY2pfvT+9r1qyJtWvXxrp167LX4OBgtILGFCOmVwoT86gxhYp5uNj+nh5FnWLG/C6O+bH5e3us2P55wZlO77je3y02hn0ECBAgQIAAAQIECBAgQIAAAQIECBAgQIAAAQIECBAgQIAAAQIECBAgQIBAOQJ5oHits7X/Lo8ZU9CYv1LMuH79+hiYjhanW8Kv7qaYQsb0Ob/jYgoW82gxBYx51Jg+z747YzouBY35WOm9/W/29/Z9PhMgQIAAAQIECBAgQIAAAQIECBAgQIAAAQIECBAgQIAAAQIECBAgQIAAAQL9JdAeMqYrS9/zV4oZ0+f2uzTOCBrzOyym9xQ1pld71Ji+p7sz5tvS9/TbPITMj89JF4sYF9uXH++dAAECBAgQIECAAAECBAgQIECAAAECBAgQIECAAAECBAgQIECAAAECBAgQ6A2B2QFj+6zb9+V3ZsyDxvQ9PXr6/w8CRgDIqsmHAAAAAElFTkSuQmCC)"
   ]
  },
  {
   "cell_type": "code",
   "execution_count": null,
   "metadata": {
    "ExecuteTime": {
     "end_time": "2022-11-22T09:07:46.786897Z",
     "start_time": "2022-11-22T09:07:46.784191Z"
    },
    "colab": {
     "base_uri": "https://localhost:8080/",
     "height": 35
    },
    "executionInfo": {
     "elapsed": 3,
     "status": "ok",
     "timestamp": 1652958760507,
     "user": {
      "displayName": "Alper Aydın",
      "userId": "16424421511940582464"
     },
     "user_tz": -180
    },
    "id": "sFmwayYm4UxK",
    "outputId": "1c256335-964e-4355-8e06-aca255e123f8"
   },
   "outputs": [],
   "source": [
    "sb = sube(609, 'Antalya Şb', 'Antalya', 'Merkez')\n",
    "sb"
   ]
  },
  {
   "cell_type": "code",
   "execution_count": null,
   "metadata": {
    "ExecuteTime": {
     "end_time": "2022-11-22T09:08:18.142047Z",
     "start_time": "2022-11-22T09:08:18.138917Z"
    },
    "colab": {
     "base_uri": "https://localhost:8080/"
    },
    "executionInfo": {
     "elapsed": 3,
     "status": "ok",
     "timestamp": 1652958761087,
     "user": {
      "displayName": "Alper Aydın",
      "userId": "16424421511940582464"
     },
     "user_tz": -180
    },
    "id": "uUw6YaMa40n1",
    "outputId": "5469d067-6533-4dd1-e50f-0a987a258ddd"
   },
   "outputs": [],
   "source": [
    "print(sb.ili, sb.ilçesi, sb.kodu, sb.adı)"
   ]
  },
  {
   "cell_type": "code",
   "execution_count": null,
   "metadata": {
    "ExecuteTime": {
     "end_time": "2022-11-22T09:08:22.082007Z",
     "start_time": "2022-11-22T09:08:22.072588Z"
    }
   },
   "outputs": [],
   "source": [
    "import pandas as pd\n",
    "sb2 = pd.DataFrame([(609, 'Antalya Şb', 'Antalya', 'Merkez')], columns=['kodu', 'adı', 'ili', 'ilçesi'])\n",
    "sb2"
   ]
  },
  {
   "cell_type": "markdown",
   "metadata": {
    "id": "Vt6PymFm4-3F"
   },
   "source": [
    "#### OrderedDict\n",
    "\n",
    "dict ile aynıdırbenzerdir, key'lerin sırasını değiştirmez, verilen sırada gösterir"
   ]
  },
  {
   "cell_type": "code",
   "execution_count": null,
   "metadata": {
    "ExecuteTime": {
     "end_time": "2022-11-22T09:08:39.812565Z",
     "start_time": "2022-11-22T09:08:39.809675Z"
    },
    "colab": {
     "base_uri": "https://localhost:8080/",
     "height": 35
    },
    "executionInfo": {
     "elapsed": 373,
     "status": "ok",
     "timestamp": 1652956863146,
     "user": {
      "displayName": "Alper Aydın",
      "userId": "16424421511940582464"
     },
     "user_tz": -180
    },
    "id": "2W0YoNIr51Sj",
    "outputId": "e6615b2c-a50e-49c1-95ce-060c8e2be0f8"
   },
   "outputs": [],
   "source": [
    "d = dict({'A':65, 'C':67, 'B':66, 'D':68})\n",
    "display(d)"
   ]
  },
  {
   "cell_type": "code",
   "execution_count": null,
   "metadata": {
    "ExecuteTime": {
     "end_time": "2022-11-22T09:08:40.525421Z",
     "start_time": "2022-11-22T09:08:40.522606Z"
    },
    "colab": {
     "base_uri": "https://localhost:8080/",
     "height": 35
    },
    "executionInfo": {
     "elapsed": 258,
     "status": "ok",
     "timestamp": 1652956887464,
     "user": {
      "displayName": "Alper Aydın",
      "userId": "16424421511940582464"
     },
     "user_tz": -180
    },
    "id": "P7ItEae65K1P",
    "outputId": "3b438c13-6dbb-427f-9259-d3b9a28124ee"
   },
   "outputs": [],
   "source": [
    "od = collections.OrderedDict({'A':65, 'C':67, 'B':66, 'D':68})\n",
    "display(od)"
   ]
  },
  {
   "cell_type": "code",
   "execution_count": null,
   "metadata": {},
   "outputs": [],
   "source": []
  }
 ],
 "metadata": {
  "kernelspec": {
   "display_name": "Python 3",
   "language": "python",
   "name": "python3"
  },
  "language_info": {
   "codemirror_mode": {
    "name": "ipython",
    "version": 3
   },
   "file_extension": ".py",
   "mimetype": "text/x-python",
   "name": "python",
   "nbconvert_exporter": "python",
   "pygments_lexer": "ipython3",
   "version": "3.7.6"
  },
  "toc": {
   "base_numbering": 1,
   "nav_menu": {},
   "number_sections": true,
   "sideBar": true,
   "skip_h1_title": false,
   "title_cell": "Table of Contents",
   "title_sidebar": "Contents",
   "toc_cell": false,
   "toc_position": {},
   "toc_section_display": true,
   "toc_window_display": true
  },
  "varInspector": {
   "cols": {
    "lenName": 16,
    "lenType": 16,
    "lenVar": 40
   },
   "kernels_config": {
    "python": {
     "delete_cmd_postfix": "",
     "delete_cmd_prefix": "del ",
     "library": "var_list.py",
     "varRefreshCmd": "print(var_dic_list())"
    },
    "r": {
     "delete_cmd_postfix": ") ",
     "delete_cmd_prefix": "rm(",
     "library": "var_list.r",
     "varRefreshCmd": "cat(var_dic_list()) "
    }
   },
   "position": {
    "height": "355.851px",
    "left": "1682.08px",
    "right": "20px",
    "top": "121.979px",
    "width": "350px"
   },
   "types_to_exclude": [
    "module",
    "function",
    "builtin_function_or_method",
    "instance",
    "_Feature"
   ],
   "window_display": true
  }
 },
 "nbformat": 4,
 "nbformat_minor": 4
}
