{
 "cells": [
  {
   "cell_type": "code",
   "execution_count": null,
   "metadata": {
    "ExecuteTime": {
     "end_time": "2022-12-13T06:38:01.382425Z",
     "start_time": "2022-12-13T06:38:01.146513Z"
    }
   },
   "outputs": [],
   "source": [
    "import sys\n",
    "sys.path.append('/data/ECS/PythonTutorial/')\n",
    "import log\n",
    "log.topic_id = '18_DosyaIslemleri'"
   ]
  },
  {
   "cell_type": "markdown",
   "metadata": {
    "id": "SJq1nHYK8Yx8"
   },
   "source": [
    "## Dosya İşlemleri"
   ]
  },
  {
   "cell_type": "markdown",
   "metadata": {
    "id": "VWs9Myr7GcVU"
   },
   "source": [
    "### open\n",
    "\n",
    "python'da dosya işlemleri için ilgili dosyanın 'open' komutu ile açılması gerekir. \n",
    "\n",
    "Yapılacak işleme göre:\n",
    "* r: read, okuma modu\n",
    "* w: write, yazma modu, dosyanın içeriğini silerek sıfırdan yeni bilgi yazar\n",
    "* a: append, ekleme modu\n",
    "* x: dosyayı silip yeni dosya oluşturur\n",
    "\n",
    "kullanılarak dosya açma işlemi gerçekleştirilir."
   ]
  },
  {
   "cell_type": "code",
   "execution_count": null,
   "metadata": {
    "ExecuteTime": {
     "end_time": "2022-12-13T06:42:46.332438Z",
     "start_time": "2022-12-13T06:42:46.328354Z"
    },
    "colab": {
     "base_uri": "https://localhost:8080/"
    },
    "executionInfo": {
     "elapsed": 401,
     "status": "ok",
     "timestamp": 1652993995137,
     "user": {
      "displayName": "Alper Aydın",
      "userId": "16424421511940582464"
     },
     "user_tz": -180
    },
    "id": "UWtJnGv6B0I3",
    "outputId": "057d8774-6578-40ef-cb34-7399f11855ba"
   },
   "outputs": [],
   "source": [
    "f = open('/data/ECS/PythonTutorial/Outputs/alperayd.csv','r')\n",
    "line = f.readline()\n",
    "print(line)\n",
    "f.close() # dosya açıldıktan sonra close ile kapatılmalıdır."
   ]
  },
  {
   "cell_type": "code",
   "execution_count": null,
   "metadata": {
    "ExecuteTime": {
     "end_time": "2022-12-13T06:43:16.933955Z",
     "start_time": "2022-12-13T06:43:16.931930Z"
    }
   },
   "outputs": [],
   "source": [
    "f.close()"
   ]
  },
  {
   "cell_type": "markdown",
   "metadata": {
    "id": "nagNgDYlH4d6"
   },
   "source": [
    "### with deyimi ile açma\n",
    "\n",
    "with deyimi ile close komutuna ihtiyaç duymadan dosyaları açabilir ve hata durumunda dosyanın açık kalması önlenebilir."
   ]
  },
  {
   "cell_type": "code",
   "execution_count": null,
   "metadata": {
    "ExecuteTime": {
     "end_time": "2022-12-13T06:45:02.840165Z",
     "start_time": "2022-12-13T06:45:02.836833Z"
    },
    "colab": {
     "base_uri": "https://localhost:8080/"
    },
    "executionInfo": {
     "elapsed": 293,
     "status": "ok",
     "timestamp": 1652994244368,
     "user": {
      "displayName": "Alper Aydın",
      "userId": "16424421511940582464"
     },
     "user_tz": -180
    },
    "id": "NkcBNJ67H4CM",
    "outputId": "22a33086-7fb3-40df-d066-e46a1d5dd3c1"
   },
   "outputs": [],
   "source": [
    "with open('/data/ECS/PythonTutorial/Outputs/alperayd.csv','r') as f:\n",
    "    line = f.readline()\n",
    "    print(line)"
   ]
  },
  {
   "cell_type": "markdown",
   "metadata": {
    "ExecuteTime": {
     "end_time": "2022-12-13T06:48:14.272295Z",
     "start_time": "2022-12-13T06:48:14.268925Z"
    }
   },
   "source": [
    "https://peps.python.org/pep-0343/#generator-decorator"
   ]
  },
  {
   "cell_type": "markdown",
   "metadata": {
    "id": "0UQ_CPC0Itxo"
   },
   "source": [
    "### read, tüm dosyayı okuma\n",
    "\n",
    "çok büyük olmayan dosyaların okunması için read() komutu kullanılabilir. Ancak büyük dosyalarda performans sorunu yaşanabilir.\n",
    "\n"
   ]
  },
  {
   "cell_type": "code",
   "execution_count": null,
   "metadata": {
    "ExecuteTime": {
     "end_time": "2022-12-13T06:49:50.148212Z",
     "start_time": "2022-12-13T06:49:50.142132Z"
    },
    "colab": {
     "base_uri": "https://localhost:8080/"
    },
    "executionInfo": {
     "elapsed": 255,
     "status": "ok",
     "timestamp": 1652994307476,
     "user": {
      "displayName": "Alper Aydın",
      "userId": "16424421511940582464"
     },
     "user_tz": -180
    },
    "id": "NQpERvLSIw6W",
    "outputId": "aebe91dc-a276-4939-a3de-5e81c44a611b"
   },
   "outputs": [],
   "source": [
    "with open('/data/ECS/PythonTutorial/Outputs/alperayd.csv','r') as f:\n",
    "    lines = f.read()\n",
    "    print(lines[10:50])"
   ]
  },
  {
   "cell_type": "code",
   "execution_count": null,
   "metadata": {
    "ExecuteTime": {
     "end_time": "2022-12-13T06:51:59.683608Z",
     "start_time": "2022-12-13T06:51:59.679626Z"
    }
   },
   "outputs": [],
   "source": [
    "newfile = lines.replace('alperayd','alperaydin')\n",
    "print(newfile)"
   ]
  },
  {
   "cell_type": "code",
   "execution_count": null,
   "metadata": {
    "ExecuteTime": {
     "end_time": "2022-12-13T06:52:06.849504Z",
     "start_time": "2022-12-13T06:52:06.846711Z"
    }
   },
   "outputs": [],
   "source": [
    "with open('/data/ECS/PythonTutorial/Outputs/alperaydin2.csv','w') as f:\n",
    "    c = f.write(newfile)\n",
    "    print(c)"
   ]
  },
  {
   "cell_type": "markdown",
   "metadata": {
    "id": "6cl7loccJmfR"
   },
   "source": [
    "### readline, satır okuma\n",
    "\n",
    "Büyük dosyaları okumak için döngü ile satır satır okuma yöntemi kullanılır"
   ]
  },
  {
   "cell_type": "code",
   "execution_count": null,
   "metadata": {
    "ExecuteTime": {
     "end_time": "2022-12-13T06:59:55.181430Z",
     "start_time": "2022-12-13T06:59:55.178037Z"
    }
   },
   "outputs": [],
   "source": [
    "with open('/data/ECS/PythonTutorial/Data/iris.csv','r') as f:\n",
    "    lines = f.read()\n",
    "    \n",
    "lines.split('\\n')[123:126]"
   ]
  },
  {
   "cell_type": "code",
   "execution_count": null,
   "metadata": {
    "ExecuteTime": {
     "end_time": "2022-12-13T06:56:54.745717Z",
     "start_time": "2022-12-13T06:56:54.730789Z"
    },
    "colab": {
     "base_uri": "https://localhost:8080/"
    },
    "executionInfo": {
     "elapsed": 74035,
     "status": "ok",
     "timestamp": 1652995390809,
     "user": {
      "displayName": "Alper Aydın",
      "userId": "16424421511940582464"
     },
     "user_tz": -180
    },
    "id": "8aXzIzZKI3Mk",
    "outputId": "a5b27f7d-a5de-437b-e138-f23eaab4b237"
   },
   "outputs": [],
   "source": [
    "with open('/data/ECS/PythonTutorial/Outputs/alperaydin2.csv','r') as f:\n",
    "    line_count = 0\n",
    "    while True:\n",
    "        line = f.readline()\n",
    "        line_count = line_count + 1\n",
    "        if len(line)==0: \n",
    "            break\n",
    "            \n",
    "        if '11_ListComprehension' in line:\n",
    "            print(line_count, '\\t', line)\n",
    "            \n",
    "print(line_count)"
   ]
  },
  {
   "cell_type": "markdown",
   "metadata": {},
   "source": [
    "### Örnek"
   ]
  },
  {
   "cell_type": "code",
   "execution_count": null,
   "metadata": {
    "ExecuteTime": {
     "end_time": "2022-12-13T07:06:45.862660Z",
     "start_time": "2022-12-13T07:06:45.853084Z"
    }
   },
   "outputs": [],
   "source": [
    "import os\n",
    "dosyalar = os.listdir('/data/ECS/Datamart/sqls/')\n",
    "arama_kelimesi = ' PG.VDWINPA '\n",
    "yeni_kelime = ' PGAREDM.V_CNF_CUSTOMER_HST '\n",
    "\n",
    "for dosya in dosyalar:\n",
    "    if '.sql' in dosya:\n",
    "        print(dosya)\n",
    "        \n",
    "        with open(f'/data/ECS/Datamart/sqls/{dosya}', 'r', encoding='utf-8') as f:\n",
    "            sql_komutu = f.read()\n",
    "        \n",
    "        if arama_kelimesi.upper() in sql_komutu.upper():\n",
    "            print(dosya, end='\\t')\n",
    "        \n",
    "            i = 0\n",
    "            bulunan_satirlar = []\n",
    "            for satir in sql_komutu.split('\\n'):\n",
    "                i = i+1\n",
    "                if arama_kelimesi in satir.upper():\n",
    "                    bulunan_satirlar.append(i)\n",
    "            bulunan_satirlar \n",
    "            \n",
    "            print(bulunan_satirlar)\n",
    "            \n",
    "        #with open(f'/data/ECS/Datamart/sqls/{dosya}', 'w',) as :\n",
    "        #    sql_komutu = sql_komutu.replace(aranan_kelime, yeni_kelime)\n",
    "        #    f.write(sql_komutu)"
   ]
  },
  {
   "cell_type": "markdown",
   "metadata": {
    "id": "6uhnHK8uzLbN"
   },
   "source": [
    "## Excel İşlemleri"
   ]
  },
  {
   "cell_type": "markdown",
   "metadata": {
    "id": "Qg5AghV3zOK7"
   },
   "source": [
    "### openpyxl\n",
    "\n",
    "https://openpyxl.readthedocs.io/en/stable/"
   ]
  },
  {
   "cell_type": "code",
   "execution_count": null,
   "metadata": {
    "ExecuteTime": {
     "end_time": "2022-12-13T07:10:15.106902Z",
     "start_time": "2022-12-13T07:10:15.004547Z"
    },
    "executionInfo": {
     "elapsed": 419,
     "status": "ok",
     "timestamp": 1653599151274,
     "user": {
      "displayName": "Alper Aydın",
      "userId": "16424421511940582464"
     },
     "user_tz": -180
    },
    "id": "njvnqbnKMPcn"
   },
   "outputs": [],
   "source": [
    "import imp\n",
    "import openpyxl\n",
    "from openpyxl import Workbook"
   ]
  },
  {
   "cell_type": "code",
   "execution_count": null,
   "metadata": {
    "ExecuteTime": {
     "end_time": "2022-11-22T11:53:30.075777Z",
     "start_time": "2022-11-22T11:53:30.069104Z"
    }
   },
   "outputs": [],
   "source": [
    "openpyxl.__version__"
   ]
  },
  {
   "cell_type": "markdown",
   "metadata": {
    "id": "X57QKohP3qaZ"
   },
   "source": [
    "### yeni excel dosyası"
   ]
  },
  {
   "cell_type": "code",
   "execution_count": null,
   "metadata": {
    "ExecuteTime": {
     "end_time": "2022-12-13T07:13:21.777215Z",
     "start_time": "2022-12-13T07:13:21.766601Z"
    },
    "executionInfo": {
     "elapsed": 1,
     "status": "ok",
     "timestamp": 1653599151704,
     "user": {
      "displayName": "Alper Aydın",
      "userId": "16424421511940582464"
     },
     "user_tz": -180
    },
    "id": "5gGXUyl5zWBv"
   },
   "outputs": [],
   "source": [
    "xl_path = 'deneme.xlsx'\n",
    "wb = Workbook()\n",
    "wb.save('deneme.xlsx')\n",
    "import os \n",
    "os.getcwd()"
   ]
  },
  {
   "cell_type": "markdown",
   "metadata": {
    "id": "I9rmdbIk-C2k"
   },
   "source": [
    "### mevcut dosyayı aç"
   ]
  },
  {
   "cell_type": "code",
   "execution_count": null,
   "metadata": {
    "ExecuteTime": {
     "end_time": "2022-12-13T07:15:05.305312Z",
     "start_time": "2022-12-13T07:15:05.296456Z"
    },
    "colab": {
     "base_uri": "https://localhost:8080/"
    },
    "executionInfo": {
     "elapsed": 3,
     "status": "ok",
     "timestamp": 1653599152149,
     "user": {
      "displayName": "Alper Aydın",
      "userId": "16424421511940582464"
     },
     "user_tz": -180
    },
    "id": "6RF7ewzk4AgZ",
    "outputId": "f368c7f7-5ead-4325-fb40-c7ff2aa24f92"
   },
   "outputs": [],
   "source": [
    "wb = openpyxl.load_workbook(xl_path)\n",
    "wb.sheetnames"
   ]
  },
  {
   "cell_type": "code",
   "execution_count": null,
   "metadata": {
    "ExecuteTime": {
     "end_time": "2022-12-13T07:15:24.513925Z",
     "start_time": "2022-12-13T07:15:24.511235Z"
    },
    "colab": {
     "base_uri": "https://localhost:8080/"
    },
    "executionInfo": {
     "elapsed": 2,
     "status": "ok",
     "timestamp": 1653599152149,
     "user": {
      "displayName": "Alper Aydın",
      "userId": "16424421511940582464"
     },
     "user_tz": -180
    },
    "id": "fqGS5FCb-HFF",
    "outputId": "1521644b-0e01-4ce9-da8c-a2606bb55d3a"
   },
   "outputs": [],
   "source": [
    "sheet = wb['Sheet']\n",
    "print(type(sheet))"
   ]
  },
  {
   "cell_type": "code",
   "execution_count": null,
   "metadata": {},
   "outputs": [],
   "source": []
  },
  {
   "cell_type": "markdown",
   "metadata": {
    "id": "vod9YdQo-xwq"
   },
   "source": [
    "### hücre işlemleri"
   ]
  },
  {
   "cell_type": "code",
   "execution_count": null,
   "metadata": {
    "ExecuteTime": {
     "end_time": "2022-12-13T07:16:52.446976Z",
     "start_time": "2022-12-13T07:16:52.439267Z"
    },
    "executionInfo": {
     "elapsed": 1,
     "status": "ok",
     "timestamp": 1653599152591,
     "user": {
      "displayName": "Alper Aydın",
      "userId": "16424421511940582464"
     },
     "user_tz": -180
    },
    "id": "PonRmEyiALeH"
   },
   "outputs": [],
   "source": [
    "sheet['A1'] = 'Python Excel İşlemleri'\n",
    "sheet.cell(row=2, column=1).value = 'openpyxl modülü ile excel işlemleri otomatik hale getirilebilir'\n",
    "sheet.name = 'OzetSayfa'\n",
    "wb.save(xl_path)"
   ]
  },
  {
   "cell_type": "code",
   "execution_count": null,
   "metadata": {
    "ExecuteTime": {
     "end_time": "2022-12-13T07:16:54.377964Z",
     "start_time": "2022-12-13T07:16:54.374873Z"
    }
   },
   "outputs": [],
   "source": [
    "sheet.name"
   ]
  },
  {
   "cell_type": "code",
   "execution_count": null,
   "metadata": {
    "ExecuteTime": {
     "end_time": "2022-12-13T07:18:17.838930Z",
     "start_time": "2022-12-13T07:18:17.825434Z"
    }
   },
   "outputs": [],
   "source": [
    "wb.close()\n",
    "wb = openpyxl.load_workbook(xl_path)\n",
    "sheet = wb['Sheet']\n",
    "sheet.name = 'OzetSayfa'\n",
    "wb.save(xl_path)\n",
    "wb.sheetnames"
   ]
  },
  {
   "cell_type": "markdown",
   "metadata": {
    "id": "pztiicuOB2-a"
   },
   "source": [
    "### toplu veri girişi"
   ]
  },
  {
   "cell_type": "code",
   "execution_count": null,
   "metadata": {
    "ExecuteTime": {
     "end_time": "2022-12-13T07:32:55.962751Z",
     "start_time": "2022-12-13T07:32:55.958931Z"
    },
    "executionInfo": {
     "elapsed": 1,
     "status": "ok",
     "timestamp": 1653599152591,
     "user": {
      "displayName": "Alper Aydın",
      "userId": "16424421511940582464"
     },
     "user_tz": -180
    },
    "id": "6MSS2r41B6DE"
   },
   "outputs": [],
   "source": [
    "data = [\n",
    "        ('Şube Kodu','Şube Adı', 'İl', 'İlçe'),\n",
    "        ('Antalya', 609, 'Antalya','Merkez'),\n",
    "        ('İzmir', 123, 'İzmir','Konak'),\n",
    "        ('Kadıköy', 45, 'İstanbul', 'Kadıköy')\n",
    "]\n",
    "\n",
    "row = 5\n",
    "for data_row in data:\n",
    "    col = 1\n",
    "    for val in data_row:\n",
    "        sheet.cell(row=row, column=col).value = val\n",
    "        col += 1\n",
    "    row += 1\n"
   ]
  },
  {
   "cell_type": "code",
   "execution_count": null,
   "metadata": {
    "ExecuteTime": {
     "end_time": "2022-12-13T07:32:56.412525Z",
     "start_time": "2022-12-13T07:32:56.405173Z"
    },
    "executionInfo": {
     "elapsed": 2,
     "status": "ok",
     "timestamp": 1653599152592,
     "user": {
      "displayName": "Alper Aydın",
      "userId": "16424421511940582464"
     },
     "user_tz": -180
    },
    "id": "8YYBmeQeKsX7"
   },
   "outputs": [],
   "source": [
    "wb.save(xl_path)"
   ]
  },
  {
   "cell_type": "markdown",
   "metadata": {
    "id": "xnC5qrjWDLMt"
   },
   "source": [
    "### hücre biçimlendirme"
   ]
  },
  {
   "cell_type": "code",
   "execution_count": null,
   "metadata": {
    "ExecuteTime": {
     "end_time": "2022-12-13T07:33:37.407905Z",
     "start_time": "2022-12-13T07:33:37.404926Z"
    },
    "colab": {
     "base_uri": "https://localhost:8080/"
    },
    "executionInfo": {
     "elapsed": 4,
     "status": "ok",
     "timestamp": 1653599153064,
     "user": {
      "displayName": "Alper Aydın",
      "userId": "16424421511940582464"
     },
     "user_tz": -180
    },
    "id": "p6sO9CQwIBpA",
    "outputId": "43e4dfec-f940-43fc-9790-46167f385de0"
   },
   "outputs": [],
   "source": [
    "wb.named_styles"
   ]
  },
  {
   "cell_type": "code",
   "execution_count": null,
   "metadata": {
    "ExecuteTime": {
     "end_time": "2022-12-13T07:37:10.751490Z",
     "start_time": "2022-12-13T07:37:10.747222Z"
    },
    "executionInfo": {
     "elapsed": 2,
     "status": "ok",
     "timestamp": 1653599153064,
     "user": {
      "displayName": "Alper Aydın",
      "userId": "16424421511940582464"
     },
     "user_tz": -180
    },
    "id": "I_8rxlKZDPGm"
   },
   "outputs": [],
   "source": [
    "from openpyxl.styles import Font, NamedStyle\n",
    "\n",
    "# yeni bir stil tanımla\n",
    "red_italic = NamedStyle(name=\"kırmızı_italik_bold\")\n",
    "red_italic.font = Font(color='33FF0000', italic=True, bold=True)\n",
    "\n",
    "# eğer aynı isimde bir stil mevcutsa sil\n",
    "if 'kırmızı_italik_bold' in wb.named_styles:\n",
    "    del wb._named_styles[ wb.style_names.index('kırmızı_italik_bold')]\n",
    "\n",
    "# oluşturduğumuz yeni stili workbook'a ekle\n",
    "wb.add_named_style(red_italic)\n",
    "\n",
    "# 3. satıra oluşturduğumuz stili uygula\n",
    "for cell in sheet[\"5:5\"]:\n",
    "    cell.style = 'kırmızı_italik_bold'\n",
    "    \n",
    "sheet['A1'].style = 'kırmızı_italik_bold'"
   ]
  },
  {
   "cell_type": "code",
   "execution_count": null,
   "metadata": {
    "ExecuteTime": {
     "end_time": "2022-12-13T07:37:11.117127Z",
     "start_time": "2022-12-13T07:37:11.110060Z"
    }
   },
   "outputs": [],
   "source": [
    "wb.save(xl_path)"
   ]
  },
  {
   "cell_type": "markdown",
   "metadata": {
    "id": "WO0EqSmoG4en"
   },
   "source": [
    "### freeze panes"
   ]
  },
  {
   "cell_type": "code",
   "execution_count": null,
   "metadata": {
    "ExecuteTime": {
     "end_time": "2022-12-13T07:37:48.805184Z",
     "start_time": "2022-12-13T07:37:48.798829Z"
    },
    "executionInfo": {
     "elapsed": 377,
     "status": "ok",
     "timestamp": 1653599203408,
     "user": {
      "displayName": "Alper Aydın",
      "userId": "16424421511940582464"
     },
     "user_tz": -180
    },
    "id": "i1kW5XchG58s"
   },
   "outputs": [],
   "source": [
    "sheet.freeze_panes = 'A6'\n",
    "wb.save(xl_path)"
   ]
  },
  {
   "cell_type": "code",
   "execution_count": null,
   "metadata": {},
   "outputs": [],
   "source": []
  }
 ],
 "metadata": {
  "kernelspec": {
   "display_name": "ECS4",
   "language": "python",
   "name": "ecs4"
  },
  "language_info": {
   "codemirror_mode": {
    "name": "ipython",
    "version": 3
   },
   "file_extension": ".py",
   "mimetype": "text/x-python",
   "name": "python",
   "nbconvert_exporter": "python",
   "pygments_lexer": "ipython3",
   "version": "3.7.6"
  },
  "toc": {
   "base_numbering": 1,
   "nav_menu": {},
   "number_sections": true,
   "sideBar": true,
   "skip_h1_title": false,
   "title_cell": "Table of Contents",
   "title_sidebar": "Contents",
   "toc_cell": false,
   "toc_position": {},
   "toc_section_display": true,
   "toc_window_display": true
  },
  "varInspector": {
   "cols": {
    "lenName": 16,
    "lenType": 16,
    "lenVar": 40
   },
   "kernels_config": {
    "python": {
     "delete_cmd_postfix": "",
     "delete_cmd_prefix": "del ",
     "library": "var_list.py",
     "varRefreshCmd": "print(var_dic_list())"
    },
    "r": {
     "delete_cmd_postfix": ") ",
     "delete_cmd_prefix": "rm(",
     "library": "var_list.r",
     "varRefreshCmd": "cat(var_dic_list()) "
    }
   },
   "types_to_exclude": [
    "module",
    "function",
    "builtin_function_or_method",
    "instance",
    "_Feature"
   ],
   "window_display": true
  }
 },
 "nbformat": 4,
 "nbformat_minor": 4
}
