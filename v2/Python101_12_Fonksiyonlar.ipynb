{
 "cells": [
  {
   "cell_type": "code",
   "execution_count": null,
   "metadata": {
    "ExecuteTime": {
     "end_time": "2022-11-21T09:07:39.872253Z",
     "start_time": "2022-11-21T09:07:39.659922Z"
    }
   },
   "outputs": [],
   "source": [
    "import sys\n",
    "sys.path.append('/data/ECS/PythonTutorial/')\n",
    "import log\n",
    "log.topic_id = '12_Fonksiyonlar'"
   ]
  },
  {
   "cell_type": "markdown",
   "metadata": {},
   "source": [
    "<div class=\"alert alert-box\" style=\"font-size:12pt; padding:15px; line-height:150%; background-color:#33bbcc66; \">\n",
    "    Bu dersin amacı;\n",
    "    <li>Fonksiyon kavramı hakkında bilgi sahibi olunması</li>\n",
    "    <li>Fonksiyonların özellikleri ve parametrte kavramının öğrenilmesi</li>\n",
    "    <li>Fonksiyonların dönüş değeri kavramının öğrenilmesi</li>\n",
    "    <li>Lambda fonksiyon kavramı</li>\n",
    "    <li>Local ve Global değişkenler hakkında bilgi sahibi olunması</li>\n",
    "    <li>Örnek uygulamar ile fonksiyon kullanım yetkinliğinin kazanılması</li>\n",
    "</div>"
   ]
  },
  {
   "cell_type": "markdown",
   "metadata": {
    "id": "NRajOfbG6hL0"
   },
   "source": [
    "# Fonksiyonlar"
   ]
  },
  {
   "cell_type": "markdown",
   "metadata": {},
   "source": [
    "<div class=\"alert alert-box alert-info\" style=\"font-size:12pt; padding:15px; line-height:150%;\">\n",
    "    <li>fonksiyonlar sadece çağırıldıklarında çalışan kod bloklarıdır.</li>\n",
    "    <li>belirli bir görev parçacığını yerine getirmek için tasarlanırlar.</li>\n",
    "    <li>istenilen görevi yerine getirebilmek için parametre alabilirler.</li>\n",
    "    <li>istenilen görevi yerine getirdikten sonra bir sonuç döndürebilirler.</li>\n",
    "</div>"
   ]
  },
  {
   "cell_type": "code",
   "execution_count": null,
   "metadata": {
    "ExecuteTime": {
     "end_time": "2022-12-12T07:38:46.312723Z",
     "start_time": "2022-12-12T07:38:46.309401Z"
    },
    "executionInfo": {
     "elapsed": 959,
     "status": "ok",
     "timestamp": 1652950756833,
     "user": {
      "displayName": "Alper Aydın",
      "userId": "16424421511940582464"
     },
     "user_tz": -180
    },
    "id": "AkjtgzjZKyjX"
   },
   "outputs": [],
   "source": [
    "a = \"selam\"\n",
    "print(a)\n",
    "# fonksiyonu tanımladıktan sonra çalıştırdığımızda hiç bir işlem gerçekleşmez"
   ]
  },
  {
   "cell_type": "code",
   "execution_count": null,
   "metadata": {
    "ExecuteTime": {
     "end_time": "2022-12-12T07:38:55.676404Z",
     "start_time": "2022-12-12T07:38:55.673020Z"
    }
   },
   "outputs": [],
   "source": [
    "a = len(\"Merhaba\")\n",
    "print(a)"
   ]
  },
  {
   "cell_type": "code",
   "execution_count": null,
   "metadata": {
    "ExecuteTime": {
     "end_time": "2022-12-12T07:39:18.929114Z",
     "start_time": "2022-12-12T07:39:18.926268Z"
    }
   },
   "outputs": [],
   "source": [
    "a = print(\"selam\")\n",
    "print(a)"
   ]
  },
  {
   "cell_type": "code",
   "execution_count": null,
   "metadata": {
    "ExecuteTime": {
     "end_time": "2022-12-12T07:41:06.462769Z",
     "start_time": "2022-12-12T07:41:06.460117Z"
    }
   },
   "outputs": [],
   "source": [
    "def selamla():\n",
    "    print(\"selam\")\n",
    "    print(\"python\")\n",
    "    print(\"dünyası\")\n",
    "    \n",
    "    \n",
    "    #sadf\n"
   ]
  },
  {
   "cell_type": "code",
   "execution_count": null,
   "metadata": {
    "ExecuteTime": {
     "end_time": "2022-12-12T07:41:52.954821Z",
     "start_time": "2022-12-12T07:41:52.952130Z"
    },
    "colab": {
     "base_uri": "https://localhost:8080/"
    },
    "executionInfo": {
     "elapsed": 25,
     "status": "ok",
     "timestamp": 1652950756834,
     "user": {
      "displayName": "Alper Aydın",
      "userId": "16424421511940582464"
     },
     "user_tz": -180
    },
    "id": "QuXJs0rbK86R",
    "outputId": "1eb789a1-1e07-4f63-c280-d3874d54ae0a"
   },
   "outputs": [],
   "source": [
    "# tanımladığımız fonksiyonu çağırdığımızda içindeki kodu çalıştırır\n",
    "selamla()"
   ]
  },
  {
   "cell_type": "code",
   "execution_count": null,
   "metadata": {
    "ExecuteTime": {
     "end_time": "2022-12-12T07:41:57.924431Z",
     "start_time": "2022-12-12T07:41:57.921455Z"
    }
   },
   "outputs": [],
   "source": [
    "selamla()"
   ]
  },
  {
   "cell_type": "code",
   "execution_count": null,
   "metadata": {
    "ExecuteTime": {
     "end_time": "2022-12-12T07:42:02.418362Z",
     "start_time": "2022-12-12T07:42:02.415380Z"
    }
   },
   "outputs": [],
   "source": [
    "selamla()"
   ]
  },
  {
   "cell_type": "markdown",
   "metadata": {},
   "source": [
    "<div class=\"alert alert-box alert-info\" style=\"font-size:12pt; padding:15px; line-height:150%;\">\n",
    "    Fonksiyonlar iki ana bileşenden oluşur:<br/>\n",
    "    <ul>\n",
    "    <li><u>Fonksiyon imzası</u>\n",
    "        <ul>\n",
    "            <li>fonksiyon adı</li>\n",
    "            <li>fonksiyon parametreleri</li>\n",
    "            <li>fonksiyon kalıtım sınıfı</li>\n",
    "        </ul>\n",
    "    </li>\n",
    "    <li><u>Fonksiyon metini</u>\n",
    "        <ul>\n",
    "            <li>komut satırları</li>\n",
    "            <li>dönüş değeri</li>\n",
    "        </ul>\n",
    "    </li>\n",
    "    </ul>\n",
    "</div>"
   ]
  },
  {
   "cell_type": "markdown",
   "metadata": {},
   "source": [
    "## Fonksiyon İmzası"
   ]
  },
  {
   "cell_type": "markdown",
   "metadata": {},
   "source": [
    "### Fonksiyon adı"
   ]
  },
  {
   "cell_type": "code",
   "execution_count": null,
   "metadata": {
    "ExecuteTime": {
     "end_time": "2022-11-21T09:22:42.109125Z",
     "start_time": "2022-11-21T09:22:42.107185Z"
    }
   },
   "outputs": [],
   "source": [
    "def _import():\n",
    "    print('selam')\n"
   ]
  },
  {
   "cell_type": "markdown",
   "metadata": {},
   "source": [
    "<div class=\"alert alert-box alert-info\" style=\"font-size:12pt; padding:15px; line-height:150%;\">\n",
    "    Fonksiyonlar isimlendirmesinde değişkenlerin özellikleri geçerlidir.\n",
    "</div>"
   ]
  },
  {
   "cell_type": "markdown",
   "metadata": {},
   "source": [
    "**Değişkenlerin özellikleri**\n",
    "<li> değişken isimleri bir harf veya alt çizgi ile başlamalıdır\n",
    "<li> değişken isminin ilk harfi bir sayı olamaz\n",
    "<li> değişken isimleri sadece harf ve rakamlardan oluşabilir (A-z, 0-9, ve _)\n",
    "<li> değişken isimleri büyük/küçük harf duyarlıdır\n",
    "<li> Uzun isimli değişkenler \"_\" işareti ile birleştirilerek yazılır (snake_case, PEP8 standartı)\n",
    "    <p/>Örnek:     \n",
    "    \n",
    "```uzun_isimli_degisken = 123```\n",
    "    \n",
    "\n",
    "<li> Değişken isimleri Python özel kelimeleri olamaz\n"
   ]
  },
  {
   "cell_type": "markdown",
   "metadata": {},
   "source": [
    ".|.|.|.\n",
    ":-|:-|:-|:-\n",
    "False|def|if|raise\n",
    "None|del|import|return\n",
    "True|elif|in|try\n",
    "and|else|is|while\n",
    "as|except|lambda|with\n",
    "assert|finally|nonlocal|yield\n",
    "break|for|not\n",
    "class|from|or\n",
    "continue|global|pass"
   ]
  },
  {
   "cell_type": "markdown",
   "metadata": {
    "id": "bYFIj54I6kNe"
   },
   "source": [
    "### Parametreler"
   ]
  },
  {
   "cell_type": "code",
   "execution_count": null,
   "metadata": {
    "ExecuteTime": {
     "end_time": "2022-12-12T07:45:48.542238Z",
     "start_time": "2022-12-12T07:45:48.539047Z"
    }
   },
   "outputs": [],
   "source": [
    "def selamla():\n",
    "    print('selam')\n",
    "    \n",
    "selamla()"
   ]
  },
  {
   "cell_type": "code",
   "execution_count": null,
   "metadata": {
    "ExecuteTime": {
     "end_time": "2022-12-12T07:46:57.805437Z",
     "start_time": "2022-12-12T07:46:57.802531Z"
    },
    "colab": {
     "base_uri": "https://localhost:8080/"
    },
    "executionInfo": {
     "elapsed": 22,
     "status": "ok",
     "timestamp": 1652950756834,
     "user": {
      "displayName": "Alper Aydın",
      "userId": "16424421511940582464"
     },
     "user_tz": -180
    },
    "id": "3sw4ZQtI6m3t",
    "outputId": "c51327b1-70ea-4e6a-d685-19f2aa167e6a"
   },
   "outputs": [],
   "source": [
    "# parantezlerin içerisine fonksiyonun çalışırken kullanması istenen parametreleri girilebilir\n",
    "def selamla(mesaj):\n",
    "    print(mesaj)\n",
    "\n",
    "selamla(\"Merhaba Dünya\")\n",
    "selamla(\"Merhaba Python\")"
   ]
  },
  {
   "cell_type": "markdown",
   "metadata": {},
   "source": [
    "#### Birden fazla parametre"
   ]
  },
  {
   "cell_type": "code",
   "execution_count": null,
   "metadata": {
    "ExecuteTime": {
     "end_time": "2022-12-12T07:50:25.367454Z",
     "start_time": "2022-12-12T07:50:25.364681Z"
    }
   },
   "outputs": [],
   "source": [
    "print(range(1,5))\n",
    "print(range(10,15))"
   ]
  },
  {
   "cell_type": "code",
   "execution_count": null,
   "metadata": {
    "ExecuteTime": {
     "end_time": "2022-12-12T07:51:03.799909Z",
     "start_time": "2022-12-12T07:51:03.796879Z"
    },
    "colab": {
     "base_uri": "https://localhost:8080/"
    },
    "executionInfo": {
     "elapsed": 19,
     "status": "ok",
     "timestamp": 1652950756834,
     "user": {
      "displayName": "Alper Aydın",
      "userId": "16424421511940582464"
     },
     "user_tz": -180
    },
    "id": "XX5097a7Nps9",
    "outputId": "02686735-9a4c-4958-8a4a-f1c68381d7b5"
   },
   "outputs": [],
   "source": [
    "# birden fazla parametrenin gerekmesi durumunda virgül ile ayrılarak girilebilir\n",
    "def selamla(mesaj1, mesaj2):\n",
    "    print(mesaj1)\n",
    "    print(mesaj2)\n",
    "\n",
    "# parametreler fonksiyonda tanımlandıkları sıra ile çalışır\n",
    "selamla(\"Dünya\", \"Merhaba\")"
   ]
  },
  {
   "cell_type": "code",
   "execution_count": null,
   "metadata": {
    "ExecuteTime": {
     "end_time": "2022-12-12T07:52:36.477904Z",
     "start_time": "2022-12-12T07:52:36.474946Z"
    },
    "colab": {
     "base_uri": "https://localhost:8080/"
    },
    "executionInfo": {
     "elapsed": 17,
     "status": "ok",
     "timestamp": 1652950756834,
     "user": {
      "displayName": "Alper Aydın",
      "userId": "16424421511940582464"
     },
     "user_tz": -180
    },
    "id": "YmzSH2bgOD7A",
    "outputId": "79eab2d0-3ab0-40a8-94f4-fa2228ba80f2"
   },
   "outputs": [],
   "source": [
    "def selamla(mesaj1, Mesaj1):\n",
    "    print(mesaj1)\n",
    "    print(Mesaj1)\n",
    "\n",
    "# parametreler isimleri ile birlikte sırasız da çağırılabilir\n",
    "selamla(Mesaj1 = \"Merhaba\", mesaj1 = \"Dünya\")"
   ]
  },
  {
   "cell_type": "markdown",
   "metadata": {
    "id": "Q18X35JEOlfk"
   },
   "source": [
    "#### Parametrelerin özellikleri\n",
    "* python 3.7'den itibaren sınırsız sayıda parametre tanımlanabilir. (önceki versiyonlarda max 255)\n",
    "* değişkenler için kurallar parametreler için de geçerlidir. (a-Z, 1-9, '_', büyük küçük harf duyarlı)\n"
   ]
  },
  {
   "cell_type": "markdown",
   "metadata": {
    "id": "CpstQHz2QX53"
   },
   "source": [
    "#### Varsayılan Parametre Değerleri"
   ]
  },
  {
   "cell_type": "code",
   "execution_count": null,
   "metadata": {
    "ExecuteTime": {
     "end_time": "2022-12-12T07:54:22.396683Z",
     "start_time": "2022-12-12T07:54:22.394492Z"
    }
   },
   "outputs": [],
   "source": [
    "print(1,2, sep='-')"
   ]
  },
  {
   "cell_type": "code",
   "execution_count": null,
   "metadata": {
    "ExecuteTime": {
     "end_time": "2022-12-12T07:56:21.915006Z",
     "start_time": "2022-12-12T07:56:21.911639Z"
    },
    "executionInfo": {
     "elapsed": 16,
     "status": "ok",
     "timestamp": 1652950756836,
     "user": {
      "displayName": "Alper Aydın",
      "userId": "16424421511940582464"
     },
     "user_tz": -180
    },
    "id": "c-dybS0D6qJu"
   },
   "outputs": [],
   "source": [
    "def bilesik_faiz_hesapla(aylik_faiz=0.01, ay_sayisi=12):\n",
    "    \"\"\"\n",
    "    verilen anapara, faiz ve dönem sayısını kullanarak bileşik faiz hesaplar\n",
    "    aylik_faiz: krediye uygulanacak aylık faiz oranını gösterir, 0.02 şeklinde girilmelidir.\n",
    "    ay_sayisi: kredinin vade süresini gösterir, varsayılan değer 12'dir.\n",
    "    \"\"\"\n",
    "    \n",
    "    print('aylik_faiz:', aylik_faiz)\n",
    "    \n",
    "    print('ay sayısı:', ay_sayisi)\n",
    "    \n",
    "    bilesik_faiz = (1 + aylik_faiz) ** ay_sayisi - 1\n",
    "    \n",
    "    print(bilesik_faiz)"
   ]
  },
  {
   "cell_type": "code",
   "execution_count": null,
   "metadata": {
    "ExecuteTime": {
     "end_time": "2022-12-12T07:56:29.250239Z",
     "start_time": "2022-12-12T07:56:29.247632Z"
    },
    "colab": {
     "base_uri": "https://localhost:8080/"
    },
    "executionInfo": {
     "elapsed": 14,
     "status": "ok",
     "timestamp": 1652950756837,
     "user": {
      "displayName": "Alper Aydın",
      "userId": "16424421511940582464"
     },
     "user_tz": -180
    },
    "id": "S4IqaeNsbpak",
    "outputId": "a4328565-9d04-44f9-f13e-d60113bd380f"
   },
   "outputs": [],
   "source": [
    "bilesik_faiz_hesapla(0.01, 24)"
   ]
  },
  {
   "cell_type": "code",
   "execution_count": null,
   "metadata": {
    "ExecuteTime": {
     "end_time": "2022-12-12T07:56:43.293861Z",
     "start_time": "2022-12-12T07:56:43.291804Z"
    },
    "colab": {
     "base_uri": "https://localhost:8080/"
    },
    "executionInfo": {
     "elapsed": 15,
     "status": "ok",
     "timestamp": 1652950756836,
     "user": {
      "displayName": "Alper Aydın",
      "userId": "16424421511940582464"
     },
     "user_tz": -180
    },
    "id": "e-xUDkznb0mW",
    "outputId": "4652fc4d-9444-4b64-85f0-90023b19f484"
   },
   "outputs": [],
   "source": [
    "bilesik_faiz_hesapla()"
   ]
  },
  {
   "cell_type": "code",
   "execution_count": null,
   "metadata": {
    "ExecuteTime": {
     "end_time": "2022-12-12T07:57:07.646420Z",
     "start_time": "2022-12-12T07:57:07.643994Z"
    }
   },
   "outputs": [],
   "source": [
    "bilesik_faiz_hesapla(ay_sayisi=36)"
   ]
  },
  {
   "cell_type": "code",
   "execution_count": null,
   "metadata": {
    "ExecuteTime": {
     "end_time": "2022-12-12T07:57:32.189481Z",
     "start_time": "2022-12-12T07:57:32.187050Z"
    }
   },
   "outputs": [],
   "source": [
    "bilesik_faiz_hesapla(aylik_faiz=0.15)"
   ]
  },
  {
   "cell_type": "markdown",
   "metadata": {
    "id": "JGkBIrlOb6In"
   },
   "source": [
    "### Belirsiz Sayıda Parametre (*args)"
   ]
  },
  {
   "cell_type": "code",
   "execution_count": null,
   "metadata": {
    "ExecuteTime": {
     "end_time": "2022-12-12T07:59:26.125080Z",
     "start_time": "2022-12-12T07:59:26.120849Z"
    }
   },
   "outputs": [],
   "source": [
    "print(1,2,3,4,5,6,7,8,9,0,102123,123,123,123,123,123,123,12312323,564,46454,654987,65465,46546,464654)"
   ]
  },
  {
   "cell_type": "code",
   "execution_count": null,
   "metadata": {
    "ExecuteTime": {
     "end_time": "2022-12-12T08:02:50.641855Z",
     "start_time": "2022-12-12T08:02:50.638827Z"
    }
   },
   "outputs": [],
   "source": [
    "*y,x = [1,2,3,4,5,6,45,456,654,5463,7]\n",
    "print(y)"
   ]
  },
  {
   "cell_type": "code",
   "execution_count": null,
   "metadata": {
    "ExecuteTime": {
     "end_time": "2022-12-12T08:04:24.491911Z",
     "start_time": "2022-12-12T08:04:24.489071Z"
    },
    "executionInfo": {
     "elapsed": 12,
     "status": "ok",
     "timestamp": 1652950756837,
     "user": {
      "displayName": "Alper Aydın",
      "userId": "16424421511940582464"
     },
     "user_tz": -180
    },
    "id": "NpNj3Cn5caeg"
   },
   "outputs": [],
   "source": [
    "def topla(*rakamlar): # bir çok örnekde *args olarak görebiliriz, açılımı arguments 'dır'\n",
    "    toplam = 0\n",
    "    print(rakamlar)\n",
    "    for a in rakamlar:\n",
    "        toplam += a\n",
    "    print(toplam)"
   ]
  },
  {
   "cell_type": "code",
   "execution_count": null,
   "metadata": {
    "ExecuteTime": {
     "end_time": "2022-12-12T08:04:25.123192Z",
     "start_time": "2022-12-12T08:04:25.120820Z"
    },
    "colab": {
     "base_uri": "https://localhost:8080/"
    },
    "executionInfo": {
     "elapsed": 12,
     "status": "ok",
     "timestamp": 1652950756837,
     "user": {
      "displayName": "Alper Aydın",
      "userId": "16424421511940582464"
     },
     "user_tz": -180
    },
    "id": "T8wP2v-wcogC",
    "outputId": "2a69fb5f-8d32-4348-fed4-485ed35c8787"
   },
   "outputs": [],
   "source": [
    "topla(1,2,3)"
   ]
  },
  {
   "cell_type": "code",
   "execution_count": null,
   "metadata": {
    "ExecuteTime": {
     "end_time": "2022-12-12T08:01:48.618672Z",
     "start_time": "2022-12-12T08:01:48.614577Z"
    },
    "colab": {
     "base_uri": "https://localhost:8080/"
    },
    "executionInfo": {
     "elapsed": 10,
     "status": "ok",
     "timestamp": 1652950756837,
     "user": {
      "displayName": "Alper Aydın",
      "userId": "16424421511940582464"
     },
     "user_tz": -180
    },
    "id": "GrDx7S-WcpD5",
    "outputId": "fb7fb149-b9ea-458f-cd85-d1f43c572fd7"
   },
   "outputs": [],
   "source": [
    "topla(1,2,3,4,5,1231,123,123,1231,23,1231,231,23,123,123,123,123,123,12,312,31,231,231,23,123,123,123,12,31,231)"
   ]
  },
  {
   "cell_type": "markdown",
   "metadata": {
    "id": "uZLI29prdFvd"
   },
   "source": [
    "### Belirsiz Sayıda İsimli Parametre (named arguments) (**kwargs)\n",
    "\n",
    "çağırılan fonksiyona hangi parametrelerin geçileceğini bilmediğimiz durumlarda kullanılır."
   ]
  },
  {
   "cell_type": "code",
   "execution_count": null,
   "metadata": {
    "ExecuteTime": {
     "end_time": "2022-12-12T08:05:32.050304Z",
     "start_time": "2022-12-12T08:05:32.047831Z"
    }
   },
   "outputs": [],
   "source": [
    "print(123, sep='/', end='.')"
   ]
  },
  {
   "cell_type": "code",
   "execution_count": null,
   "metadata": {
    "ExecuteTime": {
     "end_time": "2022-12-12T08:05:54.332557Z",
     "start_time": "2022-12-12T08:05:54.330012Z"
    },
    "executionInfo": {
     "elapsed": 8,
     "status": "ok",
     "timestamp": 1652950756837,
     "user": {
      "displayName": "Alper Aydın",
      "userId": "16424421511940582464"
     },
     "user_tz": -180
    },
    "id": "pn3tW2JOdlt9"
   },
   "outputs": [],
   "source": [
    "def aksiyon_sec(**iskolu): # bir çok örnekde *kwargs olarak görebiliriz, açılımı keyword arguments 'dır\n",
    "    print(iskolu)\n",
    "    print(type(iskolu))\n",
    "    \n",
    "    for i in iskolu:\n",
    "        faiz = iskolu.get(i) #dictionary'deki key değerini okur\n",
    "        print(f'{i} işkolu için faiz oranı: {faiz}')"
   ]
  },
  {
   "cell_type": "code",
   "execution_count": null,
   "metadata": {
    "ExecuteTime": {
     "end_time": "2022-12-12T08:06:30.233975Z",
     "start_time": "2022-12-12T08:06:30.231634Z"
    },
    "colab": {
     "base_uri": "https://localhost:8080/"
    },
    "executionInfo": {
     "elapsed": 8,
     "status": "ok",
     "timestamp": 1652950756837,
     "user": {
      "displayName": "Alper Aydın",
      "userId": "16424421511940582464"
     },
     "user_tz": -180
    },
    "id": "5F-fPcQ3gsvM",
    "outputId": "6278f3bc-b056-4695-b211-f944da9587c5"
   },
   "outputs": [],
   "source": [
    "aksiyon_sec(TA=0.24)"
   ]
  },
  {
   "cell_type": "code",
   "execution_count": null,
   "metadata": {
    "ExecuteTime": {
     "end_time": "2022-12-12T08:08:06.539368Z",
     "start_time": "2022-12-12T08:08:06.536044Z"
    },
    "colab": {
     "base_uri": "https://localhost:8080/"
    },
    "executionInfo": {
     "elapsed": 926,
     "status": "ok",
     "timestamp": 1652950757757,
     "user": {
      "displayName": "Alper Aydın",
      "userId": "16424421511940582464"
     },
     "user_tz": -180
    },
    "id": "hMggvyG7gtFP",
    "outputId": "5f02b782-1831-4a4e-ca77-d7d5ee8affc3"
   },
   "outputs": [],
   "source": [
    "aksiyon_sec(TA=0.24, SA=0.25, BX=0.16)"
   ]
  },
  {
   "cell_type": "markdown",
   "metadata": {},
   "source": [
    "### Örnek 1\n"
   ]
  },
  {
   "cell_type": "code",
   "execution_count": null,
   "metadata": {
    "ExecuteTime": {
     "end_time": "2022-12-12T08:10:15.037656Z",
     "start_time": "2022-12-12T08:10:15.034041Z"
    }
   },
   "outputs": [],
   "source": [
    "def dilimle(**malzemeler):\n",
    "    for m in malzemeler.items():\n",
    "        print(m[0], 'malzemesi', m[1] , 'dilime bölündü')\n",
    "\n",
    "dilimle(Domates=5, Sogan=7, Biber=10)"
   ]
  },
  {
   "cell_type": "markdown",
   "metadata": {},
   "source": [
    "### Örnek 2"
   ]
  },
  {
   "cell_type": "code",
   "execution_count": null,
   "metadata": {
    "ExecuteTime": {
     "end_time": "2022-12-12T08:12:40.505547Z",
     "start_time": "2022-12-12T08:12:40.501386Z"
    }
   },
   "outputs": [],
   "source": [
    "def kampanya_oranlari(*iskollari):\n",
    "    \"\"\"\n",
    "        \n",
    "    \"\"\"\n",
    "    \n",
    "    for iskolu in iskollari:\n",
    "        \n",
    "        print(f'{iskolu}', end='\\t')\n",
    "        \n",
    "        if iskolu=='BB':\n",
    "            \n",
    "            print('kampanya var')\n",
    "            \n",
    "        else:\n",
    "            \n",
    "            print('kampanya yok')\n",
    "            \n",
    "\n",
    "kampanya_oranlari('TA','SA','SB','BB','K','O','D','E','X')"
   ]
  },
  {
   "cell_type": "markdown",
   "metadata": {},
   "source": [
    "### Örnek 3"
   ]
  },
  {
   "cell_type": "code",
   "execution_count": null,
   "metadata": {
    "ExecuteTime": {
     "end_time": "2022-12-12T08:16:56.747229Z",
     "start_time": "2022-12-12T08:16:56.743082Z"
    }
   },
   "outputs": [],
   "source": [
    "# alternatif örnek ------------------------------\n",
    "# baska_bir_dict = {'varsayilan_artis': 1.2}\n",
    "\n",
    "def ucret_artisi(isim, **kwargs):\n",
    "    \"\"\"\n",
    "    bu fonksiyon girilen gorev grubuna göre belirtilen ücret artışını yapar\n",
    "    kwargs: \n",
    "        mevcut: çalışanın mevcut ücretidir, varsayılan değer 10000'dir.\n",
    "        gorev_seviyesi: çalışanın görev seviyesi, 'uzman' görev seviyesi için çarpan katsayısı 1.5 alınır.\n",
    "        artis_orani: ucret artış oranı, varsayılan değer 1.20'dir. \n",
    "    \"\"\"\n",
    "    mevcut_ucret = kwargs.get('mevcut', 10000) # dictionary'nin key değerini ara, bulamazsan 10000 al\n",
    "    gorev_seviyesi = kwargs.get('gorev_seviyesi', 'bilinmiyor')\n",
    "    artis_orani = kwargs.get('artis_orani', 1.2)\n",
    "    \n",
    "    # alternatif örnekler ------------------------------------------------------\n",
    "    #artis_orani = kwargs.get('artis', baska_bir_dict.get('varsayilan_artis'))\n",
    "    #artis_orani = kwargs['artis'] if 'artis' in kwargs else 1\n",
    "    #artis_orani = kwargs.get('Yonetmen', kwargs.get('Uzman', 1))\n",
    "    # --------------------------------------------------------------------------\n",
    "    \n",
    "    carpan = 1.5 if gorev_seviyesi=='uzman' else 1\n",
    "    \n",
    "    artis_tutari = mevcut_ucret * (1+artis_orani) * carpan\n",
    "    \n",
    "    #print(gorev_seviyesi, mevcut_ucret, artis_orani)\n",
    "    print(f\"{isim} ({gorev_seviyesi})isimli personelin artış tutarı:\", artis_tutari-mevcut_ucret)\n"
   ]
  },
  {
   "cell_type": "code",
   "execution_count": null,
   "metadata": {
    "ExecuteTime": {
     "end_time": "2022-12-12T08:17:12.425410Z",
     "start_time": "2022-12-12T08:17:12.421809Z"
    }
   },
   "outputs": [],
   "source": [
    "for i in ('ahmet','mehmet','ayşe'):\n",
    "    ucret_artisi(isim=i, artis_orani=1.55)"
   ]
  },
  {
   "cell_type": "markdown",
   "metadata": {},
   "source": [
    "## Fonksiyon Metini"
   ]
  },
  {
   "cell_type": "markdown",
   "metadata": {},
   "source": [
    "### Docstring"
   ]
  },
  {
   "attachments": {
    "image.png": {
     "image/png": "[encoded data removed]"
    }
   },
   "cell_type": "markdown",
   "metadata": {},
   "source": [
    "![image.png](attachment:image.png)"
   ]
  },
  {
   "cell_type": "markdown",
   "metadata": {},
   "source": [
    "### Kod Satırları"
   ]
  },
  {
   "cell_type": "markdown",
   "metadata": {
    "id": "oVNr9EZ7g8tl"
   },
   "source": [
    "### Fonksiyonun Dönüş Değeri"
   ]
  },
  {
   "cell_type": "code",
   "execution_count": null,
   "metadata": {
    "ExecuteTime": {
     "end_time": "2022-12-12T08:44:07.089475Z",
     "start_time": "2022-12-12T08:44:07.086573Z"
    }
   },
   "outputs": [],
   "source": [
    "a = len('asdfasd')\n",
    "print(a)"
   ]
  },
  {
   "cell_type": "code",
   "execution_count": null,
   "metadata": {
    "ExecuteTime": {
     "end_time": "2022-12-12T08:44:07.455737Z",
     "start_time": "2022-12-12T08:44:07.452826Z"
    }
   },
   "outputs": [],
   "source": [
    "a = print('asdf')\n",
    "print(a)"
   ]
  },
  {
   "cell_type": "code",
   "execution_count": null,
   "metadata": {
    "ExecuteTime": {
     "end_time": "2022-12-12T08:44:55.813096Z",
     "start_time": "2022-12-12T08:44:55.804806Z"
    }
   },
   "outputs": [],
   "source": [
    "def topla(a,b):\n",
    "    toplam = a + b\n",
    "    print('sonuç:', toplam)  # return ifadesi ile fonksiyonun sonucu olarak toplama işleminin sonucu döndürülür\n",
    "    \n",
    "t = topla(1,2)\n",
    "print(t)\n",
    "print(type(t))\n",
    "print(toplam)"
   ]
  },
  {
   "cell_type": "markdown",
   "metadata": {},
   "source": [
    "Bir fonksiyonun sonucunu bir değişkene atamak istersek **return** komutunu kullanıyoruz"
   ]
  },
  {
   "cell_type": "code",
   "execution_count": null,
   "metadata": {
    "ExecuteTime": {
     "end_time": "2022-12-12T08:46:09.270969Z",
     "start_time": "2022-12-12T08:46:09.268286Z"
    },
    "executionInfo": {
     "elapsed": 266,
     "status": "ok",
     "timestamp": 1652978188084,
     "user": {
      "displayName": "Alper Aydın",
      "userId": "16424421511940582464"
     },
     "user_tz": -180
    },
    "id": "HLGRwYJdhMst"
   },
   "outputs": [],
   "source": [
    "def topla(a,b):\n",
    "    toplam = a + b\n",
    "    print('sonuç:', toplam)\n",
    "    return toplam  # return ifadesi ile fonksiyonun sonucu olarak toplama işleminin sonucu döndürülür"
   ]
  },
  {
   "cell_type": "code",
   "execution_count": null,
   "metadata": {
    "ExecuteTime": {
     "end_time": "2022-12-12T08:47:57.474829Z",
     "start_time": "2022-12-12T08:47:57.471954Z"
    },
    "colab": {
     "base_uri": "https://localhost:8080/"
    },
    "executionInfo": {
     "elapsed": 276,
     "status": "ok",
     "timestamp": 1652979155349,
     "user": {
      "displayName": "Alper Aydın",
      "userId": "16424421511940582464"
     },
     "user_tz": -180
    },
    "id": "rsXFu12NoYS4",
    "outputId": "8acb4a73-5cb1-46cb-cefc-4602b0a811ce"
   },
   "outputs": [],
   "source": [
    "# sonuç döndüren fonksiyonlar bir değişkene atanabilir\n",
    "c = topla(1,2)\n",
    "print(c)"
   ]
  },
  {
   "cell_type": "markdown",
   "metadata": {},
   "source": [
    "### Örnek 1"
   ]
  },
  {
   "cell_type": "code",
   "execution_count": null,
   "metadata": {
    "ExecuteTime": {
     "end_time": "2022-12-12T08:47:03.883590Z",
     "start_time": "2022-12-12T08:47:03.880349Z"
    },
    "executionInfo": {
     "elapsed": 278,
     "status": "ok",
     "timestamp": 1652979170999,
     "user": {
      "displayName": "Alper Aydın",
      "userId": "16424421511940582464"
     },
     "user_tz": -180
    },
    "id": "QDpNKYHQoi7j"
   },
   "outputs": [],
   "source": [
    "def topla(a,b):\n",
    "    return a + b\n",
    "\n",
    "def cikart(a,b):\n",
    "    return a - b\n",
    "\n",
    "def carp(a,b):\n",
    "    return a * b\n",
    "\n",
    "def bol(a,b):\n",
    "    return a / b"
   ]
  },
  {
   "cell_type": "code",
   "execution_count": null,
   "metadata": {
    "ExecuteTime": {
     "end_time": "2022-12-12T08:47:23.864674Z",
     "start_time": "2022-12-12T08:47:23.861042Z"
    },
    "colab": {
     "base_uri": "https://localhost:8080/"
    },
    "executionInfo": {
     "elapsed": 4,
     "status": "ok",
     "timestamp": 1652979171472,
     "user": {
      "displayName": "Alper Aydın",
      "userId": "16424421511940582464"
     },
     "user_tz": -180
    },
    "id": "ibmNOWHZoyEN",
    "outputId": "fc70cfe3-15e5-4bc4-c19f-02400c02f709"
   },
   "outputs": [],
   "source": [
    "x = topla(4, 5)\n",
    "y = cikart(6, 2)\n",
    "z = carp(5, 2)\n",
    "w = bol(4, 2)\n",
    "\n",
    "print(x,y,z,w)"
   ]
  },
  {
   "cell_type": "code",
   "execution_count": null,
   "metadata": {},
   "outputs": [],
   "source": []
  },
  {
   "cell_type": "markdown",
   "metadata": {},
   "source": [
    "### Örnek 2"
   ]
  },
  {
   "cell_type": "code",
   "execution_count": null,
   "metadata": {
    "ExecuteTime": {
     "end_time": "2022-11-21T11:26:27.763426Z",
     "start_time": "2022-11-21T11:26:27.759577Z"
    }
   },
   "outputs": [],
   "source": [
    "# dört işlemi gerçekleştirebileceğimiz bir hesap makinesi yapmak\n",
    "# topla, çıkart, çarp, böl\n",
    "def topla(*a):\n",
    "    \"\"\"\n",
    "    toplama işlemi, belirsiz sayıda parametre alabilir\n",
    "    \"\"\"\n",
    "    toplam = 0\n",
    "    for s in a:\n",
    "        toplam = toplam + s\n",
    "    return toplam\n",
    "\n",
    "def cikart(a,b):\n",
    "    fark = a-b\n",
    "    return fark\n",
    "\n",
    "def carp(*a):\n",
    "    carpim = 1\n",
    "    for s in a:\n",
    "        carpim = carpim * s\n",
    "    return carpim\n",
    "\n",
    "def bolme(a,b):\n",
    "    bolum = a/b\n",
    "    return bolum\n",
    "\n"
   ]
  },
  {
   "cell_type": "code",
   "execution_count": null,
   "metadata": {
    "ExecuteTime": {
     "end_time": "2022-11-21T11:28:05.444427Z",
     "start_time": "2022-11-21T11:28:05.442136Z"
    }
   },
   "outputs": [],
   "source": [
    "d = carp(2,3,5,6,8,10)\n",
    "print(d)"
   ]
  },
  {
   "cell_type": "code",
   "execution_count": null,
   "metadata": {},
   "outputs": [],
   "source": []
  },
  {
   "cell_type": "code",
   "execution_count": null,
   "metadata": {},
   "outputs": [],
   "source": []
  },
  {
   "cell_type": "code",
   "execution_count": null,
   "metadata": {},
   "outputs": [],
   "source": []
  },
  {
   "cell_type": "markdown",
   "metadata": {
    "id": "VY_5nd9C6m_8"
   },
   "source": [
    "### Recursive Fonksiyonlar"
   ]
  },
  {
   "cell_type": "code",
   "execution_count": null,
   "metadata": {
    "ExecuteTime": {
     "end_time": "2022-09-13T10:48:19.222010Z",
     "start_time": "2022-09-13T10:48:19.218288Z"
    }
   },
   "outputs": [],
   "source": [
    "sonuc = 1\n",
    "for i in range(5, 0, -1):\n",
    "    sonuc = sonuc * i\n",
    "sonuc"
   ]
  },
  {
   "cell_type": "code",
   "execution_count": null,
   "metadata": {
    "ExecuteTime": {
     "end_time": "2022-09-13T10:50:49.080399Z",
     "start_time": "2022-09-13T10:50:49.074291Z"
    },
    "colab": {
     "base_uri": "https://localhost:8080/"
    },
    "executionInfo": {
     "elapsed": 15,
     "status": "ok",
     "timestamp": 1652950757758,
     "user": {
      "displayName": "Alper Aydın",
      "userId": "16424421511940582464"
     },
     "user_tz": -180
    },
    "id": "JTwVLOpLpXKU",
    "outputId": "87e70d94-697b-4efe-e26d-4ef8331b1027"
   },
   "outputs": [],
   "source": [
    "def faktoriyel(n):\n",
    "    if n == 0:\n",
    "        return 1\n",
    "\n",
    "    else:\n",
    "        print('n:', n)\n",
    "        f = faktoriyel(n-1)\n",
    "        print('f:', f)\n",
    "        return n * f\n",
    "\n",
    "faktoriyel(5)"
   ]
  },
  {
   "cell_type": "markdown",
   "metadata": {
    "id": "1Mg5gW3PvPHu"
   },
   "source": [
    "### Lambda fonksiyonu\n",
    "\n",
    "* lambda fonksiyonlar küçük anonim fonksiyonlardır.\n",
    "* tek bir ifadeden oluşabilir, çok satırlı ifadelere izin verilmez\n",
    "* otomatik olarak return değeri döndürür"
   ]
  },
  {
   "cell_type": "code",
   "execution_count": null,
   "metadata": {
    "ExecuteTime": {
     "end_time": "2022-12-12T08:52:43.556900Z",
     "start_time": "2022-12-12T08:52:43.553724Z"
    }
   },
   "outputs": [],
   "source": [
    "fn = lambda a: a**2\n",
    "ret = fn(3)\n",
    "print(ret)"
   ]
  },
  {
   "cell_type": "code",
   "execution_count": null,
   "metadata": {
    "ExecuteTime": {
     "end_time": "2022-12-12T08:53:42.984225Z",
     "start_time": "2022-12-12T08:53:42.981517Z"
    },
    "executionInfo": {
     "elapsed": 14,
     "status": "ok",
     "timestamp": 1652950757758,
     "user": {
      "displayName": "Alper Aydın",
      "userId": "16424421511940582464"
     },
     "user_tz": -180
    },
    "id": "hEsmNz-RvTXy"
   },
   "outputs": [],
   "source": [
    "topla = lambda *a, b, c, d: sum(a) + b + c + d"
   ]
  },
  {
   "cell_type": "code",
   "execution_count": null,
   "metadata": {
    "ExecuteTime": {
     "end_time": "2022-12-12T08:53:43.859116Z",
     "start_time": "2022-12-12T08:53:43.855598Z"
    },
    "colab": {
     "base_uri": "https://localhost:8080/"
    },
    "executionInfo": {
     "elapsed": 14,
     "status": "ok",
     "timestamp": 1652950757758,
     "user": {
      "displayName": "Alper Aydın",
      "userId": "16424421511940582464"
     },
     "user_tz": -180
    },
    "id": "arSjzGuivvn4",
    "outputId": "ad964a52-4494-4555-c86a-cef0f9955e8e"
   },
   "outputs": [],
   "source": [
    "topla(2,3,4, b=4, c=1, d=9)"
   ]
  },
  {
   "cell_type": "markdown",
   "metadata": {
    "id": "qYxQ8ZZowcmJ"
   },
   "source": [
    "lambda fonksiyonu içine tek satır koşul yazılabilir"
   ]
  },
  {
   "cell_type": "code",
   "execution_count": null,
   "metadata": {
    "ExecuteTime": {
     "end_time": "2022-12-12T08:54:28.337695Z",
     "start_time": "2022-12-12T08:54:28.335022Z"
    },
    "executionInfo": {
     "elapsed": 13,
     "status": "ok",
     "timestamp": 1652950757758,
     "user": {
      "displayName": "Alper Aydın",
      "userId": "16424421511940582464"
     },
     "user_tz": -180
    },
    "id": "S2nSqj0VwFy2"
   },
   "outputs": [],
   "source": [
    "bolme = lambda a,b: 'tanımsız' if b==0 else a/b"
   ]
  },
  {
   "cell_type": "code",
   "execution_count": null,
   "metadata": {
    "ExecuteTime": {
     "end_time": "2022-12-12T08:54:28.781756Z",
     "start_time": "2022-12-12T08:54:28.778488Z"
    },
    "colab": {
     "base_uri": "https://localhost:8080/"
    },
    "executionInfo": {
     "elapsed": 13,
     "status": "ok",
     "timestamp": 1652950757758,
     "user": {
      "displayName": "Alper Aydın",
      "userId": "16424421511940582464"
     },
     "user_tz": -180
    },
    "id": "bwpw-XAJwZAc",
    "outputId": "9eb23586-8e78-4b98-e385-1a23d6fea8cb"
   },
   "outputs": [],
   "source": [
    "bolme(4,2)"
   ]
  },
  {
   "cell_type": "code",
   "execution_count": null,
   "metadata": {
    "ExecuteTime": {
     "end_time": "2022-12-12T08:54:46.364620Z",
     "start_time": "2022-12-12T08:54:46.361356Z"
    },
    "colab": {
     "base_uri": "https://localhost:8080/"
    },
    "executionInfo": {
     "elapsed": 13,
     "status": "ok",
     "timestamp": 1652950757759,
     "user": {
      "displayName": "Alper Aydın",
      "userId": "16424421511940582464"
     },
     "user_tz": -180
    },
    "id": "_J9pw0OdwZ6Z",
    "outputId": "22f64362-1632-4508-dd68-ab9e1b74ab58"
   },
   "outputs": [],
   "source": [
    "bolme(4,0)"
   ]
  },
  {
   "cell_type": "code",
   "execution_count": null,
   "metadata": {
    "ExecuteTime": {
     "end_time": "2022-12-12T08:55:03.219718Z",
     "start_time": "2022-12-12T08:55:03.216910Z"
    }
   },
   "outputs": [],
   "source": [
    "ikinin_katlari = lambda a: [i for i in range(a+1) if i%2==0]"
   ]
  },
  {
   "cell_type": "code",
   "execution_count": null,
   "metadata": {
    "ExecuteTime": {
     "end_time": "2022-12-12T08:55:24.350131Z",
     "start_time": "2022-12-12T08:55:24.346788Z"
    }
   },
   "outputs": [],
   "source": [
    "ikinin_katlari(10)"
   ]
  },
  {
   "cell_type": "markdown",
   "metadata": {},
   "source": [
    "### Listelerdeki filtreleme örneği"
   ]
  },
  {
   "cell_type": "markdown",
   "metadata": {},
   "source": [
    "http://gbjpyp201/user/alperayd/notebooks/_Projects/PythonTutorial/v2/Python101_07_VeriTipleri-Listeler.ipynb#Filtreleme"
   ]
  },
  {
   "cell_type": "markdown",
   "metadata": {
    "id": "DQ1wSJrZCsI7"
   },
   "source": [
    "### Değişken Türleri"
   ]
  },
  {
   "cell_type": "code",
   "execution_count": null,
   "metadata": {
    "ExecuteTime": {
     "end_time": "2022-12-12T08:58:03.536404Z",
     "start_time": "2022-12-12T08:58:03.528967Z"
    },
    "colab": {
     "base_uri": "https://localhost:8080/"
    },
    "executionInfo": {
     "elapsed": 12,
     "status": "ok",
     "timestamp": 1652950757759,
     "user": {
      "displayName": "Alper Aydın",
      "userId": "16424421511940582464"
     },
     "user_tz": -180
    },
    "id": "-MpH6JpSCv_x",
    "outputId": "7018e80a-9b0c-44f6-f98f-7c6fa0d27ffc"
   },
   "outputs": [],
   "source": [
    "\n",
    "def topla(a, b):\n",
    "    ictoplam = a + b\n",
    "    print(hex(id(ictoplam)))\n",
    "    return ictoplam\n",
    "\n",
    "print(topla(2,3))\n",
    "print(hex(id(ictoplam)))\n",
    "print(ictoplam)\n"
   ]
  },
  {
   "cell_type": "markdown",
   "metadata": {
    "id": "86JjieZZDKUW"
   },
   "source": [
    "#### local/global değişkenler"
   ]
  },
  {
   "cell_type": "code",
   "execution_count": null,
   "metadata": {
    "ExecuteTime": {
     "end_time": "2022-12-12T09:00:06.484723Z",
     "start_time": "2022-12-12T09:00:06.480831Z"
    },
    "colab": {
     "base_uri": "https://localhost:8080/"
    },
    "executionInfo": {
     "elapsed": 11,
     "status": "ok",
     "timestamp": 1652950757759,
     "user": {
      "displayName": "Alper Aydın",
      "userId": "16424421511940582464"
     },
     "user_tz": -180
    },
    "id": "pLQXX19mDMfb",
    "outputId": "9876d0e8-d99b-4fa5-92c2-04cbcf6eb507"
   },
   "outputs": [],
   "source": [
    "c = 1\n",
    "\n",
    "def topla(a, b):\n",
    "    # c değişkeni bu fonksiyonda local olarak tanımlanmaktaıdır\n",
    "    # fonksiyon dışında bir geçerliliği kalmaz\n",
    "    c = a + b\n",
    "    print('local c:', c)\n",
    "    return c\n",
    "\n",
    "\n",
    "print('global c:', c)\n",
    "topla(2,3)\n",
    "print('global c:', c)\n"
   ]
  },
  {
   "cell_type": "code",
   "execution_count": null,
   "metadata": {
    "ExecuteTime": {
     "end_time": "2022-12-12T09:02:06.544392Z",
     "start_time": "2022-12-12T09:02:06.540114Z"
    },
    "colab": {
     "base_uri": "https://localhost:8080/"
    },
    "executionInfo": {
     "elapsed": 10,
     "status": "ok",
     "timestamp": 1652950757759,
     "user": {
      "displayName": "Alper Aydın",
      "userId": "16424421511940582464"
     },
     "user_tz": -180
    },
    "id": "jIFUlR3xDRHM",
    "outputId": "a8c403ce-c9e7-4fd8-dcc0-51605f3bf760"
   },
   "outputs": [],
   "source": [
    "d = 1\n",
    "\n",
    "def topla(a, b):\n",
    "    # burada ise c değişkeni global olarak tanımlanmaktaıdır\n",
    "    # fonksiyon dışında da geçerliliğini sürdürür\n",
    "    global d\n",
    "    d = a + b\n",
    "    print('local (global ile tanımlanan) d:', d)\n",
    "    return d\n",
    "\n",
    "\n",
    "print('global d:', d)\n",
    "topla(2,3)\n",
    "print('global d:', d)"
   ]
  },
  {
   "cell_type": "markdown",
   "metadata": {
    "id": "feV2P3CH0i6R"
   },
   "source": [
    "# Python Gömülü Fonksiyonlar\n",
    "\n",
    "Python ile birlikte gelen, ilave bir kütüphane yüklemeye gerek olmadan çalışan fonksiyonlardır.\n"
   ]
  },
  {
   "cell_type": "markdown",
   "metadata": {
    "id": "xhvLcwfA4mPk"
   },
   "source": [
    "<table>\n",
    "<thead><td><b>fonksiyon<b/></td><td>açıklama</thead>\n",
    "<tr><td><b>abs()<b/></td><td>Returns the absolute value of a number\n",
    "<tr><td><b>all()<b/></td><td>Returns True if all items in an iterable object are true\n",
    "<tr><td><b>any()<b/></td><td>Returns True if any item in an iterable object is true\n",
    "<tr><td><b>ascii()<b/></td><td>Returns a readable version of an object. Replaces none-ascii characters with escape character\n",
    "<tr><td><b>bin()<b/></td><td>Returns the binary version of a number\n",
    "<tr><td><b>bool()<b/></td><td>Returns the boolean value of the specified object\n",
    "<tr><td><b>bytearray()<b/></td><td>Returns an array of bytes\n",
    "<tr><td><b>bytes()<b/></td><td>Returns a bytes object\n",
    "<tr><td><b>callable()<b/></td><td>Returns True if the specified object is callable, otherwise False\n",
    "<tr><td><b>chr()<b/></td><td>Returns a character from the specified Unicode code.\n",
    "<tr><td><b>classmethod()<b/></td><td>Converts a method into a class method\n",
    "<tr><td><b>compile()<b/></td><td>Returns the specified source as an object, ready to be executed\n",
    "<tr><td><b>complex()<b/></td><td>Returns a complex number\n",
    "<tr><td><b>delattr()<b/></td><td>Deletes the specified attribute (property or method) from the specified object\n",
    "<tr><td><b>dict()<b/></td><td>Returns a dictionary (Array)\n",
    "<tr><td><b>dir()<b/></td><td>Returns a list of the specified object's properties and methods\n",
    "<tr><td><b>divmod()<b/></td><td>Returns the quotient and the remainder when argument1 is divided by argument2\n",
    "<tr><td><b>enumerate()<b/></td><td>Takes a collection (e.g. a tuple) and returns it as an enumerate object\n",
    "<tr><td><b>eval()<b/></td><td>Evaluates and executes an expression\n",
    "<tr><td><b>exec()<b/></td><td>Executes the specified code (or object)\n",
    "<tr><td><b>filter()<b/></td><td>Use a filter function to exclude items in an iterable object\n",
    "<tr><td><b>float()<b/></td><td>Returns a floating point number\n",
    "<tr><td><b>format()<b/></td><td>Formats a specified value\n",
    "<tr><td><b>frozenset()<b/></td><td>Returns a frozenset object\n",
    "<tr><td><b>getattr()<b/></td><td>Returns the value of the specified attribute (property or method)\n",
    "<tr><td><b>globals()<b/></td><td>Returns the current global symbol table as a dictionary\n",
    "<tr><td><b>hasattr()<b/></td><td>Returns True if the specified object has the specified attribute (property/method)\n",
    "<tr><td><b>hash()<b/></td><td>Returns the hash value of a specified object\n",
    "<tr><td><b>help()<b/></td><td>Executes the built-in help system\n",
    "<tr><td><b>hex()<b/></td><td>Converts a number into a hexadecimal value\n",
    "<tr><td><b>id()<b/></td><td>Returns the id of an object\n",
    "<tr><td><b>input()<b/></td><td>Allowing user input\n",
    "<tr><td><b>int()<b/></td><td>Returns an integer number\n",
    "<tr><td><b>isinstance()<b/></td><td>Returns True if a specified object is an instance of a specified object\n",
    "<tr><td><b>issubclass()<b/></td><td>Returns True if a specified class is a subclass of a specified object\n",
    "<tr><td><b>iter()<b/></td><td>Returns an iterator object\n",
    "<tr><td><b>len()<b/></td><td>Returns the length of an object\n",
    "<tr><td><b>list()<b/></td><td>Returns a list\n",
    "<tr><td><b>locals()<b/></td><td>Returns an updated dictionary of the current local symbol table\n",
    "<tr><td><b>map()<b/></td><td>Returns the specified iterator with the specified function applied to each item\n",
    "<tr><td><b>max()<b/></td><td>Returns the largest item in an iterable\n",
    "<tr><td><b>memoryview()<b/></td><td>Returns a memory view object\n",
    "<tr><td><b>min()<b/></td><td>Returns the smallest item in an iterable\n",
    "<tr><td><b>next()<b/></td><td>Returns the next item in an iterable\n",
    "<tr><td><b>object()<b/></td><td>Returns a new object\n",
    "<tr><td><b>oct()<b/></td><td>Converts a number into an octal\n",
    "<tr><td><b>open()<b/></td><td>Opens a file and returns a file object\n",
    "<tr><td><b>ord()<b/></td><td>Convert an integer representing the Unicode of the specified character\n",
    "<tr><td><b>pow()<b/></td><td>Returns the value of x to the power of y\n",
    "<tr><td><b>print()<b/></td><td>Prints to the standard output device\n",
    "<tr><td><b>property()<b/></td><td>Gets, sets, deletes a property\n",
    "<tr><td><b>range()<b/></td><td>Returns a sequence of numbers, starting from 0 and increments by 1 (by default)\n",
    "<tr><td><b>repr()<b/></td><td>Returns a readable version of an object\n",
    "<tr><td><b>reversed()<b/></td><td>Returns a reversed iterator\n",
    "<tr><td><b>round()<b/></td><td>Rounds a numbers\n",
    "<tr><td><b>set()<b/></td><td>Returns a new set object\n",
    "<tr><td><b>setattr()<b/></td><td>Sets an attribute (property/method) of an object\n",
    "<tr><td><b>slice()<b/></td><td>Returns a slice object\n",
    "<tr><td><b>sorted()<b/></td><td>Returns a sorted list\n",
    "<tr><td><b>staticmethod()<b/></td><td>Converts a method into a static method\n",
    "<tr><td><b>str()<b/></td><td>Returns a string object\n",
    "<tr><td><b>sum()<b/></td><td>Sums the items of an iterator\n",
    "<tr><td><b>super()<b/></td><td>Returns an object that represents the parent class\n",
    "<tr><td><b>tuple()<b/></td><td>Returns a tuple\n",
    "<tr><td><b>type()<b/></td><td>Returns the type of an object\n",
    "<tr><td><b>vars()<b/></td><td>Returns the __dict__ property of an object\n",
    "<tr><td><b>zip()<b/></td><td>Returns an iterator, from two or more iterators\n",
    "</table>"
   ]
  },
  {
   "cell_type": "code",
   "execution_count": null,
   "metadata": {
    "ExecuteTime": {
     "end_time": "2022-12-12T09:04:02.520171Z",
     "start_time": "2022-12-12T09:04:02.516098Z"
    }
   },
   "outputs": [],
   "source": [
    "help(zip)"
   ]
  },
  {
   "cell_type": "markdown",
   "metadata": {},
   "source": [
    "### Gömülü fonksiyonların bozulması durumunda : Kernel restart"
   ]
  },
  {
   "cell_type": "code",
   "execution_count": null,
   "metadata": {
    "ExecuteTime": {
     "end_time": "2022-12-12T09:05:14.083011Z",
     "start_time": "2022-12-12T09:05:14.080684Z"
    }
   },
   "outputs": [],
   "source": [
    "def print():\n",
    "    print(123)\n",
    "    "
   ]
  },
  {
   "cell_type": "code",
   "execution_count": null,
   "metadata": {
    "ExecuteTime": {
     "end_time": "2022-12-12T09:05:30.437998Z",
     "start_time": "2022-12-12T09:05:30.435066Z"
    }
   },
   "outputs": [],
   "source": [
    "print('Asdfas')"
   ]
  },
  {
   "cell_type": "markdown",
   "metadata": {},
   "source": [
    "# Quiz"
   ]
  },
  {
   "cell_type": "code",
   "execution_count": null,
   "metadata": {
    "ExecuteTime": {
     "end_time": "2022-07-23T12:24:17.753307Z",
     "start_time": "2022-07-23T12:23:35.805128Z"
    }
   },
   "outputs": [],
   "source": [
    "import log\n",
    "import imp\n",
    "imp.reload(log)\n",
    "log.topic_id=\"12_Fonksiyonlar\"\n",
    "log.Quiz()"
   ]
  }
 ],
 "metadata": {
  "kernelspec": {
   "display_name": "Python 3",
   "language": "python",
   "name": "python3"
  },
  "language_info": {
   "codemirror_mode": {
    "name": "ipython",
    "version": 3
   },
   "file_extension": ".py",
   "mimetype": "text/x-python",
   "name": "python",
   "nbconvert_exporter": "python",
   "pygments_lexer": "ipython3",
   "version": "3.7.6"
  },
  "toc": {
   "base_numbering": 1,
   "nav_menu": {},
   "number_sections": true,
   "sideBar": true,
   "skip_h1_title": false,
   "title_cell": "Table of Contents",
   "title_sidebar": "Contents",
   "toc_cell": false,
   "toc_position": {},
   "toc_section_display": true,
   "toc_window_display": true
  },
  "varInspector": {
   "cols": {
    "lenName": 16,
    "lenType": 16,
    "lenVar": 40
   },
   "kernels_config": {
    "python": {
     "delete_cmd_postfix": "",
     "delete_cmd_prefix": "del ",
     "library": "var_list.py",
     "varRefreshCmd": "print(var_dic_list())"
    },
    "r": {
     "delete_cmd_postfix": ") ",
     "delete_cmd_prefix": "rm(",
     "library": "var_list.r",
     "varRefreshCmd": "cat(var_dic_list()) "
    }
   },
   "types_to_exclude": [
    "module",
    "function",
    "builtin_function_or_method",
    "instance",
    "_Feature"
   ],
   "window_display": true
  }
 },
 "nbformat": 4,
 "nbformat_minor": 4
}
