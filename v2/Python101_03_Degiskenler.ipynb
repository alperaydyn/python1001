{
 "cells": [
  {
   "cell_type": "code",
   "execution_count": null,
   "metadata": {
    "ExecuteTime": {
     "end_time": "2022-12-05T11:46:33.112827Z",
     "start_time": "2022-12-05T11:46:33.110122Z"
    }
   },
   "outputs": [],
   "source": [
    "import sys\n",
    "sys.path.append('/data/ECS/PythonTutorial/')\n",
    "import log\n",
    "log.topic_id = '03_Degiskenler'"
   ]
  },
  {
   "cell_type": "markdown",
   "metadata": {},
   "source": [
    "<div class=\"alert alert-box\" style=\"font-size:12pt; padding:15px; line-height:150%; background-color:#33bbcc66; \">\n",
    "    Bu dersin amacı;\n",
    "    <li>Değişken kavramının ne olduğunu öğrenmek</li>\n",
    "    <li>Değişkenlerin özellikleri ve işlemleri hakkında bilgi sahibi olmak</li>\n",
    "    <li>Değişkenlerde referans kavramı hakkında bilgi sahibi olmak\n",
    "</div>"
   ]
  },
  {
   "cell_type": "markdown",
   "metadata": {
    "id": "fxFh5flrbXmu"
   },
   "source": [
    "# Hello World"
   ]
  },
  {
   "cell_type": "code",
   "execution_count": null,
   "metadata": {
    "ExecuteTime": {
     "end_time": "2022-12-05T11:18:48.660598Z",
     "start_time": "2022-12-05T11:18:48.657947Z"
    },
    "id": "xKk5UtgvbVLJ"
   },
   "outputs": [],
   "source": [
    "# python ile ilk etkileşim - comment satırı\n",
    "print('Hello World')"
   ]
  },
  {
   "cell_type": "code",
   "execution_count": null,
   "metadata": {
    "ExecuteTime": {
     "end_time": "2022-12-05T11:18:50.207677Z",
     "start_time": "2022-12-05T11:18:50.204994Z"
    },
    "id": "ujU44ar1bthh"
   },
   "outputs": [],
   "source": [
    "print('Merhaba Dünya')"
   ]
  },
  {
   "cell_type": "markdown",
   "metadata": {
    "id": "L-TFAjZMHi2B"
   },
   "source": [
    "# Değişkenler\n",
    "\n",
    "<div class=\"alert alert-box alert-info\" style=\"font-size:14pt; padding:15px; line-height:150%\">\n",
    "    Değişkenler, yazdığımız program içerisinde belirli değerleri depolamak, üzerlerinde işlem yapmak, ve tekrar kullanmak üzere bilgisayarın belleğinde ayırdığımız alanları temsil etmektedir.\n",
    "</div>"
   ]
  },
  {
   "cell_type": "code",
   "execution_count": null,
   "metadata": {
    "ExecuteTime": {
     "end_time": "2022-12-05T11:20:25.551126Z",
     "start_time": "2022-12-05T11:20:25.548204Z"
    },
    "id": "DNsTCdPaHlV3"
   },
   "outputs": [],
   "source": [
    "mesaj = \"bu bir kullanıcı mesajıdır\"\n",
    "print(mesaj)"
   ]
  },
  {
   "cell_type": "code",
   "execution_count": null,
   "metadata": {
    "ExecuteTime": {
     "end_time": "2022-12-05T11:21:05.243489Z",
     "start_time": "2022-12-05T11:21:05.238578Z"
    }
   },
   "outputs": [],
   "source": [
    "print(id(mesaj))\n",
    "print(hex(id(mesaj)))"
   ]
  },
  {
   "cell_type": "code",
   "execution_count": null,
   "metadata": {
    "ExecuteTime": {
     "end_time": "2022-12-05T11:22:42.745788Z",
     "start_time": "2022-12-05T11:22:42.739778Z"
    },
    "id": "rl0tn6wHICeq"
   },
   "outputs": [],
   "source": [
    "mesaj = \"bu da bir başka kullanıcı mesajıdır\"\n",
    "print(mesaj)"
   ]
  },
  {
   "cell_type": "code",
   "execution_count": null,
   "metadata": {
    "ExecuteTime": {
     "end_time": "2022-12-05T11:22:44.120804Z",
     "start_time": "2022-12-05T11:22:44.118165Z"
    }
   },
   "outputs": [],
   "source": [
    "print(id(mesaj))\n",
    "print(hex(id(mesaj)))"
   ]
  },
  {
   "cell_type": "code",
   "execution_count": null,
   "metadata": {
    "ExecuteTime": {
     "end_time": "2022-12-05T11:23:52.822351Z",
     "start_time": "2022-12-05T11:23:52.819894Z"
    },
    "id": "JZUkr7mtIGRD"
   },
   "outputs": [],
   "source": [
    "Mesaj = \"bu ise başka bir MESAJ'dır\"\n",
    "print(mesaj) # bu değişken tamamı küçük harften oluşmaktadır"
   ]
  },
  {
   "cell_type": "code",
   "execution_count": null,
   "metadata": {
    "ExecuteTime": {
     "end_time": "2022-12-05T11:24:10.252869Z",
     "start_time": "2022-12-05T11:24:10.248269Z"
    },
    "id": "-uuhMSnnIJv_"
   },
   "outputs": [],
   "source": [
    "print(Mesaj) # bu değişken ise ilk harfi büyüktür"
   ]
  },
  {
   "cell_type": "code",
   "execution_count": null,
   "metadata": {
    "ExecuteTime": {
     "end_time": "2022-12-05T11:24:15.612607Z",
     "start_time": "2022-12-05T11:24:15.609979Z"
    }
   },
   "outputs": [],
   "source": [
    "print(id(Mesaj))\n",
    "print(hex(id(Mesaj)))"
   ]
  },
  {
   "cell_type": "markdown",
   "metadata": {
    "id": "5TcVs_9fJCFm"
   },
   "source": [
    "## Değişkenlerin özellikleri\n",
    "\n",
    "<div class=\"alert alert-box alert-white\" style=\"font-size:14pt; padding:15px; line-height:180%\">\n",
    "<li> değişken isimleri bir harf veya alt çizgi ile başlamalıdır\n",
    "<li> değişken isminin ilk harfi bir sayı olamaz\n",
    "<li> değişken isimleri sadece harf ve rakamlardan oluşabilir (A-z, 0-9, ve _)\n",
    "<li> değişken isimleri büyük/küçük harf duyarlıdır\n",
    "<li> Uzun isimli değişkenler \"_\" işareti ile birleştirilerek yazılır (snake_case, PEP8 standartı)\n",
    "    <p/>Örnek:     \n",
    "    \n",
    "```uzun_isimli_degisken = 123```\n",
    "    \n",
    "\n",
    "<li> Değişken isimleri Python özel kelimeleri olamaz\n",
    "</div>"
   ]
  },
  {
   "cell_type": "code",
   "execution_count": null,
   "metadata": {
    "ExecuteTime": {
     "end_time": "2022-12-05T11:26:27.702537Z",
     "start_time": "2022-12-05T11:26:27.696489Z"
    }
   },
   "outputs": [],
   "source": [
    "UzunIsimliDegisken = 123 # camel case\n",
    "print(UzunIsimliDegisken)"
   ]
  },
  {
   "cell_type": "markdown",
   "metadata": {},
   "source": [
    "## Python Özel Kelimeler\n",
    "\n",
    "Python'da aşağıdaki kelimeler değişken ismi olarak kullanılamaz. Kullanılması durumunda program hata verecektir."
   ]
  },
  {
   "cell_type": "markdown",
   "metadata": {},
   "source": [
    ".|.|.|.\n",
    ":-|:-|:-|:-\n",
    "False|def|if|raise\n",
    "None|del|import|return\n",
    "True|elif|in|try\n",
    "and|else|is|while\n",
    "as|except|lambda|with\n",
    "assert|finally|nonlocal|yield\n",
    "break|for|not\n",
    "class|from|or\n",
    "continue|global|pass"
   ]
  },
  {
   "cell_type": "markdown",
   "metadata": {
    "id": "xrtiBnjGJe8H"
   },
   "source": [
    "## Çoklu değişken tanımlama"
   ]
  },
  {
   "cell_type": "code",
   "execution_count": null,
   "metadata": {
    "ExecuteTime": {
     "end_time": "2022-12-05T11:28:24.925223Z",
     "start_time": "2022-12-05T11:28:24.907263Z"
    }
   },
   "outputs": [],
   "source": [
    "a = 1\n",
    "b = 2\n",
    "c = 3"
   ]
  },
  {
   "cell_type": "code",
   "execution_count": null,
   "metadata": {
    "ExecuteTime": {
     "end_time": "2022-12-05T11:28:52.988358Z",
     "start_time": "2022-12-05T11:28:52.985423Z"
    },
    "id": "3wEwGOcbJmL-"
   },
   "outputs": [],
   "source": [
    "a,b,c = 1,2,3\n",
    "print(a)\n",
    "print(b)\n",
    "print(c)"
   ]
  },
  {
   "cell_type": "markdown",
   "metadata": {
    "id": "YgJTYrgZJwNZ"
   },
   "source": [
    "## Değişkenleri yazdırma\n"
   ]
  },
  {
   "cell_type": "code",
   "execution_count": null,
   "metadata": {
    "ExecuteTime": {
     "end_time": "2022-12-05T11:31:11.670356Z",
     "start_time": "2022-12-05T11:31:11.667698Z"
    },
    "id": "Dng-D3NdJ0ZU"
   },
   "outputs": [],
   "source": [
    "print(a,b,c)"
   ]
  },
  {
   "cell_type": "code",
   "execution_count": null,
   "metadata": {
    "ExecuteTime": {
     "end_time": "2022-12-05T11:30:59.636344Z",
     "start_time": "2022-12-05T11:30:59.633621Z"
    }
   },
   "outputs": [],
   "source": [
    "print(a,b,c, sep=' ')"
   ]
  },
  {
   "cell_type": "markdown",
   "metadata": {
    "id": "QUhGLFqpHn4y"
   },
   "source": [
    "## Değişkenlerle İşlemler"
   ]
  },
  {
   "cell_type": "markdown",
   "metadata": {},
   "source": [
    "### Örnek: Dört İşlem"
   ]
  },
  {
   "cell_type": "code",
   "execution_count": null,
   "metadata": {
    "ExecuteTime": {
     "end_time": "2022-12-05T11:31:57.875966Z",
     "start_time": "2022-12-05T11:31:57.873836Z"
    },
    "id": "qGM-ptG_HrN4"
   },
   "outputs": [],
   "source": [
    "# önce değişkenlerimizi tanımlıyoruz\n",
    "a = 4\n",
    "b = 5\n",
    "c = 6\n",
    "\n",
    "# a,b,c = 4,5,6"
   ]
  },
  {
   "cell_type": "code",
   "execution_count": null,
   "metadata": {
    "ExecuteTime": {
     "end_time": "2022-12-05T11:32:41.765064Z",
     "start_time": "2022-12-05T11:32:41.762558Z"
    },
    "id": "tgcA1s2cNGaa"
   },
   "outputs": [],
   "source": [
    "# sonra bu değişkenler ile işlemler gerçekleştirip \n",
    "# işlem sonuçlarını başka değişkenlere atıyoruz\n",
    "\n",
    "x = a + b # 4 + 5 = 9\n",
    "y = a * c # 4 * 6 = 24\n",
    "z = c - a # 5 - a = 2\n",
    "w = y / z # 24 / 2 = 12"
   ]
  },
  {
   "cell_type": "code",
   "execution_count": null,
   "metadata": {
    "ExecuteTime": {
     "end_time": "2022-12-05T11:32:57.699076Z",
     "start_time": "2022-12-05T11:32:57.695537Z"
    },
    "id": "ZUhK46Z2NNWc"
   },
   "outputs": [],
   "source": [
    "# hesaplama sonuçlarını yazdırıyoruz\n",
    "\n",
    "print('x', x) # print komutu ile değişkenin adını ve sonucunu birlikte yazdırıyoruz\n",
    "print(\"y\", y)\n",
    "print(\"\"\"z\"\"\", z)\n",
    "print('w', w)"
   ]
  },
  {
   "cell_type": "code",
   "execution_count": null,
   "metadata": {
    "ExecuteTime": {
     "end_time": "2022-12-05T11:40:14.689551Z",
     "start_time": "2022-12-05T11:40:14.686731Z"
    }
   },
   "outputs": [],
   "source": [
    "metin = 'şair der ki \"yaşamak çok güze\"'\n",
    "metin = \"şair der ki \\\"yaşamak çok güzel\\\" \"\n",
    "metin = \"şair der ki 'yaşamak çok güzel'\"\n",
    "metin = \"\"\" metin = \"şair der ki 'yaşamak çok güze'\",\"\"\"\n",
    "metin = \"metin = \\\" deneme \\\" \"\n",
    "print(metin)"
   ]
  },
  {
   "cell_type": "markdown",
   "metadata": {},
   "source": [
    "# Değişkenlerde Referans Kavramı"
   ]
  },
  {
   "cell_type": "code",
   "execution_count": null,
   "metadata": {
    "ExecuteTime": {
     "end_time": "2022-12-05T11:41:14.001196Z",
     "start_time": "2022-12-05T11:41:13.999112Z"
    }
   },
   "outputs": [],
   "source": [
    "n = 300"
   ]
  },
  {
   "cell_type": "code",
   "execution_count": null,
   "metadata": {
    "ExecuteTime": {
     "end_time": "2022-12-05T11:41:27.804283Z",
     "start_time": "2022-12-05T11:41:27.802239Z"
    }
   },
   "outputs": [],
   "source": [
    "m = n"
   ]
  },
  {
   "cell_type": "code",
   "execution_count": null,
   "metadata": {
    "ExecuteTime": {
     "end_time": "2022-12-05T11:41:45.202010Z",
     "start_time": "2022-12-05T11:41:45.199250Z"
    }
   },
   "outputs": [],
   "source": [
    "print('m:',id(m))\n",
    "print('n:',id(n))"
   ]
  },
  {
   "cell_type": "code",
   "execution_count": null,
   "metadata": {
    "ExecuteTime": {
     "end_time": "2022-12-05T11:42:55.982909Z",
     "start_time": "2022-12-05T11:42:55.980785Z"
    }
   },
   "outputs": [],
   "source": [
    "m = 400"
   ]
  },
  {
   "cell_type": "code",
   "execution_count": null,
   "metadata": {
    "ExecuteTime": {
     "end_time": "2022-12-05T11:42:56.894682Z",
     "start_time": "2022-12-05T11:42:56.892633Z"
    }
   },
   "outputs": [],
   "source": [
    "print(m)\n",
    "print(n)"
   ]
  },
  {
   "cell_type": "code",
   "execution_count": null,
   "metadata": {
    "ExecuteTime": {
     "end_time": "2022-12-05T11:43:09.853152Z",
     "start_time": "2022-12-05T11:43:09.850481Z"
    }
   },
   "outputs": [],
   "source": [
    "print('m:',id(m))\n",
    "print('n:',id(n))"
   ]
  },
  {
   "cell_type": "code",
   "execution_count": null,
   "metadata": {
    "ExecuteTime": {
     "end_time": "2022-12-05T11:44:35.778679Z",
     "start_time": "2022-12-05T11:44:35.776156Z"
    }
   },
   "outputs": [],
   "source": [
    "n = 200\n",
    "m = 200"
   ]
  },
  {
   "cell_type": "code",
   "execution_count": null,
   "metadata": {
    "ExecuteTime": {
     "end_time": "2022-12-05T11:44:36.500599Z",
     "start_time": "2022-12-05T11:44:36.498059Z"
    }
   },
   "outputs": [],
   "source": [
    "print('m:',id(m))\n",
    "print('n:',id(n))"
   ]
  },
  {
   "cell_type": "code",
   "execution_count": null,
   "metadata": {
    "ExecuteTime": {
     "end_time": "2022-12-05T11:44:47.982573Z",
     "start_time": "2022-12-05T11:44:47.979022Z"
    }
   },
   "outputs": [],
   "source": [
    "n = 256\n",
    "m = 256\n",
    "print('m:',id(m))\n",
    "print('n:',id(n))"
   ]
  },
  {
   "cell_type": "code",
   "execution_count": null,
   "metadata": {
    "ExecuteTime": {
     "end_time": "2022-12-05T12:03:06.484774Z",
     "start_time": "2022-12-05T12:03:06.481553Z"
    }
   },
   "outputs": [],
   "source": [
    "metin"
   ]
  },
  {
   "cell_type": "markdown",
   "metadata": {},
   "source": [
    "# Quiz"
   ]
  },
  {
   "cell_type": "code",
   "execution_count": null,
   "metadata": {
    "ExecuteTime": {
     "end_time": "2022-12-05T11:54:58.014213Z",
     "start_time": "2022-12-05T11:54:08.228336Z"
    }
   },
   "outputs": [],
   "source": [
    "log.Quiz()"
   ]
  },
  {
   "cell_type": "code",
   "execution_count": null,
   "metadata": {},
   "outputs": [],
   "source": []
  }
 ],
 "metadata": {
  "kernelspec": {
   "display_name": "Python 3",
   "language": "python",
   "name": "python3"
  },
  "language_info": {
   "codemirror_mode": {
    "name": "ipython",
    "version": 3
   },
   "file_extension": ".py",
   "mimetype": "text/x-python",
   "name": "python",
   "nbconvert_exporter": "python",
   "pygments_lexer": "ipython3",
   "version": "3.7.6"
  },
  "toc": {
   "base_numbering": 1,
   "nav_menu": {},
   "number_sections": true,
   "sideBar": true,
   "skip_h1_title": false,
   "title_cell": "Table of Contents",
   "title_sidebar": "Contents",
   "toc_cell": false,
   "toc_position": {
    "height": "calc(100% - 180px)",
    "left": "10px",
    "top": "150px",
    "width": "370.188px"
   },
   "toc_section_display": true,
   "toc_window_display": false
  },
  "varInspector": {
   "cols": {
    "lenName": 16,
    "lenType": 16,
    "lenVar": 40
   },
   "kernels_config": {
    "python": {
     "delete_cmd_postfix": "",
     "delete_cmd_prefix": "del ",
     "library": "var_list.py",
     "varRefreshCmd": "print(var_dic_list())"
    },
    "r": {
     "delete_cmd_postfix": ") ",
     "delete_cmd_prefix": "rm(",
     "library": "var_list.r",
     "varRefreshCmd": "cat(var_dic_list()) "
    }
   },
   "types_to_exclude": [
    "module",
    "function",
    "builtin_function_or_method",
    "instance",
    "_Feature"
   ],
   "window_display": true
  }
 },
 "nbformat": 4,
 "nbformat_minor": 4
}
