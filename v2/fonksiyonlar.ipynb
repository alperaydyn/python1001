{
 "cells": [
  {
   "cell_type": "markdown",
   "metadata": {},
   "source": [
    "# Yemek Tarihi\n",
    "\n",
    "bu notebook yemek tarifi üzerinden fonksyionların daha iyi anlaşılmasını sağlayan örnekler içermektedir"
   ]
  },
  {
   "cell_type": "markdown",
   "metadata": {},
   "source": [
    "## Mercimek Çorbası için Fonksiyon tanımları\n",
    "\n",
    "* Malzemeleri hazırla\n",
    "* Tencereye yağı koy ve ısıt\n",
    "* Soğanları dilimle\n",
    "* Soğanları ısınmış yağda kavur\n",
    "* mercimekleri tencereye ekle\n",
    "* suyu ekle\n",
    "* Mercimekler haşlandıktan sonra blnederla karıştır\n",
    "* Baharatları ekle\n",
    "* Altını kapat\n",
    "* Servis yap"
   ]
  },
  {
   "cell_type": "code",
   "execution_count": null,
   "metadata": {
    "ExecuteTime": {
     "end_time": "2022-11-22T06:36:35.729367Z",
     "start_time": "2022-11-22T06:36:35.725534Z"
    }
   },
   "outputs": [],
   "source": [
    "def malzemeleri_hazirla(mercimek_miktari, yag_miktari, su_miktari, **malzeme_listesi):\n",
    "    # mercimekleri yıka,\n",
    "    # soğanı soy\n",
    "    # sarmısakları rendele\n",
    "    # yağı hazırla\n",
    "    d = {'mercimek':mercimek_miktari, 'yag':yag_miktari, 'su': su_miktari}\n",
    "    d.update(malzeme_listesi)\n",
    "    return d\n",
    "    \n",
    "malzeme_listesi = malzemeleri_hazirla(100, 10, 500, sogan=1, sarmisak=1)\n",
    "print(malzeme_listesi)"
   ]
  },
  {
   "cell_type": "code",
   "execution_count": null,
   "metadata": {
    "ExecuteTime": {
     "end_time": "2022-11-21T13:24:31.056336Z",
     "start_time": "2022-11-21T13:24:31.052022Z"
    }
   },
   "outputs": [],
   "source": [
    "tencere = {}\n",
    "\n",
    "def tencereyi_hazirla(yag_miktari, ısı_miktarı=180):\n",
    "    global tencere\n",
    "    # tenceredeki başlangıç yağ miktarı\n",
    "    y1 = 0\n",
    "    \n",
    "    # tenceredeki son yağ miktarı\n",
    "    y2 = y1 + yag_miktari\n",
    "\n",
    "    # başlangıçtaki ısı miktarı\n",
    "    t1 = 24\n",
    "    t2 = t1\n",
    "    # tencerenin ısınma süreci\n",
    "    while t2<ısı_miktarı:\n",
    "        t2 = t2 + 1\n",
    "     \n",
    "    tencere['yag_miktarı'] = y2\n",
    "    tencere['ısı_miktarı'] = t2\n",
    "    \n",
    "    return True\n",
    "\n",
    "yag_miktari = malzeme_listesi['yag']\n",
    "tencereyi_hazirla(yag_miktari = yag_miktari)"
   ]
  },
  {
   "cell_type": "code",
   "execution_count": null,
   "metadata": {
    "ExecuteTime": {
     "end_time": "2022-11-21T13:24:32.091941Z",
     "start_time": "2022-11-21T13:24:32.089762Z"
    }
   },
   "outputs": [],
   "source": [
    "print(tencere)\n",
    "print(malzeme_listesi)"
   ]
  },
  {
   "cell_type": "code",
   "execution_count": null,
   "metadata": {
    "ExecuteTime": {
     "end_time": "2022-11-21T13:24:32.372922Z",
     "start_time": "2022-11-21T13:24:32.368485Z"
    }
   },
   "outputs": [],
   "source": [
    "def soganlari_dilimle(sogan_adeti):\n",
    "    for s in range(sogan_adeti):\n",
    "        pass # dilimlendiğini varsayıl\n",
    "    \n",
    "    return True\n",
    "\n",
    "def soganlari_kavur():\n",
    "    global tencere\n",
    "    tenceredeki_malzemeler = tencere.get('malzemeler', [])\n",
    "    tenceredeki_malzemeler.append('sogan')\n",
    "    tencere['malzemeler'] = tenceredeki_malzemeler    \n",
    "    \n",
    "    r1 = 0 # başlangıç soğan rengi \n",
    "    hr = 10 # hedef soğan rengi, pembelik skalası\n",
    "    while r1<=hr:\n",
    "        r1 = r1 + 1\n",
    "        \n",
    "    return True\n",
    "\n",
    "soganlari_dilimle(sogan_adeti = malzeme_listesi['sogan'])\n",
    "soganlari_kavur()"
   ]
  },
  {
   "cell_type": "code",
   "execution_count": null,
   "metadata": {
    "ExecuteTime": {
     "end_time": "2022-11-21T13:24:32.716287Z",
     "start_time": "2022-11-21T13:24:32.714116Z"
    }
   },
   "outputs": [],
   "source": [
    "print(tencere)\n",
    "print(malzeme_listesi)"
   ]
  },
  {
   "cell_type": "code",
   "execution_count": null,
   "metadata": {
    "ExecuteTime": {
     "end_time": "2022-11-21T13:24:33.061174Z",
     "start_time": "2022-11-21T13:24:33.058651Z"
    }
   },
   "outputs": [],
   "source": [
    "def malzemeleri_tencerey_ekle(malzemeler):\n",
    "    global tencere\n",
    "    for m in malzemeler:\n",
    "        tencere['malzemeler'].append(m)\n",
    "        \n",
    "    return True\n",
    "\n",
    "malzeme_listesi.pop('yag')\n",
    "malzeme_listesi.pop('sogan')\n",
    "\n",
    "malzemeleri_tencerey_ekle(malzeme_listesi)\n",
    "\n",
    "malzeme_listesi.clear()"
   ]
  },
  {
   "cell_type": "code",
   "execution_count": null,
   "metadata": {
    "ExecuteTime": {
     "end_time": "2022-11-21T13:24:33.379569Z",
     "start_time": "2022-11-21T13:24:33.377426Z"
    }
   },
   "outputs": [],
   "source": [
    "print(tencere)\n",
    "print(malzeme_listesi)"
   ]
  },
  {
   "cell_type": "code",
   "execution_count": null,
   "metadata": {
    "ExecuteTime": {
     "end_time": "2022-11-21T13:24:33.695231Z",
     "start_time": "2022-11-21T13:24:33.692177Z"
    }
   },
   "outputs": [],
   "source": [
    "def malzemeleri_karistir():\n",
    "    mevcut_kivam = 10\n",
    "    hedef_kivam = 1\n",
    "    \n",
    "    for k in range(mevcut_kivam, hedef_kivam, -1):\n",
    "        pass\n",
    "    \n",
    "    return hedef_kivam\n",
    "\n",
    "malzemeleri_karistir()"
   ]
  },
  {
   "cell_type": "code",
   "execution_count": null,
   "metadata": {
    "ExecuteTime": {
     "end_time": "2022-11-21T13:24:33.957749Z",
     "start_time": "2022-11-21T13:24:33.954686Z"
    }
   },
   "outputs": [],
   "source": [
    "def baharat_ekle(**baharatlar):\n",
    "    global tencere\n",
    "    for b in baharatlar:\n",
    "        tencere['malzemeler'].append(b)\n",
    "        \n",
    "    return True\n",
    "\n",
    "baharat_ekle(tuz=3, karabiber=2, kimyon=3, pul_biber=2)"
   ]
  },
  {
   "cell_type": "code",
   "execution_count": null,
   "metadata": {
    "ExecuteTime": {
     "end_time": "2022-11-21T13:24:34.220143Z",
     "start_time": "2022-11-21T13:24:34.218065Z"
    }
   },
   "outputs": [],
   "source": [
    "print(tencere)\n",
    "print(malzeme_listesi)"
   ]
  },
  {
   "cell_type": "code",
   "execution_count": null,
   "metadata": {
    "ExecuteTime": {
     "end_time": "2022-11-21T13:24:34.533502Z",
     "start_time": "2022-11-21T13:24:34.527731Z"
    }
   },
   "outputs": [],
   "source": [
    "def ocagi_kapat():\n",
    "    global tencere\n",
    "    tencere['ocak_durumu'] = 'kapalı'\n",
    "    return True\n",
    "\n",
    "def servis_yap():\n",
    "    global tencere\n",
    "    if tencere['ısı_miktarı']>60:\n",
    "        # çok sıcak, yiyemeyiz, soğumaya bırakmamız lazım\n",
    "        print('çorba sıcak, soğuması lazım')\n",
    "        while tencere['ısı_miktarı']>60:\n",
    "            tencere['ısı_miktarı'] = tencere['ısı_miktarı'] -1\n",
    "            \n",
    "    elif tencere['ısı_miktarı']<50:\n",
    "        print('çorba soğuk, ısınması lazım')\n",
    "        # çok soğuk, yiyemeyiz, ısıtmaımz lazım\n",
    "        tencere['ocak_durumu'] = 'açık'\n",
    "        \n",
    "        while tencere['ısı_miktarı']>60:\n",
    "            tencere['ısı_miktarı'] = tencere['ısı_miktarı'] + 1\n",
    "        \n",
    "        tencere['ocak_durumu'] = 'kapalı'\n",
    "        \n",
    "    else:\n",
    "        # içilebilecek durumda\n",
    "        pass\n",
    "    \n",
    "    print('afiyet olsun')\n",
    "    return True\n",
    "    \n",
    "ocagi_kapat()\n",
    "servis_yap()"
   ]
  },
  {
   "cell_type": "code",
   "execution_count": null,
   "metadata": {
    "ExecuteTime": {
     "end_time": "2022-11-21T13:29:17.203116Z",
     "start_time": "2022-11-21T13:29:17.198820Z"
    }
   },
   "outputs": [],
   "source": [
    "def yemegi_hazirla():\n",
    "    \n",
    "    malzeme_listesi = malzemeleri_hazirla(100, 10, 500, sogan=1, sarmisak=1)\n",
    "    print(malzeme_listesi) \n",
    "\n",
    "    yag_miktari = malzeme_listesi['yag']\n",
    "    tencereyi_hazirla(yag_miktari = yag_miktari)   \n",
    "    \n",
    "    soganlari_dilimle(sogan_adeti = malzeme_listesi['sogan'])\n",
    "    soganlari_kavur()\n",
    "    \n",
    "    malzeme_listesi.pop('yag')\n",
    "    malzeme_listesi.pop('sogan')\n",
    "\n",
    "    malzemeleri_tencerey_ekle(malzeme_listesi)\n",
    "\n",
    "    malzeme_listesi.clear()    \n",
    "    \n",
    "    malzemeleri_karistir()\n",
    "    \n",
    "    baharat_ekle(tuz=3, karabiber=2, kimyon=3, pul_biber=2)\n",
    "    \n",
    "    ocagi_kapat()\n",
    "    servis_yap() \n",
    "    "
   ]
  },
  {
   "cell_type": "code",
   "execution_count": null,
   "metadata": {
    "ExecuteTime": {
     "end_time": "2022-11-21T13:29:21.326846Z",
     "start_time": "2022-11-21T13:29:21.324513Z"
    }
   },
   "outputs": [],
   "source": [
    "yemegi_hazirla()"
   ]
  },
  {
   "cell_type": "code",
   "execution_count": null,
   "metadata": {},
   "outputs": [],
   "source": []
  },
  {
   "cell_type": "code",
   "execution_count": null,
   "metadata": {},
   "outputs": [],
   "source": []
  },
  {
   "cell_type": "code",
   "execution_count": null,
   "metadata": {
    "ExecuteTime": {
     "end_time": "2022-11-21T13:32:10.489814Z",
     "start_time": "2022-11-21T13:32:10.485594Z"
    }
   },
   "outputs": [],
   "source": [
    "def yemegi_hazirla_v2():\n",
    "    \n",
    "    malzeme_listesi = malzemeleri_hazirla(100, 5, 300, sogan=0, sarmisak=0)\n",
    "    print(malzeme_listesi) \n",
    "\n",
    "    yag_miktari = malzeme_listesi['yag']\n",
    "    tencereyi_hazirla(yag_miktari = yag_miktari)   \n",
    "    \n",
    "    soganlari_dilimle(sogan_adeti = malzeme_listesi['sogan'])\n",
    "    soganlari_kavur()\n",
    "    \n",
    "    malzeme_listesi.pop('yag')\n",
    "    malzeme_listesi.pop('sogan')\n",
    "\n",
    "    malzemeleri_tencerey_ekle(malzeme_listesi)\n",
    "\n",
    "    malzeme_listesi.clear()    \n",
    "    \n",
    "    malzemeleri_karistir()\n",
    "    \n",
    "    baharat_ekle(tuz=3, karabiber=2, kimyon=3, pul_biber=2)\n",
    "    \n",
    "    ocagi_kapat()\n",
    "    servis_yap()\n"
   ]
  },
  {
   "cell_type": "code",
   "execution_count": null,
   "metadata": {
    "ExecuteTime": {
     "end_time": "2022-11-21T13:32:14.440295Z",
     "start_time": "2022-11-21T13:32:14.437925Z"
    }
   },
   "outputs": [],
   "source": [
    "yemegi_hazirla()"
   ]
  },
  {
   "cell_type": "code",
   "execution_count": null,
   "metadata": {
    "ExecuteTime": {
     "end_time": "2022-11-21T13:32:16.573164Z",
     "start_time": "2022-11-21T13:32:16.570936Z"
    }
   },
   "outputs": [],
   "source": [
    "yemegi_hazirla_v2()"
   ]
  }
 ],
 "metadata": {
  "kernelspec": {
   "display_name": "Python 3",
   "language": "python",
   "name": "python3"
  },
  "language_info": {
   "codemirror_mode": {
    "name": "ipython",
    "version": 3
   },
   "file_extension": ".py",
   "mimetype": "text/x-python",
   "name": "python",
   "nbconvert_exporter": "python",
   "pygments_lexer": "ipython3",
   "version": "3.7.6"
  },
  "toc": {
   "base_numbering": 1,
   "nav_menu": {},
   "number_sections": true,
   "sideBar": true,
   "skip_h1_title": false,
   "title_cell": "Table of Contents",
   "title_sidebar": "Contents",
   "toc_cell": false,
   "toc_position": {},
   "toc_section_display": true,
   "toc_window_display": false
  },
  "varInspector": {
   "cols": {
    "lenName": 16,
    "lenType": 16,
    "lenVar": 40
   },
   "kernels_config": {
    "python": {
     "delete_cmd_postfix": "",
     "delete_cmd_prefix": "del ",
     "library": "var_list.py",
     "varRefreshCmd": "print(var_dic_list())"
    },
    "r": {
     "delete_cmd_postfix": ") ",
     "delete_cmd_prefix": "rm(",
     "library": "var_list.r",
     "varRefreshCmd": "cat(var_dic_list()) "
    }
   },
   "types_to_exclude": [
    "module",
    "function",
    "builtin_function_or_method",
    "instance",
    "_Feature"
   ],
   "window_display": true
  }
 },
 "nbformat": 4,
 "nbformat_minor": 4
}
