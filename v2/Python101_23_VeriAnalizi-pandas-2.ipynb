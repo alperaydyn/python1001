{
 "cells": [
  {
   "cell_type": "code",
   "execution_count": null,
   "metadata": {
    "ExecuteTime": {
     "end_time": "2022-12-19T07:08:16.311175Z",
     "start_time": "2022-12-19T07:08:16.308442Z"
    }
   },
   "outputs": [],
   "source": [
    "import sys\n",
    "sys.path.append('/data/ECS/PythonTutorial/')\n",
    "import log\n",
    "log.topic_id = '23_VeriAnalizi-pandas-2'"
   ]
  },
  {
   "cell_type": "markdown",
   "metadata": {},
   "source": [
    "# Pandas II"
   ]
  },
  {
   "cell_type": "code",
   "execution_count": null,
   "metadata": {
    "ExecuteTime": {
     "end_time": "2022-12-19T07:08:30.512372Z",
     "start_time": "2022-12-19T07:08:18.382090Z"
    }
   },
   "outputs": [],
   "source": [
    "import cx_Oracle\n",
    "import os\n",
    "import pandas as pd\n",
    "\n",
    "def connect_db(user_name=None, password=None):\n",
    "    try:\n",
    "        with open('/data/home/alperayd/oracle.txt','r') as f:\n",
    "            r = f.read()\n",
    "            user_name = r.split(';')[0]\n",
    "            password = r.split(';')[1]\n",
    "        \n",
    "        os.environ['ORACLE_HOME'] = '/data/app/oracle/product/12.2.0/client_1'\n",
    "        host = \"pgarsnb1rw.fw.garanti.com.tr:4520/pgarsnb1b\"\n",
    "        #host_dwh  = 'pgardwhrw:4520/pgardwh'\n",
    "        #host_qgar = 'qgardwhapp.fw.garanti.com.tr:4520/QGARDWH'\n",
    "        \n",
    "        conn = cx_Oracle.connect(user_name, password, host, encoding='UTF-8')\n",
    "        return conn\n",
    "    except Exception as ex:\n",
    "        print(f\"bağlantı sağlanamadı, \\nHata: {ex}\")\n",
    "        return None\n",
    "\n",
    "    \n",
    "conn = connect_db()\n",
    "sql = \"\"\"\n",
    "    select * from pgaredm.v_cnf_customer_hst where record_Date=trunc(sysdate-1) and CUSTOMER_TP_CODE='TA'\n",
    "\"\"\"\n",
    "df = pd.read_sql(sql, conn)\n",
    "display(df)"
   ]
  },
  {
   "cell_type": "markdown",
   "metadata": {},
   "source": [
    "## lambda fonksiyonları hatırlatma"
   ]
  },
  {
   "cell_type": "code",
   "execution_count": null,
   "metadata": {
    "ExecuteTime": {
     "end_time": "2022-12-19T07:12:29.738279Z",
     "start_time": "2022-12-19T07:12:29.734280Z"
    }
   },
   "outputs": [],
   "source": [
    "def format_sube(x):\n",
    "    return f\"{x:06d}\"\n",
    "\n",
    "format_sube(123)"
   ]
  },
  {
   "cell_type": "code",
   "execution_count": null,
   "metadata": {
    "ExecuteTime": {
     "end_time": "2022-12-19T07:12:29.976676Z",
     "start_time": "2022-12-19T07:12:29.973687Z"
    }
   },
   "outputs": [],
   "source": [
    "y = lambda x: f\"{x:06d}\"\n",
    "\n",
    "y(123)"
   ]
  },
  {
   "cell_type": "markdown",
   "metadata": {},
   "source": [
    "## fillna()"
   ]
  },
  {
   "cell_type": "code",
   "execution_count": null,
   "metadata": {
    "ExecuteTime": {
     "end_time": "2022-12-19T07:13:29.106959Z",
     "start_time": "2022-12-19T07:13:29.091237Z"
    }
   },
   "outputs": [],
   "source": [
    "df.MAIN_BRANCH_NUM.fillna(0)#.astype(int).apply(format_sube)"
   ]
  },
  {
   "cell_type": "markdown",
   "metadata": {},
   "source": [
    "## astype(int)"
   ]
  },
  {
   "cell_type": "code",
   "execution_count": null,
   "metadata": {
    "ExecuteTime": {
     "end_time": "2022-12-19T07:14:02.313145Z",
     "start_time": "2022-12-19T07:14:02.287681Z"
    }
   },
   "outputs": [],
   "source": [
    "df.MAIN_BRANCH_NUM.fillna(0).astype(int)"
   ]
  },
  {
   "cell_type": "markdown",
   "metadata": {},
   "source": [
    "## apply()"
   ]
  },
  {
   "cell_type": "code",
   "execution_count": null,
   "metadata": {
    "ExecuteTime": {
     "end_time": "2022-12-19T07:16:08.392247Z",
     "start_time": "2022-12-19T07:16:08.344688Z"
    }
   },
   "outputs": [],
   "source": [
    "df.MAIN_BRANCH_NUM.fillna(0).astype(int).apply(lambda x: f\"{x:06d}\")"
   ]
  },
  {
   "cell_type": "code",
   "execution_count": null,
   "metadata": {
    "ExecuteTime": {
     "end_time": "2022-12-19T07:31:45.323661Z",
     "start_time": "2022-12-19T07:31:45.271360Z"
    }
   },
   "outputs": [],
   "source": [
    "df['SUBE_KODU_STR'] = df.MAIN_BRANCH_NUM.fillna(0).astype(int).apply(lambda x: f\"{x:06d}\")"
   ]
  },
  {
   "cell_type": "code",
   "execution_count": null,
   "metadata": {
    "ExecuteTime": {
     "end_time": "2022-12-19T07:31:46.941795Z",
     "start_time": "2022-12-19T07:31:46.925945Z"
    }
   },
   "outputs": [],
   "source": [
    "df.head()"
   ]
  },
  {
   "cell_type": "markdown",
   "metadata": {},
   "source": [
    "### Örnek"
   ]
  },
  {
   "cell_type": "code",
   "execution_count": null,
   "metadata": {
    "ExecuteTime": {
     "end_time": "2022-12-19T07:32:58.338665Z",
     "start_time": "2022-12-19T07:32:58.334716Z"
    }
   },
   "outputs": [],
   "source": [
    "def dort_digit_sube_kodu(x):\n",
    "    str(x)[-4:]\n",
    "    x = str(x)[-4:]\n",
    "    x = int(x)\n",
    "    return f\"{x:04d}\"\n",
    "\n",
    "dort_digit_sube_kodu(22)"
   ]
  },
  {
   "cell_type": "code",
   "execution_count": null,
   "metadata": {
    "ExecuteTime": {
     "end_time": "2022-12-19T07:33:44.821652Z",
     "start_time": "2022-12-19T07:33:44.727430Z"
    }
   },
   "outputs": [],
   "source": [
    "df.MAIN_BRANCH_NUM.fillna(0).astype(int).apply(dort_digit_sube_kodu)"
   ]
  },
  {
   "cell_type": "markdown",
   "metadata": {},
   "source": [
    "### concat vs apply"
   ]
  },
  {
   "cell_type": "code",
   "execution_count": null,
   "metadata": {
    "ExecuteTime": {
     "end_time": "2022-12-19T07:36:38.360344Z",
     "start_time": "2022-12-19T07:36:38.248994Z"
    }
   },
   "outputs": [],
   "source": [
    "a = []\n",
    "for i in df.MAIN_BRANCH_NUM.fillna(0).astype(int):\n",
    "    a.append(dort_digit_sube_kodu(i))\n",
    "\n",
    "df2 = pd.concat([df.MAIN_BRANCH_NUM.fillna(0).astype(int), \n",
    "           pd.Series(a)\n",
    "          ] ,axis=1)\n",
    "display(df2.head())"
   ]
  },
  {
   "cell_type": "code",
   "execution_count": null,
   "metadata": {
    "ExecuteTime": {
     "end_time": "2022-12-19T07:37:46.019967Z",
     "start_time": "2022-12-19T07:37:45.935502Z"
    }
   },
   "outputs": [],
   "source": [
    "df.MAIN_BRANCH_NUM.fillna(0).astype(int).apply(lambda x: dort_digit_sube_kodu(x))"
   ]
  },
  {
   "cell_type": "code",
   "execution_count": null,
   "metadata": {
    "ExecuteTime": {
     "end_time": "2022-12-19T07:38:09.826799Z",
     "start_time": "2022-12-19T07:38:09.727656Z"
    }
   },
   "outputs": [],
   "source": [
    "df['YENI_KOLON'] = df.MAIN_BRANCH_NUM.fillna(0).astype(int).apply(lambda x: dort_digit_sube_kodu(x))\n",
    "df.head()"
   ]
  },
  {
   "cell_type": "markdown",
   "metadata": {},
   "source": [
    "## apply: birden fazla kolon işlemi"
   ]
  },
  {
   "cell_type": "code",
   "execution_count": null,
   "metadata": {
    "ExecuteTime": {
     "end_time": "2022-12-19T07:40:37.714536Z",
     "start_time": "2022-12-19T07:40:37.697224Z"
    }
   },
   "outputs": [],
   "source": [
    "df.head()"
   ]
  },
  {
   "cell_type": "code",
   "execution_count": null,
   "metadata": {
    "ExecuteTime": {
     "end_time": "2022-12-19T07:43:35.933640Z",
     "start_time": "2022-12-19T07:43:28.957373Z"
    }
   },
   "outputs": [],
   "source": [
    "bolge_sube = df.fillna(0).apply(lambda x: f\"{x.MAIN_BRANCH_NUM }\" + '-' + f\"{x.CUSTOMER_TP_CODE }\", axis=1)\n",
    "bolge_sube"
   ]
  },
  {
   "cell_type": "code",
   "execution_count": null,
   "metadata": {
    "ExecuteTime": {
     "end_time": "2022-12-19T07:44:06.886150Z",
     "start_time": "2022-12-19T07:44:06.737700Z"
    }
   },
   "outputs": [],
   "source": [
    "df"
   ]
  },
  {
   "cell_type": "code",
   "execution_count": null,
   "metadata": {
    "ExecuteTime": {
     "end_time": "2022-12-19T07:45:07.612519Z",
     "start_time": "2022-12-19T07:45:06.710017Z"
    }
   },
   "outputs": [],
   "source": [
    "df_yeni = pd.concat([df, bolge_sube], axis=1)\n",
    "df_yeni"
   ]
  },
  {
   "cell_type": "markdown",
   "metadata": {},
   "source": [
    "## assign\n",
    "\n",
    "DataFrame'e yeni bir kolon ekler"
   ]
  },
  {
   "cell_type": "markdown",
   "metadata": {},
   "source": [
    "### sabit değer ekleme"
   ]
  },
  {
   "cell_type": "code",
   "execution_count": null,
   "metadata": {
    "ExecuteTime": {
     "end_time": "2022-12-19T07:46:30.983124Z",
     "start_time": "2022-12-19T07:46:30.286569Z"
    }
   },
   "outputs": [],
   "source": [
    "df.assign(YENI_KOLON=1).head()"
   ]
  },
  {
   "cell_type": "markdown",
   "metadata": {},
   "source": [
    "### fonksiyon ile ekleme"
   ]
  },
  {
   "cell_type": "code",
   "execution_count": null,
   "metadata": {
    "ExecuteTime": {
     "end_time": "2022-12-19T07:47:42.342652Z",
     "start_time": "2022-12-19T07:47:42.339249Z"
    }
   },
   "outputs": [],
   "source": [
    "df.IP_ID.max()"
   ]
  },
  {
   "cell_type": "code",
   "execution_count": null,
   "metadata": {
    "ExecuteTime": {
     "end_time": "2022-12-19T07:48:40.557536Z",
     "start_time": "2022-12-19T07:48:40.291853Z"
    }
   },
   "outputs": [],
   "source": [
    "df.assign(YENI_KOLON2 = lambda x: x.IP_ID.max()).head()"
   ]
  },
  {
   "cell_type": "markdown",
   "metadata": {},
   "source": [
    "### apply fonksiyonu ile yeni kolon ekleme"
   ]
  },
  {
   "cell_type": "code",
   "execution_count": null,
   "metadata": {
    "ExecuteTime": {
     "end_time": "2022-12-19T07:50:40.114130Z",
     "start_time": "2022-12-19T07:50:33.366942Z"
    }
   },
   "outputs": [],
   "source": [
    "df.fillna(0).apply(lambda x: f\"{x.MAIN_BRANCH_NUM }\"+'-'+f\"{x.CUSTOMER_TP_CODE }\", axis=1).head()"
   ]
  },
  {
   "cell_type": "code",
   "execution_count": null,
   "metadata": {
    "ExecuteTime": {
     "end_time": "2022-12-19T07:24:17.475373Z",
     "start_time": "2022-12-19T07:24:08.867875Z"
    }
   },
   "outputs": [],
   "source": [
    "df = df.assign(YENI_KOLON3 = df.fillna(0).apply(lambda x: f\"{x.MAIN_BRANCH_NUM }\"+'-'+f\"{x.CUSTOMER_TP_CODE }\", axis=1))\n",
    "df.head()"
   ]
  },
  {
   "cell_type": "markdown",
   "metadata": {},
   "source": [
    "### assign - lambda function"
   ]
  },
  {
   "cell_type": "code",
   "execution_count": null,
   "metadata": {
    "ExecuteTime": {
     "end_time": "2022-12-19T07:51:37.119012Z",
     "start_time": "2022-12-19T07:51:37.091841Z"
    }
   },
   "outputs": [],
   "source": [
    "df.MAIN_BRANCH_NUM.fillna(0).astype(int) / df.SOURCE_SYSTEM_ID"
   ]
  },
  {
   "cell_type": "code",
   "execution_count": null,
   "metadata": {
    "ExecuteTime": {
     "end_time": "2022-12-19T07:52:42.981628Z",
     "start_time": "2022-12-19T07:52:42.588867Z"
    }
   },
   "outputs": [],
   "source": [
    "df = df.assign(IP_ORAN = lambda x: x.IP_ID / x.IP_ID.max())\n",
    "display(df)"
   ]
  },
  {
   "cell_type": "markdown",
   "metadata": {},
   "source": [
    "## groupby"
   ]
  },
  {
   "cell_type": "markdown",
   "metadata": {},
   "source": [
    "### agg()"
   ]
  },
  {
   "cell_type": "code",
   "execution_count": null,
   "metadata": {
    "ExecuteTime": {
     "end_time": "2022-12-19T07:56:23.361273Z",
     "start_time": "2022-12-19T07:56:23.357427Z"
    }
   },
   "outputs": [],
   "source": [
    "df.columns[:50]"
   ]
  },
  {
   "cell_type": "code",
   "execution_count": null,
   "metadata": {
    "ExecuteTime": {
     "end_time": "2022-12-19T07:57:24.007507Z",
     "start_time": "2022-12-19T07:57:23.993697Z"
    }
   },
   "outputs": [],
   "source": [
    "dfg = df.groupby(['CUSTOMER_STATUS_CODE']).agg({'IP_ID': ['size','max','min'], #size: count\n",
    "                                          'MAIN_BRANCH_NUM': ['size'] # len, count\n",
    "                                         })\n",
    "display(dfg)"
   ]
  },
  {
   "cell_type": "code",
   "execution_count": null,
   "metadata": {
    "ExecuteTime": {
     "end_time": "2022-12-19T07:57:36.941331Z",
     "start_time": "2022-12-19T07:57:36.937398Z"
    }
   },
   "outputs": [],
   "source": [
    "dfg.index"
   ]
  },
  {
   "cell_type": "code",
   "execution_count": null,
   "metadata": {
    "ExecuteTime": {
     "end_time": "2022-12-19T07:59:11.657667Z",
     "start_time": "2022-12-19T07:59:11.653880Z"
    }
   },
   "outputs": [],
   "source": [
    "dfg.loc['A', ('MAIN_BRANCH_NUM','size')]"
   ]
  },
  {
   "cell_type": "markdown",
   "metadata": {},
   "source": [
    "### groupby: Series !önemli"
   ]
  },
  {
   "cell_type": "code",
   "execution_count": null,
   "metadata": {},
   "outputs": [],
   "source": [
    "def get_location(x,y):\n",
    "    return googapi.reverse_geocode(x,y)"
   ]
  },
  {
   "cell_type": "code",
   "execution_count": null,
   "metadata": {
    "ExecuteTime": {
     "end_time": "2022-12-19T08:01:49.597681Z",
     "start_time": "2022-12-19T08:01:49.592953Z"
    }
   },
   "outputs": [],
   "source": [
    "pd.Series({'A':1,'B':2,'C':3})"
   ]
  },
  {
   "cell_type": "code",
   "execution_count": null,
   "metadata": {},
   "outputs": [],
   "source": [
    "df.groupby(['CUSTOMER_STATUS_CODE']).apply(lambda x: pd.Series({})"
   ]
  },
  {
   "cell_type": "code",
   "execution_count": null,
   "metadata": {
    "ExecuteTime": {
     "end_time": "2022-12-19T08:03:10.579175Z",
     "start_time": "2022-12-19T08:03:09.938155Z"
    }
   },
   "outputs": [],
   "source": [
    "df.groupby(['CUSTOMER_STATUS_CODE']).apply(lambda x: pd.Series({\n",
    "    'Müşteri Adet': len(x.IP_ID),\n",
    "    'Max': x.IP_ID.max(),\n",
    "    'min': x.IP_ID.min(),\n",
    "    'Şube Adet': len(x.MAIN_BRANCH_NUM),\n",
    "    'yeni': len(x[x.IP_ID<1000])\n",
    "}))"
   ]
  },
  {
   "cell_type": "code",
   "execution_count": null,
   "metadata": {
    "ExecuteTime": {
     "end_time": "2022-12-19T08:04:05.214441Z",
     "start_time": "2022-12-19T08:04:05.210900Z"
    }
   },
   "outputs": [],
   "source": [
    "def group_by_fonksiyonum(x):\n",
    "    ret = pd.Series({\n",
    "        'Müşteri Adet': len(x.IP_ID),\n",
    "        'Max': x.IP_ID.max(),\n",
    "        'Min': x.IP_ID.min(),\n",
    "        'Şube Adet': len(x.MAIN_BRANCH_NUM),\n",
    "        'yeni': len(x[x.IP_ID<1000])\n",
    "    })\n",
    "    return ret"
   ]
  },
  {
   "cell_type": "code",
   "execution_count": null,
   "metadata": {
    "ExecuteTime": {
     "end_time": "2022-12-19T08:05:30.390616Z",
     "start_time": "2022-12-19T08:05:29.811376Z"
    }
   },
   "outputs": [],
   "source": [
    "dfg = df.groupby(['CUSTOMER_STATUS_CODE']).apply(group_by_fonksiyonum)\n",
    "display(dfg)"
   ]
  },
  {
   "cell_type": "code",
   "execution_count": null,
   "metadata": {
    "ExecuteTime": {
     "end_time": "2022-12-19T08:05:45.892653Z",
     "start_time": "2022-12-19T08:05:45.889308Z"
    }
   },
   "outputs": [],
   "source": [
    "dfg.loc['A']['Max']"
   ]
  },
  {
   "cell_type": "code",
   "execution_count": null,
   "metadata": {
    "ExecuteTime": {
     "end_time": "2022-12-19T08:06:08.533613Z",
     "start_time": "2022-12-19T08:06:08.529223Z"
    }
   },
   "outputs": [],
   "source": [
    "dfg.loc['A', ['Max','Min']]"
   ]
  },
  {
   "cell_type": "markdown",
   "metadata": {},
   "source": [
    "### groupby içerisinde fonksiyon çalıştırma"
   ]
  },
  {
   "cell_type": "code",
   "execution_count": null,
   "metadata": {
    "ExecuteTime": {
     "end_time": "2022-12-19T08:10:03.234127Z",
     "start_time": "2022-12-19T08:10:02.637005Z"
    }
   },
   "outputs": [],
   "source": [
    "def karekok_al(ip_id):\n",
    "    return ip_id**0.5\n",
    "    \n",
    "df.groupby(['CUSTOMER_STATUS_CODE']).apply(lambda x: pd.Series({\n",
    "    'Müşteri Adet': len(x.IP_ID),\n",
    "    'Max': x.IP_ID.max(),\n",
    "    'Min': x.IP_ID.min(),\n",
    "    'Şube Adet': len(x.MAIN_BRANCH_NUM),\n",
    "    'yeni': len(x[x.IP_ID<1000]),\n",
    "    'Fonksiyon': karekok_al(x.IP_ID).sort_values().values[:3]\n",
    "}))"
   ]
  },
  {
   "cell_type": "markdown",
   "metadata": {},
   "source": [
    "## pivot_table !önemli"
   ]
  },
  {
   "cell_type": "code",
   "execution_count": null,
   "metadata": {
    "ExecuteTime": {
     "end_time": "2022-12-19T08:14:36.612873Z",
     "start_time": "2022-12-19T08:14:36.574904Z"
    }
   },
   "outputs": [],
   "source": [
    "dft = pd.pivot_table(df, \n",
    "                     index=['MAIN_BRANCH_NUM'], \n",
    "                     columns=['CUSTOMER_STATUS_CODE'], \n",
    "                     values='IP_ID', aggfunc='count').fillna(0)\n",
    "display(dft)"
   ]
  },
  {
   "cell_type": "code",
   "execution_count": null,
   "metadata": {
    "ExecuteTime": {
     "end_time": "2022-12-19T08:17:50.659408Z",
     "start_time": "2022-12-19T08:17:50.594349Z"
    }
   },
   "outputs": [],
   "source": [
    "pd.set_option('max_columns',30)\n",
    "\n",
    "dft = pd.pivot_table(df, \n",
    "                     index=['MAIN_BRANCH_NUM'], \n",
    "                     columns=['CUSTOMER_STATUS_CODE'], \n",
    "                     values=['IP_ID'], aggfunc=['count','max']).fillna(0)\n",
    "display(dft)"
   ]
  },
  {
   "cell_type": "markdown",
   "metadata": {},
   "source": [
    "## sort_values"
   ]
  },
  {
   "cell_type": "code",
   "execution_count": null,
   "metadata": {
    "ExecuteTime": {
     "end_time": "2022-12-19T08:20:32.222769Z",
     "start_time": "2022-12-19T08:20:31.490760Z"
    }
   },
   "outputs": [],
   "source": [
    "df.sort_values(['CUSTOMER_STATUS_ID', 'IP_ID'], ascending=[False, True])[['CUSTOMER_STATUS_ID', 'IP_ID']]"
   ]
  },
  {
   "cell_type": "markdown",
   "metadata": {},
   "source": [
    "## çoklu işlemler"
   ]
  },
  {
   "cell_type": "code",
   "execution_count": null,
   "metadata": {
    "ExecuteTime": {
     "end_time": "2022-12-19T08:32:22.998048Z",
     "start_time": "2022-12-19T08:32:22.978041Z"
    }
   },
   "outputs": [],
   "source": [
    "dft.fillna(0) \\\n",
    "    .astype(str) \\\n",
    "    .assign(\n",
    "        Toplam=lambda x: x.sum(axis=1)\n",
    "    ) \\\n",
    "    .sort_values(['Toplam'], ascending=[False]) \\\n",
    "    .head(10)"
   ]
  },
  {
   "cell_type": "markdown",
   "metadata": {},
   "source": [
    "## transform\n",
    "\n",
    "Oracle Analytic Functions:\n",
    "\n",
    "count(IP_ID) over(partition by CUSTOMER_STATUS_ID)"
   ]
  },
  {
   "cell_type": "code",
   "execution_count": null,
   "metadata": {
    "ExecuteTime": {
     "end_time": "2022-12-19T08:34:25.540923Z",
     "start_time": "2022-12-19T08:34:25.535162Z"
    }
   },
   "outputs": [],
   "source": [
    "df.groupby(['CUSTOMER_STATUS_ID'])[\"IP_ID\"].count()"
   ]
  },
  {
   "cell_type": "code",
   "execution_count": null,
   "metadata": {
    "ExecuteTime": {
     "end_time": "2022-12-19T08:36:03.081753Z",
     "start_time": "2022-12-19T08:36:02.628869Z"
    }
   },
   "outputs": [],
   "source": [
    "df = df.assign(STATUS_COUNT = df.groupby(['CUSTOMER_STATUS_ID'])['IP_ID'].transform('count'))\n",
    "\n",
    "df[['IP_ID','CUSTOMER_STATUS_ID','STATUS_COUNT']]"
   ]
  },
  {
   "cell_type": "markdown",
   "metadata": {},
   "source": [
    "## merge"
   ]
  },
  {
   "cell_type": "code",
   "execution_count": null,
   "metadata": {
    "ExecuteTime": {
     "end_time": "2022-12-19T08:41:25.336109Z",
     "start_time": "2022-12-19T08:41:21.150114Z"
    }
   },
   "outputs": [],
   "source": [
    "sql = \"\"\"\n",
    "    select MAIN_BRANCH_NUM, CUSTOMER_TP_CODE, count(*) \n",
    "    from pgaredm.v_cnf_customer_hst\n",
    "    where RECORD_DATE=trunc(sysdate-1)\n",
    "    group by MAIN_BRANCH_NUM, CUSTOMER_TP_CODE\n",
    "\"\"\"\n",
    "df2 = pd.read_sql(sql, connect_db())\n",
    "df2.head()"
   ]
  },
  {
   "cell_type": "code",
   "execution_count": null,
   "metadata": {
    "ExecuteTime": {
     "end_time": "2022-12-19T08:43:53.846925Z",
     "start_time": "2022-12-19T08:43:53.778829Z"
    }
   },
   "outputs": [],
   "source": [
    "pd.merge(left=df[['MAIN_BRANCH_NUM','CUSTOMER_TP_CODE','IP_ID','CUSTOMER_STATUS_DESC']], \n",
    "         right=df2, \n",
    "         how='left', \n",
    "         left_on=['MAIN_BRANCH_NUM','CUSTOMER_TP_CODE'],\n",
    "         right_on=['MAIN_BRANCH_NUM','CUSTOMER_TP_CODE'])"
   ]
  },
  {
   "cell_type": "markdown",
   "metadata": {},
   "source": [
    "## to_excel"
   ]
  },
  {
   "cell_type": "code",
   "execution_count": null,
   "metadata": {
    "ExecuteTime": {
     "end_time": "2022-12-19T08:45:10.309230Z",
     "start_time": "2022-12-19T08:45:10.305941Z"
    }
   },
   "outputs": [],
   "source": [
    "import os\n",
    "os.getcwd()"
   ]
  },
  {
   "cell_type": "code",
   "execution_count": null,
   "metadata": {
    "ExecuteTime": {
     "end_time": "2022-12-19T08:47:11.903652Z",
     "start_time": "2022-12-19T08:47:09.767915Z"
    }
   },
   "outputs": [],
   "source": [
    "sube_kodu = '119'\n",
    "dft = df[(df.MAIN_BRANCH_NUM==sube_kodu)]\n",
    "dft.to_excel(f\"output_{sube_kodu}_alperayd.xlsx\", index=False)"
   ]
  },
  {
   "cell_type": "markdown",
   "metadata": {},
   "source": [
    "## pandas_profiling"
   ]
  },
  {
   "cell_type": "code",
   "execution_count": null,
   "metadata": {
    "ExecuteTime": {
     "end_time": "2022-12-19T10:01:25.284611Z",
     "start_time": "2022-12-19T09:21:53.982667Z"
    }
   },
   "outputs": [],
   "source": [
    "import pandas_profiling as pp\n",
    "pp.ProfileReport(df.sample(1000))"
   ]
  },
  {
   "cell_type": "code",
   "execution_count": null,
   "metadata": {},
   "outputs": [],
   "source": []
  }
 ],
 "metadata": {
  "kernelspec": {
   "display_name": "ECS4",
   "language": "python",
   "name": "ecs4"
  },
  "language_info": {
   "codemirror_mode": {
    "name": "ipython",
    "version": 3
   },
   "file_extension": ".py",
   "mimetype": "text/x-python",
   "name": "python",
   "nbconvert_exporter": "python",
   "pygments_lexer": "ipython3",
   "version": "3.7.6"
  },
  "toc": {
   "base_numbering": 1,
   "nav_menu": {},
   "number_sections": true,
   "sideBar": true,
   "skip_h1_title": false,
   "title_cell": "Table of Contents",
   "title_sidebar": "Contents",
   "toc_cell": false,
   "toc_position": {},
   "toc_section_display": true,
   "toc_window_display": true
  },
  "varInspector": {
   "cols": {
    "lenName": 16,
    "lenType": 16,
    "lenVar": 40
   },
   "kernels_config": {
    "python": {
     "delete_cmd_postfix": "",
     "delete_cmd_prefix": "del ",
     "library": "var_list.py",
     "varRefreshCmd": "print(var_dic_list())"
    },
    "r": {
     "delete_cmd_postfix": ") ",
     "delete_cmd_prefix": "rm(",
     "library": "var_list.r",
     "varRefreshCmd": "cat(var_dic_list()) "
    }
   },
   "types_to_exclude": [
    "module",
    "function",
    "builtin_function_or_method",
    "instance",
    "_Feature"
   ],
   "window_display": true
  }
 },
 "nbformat": 4,
 "nbformat_minor": 4
}
