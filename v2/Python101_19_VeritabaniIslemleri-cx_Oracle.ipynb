{
 "cells": [
  {
   "cell_type": "code",
   "execution_count": null,
   "metadata": {
    "ExecuteTime": {
     "end_time": "2022-12-13T07:55:15.263087Z",
     "start_time": "2022-12-13T07:55:15.261032Z"
    }
   },
   "outputs": [],
   "source": [
    "import sys\n",
    "sys.path.append('/data/ECS/PythonTutorial/')\n",
    "import log\n",
    "log.topic_id = '19_VeritabaniIslemleri-cx_Oracle'"
   ]
  },
  {
   "cell_type": "markdown",
   "metadata": {
    "id": "Vkp7aTi3dmb5"
   },
   "source": [
    "# Veritabanı İşlemleri (cx_Oracle)"
   ]
  },
  {
   "cell_type": "code",
   "execution_count": null,
   "metadata": {
    "ExecuteTime": {
     "end_time": "2022-12-13T07:55:10.624889Z",
     "start_time": "2022-12-13T07:55:10.622250Z"
    },
    "colab": {
     "base_uri": "https://localhost:8080/"
    },
    "executionInfo": {
     "elapsed": 2970,
     "status": "ok",
     "timestamp": 1653603862852,
     "user": {
      "displayName": "Alper Aydın",
      "userId": "16424421511940582464"
     },
     "user_tz": -180
    },
    "id": "A4CQbchSdt7k",
    "outputId": "54c2c374-471c-4079-d49b-96cb37ec7ee4"
   },
   "outputs": [],
   "source": [
    "import cx_Oracle"
   ]
  },
  {
   "cell_type": "markdown",
   "metadata": {},
   "source": [
    "## şifre dosyası oluşturma"
   ]
  },
  {
   "cell_type": "code",
   "execution_count": null,
   "metadata": {
    "ExecuteTime": {
     "end_time": "2022-12-13T08:34:59.999674Z",
     "start_time": "2022-12-13T08:34:59.996295Z"
    }
   },
   "outputs": [],
   "source": [
    "import os\n",
    "\n",
    "kullanici_adi = 'alperayd'\n",
    "sifre = 'xxxxx'\n",
    "path = f'/data/home/{kullanici_adi}/oracle.txt'\n",
    "\n",
    "with open(path,'w') as f:\n",
    "    f.write(f'{kullanici_adi};{sifre}')\n",
    "    \n",
    "os.chmod(path, 0o600)"
   ]
  },
  {
   "cell_type": "markdown",
   "metadata": {
    "id": "zzlfdl-ah1Bq"
   },
   "source": [
    "## connect"
   ]
  },
  {
   "cell_type": "code",
   "execution_count": null,
   "metadata": {
    "ExecuteTime": {
     "end_time": "2022-12-13T08:22:43.818057Z",
     "start_time": "2022-12-13T08:22:43.511527Z"
    },
    "executionInfo": {
     "elapsed": 6,
     "status": "ok",
     "timestamp": 1653604695470,
     "user": {
      "displayName": "Alper Aydın",
      "userId": "16424421511940582464"
     },
     "user_tz": -180
    },
    "id": "xHk-O6mceHuU"
   },
   "outputs": [],
   "source": [
    "import cx_Oracle\n",
    "import os\n",
    "\n",
    "def connect_db(user_name=None, password=None):\n",
    "    # -----------------------------------------\n",
    "    kullanici_adi = 'alperayd'\n",
    "    # -----------------------------------------\n",
    "    \n",
    "    try:\n",
    "        with open(f'/data/home/{kullanici_adi}/oracle.txt','r') as f:\n",
    "            r = f.read()\n",
    "            user_name = r.split(';')[0]\n",
    "            password = r.split(';')[1]\n",
    "        \n",
    "        os.environ['ORACLE_HOME'] = '/data/app/oracle/product/12.2.0/client_1'\n",
    "        host = \"pgarsnb1rw.fw.garanti.com.tr:4520/pgarsnb1b\"\n",
    "        #host_dwh  = 'pgardwhrw:4520/pgardwh'\n",
    "        #host_qgar = 'qgardwhapp.fw.garanti.com.tr:4520/QGARDWH'\n",
    "        \n",
    "        conn = cx_Oracle.connect(user_name, password, host, encoding='UTF-8')\n",
    "        return conn\n",
    "    except Exception as ex:\n",
    "        print(f\"bağlantı sağlanamadı, \\nHata: {ex}\")\n",
    "        return None\n",
    "\n",
    "conn =connect_db()\n",
    "print(conn)"
   ]
  },
  {
   "cell_type": "markdown",
   "metadata": {},
   "source": [
    "### tabloya yetki verme"
   ]
  },
  {
   "cell_type": "code",
   "execution_count": null,
   "metadata": {
    "ExecuteTime": {
     "end_time": "2022-12-13T08:35:08.903506Z",
     "start_time": "2022-12-13T08:35:07.707743Z"
    }
   },
   "outputs": [],
   "source": [
    "def tabloya_yetki_ver(tbl_name, role):\n",
    "    conn = connect_db()\n",
    "    curr = conn.cursor()\n",
    "\n",
    "    sql = f\"\"\"begin DS_GRANT_TO_OTHERGROUP ('{tbl_name}','{role}'); end;\"\"\" \n",
    "    curr.execute(sql)\n",
    "    conn.close()\n",
    "    \n",
    "    \n",
    "    \n",
    "    \n",
    "for role in ['BRYSLRSKSTRTJLR5579','TCRRSKSTRTJLR3966','MSTRCZMLRVRVNLTK99992361']:\n",
    "    tabloya_yetki_ver('KLV_MUSTERI_GNL', role)\n"
   ]
  },
  {
   "cell_type": "markdown",
   "metadata": {},
   "source": [
    "### açık kalan session'ların kapatılması"
   ]
  },
  {
   "cell_type": "markdown",
   "metadata": {},
   "source": [
    "select * from PGARDBA.DS_MY_SESSIONS order by MY_SQL_START_TIME desc;"
   ]
  },
  {
   "cell_type": "markdown",
   "metadata": {
    "id": "Ajvk6g_ah2yj"
   },
   "source": [
    "## veri okuma"
   ]
  },
  {
   "cell_type": "markdown",
   "metadata": {
    "ExecuteTime": {
     "end_time": "2022-09-14T13:04:27.934897Z",
     "start_time": "2022-09-14T13:04:27.925795Z"
    }
   },
   "source": [
    "### fetch komutu ile okuma"
   ]
  },
  {
   "cell_type": "code",
   "execution_count": null,
   "metadata": {
    "ExecuteTime": {
     "end_time": "2022-11-22T13:25:32.895023Z",
     "start_time": "2022-11-22T13:25:32.468462Z"
    }
   },
   "outputs": [],
   "source": [
    "# veritabanına bağlan\n",
    "conn = connect_db()\n",
    "\n",
    "# sql ile verileri çekme\n",
    "sql = \"\"\"\n",
    "    select * \n",
    "    from pgaredm.v_cnf_customer_hst \n",
    "    where record_date=trunc(sysdate-1) \n",
    "        and rownum<1000\n",
    "\"\"\"\n",
    "curr = conn.cursor()\n",
    "curr.execute(sql)\n",
    "\n",
    "ret = curr.fetchmany(numRows=50)\n",
    "col_names = [row[0] for row in curr.description]\n",
    "    \n",
    "print(curr.description)\n",
    "print(col_names)\n",
    "\n",
    "curr.close()\n",
    "conn.close()"
   ]
  },
  {
   "cell_type": "code",
   "execution_count": null,
   "metadata": {
    "ExecuteTime": {
     "end_time": "2022-12-13T08:38:56.979043Z",
     "start_time": "2022-12-13T08:38:53.463122Z"
    },
    "executionInfo": {
     "elapsed": 932,
     "status": "ok",
     "timestamp": 1653605176113,
     "user": {
      "displayName": "Alper Aydın",
      "userId": "16424421511940582464"
     },
     "user_tz": -180
    },
    "id": "0YSR_3LCiAGf"
   },
   "outputs": [],
   "source": [
    "# veritabanına bağlan\n",
    "conn = connect_db()\n",
    "\n",
    "# sql ile verileri çekme\n",
    "sql = \"\"\"\n",
    "    select customer_tp_code, count(*) \n",
    "    from pgaredm.v_cnf_customer_hst \n",
    "    where record_date=trunc(sysdate-1) \n",
    "    group by customer_tp_code\n",
    "\"\"\"\n",
    "curr = conn.cursor()\n",
    "curr.execute(sql)\n",
    "\n",
    "# çekilen verileri yazdırma\n",
    "for row in curr:\n",
    "    print(row)\n",
    "    \n",
    "curr.close()\n",
    "conn.close()"
   ]
  },
  {
   "cell_type": "markdown",
   "metadata": {},
   "source": [
    "### pandas ile okuma"
   ]
  },
  {
   "cell_type": "code",
   "execution_count": null,
   "metadata": {
    "ExecuteTime": {
     "end_time": "2022-12-13T08:44:09.900309Z",
     "start_time": "2022-12-13T08:44:06.245606Z"
    }
   },
   "outputs": [],
   "source": [
    "import pandas as pd\n",
    "\n",
    "conn = connect_db()\n",
    "df = pd.read_sql(sql, conn)\n",
    "df"
   ]
  },
  {
   "cell_type": "markdown",
   "metadata": {},
   "source": [
    "## veri yazma : to_sql"
   ]
  },
  {
   "cell_type": "code",
   "execution_count": null,
   "metadata": {
    "ExecuteTime": {
     "end_time": "2022-12-13T08:53:09.007631Z",
     "start_time": "2022-12-13T08:53:09.001070Z"
    },
    "code_folding": []
   },
   "outputs": [],
   "source": [
    "from bvia_packages.bvia_dwh_processes import dwh_processes\n",
    "\n",
    "def to_sql(df, table_name, if_exists='append', debug=True):\n",
    "    conn = connect_db()\n",
    "    curr = conn.cursor()\n",
    "\n",
    "    def upload_df(df,table_name):\n",
    "        with open('/data/home/alperayd/oracle.txt','r') as f:\n",
    "            auth = f.read().split(';')\n",
    "        dwh_processes(database = 'SANDBOX', \n",
    "                      orcl_user = auth[0], \n",
    "                      orcl_pass = auth[1]\n",
    "                     ) \\\n",
    "                    .write_to_sandbox(data = df, table_name = table_name)\n",
    "        \n",
    "    sql=f\"select * from ALL_TABLES where TABLE_NAME='{table_name}'\"\n",
    "    df_tbl = pd.read_sql(sql, conn)\n",
    "    \n",
    "    if df_tbl.shape[0]==0: \n",
    "        upload_df(df, table_name)\n",
    "        \n",
    "    elif df_tbl.shape[0]!=0 and if_exists=='replace':\n",
    "        try:\n",
    "            curr.execute(f'drop table {table_name}')\n",
    "        except:\n",
    "            pass\n",
    "        upload_df(df, table_name)\n",
    "        \n",
    "    elif df_tbl.shape[0]!=0 and if_exists=='append':\n",
    "        stg_ext = f'_STG{int(np.random.rand()*1000):03}'\n",
    "        table_name_x = table_name+stg_ext\n",
    "        \n",
    "        if debug: print(table_name_x)\n",
    "        upload_df(df, table_name_x)\n",
    "        \n",
    "        sql = f\"INSERT INTO {table_name} select * from {table_name_x}\"\n",
    "        curr.execute(sql)\n",
    "        conn.commit()\n",
    "        \n",
    "        curr.execute(f\"DROP TABLE {table_name_x}\")\n",
    "        conn.commit()\n",
    "        \n",
    "        if debug: print('completed')\n"
   ]
  },
  {
   "cell_type": "code",
   "execution_count": null,
   "metadata": {
    "ExecuteTime": {
     "end_time": "2022-12-13T08:51:41.746531Z",
     "start_time": "2022-12-13T08:51:37.047871Z"
    }
   },
   "outputs": [],
   "source": [
    "sql = \"\"\"\n",
    "    select customer_tp_code, count(*) \n",
    "    from pgaredm.v_cnf_customer_hst \n",
    "    where record_date=trunc(sysdate-1) \n",
    "    group by customer_tp_code\n",
    "\"\"\"\n",
    "conn = connect_db()\n",
    "df = pd.read_sql(sql, conn)\n",
    "df"
   ]
  },
  {
   "cell_type": "code",
   "execution_count": null,
   "metadata": {
    "ExecuteTime": {
     "end_time": "2022-12-13T08:52:08.773742Z",
     "start_time": "2022-12-13T08:52:08.766412Z"
    }
   },
   "outputs": [],
   "source": [
    "df.iloc[-1,0] = 'Bireysel'\n",
    "df.iloc[ 0,0] = 'Diğer'\n",
    "df"
   ]
  },
  {
   "cell_type": "code",
   "execution_count": null,
   "metadata": {
    "ExecuteTime": {
     "end_time": "2022-12-13T08:53:15.693067Z",
     "start_time": "2022-12-13T08:53:12.494832Z"
    }
   },
   "outputs": [],
   "source": [
    "to_sql(df, 'KLV_SEGMENT_TMP', if_exists='replace', debug=True)"
   ]
  },
  {
   "cell_type": "code",
   "execution_count": null,
   "metadata": {
    "ExecuteTime": {
     "end_time": "2022-09-14T13:37:20.944345Z",
     "start_time": "2022-09-14T13:37:20.938316Z"
    }
   },
   "outputs": [],
   "source": [
    "df2 = pd.DataFrame([['X', 12345]], columns=['CUSTOMER_TP_CODE','COUNT___'])\n",
    "df2"
   ]
  },
  {
   "cell_type": "code",
   "execution_count": null,
   "metadata": {
    "ExecuteTime": {
     "end_time": "2022-09-14T13:37:23.953886Z",
     "start_time": "2022-09-14T13:37:22.548878Z"
    }
   },
   "outputs": [],
   "source": [
    "to_sql(df2, 'KLV_SEGMENT_TMP', if_exists='append')"
   ]
  }
 ],
 "metadata": {
  "kernelspec": {
   "display_name": "Python 3",
   "language": "python",
   "name": "python3"
  },
  "language_info": {
   "codemirror_mode": {
    "name": "ipython",
    "version": 3
   },
   "file_extension": ".py",
   "mimetype": "text/x-python",
   "name": "python",
   "nbconvert_exporter": "python",
   "pygments_lexer": "ipython3",
   "version": "3.7.6"
  },
  "toc": {
   "base_numbering": 1,
   "nav_menu": {},
   "number_sections": true,
   "sideBar": true,
   "skip_h1_title": false,
   "title_cell": "Table of Contents",
   "title_sidebar": "Contents",
   "toc_cell": false,
   "toc_position": {},
   "toc_section_display": true,
   "toc_window_display": true
  },
  "varInspector": {
   "cols": {
    "lenName": 16,
    "lenType": 16,
    "lenVar": 40
   },
   "kernels_config": {
    "python": {
     "delete_cmd_postfix": "",
     "delete_cmd_prefix": "del ",
     "library": "var_list.py",
     "varRefreshCmd": "print(var_dic_list())"
    },
    "r": {
     "delete_cmd_postfix": ") ",
     "delete_cmd_prefix": "rm(",
     "library": "var_list.r",
     "varRefreshCmd": "cat(var_dic_list()) "
    }
   },
   "position": {
    "height": "496.632px",
    "left": "1647.09px",
    "right": "20px",
    "top": "122.997px",
    "width": "388.767px"
   },
   "types_to_exclude": [
    "module",
    "function",
    "builtin_function_or_method",
    "instance",
    "_Feature"
   ],
   "window_display": true
  }
 },
 "nbformat": 4,
 "nbformat_minor": 4
}
