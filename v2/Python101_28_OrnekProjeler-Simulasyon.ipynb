{
 "cells": [
  {
   "cell_type": "code",
   "execution_count": null,
   "metadata": {
    "ExecuteTime": {
     "end_time": "2022-12-19T13:05:10.784010Z",
     "start_time": "2022-12-19T13:05:10.568063Z"
    }
   },
   "outputs": [],
   "source": [
    "import sys\n",
    "sys.path.append('/data/ECS/PythonTutorial/')\n",
    "import log\n",
    "log.topic_id = '28_OrnekProjeler-Simulasyon'"
   ]
  },
  {
   "cell_type": "markdown",
   "metadata": {},
   "source": [
    "# Çağrı Merkezi Simülasyonu"
   ]
  },
  {
   "cell_type": "markdown",
   "metadata": {},
   "source": [
    "Bir çağrı merkezinde gelen çağrıları karşılamak için kaç agent gerektiği ve farklı agent adet alternatifleri için müşterilerin kayıp, ortalama bekleme süreleri ve agent'lar için de performansları karşılaştırılmak istenmektedir.\n",
    "\n",
    "Bu simülasyon için bir gün içerisinde saatler bazında ortalama müşteri dağılımı için aşağıdaki oranlar verilmiştir.\n",
    "\n",
    "* saatler = [  9,  10,  11,  12,  13,  14,  15,  16,  17]\n",
    "* oranlar = [0.1, 0.2, 0.3, 0.2, 0.4, 0.3, 0.3, 0.2, 0.1]\n",
    "\n",
    "Müşterilerin çağrı süreleri de ortalama **1-5 dk** arasında değişmektedir. **3 dk** üzerinde bekleyen müşteriler telefonu kapatmakta ve **kayıp müşteri** olarak sayılmaktadır.\n",
    "\n",
    "Bu bilgileri kullanarak çağrı merkezinin bir gününün **09:00-18:00** saat aralığını **\"gelen müşteri adeti\"** ve **\"agent sayısı\"** bilgilerini kullanarak simüle edecek bir uygulama geliştirilmesi istenmektedir."
   ]
  },
  {
   "cell_type": "markdown",
   "metadata": {},
   "source": [
    "# Gerekli Kütüphaneler"
   ]
  },
  {
   "cell_type": "code",
   "execution_count": null,
   "metadata": {
    "ExecuteTime": {
     "end_time": "2022-12-19T13:05:12.122672Z",
     "start_time": "2022-12-19T13:05:12.120204Z"
    }
   },
   "outputs": [],
   "source": [
    "import sys\n",
    "import cx_Oracle\n",
    "import pandas as pd\n",
    "import numpy as np\n",
    "import random\n",
    "import datetime as dt"
   ]
  },
  {
   "cell_type": "markdown",
   "metadata": {},
   "source": [
    "# Gerekli Değişken ve Fonksiyonların oluşturulması"
   ]
  },
  {
   "cell_type": "markdown",
   "metadata": {},
   "source": [
    "## Saatlik Müşteri Adetleri\n",
    "\n",
    "Verilen oranları kullanarak k adet müşteri geldiğinde saatler bazında nasıl dağıldıklarını aşağıdaki şekilde bulabiliriz.\n",
    "\n",
    "**random** library'sinin **choices** fonksiyonu bu ihtiyacı karşılayacak dağılımı bizlere vermektedir."
   ]
  },
  {
   "cell_type": "code",
   "execution_count": null,
   "metadata": {
    "ExecuteTime": {
     "end_time": "2022-12-19T13:05:14.314478Z",
     "start_time": "2022-12-19T13:05:14.129765Z"
    }
   },
   "outputs": [],
   "source": [
    "saatler = [  9,  10,  11,  12,  13,  14,  15,  16,  17]\n",
    "oranlar = [0.1, 0.2, 0.3, 0.2, 0.4, 0.3, 0.3, 0.2, 0.1]\n",
    "customers = random.choices(saatler, oranlar, k=1000)\n",
    "\n",
    "h,c = np.unique(customers, return_counts=True)\n",
    "pd.DataFrame([dict(list(zip(h,c)))]) \\\n",
    "    .style \\\n",
    "    .background_gradient(axis=None)\n"
   ]
  },
  {
   "cell_type": "code",
   "execution_count": null,
   "metadata": {
    "ExecuteTime": {
     "end_time": "2022-12-19T13:05:29.901358Z",
     "start_time": "2022-12-19T13:05:29.897511Z"
    }
   },
   "outputs": [],
   "source": [
    "c"
   ]
  },
  {
   "cell_type": "markdown",
   "metadata": {},
   "source": [
    "## Müşteri çağrı zamanlarının oluşturulması\n",
    "\n",
    "Her saat için gelen çağrı adetlerin bildiğimize göre her bir saat için gelen çağrı adetlerini 0-59 dakikaları arasına **eşit olasılıkla (uniform)** dağıtabiliriz. Burada da **uniform** fonksiyonunu kullanıyoruz. Saat ve dakika bilgisini kullanarak her bir çağrının zaman değerini bulabiliriz."
   ]
  },
  {
   "cell_type": "code",
   "execution_count": null,
   "metadata": {
    "ExecuteTime": {
     "end_time": "2022-12-19T13:05:49.711794Z",
     "start_time": "2022-12-19T13:05:49.707158Z"
    }
   },
   "outputs": [],
   "source": [
    "h_ = 9\n",
    "[dt.time(hour=h_, minute=int(random.uniform(0,59)), second=0) \n",
    " for _ in range(10)]"
   ]
  },
  {
   "cell_type": "markdown",
   "metadata": {},
   "source": [
    "## Müşterilerin çağrı sürelerinin hesaplanması\n",
    "\n",
    "Her müşterinin çağrı sürelerinin 1-5 dk arasında olduğunu biliyorduk. Bu bilgiyi kullanarak her çağrının geliş zamanı ve rastgele süresini hesaplayarak **müşteriler** değişkeninde saklıyoruz."
   ]
  },
  {
   "cell_type": "code",
   "execution_count": null,
   "metadata": {
    "ExecuteTime": {
     "end_time": "2022-12-19T13:07:35.449857Z",
     "start_time": "2022-12-19T13:07:35.439124Z"
    }
   },
   "outputs": [],
   "source": [
    "musteriler = [\n",
    "    (dt.time(hour=h_, \n",
    "             minute=int(random.uniform(0,59)), \n",
    "             second=0\n",
    "            ),\n",
    "     random.randint(1,5)\n",
    "    )\n",
    "    for h_,c_ in zip(h,c)\n",
    "    for i in range(c_)\n",
    "]\n",
    "\n",
    "musteriler = pd.DataFrame(sorted(musteriler))\n",
    "musteriler"
   ]
  },
  {
   "cell_type": "markdown",
   "metadata": {},
   "source": [
    "## Müşteri Oluştur fonksiyonunun oluşturulması\n",
    "\n",
    "Şu ana kadar yaptığımız işlemleri tek bir fonksiyon altında toplayarak bir gün için random bir gelen çağrı listesi oluşturabiliriz."
   ]
  },
  {
   "cell_type": "code",
   "execution_count": null,
   "metadata": {
    "ExecuteTime": {
     "end_time": "2022-12-19T13:08:21.614828Z",
     "start_time": "2022-12-19T13:08:21.502974Z"
    }
   },
   "outputs": [],
   "source": [
    "def musteri_olustur(k=1000):\n",
    "    # önce saatler bazında gelecek müşteri çağrılarının adetini buluyoruz\n",
    "    population = [  9,  10,  11,  12,  13,  14,  15,  16,  17]\n",
    "    weights =    [0.1, 0.2, 0.3, 0.2, 0.4, 0.3, 0.3, 0.2, 0.1]\n",
    "    customers = random.choices(population, weights, k=k)\n",
    "\n",
    "    h,c = np.unique(customers, return_counts=True)\n",
    "    pd.DataFrame([dict(list(zip(h,c)))]).style.background_gradient(axis=None)\n",
    "\n",
    "    # ardından bu dağılıma uyacak şekilde müşterileri random dadikalara dağıtıyoruz\n",
    "    musteriler = [\n",
    "        (dt.time(hour=h_, \n",
    "                 minute=int(random.uniform(0,59)), \n",
    "                 second=0\n",
    "                ),\n",
    "         random.randint(1,5)\n",
    "        )\n",
    "        for h_,c_ in zip(h,c)\n",
    "        for i in range(c_)\n",
    "    ]\n",
    "\n",
    "    musteriler = pd.DataFrame(sorted(musteriler))\n",
    "    return musteriler\n",
    "\n",
    "omusteriler = musteri_olustur(k=5000)\n",
    "omusteriler"
   ]
  },
  {
   "cell_type": "markdown",
   "metadata": {},
   "source": [
    "## Simülasyonun oluşturulması\n",
    "\n",
    "Hesapladığımız gelen çağrılar içerisinde bir döngü ile her bir müşterinin bir agent tarafından cevaplanması ve çağrı sonunda bekleyen bir sonraki müşterinin alınması şeklinde bir döngü izliyor olacağız.\n",
    "\n",
    "Döngü adımlarını aşağıdaki gibi sıralayabiliriz:\n",
    "* öncelikle döngü içerisinde kullanılacak değişkenleri tanımlıyoruz:\n",
    "    * t: döngü zamanı (başlangıç 09:00)\n",
    "    * agents: agent'lara ait bilgileri tutacak bir değişken\n",
    "    * max_bekleme: müşteri max bekleme süresi\n",
    "    * ct: bekleme süresini aşan müşteri adeti\n",
    "    * num_agents: agent sayısı\n",
    "    \n",
    "İlave olarak saat değerine dakika eklemek için de küçük bir fonksiyon oluşturuyoruz. Bu işlemin amacı, tekrarlayan bu işlemi daha az kod yazarak hesaplayabilmektir."
   ]
  },
  {
   "cell_type": "code",
   "execution_count": null,
   "metadata": {
    "ExecuteTime": {
     "end_time": "2022-12-19T13:14:35.701532Z",
     "start_time": "2022-12-19T13:14:35.693517Z"
    },
    "code_folding": []
   },
   "outputs": [],
   "source": [
    "musteriler = omusteriler.copy()\n",
    "display(musteriler.head(10))\n",
    "\n",
    "# mesai başlangıç\n",
    "t = dt.time(9,0)\n",
    "\n",
    "# çalışan agent sayısı\n",
    "num_agents = 8\n",
    "\n",
    "# agent'ları tutarn değişken\n",
    "agents = {i:{'status':'Bos', \n",
    "             'customers':[]\n",
    "            } \n",
    "          for i in range(num_agents)}\n",
    "\n",
    "# müşteri max bekleme süresi\n",
    "max_bekleme = 3\n",
    "# bekleme süresini aşan müşteriler\n",
    "ct = 0\n",
    "\n",
    "def bitis_zamani_hesapla(baslangic, sure):\n",
    "    bitis_zamani = (dt.datetime.combine(dt.datetime.now(), baslangic) + dt.timedelta(minutes= int(sure))).time()\n",
    "    return bitis_zamani"
   ]
  },
  {
   "cell_type": "markdown",
   "metadata": {},
   "source": [
    "## Simülasyon Döngüsü\n",
    "\n",
    "Değişkenler ve fonksiyonlar tanımlandığına göre artık simülasyonumuzu mesaiye başlatabiliriz.\n",
    "* Öncelikle, her bir agent'ı kontrol edip statü durumu **Dolu** olup işlemi tamamlanan müşteri varsa o müşteriyi agent'tan çıkartıyoruz. \n",
    "* Ardından yine statüsü **Boş** olan her bir agent için **beleyen müşteri** varsa ilk sıradaki müşteriyi agent'a atıyoruz ve müşteriyi **musteriler** datasından çıkartıyoruz ve agent'ın statüsünü **Dolu** olarak güncelliyoruz.\n",
    "* Daha sonra döngünün **t** anı itibarı ile bekleme listesinde yer alıp **max_bekleme** süresini aşan müşteriler varsa bu müşterileri **kayıp müşteri** olarak listeden çıkartıyoruz ve **ct** sayacını bir artırıyoruz.\n",
    "* Bu işlemin ardından bekleme listesinde müşteri kalmamışsa \n",
    "    * döngüden çıkıyoruz. **break**\n",
    "* Bekleyen müşteri varsa \n",
    "    * bir sonraki müşterinin geliş saatini buluyoruz.\n",
    "    * agent'larda işlemi devam eden müşterilerin bitiş saatlerini buluyoruz\n",
    "    * boş durumdaki agent'lar için bir sonraki müşterinin geliş saatini yazıyoruz\n",
    "    * agent'lardaki en küçük bitiş saatini (boş olanlar için sonraki müşteri geliş saati) bularak döngünün bir sonraki adımdaki **\"t\"** döngü saatini belirliyoruz. **min(bitis_zamanlari)**\n",
    "    * döngüye devam ediyoruz"
   ]
  },
  {
   "cell_type": "code",
   "execution_count": null,
   "metadata": {
    "ExecuteTime": {
     "end_time": "2022-12-19T13:14:41.337384Z",
     "start_time": "2022-12-19T13:14:36.971016Z"
    },
    "code_folding": []
   },
   "outputs": [],
   "source": [
    "i = 0\n",
    "\n",
    "while True:\n",
    "    # her bir agent'ın durumunu kontrol et\n",
    "    print(t)\n",
    "    \n",
    "    # eger agent'da suresi dolan işlem varsa cagriyi kapat\n",
    "    for a in agents:\n",
    "        if agents[a]['status']=='Dolu':\n",
    "            agent_son_musteri_id = agents[a]['customers'][-1][0]\n",
    "            son_musteri_baslangic = agents[a]['customers'][-1][3]\n",
    "            son_musteri_islemsure = agents[a]['customers'][-1][2]\n",
    "            son_musteri_islembitis = bitis_zamani_hesapla(son_musteri_baslangic, son_musteri_islemsure)\n",
    "            \n",
    "            # eğer işlem bitmişse agent durumunu güncelle\n",
    "            if son_musteri_islembitis <= t:\n",
    "                agents[a]['status']='Bos'\n",
    "                print(f'a:{a:<5}s:{\"-\":<5}c:{agent_son_musteri_id}')\n",
    "                \n",
    "    \n",
    "    # eger agent'da devam eden işlem yoksa VE t zamanında bekleyen müşteri varsa yeni bir müşteri ekle\n",
    "    for a in agents:\n",
    "        if agents[a]['status']=='Bos' and len(musteriler[musteriler.iloc[:,0]<=t])>0:\n",
    "            \n",
    "            # sıradaki müşteriyi al\n",
    "            musteri = (musteriler.index[0], musteriler.iloc[0,0], musteriler.iloc[0,1], t)\n",
    "            \n",
    "            # müşteriyi listeden düşür\n",
    "            musteriler.drop(musteriler.index[0], inplace=True)\n",
    "\n",
    "            # müşteriyi agent'a ekle, statüsünü güncelle\n",
    "            agents[a]['customers'].append(musteri)\n",
    "            agents[a]['status']='Dolu'\n",
    "            print(f'a:{a:<5}s:{\"+\":<5}c:{musteri}')\n",
    "\n",
    "            \n",
    "    # henüz işlem saati gelmemiş müşterilerden bekleme süresi dolan müşterileri sıradan çıkart\n",
    "    for i,c in musteriler[musteriler.iloc[:,0]<t].iterrows():\n",
    "        if bitis_zamani_hesapla(c[0], max_bekleme)<=t:\n",
    "            musteriler.drop(i, inplace=True)\n",
    "            ct = ct + 1\n",
    "            print(f'c:{i:<5}s:{\"-\":<5}')\n",
    "            \n",
    "    #display(agents)\n",
    "    \n",
    "    # eğer müşteri kalmadıysa döngüden çık\n",
    "    if len(musteriler)==0:\n",
    "        break\n",
    "    \n",
    "    # bir sonraki gelecek müşterinin çağrı saati\n",
    "    sonraki_musteri_zamani = min(musteriler.iloc[:,0])\n",
    "    \n",
    "    # minimum t zamanını bul\n",
    "    # agent'ların içerisinde işlemi ilk bitecek olanın bitiş zamanı\n",
    "    # eğer bir agent'ın müşterisi yoksa, onun bitiş zamanını ilk gelecek müşteri olarak belirle\n",
    "    bitis_zamanlari = [bitis_zamani_hesapla(agents[a]['customers'][-1][3], agents[a]['customers'][-1][2])\n",
    "                       if agents[a]['status']=='Dolu' and len(agents[a]['customers'])>0\n",
    "                       else sonraki_musteri_zamani\n",
    "                       for a in agents\n",
    "                      ]\n",
    "    \n",
    "    t = min(bitis_zamanlari)\n"
   ]
  },
  {
   "cell_type": "markdown",
   "metadata": {},
   "source": [
    "## Performans Ölçümü\n",
    "\n",
    "Döngümüz tüm müşteriler işlem görüp tamamlandıktan sonra performans ölçümü için **\"agents\"** değişkenindeki bilgileri kullanabiliriz.\n",
    "\n",
    "* Öncelikle agent'a yeni bir müşteri eklerken kullandığımız **musteri** değişkeninde müşterinin id'si, geliş saati, işlem süresi ve agent'ın müşteriyi cevaplama saati bilgilerini kullanarak her müşterinin **\"bekleme süresi\"**'ni buluyoruz.\n",
    "* İlk metriğimiz **\"Ortalama Bekleme Süresi\"** bu sürelerin ortalamasını göstermektedir.\n",
    "* **\"Kayıp Müşteri Adet\"** metriği ise direk olarak döngüde süresi dolan müşterileri sayarken kullandığımız **ct** değişkeni.\n",
    "* Ardından agent'ların performanslarını ölçmek için her bir agent'ın hizmet verdiği müşteri adeti, müşteri işlem süresi ve bu işlem süresinin 9 saatlik mesai içerisinde oranı'nı buluyoruz.\n",
    "* Sonrasında da her bir agent için bu değerleri ve agent'lar toplamını ekrana yazdırıyoruz."
   ]
  },
  {
   "cell_type": "code",
   "execution_count": null,
   "metadata": {
    "ExecuteTime": {
     "end_time": "2022-12-19T13:15:53.931618Z",
     "start_time": "2022-12-19T13:15:53.805241Z"
    }
   },
   "outputs": [],
   "source": [
    "agents"
   ]
  },
  {
   "cell_type": "code",
   "execution_count": null,
   "metadata": {
    "ExecuteTime": {
     "end_time": "2022-12-19T13:16:20.206937Z",
     "start_time": "2022-12-19T13:16:20.190643Z"
    }
   },
   "outputs": [],
   "source": [
    "sureler = [(dt.datetime.combine(dt.datetime.now(), c[3])-\n",
    "            dt.datetime.combine(dt.datetime.now(), c[1])).seconds/60\n",
    "           for a in agents\n",
    "           for c in agents[a]['customers']\n",
    "          ]\n",
    "\n",
    "print(f'{\"Ort. Bekleme Süresi\":<30}:{np.mean(sureler):.2f}')\n",
    "#print(f'{\"Kayıp Müşteri Adet \":<30}:{ct:.0f}, {ct/musteri_sayisi*100:.1f}%')\n",
    "p = [\n",
    "        np.vstack([([1, c[2], c[2]/540]) \n",
    "                   for c in agents[a]['customers']\n",
    "                  ]).sum(axis=0)\n",
    "        for a in agents\n",
    "    ]\n",
    "\n",
    "print('Agent performans:')\n",
    "for i, ap in enumerate(p):\n",
    "    print(f'{i:>30}: adet:{ap[0]:>5.0f}, sure:{ap[1]:>5.0f} dk,  ft:{ap[2]:>6.2f}')\n",
    "print(f'{\"Toplam\":>30}: adet:{np.array(p)[:,0].sum():>5.0f}, sure:{np.array(p)[:,1].sum():>5.0f} dk,  ft:{np.array(p)[:,1].sum()/(len(p)*540):>6.2f}')"
   ]
  },
  {
   "cell_type": "code",
   "execution_count": null,
   "metadata": {
    "ExecuteTime": {
     "end_time": "2022-08-03T12:55:58.596762Z",
     "start_time": "2022-08-03T12:55:58.594136Z"
    }
   },
   "outputs": [],
   "source": [
    "len()"
   ]
  },
  {
   "cell_type": "markdown",
   "metadata": {
    "ExecuteTime": {
     "end_time": "2022-07-31T11:57:50.340374Z",
     "start_time": "2022-07-31T11:57:50.336816Z"
    }
   },
   "source": [
    "# Class'a Dönüştür\n",
    "\n",
    "Şimdi yaptığımız tüm bu işlemleri bir class'a dönüştürelim\n"
   ]
  },
  {
   "cell_type": "code",
   "execution_count": null,
   "metadata": {
    "ExecuteTime": {
     "end_time": "2022-12-19T13:17:16.329963Z",
     "start_time": "2022-12-19T13:17:16.308042Z"
    },
    "code_folding": [
     9,
     21,
     36,
     40,
     64,
     159
    ]
   },
   "outputs": [],
   "source": [
    "import sys\n",
    "import cx_Oracle\n",
    "import pandas as pd\n",
    "import numpy as np\n",
    "import random\n",
    "import datetime as dt\n",
    "\n",
    "class CSSimulasyon():\n",
    "    \n",
    "    def __init__(self, musteri_sayisi=1000, agent_sayisi=3, max_bekleme_suresi=3):\n",
    "        print('Gişe simülasyon başlatıldı')\n",
    "        self.degiskenleri_tanimla(musteri_sayisi=musteri_sayisi,\n",
    "                                  agent_sayisi=agent_sayisi, \n",
    "                                  max_bekleme_suresi=max_bekleme_suresi)\n",
    "        print(f'Değişkenler tanımlandı')\n",
    "        print(f'Müşteri adet:{musteri_sayisi}, Agent adet:{agent_sayisi}')\n",
    "        self.musteriler = self.musteri_olustur(musteri_sayisi)\n",
    "        print(f'Müşteri datası oluşturuldu')\n",
    "        #print([d for d in dir(gs) if d[0]!='_'])\n",
    "        \n",
    "\n",
    "    def degiskenleri_tanimla(self, musteri_sayisi, agent_sayisi, max_bekleme_suresi):\n",
    "        # mesai başlangıç\n",
    "        self.t = dt.time(9,0)\n",
    "        \n",
    "        # musteri sayısı\n",
    "        self.musteri_sayisi = musteri_sayisi\n",
    "        \n",
    "        # çalışan agent sayısı\n",
    "        self.agent_sayisi = agent_sayisi\n",
    "\n",
    "        # müşteri max bekleme süresi\n",
    "        self.max_bekleme = max_bekleme_suresi\n",
    "        # bekleme süresini aşan müşteriler\n",
    "        self.ct = 0\n",
    "        \n",
    "    def bitis_zamani_hesapla(self, baslangic, sure):\n",
    "        bitis_zamani = (dt.datetime.combine(dt.datetime.now(), baslangic) + dt.timedelta(minutes= int(sure))).time()\n",
    "        return bitis_zamani\n",
    "    \n",
    "    def musteri_olustur(self, k=1000):\n",
    "        # önce saatler bazında gelecek müşteri çağrılarının adetini buluyoruz\n",
    "        population = [  9,  10,  11,  12,  13,  14,  15,  16,  17]\n",
    "        weights =    [0.1, 0.2, 0.3, 0.2, 0.4, 0.3, 0.3, 0.2, 0.1]\n",
    "        customers = random.choices(population, weights, k=k)\n",
    "\n",
    "        h,c = np.unique(customers, return_counts=True)\n",
    "        pd.DataFrame([dict(list(zip(h,c)))]).style.background_gradient(axis=None)\n",
    "\n",
    "        # ardından bu dağılıma uyacak şekilde müşterileri random dadikalara dağıtıyoruz\n",
    "        musteriler = [\n",
    "            (dt.time(hour=h_, \n",
    "                     minute=int(random.uniform(0,59)), \n",
    "                     second=0\n",
    "                    ),\n",
    "             random.randint(1,5)\n",
    "            )\n",
    "            for h_,c_ in zip(h,c)\n",
    "            for i in range(c_)\n",
    "        ]\n",
    "\n",
    "        self.musteriler = pd.DataFrame(sorted(musteriler))\n",
    "        return self.musteriler    \n",
    "    \n",
    "    def simulate(self, yeni_musteri_datasi=False, debug=False):\n",
    "        \n",
    "        # ------------------------------------------------------------------\n",
    "        # yeni simülasyonda resetlenecek değişkenler \n",
    "        #\n",
    "        \n",
    "        self.ct = 0\n",
    "        \n",
    "        # agent'ları tutarn değişken\n",
    "        self.agents = {i:{'status':'Bos', \n",
    "                     'customers':[]\n",
    "                    } \n",
    "                  for i in range(self.agent_sayisi)}\n",
    "\n",
    "        \n",
    "        # parametreye göre yeni müşteri datası gerekiyorsa oluştur\n",
    "        if yeni_musteri_datasi:\n",
    "            musteriler = self.musteri_olustur(self.musteri_sayisi).copy()\n",
    "        else:\n",
    "            musteriler = self.musteriler.copy()\n",
    "        \n",
    "        t = self.t\n",
    "        \n",
    "        # ------------------------------------------------------------------\n",
    "        \n",
    "        i = 0\n",
    "        while True:\n",
    "            # her bir agent'ın durumunu kontrol et\n",
    "            if debug: print(t)\n",
    "\n",
    "            # eger agent'da suresi dolan işlem varsa cagriyi kapat\n",
    "            agents = self.agents\n",
    "            for a in agents:\n",
    "                if agents[a]['status']=='Dolu':\n",
    "                    agent_son_musteri_id = agents[a]['customers'][-1][0]\n",
    "                    son_musteri_baslangic = agents[a]['customers'][-1][3]\n",
    "                    son_musteri_islemsure = agents[a]['customers'][-1][2]\n",
    "                    son_musteri_islembitis = self.bitis_zamani_hesapla(son_musteri_baslangic, son_musteri_islemsure)\n",
    "\n",
    "                    # eğer işlem bitmişse agent durumunu güncelle\n",
    "                    if son_musteri_islembitis <= t:\n",
    "                        agents[a]['status']='Bos'\n",
    "                        if debug: print(f'a:{a:<5}s:{\"-\":<5}c:{agent_son_musteri_id}')\n",
    "\n",
    "\n",
    "            # boştaki agent'a çağrı atadığımız için agetn'ları karıştırıyoruz\n",
    "            agent_keys = list(agents.keys())\n",
    "            random.shuffle(agent_keys)\n",
    "            \n",
    "            # eger agent'da devam eden işlem yoksa VE t zamanında bekleyen müşteri varsa yeni bir müşteri ekle\n",
    "            for a in agent_keys:\n",
    "                if agents[a]['status']=='Bos' and len(musteriler[musteriler.iloc[:,0]<=t])>0:\n",
    "\n",
    "                    # sıradaki müşteriyi al\n",
    "                    musteri = (musteriler.index[0], musteriler.iloc[0,0], musteriler.iloc[0,1], t)\n",
    "\n",
    "                    # müşteriyi listeden düşür\n",
    "                    musteriler.drop(musteriler.index[0], inplace=True)\n",
    "\n",
    "                    # müşteriyi agent'a ekle, statüsünü güncelle\n",
    "                    agents[a]['customers'].append(musteri)\n",
    "                    agents[a]['status']='Dolu'\n",
    "                    if debug: print(f'a:{a:<5}s:{\"+\":<5}c:{musteri}')\n",
    "\n",
    "\n",
    "            # henüz işlem saati gelmemiş müşterilerden bekleme süresi dolan müşterileri sıradan çıkart\n",
    "            for i,c in musteriler[musteriler.iloc[:,0]<t].iterrows():\n",
    "                if self.bitis_zamani_hesapla(c[0], self.max_bekleme)<=t:\n",
    "                    musteriler.drop(i, inplace=True)\n",
    "                    self.ct = self.ct + 1\n",
    "                    if debug: print(f'c:{i:<5}s:{\"-\":<5}')\n",
    "\n",
    "            #display(agents)\n",
    "\n",
    "            # eğer müşteri kalmadıysa döngüden çık\n",
    "            if len(musteriler)==0:\n",
    "                break\n",
    "\n",
    "            # bir sonraki gelecek müşterinin çağrı saati\n",
    "            sonraki_musteri_zamani = min(musteriler.iloc[:,0])\n",
    "\n",
    "            # minimum t zamanını bul\n",
    "            # agent'ların içerisinde işlemi ilk bitecek olanın bitiş zamanı\n",
    "            # eğer bir agent'ın müşterisi yoksa, onun bitiş zamanını ilk gelecek müşteri olarak belirle\n",
    "            bitis_zamanlari = [self.bitis_zamani_hesapla(agents[a]['customers'][-1][3], agents[a]['customers'][-1][2])\n",
    "                               if agents[a]['status']=='Dolu' and len(agents[a]['customers'])>0\n",
    "                               else sonraki_musteri_zamani\n",
    "                               for a in agents\n",
    "                              ]\n",
    "\n",
    "            t = min(bitis_zamanlari)\n",
    "        \n",
    "        self.agents = agents\n",
    "        self.sonuclar()\n",
    "    \n",
    "    def sonuclar(self):\n",
    "        agents = self.agents\n",
    "        \n",
    "        sureler = [(dt.datetime.combine(dt.datetime.now(), c[3])-\n",
    "                    dt.datetime.combine(dt.datetime.now(), c[1])).seconds/60\n",
    "                   for a in agents\n",
    "                   for c in agents[a]['customers']\n",
    "                  ]\n",
    "\n",
    "        print(f'{\"Ort. Bekleme Süresi\":<30}:{np.mean(sureler):.2f}')\n",
    "        print(f'{\"Kayıp Müşteri Adet \":<30}:{self.ct:.0f}, {self.ct/self.musteri_sayisi*100:.1f}%')\n",
    "        p = [\n",
    "                np.vstack([([1, c[2], c[2]/540]) \n",
    "                           for c in agents[a]['customers']\n",
    "                          ]).sum(axis=0)\n",
    "                for a in agents\n",
    "            ]\n",
    "        p\n",
    "        print('Agent performans:')\n",
    "        for i, ap in enumerate(p):\n",
    "            print(f'{i:>30}: '+\n",
    "                  f'adet:{ap[0]:>5.0f}, '+\n",
    "                  f'sure:{ap[1]:>5.0f} dk,  '+\n",
    "                  f'ft:{ap[2]:>6.2f}')\n",
    "        print(f'{\"Toplam\":>30}: '+\n",
    "              f'adet:{np.array(p)[:,0].sum():>5.0f}, '+\n",
    "              f'sure:{np.array(p)[:,1].sum():>5.0f} dk,  '+\n",
    "              f'ft:{np.array(p)[:,1].sum()/(len(p)*540):>6.2f} '+u\"\\u00B1\"+f'{np.std(np.array(p)[:,2]):.2f}'\n",
    "             )\n"
   ]
  },
  {
   "cell_type": "code",
   "execution_count": null,
   "metadata": {
    "ExecuteTime": {
     "end_time": "2022-12-19T13:17:19.075640Z",
     "start_time": "2022-12-19T13:17:19.068636Z"
    }
   },
   "outputs": [],
   "source": [
    "gs = CSSimulasyon(musteri_sayisi=1000)"
   ]
  },
  {
   "cell_type": "code",
   "execution_count": null,
   "metadata": {
    "ExecuteTime": {
     "end_time": "2022-12-19T13:17:31.165940Z",
     "start_time": "2022-12-19T13:17:30.397423Z"
    }
   },
   "outputs": [],
   "source": [
    "gs.agent_sayisi=3\n",
    "gs.simulate()"
   ]
  },
  {
   "cell_type": "code",
   "execution_count": null,
   "metadata": {
    "ExecuteTime": {
     "end_time": "2022-12-19T13:17:54.335695Z",
     "start_time": "2022-12-19T13:17:53.422778Z"
    }
   },
   "outputs": [],
   "source": [
    "gs.agent_sayisi=5\n",
    "gs.simulate()"
   ]
  },
  {
   "cell_type": "code",
   "execution_count": null,
   "metadata": {
    "ExecuteTime": {
     "end_time": "2022-12-19T13:18:16.619567Z",
     "start_time": "2022-12-19T13:18:15.432053Z"
    }
   },
   "outputs": [],
   "source": [
    "gs.agent_sayisi=8\n",
    "gs.simulate()"
   ]
  },
  {
   "cell_type": "code",
   "execution_count": null,
   "metadata": {
    "ExecuteTime": {
     "end_time": "2022-12-19T13:18:34.814028Z",
     "start_time": "2022-12-19T13:18:32.144298Z"
    }
   },
   "outputs": [],
   "source": [
    "gs.agent_sayisi=20\n",
    "gs.simulate()"
   ]
  },
  {
   "cell_type": "code",
   "execution_count": null,
   "metadata": {},
   "outputs": [],
   "source": []
  }
 ],
 "metadata": {
  "kernelspec": {
   "display_name": "Python 3",
   "language": "python",
   "name": "python3"
  },
  "language_info": {
   "codemirror_mode": {
    "name": "ipython",
    "version": 3
   },
   "file_extension": ".py",
   "mimetype": "text/x-python",
   "name": "python",
   "nbconvert_exporter": "python",
   "pygments_lexer": "ipython3",
   "version": "3.7.6"
  },
  "toc": {
   "base_numbering": 1,
   "nav_menu": {},
   "number_sections": true,
   "sideBar": true,
   "skip_h1_title": false,
   "title_cell": "Table of Contents",
   "title_sidebar": "Contents",
   "toc_cell": false,
   "toc_position": {},
   "toc_section_display": true,
   "toc_window_display": true
  },
  "varInspector": {
   "cols": {
    "lenName": 16,
    "lenType": 16,
    "lenVar": 40
   },
   "kernels_config": {
    "python": {
     "delete_cmd_postfix": "",
     "delete_cmd_prefix": "del ",
     "library": "var_list.py",
     "varRefreshCmd": "print(var_dic_list())"
    },
    "r": {
     "delete_cmd_postfix": ") ",
     "delete_cmd_prefix": "rm(",
     "library": "var_list.r",
     "varRefreshCmd": "cat(var_dic_list()) "
    }
   },
   "types_to_exclude": [
    "module",
    "function",
    "builtin_function_or_method",
    "instance",
    "_Feature"
   ],
   "window_display": false
  }
 },
 "nbformat": 4,
 "nbformat_minor": 4
}
