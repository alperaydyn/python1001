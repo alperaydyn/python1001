{
 "cells": [
  {
   "cell_type": "code",
   "execution_count": null,
   "metadata": {
    "ExecuteTime": {
     "end_time": "2022-07-26T12:20:52.724544Z",
     "start_time": "2022-07-26T12:20:52.479097Z"
    }
   },
   "outputs": [],
   "source": [
    "import sys\n",
    "sys.path.append('/data/ECS/PythonTutorial/')\n",
    "import log\n",
    "log.topic_id = '13_ClasYapisi_Moduller'"
   ]
  },
  {
   "cell_type": "markdown",
   "metadata": {
    "id": "dc20h5xY8es8"
   },
   "source": [
    "## Class Yapısı\n",
    "\n",
    "Sınıflar, python içerisinde veri ve/veya farklı fonksiyonları tutmayı sağlayan kod bileşenidir.\n",
    "\n",
    "Nesne Yönelimli Programlama kapsamında class'lar bir nesne yaratmak için kullılırlar.\n",
    "\n",
    "Bir class attribute'lar ve fonksiyonlardan oluşabilir."
   ]
  },
  {
   "cell_type": "markdown",
   "metadata": {
    "id": "r8FU8JgOSqgK"
   },
   "source": [
    "### class fonksiyonları\n",
    "\n",
    "bir class'ın içinde tanımlanan fonksiyon o sadece o class'a aittir. Aynı isimde başka bir fonksiyon class'ın içinde tanımlanan fonksiyondan etkilenmez, bunun tersi de geçerlidir."
   ]
  },
  {
   "cell_type": "markdown",
   "metadata": {
    "id": "xD6cVDbDTCyv"
   },
   "source": [
    "#### \\_\\_init\\_\\_\n",
    "* Bir class çağırıldığında ilk çalışan fonksiyondur. \n",
    "* Her class'ta \\_\\_init\\_\\_ olma zorunluluğu yoktur.\n",
    "* \\_\\_init\\_\\_ parametre alabilir, ancak return değer alamaz"
   ]
  },
  {
   "cell_type": "code",
   "execution_count": null,
   "metadata": {
    "ExecuteTime": {
     "end_time": "2022-12-12T09:13:51.689484Z",
     "start_time": "2022-12-12T09:13:51.683165Z"
    },
    "executionInfo": {
     "elapsed": 1,
     "status": "ok",
     "timestamp": 1652950782634,
     "user": {
      "displayName": "Alper Aydın",
      "userId": "16424421511940582464"
     },
     "user_tz": -180
    },
    "id": "mV93Rc5NB0qM"
   },
   "outputs": [],
   "source": [
    "class HesapMakinesi():\n",
    "    kullanim_sayisi = 0 # class attribute\n",
    "    log = []\n",
    "\n",
    "    # \"self\" keyword'u class'ın içindeki diğer değişken ve fonksiyonlara erişmek için kullanılır.\n",
    "    def __init__(self): # class fonksiyonu, class tanımlandığında otomatik olarak çalışır.\n",
    "        self.kullanim_sayisi = 0\n",
    "        self.log = []\n",
    "        print('Hesap Makinesi kullanıma hazır.')\n",
    "\n",
    "    def topla(self, a,b): # class fonksiyonu\n",
    "        self.kullanim_sayisi += 1\n",
    "        self.log.append([a, '+', b, '=' , a+b])\n",
    "        return a + b\n",
    "\n",
    "    def cikar(self, a, b): # class fonksiyonu\n",
    "        self.kullanim_sayisi += 1\n",
    "        self.log.append([a, '-', b, '=' , a-b])\n",
    "        return a - b\n",
    "\n",
    "    def carp(self, a,b): # class fonksiyonu\n",
    "        self.kullanim_sayisi += 1\n",
    "        self.log.append([a, '*', b, '=' , a*b])\n",
    "        return a * b\n",
    "\n",
    "    def bol(self, a,b): # class fonksiyonu\n",
    "        self.kullanim_sayisi += 1\n",
    "        self.log.append([a, '/', b, '=' , a/b])\n",
    "        return a / b\n"
   ]
  },
  {
   "cell_type": "code",
   "execution_count": null,
   "metadata": {
    "ExecuteTime": {
     "end_time": "2022-12-12T10:43:20.883738Z",
     "start_time": "2022-12-12T10:43:20.880460Z"
    },
    "colab": {
     "base_uri": "https://localhost:8080/"
    },
    "executionInfo": {
     "elapsed": 1,
     "status": "ok",
     "timestamp": 1652950783023,
     "user": {
      "displayName": "Alper Aydın",
      "userId": "16424421511940582464"
     },
     "user_tz": -180
    },
    "id": "IMcyJXbTRgGC",
    "outputId": "0cc55a4e-a7b8-48b1-c34c-4b54f7395522"
   },
   "outputs": [],
   "source": [
    "hm = HesapMakinesi()"
   ]
  },
  {
   "cell_type": "code",
   "execution_count": null,
   "metadata": {
    "ExecuteTime": {
     "end_time": "2022-12-12T10:43:28.453526Z",
     "start_time": "2022-12-12T10:43:28.444056Z"
    }
   },
   "outputs": [],
   "source": [
    "hm.kullanim_sayisi"
   ]
  },
  {
   "cell_type": "code",
   "execution_count": null,
   "metadata": {
    "ExecuteTime": {
     "end_time": "2022-12-12T10:43:44.441282Z",
     "start_time": "2022-12-12T10:43:44.437608Z"
    },
    "colab": {
     "base_uri": "https://localhost:8080/"
    },
    "executionInfo": {
     "elapsed": 2,
     "status": "ok",
     "timestamp": 1652950783418,
     "user": {
      "displayName": "Alper Aydın",
      "userId": "16424421511940582464"
     },
     "user_tz": -180
    },
    "id": "mQGUQemERrJl",
    "outputId": "6a0a299d-7c92-4d75-bb4e-98fd48ee52b7"
   },
   "outputs": [],
   "source": [
    "print(hm.topla(1,2))\n",
    "print(hm.carp(2,3))\n",
    "print(hm.bol(12,3))\n",
    "print(hm.cikar(12,3))"
   ]
  },
  {
   "cell_type": "markdown",
   "metadata": {
    "id": "R-tdvQZSR39K"
   },
   "source": [
    "### class attribute\n",
    "\n",
    "bir class'ın içinde tanımlanan attribute'lar class silinmediği veya yeniden tanımlanmadığı sürece aktif kalır."
   ]
  },
  {
   "cell_type": "code",
   "execution_count": null,
   "metadata": {
    "ExecuteTime": {
     "end_time": "2022-12-12T10:44:01.289555Z",
     "start_time": "2022-12-12T10:44:01.285770Z"
    },
    "colab": {
     "base_uri": "https://localhost:8080/"
    },
    "executionInfo": {
     "elapsed": 1,
     "status": "ok",
     "timestamp": 1652950783704,
     "user": {
      "displayName": "Alper Aydın",
      "userId": "16424421511940582464"
     },
     "user_tz": -180
    },
    "id": "yEN62cPDR0ln",
    "outputId": "bd401243-0b18-4613-bc4d-775088fa75da"
   },
   "outputs": [],
   "source": [
    "hm.kullanim_sayisi"
   ]
  },
  {
   "cell_type": "code",
   "execution_count": null,
   "metadata": {
    "ExecuteTime": {
     "end_time": "2022-12-12T10:45:10.273659Z",
     "start_time": "2022-12-12T10:45:10.270758Z"
    }
   },
   "outputs": [],
   "source": [
    "hm.log"
   ]
  },
  {
   "cell_type": "code",
   "execution_count": null,
   "metadata": {
    "ExecuteTime": {
     "end_time": "2022-12-12T10:45:19.281809Z",
     "start_time": "2022-12-12T10:45:19.279257Z"
    },
    "colab": {
     "base_uri": "https://localhost:8080/"
    },
    "executionInfo": {
     "elapsed": 2,
     "status": "ok",
     "timestamp": 1652950783961,
     "user": {
      "displayName": "Alper Aydın",
      "userId": "16424421511940582464"
     },
     "user_tz": -180
    },
    "id": "wY7zwd8rSjXk",
    "outputId": "d7ee3755-17e4-4877-bc0e-e675075a8d0c"
   },
   "outputs": [],
   "source": [
    "hm.topla(5,6)\n",
    "hm.kullanim_sayisi"
   ]
  },
  {
   "cell_type": "code",
   "execution_count": null,
   "metadata": {
    "ExecuteTime": {
     "end_time": "2022-12-12T10:47:19.017916Z",
     "start_time": "2022-12-12T10:47:19.015086Z"
    }
   },
   "outputs": [],
   "source": [
    "hm1 = HesapMakinesi() # hm1 ile class'ın kopyasını oluşturduğu için önceki kopyalardan bağımsız çalışır.\n",
    "hm2 = HesapMakinesi() # hm2 ile class'ın kopyasını oluşturduğu için önceki kopyalardan bağımsız çalışır."
   ]
  },
  {
   "cell_type": "code",
   "execution_count": null,
   "metadata": {
    "ExecuteTime": {
     "end_time": "2022-12-12T10:47:23.688834Z",
     "start_time": "2022-12-12T10:47:23.685808Z"
    }
   },
   "outputs": [],
   "source": [
    "hm1.topla(1,2)\n",
    "hm1.carp(1,2)\n",
    "print('HM:' , hm.kullanim_sayisi)\n",
    "print('HM1:', hm1.kullanim_sayisi)\n",
    "print('HM2:', hm2.kullanim_sayisi)\n"
   ]
  },
  {
   "cell_type": "markdown",
   "metadata": {
    "id": "yyEl9FHxbt6s"
   },
   "source": [
    "### inheritance\n",
    "\n",
    "Bir class başka bir class'ın özelliklerini taşıyacak şekilde oluşturulabilir. \n",
    "\n",
    "Böyle bir durumda \"parent class\" 'ın tüm attribute ve metod'larını olduğu gibi alarak ilave attribute ve metod'lar da eklenebilir.\n",
    "\n",
    "Bu sayede tekrar tekrar aynı kodu yazmadan, orjinal kodu bozmadan yeni özelliklerin eklenmesi sağlanabilir."
   ]
  },
  {
   "cell_type": "code",
   "execution_count": null,
   "metadata": {
    "ExecuteTime": {
     "end_time": "2022-12-12T10:52:49.686298Z",
     "start_time": "2022-12-12T10:52:49.682518Z"
    },
    "colab": {
     "base_uri": "https://localhost:8080/"
    },
    "executionInfo": {
     "elapsed": 1,
     "status": "ok",
     "timestamp": 1652950784544,
     "user": {
      "displayName": "Alper Aydın",
      "userId": "16424421511940582464"
     },
     "user_tz": -180
    },
    "id": "A6IA2ctwcTVy",
    "outputId": "ecf57778-57ed-4fc9-f4c0-eef01f1b7609"
   },
   "outputs": [],
   "source": [
    "class HesapMakinesi_v2(HesapMakinesi):\n",
    "    def ussel(self, a,b):\n",
    "        self.kullanim_sayisi += 1\n",
    "        self.log.append([a, '**', b, '=', a**b])\n",
    "        return a**b\n",
    "\n",
    "hm3 = HesapMakinesi_v2()"
   ]
  },
  {
   "cell_type": "code",
   "execution_count": null,
   "metadata": {
    "ExecuteTime": {
     "end_time": "2022-12-12T10:52:55.972193Z",
     "start_time": "2022-12-12T10:52:55.969636Z"
    },
    "colab": {
     "base_uri": "https://localhost:8080/"
    },
    "executionInfo": {
     "elapsed": 3,
     "status": "ok",
     "timestamp": 1652950784955,
     "user": {
      "displayName": "Alper Aydın",
      "userId": "16424421511940582464"
     },
     "user_tz": -180
    },
    "id": "g8b4TJLPcm3k",
    "outputId": "02fb8f76-9681-48b2-ee07-40702ccfcbc7"
   },
   "outputs": [],
   "source": [
    "hm3.topla(3,8)"
   ]
  },
  {
   "cell_type": "code",
   "execution_count": null,
   "metadata": {
    "ExecuteTime": {
     "end_time": "2022-12-12T10:53:22.996423Z",
     "start_time": "2022-12-12T10:53:22.993604Z"
    },
    "colab": {
     "base_uri": "https://localhost:8080/"
    },
    "executionInfo": {
     "elapsed": 3,
     "status": "ok",
     "timestamp": 1652950784955,
     "user": {
      "displayName": "Alper Aydın",
      "userId": "16424421511940582464"
     },
     "user_tz": -180
    },
    "id": "DvTTYWbCcq-i",
    "outputId": "cc37b97e-023d-4a11-e1bf-da2d4bb19595"
   },
   "outputs": [],
   "source": [
    "hm3.ussel(2,5)"
   ]
  },
  {
   "cell_type": "code",
   "execution_count": null,
   "metadata": {
    "ExecuteTime": {
     "end_time": "2022-12-12T10:53:38.003910Z",
     "start_time": "2022-12-12T10:53:38.001926Z"
    }
   },
   "outputs": [],
   "source": [
    "hm3.kullanim_sayisi\n",
    "print(hm3.log)"
   ]
  },
  {
   "cell_type": "code",
   "execution_count": null,
   "metadata": {
    "ExecuteTime": {
     "end_time": "2022-12-12T10:54:56.838139Z",
     "start_time": "2022-12-12T10:54:56.835166Z"
    }
   },
   "outputs": [],
   "source": [
    "class HesapMakinesi_v3(HesapMakinesi_v2):\n",
    "    def topla(self, a,b):\n",
    "        self.kullanim_sayisi += 1\n",
    "        self.log.append([a, '+', b, '=', a+b])\n",
    "        print('toplam:', a+b)\n",
    "        return a+b\n",
    "    "
   ]
  },
  {
   "cell_type": "code",
   "execution_count": null,
   "metadata": {
    "ExecuteTime": {
     "end_time": "2022-12-12T10:54:57.201230Z",
     "start_time": "2022-12-12T10:54:57.199109Z"
    }
   },
   "outputs": [],
   "source": [
    "hm4 = HesapMakinesi_v3()"
   ]
  },
  {
   "cell_type": "code",
   "execution_count": null,
   "metadata": {
    "ExecuteTime": {
     "end_time": "2022-12-12T10:54:58.387127Z",
     "start_time": "2022-12-12T10:54:58.384113Z"
    }
   },
   "outputs": [],
   "source": [
    "hm4.topla(1,4)"
   ]
  },
  {
   "cell_type": "code",
   "execution_count": null,
   "metadata": {
    "ExecuteTime": {
     "end_time": "2022-12-12T10:55:16.612831Z",
     "start_time": "2022-12-12T10:55:16.609748Z"
    }
   },
   "outputs": [],
   "source": [
    "hm.topla(1,4)"
   ]
  },
  {
   "cell_type": "code",
   "execution_count": null,
   "metadata": {
    "ExecuteTime": {
     "end_time": "2022-12-12T10:56:10.754040Z",
     "start_time": "2022-12-12T10:56:10.551640Z"
    }
   },
   "outputs": [],
   "source": [
    "import pandas as pd\n",
    "pd.DataFrame([[1,2],[3,4],[5,6],[7,8]], columns=['A','B'])"
   ]
  },
  {
   "cell_type": "code",
   "execution_count": null,
   "metadata": {
    "ExecuteTime": {
     "end_time": "2022-12-12T10:57:28.973866Z",
     "start_time": "2022-12-12T10:57:28.966061Z"
    }
   },
   "outputs": [],
   "source": [
    "import pandas as pd\n",
    "\n",
    "class myDataFrame(pd.DataFrame):\n",
    "    def row_ekle(self, row):\n",
    "        temp_df = pd.DataFrame([row], columns=self.columns)\n",
    "        ret_df = pd.concat([self, temp_df], axis=0, ignore_index=True)\n",
    "        return ret_df\n",
    "    \n",
    "    def yenifonk(self):\n",
    "        print('yein fonk selfsiz')\n",
    "\n",
    "mydf = myDataFrame()\n",
    "df = mydf.from_dict({'A':[1,2,3], 'B':['a','b','c']})\n",
    "display(df)\n"
   ]
  },
  {
   "cell_type": "code",
   "execution_count": null,
   "metadata": {
    "ExecuteTime": {
     "end_time": "2022-11-22T07:34:45.468317Z",
     "start_time": "2022-11-22T07:34:45.462636Z"
    }
   },
   "outputs": [],
   "source": [
    "df.row_ekle([4,'d'])"
   ]
  },
  {
   "cell_type": "markdown",
   "metadata": {
    "id": "9VuxM5-28gD8"
   },
   "source": [
    "## Modüller\n",
    "\n",
    "Modüller belirli bir amaca yönelik fonksiyonlar ve/veya parametreleri tutmaya yarayan kod kütüphaneleridir.\n",
    "\n",
    "Örneğin, bir önceki örnekte yazdığımız Hesap Makinesi class'ı bir modülün içeriğini oluşturabilir. Tek fark, bu class'ın bir .py dosyası içerisinde bulunmasıdır.\n",
    "\n",
    "Tekrarlanan işlemler için her seferinde tekrar tekrar kod yazımını engellemesi ve standart oluşturması açısından modüllerin önemi büyüktür."
   ]
  },
  {
   "attachments": {
    "image.png": {
     "image/png": "[encoded data removed]"
    }
   },
   "cell_type": "markdown",
   "metadata": {},
   "source": [
    "![image.png](attachment:image.png)\n",
    "\n",
    "https://learnpython.com/blog/python-modules-packages-libraries-frameworks/#:~:text=A%20library%20is%20an%20umbrella,and%20other%20packages%20(subpackages)."
   ]
  },
  {
   "cell_type": "markdown",
   "metadata": {
    "id": "1-z8_krKVEUi"
   },
   "source": [
    "### Hesap Makinesi Modülü\n",
    "\n",
    "Önceki örnekte yer alan HesapMakinesi class'ının içeriğini bir text dosyasının içine yazıp ismini **hesapmakinesi.py** olarak kaydedelim."
   ]
  },
  {
   "cell_type": "code",
   "execution_count": null,
   "metadata": {
    "ExecuteTime": {
     "end_time": "2022-12-12T11:19:13.599565Z",
     "start_time": "2022-12-12T11:19:13.596727Z"
    }
   },
   "outputs": [],
   "source": [
    "import sys\n",
    "sys.path.append('/data/ECS/_common/_libraries/')\n",
    "import hesapmakinesi2 as mdl  #.py olmadan\n",
    "display(sys.path)"
   ]
  },
  {
   "cell_type": "code",
   "execution_count": null,
   "metadata": {
    "ExecuteTime": {
     "end_time": "2022-12-12T11:19:05.274801Z",
     "start_time": "2022-12-12T11:19:05.272765Z"
    },
    "colab": {
     "base_uri": "https://localhost:8080/",
     "height": 329
    },
    "executionInfo": {
     "elapsed": 2,
     "status": "error",
     "timestamp": 1652950785593,
     "user": {
      "displayName": "Alper Aydın",
      "userId": "16424421511940582464"
     },
     "user_tz": -180
    },
    "id": "Qxp5Ng7qVaho",
    "outputId": "fd33e2af-9680-4712-d7cc-4b11578c41ec"
   },
   "outputs": [],
   "source": [
    "hm1 = mdl.HesapMakinesi()"
   ]
  },
  {
   "cell_type": "code",
   "execution_count": null,
   "metadata": {
    "ExecuteTime": {
     "end_time": "2022-12-12T11:19:06.651589Z",
     "start_time": "2022-12-12T11:19:06.648820Z"
    },
    "colab": {
     "base_uri": "https://localhost:8080/"
    },
    "executionInfo": {
     "elapsed": 2,
     "status": "ok",
     "timestamp": 1652950785967,
     "user": {
      "displayName": "Alper Aydın",
      "userId": "16424421511940582464"
     },
     "user_tz": -180
    },
    "id": "d4lZVB9Raqp5",
    "outputId": "c0f83618-b650-4e92-c60c-f03090aebc89"
   },
   "outputs": [],
   "source": [
    "hm1.topla(1,4)\n",
    "hm1.topla(2,3)\n",
    "hm1.topla(5,7)\n",
    "hm1.topla(8,4)"
   ]
  },
  {
   "cell_type": "code",
   "execution_count": null,
   "metadata": {
    "ExecuteTime": {
     "end_time": "2022-12-12T11:16:15.753783Z",
     "start_time": "2022-12-12T11:16:15.751038Z"
    },
    "colab": {
     "base_uri": "https://localhost:8080/"
    },
    "executionInfo": {
     "elapsed": 1,
     "status": "ok",
     "timestamp": 1652950786237,
     "user": {
      "displayName": "Alper Aydın",
      "userId": "16424421511940582464"
     },
     "user_tz": -180
    },
    "id": "69kumaEuauJh",
    "outputId": "13876c0b-5471-4037-c673-0fbe1a95ec69"
   },
   "outputs": [],
   "source": [
    "hm1.kullanim_sayisi"
   ]
  },
  {
   "cell_type": "code",
   "execution_count": null,
   "metadata": {
    "ExecuteTime": {
     "end_time": "2022-12-12T11:16:42.171328Z",
     "start_time": "2022-12-12T11:16:42.167943Z"
    }
   },
   "outputs": [],
   "source": [
    "hm1.log"
   ]
  },
  {
   "cell_type": "markdown",
   "metadata": {},
   "source": [
    "### değişiklik sonrası tekrar import etmek için"
   ]
  },
  {
   "cell_type": "code",
   "execution_count": null,
   "metadata": {
    "ExecuteTime": {
     "end_time": "2022-12-12T11:37:33.577945Z",
     "start_time": "2022-12-12T11:37:33.574345Z"
    }
   },
   "outputs": [],
   "source": [
    "import sys\n",
    "sys.path.append('/data/ECS/_common/_libraries/')\n",
    "\n",
    "import hesapmakinesi2 as mdl  #.py olmadan\n",
    "import imp\n",
    "imp.reload(mdl)"
   ]
  },
  {
   "cell_type": "code",
   "execution_count": null,
   "metadata": {
    "ExecuteTime": {
     "end_time": "2022-12-12T11:37:35.148158Z",
     "start_time": "2022-12-12T11:37:35.145334Z"
    }
   },
   "outputs": [],
   "source": [
    "hm1 = mdl.HesapMakinesi()\n",
    "hm1.bol(1,0)"
   ]
  },
  {
   "cell_type": "markdown",
   "metadata": {
    "id": "GUnaM2BIbGA8"
   },
   "source": [
    "### JupyterHub'da Modüllerin ortak kullanımı"
   ]
  },
  {
   "cell_type": "markdown",
   "metadata": {
    "id": "BfGixlRJbPF1"
   },
   "source": [
    "JupyterHub ortamında ortak folder'lara konulan modüller ilgili folder'a erişim yetkisi olan tüm kullanıcılar tarafından erişilebilir.\n",
    "\n",
    "Veri ve İleri Analitik ekibinin oluşturduğu modüller buna örnektir.\n",
    "* .py"
   ]
  }
 ],
 "metadata": {
  "kernelspec": {
   "display_name": "Python 3",
   "language": "python",
   "name": "python3"
  },
  "language_info": {
   "codemirror_mode": {
    "name": "ipython",
    "version": 3
   },
   "file_extension": ".py",
   "mimetype": "text/x-python",
   "name": "python",
   "nbconvert_exporter": "python",
   "pygments_lexer": "ipython3",
   "version": "3.7.6"
  },
  "toc": {
   "base_numbering": 1,
   "nav_menu": {},
   "number_sections": true,
   "sideBar": true,
   "skip_h1_title": false,
   "title_cell": "Table of Contents",
   "title_sidebar": "Contents",
   "toc_cell": false,
   "toc_position": {},
   "toc_section_display": true,
   "toc_window_display": true
  },
  "varInspector": {
   "cols": {
    "lenName": 16,
    "lenType": 16,
    "lenVar": 40
   },
   "kernels_config": {
    "python": {
     "delete_cmd_postfix": "",
     "delete_cmd_prefix": "del ",
     "library": "var_list.py",
     "varRefreshCmd": "print(var_dic_list())"
    },
    "r": {
     "delete_cmd_postfix": ") ",
     "delete_cmd_prefix": "rm(",
     "library": "var_list.r",
     "varRefreshCmd": "cat(var_dic_list()) "
    }
   },
   "position": {
    "height": "145.087px",
    "left": "1706.11px",
    "right": "20px",
    "top": "114px",
    "width": "350px"
   },
   "types_to_exclude": [
    "module",
    "function",
    "builtin_function_or_method",
    "instance",
    "_Feature"
   ],
   "window_display": true
  }
 },
 "nbformat": 4,
 "nbformat_minor": 4
}
