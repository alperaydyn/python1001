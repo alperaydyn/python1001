{
 "cells": [
  {
   "cell_type": "code",
   "execution_count": null,
   "metadata": {
    "ExecuteTime": {
     "end_time": "2022-11-15T13:01:47.276021Z",
     "start_time": "2022-11-15T13:01:46.804863Z"
    }
   },
   "outputs": [],
   "source": [
    "import sys\n",
    "sys.path.append('/data/ECS/PythonTutorial/')\n",
    "import log\n",
    "log.topic_id = '10_KosullarVeDonguler'"
   ]
  },
  {
   "cell_type": "markdown",
   "metadata": {},
   "source": [
    "<div class=\"alert alert-box\" style=\"font-size:12pt; padding:15px; line-height:150%; background-color:#33bbcc66; \">\n",
    "    Bu dersin amacı;\n",
    "    <li>Yazılımın en önemli unsurlarından Koşullar ve Döngüler hakkında bilgi sahibi olmak</li>\n",
    "    <li>Temel uygulama örneklerini yaparak pekiştirmek</li>\n",
    "</div>"
   ]
  },
  {
   "cell_type": "markdown",
   "metadata": {
    "id": "eOhqz9Es6P10"
   },
   "source": [
    "# Koşullu İfadeler (Conditional Statements)"
   ]
  },
  {
   "cell_type": "markdown",
   "metadata": {},
   "source": [
    "<div class=\"alert alert-box alert-info\" style=\"font-size:12pt; padding:15px; line-height:150%;\">\n",
    "    Koşullu İfadeleri yazdığımız kodun içerisine bir <b>kontrol adımı</b> koyarak belirli şartların sağlanması durumunda bu adımın çalışmasını istediğimiz durumlarda kullanırız.<p/>\n",
    "    Çalışması verilen şarta bağlı olan kod bloğu <b>indent</b> içerisine alınarak programın geri kalanından ayrıştırılır.\n",
    "</div>"
   ]
  },
  {
   "cell_type": "markdown",
   "metadata": {
    "id": "mde5-b1S6S6t"
   },
   "source": [
    "## If Else\n",
    "\n",
    "\n",
    "verilen bir koşulun geçerli olması durumunda bir sonraki işlemi gerçekleştirir"
   ]
  },
  {
   "cell_type": "markdown",
   "metadata": {},
   "source": [
    "### tek başına if"
   ]
  },
  {
   "cell_type": "code",
   "execution_count": null,
   "metadata": {
    "ExecuteTime": {
     "end_time": "2022-12-06T12:35:53.257025Z",
     "start_time": "2022-12-06T12:35:53.254111Z"
    },
    "executionInfo": {
     "elapsed": 4,
     "status": "ok",
     "timestamp": 1652823688657,
     "user": {
      "displayName": "Alper Aydın",
      "userId": "16424421511940582464"
     },
     "user_tz": -180
    },
    "id": "sqBf8vp496EP"
   },
   "outputs": [],
   "source": [
    "# koşulun geçerli olmaması durumunda hiç bir işlem gerçekleşmez\n",
    "print('kod çalışmaya başladı')\n",
    "\n",
    "a = 6\n",
    "if a < 5:\n",
    "    print('a < 5')\n",
    "    \n",
    "print('kod çalışması tamamlandı')"
   ]
  },
  {
   "cell_type": "code",
   "execution_count": null,
   "metadata": {
    "ExecuteTime": {
     "end_time": "2022-12-06T12:35:53.729501Z",
     "start_time": "2022-12-06T12:35:53.726785Z"
    }
   },
   "outputs": [],
   "source": [
    "# koşulun geçerli olmaması durumunda hiç bir işlem gerçekleşmez\n",
    "print('kod çalışmaya başladı')\n",
    "\n",
    "a = 1\n",
    "if a < 5:\n",
    "    print('a < 5')\n",
    "    \n",
    "print('kod çalışması tamamlandı')"
   ]
  },
  {
   "cell_type": "markdown",
   "metadata": {},
   "source": [
    "### if + else birlikte"
   ]
  },
  {
   "cell_type": "code",
   "execution_count": null,
   "metadata": {
    "ExecuteTime": {
     "end_time": "2022-12-06T12:36:40.356223Z",
     "start_time": "2022-12-06T12:36:40.351908Z"
    },
    "colab": {
     "base_uri": "https://localhost:8080/"
    },
    "executionInfo": {
     "elapsed": 266,
     "status": "ok",
     "timestamp": 1652823971792,
     "user": {
      "displayName": "Alper Aydın",
      "userId": "16424421511940582464"
     },
     "user_tz": -180
    },
    "id": "K5S92hX6-xyL",
    "outputId": "4a09349b-4ba4-4aab-a8ae-8d85c644ff9e"
   },
   "outputs": [],
   "source": [
    "# else ifadesi ile koşulun geçerli olmadığı durumlarda takip eden işlem gerçekleşir\n",
    "a = 3\n",
    "if a > 5:\n",
    "    print('a > 5')\n",
    "    print('...')\n",
    "    print('...')\n",
    "    print('...')\n",
    "    print('...')\n",
    "    print('...')\n",
    "else:\n",
    "    print('a <= 5')\n",
    "    print('...')\n",
    "    print('...')\n",
    "    print('...')\n",
    "    \n",
    "print('işlem tamam')"
   ]
  },
  {
   "cell_type": "code",
   "execution_count": null,
   "metadata": {
    "ExecuteTime": {
     "end_time": "2022-12-06T12:37:17.845141Z",
     "start_time": "2022-12-06T12:37:17.842481Z"
    },
    "colab": {
     "base_uri": "https://localhost:8080/"
    },
    "executionInfo": {
     "elapsed": 249,
     "status": "ok",
     "timestamp": 1652823978604,
     "user": {
      "displayName": "Alper Aydın",
      "userId": "16424421511940582464"
     },
     "user_tz": -180
    },
    "id": "dixQE-mo_FUx",
    "outputId": "9582d796-7512-40d3-8449-cd12ce899c3c"
   },
   "outputs": [],
   "source": [
    "a = 4\n",
    "if a > 5:\n",
    "    print('a > 5')\n",
    "else:\n",
    "    print('a <= 5')"
   ]
  },
  {
   "cell_type": "markdown",
   "metadata": {
    "id": "wnfN0kAe_OGE"
   },
   "source": [
    "### birden fazla koşul olması durumunda"
   ]
  },
  {
   "cell_type": "code",
   "execution_count": null,
   "metadata": {
    "ExecuteTime": {
     "end_time": "2022-12-06T12:41:58.560118Z",
     "start_time": "2022-12-06T12:41:58.556748Z"
    },
    "colab": {
     "base_uri": "https://localhost:8080/"
    },
    "executionInfo": {
     "elapsed": 415,
     "status": "ok",
     "timestamp": 1652824108572,
     "user": {
      "displayName": "Alper Aydın",
      "userId": "16424421511940582464"
     },
     "user_tz": -180
    },
    "id": "gsnBu_J8_Q0Z",
    "outputId": "a83cff7d-7600-4cea-ee1f-ac97464f97cb"
   },
   "outputs": [],
   "source": [
    "a = 5\n",
    "b = 3\n",
    "if a == b:\n",
    "    print('a = b')\n",
    "    print('birinci kontrol')\n",
    "elif a > b:\n",
    "    print('a > b')\n",
    "elif a < b:\n",
    "    print('a < b')\n",
    "else:\n",
    "    print('hiçbiri')\n",
    "\n",
    "print('bitti')"
   ]
  },
  {
   "cell_type": "code",
   "execution_count": null,
   "metadata": {
    "ExecuteTime": {
     "end_time": "2022-12-06T12:41:59.957660Z",
     "start_time": "2022-12-06T12:41:59.954621Z"
    }
   },
   "outputs": [],
   "source": [
    "if a==b:\n",
    "    print('a=b')\n",
    "\n",
    "if a>b:\n",
    "    print('a>b')\n",
    "    \n",
    "if a<b:\n",
    "    print('a<b')\n",
    "else:\n",
    "    print('diğer')\n"
   ]
  },
  {
   "cell_type": "markdown",
   "metadata": {
    "id": "CjuFIp2p_xZ3"
   },
   "source": [
    "### koşul durumuna göre bir değişkene değer atama"
   ]
  },
  {
   "cell_type": "code",
   "execution_count": null,
   "metadata": {
    "ExecuteTime": {
     "end_time": "2022-11-15T13:11:27.577134Z",
     "start_time": "2022-11-15T13:11:27.571713Z"
    }
   },
   "outputs": [],
   "source": [
    "if a > b:\n",
    "    cevap = 'a > b'\n",
    "else:\n",
    "    cevap = 'a <= b'\n",
    "    \n",
    "    \n",
    "    \n",
    "print(cevap)"
   ]
  },
  {
   "cell_type": "markdown",
   "metadata": {},
   "source": [
    "### Koşullu ifade kısa yazım şekli"
   ]
  },
  {
   "cell_type": "code",
   "execution_count": null,
   "metadata": {
    "ExecuteTime": {
     "end_time": "2022-12-06T12:45:00.319867Z",
     "start_time": "2022-12-06T12:45:00.317270Z"
    },
    "colab": {
     "base_uri": "https://localhost:8080/"
    },
    "executionInfo": {
     "elapsed": 312,
     "status": "ok",
     "timestamp": 1652824210971,
     "user": {
      "displayName": "Alper Aydın",
      "userId": "16424421511940582464"
     },
     "user_tz": -180
    },
    "id": "nWOPkYYj_39Z",
    "outputId": "6f1298c7-04c5-4df1-b320-d9c171680fd8"
   },
   "outputs": [],
   "source": [
    "# cevap değişkeninin değeri a > b ifadesine göre belirlenir\n",
    "cevap = 'a > b' if a > b else 'a <= b'\n",
    "print(cevap)"
   ]
  },
  {
   "cell_type": "code",
   "execution_count": null,
   "metadata": {
    "ExecuteTime": {
     "end_time": "2022-12-06T12:45:18.276803Z",
     "start_time": "2022-12-06T12:45:18.274264Z"
    },
    "colab": {
     "base_uri": "https://localhost:8080/"
    },
    "executionInfo": {
     "elapsed": 344,
     "status": "ok",
     "timestamp": 1652824379726,
     "user": {
      "displayName": "Alper Aydın",
      "userId": "16424421511940582464"
     },
     "user_tz": -180
    },
    "id": "qgQGw-3YAFbh",
    "outputId": "3c10d8e4-d900-4718-affd-e07684fe052a"
   },
   "outputs": [],
   "source": [
    "# koşulun durumuna göre farklı işlem yapma\n",
    "print('a > b') if a > b else print('a <= b')"
   ]
  },
  {
   "cell_type": "code",
   "execution_count": null,
   "metadata": {
    "ExecuteTime": {
     "end_time": "2022-12-06T12:45:47.645103Z",
     "start_time": "2022-12-06T12:45:47.642289Z"
    },
    "colab": {
     "base_uri": "https://localhost:8080/"
    },
    "executionInfo": {
     "elapsed": 346,
     "status": "ok",
     "timestamp": 1652824470696,
     "user": {
      "displayName": "Alper Aydın",
      "userId": "16424421511940582464"
     },
     "user_tz": -180
    },
    "id": "FhlhHBG5Atgi",
    "outputId": "70903ba1-3b20-47d7-ab11-9b74f2e28f71"
   },
   "outputs": [],
   "source": [
    "# birden fazla koşula göre işlem yapma\n",
    "a = 2\n",
    "b = 2\n",
    "print('a > b') if a > b else print('b > a ') if b > a else print('a = b')"
   ]
  },
  {
   "cell_type": "code",
   "execution_count": null,
   "metadata": {
    "ExecuteTime": {
     "end_time": "2022-11-21T07:53:33.302020Z",
     "start_time": "2022-11-21T07:53:33.299028Z"
    }
   },
   "outputs": [],
   "source": [
    "if a>b:\n",
    "    print('a>b')\n",
    "else:\n",
    "    if b>a:\n",
    "        print('b>a')\n",
    "    else:\n",
    "        print('a=b')"
   ]
  },
  {
   "cell_type": "markdown",
   "metadata": {
    "id": "qcnE4hxUBTmC"
   },
   "source": [
    "### farklı koşulların kombinasyonu"
   ]
  },
  {
   "cell_type": "code",
   "execution_count": null,
   "metadata": {
    "ExecuteTime": {
     "end_time": "2022-11-15T13:19:05.048258Z",
     "start_time": "2022-11-15T13:19:05.044011Z"
    },
    "colab": {
     "base_uri": "https://localhost:8080/"
    },
    "executionInfo": {
     "elapsed": 281,
     "status": "ok",
     "timestamp": 1652824638967,
     "user": {
      "displayName": "Alper Aydın",
      "userId": "16424421511940582464"
     },
     "user_tz": -180
    },
    "id": "Ii7n-8cfBXrd",
    "outputId": "5296ae30-49be-4a2c-c010-947c00938408"
   },
   "outputs": [],
   "source": [
    "a = 3\n",
    "b = 5\n",
    "if (a>0) and (b<2):\n",
    "    print('a>0 ve b<2')\n",
    "elif (a>0) or (b!=2):\n",
    "    print('a>0 or b!=2') #bu koşul doğru\n",
    "elif (a>0) and (b>0):\n",
    "    print('a>0 ve b>0') # bu koşul da doğru ama hiyerarşik olarak önceki koşulu gerçekleştirip bloktan çıkıyor.\n",
    "else:\n",
    "    print('diger')\n",
    "\n",
    "print('bitti')"
   ]
  },
  {
   "cell_type": "markdown",
   "metadata": {
    "id": "TuWUfSHJB5TK"
   },
   "source": [
    "### iç içe if"
   ]
  },
  {
   "cell_type": "code",
   "execution_count": null,
   "metadata": {
    "ExecuteTime": {
     "end_time": "2022-09-07T12:46:39.449613Z",
     "start_time": "2022-09-07T12:46:39.446227Z"
    },
    "colab": {
     "base_uri": "https://localhost:8080/"
    },
    "executionInfo": {
     "elapsed": 291,
     "status": "ok",
     "timestamp": 1652824754502,
     "user": {
      "displayName": "Alper Aydın",
      "userId": "16424421511940582464"
     },
     "user_tz": -180
    },
    "id": "Xi5e0reGB7Io",
    "outputId": "da3a436b-d54c-48c8-e1c7-80fe662513c3"
   },
   "outputs": [],
   "source": [
    "if a > 0:\n",
    "    print('koşul 1')\n",
    "    if b > 0:\n",
    "        print('koşul 1.1')\n",
    "        print('a>0, b>0')\n",
    "    else:\n",
    "        print('koşul 1.2')\n",
    "        print('a>0, b<=0')\n",
    "else:\n",
    "    print('koşul 2')\n",
    "    print('a<=0')"
   ]
  },
  {
   "cell_type": "markdown",
   "metadata": {
    "id": "iyX5kJx6_pun"
   },
   "source": [
    "### tek satırda gösterim"
   ]
  },
  {
   "cell_type": "code",
   "execution_count": null,
   "metadata": {
    "ExecuteTime": {
     "end_time": "2022-11-15T13:24:11.784863Z",
     "start_time": "2022-11-15T13:24:11.780544Z"
    },
    "id": "D-woq-_O_G_R"
   },
   "outputs": [],
   "source": [
    "a,b = 6,8\n",
    "if (a > b): print('a > b')\n",
    "elif (a < b): print('a < b')\n",
    "else: print('a==b')"
   ]
  },
  {
   "cell_type": "markdown",
   "metadata": {
    "id": "xmtEnG-3CZVA"
   },
   "source": [
    "### Pass\n",
    "\n",
    "pass bir döngünün ya da koşulun arkasından hiç bir işlem yapılmaması istendiği durumlarda kullanılır."
   ]
  },
  {
   "cell_type": "code",
   "execution_count": null,
   "metadata": {
    "ExecuteTime": {
     "end_time": "2022-12-06T12:51:28.601141Z",
     "start_time": "2022-12-06T12:51:28.598780Z"
    },
    "executionInfo": {
     "elapsed": 333,
     "status": "ok",
     "timestamp": 1652888309482,
     "user": {
      "displayName": "Alper Aydın",
      "userId": "16424421511940582464"
     },
     "user_tz": -180
    },
    "id": "RHbslLoRCd9I"
   },
   "outputs": [],
   "source": [
    "a = 4\n",
    "if a < 5:\n",
    "    # print('yetersiz bakiye', 1/0)\n",
    "    pass\n",
    "elif a > 5:\n",
    "    print('a > 5')"
   ]
  },
  {
   "cell_type": "markdown",
   "metadata": {},
   "source": [
    "# Döngüler"
   ]
  },
  {
   "cell_type": "markdown",
   "metadata": {},
   "source": [
    "<div class=\"alert alert-box alert-info\" style=\"font-size:12pt; padding:15px; line-height:150%;\">\n",
    "    Döngüler yazdığımız kodun içerisine <b>tekrarlayan adımlar</b> gereken durumlarda verilen döngü sayısında ya da döngüde istenilen şartların sağlanana kadar çalışmasını istediğimiz durumlarda kullanırız.<p/>\n",
    "    Tekrarlanması istenen kod bloğu <b>indent</b> içerisine alınarak programın geri kalanından ayrıştırılır.\n",
    "</div>"
   ]
  },
  {
   "cell_type": "markdown",
   "metadata": {
    "id": "wTNWheII6Ut1"
   },
   "source": [
    "## For Loop"
   ]
  },
  {
   "cell_type": "markdown",
   "metadata": {},
   "source": [
    "<div class=\"alert alert-box alert-info\" style=\"font-size:12pt; padding:15px; line-height:150%;\">\n",
    "    For döngüleri farklı şekillerde kurulabilir\n",
    "</div>"
   ]
  },
  {
   "cell_type": "markdown",
   "metadata": {
    "id": "Ba2bRb6w4uAm"
   },
   "source": [
    "### Range kullanımı\n",
    "\n",
    "range fonksiyonu 3 parametre ile çalıştırılabilir\n",
    "* start: başlangıç değeri\n",
    "* stop: durma değeri\n",
    "* step: adım değeri\n"
   ]
  },
  {
   "cell_type": "code",
   "execution_count": null,
   "metadata": {
    "ExecuteTime": {
     "end_time": "2022-12-06T12:56:29.365490Z",
     "start_time": "2022-12-06T12:56:29.362519Z"
    },
    "colab": {
     "base_uri": "https://localhost:8080/"
    },
    "executionInfo": {
     "elapsed": 374,
     "status": "ok",
     "timestamp": 1652889492812,
     "user": {
      "displayName": "Alper Aydın",
      "userId": "16424421511940582464"
     },
     "user_tz": -180
    },
    "id": "NcXedr9Q4sA9",
    "outputId": "3b3fac02-a55d-4337-9552-2f5b97c2d74c"
   },
   "outputs": [],
   "source": [
    "# tek parametre ile çağırılırsa durma parametresi olarak çalışır, \n",
    "# durma değeri döngüye dahil değildir.\n",
    "\n",
    "for i in range(0,5):\n",
    "    print(i)"
   ]
  },
  {
   "cell_type": "code",
   "execution_count": null,
   "metadata": {
    "ExecuteTime": {
     "end_time": "2022-12-06T12:57:41.207758Z",
     "start_time": "2022-12-06T12:57:41.204908Z"
    },
    "colab": {
     "base_uri": "https://localhost:8080/"
    },
    "executionInfo": {
     "elapsed": 295,
     "status": "ok",
     "timestamp": 1652889515474,
     "user": {
      "displayName": "Alper Aydın",
      "userId": "16424421511940582464"
     },
     "user_tz": -180
    },
    "id": "QzSnYAFg5Dek",
    "outputId": "b091e8fe-2bec-43e1-ad0b-2f34f66e2a4b"
   },
   "outputs": [],
   "source": [
    "# iki parametre ile çağırılırsa başlangıç ve bitiş olarak çalışır\n",
    "for i in range(1,15,3):\n",
    "    print(i)"
   ]
  },
  {
   "cell_type": "code",
   "execution_count": null,
   "metadata": {
    "ExecuteTime": {
     "end_time": "2022-12-06T12:57:54.731126Z",
     "start_time": "2022-12-06T12:57:54.728230Z"
    },
    "colab": {
     "base_uri": "https://localhost:8080/"
    },
    "executionInfo": {
     "elapsed": 6,
     "status": "ok",
     "timestamp": 1652889530482,
     "user": {
      "displayName": "Alper Aydın",
      "userId": "16424421511940582464"
     },
     "user_tz": -180
    },
    "id": "Lkqp6dmF5HC4",
    "outputId": "2de34601-7fd7-42a5-f609-f6745ab06001"
   },
   "outputs": [],
   "source": [
    "# üç parametre ile çağırılırsa sırasıyla başlangıç, bitiş ve adım olarak çalışır\n",
    "for i in range(1,11,2):\n",
    "    print(i)"
   ]
  },
  {
   "cell_type": "markdown",
   "metadata": {},
   "source": [
    "### Gezinilebilen Değişkenler ile (iterables)\n",
    "\n",
    "Liste benzeri içerisinde birden fazla değişkenin yer aldığı sıralı, sözlük veya küme benzeri değişkenler kullanılarak oluşturulan döngülerdir."
   ]
  },
  {
   "cell_type": "code",
   "execution_count": null,
   "metadata": {
    "ExecuteTime": {
     "end_time": "2022-12-06T12:59:02.479077Z",
     "start_time": "2022-12-06T12:59:02.476021Z"
    },
    "colab": {
     "base_uri": "https://localhost:8080/"
    },
    "executionInfo": {
     "elapsed": 316,
     "status": "ok",
     "timestamp": 1652888483540,
     "user": {
      "displayName": "Alper Aydın",
      "userId": "16424421511940582464"
     },
     "user_tz": -180
    },
    "id": "bU4gu3Iq6XOJ",
    "outputId": "f46b6eec-6fd5-4f30-de80-6f6cf07e7832"
   },
   "outputs": [],
   "source": [
    "iskollari = ['TA','SA','SB','SC','BA','BB']\n",
    "for i in iskollari:\n",
    "    print(i)"
   ]
  },
  {
   "cell_type": "markdown",
   "metadata": {},
   "source": [
    "#### Dictionary içerisinde döngü oluşturmak"
   ]
  },
  {
   "cell_type": "code",
   "execution_count": null,
   "metadata": {
    "ExecuteTime": {
     "end_time": "2022-12-06T13:04:36.422549Z",
     "start_time": "2022-12-06T13:04:36.419630Z"
    }
   },
   "outputs": [],
   "source": [
    "harfler = 'ABCDEFG'\n",
    "for x in harfler:\n",
    "    print(x)"
   ]
  },
  {
   "cell_type": "code",
   "execution_count": null,
   "metadata": {
    "ExecuteTime": {
     "end_time": "2022-12-06T12:59:47.680697Z",
     "start_time": "2022-12-06T12:59:47.675452Z"
    },
    "colab": {
     "base_uri": "https://localhost:8080/"
    },
    "executionInfo": {
     "elapsed": 7,
     "status": "ok",
     "timestamp": 1652888564764,
     "user": {
      "displayName": "Alper Aydın",
      "userId": "16424421511940582464"
     },
     "user_tz": -180
    },
    "id": "tcsqYagj1ZN6",
    "outputId": "259f19d0-12c4-4720-8816-26017cea5525"
   },
   "outputs": [],
   "source": [
    "# string değişkenler de iterable değişken örneğidir.\n",
    "açıklama = {'A': 'proje takvimi belirlendi', \n",
    "            'B':'paydaşlarla toplantılar yapıldı',\n",
    "            'C':'asdfadfa',\n",
    "            'D':'assgsdfgsd',\n",
    "            'E':'hgfgh', \n",
    "            'F':'fhfdghdfgh',\n",
    "            'G': 'dfhgsfdg'}\n",
    "\n",
    "for h in harfler:\n",
    "    print(h, ':\\n', açıklama[h]) # \\n line feed karakteri, print komutu içerisinde alt satıra geçmeyi sağlar\n",
    "    print('-'*20)\n",
    "\n",
    "print('döngü sona erdi')"
   ]
  },
  {
   "cell_type": "code",
   "execution_count": null,
   "metadata": {
    "ExecuteTime": {
     "end_time": "2022-12-06T13:05:43.557316Z",
     "start_time": "2022-12-06T13:05:43.549449Z"
    }
   },
   "outputs": [],
   "source": [
    "display(açıklama)\n",
    "\n",
    "for a in açıklama:\n",
    "    print(a)"
   ]
  },
  {
   "cell_type": "code",
   "execution_count": null,
   "metadata": {
    "ExecuteTime": {
     "end_time": "2022-12-06T13:06:21.184023Z",
     "start_time": "2022-12-06T13:06:21.181090Z"
    }
   },
   "outputs": [],
   "source": [
    "açıklama.items()"
   ]
  },
  {
   "cell_type": "code",
   "execution_count": null,
   "metadata": {
    "ExecuteTime": {
     "end_time": "2022-12-06T13:07:22.975881Z",
     "start_time": "2022-12-06T13:07:22.971914Z"
    }
   },
   "outputs": [],
   "source": [
    "for k,v in açıklama.items():\n",
    "    print(k)\n",
    "    print(v)\n",
    "    print('-'*20)"
   ]
  },
  {
   "cell_type": "markdown",
   "metadata": {
    "id": "tulzIkMA2DxX"
   },
   "source": [
    "### Break\n",
    "\n",
    "break ifadesi ile döngünün bitmesini beklemeden döngüden çıkılması sağlanır."
   ]
  },
  {
   "cell_type": "code",
   "execution_count": null,
   "metadata": {
    "ExecuteTime": {
     "end_time": "2022-12-06T13:09:28.271827Z",
     "start_time": "2022-12-06T13:09:28.268096Z"
    },
    "colab": {
     "base_uri": "https://localhost:8080/"
    },
    "executionInfo": {
     "elapsed": 3,
     "status": "ok",
     "timestamp": 1652888703391,
     "user": {
      "displayName": "Alper Aydın",
      "userId": "16424421511940582464"
     },
     "user_tz": -180
    },
    "id": "0sEs-mNm1kyD",
    "outputId": "f4d19293-cc90-44ca-b6d4-2b0e355dc502"
   },
   "outputs": [],
   "source": [
    "iskollari = ['TA','SA','SB','SC','BA','BB']\n",
    "for i in iskollari:\n",
    "    if i == 'SC':\n",
    "        print('mikro işkolu bulundu')\n",
    "        break # break'den sonra döngüden çıkar, sonrası çalıştırılmaz\n",
    "    print(i)\n",
    "\n",
    "print('döngü tamamlandı')\n",
    "print('en son işlem yapılan eleman:', i)"
   ]
  },
  {
   "cell_type": "markdown",
   "metadata": {
    "id": "YEO9nbxM6vt8"
   },
   "source": [
    "### Continue"
   ]
  },
  {
   "cell_type": "code",
   "execution_count": null,
   "metadata": {
    "ExecuteTime": {
     "end_time": "2022-12-06T13:12:01.181178Z",
     "start_time": "2022-12-06T13:12:01.177761Z"
    },
    "colab": {
     "base_uri": "https://localhost:8080/"
    },
    "executionInfo": {
     "elapsed": 423,
     "status": "ok",
     "timestamp": 1652890147492,
     "user": {
      "displayName": "Alper Aydın",
      "userId": "16424421511940582464"
     },
     "user_tz": -180
    },
    "id": "Bp6Y-ZC96yak",
    "outputId": "2f1ae887-2f0a-4bfd-ffc4-77ec3ebc04da"
   },
   "outputs": [],
   "source": [
    "iskollari = ['TA','SA','SB','SC','BA','BB']\n",
    "for i in iskollari:\n",
    "    if i == 'SC':\n",
    "        continue # continue ifadesinden sonra bir sonraki elemana geçilir, sonrası çalıştırılmaz\n",
    "        \n",
    "    print(i)\n",
    "    # ASDFA\n",
    "    # ASDFA\n",
    "    # ASDFA\n",
    "    # ASDFA\n",
    "    # ASDFA\n",
    "    # ASDFA\n",
    "    # ASDFA\n",
    "    # ASDFA\n",
    "    # ASDFA\n",
    "    # ASDFA\n",
    "    # ASDFA"
   ]
  },
  {
   "cell_type": "markdown",
   "metadata": {
    "id": "zt2inXb88gKV"
   },
   "source": [
    "### Else\n",
    "\n",
    "* döngü bittiktek sonra çalışması istenen işler için kullanılır. \n",
    "* döngüden break ile çıkılırsa else çalışmaz\n",
    "* döngünün tüm elemanlarının döngü içerisinde kulanıldığının testi için kullanıabilir"
   ]
  },
  {
   "cell_type": "code",
   "execution_count": null,
   "metadata": {
    "ExecuteTime": {
     "end_time": "2022-12-06T13:13:58.441203Z",
     "start_time": "2022-12-06T13:13:58.437537Z"
    },
    "colab": {
     "base_uri": "https://localhost:8080/"
    },
    "executionInfo": {
     "elapsed": 288,
     "status": "ok",
     "timestamp": 1652890760596,
     "user": {
      "displayName": "Alper Aydın",
      "userId": "16424421511940582464"
     },
     "user_tz": -180
    },
    "id": "JhhwbNfP8hYF",
    "outputId": "a926d7e7-3c96-4b3b-baf5-666bbc3b4c40"
   },
   "outputs": [],
   "source": [
    "iskollari = ['TA','SA','SB','SC','BA','BB']\n",
    "for i in iskollari:\n",
    "    if i == 'XX':\n",
    "        break \n",
    "    print(i)\n",
    "else:\n",
    "    print('tüm işkolları listelendi')\n",
    "    \n",
    "print('döngü bitti')"
   ]
  },
  {
   "cell_type": "code",
   "execution_count": null,
   "metadata": {
    "ExecuteTime": {
     "end_time": "2022-12-06T13:14:41.202815Z",
     "start_time": "2022-12-06T13:14:41.199453Z"
    },
    "colab": {
     "base_uri": "https://localhost:8080/"
    },
    "executionInfo": {
     "elapsed": 296,
     "status": "ok",
     "timestamp": 1652890772342,
     "user": {
      "displayName": "Alper Aydın",
      "userId": "16424421511940582464"
     },
     "user_tz": -180
    },
    "id": "89ih32nq93Ga",
    "outputId": "1f54c863-537f-4638-b544-f750c091ebc3"
   },
   "outputs": [],
   "source": [
    "iskollari = ['TA','SA','SB','SC','BA','BB']\n",
    "for i in iskollari:\n",
    "    if i == 'SC':\n",
    "        break \n",
    "    print(i)\n",
    "else:\n",
    "    print('tüm işkolları listelendi') # loop'daki tüm elemanların döndüğü ve break ile çıkılmadığı durumu gösterir\n",
    "\n",
    "print('döngü bitti')"
   ]
  },
  {
   "cell_type": "markdown",
   "metadata": {
    "id": "0mCuFaOj-QrE"
   },
   "source": [
    "### Pass\n",
    "\n",
    "* pass bir döngünün ya da koşulun arkasından hiç bir işlem yapılmaması istendiği durumlarda kullanılır."
   ]
  },
  {
   "cell_type": "code",
   "execution_count": null,
   "metadata": {
    "ExecuteTime": {
     "end_time": "2022-09-07T13:20:46.925227Z",
     "start_time": "2022-09-07T13:20:46.922377Z"
    },
    "executionInfo": {
     "elapsed": 269,
     "status": "ok",
     "timestamp": 1652891861188,
     "user": {
      "displayName": "Alper Aydın",
      "userId": "16424421511940582464"
     },
     "user_tz": -180
    },
    "id": "tqQGCQl--RqS"
   },
   "outputs": [],
   "source": [
    "iskollari = ['TA','SA','SB','SC','BA','BB']\n",
    "for i in iskollari:\n",
    "    pass\n",
    "    # print(1/0)"
   ]
  },
  {
   "cell_type": "code",
   "execution_count": null,
   "metadata": {
    "ExecuteTime": {
     "end_time": "2022-09-07T13:21:09.296073Z",
     "start_time": "2022-09-07T13:21:08.627770Z"
    }
   },
   "outputs": [],
   "source": [
    "print('lütfen bekleyin, hesaplanıyor...')\n",
    "x = 0\n",
    "for i in range(10000000):\n",
    "    if i % 1000 == 0:\n",
    "        x = x + 1\n",
    "    else:\n",
    "        pass\n",
    "        #sadfadf\n",
    "print('işlem tamam, x=', x)"
   ]
  },
  {
   "cell_type": "markdown",
   "metadata": {
    "id": "mrvxUBem6XaW"
   },
   "source": [
    "## While Loop"
   ]
  },
  {
   "cell_type": "markdown",
   "metadata": {},
   "source": [
    "<div class=\"alert alert-box alert-info\" style=\"font-size:12pt; padding:15px; line-height:150%;\">\n",
    "    <b>Koşullu döngü</b> olarak da adlandırabileceğimiz döngü tipidir, \n",
    "    <p/>Verilen koşul sağlanana kadar döngüye devam eder\n",
    "    <p/>Koşul olarak <b>boolean tipi bir değişken</b> ya da <b>mantıksal bir operatöre</b> ihtiyaç duyar.\n",
    "</div>"
   ]
  },
  {
   "cell_type": "code",
   "execution_count": null,
   "metadata": {
    "ExecuteTime": {
     "end_time": "2022-12-06T13:18:15.219362Z",
     "start_time": "2022-12-06T13:18:15.216157Z"
    },
    "colab": {
     "base_uri": "https://localhost:8080/"
    },
    "executionInfo": {
     "elapsed": 454,
     "status": "ok",
     "timestamp": 1652892114147,
     "user": {
      "displayName": "Alper Aydın",
      "userId": "16424421511940582464"
     },
     "user_tz": -180
    },
    "id": "x4Roak3x6Zrr",
    "outputId": "19308e86-54c7-47c7-cded-c99eacff4497"
   },
   "outputs": [],
   "source": [
    "i = 0\n",
    "while i<6: # True olduğu sürece döngüm çalışır.\n",
    "    print(i)  # print değişkeni güncellemeden önce\n",
    "    i = i + 1\n",
    "print('bitti')"
   ]
  },
  {
   "cell_type": "code",
   "execution_count": null,
   "metadata": {
    "ExecuteTime": {
     "end_time": "2022-12-06T13:18:34.164284Z",
     "start_time": "2022-12-06T13:18:34.161124Z"
    },
    "colab": {
     "base_uri": "https://localhost:8080/"
    },
    "executionInfo": {
     "elapsed": 311,
     "status": "ok",
     "timestamp": 1652892145479,
     "user": {
      "displayName": "Alper Aydın",
      "userId": "16424421511940582464"
     },
     "user_tz": -180
    },
    "id": "pzErJYUoDEK6",
    "outputId": "50c763ea-3c1c-48c9-abd7-c0e8d37644a3"
   },
   "outputs": [],
   "source": [
    "i = 0\n",
    "while i<6:\n",
    "    i = i + 1\n",
    "    print(i)  # print değişkeni güncelledikten sonra\n",
    "print('bitti')"
   ]
  },
  {
   "cell_type": "code",
   "execution_count": null,
   "metadata": {
    "ExecuteTime": {
     "end_time": "2022-12-06T13:21:37.068884Z",
     "start_time": "2022-12-06T13:21:34.065085Z"
    }
   },
   "outputs": [],
   "source": [
    "import time\n",
    "t1 = time.time()\n",
    "\n",
    "i= 0\n",
    "while True:\n",
    "    i = i + 1\n",
    "    t2 = time.time()\n",
    "    \n",
    "    if t2-t1>3:\n",
    "        break\n",
    "        \n",
    "print(i)\n",
    "# 1:  6.856.446\n",
    "# 2:  4.045.134\n",
    "# 3: 14.981.929"
   ]
  },
  {
   "cell_type": "markdown",
   "metadata": {
    "id": "QdBDXA8zDbnM"
   },
   "source": [
    "### break, continue, else, pass"
   ]
  },
  {
   "cell_type": "code",
   "execution_count": null,
   "metadata": {
    "ExecuteTime": {
     "end_time": "2022-12-06T13:22:22.215335Z",
     "start_time": "2022-12-06T13:22:22.212324Z"
    },
    "colab": {
     "base_uri": "https://localhost:8080/"
    },
    "executionInfo": {
     "elapsed": 307,
     "status": "ok",
     "timestamp": 1652892283322,
     "user": {
      "displayName": "Alper Aydın",
      "userId": "16424421511940582464"
     },
     "user_tz": -180
    },
    "id": "RbIaDe-iDUQ4",
    "outputId": "406ac961-b682-412e-9484-f73b9bcf43a9"
   },
   "outputs": [],
   "source": [
    "i = 0\n",
    "while i<6:\n",
    "    i = i + 1\n",
    "    print(i)\n",
    "    if i>2:\n",
    "        break # eğer i 2'ise döngüden çıkar"
   ]
  },
  {
   "cell_type": "code",
   "execution_count": null,
   "metadata": {
    "ExecuteTime": {
     "end_time": "2022-12-06T13:22:38.313187Z",
     "start_time": "2022-12-06T13:22:38.309826Z"
    },
    "colab": {
     "base_uri": "https://localhost:8080/"
    },
    "executionInfo": {
     "elapsed": 358,
     "status": "ok",
     "timestamp": 1652892425005,
     "user": {
      "displayName": "Alper Aydın",
      "userId": "16424421511940582464"
     },
     "user_tz": -180
    },
    "id": "Tz3OvyojD2rn",
    "outputId": "2785f194-7261-48be-e60a-46d43f539e3d"
   },
   "outputs": [],
   "source": [
    "i = 0\n",
    "while i<6:\n",
    "    i = i + 1\n",
    "    if i<=2:\n",
    "        continue # eğer i 2'den küçükse continue ile while satırına geri döner\n",
    "    print(i)"
   ]
  },
  {
   "cell_type": "code",
   "execution_count": null,
   "metadata": {
    "ExecuteTime": {
     "end_time": "2022-12-06T13:23:01.092596Z",
     "start_time": "2022-12-06T13:23:01.089286Z"
    },
    "colab": {
     "base_uri": "https://localhost:8080/"
    },
    "executionInfo": {
     "elapsed": 427,
     "status": "ok",
     "timestamp": 1652892596986,
     "user": {
      "displayName": "Alper Aydın",
      "userId": "16424421511940582464"
     },
     "user_tz": -180
    },
    "id": "Fb_zUK5BEzLu",
    "outputId": "0f530ab4-4cc4-44f0-d481-a2fc30af8397"
   },
   "outputs": [],
   "source": [
    "i = 0\n",
    "while i<6:\n",
    "    i += 1\n",
    "    print(i)\n",
    "else: # döngü bittiktek sonra çalışması istenen işler için kullanılır. döngüden break ile çıkılırsa else çalışmaz\n",
    "    print('döngü tamamlandı') "
   ]
  },
  {
   "cell_type": "code",
   "execution_count": null,
   "metadata": {
    "ExecuteTime": {
     "end_time": "2022-12-06T13:23:08.647663Z",
     "start_time": "2022-12-06T13:23:08.644502Z"
    },
    "colab": {
     "base_uri": "https://localhost:8080/"
    },
    "executionInfo": {
     "elapsed": 512,
     "status": "ok",
     "timestamp": 1652892691098,
     "user": {
      "displayName": "Alper Aydın",
      "userId": "16424421511940582464"
     },
     "user_tz": -180
    },
    "id": "IH2EVA6XFKhS",
    "outputId": "fca71c49-36fb-4e30-c356-32b8dad3a207"
   },
   "outputs": [],
   "source": [
    "i = 0\n",
    "while i<6:\n",
    "    i += 1\n",
    "    print(i)\n",
    "    if i>2: break\n",
    "\n",
    "else: # döngü bittiktek sonra çalışması istenen işler için kullanılır. döngüden break ile çıkılırsa else çalışmaz\n",
    "    print('döngü tamamlandı') \n",
    "    "
   ]
  },
  {
   "cell_type": "code",
   "execution_count": null,
   "metadata": {
    "ExecuteTime": {
     "end_time": "2022-12-06T13:23:21.701536Z",
     "start_time": "2022-12-06T13:23:21.698829Z"
    },
    "colab": {
     "base_uri": "https://localhost:8080/"
    },
    "executionInfo": {
     "elapsed": 342,
     "status": "ok",
     "timestamp": 1652892317864,
     "user": {
      "displayName": "Alper Aydın",
      "userId": "16424421511940582464"
     },
     "user_tz": -180
    },
    "id": "YCTnnqZrDrlp",
    "outputId": "61a44e3d-e641-4a3a-c4b5-25c6700c6e0a"
   },
   "outputs": [],
   "source": [
    "i = 0\n",
    "while i<6:\n",
    "    i += 1\n",
    "    pass\n",
    "\n",
    "print(i) # döngü tamamlandıktan sonra i'nin son ulaştığı değeri gösterir"
   ]
  },
  {
   "cell_type": "markdown",
   "metadata": {},
   "source": [
    "# Quiz"
   ]
  },
  {
   "cell_type": "code",
   "execution_count": null,
   "metadata": {
    "ExecuteTime": {
     "end_time": "2022-07-26T07:31:12.267829Z",
     "start_time": "2022-07-26T07:15:50.116240Z"
    }
   },
   "outputs": [],
   "source": [
    "import imp\n",
    "imp.reload(log)\n",
    "log.topic_id='10_KosullarVeDonguler'\n",
    "log.Quiz()"
   ]
  }
 ],
 "metadata": {
  "kernelspec": {
   "display_name": "Python 3",
   "language": "python",
   "name": "python3"
  },
  "language_info": {
   "codemirror_mode": {
    "name": "ipython",
    "version": 3
   },
   "file_extension": ".py",
   "mimetype": "text/x-python",
   "name": "python",
   "nbconvert_exporter": "python",
   "pygments_lexer": "ipython3",
   "version": "3.7.6"
  },
  "toc": {
   "base_numbering": 1,
   "nav_menu": {},
   "number_sections": true,
   "sideBar": true,
   "skip_h1_title": false,
   "title_cell": "Table of Contents",
   "title_sidebar": "Contents",
   "toc_cell": false,
   "toc_position": {
    "height": "calc(100% - 180px)",
    "left": "10px",
    "top": "150px",
    "width": "371.594px"
   },
   "toc_section_display": true,
   "toc_window_display": true
  },
  "varInspector": {
   "cols": {
    "lenName": 16,
    "lenType": 16,
    "lenVar": 40
   },
   "kernels_config": {
    "python": {
     "delete_cmd_postfix": "",
     "delete_cmd_prefix": "del ",
     "library": "var_list.py",
     "varRefreshCmd": "print(var_dic_list())"
    },
    "r": {
     "delete_cmd_postfix": ") ",
     "delete_cmd_prefix": "rm(",
     "library": "var_list.r",
     "varRefreshCmd": "cat(var_dic_list()) "
    }
   },
   "types_to_exclude": [
    "module",
    "function",
    "builtin_function_or_method",
    "instance",
    "_Feature"
   ],
   "window_display": true
  }
 },
 "nbformat": 4,
 "nbformat_minor": 4
}
