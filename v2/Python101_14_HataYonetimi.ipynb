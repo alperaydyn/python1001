{
 "cells": [
  {
   "cell_type": "code",
   "execution_count": null,
   "metadata": {
    "ExecuteTime": {
     "end_time": "2022-11-22T08:12:58.280383Z",
     "start_time": "2022-11-22T08:12:58.069450Z"
    }
   },
   "outputs": [],
   "source": [
    "import sys\n",
    "sys.path.append('/data/ECS/PythonTutorial/')\n",
    "import log\n",
    "log.topic_id = '14_HataYonetimi'"
   ]
  },
  {
   "cell_type": "markdown",
   "metadata": {
    "id": "9tGzJa19EFvZ"
   },
   "source": [
    "## Hata Yakalama"
   ]
  },
  {
   "cell_type": "code",
   "execution_count": null,
   "metadata": {
    "ExecuteTime": {
     "end_time": "2022-11-22T08:12:59.186736Z",
     "start_time": "2022-11-22T08:12:59.125659Z"
    },
    "colab": {
     "base_uri": "https://localhost:8080/",
     "height": 169
    },
    "executionInfo": {
     "elapsed": 13,
     "status": "error",
     "timestamp": 1652950757763,
     "user": {
      "displayName": "Alper Aydın",
      "userId": "16424421511940582464"
     },
     "user_tz": -180
    },
    "id": "pSj7KvvaEHtP",
    "outputId": "029b165f-81b8-4d93-9ca5-4018fbf3a986"
   },
   "outputs": [],
   "source": [
    "print(1/0)"
   ]
  },
  {
   "cell_type": "markdown",
   "metadata": {
    "id": "-PLaj97sEdzR"
   },
   "source": [
    "### Sık Karşılaşılan Hatalar"
   ]
  },
  {
   "cell_type": "markdown",
   "metadata": {
    "id": "7dboGqy_EhcB"
   },
   "source": [
    "#### IndexError\n",
    "\n",
    "bir kolleksiyonun sahip olmadığı bir elemanının çağırılması durumunda karşılaşılan hatadır."
   ]
  },
  {
   "cell_type": "code",
   "execution_count": null,
   "metadata": {
    "ExecuteTime": {
     "end_time": "2022-11-22T08:14:19.812327Z",
     "start_time": "2022-11-22T08:14:19.805924Z"
    },
    "colab": {
     "base_uri": "https://localhost:8080/",
     "height": 187
    },
    "executionInfo": {
     "elapsed": 6,
     "status": "error",
     "timestamp": 1652950769274,
     "user": {
      "displayName": "Alper Aydın",
      "userId": "16424421511940582464"
     },
     "user_tz": -180
    },
    "id": "oxL9Rh_uEtoW",
    "outputId": "b9e422ce-e332-4b73-ed77-b74e47d49bad"
   },
   "outputs": [],
   "source": [
    "a = [1,2,3,4]\n",
    "print(a[5])"
   ]
  },
  {
   "cell_type": "markdown",
   "metadata": {
    "id": "3xSXSUg0FHm5"
   },
   "source": [
    "#### KeyError\n",
    "\n",
    "Bir dictionary'nin sahip olmadığı bir key değer ile çağırılması"
   ]
  },
  {
   "cell_type": "code",
   "execution_count": null,
   "metadata": {
    "ExecuteTime": {
     "end_time": "2022-11-22T08:14:22.990507Z",
     "start_time": "2022-11-22T08:14:22.983780Z"
    },
    "colab": {
     "base_uri": "https://localhost:8080/",
     "height": 187
    },
    "executionInfo": {
     "elapsed": 3,
     "status": "error",
     "timestamp": 1652950770416,
     "user": {
      "displayName": "Alper Aydın",
      "userId": "16424421511940582464"
     },
     "user_tz": -180
    },
    "id": "I8C3lb3pE59X",
    "outputId": "76d1ea83-029f-4d4a-c6b5-6769d944e040"
   },
   "outputs": [],
   "source": [
    "harfler = {'a':1, 'b':2, 'c':3}\n",
    "print(harfler['d'])"
   ]
  },
  {
   "cell_type": "markdown",
   "metadata": {
    "id": "K4bEA3L_FXa5"
   },
   "source": [
    "#### TypeError\n",
    "\n",
    "Bir operatör veya fonksiyonun uygun olmayan tipteki bir veriye uygulanması"
   ]
  },
  {
   "cell_type": "code",
   "execution_count": null,
   "metadata": {
    "ExecuteTime": {
     "end_time": "2022-11-22T08:14:48.148027Z",
     "start_time": "2022-11-22T08:14:48.141563Z"
    },
    "colab": {
     "base_uri": "https://localhost:8080/",
     "height": 169
    },
    "executionInfo": {
     "elapsed": 2,
     "status": "error",
     "timestamp": 1652950771177,
     "user": {
      "displayName": "Alper Aydın",
      "userId": "16424421511940582464"
     },
     "user_tz": -180
    },
    "id": "OxKnLQEJFcnX",
    "outputId": "a4ffb02c-38e2-415e-aa9e-6565532b1766"
   },
   "outputs": [],
   "source": [
    "print(2 + '2')"
   ]
  },
  {
   "cell_type": "code",
   "execution_count": null,
   "metadata": {
    "ExecuteTime": {
     "end_time": "2022-11-22T08:15:18.848588Z",
     "start_time": "2022-11-22T08:15:18.842310Z"
    }
   },
   "outputs": [],
   "source": [
    "print('2' + 2)"
   ]
  },
  {
   "cell_type": "markdown",
   "metadata": {
    "id": "Y-h29kOMFf39"
   },
   "source": [
    "#### ValueError\n",
    "\n",
    "Bir fonksiyonun uygun türde olmayan bir değişken ile çağırılması"
   ]
  },
  {
   "cell_type": "code",
   "execution_count": null,
   "metadata": {
    "ExecuteTime": {
     "end_time": "2022-11-22T08:15:49.525604Z",
     "start_time": "2022-11-22T08:15:49.519361Z"
    },
    "colab": {
     "base_uri": "https://localhost:8080/",
     "height": 169
    },
    "executionInfo": {
     "elapsed": 4,
     "status": "error",
     "timestamp": 1652950771472,
     "user": {
      "displayName": "Alper Aydın",
      "userId": "16424421511940582464"
     },
     "user_tz": -180
    },
    "id": "ZGRfmGzfFemM",
    "outputId": "bd13b70e-6e08-43b4-b1ff-6b8beab1c18c"
   },
   "outputs": [],
   "source": [
    "int('abc')"
   ]
  },
  {
   "cell_type": "markdown",
   "metadata": {
    "id": "c-oyvJoVGH1A"
   },
   "source": [
    "#### NameError\n",
    "\n",
    "Tanımlanmamış bir değişken çağırılması durumunda alınan hatadır."
   ]
  },
  {
   "cell_type": "code",
   "execution_count": null,
   "metadata": {
    "ExecuteTime": {
     "end_time": "2022-11-22T08:15:51.188702Z",
     "start_time": "2022-11-22T08:15:51.182443Z"
    },
    "colab": {
     "base_uri": "https://localhost:8080/",
     "height": 169
    },
    "executionInfo": {
     "elapsed": 426,
     "status": "error",
     "timestamp": 1652950773400,
     "user": {
      "displayName": "Alper Aydın",
      "userId": "16424421511940582464"
     },
     "user_tz": -180
    },
    "id": "IDgH6N14GK75",
    "outputId": "92572f02-f00d-403b-8fcd-9266ac888117"
   },
   "outputs": [],
   "source": [
    "print(yaş)"
   ]
  },
  {
   "cell_type": "markdown",
   "metadata": {
    "id": "4VuiQs-lGZRf"
   },
   "source": [
    "#### ZeroDivisionError\n",
    "\n",
    "Bölme işleminde paydanın 0 olması"
   ]
  },
  {
   "cell_type": "code",
   "execution_count": null,
   "metadata": {
    "ExecuteTime": {
     "end_time": "2022-11-22T08:16:12.939174Z",
     "start_time": "2022-11-22T08:16:12.932863Z"
    },
    "colab": {
     "base_uri": "https://localhost:8080/",
     "height": 169
    },
    "executionInfo": {
     "elapsed": 8,
     "status": "error",
     "timestamp": 1652950775410,
     "user": {
      "displayName": "Alper Aydın",
      "userId": "16424421511940582464"
     },
     "user_tz": -180
    },
    "id": "s1N5EmBmGc3m",
    "outputId": "87a7db14-1ace-45ee-ae0f-427bfc3dd281"
   },
   "outputs": [],
   "source": [
    "print(1/0)"
   ]
  },
  {
   "cell_type": "markdown",
   "metadata": {
    "id": "1kJ2q6OtG9Qv"
   },
   "source": [
    "## Hata Yönetimi (try-except-finally)\n",
    "\n",
    "Birçok durumda olası hataları önceden planlayarak kodun içerisinde bu hatalara karşı hazırlıklı olmamız gerekir.\n",
    "\n",
    "Bunu saplamak için python'da try-except-finally ifadeleri kullanılır."
   ]
  },
  {
   "cell_type": "markdown",
   "metadata": {
    "id": "O9S7usVXI6L_"
   },
   "source": [
    "### try-except"
   ]
  },
  {
   "cell_type": "code",
   "execution_count": null,
   "metadata": {
    "ExecuteTime": {
     "end_time": "2022-11-22T08:33:39.047460Z",
     "start_time": "2022-11-22T08:33:39.044359Z"
    },
    "colab": {
     "base_uri": "https://localhost:8080/"
    },
    "executionInfo": {
     "elapsed": 1,
     "status": "ok",
     "timestamp": 1652950776886,
     "user": {
      "displayName": "Alper Aydın",
      "userId": "16424421511940582464"
     },
     "user_tz": -180
    },
    "id": "FqcsZE1PHVGo",
    "outputId": "c99bbb47-d303-4b25-a066-8c74e8399928"
   },
   "outputs": [],
   "source": [
    "def bolme(a,b):\n",
    "    try:\n",
    "        d = a / b\n",
    "        print(d)\n",
    "        #asda\n",
    "        #asdfa\n",
    "    except:\n",
    "        print('işlemde hata var')\n",
    "\n",
    "bolme(1,2)"
   ]
  },
  {
   "cell_type": "code",
   "execution_count": null,
   "metadata": {
    "ExecuteTime": {
     "end_time": "2022-11-22T08:38:15.665073Z",
     "start_time": "2022-11-22T08:38:15.661677Z"
    },
    "colab": {
     "base_uri": "https://localhost:8080/"
    },
    "executionInfo": {
     "elapsed": 1,
     "status": "ok",
     "timestamp": 1652950777266,
     "user": {
      "displayName": "Alper Aydın",
      "userId": "16424421511940582464"
     },
     "user_tz": -180
    },
    "id": "hfHZot_8HjCX",
    "outputId": "c86f1433-6a40-494a-dfc5-b89fdfd7ece9"
   },
   "outputs": [],
   "source": [
    "def list_bolme(a,b):\n",
    "    \"\"\"\n",
    "        a listesinin ilk elemanını b'ye böler\n",
    "    \"\"\"\n",
    "    try:\n",
    "        c = a[0] / b\n",
    "        print(c)\n",
    "    except Exception as hata:\n",
    "        print('işlemde hata var:', hata)\n",
    "\n",
    "list_bolme([],0)"
   ]
  },
  {
   "cell_type": "markdown",
   "metadata": {
    "id": "tR47Lx_ZHvAe"
   },
   "source": [
    "Belirli bir hata türüne karşı farklı bir aksiyon almak istersek"
   ]
  },
  {
   "cell_type": "code",
   "execution_count": null,
   "metadata": {
    "ExecuteTime": {
     "end_time": "2022-07-26T13:42:10.990785Z",
     "start_time": "2022-07-26T13:42:10.985542Z"
    },
    "colab": {
     "base_uri": "https://localhost:8080/"
    },
    "executionInfo": {
     "elapsed": 1,
     "status": "ok",
     "timestamp": 1652950777709,
     "user": {
      "displayName": "Alper Aydın",
      "userId": "16424421511940582464"
     },
     "user_tz": -180
    },
    "id": "FkcKEVeOH3yA",
    "outputId": "9fd1a522-e393-4c5a-dc47-4ee84131b027"
   },
   "outputs": [],
   "source": [
    "def bolme(a,b):\n",
    "    \"\"\"\n",
    "    verilen a ve b parametrelerinin bölme işlemini yapar\n",
    "    \n",
    "    Returns:\n",
    "        None: eğer ZeroDivision dışında bir hata ile karşılaşırsa None değeri döner\n",
    "        float: eğer hata ile karşılaşmazsa bölüm değerini döner\n",
    "        int: eğer b parametresi 0 ise 0 değerini döner.\n",
    "    \"\"\"\n",
    "    try:\n",
    "        c = a / b\n",
    "        print(c)\n",
    "        \n",
    "        x = [0,1,2]\n",
    "        y = x[a]\n",
    "        \n",
    "        d = {'a':1, 'b':2, 'c':3}\n",
    "        d[b]\n",
    "        \n",
    "    except ZeroDivisionError:\n",
    "        return 0 #print('payda sıfır olamaz')\n",
    "        \n",
    "    except IndexError:\n",
    "        print(f'{a} indexi x listesinde bulunamadı')\n",
    "        \n",
    "    except Exception as exp:\n",
    "        print('başka bir hata var:', exp)\n",
    "\n",
    "c = bolme(1,1)\n",
    "print(c, type(c))"
   ]
  },
  {
   "cell_type": "code",
   "execution_count": null,
   "metadata": {
    "ExecuteTime": {
     "end_time": "2022-07-26T13:42:54.173396Z",
     "start_time": "2022-07-26T13:42:54.169302Z"
    },
    "colab": {
     "base_uri": "https://localhost:8080/"
    },
    "executionInfo": {
     "elapsed": 2,
     "status": "ok",
     "timestamp": 1652950778113,
     "user": {
      "displayName": "Alper Aydın",
      "userId": "16424421511940582464"
     },
     "user_tz": -180
    },
    "id": "SARNSSC1INQH",
    "outputId": "ecba1d97-5343-444d-f178-737ca9d91a35"
   },
   "outputs": [],
   "source": [
    "def bolme(a,b=None):\n",
    "    try:\n",
    "        c = a / b\n",
    "        print(c)\n",
    "    except ZeroDivisionError:\n",
    "        print('payda sıfır olamaz')\n",
    "        \n",
    "    except Exception as exp:\n",
    "        print('başka bir hata var: \\n', type(exp), exp )\n",
    "\n",
    "bolme(1)"
   ]
  },
  {
   "cell_type": "markdown",
   "metadata": {
    "id": "v8n3AjhhIzr9"
   },
   "source": [
    "### finally\n",
    "\n",
    "try-excep bloğu hata yakalasa da yakalamasa da sonuç olarak çalışması istenen kodun yazıldığı kısımdır. "
   ]
  },
  {
   "cell_type": "code",
   "execution_count": null,
   "metadata": {
    "ExecuteTime": {
     "end_time": "2022-09-14T07:52:50.163782Z",
     "start_time": "2022-09-14T07:52:50.159245Z"
    },
    "colab": {
     "base_uri": "https://localhost:8080/"
    },
    "executionInfo": {
     "elapsed": 6,
     "status": "ok",
     "timestamp": 1652950778604,
     "user": {
      "displayName": "Alper Aydın",
      "userId": "16424421511940582464"
     },
     "user_tz": -180
    },
    "id": "G_euL7QkI4Dz",
    "outputId": "77873857-9de5-4a5e-87ce-020f296c6d9f"
   },
   "outputs": [],
   "source": [
    "def bolme(a,b=None):\n",
    "    try:\n",
    "        c = a / b\n",
    "        print(c)\n",
    "        sonuc = \"başarılı\"\n",
    "\n",
    "    except ZeroDivisionError:\n",
    "        print('payda sıfır olamaz')\n",
    "        sonuc = \"başarısız\"\n",
    "\n",
    "    except Exception as exp:\n",
    "        print('başka bir hata var: \\n', type(exp), exp )\n",
    "        sonuc = \"başarısız\"\n",
    "\n",
    "    finally:\n",
    "        print('fonksiyon sonucu', sonuc)\n",
    "\n",
    "\n",
    "bolme(4,0)"
   ]
  },
  {
   "cell_type": "code",
   "execution_count": null,
   "metadata": {
    "ExecuteTime": {
     "end_time": "2022-09-14T07:55:30.012708Z",
     "start_time": "2022-09-14T07:55:30.007766Z"
    }
   },
   "outputs": [],
   "source": [
    "def bolme(a,b):\n",
    "    try:\n",
    "        return a/b\n",
    "    except:\n",
    "        return 0\n",
    "bolme(1,0)"
   ]
  }
 ],
 "metadata": {
  "kernelspec": {
   "display_name": "Python 3",
   "language": "python",
   "name": "python3"
  },
  "language_info": {
   "codemirror_mode": {
    "name": "ipython",
    "version": 3
   },
   "file_extension": ".py",
   "mimetype": "text/x-python",
   "name": "python",
   "nbconvert_exporter": "python",
   "pygments_lexer": "ipython3",
   "version": "3.7.6"
  },
  "toc": {
   "base_numbering": 1,
   "nav_menu": {},
   "number_sections": true,
   "sideBar": true,
   "skip_h1_title": false,
   "title_cell": "Table of Contents",
   "title_sidebar": "Contents",
   "toc_cell": false,
   "toc_position": {},
   "toc_section_display": true,
   "toc_window_display": true
  },
  "varInspector": {
   "cols": {
    "lenName": 16,
    "lenType": 16,
    "lenVar": 40
   },
   "kernels_config": {
    "python": {
     "delete_cmd_postfix": "",
     "delete_cmd_prefix": "del ",
     "library": "var_list.py",
     "varRefreshCmd": "print(var_dic_list())"
    },
    "r": {
     "delete_cmd_postfix": ") ",
     "delete_cmd_prefix": "rm(",
     "library": "var_list.r",
     "varRefreshCmd": "cat(var_dic_list()) "
    }
   },
   "types_to_exclude": [
    "module",
    "function",
    "builtin_function_or_method",
    "instance",
    "_Feature"
   ],
   "window_display": true
  }
 },
 "nbformat": 4,
 "nbformat_minor": 4
}
